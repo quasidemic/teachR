{
 "cells": [
  {
   "cell_type": "code",
   "execution_count": 45,
   "metadata": {},
   "outputs": [
    {
     "name": "stderr",
     "output_type": "stream",
     "text": [
      "Parsed with column specification:\n",
      "cols(\n",
      "  idno = col_double(),\n",
      "  netustm = col_double(),\n",
      "  ppltrst = col_double(),\n",
      "  vote = col_character(),\n",
      "  prtvtddk = col_character(),\n",
      "  lvpntyr = col_character(),\n",
      "  tygrtr = col_character(),\n",
      "  gndr = col_character(),\n",
      "  yrbrn = col_double(),\n",
      "  edlvddk = col_character(),\n",
      "  eduyrs = col_double(),\n",
      "  wkhct = col_double(),\n",
      "  wkhtot = col_double(),\n",
      "  grspnum = col_double(),\n",
      "  frlgrsp = col_double(),\n",
      "  inwtm = col_double()\n",
      ")\n"
     ]
    }
   ],
   "source": [
    "# Setup\n",
    "\n",
    "library(tidyverse)\n",
    "data <- read_csv(\"https://github.com/CALDISS-AAU/workshop_R-intro/raw/master/data/ESS2018DK_subset.csv\")"
   ]
  },
  {
   "cell_type": "markdown",
   "metadata": {
    "slideshow": {
     "slide_type": "slide"
    }
   },
   "source": [
    "# Recoding and creating variables\n",
    "\n",
    "Creating variables and (simple) recoding is usually done in the same way. The only difference being whether the recoding is assigned to a new variable or overwriting an existing (we are here only looking at recoding by arithmetic operations and not by replacing values)."
   ]
  },
  {
   "cell_type": "markdown",
   "metadata": {
    "slideshow": {
     "slide_type": "fragment"
    }
   },
   "source": [
    "In base R, we simply specify a variable that is not in the data and specify the contents:"
   ]
  },
  {
   "cell_type": "code",
   "execution_count": 46,
   "metadata": {
    "slideshow": {
     "slide_type": "fragment"
    }
   },
   "outputs": [
    {
     "data": {
      "text/html": [
       "<ol class=list-inline>\n",
       "\t<li>1.98333333333333</li>\n",
       "\t<li>0.916666666666667</li>\n",
       "\t<li>0.616666666666667</li>\n",
       "\t<li>0.716666666666667</li>\n",
       "\t<li>1.03333333333333</li>\n",
       "\t<li>1.01666666666667</li>\n",
       "</ol>\n"
      ],
      "text/latex": [
       "\\begin{enumerate*}\n",
       "\\item 1.98333333333333\n",
       "\\item 0.916666666666667\n",
       "\\item 0.616666666666667\n",
       "\\item 0.716666666666667\n",
       "\\item 1.03333333333333\n",
       "\\item 1.01666666666667\n",
       "\\end{enumerate*}\n"
      ],
      "text/markdown": [
       "1. 1.98333333333333\n",
       "2. 0.916666666666667\n",
       "3. 0.616666666666667\n",
       "4. 0.716666666666667\n",
       "5. 1.03333333333333\n",
       "6. 1.01666666666667\n",
       "\n",
       "\n"
      ],
      "text/plain": [
       "[1] 1.9833333 0.9166667 0.6166667 0.7166667 1.0333333 1.0166667"
      ]
     },
     "metadata": {},
     "output_type": "display_data"
    }
   ],
   "source": [
    "data$inwth <- data$inwtm / 60 # Creating variable for length of interview in hours\n",
    "\n",
    "head(data$inwth)"
   ]
  },
  {
   "cell_type": "code",
   "execution_count": 47,
   "metadata": {
    "slideshow": {
     "slide_type": "fragment"
    }
   },
   "outputs": [],
   "source": [
    "data$inwth <- NULL # This line removes the variable"
   ]
  },
  {
   "cell_type": "markdown",
   "metadata": {
    "slideshow": {
     "slide_type": "slide"
    }
   },
   "source": [
    "### Recoding and creating variables using `dplyr`\n",
    "\n",
    "The function `mutate()` in `dplyr` is use for creating and recoding variables:"
   ]
  },
  {
   "cell_type": "code",
   "execution_count": 48,
   "metadata": {
    "slideshow": {
     "slide_type": "fragment"
    }
   },
   "outputs": [
    {
     "data": {
      "text/html": [
       "<ol class=list-inline>\n",
       "\t<li>1.98333333333333</li>\n",
       "\t<li>0.916666666666667</li>\n",
       "\t<li>0.616666666666667</li>\n",
       "\t<li>0.716666666666667</li>\n",
       "\t<li>1.03333333333333</li>\n",
       "\t<li>1.01666666666667</li>\n",
       "</ol>\n"
      ],
      "text/latex": [
       "\\begin{enumerate*}\n",
       "\\item 1.98333333333333\n",
       "\\item 0.916666666666667\n",
       "\\item 0.616666666666667\n",
       "\\item 0.716666666666667\n",
       "\\item 1.03333333333333\n",
       "\\item 1.01666666666667\n",
       "\\end{enumerate*}\n"
      ],
      "text/markdown": [
       "1. 1.98333333333333\n",
       "2. 0.916666666666667\n",
       "3. 0.616666666666667\n",
       "4. 0.716666666666667\n",
       "5. 1.03333333333333\n",
       "6. 1.01666666666667\n",
       "\n",
       "\n"
      ],
      "text/plain": [
       "[1] 1.9833333 0.9166667 0.6166667 0.7166667 1.0333333 1.0166667"
      ]
     },
     "metadata": {},
     "output_type": "display_data"
    }
   ],
   "source": [
    "data <- data %>%\n",
    "    mutate(inwth = inwtm / 60)\n",
    "\n",
    "head(data$inwth)"
   ]
  },
  {
   "cell_type": "markdown",
   "metadata": {
    "slideshow": {
     "slide_type": "slide"
    }
   },
   "source": [
    "# Classes in R\n",
    "\n",
    "R differentiates between objects via the \"class\" of the object.\n",
    "\n",
    "The function `class()` is used to check the class of an object:"
   ]
  },
  {
   "cell_type": "code",
   "execution_count": 49,
   "metadata": {
    "slideshow": {
     "slide_type": "fragment"
    }
   },
   "outputs": [],
   "source": [
    "name = \"keenan\"\n",
    "year = 1964"
   ]
  },
  {
   "cell_type": "code",
   "execution_count": 50,
   "metadata": {
    "slideshow": {
     "slide_type": "fragment"
    }
   },
   "outputs": [
    {
     "data": {
      "text/html": [
       "'character'"
      ],
      "text/latex": [
       "'character'"
      ],
      "text/markdown": [
       "'character'"
      ],
      "text/plain": [
       "[1] \"character\""
      ]
     },
     "metadata": {},
     "output_type": "display_data"
    }
   ],
   "source": [
    "class(name)"
   ]
  },
  {
   "cell_type": "code",
   "execution_count": 51,
   "metadata": {
    "slideshow": {
     "slide_type": "fragment"
    }
   },
   "outputs": [
    {
     "data": {
      "text/html": [
       "'numeric'"
      ],
      "text/latex": [
       "'numeric'"
      ],
      "text/markdown": [
       "'numeric'"
      ],
      "text/plain": [
       "[1] \"numeric\""
      ]
     },
     "metadata": {},
     "output_type": "display_data"
    }
   ],
   "source": [
    "class(year)"
   ]
  },
  {
   "cell_type": "markdown",
   "metadata": {
    "slideshow": {
     "slide_type": "slide"
    }
   },
   "source": [
    "Single variables/vectors can only contain values of the same class. The `class()` function therefore works on vectors too.\n",
    "\n",
    "The variable `tygrtr` (Retire permanently, age too young) seems like a variable that should contain numeric values (the age). However, looking at the first couple of rows, we see that it also contains text values:"
   ]
  },
  {
   "cell_type": "code",
   "execution_count": 52,
   "metadata": {
    "slideshow": {
     "slide_type": "fragment"
    }
   },
   "outputs": [
    {
     "data": {
      "text/html": [
       "<ol class=list-inline>\n",
       "\t<li>'Never too young'</li>\n",
       "\t<li>'67'</li>\n",
       "\t<li>NA</li>\n",
       "\t<li>'40'</li>\n",
       "\t<li>'50'</li>\n",
       "\t<li>'60'</li>\n",
       "</ol>\n"
      ],
      "text/latex": [
       "\\begin{enumerate*}\n",
       "\\item 'Never too young'\n",
       "\\item '67'\n",
       "\\item NA\n",
       "\\item '40'\n",
       "\\item '50'\n",
       "\\item '60'\n",
       "\\end{enumerate*}\n"
      ],
      "text/markdown": [
       "1. 'Never too young'\n",
       "2. '67'\n",
       "3. NA\n",
       "4. '40'\n",
       "5. '50'\n",
       "6. '60'\n",
       "\n",
       "\n"
      ],
      "text/plain": [
       "[1] \"Never too young\" \"67\"              NA                \"40\"             \n",
       "[5] \"50\"              \"60\"             "
      ]
     },
     "metadata": {},
     "output_type": "display_data"
    }
   ],
   "source": [
    "head(data$tygrtr)"
   ]
  },
  {
   "cell_type": "markdown",
   "metadata": {
    "slideshow": {
     "slide_type": "fragment"
    }
   },
   "source": [
    "When we check the class, we also see that the values are stored as text:"
   ]
  },
  {
   "cell_type": "code",
   "execution_count": 53,
   "metadata": {
    "slideshow": {
     "slide_type": "fragment"
    }
   },
   "outputs": [
    {
     "data": {
      "text/html": [
       "'character'"
      ],
      "text/latex": [
       "'character'"
      ],
      "text/markdown": [
       "'character'"
      ],
      "text/plain": [
       "[1] \"character\""
      ]
     },
     "metadata": {},
     "output_type": "display_data"
    }
   ],
   "source": [
    "class(data$tygrtr)"
   ]
  },
  {
   "cell_type": "markdown",
   "metadata": {
    "slideshow": {
     "slide_type": "slide"
    }
   },
   "source": [
    "This means that we cannot perform calculations with this variable:"
   ]
  },
  {
   "cell_type": "code",
   "execution_count": 54,
   "metadata": {
    "slideshow": {
     "slide_type": "fragment"
    }
   },
   "outputs": [
    {
     "data": {
      "text/html": [
       "NA"
      ],
      "text/latex": [
       "NA"
      ],
      "text/markdown": [
       "NA"
      ],
      "text/plain": [
       "[1] NA"
      ]
     },
     "metadata": {},
     "output_type": "display_data"
    }
   ],
   "source": [
    "max(data$tygrtr)"
   ]
  },
  {
   "cell_type": "markdown",
   "metadata": {
    "slideshow": {
     "slide_type": "slide"
    }
   },
   "source": [
    "## Class coercion\n",
    "\n",
    "In most cases, R can coerce values from one class to another. When doing this, values that are incompatible with the class are coded to missing (`NA`) so beware!\n",
    "\n",
    "Values can be coerced to character values with `as.character()`\n",
    "\n",
    "Values can be coerved to numeric values with `as.numeric()`\n",
    "\n",
    "Here we coerce the variable to be numeric (notice the warning):"
   ]
  },
  {
   "cell_type": "code",
   "execution_count": 55,
   "metadata": {
    "slideshow": {
     "slide_type": "fragment"
    }
   },
   "outputs": [
    {
     "name": "stderr",
     "output_type": "stream",
     "text": [
      "Warning message:\n",
      "\"NAs introduced by coercion\""
     ]
    }
   ],
   "source": [
    "data <- mutate(data, tygrtr = as.numeric(tygrtr))"
   ]
  },
  {
   "cell_type": "markdown",
   "metadata": {
    "slideshow": {
     "slide_type": "fragment"
    }
   },
   "source": [
    "Now the variable can be used in calculations:"
   ]
  },
  {
   "cell_type": "code",
   "execution_count": 56,
   "metadata": {
    "slideshow": {
     "slide_type": "fragment"
    }
   },
   "outputs": [
    {
     "data": {
      "text/html": [
       "88"
      ],
      "text/latex": [
       "88"
      ],
      "text/markdown": [
       "88"
      ],
      "text/plain": [
       "[1] 88"
      ]
     },
     "metadata": {},
     "output_type": "display_data"
    }
   ],
   "source": [
    "max(data$tygrtr, na.rm = TRUE)"
   ]
  },
  {
   "cell_type": "markdown",
   "metadata": {},
   "source": [
    "# Missing values"
   ]
  },
  {
   "cell_type": "markdown",
   "metadata": {
    "slideshow": {
     "slide_type": "slide"
    }
   },
   "source": [
    "Data will often contain missing values. Missing values can denote a lot of things like a non-response, an invalid answer, an inaccessible information and so on. \n",
    "\n",
    "Missing values are used to assign a value without assigning a value. They are denotes as `NA` in R.\n",
    "\n",
    "The `summary()` function includes information about the number of missing values:"
   ]
  },
  {
   "cell_type": "code",
   "execution_count": 57,
   "metadata": {
    "slideshow": {
     "slide_type": "fragment"
    }
   },
   "outputs": [
    {
     "data": {
      "text/plain": [
       "   Min. 1st Qu.  Median    Mean 3rd Qu.    Max.    NA's \n",
       "  17.00   50.00   59.00   62.68   70.00  613.00       6 "
      ]
     },
     "metadata": {},
     "output_type": "display_data"
    }
   ],
   "source": [
    "summary(data$inwtm)"
   ]
  },
  {
   "cell_type": "markdown",
   "metadata": {
    "slideshow": {
     "slide_type": "slide"
    }
   },
   "source": [
    "Missing values are neither high or low in R. This means that it is not possible to perform computations on missing values:"
   ]
  },
  {
   "cell_type": "code",
   "execution_count": 58,
   "metadata": {
    "slideshow": {
     "slide_type": "fragment"
    }
   },
   "outputs": [
    {
     "data": {
      "text/html": [
       "&lt;NA&gt;"
      ],
      "text/latex": [
       "<NA>"
      ],
      "text/markdown": [
       "&lt;NA&gt;"
      ],
      "text/plain": [
       "[1] NA"
      ]
     },
     "metadata": {},
     "output_type": "display_data"
    },
    {
     "data": {
      "text/html": [
       "&lt;NA&gt;"
      ],
      "text/latex": [
       "<NA>"
      ],
      "text/markdown": [
       "&lt;NA&gt;"
      ],
      "text/plain": [
       "[1] NA"
      ]
     },
     "metadata": {},
     "output_type": "display_data"
    },
    {
     "data": {
      "text/html": [
       "&lt;NA&gt;"
      ],
      "text/latex": [
       "<NA>"
      ],
      "text/markdown": [
       "&lt;NA&gt;"
      ],
      "text/plain": [
       "[1] NA"
      ]
     },
     "metadata": {},
     "output_type": "display_data"
    }
   ],
   "source": [
    "min(data$inwtm) # NA is neither high or low - returns NA\n",
    "max(data$inwtm) # NA is neither high or low - returns NA\n",
    "mean(data$inwtm) # NA is neither high or low - returns NA"
   ]
  },
  {
   "cell_type": "markdown",
   "metadata": {
    "slideshow": {
     "slide_type": "fragment"
    }
   },
   "source": [
    "Usually one will have to deal with the missing values in some ways - either by replacing them or removing them."
   ]
  },
  {
   "cell_type": "markdown",
   "metadata": {},
   "source": [
    "## Removing missing observations (listwise deletion)\n",
    "\n",
    "`drop_na()` from `tidyr` is used for listwise deletion. If columns are specified, it would look for missing in those specific columns:"
   ]
  },
  {
   "cell_type": "code",
   "execution_count": 59,
   "metadata": {},
   "outputs": [
    {
     "name": "stdout",
     "output_type": "stream",
     "text": [
      "[1] 1572   17\n",
      "[1] 171  17\n"
     ]
    }
   ],
   "source": [
    "library(tidyr)\n",
    "data_drop_all = drop_na(data)\n",
    "\n",
    "print(dim(data))\n",
    "print(dim(data_drop_all))"
   ]
  },
  {
   "cell_type": "code",
   "execution_count": 60,
   "metadata": {},
   "outputs": [
    {
     "name": "stdout",
     "output_type": "stream",
     "text": [
      "[1] 1572   17\n",
      "[1] 1566   17\n"
     ]
    }
   ],
   "source": [
    "data_drop_specific = drop_na(data, inwtm)\n",
    "\n",
    "print(dim(data))\n",
    "print(dim(data_drop_specific))"
   ]
  },
  {
   "cell_type": "code",
   "execution_count": 61,
   "metadata": {},
   "outputs": [
    {
     "name": "stdout",
     "output_type": "stream",
     "text": [
      "[1] 1572   17\n",
      "[1] 1238   17\n"
     ]
    }
   ],
   "source": [
    "data_drop_several = drop_na(data, inwtm, tygrtr)\n",
    "\n",
    "print(dim(data))\n",
    "print(dim(data_drop_several))"
   ]
  },
  {
   "cell_type": "markdown",
   "metadata": {},
   "source": [
    "## Replacing missing values\n",
    "\n",
    "`replace_na()` is used to replace missing values with a specified value. It can fx be used in combination with mutate:"
   ]
  },
  {
   "cell_type": "code",
   "execution_count": 63,
   "metadata": {},
   "outputs": [
    {
     "data": {
      "text/html": [
       "<table>\n",
       "<thead><tr><th scope=col>idno</th><th scope=col>netustm</th><th scope=col>ppltrst</th><th scope=col>vote</th><th scope=col>prtvtddk</th><th scope=col>lvpntyr</th><th scope=col>tygrtr</th><th scope=col>gndr</th><th scope=col>yrbrn</th><th scope=col>edlvddk</th><th scope=col>eduyrs</th><th scope=col>wkhct</th><th scope=col>wkhtot</th><th scope=col>grspnum</th><th scope=col>frlgrsp</th><th scope=col>inwtm</th><th scope=col>inwth</th><th scope=col>prtvtddk_misreplace</th></tr></thead>\n",
       "<tbody>\n",
       "\t<tr><td> 110                                                                          </td><td>180                                                                           </td><td>8                                                                             </td><td>Yes                                                                           </td><td>Socialdemokratiet - The Social democrats                                      </td><td>1968                                                                          </td><td>NA                                                                            </td><td>Male                                                                          </td><td>1949                                                                          </td><td>Kort videregående uddannelse af op til 2-3 års varighed, F.eks. Erhvervsakadem</td><td> 9                                                                            </td><td>28                                                                            </td><td>28                                                                            </td><td>   NA                                                                         </td><td>   NA                                                                         </td><td>119                                                                           </td><td>1.9833333                                                                     </td><td>Socialdemokratiet - The Social democrats                                      </td></tr>\n",
       "\t<tr><td> 705                                                                          </td><td> 60                                                                           </td><td>5                                                                             </td><td>Yes                                                                           </td><td>Det Konservative Folkeparti - Conservative People's Party                     </td><td>1976                                                                          </td><td>67                                                                            </td><td>Male                                                                          </td><td>1958                                                                          </td><td>Kort videregående uddannelse af op til 2-3 års varighed, F.eks. Erhvervsakadem</td><td>22                                                                            </td><td>37                                                                            </td><td>45                                                                            </td><td>   NA                                                                         </td><td>   NA                                                                         </td><td> 55                                                                           </td><td>0.9166667                                                                     </td><td>Det Konservative Folkeparti - Conservative People's Party                     </td></tr>\n",
       "\t<tr><td>1327                                                                          </td><td>240                                                                           </td><td>5                                                                             </td><td>NA                                                                            </td><td>MISSING                                                                       </td><td>Still in parental home, never left 2 months                                   </td><td>NA                                                                            </td><td>Male                                                                          </td><td>2000                                                                          </td><td>Folkeskole 9.-10. klasse                                                      </td><td>11                                                                            </td><td>37                                                                            </td><td>37                                                                            </td><td>   NA                                                                         </td><td>   NA                                                                         </td><td> 37                                                                           </td><td>0.6166667                                                                     </td><td>MISSING                                                                       </td></tr>\n",
       "\t<tr><td>3760                                                                          </td><td>300                                                                           </td><td>7                                                                             </td><td>Not eligible to vote                                                          </td><td>MISSING                                                                       </td><td>Still in parental home, never left 2 months                                   </td><td>40                                                                            </td><td>Male                                                                          </td><td>2002                                                                          </td><td>Folkeskole 9.-10. klasse                                                      </td><td> 9                                                                            </td><td> 2                                                                            </td><td> 2                                                                            </td><td>  200                                                                         </td><td>   NA                                                                         </td><td> 43                                                                           </td><td>0.7166667                                                                     </td><td>MISSING                                                                       </td></tr>\n",
       "\t<tr><td>4658                                                                          </td><td> 90                                                                           </td><td>8                                                                             </td><td>Yes                                                                           </td><td>MISSING                                                                       </td><td>1974                                                                          </td><td>50                                                                            </td><td>Female                                                                        </td><td>1956                                                                          </td><td>Kort videregående uddannelse af op til 2-3 års varighed, F.eks. Erhvervsakadem</td><td> 4                                                                            </td><td>30                                                                            </td><td>30                                                                            </td><td>   NA                                                                         </td><td>   NA                                                                         </td><td> 62                                                                           </td><td>1.0333333                                                                     </td><td>MISSING                                                                       </td></tr>\n",
       "\t<tr><td>5816                                                                          </td><td> 90                                                                           </td><td>7                                                                             </td><td>Yes                                                                           </td><td>SF Socialistisk Folkeparti - Socialist People's Party                         </td><td>1994                                                                          </td><td>60                                                                            </td><td>Male                                                                          </td><td>1974                                                                          </td><td>Mellemlang videregående uddannelse af 3-4 års varighed. Professionsbachelorer,</td><td>35                                                                            </td><td>37                                                                            </td><td>37                                                                            </td><td>37000                                                                         </td><td>35000                                                                         </td><td> 61                                                                           </td><td>1.0166667                                                                     </td><td>SF Socialistisk Folkeparti - Socialist People's Party                         </td></tr>\n",
       "</tbody>\n",
       "</table>\n"
      ],
      "text/latex": [
       "\\begin{tabular}{r|llllllllllllllllll}\n",
       " idno & netustm & ppltrst & vote & prtvtddk & lvpntyr & tygrtr & gndr & yrbrn & edlvddk & eduyrs & wkhct & wkhtot & grspnum & frlgrsp & inwtm & inwth & prtvtddk\\_misreplace\\\\\n",
       "\\hline\n",
       "\t  110                                                                           & 180                                                                            & 8                                                                              & Yes                                                                            & Socialdemokratiet - The Social democrats                                       & 1968                                                                           & NA                                                                             & Male                                                                           & 1949                                                                           & Kort videregående uddannelse af op til 2-3 års varighed, F.eks. Erhvervsakadem &  9                                                                             & 28                                                                             & 28                                                                             &    NA                                                                          &    NA                                                                          & 119                                                                            & 1.9833333                                                                      & Socialdemokratiet - The Social democrats                                      \\\\\n",
       "\t  705                                                                           &  60                                                                            & 5                                                                              & Yes                                                                            & Det Konservative Folkeparti - Conservative People's Party                      & 1976                                                                           & 67                                                                             & Male                                                                           & 1958                                                                           & Kort videregående uddannelse af op til 2-3 års varighed, F.eks. Erhvervsakadem & 22                                                                             & 37                                                                             & 45                                                                             &    NA                                                                          &    NA                                                                          &  55                                                                            & 0.9166667                                                                      & Det Konservative Folkeparti - Conservative People's Party                     \\\\\n",
       "\t 1327                                                                           & 240                                                                            & 5                                                                              & NA                                                                             & MISSING                                                                        & Still in parental home, never left 2 months                                    & NA                                                                             & Male                                                                           & 2000                                                                           & Folkeskole 9.-10. klasse                                                       & 11                                                                             & 37                                                                             & 37                                                                             &    NA                                                                          &    NA                                                                          &  37                                                                            & 0.6166667                                                                      & MISSING                                                                       \\\\\n",
       "\t 3760                                                                           & 300                                                                            & 7                                                                              & Not eligible to vote                                                           & MISSING                                                                        & Still in parental home, never left 2 months                                    & 40                                                                             & Male                                                                           & 2002                                                                           & Folkeskole 9.-10. klasse                                                       &  9                                                                             &  2                                                                             &  2                                                                             &   200                                                                          &    NA                                                                          &  43                                                                            & 0.7166667                                                                      & MISSING                                                                       \\\\\n",
       "\t 4658                                                                           &  90                                                                            & 8                                                                              & Yes                                                                            & MISSING                                                                        & 1974                                                                           & 50                                                                             & Female                                                                         & 1956                                                                           & Kort videregående uddannelse af op til 2-3 års varighed, F.eks. Erhvervsakadem &  4                                                                             & 30                                                                             & 30                                                                             &    NA                                                                          &    NA                                                                          &  62                                                                            & 1.0333333                                                                      & MISSING                                                                       \\\\\n",
       "\t 5816                                                                           &  90                                                                            & 7                                                                              & Yes                                                                            & SF Socialistisk Folkeparti - Socialist People's Party                          & 1994                                                                           & 60                                                                             & Male                                                                           & 1974                                                                           & Mellemlang videregående uddannelse af 3-4 års varighed. Professionsbachelorer, & 35                                                                             & 37                                                                             & 37                                                                             & 37000                                                                          & 35000                                                                          &  61                                                                            & 1.0166667                                                                      & SF Socialistisk Folkeparti - Socialist People's Party                         \\\\\n",
       "\\end{tabular}\n"
      ],
      "text/markdown": [
       "\n",
       "| idno | netustm | ppltrst | vote | prtvtddk | lvpntyr | tygrtr | gndr | yrbrn | edlvddk | eduyrs | wkhct | wkhtot | grspnum | frlgrsp | inwtm | inwth | prtvtddk_misreplace |\n",
       "|---|---|---|---|---|---|---|---|---|---|---|---|---|---|---|---|---|---|\n",
       "|  110                                                                           | 180                                                                            | 8                                                                              | Yes                                                                            | Socialdemokratiet - The Social democrats                                       | 1968                                                                           | NA                                                                             | Male                                                                           | 1949                                                                           | Kort videregående uddannelse af op til 2-3 års varighed, F.eks. Erhvervsakadem |  9                                                                             | 28                                                                             | 28                                                                             |    NA                                                                          |    NA                                                                          | 119                                                                            | 1.9833333                                                                      | Socialdemokratiet - The Social democrats                                       |\n",
       "|  705                                                                           |  60                                                                            | 5                                                                              | Yes                                                                            | Det Konservative Folkeparti - Conservative People's Party                      | 1976                                                                           | 67                                                                             | Male                                                                           | 1958                                                                           | Kort videregående uddannelse af op til 2-3 års varighed, F.eks. Erhvervsakadem | 22                                                                             | 37                                                                             | 45                                                                             |    NA                                                                          |    NA                                                                          |  55                                                                            | 0.9166667                                                                      | Det Konservative Folkeparti - Conservative People's Party                      |\n",
       "| 1327                                                                           | 240                                                                            | 5                                                                              | NA                                                                             | MISSING                                                                        | Still in parental home, never left 2 months                                    | NA                                                                             | Male                                                                           | 2000                                                                           | Folkeskole 9.-10. klasse                                                       | 11                                                                             | 37                                                                             | 37                                                                             |    NA                                                                          |    NA                                                                          |  37                                                                            | 0.6166667                                                                      | MISSING                                                                        |\n",
       "| 3760                                                                           | 300                                                                            | 7                                                                              | Not eligible to vote                                                           | MISSING                                                                        | Still in parental home, never left 2 months                                    | 40                                                                             | Male                                                                           | 2002                                                                           | Folkeskole 9.-10. klasse                                                       |  9                                                                             |  2                                                                             |  2                                                                             |   200                                                                          |    NA                                                                          |  43                                                                            | 0.7166667                                                                      | MISSING                                                                        |\n",
       "| 4658                                                                           |  90                                                                            | 8                                                                              | Yes                                                                            | MISSING                                                                        | 1974                                                                           | 50                                                                             | Female                                                                         | 1956                                                                           | Kort videregående uddannelse af op til 2-3 års varighed, F.eks. Erhvervsakadem |  4                                                                             | 30                                                                             | 30                                                                             |    NA                                                                          |    NA                                                                          |  62                                                                            | 1.0333333                                                                      | MISSING                                                                        |\n",
       "| 5816                                                                           |  90                                                                            | 7                                                                              | Yes                                                                            | SF Socialistisk Folkeparti - Socialist People's Party                          | 1994                                                                           | 60                                                                             | Male                                                                           | 1974                                                                           | Mellemlang videregående uddannelse af 3-4 års varighed. Professionsbachelorer, | 35                                                                             | 37                                                                             | 37                                                                             | 37000                                                                          | 35000                                                                          |  61                                                                            | 1.0166667                                                                      | SF Socialistisk Folkeparti - Socialist People's Party                          |\n",
       "\n"
      ],
      "text/plain": [
       "  idno netustm ppltrst vote                \n",
       "1  110 180     8       Yes                 \n",
       "2  705  60     5       Yes                 \n",
       "3 1327 240     5       NA                  \n",
       "4 3760 300     7       Not eligible to vote\n",
       "5 4658  90     8       Yes                 \n",
       "6 5816  90     7       Yes                 \n",
       "  prtvtddk                                                 \n",
       "1 Socialdemokratiet - The Social democrats                 \n",
       "2 Det Konservative Folkeparti - Conservative People's Party\n",
       "3 MISSING                                                  \n",
       "4 MISSING                                                  \n",
       "5 MISSING                                                  \n",
       "6 SF Socialistisk Folkeparti - Socialist People's Party    \n",
       "  lvpntyr                                     tygrtr gndr   yrbrn\n",
       "1 1968                                        NA     Male   1949 \n",
       "2 1976                                        67     Male   1958 \n",
       "3 Still in parental home, never left 2 months NA     Male   2000 \n",
       "4 Still in parental home, never left 2 months 40     Male   2002 \n",
       "5 1974                                        50     Female 1956 \n",
       "6 1994                                        60     Male   1974 \n",
       "  edlvddk                                                                       \n",
       "1 Kort videregående uddannelse af op til 2-3 års varighed, F.eks. Erhvervsakadem\n",
       "2 Kort videregående uddannelse af op til 2-3 års varighed, F.eks. Erhvervsakadem\n",
       "3 Folkeskole 9.-10. klasse                                                      \n",
       "4 Folkeskole 9.-10. klasse                                                      \n",
       "5 Kort videregående uddannelse af op til 2-3 års varighed, F.eks. Erhvervsakadem\n",
       "6 Mellemlang videregående uddannelse af 3-4 års varighed. Professionsbachelorer,\n",
       "  eduyrs wkhct wkhtot grspnum frlgrsp inwtm inwth    \n",
       "1  9     28    28        NA      NA   119   1.9833333\n",
       "2 22     37    45        NA      NA    55   0.9166667\n",
       "3 11     37    37        NA      NA    37   0.6166667\n",
       "4  9      2     2       200      NA    43   0.7166667\n",
       "5  4     30    30        NA      NA    62   1.0333333\n",
       "6 35     37    37     37000   35000    61   1.0166667\n",
       "  prtvtddk_misreplace                                      \n",
       "1 Socialdemokratiet - The Social democrats                 \n",
       "2 Det Konservative Folkeparti - Conservative People's Party\n",
       "3 MISSING                                                  \n",
       "4 MISSING                                                  \n",
       "5 MISSING                                                  \n",
       "6 SF Socialistisk Folkeparti - Socialist People's Party    "
      ]
     },
     "metadata": {},
     "output_type": "display_data"
    }
   ],
   "source": [
    "data %>%\n",
    "    mutate(prtvtddk = replace_na(prtvtddk, 'MISSING')) %>%\n",
    "    head()"
   ]
  }
 ],
 "metadata": {
  "kernelspec": {
   "display_name": "R",
   "language": "R",
   "name": "ir"
  },
  "language_info": {
   "codemirror_mode": "r",
   "file_extension": ".r",
   "mimetype": "text/x-r-source",
   "name": "R",
   "pygments_lexer": "r",
   "version": "3.6.3"
  }
 },
 "nbformat": 4,
 "nbformat_minor": 4
}
