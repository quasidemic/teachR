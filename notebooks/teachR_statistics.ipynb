{
 "cells": [
  {
   "cell_type": "markdown",
   "metadata": {},
   "source": [
    "# Descriptive\n",
    "\n",
    "- Summaries\n",
    "- Tables\n",
    "\n",
    "# Statistics\n",
    "\n",
    "- Models\n",
    "- Output (`stargazer`)"
   ]
  },
  {
   "cell_type": "code",
   "execution_count": 8,
   "metadata": {},
   "outputs": [
    {
     "name": "stderr",
     "output_type": "stream",
     "text": [
      "Parsed with column specification:\n",
      "cols(\n",
      "  idno = col_double(),\n",
      "  ppltrst = col_character(),\n",
      "  polintr = col_character(),\n",
      "  vote = col_character(),\n",
      "  lrscale = col_character(),\n",
      "  happy = col_character(),\n",
      "  health = col_character(),\n",
      "  cgtsday = col_double(),\n",
      "  cgtsmke = col_character(),\n",
      "  alcfreq = col_character(),\n",
      "  brncntr = col_character(),\n",
      "  height = col_double(),\n",
      "  weight = col_double(),\n",
      "  gndr = col_character(),\n",
      "  yrbrn = col_double(),\n",
      "  edlvddk = col_character(),\n",
      "  marsts = col_character(),\n",
      "  polpartvt = col_character()\n",
      ")\n"
     ]
    }
   ],
   "source": [
    "library(readr)\n",
    "library(dplyr)\n",
    "\n",
    "ess_data <- read_csv(\"https://github.com/CALDISS-AAU/workshop_r-table-data/raw/master/data/ess2014_mainsub_p1.csv\") %>%\n",
    "    mutate(bmi = weight / (height/100)^2,\n",
    "          age = 2014 - yrbrn)"
   ]
  },
  {
   "cell_type": "markdown",
   "metadata": {},
   "source": [
    "# Summaries\n",
    "\n",
    "`group_by()` is part of the `dplyr` package. `group_by()` is used together with `summarise()` for creating summary statistics.\n",
    "\n",
    "Below the mean age per gender is calculated and displayed:"
   ]
  },
  {
   "cell_type": "code",
   "execution_count": 22,
   "metadata": {},
   "outputs": [
    {
     "data": {
      "text/html": [
       "<table>\n",
       "<thead><tr><th scope=col>gndr</th><th scope=col>mean_age</th></tr></thead>\n",
       "<tbody>\n",
       "\t<tr><td>Female  </td><td>49.38244</td></tr>\n",
       "\t<tr><td>Male    </td><td>47.37437</td></tr>\n",
       "</tbody>\n",
       "</table>\n"
      ],
      "text/latex": [
       "\\begin{tabular}{r|ll}\n",
       " gndr & mean\\_age\\\\\n",
       "\\hline\n",
       "\t Female   & 49.38244\\\\\n",
       "\t Male     & 47.37437\\\\\n",
       "\\end{tabular}\n"
      ],
      "text/markdown": [
       "\n",
       "| gndr | mean_age |\n",
       "|---|---|\n",
       "| Female   | 49.38244 |\n",
       "| Male     | 47.37437 |\n",
       "\n"
      ],
      "text/plain": [
       "  gndr   mean_age\n",
       "1 Female 49.38244\n",
       "2 Male   47.37437"
      ]
     },
     "metadata": {},
     "output_type": "display_data"
    }
   ],
   "source": [
    "ess_data %>%\n",
    "    group_by(gndr) %>%\n",
    "    summarise(mean_age = mean(age))"
   ]
  },
  {
   "cell_type": "markdown",
   "metadata": {},
   "source": [
    "Several summary statistics can be created for the same grouping:"
   ]
  },
  {
   "cell_type": "code",
   "execution_count": 26,
   "metadata": {},
   "outputs": [
    {
     "data": {
      "text/html": [
       "<table>\n",
       "<thead><tr><th scope=col>gndr</th><th scope=col>mean_age</th><th scope=col>mean_cgs</th><th scope=col>count</th></tr></thead>\n",
       "<tbody>\n",
       "\t<tr><td>Female  </td><td>49.38244</td><td>2.082153</td><td>353     </td></tr>\n",
       "\t<tr><td>Male    </td><td>47.37437</td><td>3.155779</td><td>398     </td></tr>\n",
       "</tbody>\n",
       "</table>\n"
      ],
      "text/latex": [
       "\\begin{tabular}{r|llll}\n",
       " gndr & mean\\_age & mean\\_cgs & count\\\\\n",
       "\\hline\n",
       "\t Female   & 49.38244 & 2.082153 & 353     \\\\\n",
       "\t Male     & 47.37437 & 3.155779 & 398     \\\\\n",
       "\\end{tabular}\n"
      ],
      "text/markdown": [
       "\n",
       "| gndr | mean_age | mean_cgs | count |\n",
       "|---|---|---|---|\n",
       "| Female   | 49.38244 | 2.082153 | 353      |\n",
       "| Male     | 47.37437 | 3.155779 | 398      |\n",
       "\n"
      ],
      "text/plain": [
       "  gndr   mean_age mean_cgs count\n",
       "1 Female 49.38244 2.082153 353  \n",
       "2 Male   47.37437 3.155779 398  "
      ]
     },
     "metadata": {},
     "output_type": "display_data"
    }
   ],
   "source": [
    "ess_data %>%\n",
    "    group_by(gndr) %>%\n",
    "    mutate(cgtsday = ifelse(is.na(cgtsday), 0, cgtsday)) %>%\n",
    "    summarise(mean_age = mean(age),\n",
    "             mean_cgs = mean(cgtsday, na.rm = TRUE),\n",
    "             count = n())"
   ]
  },
  {
   "cell_type": "markdown",
   "metadata": {},
   "source": [
    "Observations can be grouped based on several variables"
   ]
  },
  {
   "cell_type": "code",
   "execution_count": 33,
   "metadata": {},
   "outputs": [
    {
     "data": {
      "text/html": [
       "<table>\n",
       "<thead><tr><th scope=col>gndr</th><th scope=col>brncntr</th><th scope=col>mean_age</th><th scope=col>mean_cgs</th><th scope=col>count</th></tr></thead>\n",
       "<tbody>\n",
       "\t<tr><td>Female  </td><td>No      </td><td>48.94118</td><td>1.617647</td><td> 34     </td></tr>\n",
       "\t<tr><td>Female  </td><td>Yes     </td><td>49.42947</td><td>2.131661</td><td>319     </td></tr>\n",
       "\t<tr><td>Male    </td><td>No      </td><td>43.29167</td><td>3.250000</td><td> 24     </td></tr>\n",
       "\t<tr><td>Male    </td><td>Yes     </td><td>47.63636</td><td>3.149733</td><td>374     </td></tr>\n",
       "</tbody>\n",
       "</table>\n"
      ],
      "text/latex": [
       "\\begin{tabular}{r|lllll}\n",
       " gndr & brncntr & mean\\_age & mean\\_cgs & count\\\\\n",
       "\\hline\n",
       "\t Female   & No       & 48.94118 & 1.617647 &  34     \\\\\n",
       "\t Female   & Yes      & 49.42947 & 2.131661 & 319     \\\\\n",
       "\t Male     & No       & 43.29167 & 3.250000 &  24     \\\\\n",
       "\t Male     & Yes      & 47.63636 & 3.149733 & 374     \\\\\n",
       "\\end{tabular}\n"
      ],
      "text/markdown": [
       "\n",
       "| gndr | brncntr | mean_age | mean_cgs | count |\n",
       "|---|---|---|---|---|\n",
       "| Female   | No       | 48.94118 | 1.617647 |  34      |\n",
       "| Female   | Yes      | 49.42947 | 2.131661 | 319      |\n",
       "| Male     | No       | 43.29167 | 3.250000 |  24      |\n",
       "| Male     | Yes      | 47.63636 | 3.149733 | 374      |\n",
       "\n"
      ],
      "text/plain": [
       "  gndr   brncntr mean_age mean_cgs count\n",
       "1 Female No      48.94118 1.617647  34  \n",
       "2 Female Yes     49.42947 2.131661 319  \n",
       "3 Male   No      43.29167 3.250000  24  \n",
       "4 Male   Yes     47.63636 3.149733 374  "
      ]
     },
     "metadata": {},
     "output_type": "display_data"
    }
   ],
   "source": [
    "ess_data %>%\n",
    "    group_by(gndr, brncntr) %>%\n",
    "    mutate(cgtsday = ifelse(is.na(cgtsday), 0, cgtsday)) %>%\n",
    "    summarise(mean_age = mean(age),\n",
    "             mean_cgs = mean(cgtsday, na.rm = TRUE),\n",
    "             count = n())"
   ]
  },
  {
   "cell_type": "markdown",
   "metadata": {},
   "source": [
    "## Tables"
   ]
  },
  {
   "cell_type": "markdown",
   "metadata": {},
   "source": [
    "Frequency and contingency tables can be done in a number of different ways in R dependent on the kind of tables you want to make.\n",
    "\n",
    "R has a few built-in functions based around the `table()` function. The `table()` function is used for creating a table object that can then be manipulated.\n",
    "\n",
    "Specifying a single variable creates a one-dimensional frequency table:"
   ]
  },
  {
   "cell_type": "code",
   "execution_count": 44,
   "metadata": {},
   "outputs": [
    {
     "data": {
      "text/plain": [
       "\n",
       "Female   Male \n",
       "   353    398 "
      ]
     },
     "metadata": {},
     "output_type": "display_data"
    }
   ],
   "source": [
    "table(ess_data$gndr)"
   ]
  },
  {
   "cell_type": "markdown",
   "metadata": {},
   "source": [
    "Specifying two variables creates a crosstable of counts of every combination:"
   ]
  },
  {
   "cell_type": "code",
   "execution_count": 47,
   "metadata": {},
   "outputs": [
    {
     "data": {
      "text/plain": [
       "        \n",
       "          No Yes\n",
       "  Female  34 319\n",
       "  Male    24 374"
      ]
     },
     "metadata": {},
     "output_type": "display_data"
    }
   ],
   "source": [
    "table(ess_data$gndr, ess_data$brncntr)"
   ]
  },
  {
   "cell_type": "markdown",
   "metadata": {},
   "source": [
    "The functions `margin.table()` and `prop.table()` are used for frequencies and calculating percentages respectively. They both accept a table object as input."
   ]
  },
  {
   "cell_type": "code",
   "execution_count": 52,
   "metadata": {},
   "outputs": [
    {
     "data": {
      "text/plain": [
       "\n",
       "Female   Male \n",
       "   353    398 "
      ]
     },
     "metadata": {},
     "output_type": "display_data"
    }
   ],
   "source": [
    "ess_table <- table(ess_data$gndr, ess_data$brncntr) # creating table object (gndr as rows, brncntr as columns)\n",
    "\n",
    "margin.table(ess_table, 1) # gndr frequencies (row frequencies)"
   ]
  },
  {
   "cell_type": "code",
   "execution_count": 53,
   "metadata": {},
   "outputs": [
    {
     "data": {
      "text/plain": [
       "\n",
       " No Yes \n",
       " 58 693 "
      ]
     },
     "metadata": {},
     "output_type": "display_data"
    }
   ],
   "source": [
    "margin.table(ess_table, 2) # brncntr frequencies (column frequencies)"
   ]
  },
  {
   "cell_type": "code",
   "execution_count": 55,
   "metadata": {},
   "outputs": [
    {
     "data": {
      "text/plain": [
       "        \n",
       "                 No        Yes\n",
       "  Female 0.09631728 0.90368272\n",
       "  Male   0.06030151 0.93969849"
      ]
     },
     "metadata": {},
     "output_type": "display_data"
    }
   ],
   "source": [
    "prop.table(ess_table, 1) # gndr percentages (rows)"
   ]
  },
  {
   "cell_type": "code",
   "execution_count": 56,
   "metadata": {},
   "outputs": [
    {
     "data": {
      "text/plain": [
       "        \n",
       "                No       Yes\n",
       "  Female 0.5862069 0.4603175\n",
       "  Male   0.4137931 0.5396825"
      ]
     },
     "metadata": {},
     "output_type": "display_data"
    }
   ],
   "source": [
    "prop.table(ess_table, 2) # brncntr percentages (columns)"
   ]
  },
  {
   "cell_type": "markdown",
   "metadata": {},
   "source": [
    "### The `CrossTable()` function (part of `gmodels`)\n",
    "\n",
    "The package `gmodels` contains the function `CrossTable()`.\n",
    "\n",
    "`CrossTable` combines the various table functionalities in base R for an easier way to create crosstables. It also makes it easier to include various tests of independence.\n",
    "\n",
    "The line below creates a crosstable for `cgtsmke` and `gndr`, displaying percentages column-wise and calculating the chi-squared."
   ]
  },
  {
   "cell_type": "code",
   "execution_count": 65,
   "metadata": {},
   "outputs": [
    {
     "ename": "ERROR",
     "evalue": "Error in library(gmodels): there is no package called 'gmodels'\n",
     "output_type": "error",
     "traceback": [
      "Error in library(gmodels): there is no package called 'gmodels'\nTraceback:\n",
      "1. library(gmodels)"
     ]
    }
   ],
   "source": [
    "library(gmodels)\n",
    "\n",
    "CrossTable(ess_data$cgtsmke, ess_data$gndr, prop.r = FALSE, prop.c = TRUE, prop.t = FALSE, prop.chisq = FALSE, chisq = TRUE)"
   ]
  },
  {
   "cell_type": "markdown",
   "metadata": {},
   "source": [
    "### Tabulating with `tidyverse`\n",
    "\n",
    "There are various ways of creating tables and cross-tables using functions from the tidyverse.\n",
    "\n",
    "`count()` (part of `dplyr`) can be used for frequency tables:"
   ]
  },
  {
   "cell_type": "code",
   "execution_count": 58,
   "metadata": {},
   "outputs": [
    {
     "data": {
      "text/html": [
       "<table>\n",
       "<thead><tr><th scope=col>gndr</th><th scope=col>n</th></tr></thead>\n",
       "<tbody>\n",
       "\t<tr><td>Female</td><td>353   </td></tr>\n",
       "\t<tr><td>Male  </td><td>398   </td></tr>\n",
       "</tbody>\n",
       "</table>\n"
      ],
      "text/latex": [
       "\\begin{tabular}{r|ll}\n",
       " gndr & n\\\\\n",
       "\\hline\n",
       "\t Female & 353   \\\\\n",
       "\t Male   & 398   \\\\\n",
       "\\end{tabular}\n"
      ],
      "text/markdown": [
       "\n",
       "| gndr | n |\n",
       "|---|---|\n",
       "| Female | 353    |\n",
       "| Male   | 398    |\n",
       "\n"
      ],
      "text/plain": [
       "  gndr   n  \n",
       "1 Female 353\n",
       "2 Male   398"
      ]
     },
     "metadata": {},
     "output_type": "display_data"
    }
   ],
   "source": [
    "library(dplyr)\n",
    "\n",
    "ess_data %>%\n",
    "    count(gndr)"
   ]
  },
  {
   "cell_type": "markdown",
   "metadata": {},
   "source": [
    "Crosstables can be achieved by combining `group_by()` summaries with `pivot_wider()`:"
   ]
  },
  {
   "cell_type": "code",
   "execution_count": 64,
   "metadata": {},
   "outputs": [
    {
     "data": {
      "text/html": [
       "<table>\n",
       "<thead><tr><th scope=col>brncntr</th><th scope=col>Female</th><th scope=col>Male</th></tr></thead>\n",
       "<tbody>\n",
       "\t<tr><td>No </td><td> 34</td><td> 24</td></tr>\n",
       "\t<tr><td>Yes</td><td>319</td><td>374</td></tr>\n",
       "</tbody>\n",
       "</table>\n"
      ],
      "text/latex": [
       "\\begin{tabular}{r|lll}\n",
       " brncntr & Female & Male\\\\\n",
       "\\hline\n",
       "\t No  &  34 &  24\\\\\n",
       "\t Yes & 319 & 374\\\\\n",
       "\\end{tabular}\n"
      ],
      "text/markdown": [
       "\n",
       "| brncntr | Female | Male |\n",
       "|---|---|---|\n",
       "| No  |  34 |  24 |\n",
       "| Yes | 319 | 374 |\n",
       "\n"
      ],
      "text/plain": [
       "  brncntr Female Male\n",
       "1 No       34     24 \n",
       "2 Yes     319    374 "
      ]
     },
     "metadata": {},
     "output_type": "display_data"
    }
   ],
   "source": [
    "library(tidyr)\n",
    "\n",
    "ess_data %>%\n",
    "  group_by(gndr, brncntr)%>%\n",
    "  summarise(n=n())%>%\n",
    "  pivot_wider(names_from = gndr, values_from = n)"
   ]
  },
  {
   "cell_type": "markdown",
   "metadata": {},
   "source": [
    "# Statistical models\n",
    "\n",
    "There are a lot of packages for creating statistical and there are packages for all kinds of specific analysis.\n",
    "\n",
    "A recurring element of a lot of these packages and functions however is to specify the model as a function.\n",
    "\n",
    "Formulas are specified as:\n",
    "- `y ~ x1 (+x2 +x3 ... +xn)`\n",
    "\n",
    "\n",
    "The code below created a linear model for age and weight:"
   ]
  },
  {
   "cell_type": "code",
   "execution_count": 9,
   "metadata": {},
   "outputs": [
    {
     "data": {
      "text/plain": [
       "\n",
       "Call:\n",
       "lm(formula = weight ~ yrbrn, data = ess_data)\n",
       "\n",
       "Coefficients:\n",
       "(Intercept)        yrbrn  \n",
       "   44.27414      0.01624  \n"
      ]
     },
     "metadata": {},
     "output_type": "display_data"
    }
   ],
   "source": [
    "#Linear model for weight and yrbrn\n",
    "lm(weight ~ yrbrn, ess_data)"
   ]
  },
  {
   "cell_type": "code",
   "execution_count": 10,
   "metadata": {},
   "outputs": [
    {
     "data": {
      "text/plain": [
       "\n",
       "Call:\n",
       "lm(formula = bmi ~ weight + height, data = ess_data)\n",
       "\n",
       "Coefficients:\n",
       "(Intercept)       weight       height  \n",
       "    50.1059       0.3318      -0.2889  \n"
      ]
     },
     "metadata": {},
     "output_type": "display_data"
    }
   ],
   "source": [
    "#Multiple\n",
    "lm(bmi ~ weight + height, ess_data)"
   ]
  },
  {
   "cell_type": "markdown",
   "metadata": {},
   "source": [
    "An advantage of R is the ability to store the model as any other object making it easy to store and recall past results."
   ]
  },
  {
   "cell_type": "code",
   "execution_count": 11,
   "metadata": {},
   "outputs": [],
   "source": [
    "#Storing model\n",
    "bmi_model <- lm(bmi ~ weight + height, ess_data)"
   ]
  },
  {
   "cell_type": "code",
   "execution_count": 12,
   "metadata": {},
   "outputs": [
    {
     "data": {
      "text/plain": [
       "\n",
       "Call:\n",
       "lm(formula = bmi ~ weight + height, data = ess_data)\n",
       "\n",
       "Residuals:\n",
       "    Min      1Q  Median      3Q     Max \n",
       "-3.1250 -0.1842  0.0199  0.1593  4.1995 \n",
       "\n",
       "Coefficients:\n",
       "             Estimate Std. Error t value Pr(>|t|)    \n",
       "(Intercept) 50.105861   0.341344   146.8   <2e-16 ***\n",
       "weight       0.331774   0.001376   241.2   <2e-16 ***\n",
       "height      -0.288922   0.002197  -131.5   <2e-16 ***\n",
       "---\n",
       "Signif. codes:  0 '***' 0.001 '**' 0.01 '*' 0.05 '.' 0.1 ' ' 1\n",
       "\n",
       "Residual standard error: 0.4993 on 737 degrees of freedom\n",
       "  (11 observations deleted due to missingness)\n",
       "Multiple R-squared:  0.9875,\tAdjusted R-squared:  0.9875 \n",
       "F-statistic: 2.915e+04 on 2 and 737 DF,  p-value: < 2.2e-16\n"
      ]
     },
     "metadata": {},
     "output_type": "display_data"
    }
   ],
   "source": [
    "#Summary statistics for bmi_model\n",
    "summary(bmi_model)"
   ]
  },
  {
   "cell_type": "markdown",
   "metadata": {},
   "source": [
    "## Modelling interactions and quadratic terms\n",
    "\n",
    "**Interactions**\n",
    "\n",
    "Interactions can be modelled using `*` or `:`:"
   ]
  },
  {
   "cell_type": "code",
   "execution_count": 17,
   "metadata": {},
   "outputs": [
    {
     "data": {
      "text/plain": [
       "\n",
       "Call:\n",
       "lm(formula = bmi ~ height + weight + age + weight * age, data = ess_data)\n",
       "\n",
       "Residuals:\n",
       "    Min      1Q  Median      3Q     Max \n",
       "-3.2292 -0.1913  0.0293  0.1714  4.1145 \n",
       "\n",
       "Coefficients:\n",
       "              Estimate Std. Error  t value Pr(>|t|)    \n",
       "(Intercept)  5.107e+01  4.413e-01  115.728  < 2e-16 ***\n",
       "height      -2.904e-01  2.271e-03 -127.885  < 2e-16 ***\n",
       "weight       3.235e-01  3.432e-03   94.263  < 2e-16 ***\n",
       "age         -1.551e-02  5.001e-03   -3.101  0.00200 ** \n",
       "weight:age   1.816e-04  6.623e-05    2.741  0.00627 ** \n",
       "---\n",
       "Signif. codes:  0 '***' 0.001 '**' 0.01 '*' 0.05 '.' 0.1 ' ' 1\n",
       "\n",
       "Residual standard error: 0.496 on 735 degrees of freedom\n",
       "  (11 observations deleted due to missingness)\n",
       "Multiple R-squared:  0.9877,\tAdjusted R-squared:  0.9876 \n",
       "F-statistic: 1.477e+04 on 4 and 735 DF,  p-value: < 2.2e-16\n"
      ]
     },
     "metadata": {},
     "output_type": "display_data"
    }
   ],
   "source": [
    "bmi_model <- lm(bmi ~ height + weight + age + weight*age, ess_data)\n",
    "\n",
    "summary(bmi_model)"
   ]
  },
  {
   "cell_type": "markdown",
   "metadata": {},
   "source": [
    "**Quadratic terms**\n",
    "\n",
    "Unfortunately there is no shorthand for doing quadratic terms (at least not with the `lm()` function). \n",
    "\n",
    "A variable for the quadratic term has to be created before creating the model:"
   ]
  },
  {
   "cell_type": "code",
   "execution_count": 21,
   "metadata": {},
   "outputs": [
    {
     "data": {
      "text/plain": [
       "\n",
       "Call:\n",
       "lm(formula = bmi ~ height + weight + quad_height, data = ess_data)\n",
       "\n",
       "Residuals:\n",
       "    Min      1Q  Median      3Q     Max \n",
       "-2.9395 -0.1880 -0.0090  0.1415  4.3044 \n",
       "\n",
       "Coefficients:\n",
       "              Estimate Std. Error t value Pr(>|t|)    \n",
       "(Intercept) 35.4419541  4.6707998   7.588 9.84e-14 ***\n",
       "height      -0.1201562  0.0536584  -2.239  0.02544 *  \n",
       "weight       0.3316839  0.0013678 242.503  < 2e-16 ***\n",
       "quad_height -0.0004838  0.0001537  -3.148  0.00171 ** \n",
       "---\n",
       "Signif. codes:  0 '***' 0.001 '**' 0.01 '*' 0.05 '.' 0.1 ' ' 1\n",
       "\n",
       "Residual standard error: 0.4963 on 736 degrees of freedom\n",
       "  (11 observations deleted due to missingness)\n",
       "Multiple R-squared:  0.9877,\tAdjusted R-squared:  0.9876 \n",
       "F-statistic: 1.967e+04 on 3 and 736 DF,  p-value: < 2.2e-16\n"
      ]
     },
     "metadata": {},
     "output_type": "display_data"
    }
   ],
   "source": [
    "ess_data$quad_height <- ess_data$height^2\n",
    "\n",
    "bmi_model <- lm(bmi ~ height + weight + quad_height, ess_data)\n",
    "\n",
    "summary(bmi_model)"
   ]
  },
  {
   "cell_type": "markdown",
   "metadata": {},
   "source": [
    "## Models and categorical\n",
    "\n",
    "When working with categoricals in R, almost everything about how to treat that categorical in a model should be specified *before* creating the model.\n",
    "\n",
    "- Should the variable be treated as ordered (nominal) or unordered (ordinal)?\n",
    "- What value should be used as reference/base?\n",
    "- Is the ordinal variable to be used as an interval variable?\n"
   ]
  },
  {
   "cell_type": "code",
   "execution_count": 65,
   "metadata": {},
   "outputs": [
    {
     "data": {
      "text/plain": [
       "\n",
       "Call:\n",
       "lm(formula = height ~ yrbrn + gndr, data = ess_data)\n",
       "\n",
       "Coefficients:\n",
       "(Intercept)        yrbrn     gndrMale  \n",
       "   -50.2225       0.1104      12.7617  \n"
      ]
     },
     "metadata": {},
     "output_type": "display_data"
    }
   ],
   "source": [
    "#Linear model with categorical (2 values)\n",
    "lm(height ~ yrbrn + gndr, ess_data)"
   ]
  },
  {
   "cell_type": "code",
   "execution_count": 67,
   "metadata": {},
   "outputs": [
    {
     "data": {
      "text/plain": [
       "\n",
       "Call:\n",
       "lm(formula = height ~ yrbrn + healthcat, data = ess_data)\n",
       "\n",
       "Residuals:\n",
       "     Min       1Q   Median       3Q      Max \n",
       "-26.8004  -6.7797  -0.1917   6.4317  30.0358 \n",
       "\n",
       "Coefficients:\n",
       "             Estimate Std. Error t value Pr(>|t|)    \n",
       "(Intercept) -61.37901   36.03229  -1.703   0.0889 .  \n",
       "yrbrn         0.11893    0.01836   6.478 1.69e-10 ***\n",
       "healthcat.L   4.11147    2.31731   1.774   0.0764 .  \n",
       "healthcat.Q  -1.34712    1.99509  -0.675   0.4997    \n",
       "healthcat.C   2.02962    1.51963   1.336   0.1821    \n",
       "healthcat^4  -2.09098    1.03979  -2.011   0.0447 *  \n",
       "---\n",
       "Signif. codes:  0 '***' 0.001 '**' 0.01 '*' 0.05 '.' 0.1 ' ' 1\n",
       "\n",
       "Residual standard error: 9.311 on 742 degrees of freedom\n",
       "  (3 observations deleted due to missingness)\n",
       "Multiple R-squared:  0.07674,\tAdjusted R-squared:  0.07052 \n",
       "F-statistic: 12.34 on 5 and 742 DF,  p-value: 1.644e-11\n"
      ]
     },
     "metadata": {},
     "output_type": "display_data"
    }
   ],
   "source": [
    "#Linear model with ordinal\n",
    "ess_data$healthcat <- factor(ess_data$health, levels = c('Very bad', 'Bad', 'Fair', 'Good', 'Very good'), ordered = TRUE)\n",
    "\n",
    "summary(lm(height ~ yrbrn + healthcat, ess_data))"
   ]
  },
  {
   "cell_type": "code",
   "execution_count": 68,
   "metadata": {},
   "outputs": [
    {
     "data": {
      "text/plain": [
       "\n",
       "Call:\n",
       "lm(formula = height ~ yrbrn + health, data = ess_data)\n",
       "\n",
       "Residuals:\n",
       "     Min       1Q   Median       3Q      Max \n",
       "-26.8004  -6.7797  -0.1917   6.4317  30.0358 \n",
       "\n",
       "Coefficients:\n",
       "                 Estimate Std. Error t value Pr(>|t|)    \n",
       "(Intercept)     -60.03582   35.99289  -1.668   0.0957 .  \n",
       "yrbrn             0.11893    0.01836   6.478 1.69e-10 ***\n",
       "healthFair       -2.12265    1.69675  -1.251   0.2113    \n",
       "healthGood        0.03304    1.61819   0.020   0.9837    \n",
       "healthVery bad   -5.55532    3.82994  -1.450   0.1473    \n",
       "healthVery good   0.92896    1.61690   0.575   0.5658    \n",
       "---\n",
       "Signif. codes:  0 '***' 0.001 '**' 0.01 '*' 0.05 '.' 0.1 ' ' 1\n",
       "\n",
       "Residual standard error: 9.311 on 742 degrees of freedom\n",
       "  (3 observations deleted due to missingness)\n",
       "Multiple R-squared:  0.07674,\tAdjusted R-squared:  0.07052 \n",
       "F-statistic: 12.34 on 5 and 742 DF,  p-value: 1.644e-11\n"
      ]
     },
     "metadata": {},
     "output_type": "display_data"
    }
   ],
   "source": [
    "#Linear model with nominal (character as factor)\n",
    "summary(lm(height ~ yrbrn + health, ess_data))"
   ]
  },
  {
   "cell_type": "markdown",
   "metadata": {},
   "source": [
    "## Output a model"
   ]
  },
  {
   "cell_type": "code",
   "execution_count": 69,
   "metadata": {},
   "outputs": [
    {
     "name": "stderr",
     "output_type": "stream",
     "text": [
      "\n",
      "Please cite as: \n",
      "\n",
      "\n",
      " Hlavac, Marek (2018). stargazer: Well-Formatted Regression and Summary Statistics Tables.\n",
      "\n",
      " R package version 5.2.2. https://CRAN.R-project.org/package=stargazer \n",
      "\n",
      "\n"
     ]
    }
   ],
   "source": [
    "library(stargazer)"
   ]
  },
  {
   "cell_type": "code",
   "execution_count": 70,
   "metadata": {},
   "outputs": [
    {
     "name": "stdout",
     "output_type": "stream",
     "text": [
      "\n",
      "<table style=\"text-align:center\"><tr><td colspan=\"2\" style=\"border-bottom: 1px solid black\"></td></tr><tr><td style=\"text-align:left\"></td><td><em>Dependent variable:</em></td></tr>\n",
      "<tr><td></td><td colspan=\"1\" style=\"border-bottom: 1px solid black\"></td></tr>\n",
      "<tr><td style=\"text-align:left\"></td><td>height</td></tr>\n",
      "<tr><td colspan=\"2\" style=\"border-bottom: 1px solid black\"></td></tr><tr><td style=\"text-align:left\">yrbrn</td><td>0.119<sup>***</sup></td></tr>\n",
      "<tr><td style=\"text-align:left\"></td><td>(0.018)</td></tr>\n",
      "<tr><td style=\"text-align:left\"></td><td></td></tr>\n",
      "<tr><td style=\"text-align:left\">healthFair</td><td>-2.123</td></tr>\n",
      "<tr><td style=\"text-align:left\"></td><td>(1.697)</td></tr>\n",
      "<tr><td style=\"text-align:left\"></td><td></td></tr>\n",
      "<tr><td style=\"text-align:left\">healthGood</td><td>0.033</td></tr>\n",
      "<tr><td style=\"text-align:left\"></td><td>(1.618)</td></tr>\n",
      "<tr><td style=\"text-align:left\"></td><td></td></tr>\n",
      "<tr><td style=\"text-align:left\">healthVery bad</td><td>-5.555</td></tr>\n",
      "<tr><td style=\"text-align:left\"></td><td>(3.830)</td></tr>\n",
      "<tr><td style=\"text-align:left\"></td><td></td></tr>\n",
      "<tr><td style=\"text-align:left\">healthVery good</td><td>0.929</td></tr>\n",
      "<tr><td style=\"text-align:left\"></td><td>(1.617)</td></tr>\n",
      "<tr><td style=\"text-align:left\"></td><td></td></tr>\n",
      "<tr><td style=\"text-align:left\">Constant</td><td>-60.036<sup>*</sup></td></tr>\n",
      "<tr><td style=\"text-align:left\"></td><td>(35.993)</td></tr>\n",
      "<tr><td style=\"text-align:left\"></td><td></td></tr>\n",
      "<tr><td colspan=\"2\" style=\"border-bottom: 1px solid black\"></td></tr><tr><td style=\"text-align:left\">Observations</td><td>748</td></tr>\n",
      "<tr><td style=\"text-align:left\">R<sup>2</sup></td><td>0.077</td></tr>\n",
      "<tr><td style=\"text-align:left\">Adjusted R<sup>2</sup></td><td>0.071</td></tr>\n",
      "<tr><td style=\"text-align:left\">Residual Std. Error</td><td>9.311 (df = 742)</td></tr>\n",
      "<tr><td style=\"text-align:left\">F Statistic</td><td>12.335<sup>***</sup> (df = 5; 742)</td></tr>\n",
      "<tr><td colspan=\"2\" style=\"border-bottom: 1px solid black\"></td></tr><tr><td style=\"text-align:left\"><em>Note:</em></td><td style=\"text-align:right\"><sup>*</sup>p<0.1; <sup>**</sup>p<0.05; <sup>***</sup>p<0.01</td></tr>\n",
      "</table>\n"
     ]
    }
   ],
   "source": [
    "height_model <- lm(height ~ yrbrn + health, ess_data)\n",
    "stargazer(height_model, type = \"html\", out = \"../output/modelout.html\")"
   ]
  }
 ],
 "metadata": {
  "kernelspec": {
   "display_name": "R",
   "language": "R",
   "name": "ir"
  },
  "language_info": {
   "codemirror_mode": "r",
   "file_extension": ".r",
   "mimetype": "text/x-r-source",
   "name": "R",
   "pygments_lexer": "r",
   "version": "3.5.1"
  }
 },
 "nbformat": 4,
 "nbformat_minor": 2
}
