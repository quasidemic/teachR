{
 "cells": [
  {
   "cell_type": "markdown",
   "metadata": {},
   "source": [
    "# Common errors when working with data in R\n",
    "\n",
    "R makes some assumptions about how the data being imported is set up (value delimiters, decimal points etc.). Furthermore, data may contain errors or need some handling before being ready for any kind of analysis. \n",
    "\n",
    "Errors that one encounters when working with data can be rather unique and solving them will often involve a lot of trial and error specific to the data being worked with.\n",
    "\n",
    "In this section we take a look at some of the errors one may encounter when working with tabular data in R. The section uses the same subset of ESS 2018 from the introduction but with some errors added to the data."
   ]
  },
  {
   "cell_type": "markdown",
   "metadata": {},
   "source": [
    "## Common error 1: Data uses a non-standard separator\n",
    "\n",
    "This error can occur when working with CSV files. \"CSV\" stands for comma-separated values but the standard csv-format actually differs a bit across countries: some countries use commas; others used semi-commas.\n",
    "\n",
    "\"CSV\" is a type of \"delimited data file\". Delimited data files are all made of lines where each value is separated by some character (tab, comma, semi-comma or something else).\n",
    "\n",
    "In the code below, the dataset is imported with the standard `read_csv()` function from `readr`:"
   ]
  },
  {
   "cell_type": "code",
   "execution_count": 21,
   "metadata": {},
   "outputs": [
    {
     "name": "stderr",
     "output_type": "stream",
     "text": [
      "Parsed with column specification:\n",
      "cols(\n",
      "  `idno;netustm;ppltrst;vote;prtvtddk;lvpntyr;tygrtr;gndr;yrbrn;edlvddk;eduyrs;wkhct;wkhtot;grspnum;frlgrsp;inwtm` = col_character()\n",
      ")\n",
      "Warning message:\n",
      "\"1572 parsing failures.\n",
      "row col  expected    actual                                                                                                                   file\n",
      "  1  -- 1 columns 4 columns 'https://raw.githubusercontent.com/CALDISS-AAU/workshop_r-extended-intro/master/data/ESS2018DK_subset_with-errors.csv'\n",
      "  2  -- 1 columns 4 columns 'https://raw.githubusercontent.com/CALDISS-AAU/workshop_r-extended-intro/master/data/ESS2018DK_subset_with-errors.csv'\n",
      "  3  -- 1 columns 4 columns 'https://raw.githubusercontent.com/CALDISS-AAU/workshop_r-extended-intro/master/data/ESS2018DK_subset_with-errors.csv'\n",
      "  4  -- 1 columns 4 columns 'https://raw.githubusercontent.com/CALDISS-AAU/workshop_r-extended-intro/master/data/ESS2018DK_subset_with-errors.csv'\n",
      "  5  -- 1 columns 4 columns 'https://raw.githubusercontent.com/CALDISS-AAU/workshop_r-extended-intro/master/data/ESS2018DK_subset_with-errors.csv'\n",
      "... ... ......... ......... ......................................................................................................................\n",
      "See problems(...) for more details.\n",
      "\""
     ]
    },
    {
     "data": {
      "text/html": [
       "<table>\n",
       "<thead><tr><th scope=col>idno;netustm;ppltrst;vote;prtvtddk;lvpntyr;tygrtr;gndr;yrbrn;edlvddk;eduyrs;wkhct;wkhtot;grspnum;frlgrsp;inwtm</th></tr></thead>\n",
       "<tbody>\n",
       "\t<tr><td>110;180 </td></tr>\n",
       "\t<tr><td>705;60  </td></tr>\n",
       "\t<tr><td>1327;240</td></tr>\n",
       "\t<tr><td>3760;300</td></tr>\n",
       "\t<tr><td>4658;90 </td></tr>\n",
       "</tbody>\n",
       "</table>\n"
      ],
      "text/latex": [
       "\\begin{tabular}{r|l}\n",
       " idno;netustm;ppltrst;vote;prtvtddk;lvpntyr;tygrtr;gndr;yrbrn;edlvddk;eduyrs;wkhct;wkhtot;grspnum;frlgrsp;inwtm\\\\\n",
       "\\hline\n",
       "\t 110;180 \\\\\n",
       "\t 705;60  \\\\\n",
       "\t 1327;240\\\\\n",
       "\t 3760;300\\\\\n",
       "\t 4658;90 \\\\\n",
       "\\end{tabular}\n"
      ],
      "text/markdown": [
       "\n",
       "| idno;netustm;ppltrst;vote;prtvtddk;lvpntyr;tygrtr;gndr;yrbrn;edlvddk;eduyrs;wkhct;wkhtot;grspnum;frlgrsp;inwtm |\n",
       "|---|\n",
       "| 110;180  |\n",
       "| 705;60   |\n",
       "| 1327;240 |\n",
       "| 3760;300 |\n",
       "| 4658;90  |\n",
       "\n"
      ],
      "text/plain": [
       "  idno;netustm;ppltrst;vote;prtvtddk;lvpntyr;tygrtr;gndr;yrbrn;edlvddk;eduyrs;wkhct;wkhtot;grspnum;frlgrsp;inwtm\n",
       "1 110;180                                                                                                       \n",
       "2 705;60                                                                                                        \n",
       "3 1327;240                                                                                                      \n",
       "4 3760;300                                                                                                      \n",
       "5 4658;90                                                                                                       "
      ]
     },
     "metadata": {},
     "output_type": "display_data"
    }
   ],
   "source": [
    "library(readr)\n",
    "\n",
    "ess2018 <- read_csv(\"https://raw.githubusercontent.com/CALDISS-AAU/workshop_r-extended-intro/master/data/ESS2018DK_subset_with-errors.csv\")\n",
    "\n",
    "head(ess2018, 5)"
   ]
  },
  {
   "cell_type": "markdown",
   "metadata": {},
   "source": [
    "As can be seen, there seems to be something off with the data, as all the values are condensed into a single column. This happens because `read_csv()` assumes the values are separated by commas, but in this dataset the values are separated by semi-commas.\n",
    "\n",
    "`read_csv2()` can be used in this case, as this assumes semi-commas as separators (which is common in some European countries - like Denmark):"
   ]
  },
  {
   "cell_type": "code",
   "execution_count": 22,
   "metadata": {},
   "outputs": [
    {
     "name": "stderr",
     "output_type": "stream",
     "text": [
      "Using ',' as decimal and '.' as grouping mark. Use read_delim() for more control.\n",
      "Parsed with column specification:\n",
      "cols(\n",
      "  idno = col_double(),\n",
      "  netustm = col_character(),\n",
      "  ppltrst = col_character(),\n",
      "  vote = col_character(),\n",
      "  prtvtddk = col_character(),\n",
      "  lvpntyr = col_character(),\n",
      "  tygrtr = col_character(),\n",
      "  gndr = col_character(),\n",
      "  yrbrn = col_double(),\n",
      "  edlvddk = col_character(),\n",
      "  eduyrs = col_double(),\n",
      "  wkhct = col_double(),\n",
      "  wkhtot = col_double(),\n",
      "  grspnum = col_double(),\n",
      "  frlgrsp = col_double(),\n",
      "  inwtm = col_character()\n",
      ")\n"
     ]
    },
    {
     "data": {
      "text/html": [
       "<table>\n",
       "<thead><tr><th scope=col>idno</th><th scope=col>netustm</th><th scope=col>ppltrst</th><th scope=col>vote</th><th scope=col>prtvtddk</th><th scope=col>lvpntyr</th><th scope=col>tygrtr</th><th scope=col>gndr</th><th scope=col>yrbrn</th><th scope=col>edlvddk</th><th scope=col>eduyrs</th><th scope=col>wkhct</th><th scope=col>wkhtot</th><th scope=col>grspnum</th><th scope=col>frlgrsp</th><th scope=col>inwtm</th></tr></thead>\n",
       "<tbody>\n",
       "\t<tr><td> 110                                                                          </td><td>180,0                                                                         </td><td>8                                                                             </td><td>Yes                                                                           </td><td>Socialdemokratiet - The Social democrats                                      </td><td>1968                                                                          </td><td>Never too young                                                               </td><td>Male                                                                          </td><td>1949                                                                          </td><td>Kort videregående uddannelse af op til 2-3 års varighed, F.eks. Erhvervsakadem</td><td> 9                                                                            </td><td>28                                                                            </td><td>28                                                                            </td><td>9999999                                                                       </td><td>9999999                                                                       </td><td>119,0                                                                         </td></tr>\n",
       "\t<tr><td> 705                                                                          </td><td>60,0                                                                          </td><td>5                                                                             </td><td>Yes                                                                           </td><td>Det Konservative Folkeparti - Conservative People's Party                     </td><td>1976                                                                          </td><td>67                                                                            </td><td>Male                                                                          </td><td>1958                                                                          </td><td>Kort videregående uddannelse af op til 2-3 års varighed, F.eks. Erhvervsakadem</td><td>22                                                                            </td><td>37                                                                            </td><td>45                                                                            </td><td>9999999                                                                       </td><td>9999999                                                                       </td><td>55,0                                                                          </td></tr>\n",
       "\t<tr><td>1327                                                                          </td><td>240,0                                                                         </td><td>5                                                                             </td><td>NA                                                                            </td><td>NA                                                                            </td><td>Still in parental home, never left 2 months                                   </td><td>NA                                                                            </td><td>Male                                                                          </td><td>2000                                                                          </td><td>Folkeskole 9.-10. klasse                                                      </td><td>11                                                                            </td><td>37                                                                            </td><td>37                                                                            </td><td>9999999                                                                       </td><td>9999999                                                                       </td><td>37,0                                                                          </td></tr>\n",
       "\t<tr><td>3760                                                                          </td><td>300,0                                                                         </td><td>7                                                                             </td><td>Not eligible to vote                                                          </td><td>NA                                                                            </td><td>Still in parental home, never left 2 months                                   </td><td>40                                                                            </td><td>Male                                                                          </td><td>2002                                                                          </td><td>Folkeskole 9.-10. klasse                                                      </td><td> 9                                                                            </td><td> 2                                                                            </td><td> 2                                                                            </td><td>    200                                                                       </td><td>9999999                                                                       </td><td>43,0                                                                          </td></tr>\n",
       "\t<tr><td>4658                                                                          </td><td>90,0                                                                          </td><td>8                                                                             </td><td>Yes                                                                           </td><td>NA                                                                            </td><td>1974                                                                          </td><td>50                                                                            </td><td>Female                                                                        </td><td>1956                                                                          </td><td>Kort videregående uddannelse af op til 2-3 års varighed, F.eks. Erhvervsakadem</td><td> 4                                                                            </td><td>30                                                                            </td><td>30                                                                            </td><td>9999999                                                                       </td><td>9999999                                                                       </td><td>62,0                                                                          </td></tr>\n",
       "\t<tr><td>5816                                                                          </td><td>90,0                                                                          </td><td>7                                                                             </td><td>Yes                                                                           </td><td>SF Socialistisk Folkeparti - Socialist People's Party                         </td><td>1994                                                                          </td><td>60                                                                            </td><td>Male                                                                          </td><td>1974                                                                          </td><td>Mellemlang videregående uddannelse af 3-4 års varighed. Professionsbachelorer,</td><td>35                                                                            </td><td>37                                                                            </td><td>37                                                                            </td><td>  37000                                                                       </td><td>  35000                                                                       </td><td>61,0                                                                          </td></tr>\n",
       "</tbody>\n",
       "</table>\n"
      ],
      "text/latex": [
       "\\begin{tabular}{r|llllllllllllllll}\n",
       " idno & netustm & ppltrst & vote & prtvtddk & lvpntyr & tygrtr & gndr & yrbrn & edlvddk & eduyrs & wkhct & wkhtot & grspnum & frlgrsp & inwtm\\\\\n",
       "\\hline\n",
       "\t  110                                                                           & 180,0                                                                          & 8                                                                              & Yes                                                                            & Socialdemokratiet - The Social democrats                                       & 1968                                                                           & Never too young                                                                & Male                                                                           & 1949                                                                           & Kort videregående uddannelse af op til 2-3 års varighed, F.eks. Erhvervsakadem &  9                                                                             & 28                                                                             & 28                                                                             & 9999999                                                                        & 9999999                                                                        & 119,0                                                                         \\\\\n",
       "\t  705                                                                           & 60,0                                                                           & 5                                                                              & Yes                                                                            & Det Konservative Folkeparti - Conservative People's Party                      & 1976                                                                           & 67                                                                             & Male                                                                           & 1958                                                                           & Kort videregående uddannelse af op til 2-3 års varighed, F.eks. Erhvervsakadem & 22                                                                             & 37                                                                             & 45                                                                             & 9999999                                                                        & 9999999                                                                        & 55,0                                                                          \\\\\n",
       "\t 1327                                                                           & 240,0                                                                          & 5                                                                              & NA                                                                             & NA                                                                             & Still in parental home, never left 2 months                                    & NA                                                                             & Male                                                                           & 2000                                                                           & Folkeskole 9.-10. klasse                                                       & 11                                                                             & 37                                                                             & 37                                                                             & 9999999                                                                        & 9999999                                                                        & 37,0                                                                          \\\\\n",
       "\t 3760                                                                           & 300,0                                                                          & 7                                                                              & Not eligible to vote                                                           & NA                                                                             & Still in parental home, never left 2 months                                    & 40                                                                             & Male                                                                           & 2002                                                                           & Folkeskole 9.-10. klasse                                                       &  9                                                                             &  2                                                                             &  2                                                                             &     200                                                                        & 9999999                                                                        & 43,0                                                                          \\\\\n",
       "\t 4658                                                                           & 90,0                                                                           & 8                                                                              & Yes                                                                            & NA                                                                             & 1974                                                                           & 50                                                                             & Female                                                                         & 1956                                                                           & Kort videregående uddannelse af op til 2-3 års varighed, F.eks. Erhvervsakadem &  4                                                                             & 30                                                                             & 30                                                                             & 9999999                                                                        & 9999999                                                                        & 62,0                                                                          \\\\\n",
       "\t 5816                                                                           & 90,0                                                                           & 7                                                                              & Yes                                                                            & SF Socialistisk Folkeparti - Socialist People's Party                          & 1994                                                                           & 60                                                                             & Male                                                                           & 1974                                                                           & Mellemlang videregående uddannelse af 3-4 års varighed. Professionsbachelorer, & 35                                                                             & 37                                                                             & 37                                                                             &   37000                                                                        &   35000                                                                        & 61,0                                                                          \\\\\n",
       "\\end{tabular}\n"
      ],
      "text/markdown": [
       "\n",
       "| idno | netustm | ppltrst | vote | prtvtddk | lvpntyr | tygrtr | gndr | yrbrn | edlvddk | eduyrs | wkhct | wkhtot | grspnum | frlgrsp | inwtm |\n",
       "|---|---|---|---|---|---|---|---|---|---|---|---|---|---|---|---|\n",
       "|  110                                                                           | 180,0                                                                          | 8                                                                              | Yes                                                                            | Socialdemokratiet - The Social democrats                                       | 1968                                                                           | Never too young                                                                | Male                                                                           | 1949                                                                           | Kort videregående uddannelse af op til 2-3 års varighed, F.eks. Erhvervsakadem |  9                                                                             | 28                                                                             | 28                                                                             | 9999999                                                                        | 9999999                                                                        | 119,0                                                                          |\n",
       "|  705                                                                           | 60,0                                                                           | 5                                                                              | Yes                                                                            | Det Konservative Folkeparti - Conservative People's Party                      | 1976                                                                           | 67                                                                             | Male                                                                           | 1958                                                                           | Kort videregående uddannelse af op til 2-3 års varighed, F.eks. Erhvervsakadem | 22                                                                             | 37                                                                             | 45                                                                             | 9999999                                                                        | 9999999                                                                        | 55,0                                                                           |\n",
       "| 1327                                                                           | 240,0                                                                          | 5                                                                              | NA                                                                             | NA                                                                             | Still in parental home, never left 2 months                                    | NA                                                                             | Male                                                                           | 2000                                                                           | Folkeskole 9.-10. klasse                                                       | 11                                                                             | 37                                                                             | 37                                                                             | 9999999                                                                        | 9999999                                                                        | 37,0                                                                           |\n",
       "| 3760                                                                           | 300,0                                                                          | 7                                                                              | Not eligible to vote                                                           | NA                                                                             | Still in parental home, never left 2 months                                    | 40                                                                             | Male                                                                           | 2002                                                                           | Folkeskole 9.-10. klasse                                                       |  9                                                                             |  2                                                                             |  2                                                                             |     200                                                                        | 9999999                                                                        | 43,0                                                                           |\n",
       "| 4658                                                                           | 90,0                                                                           | 8                                                                              | Yes                                                                            | NA                                                                             | 1974                                                                           | 50                                                                             | Female                                                                         | 1956                                                                           | Kort videregående uddannelse af op til 2-3 års varighed, F.eks. Erhvervsakadem |  4                                                                             | 30                                                                             | 30                                                                             | 9999999                                                                        | 9999999                                                                        | 62,0                                                                           |\n",
       "| 5816                                                                           | 90,0                                                                           | 7                                                                              | Yes                                                                            | SF Socialistisk Folkeparti - Socialist People's Party                          | 1994                                                                           | 60                                                                             | Male                                                                           | 1974                                                                           | Mellemlang videregående uddannelse af 3-4 års varighed. Professionsbachelorer, | 35                                                                             | 37                                                                             | 37                                                                             |   37000                                                                        |   35000                                                                        | 61,0                                                                           |\n",
       "\n"
      ],
      "text/plain": [
       "  idno netustm ppltrst vote                \n",
       "1  110 180,0   8       Yes                 \n",
       "2  705 60,0    5       Yes                 \n",
       "3 1327 240,0   5       NA                  \n",
       "4 3760 300,0   7       Not eligible to vote\n",
       "5 4658 90,0    8       Yes                 \n",
       "6 5816 90,0    7       Yes                 \n",
       "  prtvtddk                                                 \n",
       "1 Socialdemokratiet - The Social democrats                 \n",
       "2 Det Konservative Folkeparti - Conservative People's Party\n",
       "3 NA                                                       \n",
       "4 NA                                                       \n",
       "5 NA                                                       \n",
       "6 SF Socialistisk Folkeparti - Socialist People's Party    \n",
       "  lvpntyr                                     tygrtr          gndr   yrbrn\n",
       "1 1968                                        Never too young Male   1949 \n",
       "2 1976                                        67              Male   1958 \n",
       "3 Still in parental home, never left 2 months NA              Male   2000 \n",
       "4 Still in parental home, never left 2 months 40              Male   2002 \n",
       "5 1974                                        50              Female 1956 \n",
       "6 1994                                        60              Male   1974 \n",
       "  edlvddk                                                                       \n",
       "1 Kort videregående uddannelse af op til 2-3 års varighed, F.eks. Erhvervsakadem\n",
       "2 Kort videregående uddannelse af op til 2-3 års varighed, F.eks. Erhvervsakadem\n",
       "3 Folkeskole 9.-10. klasse                                                      \n",
       "4 Folkeskole 9.-10. klasse                                                      \n",
       "5 Kort videregående uddannelse af op til 2-3 års varighed, F.eks. Erhvervsakadem\n",
       "6 Mellemlang videregående uddannelse af 3-4 års varighed. Professionsbachelorer,\n",
       "  eduyrs wkhct wkhtot grspnum frlgrsp inwtm\n",
       "1  9     28    28     9999999 9999999 119,0\n",
       "2 22     37    45     9999999 9999999 55,0 \n",
       "3 11     37    37     9999999 9999999 37,0 \n",
       "4  9      2     2         200 9999999 43,0 \n",
       "5  4     30    30     9999999 9999999 62,0 \n",
       "6 35     37    37       37000   35000 61,0 "
      ]
     },
     "metadata": {},
     "output_type": "display_data"
    }
   ],
   "source": [
    "ess2018 <- read_csv2(\"https://raw.githubusercontent.com/CALDISS-AAU/workshop_r-extended-intro/master/data/ESS2018DK_subset_with-errors.csv\") # Works with \";\"\n",
    "head(ess2018)"
   ]
  },
  {
   "cell_type": "markdown",
   "metadata": {},
   "source": [
    "Alternatively, the function `read_delim()` can be used where the delimiter (the character separating the values) is specified:"
   ]
  },
  {
   "cell_type": "code",
   "execution_count": 23,
   "metadata": {},
   "outputs": [
    {
     "name": "stderr",
     "output_type": "stream",
     "text": [
      "Parsed with column specification:\n",
      "cols(\n",
      "  idno = col_double(),\n",
      "  netustm = col_character(),\n",
      "  ppltrst = col_character(),\n",
      "  vote = col_character(),\n",
      "  prtvtddk = col_character(),\n",
      "  lvpntyr = col_character(),\n",
      "  tygrtr = col_character(),\n",
      "  gndr = col_character(),\n",
      "  yrbrn = col_double(),\n",
      "  edlvddk = col_character(),\n",
      "  eduyrs = col_double(),\n",
      "  wkhct = col_double(),\n",
      "  wkhtot = col_double(),\n",
      "  grspnum = col_double(),\n",
      "  frlgrsp = col_double(),\n",
      "  inwtm = col_character()\n",
      ")\n"
     ]
    },
    {
     "data": {
      "text/html": [
       "<table>\n",
       "<thead><tr><th scope=col>idno</th><th scope=col>netustm</th><th scope=col>ppltrst</th><th scope=col>vote</th><th scope=col>prtvtddk</th><th scope=col>lvpntyr</th><th scope=col>tygrtr</th><th scope=col>gndr</th><th scope=col>yrbrn</th><th scope=col>edlvddk</th><th scope=col>eduyrs</th><th scope=col>wkhct</th><th scope=col>wkhtot</th><th scope=col>grspnum</th><th scope=col>frlgrsp</th><th scope=col>inwtm</th></tr></thead>\n",
       "<tbody>\n",
       "\t<tr><td> 110                                                                          </td><td>180,0                                                                         </td><td>8                                                                             </td><td>Yes                                                                           </td><td>Socialdemokratiet - The Social democrats                                      </td><td>1968                                                                          </td><td>Never too young                                                               </td><td>Male                                                                          </td><td>1949                                                                          </td><td>Kort videregående uddannelse af op til 2-3 års varighed, F.eks. Erhvervsakadem</td><td> 9                                                                            </td><td>28                                                                            </td><td>28                                                                            </td><td>9999999                                                                       </td><td>9999999                                                                       </td><td>119,0                                                                         </td></tr>\n",
       "\t<tr><td> 705                                                                          </td><td>60,0                                                                          </td><td>5                                                                             </td><td>Yes                                                                           </td><td>Det Konservative Folkeparti - Conservative People's Party                     </td><td>1976                                                                          </td><td>67                                                                            </td><td>Male                                                                          </td><td>1958                                                                          </td><td>Kort videregående uddannelse af op til 2-3 års varighed, F.eks. Erhvervsakadem</td><td>22                                                                            </td><td>37                                                                            </td><td>45                                                                            </td><td>9999999                                                                       </td><td>9999999                                                                       </td><td>55,0                                                                          </td></tr>\n",
       "\t<tr><td>1327                                                                          </td><td>240,0                                                                         </td><td>5                                                                             </td><td>NA                                                                            </td><td>NA                                                                            </td><td>Still in parental home, never left 2 months                                   </td><td>NA                                                                            </td><td>Male                                                                          </td><td>2000                                                                          </td><td>Folkeskole 9.-10. klasse                                                      </td><td>11                                                                            </td><td>37                                                                            </td><td>37                                                                            </td><td>9999999                                                                       </td><td>9999999                                                                       </td><td>37,0                                                                          </td></tr>\n",
       "\t<tr><td>3760                                                                          </td><td>300,0                                                                         </td><td>7                                                                             </td><td>Not eligible to vote                                                          </td><td>NA                                                                            </td><td>Still in parental home, never left 2 months                                   </td><td>40                                                                            </td><td>Male                                                                          </td><td>2002                                                                          </td><td>Folkeskole 9.-10. klasse                                                      </td><td> 9                                                                            </td><td> 2                                                                            </td><td> 2                                                                            </td><td>    200                                                                       </td><td>9999999                                                                       </td><td>43,0                                                                          </td></tr>\n",
       "\t<tr><td>4658                                                                          </td><td>90,0                                                                          </td><td>8                                                                             </td><td>Yes                                                                           </td><td>NA                                                                            </td><td>1974                                                                          </td><td>50                                                                            </td><td>Female                                                                        </td><td>1956                                                                          </td><td>Kort videregående uddannelse af op til 2-3 års varighed, F.eks. Erhvervsakadem</td><td> 4                                                                            </td><td>30                                                                            </td><td>30                                                                            </td><td>9999999                                                                       </td><td>9999999                                                                       </td><td>62,0                                                                          </td></tr>\n",
       "\t<tr><td>5816                                                                          </td><td>90,0                                                                          </td><td>7                                                                             </td><td>Yes                                                                           </td><td>SF Socialistisk Folkeparti - Socialist People's Party                         </td><td>1994                                                                          </td><td>60                                                                            </td><td>Male                                                                          </td><td>1974                                                                          </td><td>Mellemlang videregående uddannelse af 3-4 års varighed. Professionsbachelorer,</td><td>35                                                                            </td><td>37                                                                            </td><td>37                                                                            </td><td>  37000                                                                       </td><td>  35000                                                                       </td><td>61,0                                                                          </td></tr>\n",
       "</tbody>\n",
       "</table>\n"
      ],
      "text/latex": [
       "\\begin{tabular}{r|llllllllllllllll}\n",
       " idno & netustm & ppltrst & vote & prtvtddk & lvpntyr & tygrtr & gndr & yrbrn & edlvddk & eduyrs & wkhct & wkhtot & grspnum & frlgrsp & inwtm\\\\\n",
       "\\hline\n",
       "\t  110                                                                           & 180,0                                                                          & 8                                                                              & Yes                                                                            & Socialdemokratiet - The Social democrats                                       & 1968                                                                           & Never too young                                                                & Male                                                                           & 1949                                                                           & Kort videregående uddannelse af op til 2-3 års varighed, F.eks. Erhvervsakadem &  9                                                                             & 28                                                                             & 28                                                                             & 9999999                                                                        & 9999999                                                                        & 119,0                                                                         \\\\\n",
       "\t  705                                                                           & 60,0                                                                           & 5                                                                              & Yes                                                                            & Det Konservative Folkeparti - Conservative People's Party                      & 1976                                                                           & 67                                                                             & Male                                                                           & 1958                                                                           & Kort videregående uddannelse af op til 2-3 års varighed, F.eks. Erhvervsakadem & 22                                                                             & 37                                                                             & 45                                                                             & 9999999                                                                        & 9999999                                                                        & 55,0                                                                          \\\\\n",
       "\t 1327                                                                           & 240,0                                                                          & 5                                                                              & NA                                                                             & NA                                                                             & Still in parental home, never left 2 months                                    & NA                                                                             & Male                                                                           & 2000                                                                           & Folkeskole 9.-10. klasse                                                       & 11                                                                             & 37                                                                             & 37                                                                             & 9999999                                                                        & 9999999                                                                        & 37,0                                                                          \\\\\n",
       "\t 3760                                                                           & 300,0                                                                          & 7                                                                              & Not eligible to vote                                                           & NA                                                                             & Still in parental home, never left 2 months                                    & 40                                                                             & Male                                                                           & 2002                                                                           & Folkeskole 9.-10. klasse                                                       &  9                                                                             &  2                                                                             &  2                                                                             &     200                                                                        & 9999999                                                                        & 43,0                                                                          \\\\\n",
       "\t 4658                                                                           & 90,0                                                                           & 8                                                                              & Yes                                                                            & NA                                                                             & 1974                                                                           & 50                                                                             & Female                                                                         & 1956                                                                           & Kort videregående uddannelse af op til 2-3 års varighed, F.eks. Erhvervsakadem &  4                                                                             & 30                                                                             & 30                                                                             & 9999999                                                                        & 9999999                                                                        & 62,0                                                                          \\\\\n",
       "\t 5816                                                                           & 90,0                                                                           & 7                                                                              & Yes                                                                            & SF Socialistisk Folkeparti - Socialist People's Party                          & 1994                                                                           & 60                                                                             & Male                                                                           & 1974                                                                           & Mellemlang videregående uddannelse af 3-4 års varighed. Professionsbachelorer, & 35                                                                             & 37                                                                             & 37                                                                             &   37000                                                                        &   35000                                                                        & 61,0                                                                          \\\\\n",
       "\\end{tabular}\n"
      ],
      "text/markdown": [
       "\n",
       "| idno | netustm | ppltrst | vote | prtvtddk | lvpntyr | tygrtr | gndr | yrbrn | edlvddk | eduyrs | wkhct | wkhtot | grspnum | frlgrsp | inwtm |\n",
       "|---|---|---|---|---|---|---|---|---|---|---|---|---|---|---|---|\n",
       "|  110                                                                           | 180,0                                                                          | 8                                                                              | Yes                                                                            | Socialdemokratiet - The Social democrats                                       | 1968                                                                           | Never too young                                                                | Male                                                                           | 1949                                                                           | Kort videregående uddannelse af op til 2-3 års varighed, F.eks. Erhvervsakadem |  9                                                                             | 28                                                                             | 28                                                                             | 9999999                                                                        | 9999999                                                                        | 119,0                                                                          |\n",
       "|  705                                                                           | 60,0                                                                           | 5                                                                              | Yes                                                                            | Det Konservative Folkeparti - Conservative People's Party                      | 1976                                                                           | 67                                                                             | Male                                                                           | 1958                                                                           | Kort videregående uddannelse af op til 2-3 års varighed, F.eks. Erhvervsakadem | 22                                                                             | 37                                                                             | 45                                                                             | 9999999                                                                        | 9999999                                                                        | 55,0                                                                           |\n",
       "| 1327                                                                           | 240,0                                                                          | 5                                                                              | NA                                                                             | NA                                                                             | Still in parental home, never left 2 months                                    | NA                                                                             | Male                                                                           | 2000                                                                           | Folkeskole 9.-10. klasse                                                       | 11                                                                             | 37                                                                             | 37                                                                             | 9999999                                                                        | 9999999                                                                        | 37,0                                                                           |\n",
       "| 3760                                                                           | 300,0                                                                          | 7                                                                              | Not eligible to vote                                                           | NA                                                                             | Still in parental home, never left 2 months                                    | 40                                                                             | Male                                                                           | 2002                                                                           | Folkeskole 9.-10. klasse                                                       |  9                                                                             |  2                                                                             |  2                                                                             |     200                                                                        | 9999999                                                                        | 43,0                                                                           |\n",
       "| 4658                                                                           | 90,0                                                                           | 8                                                                              | Yes                                                                            | NA                                                                             | 1974                                                                           | 50                                                                             | Female                                                                         | 1956                                                                           | Kort videregående uddannelse af op til 2-3 års varighed, F.eks. Erhvervsakadem |  4                                                                             | 30                                                                             | 30                                                                             | 9999999                                                                        | 9999999                                                                        | 62,0                                                                           |\n",
       "| 5816                                                                           | 90,0                                                                           | 7                                                                              | Yes                                                                            | SF Socialistisk Folkeparti - Socialist People's Party                          | 1994                                                                           | 60                                                                             | Male                                                                           | 1974                                                                           | Mellemlang videregående uddannelse af 3-4 års varighed. Professionsbachelorer, | 35                                                                             | 37                                                                             | 37                                                                             |   37000                                                                        |   35000                                                                        | 61,0                                                                           |\n",
       "\n"
      ],
      "text/plain": [
       "  idno netustm ppltrst vote                \n",
       "1  110 180,0   8       Yes                 \n",
       "2  705 60,0    5       Yes                 \n",
       "3 1327 240,0   5       NA                  \n",
       "4 3760 300,0   7       Not eligible to vote\n",
       "5 4658 90,0    8       Yes                 \n",
       "6 5816 90,0    7       Yes                 \n",
       "  prtvtddk                                                 \n",
       "1 Socialdemokratiet - The Social democrats                 \n",
       "2 Det Konservative Folkeparti - Conservative People's Party\n",
       "3 NA                                                       \n",
       "4 NA                                                       \n",
       "5 NA                                                       \n",
       "6 SF Socialistisk Folkeparti - Socialist People's Party    \n",
       "  lvpntyr                                     tygrtr          gndr   yrbrn\n",
       "1 1968                                        Never too young Male   1949 \n",
       "2 1976                                        67              Male   1958 \n",
       "3 Still in parental home, never left 2 months NA              Male   2000 \n",
       "4 Still in parental home, never left 2 months 40              Male   2002 \n",
       "5 1974                                        50              Female 1956 \n",
       "6 1994                                        60              Male   1974 \n",
       "  edlvddk                                                                       \n",
       "1 Kort videregående uddannelse af op til 2-3 års varighed, F.eks. Erhvervsakadem\n",
       "2 Kort videregående uddannelse af op til 2-3 års varighed, F.eks. Erhvervsakadem\n",
       "3 Folkeskole 9.-10. klasse                                                      \n",
       "4 Folkeskole 9.-10. klasse                                                      \n",
       "5 Kort videregående uddannelse af op til 2-3 års varighed, F.eks. Erhvervsakadem\n",
       "6 Mellemlang videregående uddannelse af 3-4 års varighed. Professionsbachelorer,\n",
       "  eduyrs wkhct wkhtot grspnum frlgrsp inwtm\n",
       "1  9     28    28     9999999 9999999 119,0\n",
       "2 22     37    45     9999999 9999999 55,0 \n",
       "3 11     37    37     9999999 9999999 37,0 \n",
       "4  9      2     2         200 9999999 43,0 \n",
       "5  4     30    30     9999999 9999999 62,0 \n",
       "6 35     37    37       37000   35000 61,0 "
      ]
     },
     "metadata": {},
     "output_type": "display_data"
    }
   ],
   "source": [
    "ess2018 <- read_delim(\"https://raw.githubusercontent.com/CALDISS-AAU/workshop_r-extended-intro/master/data/ESS2018DK_subset_with-errors.csv\", delim = \";\") # Alternative - specify the delimiter\n",
    "head(ess2018)"
   ]
  },
  {
   "cell_type": "markdown",
   "metadata": {},
   "source": [
    "## Common error 2: Missing not coded as missing\n",
    "\n",
    "As there is no global standard for denoting missing values, the values used for denoting missing values will often vary from dataset to dataset. For surveys, the codebook usually contains information about what values are used to denote missing values (often very high numbers are used).\n",
    "\n",
    "If this is overlooked, one can end up with errorneous results. In the code below, the mean for the variable `grspnum` (usual weekly/monthly/annual gross pay) is calculated:"
   ]
  },
  {
   "cell_type": "code",
   "execution_count": 14,
   "metadata": {},
   "outputs": [
    {
     "data": {
      "text/html": [
       "4833783.85114504"
      ],
      "text/latex": [
       "4833783.85114504"
      ],
      "text/markdown": [
       "4833783.85114504"
      ],
      "text/plain": [
       "[1] 4833784"
      ]
     },
     "metadata": {},
     "output_type": "display_data"
    }
   ],
   "source": [
    "mean(ess2018$grspnum)"
   ]
  },
  {
   "cell_type": "markdown",
   "metadata": {},
   "source": [
    "The result is very high. This is because the variable contains high values to denote the mixing values (this can for example be seen using summary):"
   ]
  },
  {
   "cell_type": "code",
   "execution_count": 15,
   "metadata": {},
   "outputs": [
    {
     "data": {
      "text/plain": [
       "   Min. 1st Qu.  Median    Mean 3rd Qu.    Max. \n",
       "      0   32000  500000 4833784 9999999 9999999 "
      ]
     },
     "metadata": {},
     "output_type": "display_data"
    }
   ],
   "source": [
    "summary(ess2018$grspnum)"
   ]
  },
  {
   "cell_type": "markdown",
   "metadata": {},
   "source": [
    "The function `na_if` from `dplyr` can be used to simply recode specific values to missing:"
   ]
  },
  {
   "cell_type": "code",
   "execution_count": 19,
   "metadata": {},
   "outputs": [
    {
     "data": {
      "text/html": [
       "95986.543902439"
      ],
      "text/latex": [
       "95986.543902439"
      ],
      "text/markdown": [
       "95986.543902439"
      ],
      "text/plain": [
       "[1] 95986.54"
      ]
     },
     "metadata": {},
     "output_type": "display_data"
    }
   ],
   "source": [
    "library(dplyr)\n",
    "\n",
    "ess2018 <- ess2018 %>%\n",
    "    mutate(grspnum = na_if(grspnum, 9999999))\n",
    "\n",
    "mean(ess2018$grspnum, na.rm = TRUE)"
   ]
  },
  {
   "cell_type": "markdown",
   "metadata": {},
   "source": [
    "## Common error 3: Data uses a different decimal point\n",
    "\n",
    "R assumes that periods (\".\") are used as the decimal point in the data. This is however not standard in all countries (some countries use commas). \n",
    "\n",
    "Because R usually does not recognize commas as decimal points, R will instead treat vectors with commas as a character class (string).\n",
    "\n",
    "The variable `inwtm` contains the length of the interview in minutes which should be numeric. It is however currently not possible to perform arithmetic operations on it:"
   ]
  },
  {
   "cell_type": "code",
   "execution_count": 4,
   "metadata": {},
   "outputs": [
    {
     "name": "stderr",
     "output_type": "stream",
     "text": [
      "Warning message in mean.default(ess2018$inwtm, na.rm = TRUE):\n",
      "\"argument is not numeric or logical: returning NA\""
     ]
    },
    {
     "data": {
      "text/html": [
       "&lt;NA&gt;"
      ],
      "text/latex": [
       "<NA>"
      ],
      "text/markdown": [
       "&lt;NA&gt;"
      ],
      "text/plain": [
       "[1] NA"
      ]
     },
     "metadata": {},
     "output_type": "display_data"
    }
   ],
   "source": [
    "mean(ess2018$inwtm, na.rm = TRUE)"
   ]
  },
  {
   "cell_type": "markdown",
   "metadata": {},
   "source": [
    "The code above produces an error because the variable/vector is the wrong class:"
   ]
  },
  {
   "cell_type": "code",
   "execution_count": 6,
   "metadata": {},
   "outputs": [
    {
     "data": {
      "text/html": [
       "'character'"
      ],
      "text/latex": [
       "'character'"
      ],
      "text/markdown": [
       "'character'"
      ],
      "text/plain": [
       "[1] \"character\""
      ]
     },
     "metadata": {},
     "output_type": "display_data"
    },
    {
     "data": {
      "text/html": [
       "<ol class=list-inline>\n",
       "\t<li>'119,0'</li>\n",
       "\t<li>'55,0'</li>\n",
       "\t<li>'37,0'</li>\n",
       "\t<li>'43,0'</li>\n",
       "\t<li>'62,0'</li>\n",
       "\t<li>'61,0'</li>\n",
       "</ol>\n"
      ],
      "text/latex": [
       "\\begin{enumerate*}\n",
       "\\item '119,0'\n",
       "\\item '55,0'\n",
       "\\item '37,0'\n",
       "\\item '43,0'\n",
       "\\item '62,0'\n",
       "\\item '61,0'\n",
       "\\end{enumerate*}\n"
      ],
      "text/markdown": [
       "1. '119,0'\n",
       "2. '55,0'\n",
       "3. '37,0'\n",
       "4. '43,0'\n",
       "5. '62,0'\n",
       "6. '61,0'\n",
       "\n",
       "\n"
      ],
      "text/plain": [
       "[1] \"119,0\" \"55,0\"  \"37,0\"  \"43,0\"  \"62,0\"  \"61,0\" "
      ]
     },
     "metadata": {},
     "output_type": "display_data"
    }
   ],
   "source": [
    "class(ess2018$inwtm)\n",
    "head(ess2018$inwtm)"
   ]
  },
  {
   "cell_type": "markdown",
   "metadata": {},
   "source": [
    "If we simply try to coerce the class, R will convert them all to missing values:"
   ]
  },
  {
   "cell_type": "code",
   "execution_count": 9,
   "metadata": {},
   "outputs": [
    {
     "name": "stderr",
     "output_type": "stream",
     "text": [
      "Warning message in head(as.numeric(ess2018$inwtm)):\n",
      "\"NAs introduced by coercion\""
     ]
    },
    {
     "data": {
      "text/html": [
       "<ol class=list-inline>\n",
       "\t<li>&lt;NA&gt;</li>\n",
       "\t<li>&lt;NA&gt;</li>\n",
       "\t<li>&lt;NA&gt;</li>\n",
       "\t<li>&lt;NA&gt;</li>\n",
       "\t<li>&lt;NA&gt;</li>\n",
       "\t<li>&lt;NA&gt;</li>\n",
       "</ol>\n"
      ],
      "text/latex": [
       "\\begin{enumerate*}\n",
       "\\item <NA>\n",
       "\\item <NA>\n",
       "\\item <NA>\n",
       "\\item <NA>\n",
       "\\item <NA>\n",
       "\\item <NA>\n",
       "\\end{enumerate*}\n"
      ],
      "text/markdown": [
       "1. &lt;NA&gt;\n",
       "2. &lt;NA&gt;\n",
       "3. &lt;NA&gt;\n",
       "4. &lt;NA&gt;\n",
       "5. &lt;NA&gt;\n",
       "6. &lt;NA&gt;\n",
       "\n",
       "\n"
      ],
      "text/plain": [
       "[1] NA NA NA NA NA NA"
      ]
     },
     "metadata": {},
     "output_type": "display_data"
    }
   ],
   "source": [
    "head(as.numeric(ess2018$inwtm))"
   ]
  },
  {
   "cell_type": "markdown",
   "metadata": {},
   "source": [
    "This error can either be fixed by correcting the data before importing. Alternatively, the commas can be replaced with periods in R and then make the coercion.\n",
    "\n",
    "In the code below, the function `str_replace()` from the package `stringr` is used to replace the commas with periods (`gsub()` also works):"
   ]
  },
  {
   "cell_type": "code",
   "execution_count": 13,
   "metadata": {},
   "outputs": [
    {
     "data": {
      "text/html": [
       "62.6768837803321"
      ],
      "text/latex": [
       "62.6768837803321"
      ],
      "text/markdown": [
       "62.6768837803321"
      ],
      "text/plain": [
       "[1] 62.67688"
      ]
     },
     "metadata": {},
     "output_type": "display_data"
    }
   ],
   "source": [
    "library(stringr)\n",
    "# Using base R recoding\n",
    "\n",
    "ess2018$inwtm <- str_replace(ess2018$inwtm, \",\", \".\") # Replace commas with periods\n",
    "ess2018$inwtm <- as.numeric(ess2018$inwtm) # Coerce to numeric class\n",
    "\n",
    "mean(ess2018$inwtm, na.rm = TRUE)"
   ]
  },
  {
   "cell_type": "markdown",
   "metadata": {},
   "source": [
    "## EXERCISE: COMMON ERRORS\n",
    "\n",
    "- Load the data \"ESS2018DK_subset_with-errors.csv\" if you have not already. Make sure it is imported using the correct delimiter.\n",
    "    - Link: https://raw.githubusercontent.com/CALDISS-AAU/workshop_r-extended-intro/master/data/ESS2018DK_subset_with-errors.csv\n",
    "\n",
    "\n",
    "- The variable `frlgrsp` contains what level of weekly/monthly/annual gross pay the respondent feel is fair for them. Try calculating the mean of the variable. The variable may contain high values to denote missing values so be sure to recode these first.\n",
    "\n",
    "- The variable `netustm` contains how much time the respondent spends on the internet on a typical day (in minutes). Try calculating the mean time the repondent spends on the internet on a typical day. If you encounter errors, try correcting them and calculaing the mean again."
   ]
  }
 ],
 "metadata": {
  "kernelspec": {
   "display_name": "R",
   "language": "R",
   "name": "ir"
  },
  "language_info": {
   "codemirror_mode": "r",
   "file_extension": ".r",
   "mimetype": "text/x-r-source",
   "name": "R",
   "pygments_lexer": "r",
   "version": "3.6.1"
  }
 },
 "nbformat": 4,
 "nbformat_minor": 4
}
