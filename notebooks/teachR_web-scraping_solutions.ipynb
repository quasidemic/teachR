{
 "cells": [
  {
   "cell_type": "markdown",
   "metadata": {},
   "source": [
    "# Web Scraping with R"
   ]
  },
  {
   "cell_type": "markdown",
   "metadata": {},
   "source": [
    "## What is web scraping\n",
    "\n",
    "\"Web scraping\" is an umbrella term for various methods for collecting data from websites. These methods can either be manual or more or less automated. \n",
    "\n",
    "Typically \"web scraping\" refers to techniques that gathers information programatically from the internet in some way (i.e. not via a browser).\n",
    "\n",
    "Working with web scraping involves both collecting the raw data from the internet as well as handling and converting these data to a data format that can be processed in some way.\n",
    "\n",
    "### Why is web scraping relevant?\n",
    "\n",
    "**1. The internet is in itself a relevant field of research**\n",
    "\n",
    "The internet is completely intertwined with our daily lives and practices. Both information on the internet and information about our use of the internet provide insights into habits, consumption and interaction.\n",
    "\n",
    "**2. The internet is a data source**\n",
    "\n",
    "The internet is a massive collection of information and we need techniques for collecting data from it.\n",
    "\n",
    "### Types of web scraping\n",
    "\n",
    "One can discern between these main types of web-scraping:\n",
    "\n",
    "- \"Raw\" web scraping: Techniques collecting the raw information (source codes) from webpages.\n",
    "- API-based: Use of avilable API's (application programming interfaces) to access data made available\n",
    "\n",
    "Within \"raw\" web scraping, these terms are used to describe specific kinds of scraping tools:\n",
    "- Spiders: A scraper that collects information about how websites refer to each other (a network)\n",
    "- Crawlers: A scraper that jumps from website to website and completes specific scraping tasks\n",
    "\n",
    "In this workshop, you will be introduced to raw web scraping techniques."
   ]
  },
  {
   "cell_type": "markdown",
   "metadata": {},
   "source": [
    "## A note on the legality of web scraping\n",
    "\n",
    "As this workshop introduces raw web scraping tools, you are given the tools to start collecting data yourselves from various websites.\n",
    "\n",
    "***Make sure that you are allowed to scrape a website before scraping it as your scraping could be considered a criminal act and/or in vioilation of copyright law or personal data laws (GDPR)***\n",
    "\n",
    "### Web scraping and copyright law (terms of service/use)\n",
    "\n",
    "The data that various companies make available on websites is typically owned by those companies. Many websites have specific \"terms of service\" or \"terms of use\" in which they may specify that scraping their websites is a violation of their terms. \n",
    "\n",
    "Companies write this as part of their terms because scraping can be used to create websites that copies content from other websites automatically. \n",
    "\n",
    "### Web scraping and personal data\n",
    "\n",
    "Some data on the web (especially data on social media) is a huge gray area regarding personal data: Is data that a person voluntarily uploads to a public social media page still their data and personal? Some cases \"yes\", some cases \"no\", some cases hard to tell. \n",
    "\n",
    "Also keep in mind that websites like Facebook, Twitter and Instagram have specific terms for using their data, as they are responsible for and, in principle, own the data being uploaded. Facebook and Instagram fx does not allow the automatic collection of their data (specified in their terms of service).\n",
    "\n",
    "### Web scraping and \"hacking\"\n",
    "\n",
    "A website is located on a server. Every time a website is visited, the server receives a \"request\" that has to be processed by the server. The more requests, the busier and more congested the server. \n",
    "\n",
    "In programming tools like R or Python, it is easy to write code that repeats specicif commands. This allows one to send a huge amount of requests in a very short time.\n",
    "\n",
    "***This can be considered an attack on the server and is illegal!***"
   ]
  },
  {
   "cell_type": "markdown",
   "metadata": {},
   "source": [
    "## How the internet and browsers work (lightning fast edition)\n",
    "\n",
    "### The internet 101\n",
    "\n",
    "- The internet: A global system of connected computers and servers (\"Internet\" short for \"interconnected network\")\n",
    "- \"(World Wide) Web\" (WWW): A collection of resources accessible via the internet\n",
    "    - The \"web\" can be considered the navigatable and public parts of the internet\n",
    "- Every computer or server on the internet has a unique ID in the form of a IP-address (fx 127.28.115.253)\n",
    "    - IP: Internet Protocol\n",
    "- When accessing the internet via the web, other computers and servers are contacted to retrieve information\n",
    "- The web uses \"URL's\" to give unique and human-readable addresses to servers (instead of IP-addresses)\n",
    "    - URL: Unuform Resource Locators\n",
    "- The connection between an IP-address and a URL is handles by DNS servers\n",
    "    - DNS: Domain Name System\n",
    "    \n",
    "<img src=\"https://upload.wikimedia.org/wikipedia/commons/3/3f/Internet_map_1024_-_transparent%2C_inverted.png\" alt=\"opte\" width=\"600\"/>\n",
    "\n",
    "*Opte Project 2005*\n",
    "\n",
    "![dns](https://cdn2.wpbeginner.com/wp-content/uploads/2019/06/howdomainswork.png)\n",
    "\n",
    "*wpbeginner.com*\n",
    "\n",
    "**What does this mean?**\n",
    "\n",
    "The way the internet is constructed has the following consquences:\n",
    "\n",
    "- There is not a common \"address book\" for the internet (DNS servers are hosted by several providers)\n",
    "- Accessing resources on the web means accessing some raw information on a server or computer\n",
    "\n",
    "### How does a browser work?\n",
    "\n",
    "Accessing resources on the web means accessing some raw information. When you are asking for a website via a browser, you are therefore asking for the raw source code located on that server.\n",
    "\n",
    "A \"browser\" is a program used for accessing the web, handling the requests to a specific URL, resolving DNS (which IP to which URL) and translating the raw source code to something human-readable.\n",
    "\n",
    "When accessing the web in programming tools like R or Python, one has to replicate a lot of this functionality - especially the one relating to processing the raw source code."
   ]
  },
  {
   "cell_type": "markdown",
   "metadata": {},
   "source": [
    "## Accessing the internet through R\n",
    "\n",
    "`httr` can be used to access webpages (or, more generally, send requests over the internet)."
   ]
  },
  {
   "cell_type": "code",
   "execution_count": null,
   "metadata": {},
   "outputs": [],
   "source": [
    "library(httr)\n",
    "\n",
    "request <- GET(\"https://www.imdb.com/title/tt9820556/?ref_=tt_mv_close\")"
   ]
  },
  {
   "cell_type": "markdown",
   "metadata": {},
   "source": [
    "Did we reach the page?"
   ]
  },
  {
   "cell_type": "code",
   "execution_count": 3,
   "metadata": {},
   "outputs": [
    {
     "data": {
      "text/html": [
       "200"
      ],
      "text/latex": [
       "200"
      ],
      "text/markdown": [
       "200"
      ],
      "text/plain": [
       "[1] 200"
      ]
     },
     "metadata": {},
     "output_type": "display_data"
    }
   ],
   "source": [
    "status_code(request)"
   ]
  },
  {
   "cell_type": "markdown",
   "metadata": {},
   "source": [
    "Yes!"
   ]
  },
  {
   "cell_type": "markdown",
   "metadata": {},
   "source": [
    "**Quick note on status codes**\n",
    "\n",
    "- Status codes beginning with 2 or 3: The request is successful\n",
    "- Status codes beginning with 4: The request has failed (client-side, fx 404 when specifying a URL that does not exist on a given domain).\n",
    "- Status codes beginning with 5: The request has failed (server-side)\n",
    "\n",
    "Status codes can be used in code to check whether or not a site is reached before scraping."
   ]
  },
  {
   "cell_type": "markdown",
   "metadata": {},
   "source": [
    "**Content of a webpage**\n",
    "\n",
    "The text from the webpage can be extracted as follows:"
   ]
  },
  {
   "cell_type": "code",
   "execution_count": 4,
   "metadata": {},
   "outputs": [],
   "source": [
    "web_content = content(request, as = \"text\")"
   ]
  },
  {
   "cell_type": "code",
   "execution_count": 9,
   "metadata": {},
   "outputs": [
    {
     "data": {
      "text/html": [
       "<span style=white-space:pre-wrap>'\\n\\n\\n\\n\\n\\n&lt;!DOCTYPE html&gt;\\n&lt;html\\n    xmlns:og=\"http://ogp.me/ns#\"\\n    xmlns:fb=\"http://www.facebook.com/2008/fbml\"&gt;\\n    &lt;head&gt;\\n        \\n&lt;script type=\\'text/javascript\\'&gt;var ue_t0=ue_t0||+new Date();&lt;/script&gt;\\n&lt;script type=\\'text/javascript\\'&gt;\\nwindow.ue_ihb = (window.ue_ihb || window.ueinit || 0) + 1;\\nif (window.ue_ihb === 1) {\\n\\nvar ue_csm = window,\\n    ue_hob = +new Date();\\n(function(d){var e=d.ue=d.ue||{},f=Date.now||function(){return+new Date};e.d=function(b){return f()-(b?0:d.ue_t0)};e.stub=function(b,a){if(!b[a]){var c=[];b[a]=function(){c.push([c.slice.call(arguments),e.d(),d.ue_id])};b[a].replay=function(b){for(var a;a=c.shift();)b(a[0],a[1],a[2])};b[a].isStub=1}};e.exec=function(b,a){return function(){try{return b.apply(this,arguments)}catch(c){ueLogError(c,{attribution:a||\"undefined\",logLevel:\"WARN\"})}}}})(ue_csm);\\n\\n\\n    var ue_err_chan = \\'jserr\\';\\n(function(d,e){function h(f,b){if(!(a.ec&gt;a.mxe)&amp;&amp;f){a.ter.push(f);b=b||{};var c=f.logLevel||b.logLevel;c&amp;&amp;c!==k&amp;&amp;c!==m&amp;&amp;c!==n&amp;&amp;c!==p||a.ec++;c&amp;&amp;c!=k||a.ecf++;b.pageURL=\"\"+(e.location?e.location.href:\"\");b.logLevel=c;b.attribution=f.attribution||b.attribution;a.erl.push({ex:f,info:b})}}function l(a,b,c,e,g){d.ueLogError({m:a,f:b,l:c,c:\"\"+e,err:g,fromOnError:1,args:arguments},g?{attribution:g.attribution,logLevel:g.logLevel}:void 0);return!1}var k=\"FATAL\",m=\"ERROR\",n=\"WARN\",p=\"DOWNGRADED\",a={ec:0,ecf:0,\\npec:0,ts:0,erl:[],ter:[],mxe:50,startTimer:function(){a.ts++;setInterval(function(){d.ue&amp;&amp;a.pec&lt;a.ec&amp;&amp;d.uex(\"at\");a.pec=a.ec},1E4)}};l.skipTrace=1;h.skipTrace=1;h.isStub=1;d.ueLogError=h;d.ue_err=a;e.onerror=l})(ue_csm,window);\\n\\n\\nvar ue_id = \\'DSBSGY751A676ZSADFVQ\\',\\n    ue_url,\\n    ue_navtiming = 1,\\n    ue_mid = \\'A1EVAM02EL8SFB\\',\\n    ue_sid = \\'133-9166980-9444756\\',\\n    ue_sn = \\'www.imdb.com\\',\\n    ue_furl = \\'fls-na.amazon.com\\',\\n    ue_surl = \\'https://unagi-na.amazon.com/1/events/com.amazon.csm.nexusclient.prod\\',\\n    ue_int = 0,\\n    ue_fcsn = 1,\\n    ue_urt = 3,\\n    ue_rpl_ns = \\'cel-rpl\\',\\n    ue_ddq = 1,\\n    ue_fpf = \\'//fls-na.amaz'</span>"
      ],
      "text/latex": [
       "'\\textbackslash{}n\\textbackslash{}n\\textbackslash{}n\\textbackslash{}n\\textbackslash{}n\\textbackslash{}n<!DOCTYPE html>\\textbackslash{}n<html\\textbackslash{}n    xmlns:og=\"http://ogp.me/ns\\#\"\\textbackslash{}n    xmlns:fb=\"http://www.facebook.com/2008/fbml\">\\textbackslash{}n    <head>\\textbackslash{}n        \\textbackslash{}n<script type=\\textbackslash{}'text/javascript\\textbackslash{}'>var ue\\_t0=ue\\_t0\\textbar{}\\textbar{}+new Date();</script>\\textbackslash{}n<script type=\\textbackslash{}'text/javascript\\textbackslash{}'>\\textbackslash{}nwindow.ue\\_ihb = (window.ue\\_ihb \\textbar{}\\textbar{} window.ueinit \\textbar{}\\textbar{} 0) + 1;\\textbackslash{}nif (window.ue\\_ihb === 1) \\{\\textbackslash{}n\\textbackslash{}nvar ue\\_csm = window,\\textbackslash{}n    ue\\_hob = +new Date();\\textbackslash{}n(function(d)\\{var e=d.ue=d.ue\\textbar{}\\textbar{}\\{\\},f=Date.now\\textbar{}\\textbar{}function()\\{return+new Date\\};e.d=function(b)\\{return f()-(b?0:d.ue\\_t0)\\};e.stub=function(b,a)\\{if(!b{[}a{]})\\{var c={[}{]};b{[}a{]}=function()\\{c.push({[}c.slice.call(arguments),e.d(),d.ue\\_id{]})\\};b{[}a{]}.replay=function(b)\\{for(var a;a=c.shift();)b(a{[}0{]},a{[}1{]},a{[}2{]})\\};b{[}a{]}.isStub=1\\}\\};e.exec=function(b,a)\\{return function()\\{try\\{return b.apply(this,arguments)\\}catch(c)\\{ueLogError(c,\\{attribution:a\\textbar{}\\textbar{}\"undefined\",logLevel:\"WARN\"\\})\\}\\}\\}\\})(ue\\_csm);\\textbackslash{}n\\textbackslash{}n\\textbackslash{}n    var ue\\_err\\_chan = \\textbackslash{}'jserr\\textbackslash{}';\\textbackslash{}n(function(d,e)\\{function h(f,b)\\{if(!(a.ec>a.mxe)\\&\\&f)\\{a.ter.push(f);b=b\\textbar{}\\textbar{}\\{\\};var c=f.logLevel\\textbar{}\\textbar{}b.logLevel;c\\&\\&c!==k\\&\\&c!==m\\&\\&c!==n\\&\\&c!==p\\textbar{}\\textbar{}a.ec++;c\\&\\&c!=k\\textbar{}\\textbar{}a.ecf++;b.pageURL=\"\"+(e.location?e.location.href:\"\");b.logLevel=c;b.attribution=f.attribution\\textbar{}\\textbar{}b.attribution;a.erl.push(\\{ex:f,info:b\\})\\}\\}function l(a,b,c,e,g)\\{d.ueLogError(\\{m:a,f:b,l:c,c:\"\"+e,err:g,fromOnError:1,args:arguments\\},g?\\{attribution:g.attribution,logLevel:g.logLevel\\}:void 0);return!1\\}var k=\"FATAL\",m=\"ERROR\",n=\"WARN\",p=\"DOWNGRADED\",a=\\{ec:0,ecf:0,\\textbackslash{}npec:0,ts:0,erl:{[}{]},ter:{[}{]},mxe:50,startTimer:function()\\{a.ts++;setInterval(function()\\{d.ue\\&\\&a.pec<a.ec\\&\\&d.uex(\"at\");a.pec=a.ec\\},1E4)\\}\\};l.skipTrace=1;h.skipTrace=1;h.isStub=1;d.ueLogError=h;d.ue\\_err=a;e.onerror=l\\})(ue\\_csm,window);\\textbackslash{}n\\textbackslash{}n\\textbackslash{}nvar ue\\_id = \\textbackslash{}'DSBSGY751A676ZSADFVQ\\textbackslash{}',\\textbackslash{}n    ue\\_url,\\textbackslash{}n    ue\\_navtiming = 1,\\textbackslash{}n    ue\\_mid = \\textbackslash{}'A1EVAM02EL8SFB\\textbackslash{}',\\textbackslash{}n    ue\\_sid = \\textbackslash{}'133-9166980-9444756\\textbackslash{}',\\textbackslash{}n    ue\\_sn = \\textbackslash{}'www.imdb.com\\textbackslash{}',\\textbackslash{}n    ue\\_furl = \\textbackslash{}'fls-na.amazon.com\\textbackslash{}',\\textbackslash{}n    ue\\_surl = \\textbackslash{}'https://unagi-na.amazon.com/1/events/com.amazon.csm.nexusclient.prod\\textbackslash{}',\\textbackslash{}n    ue\\_int = 0,\\textbackslash{}n    ue\\_fcsn = 1,\\textbackslash{}n    ue\\_urt = 3,\\textbackslash{}n    ue\\_rpl\\_ns = \\textbackslash{}'cel-rpl\\textbackslash{}',\\textbackslash{}n    ue\\_ddq = 1,\\textbackslash{}n    ue\\_fpf = \\textbackslash{}'//fls-na.amaz'"
      ],
      "text/markdown": [
       "<span style=white-space:pre-wrap>'\\n\\n\\n\\n\\n\\n&lt;!DOCTYPE html&gt;\\n&lt;html\\n    xmlns:og=\"http://ogp.me/ns#\"\\n    xmlns:fb=\"http://www.facebook.com/2008/fbml\"&gt;\\n    &lt;head&gt;\\n        \\n&lt;script type=\\'text/javascript\\'&gt;var ue_t0=ue_t0||+new Date();&lt;/script&gt;\\n&lt;script type=\\'text/javascript\\'&gt;\\nwindow.ue_ihb = (window.ue_ihb || window.ueinit || 0) + 1;\\nif (window.ue_ihb === 1) {\\n\\nvar ue_csm = window,\\n    ue_hob = +new Date();\\n(function(d){var e=d.ue=d.ue||{},f=Date.now||function(){return+new Date};e.d=function(b){return f()-(b?0:d.ue_t0)};e.stub=function(b,a){if(!b[a]){var c=[];b[a]=function(){c.push([c.slice.call(arguments),e.d(),d.ue_id])};b[a].replay=function(b){for(var a;a=c.shift();)b(a[0],a[1],a[2])};b[a].isStub=1}};e.exec=function(b,a){return function(){try{return b.apply(this,arguments)}catch(c){ueLogError(c,{attribution:a||\"undefined\",logLevel:\"WARN\"})}}}})(ue_csm);\\n\\n\\n    var ue_err_chan = \\'jserr\\';\\n(function(d,e){function h(f,b){if(!(a.ec&gt;a.mxe)&amp;&amp;f){a.ter.push(f);b=b||{};var c=f.logLevel||b.logLevel;c&amp;&amp;c!==k&amp;&amp;c!==m&amp;&amp;c!==n&amp;&amp;c!==p||a.ec++;c&amp;&amp;c!=k||a.ecf++;b.pageURL=\"\"+(e.location?e.location.href:\"\");b.logLevel=c;b.attribution=f.attribution||b.attribution;a.erl.push({ex:f,info:b})}}function l(a,b,c,e,g){d.ueLogError({m:a,f:b,l:c,c:\"\"+e,err:g,fromOnError:1,args:arguments},g?{attribution:g.attribution,logLevel:g.logLevel}:void 0);return!1}var k=\"FATAL\",m=\"ERROR\",n=\"WARN\",p=\"DOWNGRADED\",a={ec:0,ecf:0,\\npec:0,ts:0,erl:[],ter:[],mxe:50,startTimer:function(){a.ts++;setInterval(function(){d.ue&amp;&amp;a.pec&lt;a.ec&amp;&amp;d.uex(\"at\");a.pec=a.ec},1E4)}};l.skipTrace=1;h.skipTrace=1;h.isStub=1;d.ueLogError=h;d.ue_err=a;e.onerror=l})(ue_csm,window);\\n\\n\\nvar ue_id = \\'DSBSGY751A676ZSADFVQ\\',\\n    ue_url,\\n    ue_navtiming = 1,\\n    ue_mid = \\'A1EVAM02EL8SFB\\',\\n    ue_sid = \\'133-9166980-9444756\\',\\n    ue_sn = \\'www.imdb.com\\',\\n    ue_furl = \\'fls-na.amazon.com\\',\\n    ue_surl = \\'https://unagi-na.amazon.com/1/events/com.amazon.csm.nexusclient.prod\\',\\n    ue_int = 0,\\n    ue_fcsn = 1,\\n    ue_urt = 3,\\n    ue_rpl_ns = \\'cel-rpl\\',\\n    ue_ddq = 1,\\n    ue_fpf = \\'//fls-na.amaz'</span>"
      ],
      "text/plain": [
       "[1] \"\\n\\n\\n\\n\\n\\n<!DOCTYPE html>\\n<html\\n    xmlns:og=\\\"http://ogp.me/ns#\\\"\\n    xmlns:fb=\\\"http://www.facebook.com/2008/fbml\\\">\\n    <head>\\n        \\n<script type='text/javascript'>var ue_t0=ue_t0||+new Date();</script>\\n<script type='text/javascript'>\\nwindow.ue_ihb = (window.ue_ihb || window.ueinit || 0) + 1;\\nif (window.ue_ihb === 1) {\\n\\nvar ue_csm = window,\\n    ue_hob = +new Date();\\n(function(d){var e=d.ue=d.ue||{},f=Date.now||function(){return+new Date};e.d=function(b){return f()-(b?0:d.ue_t0)};e.stub=function(b,a){if(!b[a]){var c=[];b[a]=function(){c.push([c.slice.call(arguments),e.d(),d.ue_id])};b[a].replay=function(b){for(var a;a=c.shift();)b(a[0],a[1],a[2])};b[a].isStub=1}};e.exec=function(b,a){return function(){try{return b.apply(this,arguments)}catch(c){ueLogError(c,{attribution:a||\\\"undefined\\\",logLevel:\\\"WARN\\\"})}}}})(ue_csm);\\n\\n\\n    var ue_err_chan = 'jserr';\\n(function(d,e){function h(f,b){if(!(a.ec>a.mxe)&&f){a.ter.push(f);b=b||{};var c=f.logLevel||b.logLevel;c&&c!==k&&c!==m&&c!==n&&c!==p||a.ec++;c&&c!=k||a.ecf++;b.pageURL=\\\"\\\"+(e.location?e.location.href:\\\"\\\");b.logLevel=c;b.attribution=f.attribution||b.attribution;a.erl.push({ex:f,info:b})}}function l(a,b,c,e,g){d.ueLogError({m:a,f:b,l:c,c:\\\"\\\"+e,err:g,fromOnError:1,args:arguments},g?{attribution:g.attribution,logLevel:g.logLevel}:void 0);return!1}var k=\\\"FATAL\\\",m=\\\"ERROR\\\",n=\\\"WARN\\\",p=\\\"DOWNGRADED\\\",a={ec:0,ecf:0,\\npec:0,ts:0,erl:[],ter:[],mxe:50,startTimer:function(){a.ts++;setInterval(function(){d.ue&&a.pec<a.ec&&d.uex(\\\"at\\\");a.pec=a.ec},1E4)}};l.skipTrace=1;h.skipTrace=1;h.isStub=1;d.ueLogError=h;d.ue_err=a;e.onerror=l})(ue_csm,window);\\n\\n\\nvar ue_id = 'DSBSGY751A676ZSADFVQ',\\n    ue_url,\\n    ue_navtiming = 1,\\n    ue_mid = 'A1EVAM02EL8SFB',\\n    ue_sid = '133-9166980-9444756',\\n    ue_sn = 'www.imdb.com',\\n    ue_furl = 'fls-na.amazon.com',\\n    ue_surl = 'https://unagi-na.amazon.com/1/events/com.amazon.csm.nexusclient.prod',\\n    ue_int = 0,\\n    ue_fcsn = 1,\\n    ue_urt = 3,\\n    ue_rpl_ns = 'cel-rpl',\\n    ue_ddq = 1,\\n    ue_fpf = '//fls-na.amaz\""
      ]
     },
     "metadata": {},
     "output_type": "display_data"
    }
   ],
   "source": [
    "substr(web_content, 1, 2000) # first 2000 characters"
   ]
  },
  {
   "cell_type": "markdown",
   "metadata": {},
   "source": [
    "One could simply process the raw HTML with the use of something like regular expression but seeing as HTML has a structure, one can use that structure to extract specific information."
   ]
  },
  {
   "cell_type": "markdown",
   "metadata": {},
   "source": [
    "## EXERCISE 1: Access the web in R\n",
    "\n",
    "- Use the `GET()` function from `httr` to send a request to \"https://www.imdb.com\" and store the request as an object.\n",
    "\n",
    "- Check the status code: Was the request successful?"
   ]
  },
  {
   "cell_type": "markdown",
   "metadata": {},
   "source": [
    "## A quick introduction to HTML\n",
    "\n",
    "Instead of processing the HTML as raw text, we can utilize the structure of HTML to extract specific parts of a webpage.\n",
    "\n",
    "This requires some knowledge of what HTML is and how it is structured.\n",
    "\n",
    "HTML is short for \"Hyper-Text Markup Language\". It is used on webpages to give the page its structure.\n",
    "\n",
    "HTML is structured in \"tags\" denoted by `<>` and `</>`. The tags denote what kind of content it is. `<p>` is for example a paragraph tag. A piece of HTML like: `<p> This is a paragraph </p>` will render the sentence \"This is a paragraph\" as a paragraph. Common tags include `h1` for headings (and `h2`, `h3` and so on), `a` for links and `div` for a division or section.\n",
    "\n",
    "HTML is structured in a tree-like structure. Tags are therefore usually located within other tags. Tags on the same level is refered to as \"siblings\", tags inside other tags refered to as \"children\" and tags outside other tags refered to as \"parents\".\n",
    "\n",
    "HTML uses \"attributes\" to both differentiate between the same type of tags and to add other variables/information to the tag. The `id` attribute is fx used to give several tags a common id. `class` is used to differentiate between different tags and provide them with different stylings. A common and useful attribute is `href` which contain the link that a hyperlink is refering to."
   ]
  },
  {
   "cell_type": "code",
   "execution_count": 10,
   "metadata": {},
   "outputs": [],
   "source": [
    "html <- deparse(\n",
    "    '<html>\n",
    "    <body>\n",
    "        <div id=\"convo1\">\n",
    "            <p class=\"kenobi\">Hello There!</p>\n",
    "        </div>\n",
    "        <div id=\"convo2\">\n",
    "            <p class=\"grievous\">General Kenobi!</p>\n",
    "        </div>\n",
    "        <div id=\"convo3\">\n",
    "            <p class=\"kenobi\">So Uncivilized!</p>\n",
    "        </div>\n",
    "    </body>\n",
    "    </html>\n",
    "    '\n",
    ")"
   ]
  },
  {
   "cell_type": "markdown",
   "metadata": {},
   "source": [
    "### Inspecting HTML in your browser\n",
    "\n",
    "Let's look at an upcoming movie (\"Breach\"): https://www.imdb.com/title/tt9820556/?ref_=tt_mv_close\n",
    "\n",
    "A browser can be used to inspect the HTML used on the website."
   ]
  },
  {
   "cell_type": "markdown",
   "metadata": {},
   "source": [
    "## EXERCISE 2: Identify HTML\n",
    "\n",
    "Go to the \"Coming Soon\" section on IMDb: https://www.imdb.com/movies-coming-soon/?ref_=nv_mv_cs\n",
    "\n",
    "- Inspect the HTML\n",
    "- Determine the tag used for the titles of the upcoming films. Are they within other tags? What attributes can help navigate to the titles?"
   ]
  },
  {
   "cell_type": "markdown",
   "metadata": {},
   "source": [
    "## Simple HTML extraction using `rvest`\n",
    "\n",
    "`rvest` contains various functions for extracting information from webpages using the HTML structure.\n",
    "\n",
    "Let's look at the movie \"Breach\" again: https://www.imdb.com/title/tt9820556/?ref_=tt_mv_close\n",
    "\n",
    "We start by loading it as an HTML/XML node object in R. This allows us to \"navigate\" the HTML inside R.\n",
    "\n",
    "This can be done with `GET()` and `content()` but the function `read_html()` combines the two functions:"
   ]
  },
  {
   "cell_type": "code",
   "execution_count": 11,
   "metadata": {},
   "outputs": [
    {
     "name": "stderr",
     "output_type": "stream",
     "text": [
      "Loading required package: xml2\n",
      "Registered S3 method overwritten by 'rvest':\n",
      "  method            from\n",
      "  read_xml.response xml2\n"
     ]
    }
   ],
   "source": [
    "library(rvest)\n",
    "\n",
    "breach_html <- read_html(\"https://www.imdb.com/title/tt9820556/?ref_=tt_mv_close\")"
   ]
  },
  {
   "cell_type": "markdown",
   "metadata": {},
   "source": [
    "`html_nodes()` is the \"core function\" in `rvest`. This is used to extract specific parts of the HTML.\n",
    "\n",
    "The title of the movie is located in a `h1` tag:"
   ]
  },
  {
   "cell_type": "code",
   "execution_count": 39,
   "metadata": {},
   "outputs": [],
   "source": [
    "title_html <- html_nodes(breach_html, \"h1\")"
   ]
  },
  {
   "cell_type": "markdown",
   "metadata": {},
   "source": [
    "This receives the HTML of that tag (including children)"
   ]
  },
  {
   "cell_type": "code",
   "execution_count": 40,
   "metadata": {},
   "outputs": [
    {
     "data": {
      "text/plain": [
       "{xml_nodeset (1)}\n",
       "[1] <h1 class=\"\">Anti-Life <span id=\"titleYear\">(<a href=\"/year/2020/?ref_=tt ..."
      ]
     },
     "metadata": {},
     "output_type": "display_data"
    }
   ],
   "source": [
    "title_html"
   ]
  },
  {
   "cell_type": "markdown",
   "metadata": {},
   "source": [
    "We can the retrieve the textual content:"
   ]
  },
  {
   "cell_type": "code",
   "execution_count": 44,
   "metadata": {},
   "outputs": [
    {
     "data": {
      "text/html": [
       "'Anti-Life (2020)'"
      ],
      "text/latex": [
       "'Anti-Life (2020)'"
      ],
      "text/markdown": [
       "'Anti-Life (2020)'"
      ],
      "text/plain": [
       "[1] \"Anti-Life (2020)\""
      ]
     },
     "metadata": {},
     "output_type": "display_data"
    }
   ],
   "source": [
    "title_text <- html_text(title_html, trim = TRUE) # Option to leading and trailing whitespace enabled\n",
    "title_text"
   ]
  },
  {
   "cell_type": "markdown",
   "metadata": {},
   "source": [
    "We can also inspect the attributes inside the tag with `html_attrs()`:"
   ]
  },
  {
   "cell_type": "code",
   "execution_count": 48,
   "metadata": {},
   "outputs": [
    {
     "data": {
      "text/html": [
       "<ol>\n",
       "\t<li><strong>class:</strong> ''</li>\n",
       "</ol>\n"
      ],
      "text/latex": [
       "\\begin{enumerate}\n",
       "\\item \\textbf{class:} ''\n",
       "\\end{enumerate}\n"
      ],
      "text/markdown": [
       "1. **class:** ''\n",
       "\n",
       "\n"
      ],
      "text/plain": [
       "[[1]]\n",
       "class \n",
       "   \"\" \n"
      ]
     },
     "metadata": {},
     "output_type": "display_data"
    }
   ],
   "source": [
    "html_attrs(title_html)"
   ]
  },
  {
   "cell_type": "markdown",
   "metadata": {},
   "source": [
    "The `h1` tag itself only has a class attribute (with no value). However, there is an `a` child tag with an `href` attribute.\n",
    "\n",
    "This can be extracted as follows:"
   ]
  },
  {
   "cell_type": "code",
   "execution_count": 68,
   "metadata": {},
   "outputs": [
    {
     "data": {
      "text/html": [
       "'/year/2020/?ref_=tt_ov_inf'"
      ],
      "text/latex": [
       "'/year/2020/?ref\\_=tt\\_ov\\_inf'"
      ],
      "text/markdown": [
       "'/year/2020/?ref_=tt_ov_inf'"
      ],
      "text/plain": [
       "[1] \"/year/2020/?ref_=tt_ov_inf\""
      ]
     },
     "metadata": {},
     "output_type": "display_data"
    }
   ],
   "source": [
    "link <- html_nodes(title_html, \"a\")\n",
    "html_attr(link, \"href\")"
   ]
  },
  {
   "cell_type": "markdown",
   "metadata": {},
   "source": [
    "## EXERCISE 3: Extract HTML (specific node/tag)\n",
    "\n",
    "Return to the \"Coming Soon\" section on IMDb: https://www.imdb.com/movies-coming-soon/?ref_=nv_mv_cs\n",
    "\n",
    "- Using `html_nodes`, extract the titles of the upcoming movies."
   ]
  },
  {
   "cell_type": "markdown",
   "metadata": {},
   "source": [
    "### Solution"
   ]
  },
  {
   "cell_type": "code",
   "execution_count": 62,
   "metadata": {},
   "outputs": [
    {
     "data": {
      "text/html": [
       "<ol class=list-inline>\n",
       "\t<li>'November 20'</li>\n",
       "\t<li>'Jiu Jitsu (2020)'</li>\n",
       "\t<li>'The Last Vermeer (2019)'</li>\n",
       "\t<li>'Vanguard (2020)'</li>\n",
       "\t<li>'The Furies (2019)'</li>\n",
       "\t<li>'November 27'</li>\n",
       "\t<li>'The Croods: A New Age (2020)'</li>\n",
       "\t<li>'Zappa (2020)'</li>\n",
       "\t<li>'Dutch'</li>\n",
       "</ol>\n"
      ],
      "text/latex": [
       "\\begin{enumerate*}\n",
       "\\item 'November 20'\n",
       "\\item 'Jiu Jitsu (2020)'\n",
       "\\item 'The Last Vermeer (2019)'\n",
       "\\item 'Vanguard (2020)'\n",
       "\\item 'The Furies (2019)'\n",
       "\\item 'November 27'\n",
       "\\item 'The Croods: A New Age (2020)'\n",
       "\\item 'Zappa (2020)'\n",
       "\\item 'Dutch'\n",
       "\\end{enumerate*}\n"
      ],
      "text/markdown": [
       "1. 'November 20'\n",
       "2. 'Jiu Jitsu (2020)'\n",
       "3. 'The Last Vermeer (2019)'\n",
       "4. 'Vanguard (2020)'\n",
       "5. 'The Furies (2019)'\n",
       "6. 'November 27'\n",
       "7. 'The Croods: A New Age (2020)'\n",
       "8. 'Zappa (2020)'\n",
       "9. 'Dutch'\n",
       "\n",
       "\n"
      ],
      "text/plain": [
       "[1] \"November 20\"                  \"Jiu Jitsu (2020)\"            \n",
       "[3] \"The Last Vermeer (2019)\"      \"Vanguard (2020)\"             \n",
       "[5] \"The Furies (2019)\"            \"November 27\"                 \n",
       "[7] \"The Croods: A New Age (2020)\" \"Zappa (2020)\"                \n",
       "[9] \"Dutch\"                       "
      ]
     },
     "metadata": {},
     "output_type": "display_data"
    }
   ],
   "source": [
    "upcoming <- read_html(\"https://www.imdb.com/movies-coming-soon/?ref_=nv_mv_cs\")\n",
    "titles_html <- html_nodes(upcoming, \"h4\")\n",
    "upcoming_titles <- html_text(titles_html, trim = TRUE) # Returned as a list\n",
    "\n",
    "upcoming_titles"
   ]
  },
  {
   "cell_type": "markdown",
   "metadata": {},
   "source": [
    "#### Extracting links to the movies"
   ]
  },
  {
   "cell_type": "code",
   "execution_count": 71,
   "metadata": {},
   "outputs": [
    {
     "data": {
      "text/html": [
       "<ol class=list-inline>\n",
       "\t<li>NA</li>\n",
       "\t<li>'/title/tt9624766/?ref_=cs_ov_tt'</li>\n",
       "\t<li>'/title/tt8337320/?ref_=cs_ov_tt'</li>\n",
       "\t<li>'/title/tt9695722/?ref_=cs_ov_tt'</li>\n",
       "\t<li>'/title/tt8228172/?ref_=cs_ov_tt'</li>\n",
       "\t<li>NA</li>\n",
       "\t<li>'/title/tt2850386/?ref_=cs_ov_tt'</li>\n",
       "\t<li>'/title/tt4881578/?ref_=cs_ov_tt'</li>\n",
       "\t<li>'/title/tt5738280/?ref_=cs_ov_tt'</li>\n",
       "</ol>\n"
      ],
      "text/latex": [
       "\\begin{enumerate*}\n",
       "\\item NA\n",
       "\\item '/title/tt9624766/?ref\\_=cs\\_ov\\_tt'\n",
       "\\item '/title/tt8337320/?ref\\_=cs\\_ov\\_tt'\n",
       "\\item '/title/tt9695722/?ref\\_=cs\\_ov\\_tt'\n",
       "\\item '/title/tt8228172/?ref\\_=cs\\_ov\\_tt'\n",
       "\\item NA\n",
       "\\item '/title/tt2850386/?ref\\_=cs\\_ov\\_tt'\n",
       "\\item '/title/tt4881578/?ref\\_=cs\\_ov\\_tt'\n",
       "\\item '/title/tt5738280/?ref\\_=cs\\_ov\\_tt'\n",
       "\\end{enumerate*}\n"
      ],
      "text/markdown": [
       "1. NA\n",
       "2. '/title/tt9624766/?ref_=cs_ov_tt'\n",
       "3. '/title/tt8337320/?ref_=cs_ov_tt'\n",
       "4. '/title/tt9695722/?ref_=cs_ov_tt'\n",
       "5. '/title/tt8228172/?ref_=cs_ov_tt'\n",
       "6. NA\n",
       "7. '/title/tt2850386/?ref_=cs_ov_tt'\n",
       "8. '/title/tt4881578/?ref_=cs_ov_tt'\n",
       "9. '/title/tt5738280/?ref_=cs_ov_tt'\n",
       "\n",
       "\n"
      ],
      "text/plain": [
       "[1] NA                                \"/title/tt9624766/?ref_=cs_ov_tt\"\n",
       "[3] \"/title/tt8337320/?ref_=cs_ov_tt\" \"/title/tt9695722/?ref_=cs_ov_tt\"\n",
       "[5] \"/title/tt8228172/?ref_=cs_ov_tt\" NA                               \n",
       "[7] \"/title/tt2850386/?ref_=cs_ov_tt\" \"/title/tt4881578/?ref_=cs_ov_tt\"\n",
       "[9] \"/title/tt5738280/?ref_=cs_ov_tt\""
      ]
     },
     "metadata": {},
     "output_type": "display_data"
    }
   ],
   "source": [
    "library(dplyr)\n",
    "titles_html %>%\n",
    "    html_nodes(\"a\") %>%\n",
    "    html_attr(\"href\")"
   ]
  },
  {
   "cell_type": "markdown",
   "metadata": {},
   "source": [
    "## Complex extraction using `rvest` and CSS selectors\n",
    "\n",
    "So far we have extracted parts of HTML using specific tags. What we are acutally specifying is a \"CSS selector\". CSS selectors are ways of specifying HTML paths to extract specific parts of HTML.\n",
    "\n",
    "This allows us to utilize the HTML tree structure and use the different attributes.\n",
    "\n",
    "CSS selectors are specified as paths usually separated by spaces. \n",
    "\n",
    "Fx on a movie page like the one for \"Breach\", the title has a link in the release year; i.e. there is an `a` tag inside the `h1` tag. This path can be specified with CSS like: `h1 a`. This selector finds all `a` tags that are children of an `h1` tag. \n",
    "\n",
    "**Here is some useful CSS selector notation:**\n",
    "\n",
    "*For specifying specific tags:*\n",
    "- `.` for a class: `div.credit_summary_item` (selects `div` tags with the class `credit_summary_item`\n",
    "- `#` for id: `div#title_completed_pro_link` (selects `div` tags with the id `title_completed_pro_link`\n",
    "- `[attribute]` for an attribute: `[href]` (selects all tags with a `href` attribute.\n",
    "- `[attribute = value]` for an attribute with a given value: `[name=slot_center-20]` selects all tags with a `name` attribute containing the vlaue `slot_center-20`.\n",
    "    - Starts with: `^=`\n",
    "    - Ends with: `$=`\n",
    "    - Wildcards: `*=`\n",
    "- `contains(text)`: Match based on text inside tag\n",
    "\n",
    "These can be combined. The CSS selector: `div.plot_summary div.summary_text` selects the `div` tag with the plot summary on a movie page on IMDb.\n",
    "\n",
    "*For navigating the structure:*\n",
    "- `+`: Next sibling\n",
    "- `~`: All siblings following\n",
    "- `first-child`/`last-child`: Finds tags that are the first or last children respectively inside another tag\n",
    "- `first-of-type`/`last-of-type`: Finds the first/last tag of a certain type\n",
    "- `only-child`/`only-type`: Finds \"lone children\" or unique types\n",
    "- `nth-child`/`nth-type()`: Specifying child or type based on their order (can be specified as a formula)"
   ]
  },
  {
   "cell_type": "markdown",
   "metadata": {},
   "source": [
    "###  How to use CSS selectors\n",
    "\n",
    "Looking at the movie page for \"Breach\", how can we extract the name of the director?\n",
    "\n",
    "- The director's name is located in an `a` tag\n",
    "- The `a` tag is the next siblibng of a `h4` tag with the class \"inline\"\n",
    "- The `h4` tag contains the text \"Director:\"\n",
    "- The `h4` and `a` tag are located inside a `div` tag with the class \"credit_summary_item\"\n",
    "\n",
    "This can be written as the following CSS selector: `div.credit_summary_item h4.inline:contains(Director) + a`"
   ]
  },
  {
   "cell_type": "code",
   "execution_count": 73,
   "metadata": {},
   "outputs": [],
   "source": [
    "director <- html_nodes(breach_html, \"div.credit_summary_item h4.inline:contains(Director) + a\")"
   ]
  },
  {
   "cell_type": "code",
   "execution_count": 75,
   "metadata": {},
   "outputs": [
    {
     "data": {
      "text/html": [
       "'John Suits'"
      ],
      "text/latex": [
       "'John Suits'"
      ],
      "text/markdown": [
       "'John Suits'"
      ],
      "text/plain": [
       "[1] \"John Suits\""
      ]
     },
     "metadata": {},
     "output_type": "display_data"
    }
   ],
   "source": [
    "html_text(director)"
   ]
  },
  {
   "cell_type": "markdown",
   "metadata": {},
   "source": [
    "## EXERCISE 4: 10 minute CSS training\n",
    "\n",
    "Writing CSS selectors is a skill in of itself. Let's exercise that a bit.\n",
    "\n",
    "The game \"CSS Diner\" is excellent for understanding the basics. See how far you can get in 10 minutes!\n",
    "\n",
    "- CSS Diner: https://flukeout.github.io/"
   ]
  },
  {
   "cell_type": "markdown",
   "metadata": {},
   "source": [
    "## EXERCISE 5 (together): Extracting specific HTML content I\n",
    "\n",
    "How can we extract the cast member currently on top of the cast list for \"Breach\"?"
   ]
  },
  {
   "cell_type": "markdown",
   "metadata": {},
   "source": [
    "## EXERCISE 6: Extracting specific HTML content II\n",
    "\n",
    "Return to the \"Coming Soon\" section on IMDb: https://www.imdb.com/movies-coming-soon/?ref_=nv_mv_cs\n",
    "\n",
    "Figure out a way to extract the following:\n",
    "\n",
    "- The titles of the upcoming movies\n",
    "- The directors of the upcoming movies\n",
    "- The stars of the upcoming movies"
   ]
  },
  {
   "cell_type": "markdown",
   "metadata": {},
   "source": [
    "### Solution"
   ]
  },
  {
   "cell_type": "code",
   "execution_count": 83,
   "metadata": {},
   "outputs": [],
   "source": [
    "movie_nodes <- html_nodes(upcoming, \"td.overview-top\")\n",
    "\n",
    "titles <- movie_nodes %>%\n",
    "    html_nodes(\"h4 a\") %>%\n",
    "    html_text()\n",
    "\n",
    "directors <- movie_nodes %>%\n",
    "    html_nodes(\"div.txt-block h5.inline:contains(Director) + span\") %>%\n",
    "    html_text()\n",
    "\n",
    "stars <- list()\n",
    "\n",
    "for (i in 1:length(movie_nodes)){\n",
    "    movie_stars <- movie_nodes[i] %>%\n",
    "    html_nodes(\"div.txt-block h5.inline:contains(Stars) ~ a\") %>%\n",
    "    html_text()\n",
    "    stars[[i]] <- movie_stars\n",
    "}"
   ]
  },
  {
   "cell_type": "markdown",
   "metadata": {},
   "source": [
    "#### Converting to data frame"
   ]
  },
  {
   "cell_type": "code",
   "execution_count": 96,
   "metadata": {},
   "outputs": [],
   "source": [
    "upcoming_df <- data.frame(titles, directors)\n",
    "upcoming_df$stars <- stars"
   ]
  },
  {
   "cell_type": "code",
   "execution_count": 97,
   "metadata": {},
   "outputs": [
    {
     "data": {
      "text/html": [
       "<table>\n",
       "<thead><tr><th scope=col>titles</th><th scope=col>directors</th><th scope=col>stars</th></tr></thead>\n",
       "<tbody>\n",
       "\t<tr><td> Jiu Jitsu (2020)                                                             </td><td>\n",
       "Dimitri Logothetis                                                          </td><td>Nicolas Cage      , Marie Avgeropoulos, Frank Grillo      , Tony Jaa          </td></tr>\n",
       "\t<tr><td> The Last Vermeer (2019)                                                      </td><td>\n",
       "Dan Friedkin                                                                </td><td>Daan Aufenacker   , Claes Bang        , Matt Beauman-Jones, Mark Behan        </td></tr>\n",
       "\t<tr><td> Vanguard (2020)                                    </td><td>\n",
       "Stanley Tong                                      </td><td>Jackie Chan, Yang Yang  , Miya Muqi  , Lun Ai       </td></tr>\n",
       "\t<tr><td> The Furies (2019)                                                </td><td>\n",
       "Tony D'Aquino                                                   </td><td>Airlie Dodds   , Linda Ngo      , Taylor Ferguson, Ebony Vagulans </td></tr>\n",
       "\t<tr><td> The Croods: A New Age (2020)                             </td><td>\n",
       "Joel Crawford                                           </td><td>Emma Stone   , Nicolas Cage , Ryan Reynolds, Leslie Mann  </td></tr>\n",
       "\t<tr><td> Zappa (2020)                                                             </td><td>\n",
       "Alex Winter                                                             </td><td>Frank Zappa      , Steve Vai        , Pamela Des Barres, Gail Zappa       </td></tr>\n",
       "\t<tr><td> Dutch                                                                                </td><td>\n",
       "Preston A. Whitmore II                                                              </td><td>Natasha Marc        , Jeremy Meeks        , Robert Costanzo     , Malcolm David Kelley</td></tr>\n",
       "</tbody>\n",
       "</table>\n"
      ],
      "text/latex": [
       "\\begin{tabular}{r|lll}\n",
       " titles & directors & stars\\\\\n",
       "\\hline\n",
       "\t  Jiu Jitsu (2020)                                                              & \n",
       "Dimitri Logothetis                                                           & Nicolas Cage      , Marie Avgeropoulos, Frank Grillo      , Tony Jaa          \\\\\n",
       "\t  The Last Vermeer (2019)                                                       & \n",
       "Dan Friedkin                                                                 & Daan Aufenacker   , Claes Bang        , Matt Beauman-Jones, Mark Behan        \\\\\n",
       "\t  Vanguard (2020)                                     & \n",
       "Stanley Tong                                       & Jackie Chan, Yang Yang  , Miya Muqi  , Lun Ai       \\\\\n",
       "\t  The Furies (2019)                                                 & \n",
       "Tony D'Aquino                                                    & Airlie Dodds   , Linda Ngo      , Taylor Ferguson, Ebony Vagulans \\\\\n",
       "\t  The Croods: A New Age (2020)                              & \n",
       "Joel Crawford                                            & Emma Stone   , Nicolas Cage , Ryan Reynolds, Leslie Mann  \\\\\n",
       "\t  Zappa (2020)                                                              & \n",
       "Alex Winter                                                              & Frank Zappa      , Steve Vai        , Pamela Des Barres, Gail Zappa       \\\\\n",
       "\t  Dutch                                                                                 & \n",
       "Preston A. Whitmore II                                                               & Natasha Marc        , Jeremy Meeks        , Robert Costanzo     , Malcolm David Kelley\\\\\n",
       "\\end{tabular}\n"
      ],
      "text/markdown": [
       "\n",
       "| titles | directors | stars |\n",
       "|---|---|---|\n",
       "|  Jiu Jitsu (2020)                                                              | \n",
       "Dimitri Logothetis                                                           | Nicolas Cage      , Marie Avgeropoulos, Frank Grillo      , Tony Jaa           |\n",
       "|  The Last Vermeer (2019)                                                       | \n",
       "Dan Friedkin                                                                 | Daan Aufenacker   , Claes Bang        , Matt Beauman-Jones, Mark Behan         |\n",
       "|  Vanguard (2020)                                     | \n",
       "Stanley Tong                                       | Jackie Chan, Yang Yang  , Miya Muqi  , Lun Ai        |\n",
       "|  The Furies (2019)                                                 | \n",
       "Tony D'Aquino                                                    | Airlie Dodds   , Linda Ngo      , Taylor Ferguson, Ebony Vagulans  |\n",
       "|  The Croods: A New Age (2020)                              | \n",
       "Joel Crawford                                            | Emma Stone   , Nicolas Cage , Ryan Reynolds, Leslie Mann   |\n",
       "|  Zappa (2020)                                                              | \n",
       "Alex Winter                                                              | Frank Zappa      , Steve Vai        , Pamela Des Barres, Gail Zappa        |\n",
       "|  Dutch                                                                                 | \n",
       "Preston A. Whitmore II                                                               | Natasha Marc        , Jeremy Meeks        , Robert Costanzo     , Malcolm David Kelley |\n",
       "\n"
      ],
      "text/plain": [
       "  titles                       \n",
       "1  Jiu Jitsu (2020)            \n",
       "2  The Last Vermeer (2019)     \n",
       "3  Vanguard (2020)             \n",
       "4  The Furies (2019)           \n",
       "5  The Croods: A New Age (2020)\n",
       "6  Zappa (2020)                \n",
       "7  Dutch                       \n",
       "  directors                                           \n",
       "1 \\nDimitri Logothetis                                \n",
       "2 \\nDan Friedkin                                      \n",
       "3 \\nStanley Tong                                      \n",
       "4 \\nTony D'Aquino                                     \n",
       "5 \\nJoel Crawford                                     \n",
       "6 \\nAlex Winter                                       \n",
       "7 \\nPreston A. Whitmore II                            \n",
       "  stars                                                                                 \n",
       "1 Nicolas Cage      , Marie Avgeropoulos, Frank Grillo      , Tony Jaa                  \n",
       "2 Daan Aufenacker   , Claes Bang        , Matt Beauman-Jones, Mark Behan                \n",
       "3 Jackie Chan, Yang Yang  , Miya Muqi  , Lun Ai                                         \n",
       "4 Airlie Dodds   , Linda Ngo      , Taylor Ferguson, Ebony Vagulans                     \n",
       "5 Emma Stone   , Nicolas Cage , Ryan Reynolds, Leslie Mann                              \n",
       "6 Frank Zappa      , Steve Vai        , Pamela Des Barres, Gail Zappa                   \n",
       "7 Natasha Marc        , Jeremy Meeks        , Robert Costanzo     , Malcolm David Kelley"
      ]
     },
     "metadata": {},
     "output_type": "display_data"
    }
   ],
   "source": [
    "upcoming_df"
   ]
  },
  {
   "cell_type": "markdown",
   "metadata": {},
   "source": [
    "## Further reading\n",
    "\n",
    "- Other tools:\n",
    "  - `Rcrawler`: https://github.com/salimk/Rcrawler"
   ]
  }
 ],
 "metadata": {
  "kernelspec": {
   "display_name": "R",
   "language": "R",
   "name": "ir"
  },
  "language_info": {
   "codemirror_mode": "r",
   "file_extension": ".r",
   "mimetype": "text/x-r-source",
   "name": "R",
   "pygments_lexer": "r",
   "version": "3.6.1"
  }
 },
 "nbformat": 4,
 "nbformat_minor": 4
}
