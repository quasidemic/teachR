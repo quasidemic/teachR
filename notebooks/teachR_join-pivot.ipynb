{
 "cells": [
  {
   "cell_type": "markdown",
   "metadata": {},
   "source": [
    "# Joining data\n",
    "\n",
    "`dplyr` (part of `tidyverse`) includes a range of functions for combining data sets - both for combining variables and combining cases."
   ]
  },
  {
   "cell_type": "markdown",
   "metadata": {},
   "source": [
    "## Combing cases (appending data)\n",
    "\n",
    "`dplyr` contains various functions for combining cases/observations (NOTE: none of these functions add variables):\n",
    "- `bind_rows()`: \"stack\" one data set on top of another\n",
    "- `intersect()`: creates a data set containing observations appearing in both data sets\n",
    "- `setdiff()`: creates a data set containig observations in one data set but not the other\n",
    "- `union()`: combines observations from two data sets and removing duplicates (`union_all()` keeps duplicates)\n",
    "\n",
    "Let's start by reading in two data sets:"
   ]
  },
  {
   "cell_type": "code",
   "execution_count": 4,
   "metadata": {},
   "outputs": [
    {
     "name": "stderr",
     "output_type": "stream",
     "text": [
      "\u001b[1mRows: \u001b[22m\u001b[34m751\u001b[39m \u001b[1mColumns: \u001b[22m\u001b[34m18\u001b[39m\n",
      "\n",
      "\u001b[36m--\u001b[39m \u001b[1mColumn specification\u001b[22m \u001b[36m------------------------------------------------------------------------------------------------\u001b[39m\n",
      "\u001b[1mDelimiter:\u001b[22m \",\"\n",
      "\u001b[31mchr\u001b[39m (13): ppltrst, polintr, vote, lrscale, happy, health, cgtsmke, alcfreq, ...\n",
      "\u001b[32mdbl\u001b[39m  (5): idno, cgtsday, height, weight, yrbrn\n",
      "\n",
      "\n",
      "\u001b[36mi\u001b[39m Use \u001b[30m\u001b[47m\u001b[30m\u001b[47m`spec()`\u001b[47m\u001b[30m\u001b[49m\u001b[39m to retrieve the full column specification for this data.\n",
      "\u001b[36mi\u001b[39m Specify the column types or set \u001b[30m\u001b[47m\u001b[30m\u001b[47m`show_col_types = FALSE`\u001b[47m\u001b[30m\u001b[49m\u001b[39m to quiet this message.\n",
      "\n",
      "\u001b[1mRows: \u001b[22m\u001b[34m751\u001b[39m \u001b[1mColumns: \u001b[22m\u001b[34m18\u001b[39m\n",
      "\n",
      "\u001b[36m--\u001b[39m \u001b[1mColumn specification\u001b[22m \u001b[36m------------------------------------------------------------------------------------------------\u001b[39m\n",
      "\u001b[1mDelimiter:\u001b[22m \",\"\n",
      "\u001b[31mchr\u001b[39m (13): ppltrst, polintr, vote, lrscale, happy, health, cgtsmke, alcfreq, ...\n",
      "\u001b[32mdbl\u001b[39m  (5): idno, cgtsday, height, weight, yrbrn\n",
      "\n",
      "\n",
      "\u001b[36mi\u001b[39m Use \u001b[30m\u001b[47m\u001b[30m\u001b[47m`spec()`\u001b[47m\u001b[30m\u001b[49m\u001b[39m to retrieve the full column specification for this data.\n",
      "\u001b[36mi\u001b[39m Specify the column types or set \u001b[30m\u001b[47m\u001b[30m\u001b[47m`show_col_types = FALSE`\u001b[47m\u001b[30m\u001b[49m\u001b[39m to quiet this message.\n",
      "\n"
     ]
    }
   ],
   "source": [
    "library(readr)\n",
    "\n",
    "ess2014_p1 <- read_csv(\"https://github.com/CALDISS-AAU/workshop_r-table-data/raw/master/data/ess2014_mainsub_p1.csv\")\n",
    "ess2014_p2 <- read_csv(\"https://github.com/CALDISS-AAU/workshop_r-table-data/raw/master/data/ess2014_mainsub_p2.csv\")"
   ]
  },
  {
   "cell_type": "markdown",
   "metadata": {},
   "source": [
    "By inspecting the data, we can see the data contain the same variables but different observations (different idno)."
   ]
  },
  {
   "cell_type": "code",
   "execution_count": 5,
   "metadata": {},
   "outputs": [
    {
     "data": {
      "text/html": [
       "<table class=\"dataframe\">\n",
       "<caption>A tibble: 6 × 18</caption>\n",
       "<thead>\n",
       "\t<tr><th scope=col>idno</th><th scope=col>ppltrst</th><th scope=col>polintr</th><th scope=col>vote</th><th scope=col>lrscale</th><th scope=col>happy</th><th scope=col>health</th><th scope=col>cgtsday</th><th scope=col>cgtsmke</th><th scope=col>alcfreq</th><th scope=col>brncntr</th><th scope=col>height</th><th scope=col>weight</th><th scope=col>gndr</th><th scope=col>yrbrn</th><th scope=col>edlvddk</th><th scope=col>marsts</th><th scope=col>polpartvt</th></tr>\n",
       "\t<tr><th scope=col>&lt;dbl&gt;</th><th scope=col>&lt;chr&gt;</th><th scope=col>&lt;chr&gt;</th><th scope=col>&lt;chr&gt;</th><th scope=col>&lt;chr&gt;</th><th scope=col>&lt;chr&gt;</th><th scope=col>&lt;chr&gt;</th><th scope=col>&lt;dbl&gt;</th><th scope=col>&lt;chr&gt;</th><th scope=col>&lt;chr&gt;</th><th scope=col>&lt;chr&gt;</th><th scope=col>&lt;dbl&gt;</th><th scope=col>&lt;dbl&gt;</th><th scope=col>&lt;chr&gt;</th><th scope=col>&lt;dbl&gt;</th><th scope=col>&lt;chr&gt;</th><th scope=col>&lt;chr&gt;</th><th scope=col>&lt;chr&gt;</th></tr>\n",
       "</thead>\n",
       "<tbody>\n",
       "\t<tr><td>921018</td><td>6</td><td>Hardly interested</td><td>Not eligible to vote</td><td>4</td><td>9</td><td>Very good</td><td>10</td><td>I smoke but not every day      </td><td>2-3 times a month   </td><td>Yes</td><td>178</td><td> 64</td><td>Male  </td><td>1990</td><td>Folkeskole 6.-8. klasse                                                       </td><td>None of these (NEVER married or in legally registered civil union)</td><td>[NA] Not applicable                                   </td></tr>\n",
       "\t<tr><td>921026</td><td>8</td><td>Quite interested </td><td>Yes                 </td><td>4</td><td>8</td><td>Very good</td><td>NA</td><td>I have never smoked            </td><td>Several times a week</td><td>Yes</td><td>172</td><td> 64</td><td>Female</td><td>1948</td><td>Mellemlang videregående uddannelse af 3-4 års varighed. Professionsbachelorer,</td><td>Widowed/civil partner died                                        </td><td>[1] Socialdemokraterne - the Danish social democrats  </td></tr>\n",
       "\t<tr><td>921034</td><td>8</td><td>Quite interested </td><td>Yes                 </td><td>7</td><td>8</td><td>Good     </td><td>NA</td><td>I don't smoke now but I used to</td><td>Every day           </td><td>Yes</td><td>176</td><td> 87</td><td>Male  </td><td>1957</td><td>Kort videregående uddannelse af op til 2-3 års varighed, F.eks. Erhvervsakadem</td><td>Not applicable                                                    </td><td>[7] Venstre, Danmarks Liberale Parti - Venstre        </td></tr>\n",
       "\t<tr><td>921181</td><td>9</td><td>Quite interested </td><td>Yes                 </td><td>5</td><td>9</td><td>Fair     </td><td>NA</td><td>I don't smoke now but I used to</td><td>Once a week         </td><td>Yes</td><td>194</td><td>102</td><td>Male  </td><td>1956</td><td>Faglig uddannelse (håndværk, handel, landbrug mv.), F.eks. Faglærte, Social-  </td><td>Not applicable                                                    </td><td>[2] Det Radikale Venstre - Danish Social-Liberal Party</td></tr>\n",
       "\t<tr><td>921204</td><td>9</td><td>Hardly interested</td><td>Yes                 </td><td>7</td><td>8</td><td>Good     </td><td>NA</td><td>I don't smoke now but I used to</td><td>Once a week         </td><td>No </td><td>157</td><td> 48</td><td>Female</td><td>1941</td><td>Kort videregående uddannelse af op til 2-3 års varighed, F.eks. Erhvervsakadem</td><td>Not applicable                                                    </td><td>[NA] Don't know                                       </td></tr>\n",
       "\t<tr><td>921262</td><td>8</td><td>Hardly interested</td><td>Yes                 </td><td>7</td><td>8</td><td>Very good</td><td>NA</td><td>I have never smoked            </td><td>2-3 times a month   </td><td>Yes</td><td>180</td><td> 93</td><td>Male  </td><td>1987</td><td>Mellemlang videregående uddannelse af 3-4 års varighed. Professionsbachelorer,</td><td>None of these (NEVER married or in legally registered civil union)</td><td>[7] Venstre, Danmarks Liberale Parti - Venstre        </td></tr>\n",
       "</tbody>\n",
       "</table>\n"
      ],
      "text/latex": [
       "A tibble: 6 × 18\n",
       "\\begin{tabular}{llllllllllllllllll}\n",
       " idno & ppltrst & polintr & vote & lrscale & happy & health & cgtsday & cgtsmke & alcfreq & brncntr & height & weight & gndr & yrbrn & edlvddk & marsts & polpartvt\\\\\n",
       " <dbl> & <chr> & <chr> & <chr> & <chr> & <chr> & <chr> & <dbl> & <chr> & <chr> & <chr> & <dbl> & <dbl> & <chr> & <dbl> & <chr> & <chr> & <chr>\\\\\n",
       "\\hline\n",
       "\t 921018 & 6 & Hardly interested & Not eligible to vote & 4 & 9 & Very good & 10 & I smoke but not every day       & 2-3 times a month    & Yes & 178 &  64 & Male   & 1990 & Folkeskole 6.-8. klasse                                                        & None of these (NEVER married or in legally registered civil union) & {[}NA{]} Not applicable                                   \\\\\n",
       "\t 921026 & 8 & Quite interested  & Yes                  & 4 & 8 & Very good & NA & I have never smoked             & Several times a week & Yes & 172 &  64 & Female & 1948 & Mellemlang videregående uddannelse af 3-4 års varighed. Professionsbachelorer, & Widowed/civil partner died                                         & {[}1{]} Socialdemokraterne - the Danish social democrats  \\\\\n",
       "\t 921034 & 8 & Quite interested  & Yes                  & 7 & 8 & Good      & NA & I don't smoke now but I used to & Every day            & Yes & 176 &  87 & Male   & 1957 & Kort videregående uddannelse af op til 2-3 års varighed, F.eks. Erhvervsakadem & Not applicable                                                     & {[}7{]} Venstre, Danmarks Liberale Parti - Venstre        \\\\\n",
       "\t 921181 & 9 & Quite interested  & Yes                  & 5 & 9 & Fair      & NA & I don't smoke now but I used to & Once a week          & Yes & 194 & 102 & Male   & 1956 & Faglig uddannelse (håndværk, handel, landbrug mv.), F.eks. Faglærte, Social-   & Not applicable                                                     & {[}2{]} Det Radikale Venstre - Danish Social-Liberal Party\\\\\n",
       "\t 921204 & 9 & Hardly interested & Yes                  & 7 & 8 & Good      & NA & I don't smoke now but I used to & Once a week          & No  & 157 &  48 & Female & 1941 & Kort videregående uddannelse af op til 2-3 års varighed, F.eks. Erhvervsakadem & Not applicable                                                     & {[}NA{]} Don't know                                       \\\\\n",
       "\t 921262 & 8 & Hardly interested & Yes                  & 7 & 8 & Very good & NA & I have never smoked             & 2-3 times a month    & Yes & 180 &  93 & Male   & 1987 & Mellemlang videregående uddannelse af 3-4 års varighed. Professionsbachelorer, & None of these (NEVER married or in legally registered civil union) & {[}7{]} Venstre, Danmarks Liberale Parti - Venstre        \\\\\n",
       "\\end{tabular}\n"
      ],
      "text/markdown": [
       "\n",
       "A tibble: 6 × 18\n",
       "\n",
       "| idno &lt;dbl&gt; | ppltrst &lt;chr&gt; | polintr &lt;chr&gt; | vote &lt;chr&gt; | lrscale &lt;chr&gt; | happy &lt;chr&gt; | health &lt;chr&gt; | cgtsday &lt;dbl&gt; | cgtsmke &lt;chr&gt; | alcfreq &lt;chr&gt; | brncntr &lt;chr&gt; | height &lt;dbl&gt; | weight &lt;dbl&gt; | gndr &lt;chr&gt; | yrbrn &lt;dbl&gt; | edlvddk &lt;chr&gt; | marsts &lt;chr&gt; | polpartvt &lt;chr&gt; |\n",
       "|---|---|---|---|---|---|---|---|---|---|---|---|---|---|---|---|---|---|\n",
       "| 921018 | 6 | Hardly interested | Not eligible to vote | 4 | 9 | Very good | 10 | I smoke but not every day       | 2-3 times a month    | Yes | 178 |  64 | Male   | 1990 | Folkeskole 6.-8. klasse                                                        | None of these (NEVER married or in legally registered civil union) | [NA] Not applicable                                    |\n",
       "| 921026 | 8 | Quite interested  | Yes                  | 4 | 8 | Very good | NA | I have never smoked             | Several times a week | Yes | 172 |  64 | Female | 1948 | Mellemlang videregående uddannelse af 3-4 års varighed. Professionsbachelorer, | Widowed/civil partner died                                         | [1] Socialdemokraterne - the Danish social democrats   |\n",
       "| 921034 | 8 | Quite interested  | Yes                  | 7 | 8 | Good      | NA | I don't smoke now but I used to | Every day            | Yes | 176 |  87 | Male   | 1957 | Kort videregående uddannelse af op til 2-3 års varighed, F.eks. Erhvervsakadem | Not applicable                                                     | [7] Venstre, Danmarks Liberale Parti - Venstre         |\n",
       "| 921181 | 9 | Quite interested  | Yes                  | 5 | 9 | Fair      | NA | I don't smoke now but I used to | Once a week          | Yes | 194 | 102 | Male   | 1956 | Faglig uddannelse (håndværk, handel, landbrug mv.), F.eks. Faglærte, Social-   | Not applicable                                                     | [2] Det Radikale Venstre - Danish Social-Liberal Party |\n",
       "| 921204 | 9 | Hardly interested | Yes                  | 7 | 8 | Good      | NA | I don't smoke now but I used to | Once a week          | No  | 157 |  48 | Female | 1941 | Kort videregående uddannelse af op til 2-3 års varighed, F.eks. Erhvervsakadem | Not applicable                                                     | [NA] Don't know                                        |\n",
       "| 921262 | 8 | Hardly interested | Yes                  | 7 | 8 | Very good | NA | I have never smoked             | 2-3 times a month    | Yes | 180 |  93 | Male   | 1987 | Mellemlang videregående uddannelse af 3-4 års varighed. Professionsbachelorer, | None of these (NEVER married or in legally registered civil union) | [7] Venstre, Danmarks Liberale Parti - Venstre         |\n",
       "\n"
      ],
      "text/plain": [
       "  idno   ppltrst polintr           vote                 lrscale happy health   \n",
       "1 921018 6       Hardly interested Not eligible to vote 4       9     Very good\n",
       "2 921026 8       Quite interested  Yes                  4       8     Very good\n",
       "3 921034 8       Quite interested  Yes                  7       8     Good     \n",
       "4 921181 9       Quite interested  Yes                  5       9     Fair     \n",
       "5 921204 9       Hardly interested Yes                  7       8     Good     \n",
       "6 921262 8       Hardly interested Yes                  7       8     Very good\n",
       "  cgtsday cgtsmke                         alcfreq              brncntr height\n",
       "1 10      I smoke but not every day       2-3 times a month    Yes     178   \n",
       "2 NA      I have never smoked             Several times a week Yes     172   \n",
       "3 NA      I don't smoke now but I used to Every day            Yes     176   \n",
       "4 NA      I don't smoke now but I used to Once a week          Yes     194   \n",
       "5 NA      I don't smoke now but I used to Once a week          No      157   \n",
       "6 NA      I have never smoked             2-3 times a month    Yes     180   \n",
       "  weight gndr   yrbrn\n",
       "1  64    Male   1990 \n",
       "2  64    Female 1948 \n",
       "3  87    Male   1957 \n",
       "4 102    Male   1956 \n",
       "5  48    Female 1941 \n",
       "6  93    Male   1987 \n",
       "  edlvddk                                                                       \n",
       "1 Folkeskole 6.-8. klasse                                                       \n",
       "2 Mellemlang videregående uddannelse af 3-4 års varighed. Professionsbachelorer,\n",
       "3 Kort videregående uddannelse af op til 2-3 års varighed, F.eks. Erhvervsakadem\n",
       "4 Faglig uddannelse (håndværk, handel, landbrug mv.), F.eks. Faglærte, Social-  \n",
       "5 Kort videregående uddannelse af op til 2-3 års varighed, F.eks. Erhvervsakadem\n",
       "6 Mellemlang videregående uddannelse af 3-4 års varighed. Professionsbachelorer,\n",
       "  marsts                                                            \n",
       "1 None of these (NEVER married or in legally registered civil union)\n",
       "2 Widowed/civil partner died                                        \n",
       "3 Not applicable                                                    \n",
       "4 Not applicable                                                    \n",
       "5 Not applicable                                                    \n",
       "6 None of these (NEVER married or in legally registered civil union)\n",
       "  polpartvt                                             \n",
       "1 [NA] Not applicable                                   \n",
       "2 [1] Socialdemokraterne - the Danish social democrats  \n",
       "3 [7] Venstre, Danmarks Liberale Parti - Venstre        \n",
       "4 [2] Det Radikale Venstre - Danish Social-Liberal Party\n",
       "5 [NA] Don't know                                       \n",
       "6 [7] Venstre, Danmarks Liberale Parti - Venstre        "
      ]
     },
     "metadata": {},
     "output_type": "display_data"
    },
    {
     "data": {
      "text/html": [
       "<style>\n",
       ".list-inline {list-style: none; margin:0; padding: 0}\n",
       ".list-inline>li {display: inline-block}\n",
       ".list-inline>li:not(:last-child)::after {content: \"\\00b7\"; padding: 0 .5ex}\n",
       "</style>\n",
       "<ol class=list-inline><li>751</li><li>18</li></ol>\n"
      ],
      "text/latex": [
       "\\begin{enumerate*}\n",
       "\\item 751\n",
       "\\item 18\n",
       "\\end{enumerate*}\n"
      ],
      "text/markdown": [
       "1. 751\n",
       "2. 18\n",
       "\n",
       "\n"
      ],
      "text/plain": [
       "[1] 751  18"
      ]
     },
     "metadata": {},
     "output_type": "display_data"
    }
   ],
   "source": [
    "head(ess2014_p1)\n",
    "dim(ess2014_p1)"
   ]
  },
  {
   "cell_type": "code",
   "execution_count": 6,
   "metadata": {},
   "outputs": [
    {
     "data": {
      "text/html": [
       "<table class=\"dataframe\">\n",
       "<caption>A tibble: 6 × 18</caption>\n",
       "<thead>\n",
       "\t<tr><th scope=col>idno</th><th scope=col>ppltrst</th><th scope=col>polintr</th><th scope=col>vote</th><th scope=col>lrscale</th><th scope=col>happy</th><th scope=col>health</th><th scope=col>cgtsday</th><th scope=col>cgtsmke</th><th scope=col>alcfreq</th><th scope=col>brncntr</th><th scope=col>height</th><th scope=col>weight</th><th scope=col>gndr</th><th scope=col>yrbrn</th><th scope=col>edlvddk</th><th scope=col>marsts</th><th scope=col>polpartvt</th></tr>\n",
       "\t<tr><th scope=col>&lt;dbl&gt;</th><th scope=col>&lt;chr&gt;</th><th scope=col>&lt;chr&gt;</th><th scope=col>&lt;chr&gt;</th><th scope=col>&lt;chr&gt;</th><th scope=col>&lt;chr&gt;</th><th scope=col>&lt;chr&gt;</th><th scope=col>&lt;dbl&gt;</th><th scope=col>&lt;chr&gt;</th><th scope=col>&lt;chr&gt;</th><th scope=col>&lt;chr&gt;</th><th scope=col>&lt;dbl&gt;</th><th scope=col>&lt;dbl&gt;</th><th scope=col>&lt;chr&gt;</th><th scope=col>&lt;dbl&gt;</th><th scope=col>&lt;chr&gt;</th><th scope=col>&lt;chr&gt;</th><th scope=col>&lt;chr&gt;</th></tr>\n",
       "</thead>\n",
       "<tbody>\n",
       "\t<tr><td>921076</td><td>8</td><td>Quite interested     </td><td>Yes</td><td>5         </td><td>8              </td><td>Good     </td><td>NA</td><td>I don't smoke now but I used to</td><td>Several times a week</td><td>Yes</td><td>162</td><td>70</td><td>Female</td><td>1958</td><td>Mellemlang videregående uddannelse af 3-4 års varighed. Professionsbachelorer,</td><td>Not applicable                                                    </td><td>[NA] No answer                                           </td></tr>\n",
       "\t<tr><td>921084</td><td>5</td><td>Not at all interested</td><td>Yes</td><td>Don't know</td><td>8              </td><td>Very good</td><td>NA</td><td>I have only smoked a few times </td><td>Every day           </td><td>Yes</td><td>175</td><td>80</td><td>Male  </td><td>1936</td><td>Folkeskole 6.-8. klasse                                                       </td><td>Widowed/civil partner died                                        </td><td>[1] Socialdemokraterne - the Danish social democrats     </td></tr>\n",
       "\t<tr><td>921131</td><td>8</td><td>Very interested      </td><td>Yes</td><td>5         </td><td>8              </td><td>Fair     </td><td>NA</td><td>I don't smoke now but I used to</td><td>Several times a week</td><td>Yes</td><td>160</td><td>70</td><td>Female</td><td>1940</td><td>Faglig uddannelse (håndværk, handel, landbrug mv.), F.eks. Faglærte, Social-  </td><td>Widowed/civil partner died                                        </td><td>[8] Liberal Alliance - Liberal Alliance                  </td></tr>\n",
       "\t<tr><td>921165</td><td>8</td><td>Quite interested     </td><td>Yes</td><td>8         </td><td>Extremely happy</td><td>Good     </td><td>NA</td><td>I have never smoked            </td><td>Once a week         </td><td>Yes</td><td>167</td><td>78</td><td>Female</td><td>1965</td><td>Gymnasielle uddannelser, studentereksamen, HF, HHX, HTX                       </td><td>Not applicable                                                    </td><td>[7] Venstre, Danmarks Liberale Parti - Venstre           </td></tr>\n",
       "\t<tr><td>921199</td><td>9</td><td>Quite interested     </td><td>Yes</td><td>Right     </td><td>8              </td><td>Fair     </td><td>20</td><td>I smoke daily                  </td><td>2-3 times a month   </td><td>Yes</td><td>176</td><td>62</td><td>Female</td><td>1993</td><td>Folkeskole 9.-10. klasse                                                      </td><td>None of these (NEVER married or in legally registered civil union)</td><td>[7] Venstre, Danmarks Liberale Parti - Venstre           </td></tr>\n",
       "\t<tr><td>921220</td><td>8</td><td>Quite interested     </td><td>Yes</td><td>8         </td><td>8              </td><td>Fair     </td><td>NA</td><td>I don't smoke now but I used to</td><td>Every day           </td><td>Yes</td><td>178</td><td>80</td><td>Male  </td><td>1949</td><td>Faglig uddannelse (håndværk, handel, landbrug mv.), F.eks. Faglærte, Social-  </td><td>Not applicable                                                    </td><td>[4] SF Socialistisk Folkeparti - Socialist People's Party</td></tr>\n",
       "</tbody>\n",
       "</table>\n"
      ],
      "text/latex": [
       "A tibble: 6 × 18\n",
       "\\begin{tabular}{llllllllllllllllll}\n",
       " idno & ppltrst & polintr & vote & lrscale & happy & health & cgtsday & cgtsmke & alcfreq & brncntr & height & weight & gndr & yrbrn & edlvddk & marsts & polpartvt\\\\\n",
       " <dbl> & <chr> & <chr> & <chr> & <chr> & <chr> & <chr> & <dbl> & <chr> & <chr> & <chr> & <dbl> & <dbl> & <chr> & <dbl> & <chr> & <chr> & <chr>\\\\\n",
       "\\hline\n",
       "\t 921076 & 8 & Quite interested      & Yes & 5          & 8               & Good      & NA & I don't smoke now but I used to & Several times a week & Yes & 162 & 70 & Female & 1958 & Mellemlang videregående uddannelse af 3-4 års varighed. Professionsbachelorer, & Not applicable                                                     & {[}NA{]} No answer                                           \\\\\n",
       "\t 921084 & 5 & Not at all interested & Yes & Don't know & 8               & Very good & NA & I have only smoked a few times  & Every day            & Yes & 175 & 80 & Male   & 1936 & Folkeskole 6.-8. klasse                                                        & Widowed/civil partner died                                         & {[}1{]} Socialdemokraterne - the Danish social democrats     \\\\\n",
       "\t 921131 & 8 & Very interested       & Yes & 5          & 8               & Fair      & NA & I don't smoke now but I used to & Several times a week & Yes & 160 & 70 & Female & 1940 & Faglig uddannelse (håndværk, handel, landbrug mv.), F.eks. Faglærte, Social-   & Widowed/civil partner died                                         & {[}8{]} Liberal Alliance - Liberal Alliance                  \\\\\n",
       "\t 921165 & 8 & Quite interested      & Yes & 8          & Extremely happy & Good      & NA & I have never smoked             & Once a week          & Yes & 167 & 78 & Female & 1965 & Gymnasielle uddannelser, studentereksamen, HF, HHX, HTX                        & Not applicable                                                     & {[}7{]} Venstre, Danmarks Liberale Parti - Venstre           \\\\\n",
       "\t 921199 & 9 & Quite interested      & Yes & Right      & 8               & Fair      & 20 & I smoke daily                   & 2-3 times a month    & Yes & 176 & 62 & Female & 1993 & Folkeskole 9.-10. klasse                                                       & None of these (NEVER married or in legally registered civil union) & {[}7{]} Venstre, Danmarks Liberale Parti - Venstre           \\\\\n",
       "\t 921220 & 8 & Quite interested      & Yes & 8          & 8               & Fair      & NA & I don't smoke now but I used to & Every day            & Yes & 178 & 80 & Male   & 1949 & Faglig uddannelse (håndværk, handel, landbrug mv.), F.eks. Faglærte, Social-   & Not applicable                                                     & {[}4{]} SF Socialistisk Folkeparti - Socialist People's Party\\\\\n",
       "\\end{tabular}\n"
      ],
      "text/markdown": [
       "\n",
       "A tibble: 6 × 18\n",
       "\n",
       "| idno &lt;dbl&gt; | ppltrst &lt;chr&gt; | polintr &lt;chr&gt; | vote &lt;chr&gt; | lrscale &lt;chr&gt; | happy &lt;chr&gt; | health &lt;chr&gt; | cgtsday &lt;dbl&gt; | cgtsmke &lt;chr&gt; | alcfreq &lt;chr&gt; | brncntr &lt;chr&gt; | height &lt;dbl&gt; | weight &lt;dbl&gt; | gndr &lt;chr&gt; | yrbrn &lt;dbl&gt; | edlvddk &lt;chr&gt; | marsts &lt;chr&gt; | polpartvt &lt;chr&gt; |\n",
       "|---|---|---|---|---|---|---|---|---|---|---|---|---|---|---|---|---|---|\n",
       "| 921076 | 8 | Quite interested      | Yes | 5          | 8               | Good      | NA | I don't smoke now but I used to | Several times a week | Yes | 162 | 70 | Female | 1958 | Mellemlang videregående uddannelse af 3-4 års varighed. Professionsbachelorer, | Not applicable                                                     | [NA] No answer                                            |\n",
       "| 921084 | 5 | Not at all interested | Yes | Don't know | 8               | Very good | NA | I have only smoked a few times  | Every day            | Yes | 175 | 80 | Male   | 1936 | Folkeskole 6.-8. klasse                                                        | Widowed/civil partner died                                         | [1] Socialdemokraterne - the Danish social democrats      |\n",
       "| 921131 | 8 | Very interested       | Yes | 5          | 8               | Fair      | NA | I don't smoke now but I used to | Several times a week | Yes | 160 | 70 | Female | 1940 | Faglig uddannelse (håndværk, handel, landbrug mv.), F.eks. Faglærte, Social-   | Widowed/civil partner died                                         | [8] Liberal Alliance - Liberal Alliance                   |\n",
       "| 921165 | 8 | Quite interested      | Yes | 8          | Extremely happy | Good      | NA | I have never smoked             | Once a week          | Yes | 167 | 78 | Female | 1965 | Gymnasielle uddannelser, studentereksamen, HF, HHX, HTX                        | Not applicable                                                     | [7] Venstre, Danmarks Liberale Parti - Venstre            |\n",
       "| 921199 | 9 | Quite interested      | Yes | Right      | 8               | Fair      | 20 | I smoke daily                   | 2-3 times a month    | Yes | 176 | 62 | Female | 1993 | Folkeskole 9.-10. klasse                                                       | None of these (NEVER married or in legally registered civil union) | [7] Venstre, Danmarks Liberale Parti - Venstre            |\n",
       "| 921220 | 8 | Quite interested      | Yes | 8          | 8               | Fair      | NA | I don't smoke now but I used to | Every day            | Yes | 178 | 80 | Male   | 1949 | Faglig uddannelse (håndværk, handel, landbrug mv.), F.eks. Faglærte, Social-   | Not applicable                                                     | [4] SF Socialistisk Folkeparti - Socialist People's Party |\n",
       "\n"
      ],
      "text/plain": [
       "  idno   ppltrst polintr               vote lrscale    happy          \n",
       "1 921076 8       Quite interested      Yes  5          8              \n",
       "2 921084 5       Not at all interested Yes  Don't know 8              \n",
       "3 921131 8       Very interested       Yes  5          8              \n",
       "4 921165 8       Quite interested      Yes  8          Extremely happy\n",
       "5 921199 9       Quite interested      Yes  Right      8              \n",
       "6 921220 8       Quite interested      Yes  8          8              \n",
       "  health    cgtsday cgtsmke                         alcfreq             \n",
       "1 Good      NA      I don't smoke now but I used to Several times a week\n",
       "2 Very good NA      I have only smoked a few times  Every day           \n",
       "3 Fair      NA      I don't smoke now but I used to Several times a week\n",
       "4 Good      NA      I have never smoked             Once a week         \n",
       "5 Fair      20      I smoke daily                   2-3 times a month   \n",
       "6 Fair      NA      I don't smoke now but I used to Every day           \n",
       "  brncntr height weight gndr   yrbrn\n",
       "1 Yes     162    70     Female 1958 \n",
       "2 Yes     175    80     Male   1936 \n",
       "3 Yes     160    70     Female 1940 \n",
       "4 Yes     167    78     Female 1965 \n",
       "5 Yes     176    62     Female 1993 \n",
       "6 Yes     178    80     Male   1949 \n",
       "  edlvddk                                                                       \n",
       "1 Mellemlang videregående uddannelse af 3-4 års varighed. Professionsbachelorer,\n",
       "2 Folkeskole 6.-8. klasse                                                       \n",
       "3 Faglig uddannelse (håndværk, handel, landbrug mv.), F.eks. Faglærte, Social-  \n",
       "4 Gymnasielle uddannelser, studentereksamen, HF, HHX, HTX                       \n",
       "5 Folkeskole 9.-10. klasse                                                      \n",
       "6 Faglig uddannelse (håndværk, handel, landbrug mv.), F.eks. Faglærte, Social-  \n",
       "  marsts                                                            \n",
       "1 Not applicable                                                    \n",
       "2 Widowed/civil partner died                                        \n",
       "3 Widowed/civil partner died                                        \n",
       "4 Not applicable                                                    \n",
       "5 None of these (NEVER married or in legally registered civil union)\n",
       "6 Not applicable                                                    \n",
       "  polpartvt                                                \n",
       "1 [NA] No answer                                           \n",
       "2 [1] Socialdemokraterne - the Danish social democrats     \n",
       "3 [8] Liberal Alliance - Liberal Alliance                  \n",
       "4 [7] Venstre, Danmarks Liberale Parti - Venstre           \n",
       "5 [7] Venstre, Danmarks Liberale Parti - Venstre           \n",
       "6 [4] SF Socialistisk Folkeparti - Socialist People's Party"
      ]
     },
     "metadata": {},
     "output_type": "display_data"
    },
    {
     "data": {
      "text/html": [
       "<style>\n",
       ".list-inline {list-style: none; margin:0; padding: 0}\n",
       ".list-inline>li {display: inline-block}\n",
       ".list-inline>li:not(:last-child)::after {content: \"\\00b7\"; padding: 0 .5ex}\n",
       "</style>\n",
       "<ol class=list-inline><li>751</li><li>18</li></ol>\n"
      ],
      "text/latex": [
       "\\begin{enumerate*}\n",
       "\\item 751\n",
       "\\item 18\n",
       "\\end{enumerate*}\n"
      ],
      "text/markdown": [
       "1. 751\n",
       "2. 18\n",
       "\n",
       "\n"
      ],
      "text/plain": [
       "[1] 751  18"
      ]
     },
     "metadata": {},
     "output_type": "display_data"
    }
   ],
   "source": [
    "head(ess2014_p2)\n",
    "dim(ess2014_p2)"
   ]
  },
  {
   "cell_type": "markdown",
   "metadata": {},
   "source": [
    "If we wanted to combine the observations from both data sets, we can use `union()` (this also removes duplicates):\n",
    "\n",
    "NOTE: Base R also includes a `union()` function so make sure to load the `dplyr` package before using `union`. Alternative call the command directly from `dplyr` by writing: `dplyr::union()`."
   ]
  },
  {
   "cell_type": "code",
   "execution_count": 7,
   "metadata": {},
   "outputs": [
    {
     "data": {
      "text/html": [
       "<table class=\"dataframe\">\n",
       "<caption>A tibble: 6 × 18</caption>\n",
       "<thead>\n",
       "\t<tr><th scope=col>idno</th><th scope=col>ppltrst</th><th scope=col>polintr</th><th scope=col>vote</th><th scope=col>lrscale</th><th scope=col>happy</th><th scope=col>health</th><th scope=col>cgtsday</th><th scope=col>cgtsmke</th><th scope=col>alcfreq</th><th scope=col>brncntr</th><th scope=col>height</th><th scope=col>weight</th><th scope=col>gndr</th><th scope=col>yrbrn</th><th scope=col>edlvddk</th><th scope=col>marsts</th><th scope=col>polpartvt</th></tr>\n",
       "\t<tr><th scope=col>&lt;dbl&gt;</th><th scope=col>&lt;chr&gt;</th><th scope=col>&lt;chr&gt;</th><th scope=col>&lt;chr&gt;</th><th scope=col>&lt;chr&gt;</th><th scope=col>&lt;chr&gt;</th><th scope=col>&lt;chr&gt;</th><th scope=col>&lt;dbl&gt;</th><th scope=col>&lt;chr&gt;</th><th scope=col>&lt;chr&gt;</th><th scope=col>&lt;chr&gt;</th><th scope=col>&lt;dbl&gt;</th><th scope=col>&lt;dbl&gt;</th><th scope=col>&lt;chr&gt;</th><th scope=col>&lt;dbl&gt;</th><th scope=col>&lt;chr&gt;</th><th scope=col>&lt;chr&gt;</th><th scope=col>&lt;chr&gt;</th></tr>\n",
       "</thead>\n",
       "<tbody>\n",
       "\t<tr><td>921018</td><td>6</td><td>Hardly interested</td><td>Not eligible to vote</td><td>4</td><td>9</td><td>Very good</td><td>10</td><td>I smoke but not every day      </td><td>2-3 times a month   </td><td>Yes</td><td>178</td><td> 64</td><td>Male  </td><td>1990</td><td>Folkeskole 6.-8. klasse                                                       </td><td>None of these (NEVER married or in legally registered civil union)</td><td>[NA] Not applicable                                   </td></tr>\n",
       "\t<tr><td>921026</td><td>8</td><td>Quite interested </td><td>Yes                 </td><td>4</td><td>8</td><td>Very good</td><td>NA</td><td>I have never smoked            </td><td>Several times a week</td><td>Yes</td><td>172</td><td> 64</td><td>Female</td><td>1948</td><td>Mellemlang videregående uddannelse af 3-4 års varighed. Professionsbachelorer,</td><td>Widowed/civil partner died                                        </td><td>[1] Socialdemokraterne - the Danish social democrats  </td></tr>\n",
       "\t<tr><td>921034</td><td>8</td><td>Quite interested </td><td>Yes                 </td><td>7</td><td>8</td><td>Good     </td><td>NA</td><td>I don't smoke now but I used to</td><td>Every day           </td><td>Yes</td><td>176</td><td> 87</td><td>Male  </td><td>1957</td><td>Kort videregående uddannelse af op til 2-3 års varighed, F.eks. Erhvervsakadem</td><td>Not applicable                                                    </td><td>[7] Venstre, Danmarks Liberale Parti - Venstre        </td></tr>\n",
       "\t<tr><td>921181</td><td>9</td><td>Quite interested </td><td>Yes                 </td><td>5</td><td>9</td><td>Fair     </td><td>NA</td><td>I don't smoke now but I used to</td><td>Once a week         </td><td>Yes</td><td>194</td><td>102</td><td>Male  </td><td>1956</td><td>Faglig uddannelse (håndværk, handel, landbrug mv.), F.eks. Faglærte, Social-  </td><td>Not applicable                                                    </td><td>[2] Det Radikale Venstre - Danish Social-Liberal Party</td></tr>\n",
       "\t<tr><td>921204</td><td>9</td><td>Hardly interested</td><td>Yes                 </td><td>7</td><td>8</td><td>Good     </td><td>NA</td><td>I don't smoke now but I used to</td><td>Once a week         </td><td>No </td><td>157</td><td> 48</td><td>Female</td><td>1941</td><td>Kort videregående uddannelse af op til 2-3 års varighed, F.eks. Erhvervsakadem</td><td>Not applicable                                                    </td><td>[NA] Don't know                                       </td></tr>\n",
       "\t<tr><td>921262</td><td>8</td><td>Hardly interested</td><td>Yes                 </td><td>7</td><td>8</td><td>Very good</td><td>NA</td><td>I have never smoked            </td><td>2-3 times a month   </td><td>Yes</td><td>180</td><td> 93</td><td>Male  </td><td>1987</td><td>Mellemlang videregående uddannelse af 3-4 års varighed. Professionsbachelorer,</td><td>None of these (NEVER married or in legally registered civil union)</td><td>[7] Venstre, Danmarks Liberale Parti - Venstre        </td></tr>\n",
       "</tbody>\n",
       "</table>\n"
      ],
      "text/latex": [
       "A tibble: 6 × 18\n",
       "\\begin{tabular}{llllllllllllllllll}\n",
       " idno & ppltrst & polintr & vote & lrscale & happy & health & cgtsday & cgtsmke & alcfreq & brncntr & height & weight & gndr & yrbrn & edlvddk & marsts & polpartvt\\\\\n",
       " <dbl> & <chr> & <chr> & <chr> & <chr> & <chr> & <chr> & <dbl> & <chr> & <chr> & <chr> & <dbl> & <dbl> & <chr> & <dbl> & <chr> & <chr> & <chr>\\\\\n",
       "\\hline\n",
       "\t 921018 & 6 & Hardly interested & Not eligible to vote & 4 & 9 & Very good & 10 & I smoke but not every day       & 2-3 times a month    & Yes & 178 &  64 & Male   & 1990 & Folkeskole 6.-8. klasse                                                        & None of these (NEVER married or in legally registered civil union) & {[}NA{]} Not applicable                                   \\\\\n",
       "\t 921026 & 8 & Quite interested  & Yes                  & 4 & 8 & Very good & NA & I have never smoked             & Several times a week & Yes & 172 &  64 & Female & 1948 & Mellemlang videregående uddannelse af 3-4 års varighed. Professionsbachelorer, & Widowed/civil partner died                                         & {[}1{]} Socialdemokraterne - the Danish social democrats  \\\\\n",
       "\t 921034 & 8 & Quite interested  & Yes                  & 7 & 8 & Good      & NA & I don't smoke now but I used to & Every day            & Yes & 176 &  87 & Male   & 1957 & Kort videregående uddannelse af op til 2-3 års varighed, F.eks. Erhvervsakadem & Not applicable                                                     & {[}7{]} Venstre, Danmarks Liberale Parti - Venstre        \\\\\n",
       "\t 921181 & 9 & Quite interested  & Yes                  & 5 & 9 & Fair      & NA & I don't smoke now but I used to & Once a week          & Yes & 194 & 102 & Male   & 1956 & Faglig uddannelse (håndværk, handel, landbrug mv.), F.eks. Faglærte, Social-   & Not applicable                                                     & {[}2{]} Det Radikale Venstre - Danish Social-Liberal Party\\\\\n",
       "\t 921204 & 9 & Hardly interested & Yes                  & 7 & 8 & Good      & NA & I don't smoke now but I used to & Once a week          & No  & 157 &  48 & Female & 1941 & Kort videregående uddannelse af op til 2-3 års varighed, F.eks. Erhvervsakadem & Not applicable                                                     & {[}NA{]} Don't know                                       \\\\\n",
       "\t 921262 & 8 & Hardly interested & Yes                  & 7 & 8 & Very good & NA & I have never smoked             & 2-3 times a month    & Yes & 180 &  93 & Male   & 1987 & Mellemlang videregående uddannelse af 3-4 års varighed. Professionsbachelorer, & None of these (NEVER married or in legally registered civil union) & {[}7{]} Venstre, Danmarks Liberale Parti - Venstre        \\\\\n",
       "\\end{tabular}\n"
      ],
      "text/markdown": [
       "\n",
       "A tibble: 6 × 18\n",
       "\n",
       "| idno &lt;dbl&gt; | ppltrst &lt;chr&gt; | polintr &lt;chr&gt; | vote &lt;chr&gt; | lrscale &lt;chr&gt; | happy &lt;chr&gt; | health &lt;chr&gt; | cgtsday &lt;dbl&gt; | cgtsmke &lt;chr&gt; | alcfreq &lt;chr&gt; | brncntr &lt;chr&gt; | height &lt;dbl&gt; | weight &lt;dbl&gt; | gndr &lt;chr&gt; | yrbrn &lt;dbl&gt; | edlvddk &lt;chr&gt; | marsts &lt;chr&gt; | polpartvt &lt;chr&gt; |\n",
       "|---|---|---|---|---|---|---|---|---|---|---|---|---|---|---|---|---|---|\n",
       "| 921018 | 6 | Hardly interested | Not eligible to vote | 4 | 9 | Very good | 10 | I smoke but not every day       | 2-3 times a month    | Yes | 178 |  64 | Male   | 1990 | Folkeskole 6.-8. klasse                                                        | None of these (NEVER married or in legally registered civil union) | [NA] Not applicable                                    |\n",
       "| 921026 | 8 | Quite interested  | Yes                  | 4 | 8 | Very good | NA | I have never smoked             | Several times a week | Yes | 172 |  64 | Female | 1948 | Mellemlang videregående uddannelse af 3-4 års varighed. Professionsbachelorer, | Widowed/civil partner died                                         | [1] Socialdemokraterne - the Danish social democrats   |\n",
       "| 921034 | 8 | Quite interested  | Yes                  | 7 | 8 | Good      | NA | I don't smoke now but I used to | Every day            | Yes | 176 |  87 | Male   | 1957 | Kort videregående uddannelse af op til 2-3 års varighed, F.eks. Erhvervsakadem | Not applicable                                                     | [7] Venstre, Danmarks Liberale Parti - Venstre         |\n",
       "| 921181 | 9 | Quite interested  | Yes                  | 5 | 9 | Fair      | NA | I don't smoke now but I used to | Once a week          | Yes | 194 | 102 | Male   | 1956 | Faglig uddannelse (håndværk, handel, landbrug mv.), F.eks. Faglærte, Social-   | Not applicable                                                     | [2] Det Radikale Venstre - Danish Social-Liberal Party |\n",
       "| 921204 | 9 | Hardly interested | Yes                  | 7 | 8 | Good      | NA | I don't smoke now but I used to | Once a week          | No  | 157 |  48 | Female | 1941 | Kort videregående uddannelse af op til 2-3 års varighed, F.eks. Erhvervsakadem | Not applicable                                                     | [NA] Don't know                                        |\n",
       "| 921262 | 8 | Hardly interested | Yes                  | 7 | 8 | Very good | NA | I have never smoked             | 2-3 times a month    | Yes | 180 |  93 | Male   | 1987 | Mellemlang videregående uddannelse af 3-4 års varighed. Professionsbachelorer, | None of these (NEVER married or in legally registered civil union) | [7] Venstre, Danmarks Liberale Parti - Venstre         |\n",
       "\n"
      ],
      "text/plain": [
       "  idno   ppltrst polintr           vote                 lrscale happy health   \n",
       "1 921018 6       Hardly interested Not eligible to vote 4       9     Very good\n",
       "2 921026 8       Quite interested  Yes                  4       8     Very good\n",
       "3 921034 8       Quite interested  Yes                  7       8     Good     \n",
       "4 921181 9       Quite interested  Yes                  5       9     Fair     \n",
       "5 921204 9       Hardly interested Yes                  7       8     Good     \n",
       "6 921262 8       Hardly interested Yes                  7       8     Very good\n",
       "  cgtsday cgtsmke                         alcfreq              brncntr height\n",
       "1 10      I smoke but not every day       2-3 times a month    Yes     178   \n",
       "2 NA      I have never smoked             Several times a week Yes     172   \n",
       "3 NA      I don't smoke now but I used to Every day            Yes     176   \n",
       "4 NA      I don't smoke now but I used to Once a week          Yes     194   \n",
       "5 NA      I don't smoke now but I used to Once a week          No      157   \n",
       "6 NA      I have never smoked             2-3 times a month    Yes     180   \n",
       "  weight gndr   yrbrn\n",
       "1  64    Male   1990 \n",
       "2  64    Female 1948 \n",
       "3  87    Male   1957 \n",
       "4 102    Male   1956 \n",
       "5  48    Female 1941 \n",
       "6  93    Male   1987 \n",
       "  edlvddk                                                                       \n",
       "1 Folkeskole 6.-8. klasse                                                       \n",
       "2 Mellemlang videregående uddannelse af 3-4 års varighed. Professionsbachelorer,\n",
       "3 Kort videregående uddannelse af op til 2-3 års varighed, F.eks. Erhvervsakadem\n",
       "4 Faglig uddannelse (håndværk, handel, landbrug mv.), F.eks. Faglærte, Social-  \n",
       "5 Kort videregående uddannelse af op til 2-3 års varighed, F.eks. Erhvervsakadem\n",
       "6 Mellemlang videregående uddannelse af 3-4 års varighed. Professionsbachelorer,\n",
       "  marsts                                                            \n",
       "1 None of these (NEVER married or in legally registered civil union)\n",
       "2 Widowed/civil partner died                                        \n",
       "3 Not applicable                                                    \n",
       "4 Not applicable                                                    \n",
       "5 Not applicable                                                    \n",
       "6 None of these (NEVER married or in legally registered civil union)\n",
       "  polpartvt                                             \n",
       "1 [NA] Not applicable                                   \n",
       "2 [1] Socialdemokraterne - the Danish social democrats  \n",
       "3 [7] Venstre, Danmarks Liberale Parti - Venstre        \n",
       "4 [2] Det Radikale Venstre - Danish Social-Liberal Party\n",
       "5 [NA] Don't know                                       \n",
       "6 [7] Venstre, Danmarks Liberale Parti - Venstre        "
      ]
     },
     "metadata": {},
     "output_type": "display_data"
    },
    {
     "data": {
      "text/html": [
       "<style>\n",
       ".list-inline {list-style: none; margin:0; padding: 0}\n",
       ".list-inline>li {display: inline-block}\n",
       ".list-inline>li:not(:last-child)::after {content: \"\\00b7\"; padding: 0 .5ex}\n",
       "</style>\n",
       "<ol class=list-inline><li>1502</li><li>18</li></ol>\n"
      ],
      "text/latex": [
       "\\begin{enumerate*}\n",
       "\\item 1502\n",
       "\\item 18\n",
       "\\end{enumerate*}\n"
      ],
      "text/markdown": [
       "1. 1502\n",
       "2. 18\n",
       "\n",
       "\n"
      ],
      "text/plain": [
       "[1] 1502   18"
      ]
     },
     "metadata": {},
     "output_type": "display_data"
    }
   ],
   "source": [
    "library(dplyr)\n",
    "\n",
    "ess2014_comb <- union(ess2014_p1, ess2014_p2)\n",
    "\n",
    "head(ess2014_comb)\n",
    "dim(ess2014_comb)"
   ]
  },
  {
   "cell_type": "markdown",
   "metadata": {},
   "source": [
    "## Combining variables\n",
    "\n",
    "There are four different functions for combining variables across data sets. Which one to use depends on how you prefer data to be joined:\n",
    "\n",
    "- `inner_join()`: Includes all variables but only observations present in both datasets\n",
    "- `left_join()` / `right_join()`: Includes all variables and all observations from one data set (non-matched observations set to `NA`)\n",
    "- `full_join()`: Includes all variables and all observations from both data sets\n",
    "\n",
    "We will continue with our combined data set from above but read in an additional data set:"
   ]
  },
  {
   "cell_type": "code",
   "execution_count": 8,
   "metadata": {},
   "outputs": [
    {
     "name": "stderr",
     "output_type": "stream",
     "text": [
      "\u001b[1mRows: \u001b[22m\u001b[34m1502\u001b[39m \u001b[1mColumns: \u001b[22m\u001b[34m8\u001b[39m\n",
      "\n",
      "\u001b[36m--\u001b[39m \u001b[1mColumn specification\u001b[22m \u001b[36m------------------------------------------------------------------------------------------------\u001b[39m\n",
      "\u001b[1mDelimiter:\u001b[22m \",\"\n",
      "\u001b[31mchr\u001b[39m (7): trstprl, trstlgl, trstplc, trstplt, trstprt, trstep, trstun\n",
      "\u001b[32mdbl\u001b[39m (1): idno\n",
      "\n",
      "\n",
      "\u001b[36mi\u001b[39m Use \u001b[30m\u001b[47m\u001b[30m\u001b[47m`spec()`\u001b[47m\u001b[30m\u001b[49m\u001b[39m to retrieve the full column specification for this data.\n",
      "\u001b[36mi\u001b[39m Specify the column types or set \u001b[30m\u001b[47m\u001b[30m\u001b[47m`show_col_types = FALSE`\u001b[47m\u001b[30m\u001b[49m\u001b[39m to quiet this message.\n",
      "\n"
     ]
    },
    {
     "data": {
      "text/html": [
       "<table class=\"dataframe\">\n",
       "<caption>A tibble: 6 × 8</caption>\n",
       "<thead>\n",
       "\t<tr><th scope=col>idno</th><th scope=col>trstprl</th><th scope=col>trstlgl</th><th scope=col>trstplc</th><th scope=col>trstplt</th><th scope=col>trstprt</th><th scope=col>trstep</th><th scope=col>trstun</th></tr>\n",
       "\t<tr><th scope=col>&lt;dbl&gt;</th><th scope=col>&lt;chr&gt;</th><th scope=col>&lt;chr&gt;</th><th scope=col>&lt;chr&gt;</th><th scope=col>&lt;chr&gt;</th><th scope=col>&lt;chr&gt;</th><th scope=col>&lt;chr&gt;</th><th scope=col>&lt;chr&gt;</th></tr>\n",
       "</thead>\n",
       "<tbody>\n",
       "\t<tr><td>921018</td><td>7</td><td>6         </td><td>7</td><td>7</td><td>7</td><td>Don't know</td><td>5</td></tr>\n",
       "\t<tr><td>921026</td><td>7</td><td>8         </td><td>8</td><td>7</td><td>6</td><td>6         </td><td>6</td></tr>\n",
       "\t<tr><td>921034</td><td>9</td><td>9         </td><td>9</td><td>7</td><td>7</td><td>5         </td><td>6</td></tr>\n",
       "\t<tr><td>921076</td><td>4</td><td>6         </td><td>7</td><td>6</td><td>5</td><td>5         </td><td>5</td></tr>\n",
       "\t<tr><td>921084</td><td>5</td><td>Don't know</td><td>6</td><td>4</td><td>4</td><td>Don't know</td><td>7</td></tr>\n",
       "\t<tr><td>921131</td><td>5</td><td>7         </td><td>8</td><td>3</td><td>6</td><td>2         </td><td>3</td></tr>\n",
       "</tbody>\n",
       "</table>\n"
      ],
      "text/latex": [
       "A tibble: 6 × 8\n",
       "\\begin{tabular}{llllllll}\n",
       " idno & trstprl & trstlgl & trstplc & trstplt & trstprt & trstep & trstun\\\\\n",
       " <dbl> & <chr> & <chr> & <chr> & <chr> & <chr> & <chr> & <chr>\\\\\n",
       "\\hline\n",
       "\t 921018 & 7 & 6          & 7 & 7 & 7 & Don't know & 5\\\\\n",
       "\t 921026 & 7 & 8          & 8 & 7 & 6 & 6          & 6\\\\\n",
       "\t 921034 & 9 & 9          & 9 & 7 & 7 & 5          & 6\\\\\n",
       "\t 921076 & 4 & 6          & 7 & 6 & 5 & 5          & 5\\\\\n",
       "\t 921084 & 5 & Don't know & 6 & 4 & 4 & Don't know & 7\\\\\n",
       "\t 921131 & 5 & 7          & 8 & 3 & 6 & 2          & 3\\\\\n",
       "\\end{tabular}\n"
      ],
      "text/markdown": [
       "\n",
       "A tibble: 6 × 8\n",
       "\n",
       "| idno &lt;dbl&gt; | trstprl &lt;chr&gt; | trstlgl &lt;chr&gt; | trstplc &lt;chr&gt; | trstplt &lt;chr&gt; | trstprt &lt;chr&gt; | trstep &lt;chr&gt; | trstun &lt;chr&gt; |\n",
       "|---|---|---|---|---|---|---|---|\n",
       "| 921018 | 7 | 6          | 7 | 7 | 7 | Don't know | 5 |\n",
       "| 921026 | 7 | 8          | 8 | 7 | 6 | 6          | 6 |\n",
       "| 921034 | 9 | 9          | 9 | 7 | 7 | 5          | 6 |\n",
       "| 921076 | 4 | 6          | 7 | 6 | 5 | 5          | 5 |\n",
       "| 921084 | 5 | Don't know | 6 | 4 | 4 | Don't know | 7 |\n",
       "| 921131 | 5 | 7          | 8 | 3 | 6 | 2          | 3 |\n",
       "\n"
      ],
      "text/plain": [
       "  idno   trstprl trstlgl    trstplc trstplt trstprt trstep     trstun\n",
       "1 921018 7       6          7       7       7       Don't know 5     \n",
       "2 921026 7       8          8       7       6       6          6     \n",
       "3 921034 9       9          9       7       7       5          6     \n",
       "4 921076 4       6          7       6       5       5          5     \n",
       "5 921084 5       Don't know 6       4       4       Don't know 7     \n",
       "6 921131 5       7          8       3       6       2          3     "
      ]
     },
     "metadata": {},
     "output_type": "display_data"
    },
    {
     "data": {
      "text/html": [
       "<style>\n",
       ".list-inline {list-style: none; margin:0; padding: 0}\n",
       ".list-inline>li {display: inline-block}\n",
       ".list-inline>li:not(:last-child)::after {content: \"\\00b7\"; padding: 0 .5ex}\n",
       "</style>\n",
       "<ol class=list-inline><li>1502</li><li>8</li></ol>\n"
      ],
      "text/latex": [
       "\\begin{enumerate*}\n",
       "\\item 1502\n",
       "\\item 8\n",
       "\\end{enumerate*}\n"
      ],
      "text/markdown": [
       "1. 1502\n",
       "2. 8\n",
       "\n",
       "\n"
      ],
      "text/plain": [
       "[1] 1502    8"
      ]
     },
     "metadata": {},
     "output_type": "display_data"
    }
   ],
   "source": [
    "library(readr)\n",
    "\n",
    "ess2014_trst <- read_csv(\"https://github.com/CALDISS-AAU/workshop_r-table-data/raw/master/data/ess2014_trstsub.csv\")\n",
    "\n",
    "head(ess2014_trst)\n",
    "dim(ess2014_trst)"
   ]
  },
  {
   "cell_type": "markdown",
   "metadata": {},
   "source": [
    "The data sets contain various variables for how much the respondent trusts people and institutions (on a scale from 1-10). \n",
    "\n",
    "The data set can be combined with the `ess2014_comb` data set based on the common id-variable \"idno\".\n",
    "\n",
    "`left_join()` keeps all observations from the first specified data set and combines all variables:"
   ]
  },
  {
   "cell_type": "code",
   "execution_count": 9,
   "metadata": {},
   "outputs": [
    {
     "name": "stderr",
     "output_type": "stream",
     "text": [
      "Joining, by = \"idno\"\n",
      "\n"
     ]
    },
    {
     "data": {
      "text/html": [
       "<table class=\"dataframe\">\n",
       "<caption>A tibble: 6 × 25</caption>\n",
       "<thead>\n",
       "\t<tr><th scope=col>idno</th><th scope=col>ppltrst</th><th scope=col>polintr</th><th scope=col>vote</th><th scope=col>lrscale</th><th scope=col>happy</th><th scope=col>health</th><th scope=col>cgtsday</th><th scope=col>cgtsmke</th><th scope=col>alcfreq</th><th scope=col>⋯</th><th scope=col>edlvddk</th><th scope=col>marsts</th><th scope=col>polpartvt</th><th scope=col>trstprl</th><th scope=col>trstlgl</th><th scope=col>trstplc</th><th scope=col>trstplt</th><th scope=col>trstprt</th><th scope=col>trstep</th><th scope=col>trstun</th></tr>\n",
       "\t<tr><th scope=col>&lt;dbl&gt;</th><th scope=col>&lt;chr&gt;</th><th scope=col>&lt;chr&gt;</th><th scope=col>&lt;chr&gt;</th><th scope=col>&lt;chr&gt;</th><th scope=col>&lt;chr&gt;</th><th scope=col>&lt;chr&gt;</th><th scope=col>&lt;dbl&gt;</th><th scope=col>&lt;chr&gt;</th><th scope=col>&lt;chr&gt;</th><th scope=col>⋯</th><th scope=col>&lt;chr&gt;</th><th scope=col>&lt;chr&gt;</th><th scope=col>&lt;chr&gt;</th><th scope=col>&lt;chr&gt;</th><th scope=col>&lt;chr&gt;</th><th scope=col>&lt;chr&gt;</th><th scope=col>&lt;chr&gt;</th><th scope=col>&lt;chr&gt;</th><th scope=col>&lt;chr&gt;</th><th scope=col>&lt;chr&gt;</th></tr>\n",
       "</thead>\n",
       "<tbody>\n",
       "\t<tr><td>921018</td><td>6</td><td>Hardly interested</td><td>Not eligible to vote</td><td>4</td><td>9</td><td>Very good</td><td>10</td><td>I smoke but not every day      </td><td>2-3 times a month   </td><td>⋯</td><td>Folkeskole 6.-8. klasse                                                       </td><td>None of these (NEVER married or in legally registered civil union)</td><td>[NA] Not applicable                                   </td><td>7         </td><td>6</td><td>7</td><td>7</td><td>7</td><td>Don't know</td><td>5</td></tr>\n",
       "\t<tr><td>921026</td><td>8</td><td>Quite interested </td><td>Yes                 </td><td>4</td><td>8</td><td>Very good</td><td>NA</td><td>I have never smoked            </td><td>Several times a week</td><td>⋯</td><td>Mellemlang videregående uddannelse af 3-4 års varighed. Professionsbachelorer,</td><td>Widowed/civil partner died                                        </td><td>[1] Socialdemokraterne - the Danish social democrats  </td><td>7         </td><td>8</td><td>8</td><td>7</td><td>6</td><td>6         </td><td>6</td></tr>\n",
       "\t<tr><td>921034</td><td>8</td><td>Quite interested </td><td>Yes                 </td><td>7</td><td>8</td><td>Good     </td><td>NA</td><td>I don't smoke now but I used to</td><td>Every day           </td><td>⋯</td><td>Kort videregående uddannelse af op til 2-3 års varighed, F.eks. Erhvervsakadem</td><td>Not applicable                                                    </td><td>[7] Venstre, Danmarks Liberale Parti - Venstre        </td><td>9         </td><td>9</td><td>9</td><td>7</td><td>7</td><td>5         </td><td>6</td></tr>\n",
       "\t<tr><td>921181</td><td>9</td><td>Quite interested </td><td>Yes                 </td><td>5</td><td>9</td><td>Fair     </td><td>NA</td><td>I don't smoke now but I used to</td><td>Once a week         </td><td>⋯</td><td>Faglig uddannelse (håndværk, handel, landbrug mv.), F.eks. Faglærte, Social-  </td><td>Not applicable                                                    </td><td>[2] Det Radikale Venstre - Danish Social-Liberal Party</td><td>8         </td><td>7</td><td>9</td><td>6</td><td>6</td><td>5         </td><td>6</td></tr>\n",
       "\t<tr><td>921204</td><td>9</td><td>Hardly interested</td><td>Yes                 </td><td>7</td><td>8</td><td>Good     </td><td>NA</td><td>I don't smoke now but I used to</td><td>Once a week         </td><td>⋯</td><td>Kort videregående uddannelse af op til 2-3 års varighed, F.eks. Erhvervsakadem</td><td>Not applicable                                                    </td><td>[NA] Don't know                                       </td><td>Don't know</td><td>8</td><td>8</td><td>3</td><td>3</td><td>4         </td><td>6</td></tr>\n",
       "\t<tr><td>921262</td><td>8</td><td>Hardly interested</td><td>Yes                 </td><td>7</td><td>8</td><td>Very good</td><td>NA</td><td>I have never smoked            </td><td>2-3 times a month   </td><td>⋯</td><td>Mellemlang videregående uddannelse af 3-4 års varighed. Professionsbachelorer,</td><td>None of these (NEVER married or in legally registered civil union)</td><td>[7] Venstre, Danmarks Liberale Parti - Venstre        </td><td>7         </td><td>9</td><td>9</td><td>6</td><td>6</td><td>Don't know</td><td>7</td></tr>\n",
       "</tbody>\n",
       "</table>\n"
      ],
      "text/latex": [
       "A tibble: 6 × 25\n",
       "\\begin{tabular}{lllllllllllllllllllll}\n",
       " idno & ppltrst & polintr & vote & lrscale & happy & health & cgtsday & cgtsmke & alcfreq & ⋯ & edlvddk & marsts & polpartvt & trstprl & trstlgl & trstplc & trstplt & trstprt & trstep & trstun\\\\\n",
       " <dbl> & <chr> & <chr> & <chr> & <chr> & <chr> & <chr> & <dbl> & <chr> & <chr> & ⋯ & <chr> & <chr> & <chr> & <chr> & <chr> & <chr> & <chr> & <chr> & <chr> & <chr>\\\\\n",
       "\\hline\n",
       "\t 921018 & 6 & Hardly interested & Not eligible to vote & 4 & 9 & Very good & 10 & I smoke but not every day       & 2-3 times a month    & ⋯ & Folkeskole 6.-8. klasse                                                        & None of these (NEVER married or in legally registered civil union) & {[}NA{]} Not applicable                                    & 7          & 6 & 7 & 7 & 7 & Don't know & 5\\\\\n",
       "\t 921026 & 8 & Quite interested  & Yes                  & 4 & 8 & Very good & NA & I have never smoked             & Several times a week & ⋯ & Mellemlang videregående uddannelse af 3-4 års varighed. Professionsbachelorer, & Widowed/civil partner died                                         & {[}1{]} Socialdemokraterne - the Danish social democrats   & 7          & 8 & 8 & 7 & 6 & 6          & 6\\\\\n",
       "\t 921034 & 8 & Quite interested  & Yes                  & 7 & 8 & Good      & NA & I don't smoke now but I used to & Every day            & ⋯ & Kort videregående uddannelse af op til 2-3 års varighed, F.eks. Erhvervsakadem & Not applicable                                                     & {[}7{]} Venstre, Danmarks Liberale Parti - Venstre         & 9          & 9 & 9 & 7 & 7 & 5          & 6\\\\\n",
       "\t 921181 & 9 & Quite interested  & Yes                  & 5 & 9 & Fair      & NA & I don't smoke now but I used to & Once a week          & ⋯ & Faglig uddannelse (håndværk, handel, landbrug mv.), F.eks. Faglærte, Social-   & Not applicable                                                     & {[}2{]} Det Radikale Venstre - Danish Social-Liberal Party & 8          & 7 & 9 & 6 & 6 & 5          & 6\\\\\n",
       "\t 921204 & 9 & Hardly interested & Yes                  & 7 & 8 & Good      & NA & I don't smoke now but I used to & Once a week          & ⋯ & Kort videregående uddannelse af op til 2-3 års varighed, F.eks. Erhvervsakadem & Not applicable                                                     & {[}NA{]} Don't know                                        & Don't know & 8 & 8 & 3 & 3 & 4          & 6\\\\\n",
       "\t 921262 & 8 & Hardly interested & Yes                  & 7 & 8 & Very good & NA & I have never smoked             & 2-3 times a month    & ⋯ & Mellemlang videregående uddannelse af 3-4 års varighed. Professionsbachelorer, & None of these (NEVER married or in legally registered civil union) & {[}7{]} Venstre, Danmarks Liberale Parti - Venstre         & 7          & 9 & 9 & 6 & 6 & Don't know & 7\\\\\n",
       "\\end{tabular}\n"
      ],
      "text/markdown": [
       "\n",
       "A tibble: 6 × 25\n",
       "\n",
       "| idno &lt;dbl&gt; | ppltrst &lt;chr&gt; | polintr &lt;chr&gt; | vote &lt;chr&gt; | lrscale &lt;chr&gt; | happy &lt;chr&gt; | health &lt;chr&gt; | cgtsday &lt;dbl&gt; | cgtsmke &lt;chr&gt; | alcfreq &lt;chr&gt; | ⋯ ⋯ | edlvddk &lt;chr&gt; | marsts &lt;chr&gt; | polpartvt &lt;chr&gt; | trstprl &lt;chr&gt; | trstlgl &lt;chr&gt; | trstplc &lt;chr&gt; | trstplt &lt;chr&gt; | trstprt &lt;chr&gt; | trstep &lt;chr&gt; | trstun &lt;chr&gt; |\n",
       "|---|---|---|---|---|---|---|---|---|---|---|---|---|---|---|---|---|---|---|---|---|\n",
       "| 921018 | 6 | Hardly interested | Not eligible to vote | 4 | 9 | Very good | 10 | I smoke but not every day       | 2-3 times a month    | ⋯ | Folkeskole 6.-8. klasse                                                        | None of these (NEVER married or in legally registered civil union) | [NA] Not applicable                                    | 7          | 6 | 7 | 7 | 7 | Don't know | 5 |\n",
       "| 921026 | 8 | Quite interested  | Yes                  | 4 | 8 | Very good | NA | I have never smoked             | Several times a week | ⋯ | Mellemlang videregående uddannelse af 3-4 års varighed. Professionsbachelorer, | Widowed/civil partner died                                         | [1] Socialdemokraterne - the Danish social democrats   | 7          | 8 | 8 | 7 | 6 | 6          | 6 |\n",
       "| 921034 | 8 | Quite interested  | Yes                  | 7 | 8 | Good      | NA | I don't smoke now but I used to | Every day            | ⋯ | Kort videregående uddannelse af op til 2-3 års varighed, F.eks. Erhvervsakadem | Not applicable                                                     | [7] Venstre, Danmarks Liberale Parti - Venstre         | 9          | 9 | 9 | 7 | 7 | 5          | 6 |\n",
       "| 921181 | 9 | Quite interested  | Yes                  | 5 | 9 | Fair      | NA | I don't smoke now but I used to | Once a week          | ⋯ | Faglig uddannelse (håndværk, handel, landbrug mv.), F.eks. Faglærte, Social-   | Not applicable                                                     | [2] Det Radikale Venstre - Danish Social-Liberal Party | 8          | 7 | 9 | 6 | 6 | 5          | 6 |\n",
       "| 921204 | 9 | Hardly interested | Yes                  | 7 | 8 | Good      | NA | I don't smoke now but I used to | Once a week          | ⋯ | Kort videregående uddannelse af op til 2-3 års varighed, F.eks. Erhvervsakadem | Not applicable                                                     | [NA] Don't know                                        | Don't know | 8 | 8 | 3 | 3 | 4          | 6 |\n",
       "| 921262 | 8 | Hardly interested | Yes                  | 7 | 8 | Very good | NA | I have never smoked             | 2-3 times a month    | ⋯ | Mellemlang videregående uddannelse af 3-4 års varighed. Professionsbachelorer, | None of these (NEVER married or in legally registered civil union) | [7] Venstre, Danmarks Liberale Parti - Venstre         | 7          | 9 | 9 | 6 | 6 | Don't know | 7 |\n",
       "\n"
      ],
      "text/plain": [
       "  idno   ppltrst polintr           vote                 lrscale happy health   \n",
       "1 921018 6       Hardly interested Not eligible to vote 4       9     Very good\n",
       "2 921026 8       Quite interested  Yes                  4       8     Very good\n",
       "3 921034 8       Quite interested  Yes                  7       8     Good     \n",
       "4 921181 9       Quite interested  Yes                  5       9     Fair     \n",
       "5 921204 9       Hardly interested Yes                  7       8     Good     \n",
       "6 921262 8       Hardly interested Yes                  7       8     Very good\n",
       "  cgtsday cgtsmke                         alcfreq              <U+22EF>       \n",
       "1 10      I smoke but not every day       2-3 times a month    <U+22EF>\n",
       "2 NA      I have never smoked             Several times a week <U+22EF>\n",
       "3 NA      I don't smoke now but I used to Every day            <U+22EF>\n",
       "4 NA      I don't smoke now but I used to Once a week          <U+22EF>\n",
       "5 NA      I don't smoke now but I used to Once a week          <U+22EF>\n",
       "6 NA      I have never smoked             2-3 times a month    <U+22EF>\n",
       "  edlvddk                                                                       \n",
       "1 Folkeskole 6.-8. klasse                                                       \n",
       "2 Mellemlang videregående uddannelse af 3-4 års varighed. Professionsbachelorer,\n",
       "3 Kort videregående uddannelse af op til 2-3 års varighed, F.eks. Erhvervsakadem\n",
       "4 Faglig uddannelse (håndværk, handel, landbrug mv.), F.eks. Faglærte, Social-  \n",
       "5 Kort videregående uddannelse af op til 2-3 års varighed, F.eks. Erhvervsakadem\n",
       "6 Mellemlang videregående uddannelse af 3-4 års varighed. Professionsbachelorer,\n",
       "  marsts                                                            \n",
       "1 None of these (NEVER married or in legally registered civil union)\n",
       "2 Widowed/civil partner died                                        \n",
       "3 Not applicable                                                    \n",
       "4 Not applicable                                                    \n",
       "5 Not applicable                                                    \n",
       "6 None of these (NEVER married or in legally registered civil union)\n",
       "  polpartvt                                              trstprl    trstlgl\n",
       "1 [NA] Not applicable                                    7          6      \n",
       "2 [1] Socialdemokraterne - the Danish social democrats   7          8      \n",
       "3 [7] Venstre, Danmarks Liberale Parti - Venstre         9          9      \n",
       "4 [2] Det Radikale Venstre - Danish Social-Liberal Party 8          7      \n",
       "5 [NA] Don't know                                        Don't know 8      \n",
       "6 [7] Venstre, Danmarks Liberale Parti - Venstre         7          9      \n",
       "  trstplc trstplt trstprt trstep     trstun\n",
       "1 7       7       7       Don't know 5     \n",
       "2 8       7       6       6          6     \n",
       "3 9       7       7       5          6     \n",
       "4 9       6       6       5          6     \n",
       "5 8       3       3       4          6     \n",
       "6 9       6       6       Don't know 7     "
      ]
     },
     "metadata": {},
     "output_type": "display_data"
    }
   ],
   "source": [
    "ess2014_joined <- left_join(ess2014_comb, ess2014_trst)\n",
    "\n",
    "head(ess2014_joined)"
   ]
  },
  {
   "cell_type": "markdown",
   "metadata": {},
   "source": [
    "Notice that the function tries to guess the id-variable.\n",
    "\n",
    "If we used one of the partial data sets (like \"ess2014_p1\"), `left_join()` would only return the observations present in that data set from the \"ess2014_trst\" data set:"
   ]
  },
  {
   "cell_type": "code",
   "execution_count": 10,
   "metadata": {},
   "outputs": [
    {
     "data": {
      "text/html": [
       "<style>\n",
       ".list-inline {list-style: none; margin:0; padding: 0}\n",
       ".list-inline>li {display: inline-block}\n",
       ".list-inline>li:not(:last-child)::after {content: \"\\00b7\"; padding: 0 .5ex}\n",
       "</style>\n",
       "<ol class=list-inline><li>751</li><li>18</li></ol>\n"
      ],
      "text/latex": [
       "\\begin{enumerate*}\n",
       "\\item 751\n",
       "\\item 18\n",
       "\\end{enumerate*}\n"
      ],
      "text/markdown": [
       "1. 751\n",
       "2. 18\n",
       "\n",
       "\n"
      ],
      "text/plain": [
       "[1] 751  18"
      ]
     },
     "metadata": {},
     "output_type": "display_data"
    },
    {
     "data": {
      "text/html": [
       "<style>\n",
       ".list-inline {list-style: none; margin:0; padding: 0}\n",
       ".list-inline>li {display: inline-block}\n",
       ".list-inline>li:not(:last-child)::after {content: \"\\00b7\"; padding: 0 .5ex}\n",
       "</style>\n",
       "<ol class=list-inline><li>1502</li><li>8</li></ol>\n"
      ],
      "text/latex": [
       "\\begin{enumerate*}\n",
       "\\item 1502\n",
       "\\item 8\n",
       "\\end{enumerate*}\n"
      ],
      "text/markdown": [
       "1. 1502\n",
       "2. 8\n",
       "\n",
       "\n"
      ],
      "text/plain": [
       "[1] 1502    8"
      ]
     },
     "metadata": {},
     "output_type": "display_data"
    },
    {
     "name": "stderr",
     "output_type": "stream",
     "text": [
      "Joining, by = \"idno\"\n",
      "\n"
     ]
    },
    {
     "data": {
      "text/html": [
       "<style>\n",
       ".list-inline {list-style: none; margin:0; padding: 0}\n",
       ".list-inline>li {display: inline-block}\n",
       ".list-inline>li:not(:last-child)::after {content: \"\\00b7\"; padding: 0 .5ex}\n",
       "</style>\n",
       "<ol class=list-inline><li>751</li><li>25</li></ol>\n"
      ],
      "text/latex": [
       "\\begin{enumerate*}\n",
       "\\item 751\n",
       "\\item 25\n",
       "\\end{enumerate*}\n"
      ],
      "text/markdown": [
       "1. 751\n",
       "2. 25\n",
       "\n",
       "\n"
      ],
      "text/plain": [
       "[1] 751  25"
      ]
     },
     "metadata": {},
     "output_type": "display_data"
    }
   ],
   "source": [
    "dim(ess2014_p1) # checking dimensions\n",
    "dim(ess2014_trst) # checking dimensions\n",
    "\n",
    "ess2014_p1_join <- left_join(ess2014_p1, ess2014_trst)\n",
    "\n",
    "dim(ess2014_p1_join)"
   ]
  },
  {
   "cell_type": "markdown",
   "metadata": {},
   "source": [
    "`left_join()` / `right_join()` keeps all observations from one data set. If observations are not present in the data set to be combined with, those observations will be set to `NA` in the added variables.\n",
    "\n",
    "We can see this by doing the same join as above but using `right_join()` instead, which keeps all observations from \"ess2014_trst\" instead of those from \"ess2014_p1\":"
   ]
  },
  {
   "cell_type": "code",
   "execution_count": 11,
   "metadata": {},
   "outputs": [
    {
     "name": "stderr",
     "output_type": "stream",
     "text": [
      "Joining, by = \"idno\"\n",
      "\n"
     ]
    },
    {
     "data": {
      "text/html": [
       "<style>\n",
       ".list-inline {list-style: none; margin:0; padding: 0}\n",
       ".list-inline>li {display: inline-block}\n",
       ".list-inline>li:not(:last-child)::after {content: \"\\00b7\"; padding: 0 .5ex}\n",
       "</style>\n",
       "<ol class=list-inline><li>1502</li><li>25</li></ol>\n"
      ],
      "text/latex": [
       "\\begin{enumerate*}\n",
       "\\item 1502\n",
       "\\item 25\n",
       "\\end{enumerate*}\n"
      ],
      "text/markdown": [
       "1. 1502\n",
       "2. 25\n",
       "\n",
       "\n"
      ],
      "text/plain": [
       "[1] 1502   25"
      ]
     },
     "metadata": {},
     "output_type": "display_data"
    },
    {
     "data": {
      "text/html": [
       "<table class=\"dataframe\">\n",
       "<caption>A tibble: 6 × 25</caption>\n",
       "<thead>\n",
       "\t<tr><th scope=col>idno</th><th scope=col>ppltrst</th><th scope=col>polintr</th><th scope=col>vote</th><th scope=col>lrscale</th><th scope=col>happy</th><th scope=col>health</th><th scope=col>cgtsday</th><th scope=col>cgtsmke</th><th scope=col>alcfreq</th><th scope=col>⋯</th><th scope=col>edlvddk</th><th scope=col>marsts</th><th scope=col>polpartvt</th><th scope=col>trstprl</th><th scope=col>trstlgl</th><th scope=col>trstplc</th><th scope=col>trstplt</th><th scope=col>trstprt</th><th scope=col>trstep</th><th scope=col>trstun</th></tr>\n",
       "\t<tr><th scope=col>&lt;dbl&gt;</th><th scope=col>&lt;chr&gt;</th><th scope=col>&lt;chr&gt;</th><th scope=col>&lt;chr&gt;</th><th scope=col>&lt;chr&gt;</th><th scope=col>&lt;chr&gt;</th><th scope=col>&lt;chr&gt;</th><th scope=col>&lt;dbl&gt;</th><th scope=col>&lt;chr&gt;</th><th scope=col>&lt;chr&gt;</th><th scope=col>⋯</th><th scope=col>&lt;chr&gt;</th><th scope=col>&lt;chr&gt;</th><th scope=col>&lt;chr&gt;</th><th scope=col>&lt;chr&gt;</th><th scope=col>&lt;chr&gt;</th><th scope=col>&lt;chr&gt;</th><th scope=col>&lt;chr&gt;</th><th scope=col>&lt;chr&gt;</th><th scope=col>&lt;chr&gt;</th><th scope=col>&lt;chr&gt;</th></tr>\n",
       "</thead>\n",
       "<tbody>\n",
       "\t<tr><td>921018</td><td>6</td><td>Hardly interested</td><td>Not eligible to vote</td><td>4</td><td>9</td><td>Very good</td><td>10</td><td>I smoke but not every day      </td><td>2-3 times a month   </td><td>⋯</td><td>Folkeskole 6.-8. klasse                                                       </td><td>None of these (NEVER married or in legally registered civil union)</td><td>[NA] Not applicable                                   </td><td>7         </td><td>6</td><td>7</td><td>7</td><td>7</td><td>Don't know</td><td>5</td></tr>\n",
       "\t<tr><td>921026</td><td>8</td><td>Quite interested </td><td>Yes                 </td><td>4</td><td>8</td><td>Very good</td><td>NA</td><td>I have never smoked            </td><td>Several times a week</td><td>⋯</td><td>Mellemlang videregående uddannelse af 3-4 års varighed. Professionsbachelorer,</td><td>Widowed/civil partner died                                        </td><td>[1] Socialdemokraterne - the Danish social democrats  </td><td>7         </td><td>8</td><td>8</td><td>7</td><td>6</td><td>6         </td><td>6</td></tr>\n",
       "\t<tr><td>921034</td><td>8</td><td>Quite interested </td><td>Yes                 </td><td>7</td><td>8</td><td>Good     </td><td>NA</td><td>I don't smoke now but I used to</td><td>Every day           </td><td>⋯</td><td>Kort videregående uddannelse af op til 2-3 års varighed, F.eks. Erhvervsakadem</td><td>Not applicable                                                    </td><td>[7] Venstre, Danmarks Liberale Parti - Venstre        </td><td>9         </td><td>9</td><td>9</td><td>7</td><td>7</td><td>5         </td><td>6</td></tr>\n",
       "\t<tr><td>921181</td><td>9</td><td>Quite interested </td><td>Yes                 </td><td>5</td><td>9</td><td>Fair     </td><td>NA</td><td>I don't smoke now but I used to</td><td>Once a week         </td><td>⋯</td><td>Faglig uddannelse (håndværk, handel, landbrug mv.), F.eks. Faglærte, Social-  </td><td>Not applicable                                                    </td><td>[2] Det Radikale Venstre - Danish Social-Liberal Party</td><td>8         </td><td>7</td><td>9</td><td>6</td><td>6</td><td>5         </td><td>6</td></tr>\n",
       "\t<tr><td>921204</td><td>9</td><td>Hardly interested</td><td>Yes                 </td><td>7</td><td>8</td><td>Good     </td><td>NA</td><td>I don't smoke now but I used to</td><td>Once a week         </td><td>⋯</td><td>Kort videregående uddannelse af op til 2-3 års varighed, F.eks. Erhvervsakadem</td><td>Not applicable                                                    </td><td>[NA] Don't know                                       </td><td>Don't know</td><td>8</td><td>8</td><td>3</td><td>3</td><td>4         </td><td>6</td></tr>\n",
       "\t<tr><td>921262</td><td>8</td><td>Hardly interested</td><td>Yes                 </td><td>7</td><td>8</td><td>Very good</td><td>NA</td><td>I have never smoked            </td><td>2-3 times a month   </td><td>⋯</td><td>Mellemlang videregående uddannelse af 3-4 års varighed. Professionsbachelorer,</td><td>None of these (NEVER married or in legally registered civil union)</td><td>[7] Venstre, Danmarks Liberale Parti - Venstre        </td><td>7         </td><td>9</td><td>9</td><td>6</td><td>6</td><td>Don't know</td><td>7</td></tr>\n",
       "</tbody>\n",
       "</table>\n"
      ],
      "text/latex": [
       "A tibble: 6 × 25\n",
       "\\begin{tabular}{lllllllllllllllllllll}\n",
       " idno & ppltrst & polintr & vote & lrscale & happy & health & cgtsday & cgtsmke & alcfreq & ⋯ & edlvddk & marsts & polpartvt & trstprl & trstlgl & trstplc & trstplt & trstprt & trstep & trstun\\\\\n",
       " <dbl> & <chr> & <chr> & <chr> & <chr> & <chr> & <chr> & <dbl> & <chr> & <chr> & ⋯ & <chr> & <chr> & <chr> & <chr> & <chr> & <chr> & <chr> & <chr> & <chr> & <chr>\\\\\n",
       "\\hline\n",
       "\t 921018 & 6 & Hardly interested & Not eligible to vote & 4 & 9 & Very good & 10 & I smoke but not every day       & 2-3 times a month    & ⋯ & Folkeskole 6.-8. klasse                                                        & None of these (NEVER married or in legally registered civil union) & {[}NA{]} Not applicable                                    & 7          & 6 & 7 & 7 & 7 & Don't know & 5\\\\\n",
       "\t 921026 & 8 & Quite interested  & Yes                  & 4 & 8 & Very good & NA & I have never smoked             & Several times a week & ⋯ & Mellemlang videregående uddannelse af 3-4 års varighed. Professionsbachelorer, & Widowed/civil partner died                                         & {[}1{]} Socialdemokraterne - the Danish social democrats   & 7          & 8 & 8 & 7 & 6 & 6          & 6\\\\\n",
       "\t 921034 & 8 & Quite interested  & Yes                  & 7 & 8 & Good      & NA & I don't smoke now but I used to & Every day            & ⋯ & Kort videregående uddannelse af op til 2-3 års varighed, F.eks. Erhvervsakadem & Not applicable                                                     & {[}7{]} Venstre, Danmarks Liberale Parti - Venstre         & 9          & 9 & 9 & 7 & 7 & 5          & 6\\\\\n",
       "\t 921181 & 9 & Quite interested  & Yes                  & 5 & 9 & Fair      & NA & I don't smoke now but I used to & Once a week          & ⋯ & Faglig uddannelse (håndværk, handel, landbrug mv.), F.eks. Faglærte, Social-   & Not applicable                                                     & {[}2{]} Det Radikale Venstre - Danish Social-Liberal Party & 8          & 7 & 9 & 6 & 6 & 5          & 6\\\\\n",
       "\t 921204 & 9 & Hardly interested & Yes                  & 7 & 8 & Good      & NA & I don't smoke now but I used to & Once a week          & ⋯ & Kort videregående uddannelse af op til 2-3 års varighed, F.eks. Erhvervsakadem & Not applicable                                                     & {[}NA{]} Don't know                                        & Don't know & 8 & 8 & 3 & 3 & 4          & 6\\\\\n",
       "\t 921262 & 8 & Hardly interested & Yes                  & 7 & 8 & Very good & NA & I have never smoked             & 2-3 times a month    & ⋯ & Mellemlang videregående uddannelse af 3-4 års varighed. Professionsbachelorer, & None of these (NEVER married or in legally registered civil union) & {[}7{]} Venstre, Danmarks Liberale Parti - Venstre         & 7          & 9 & 9 & 6 & 6 & Don't know & 7\\\\\n",
       "\\end{tabular}\n"
      ],
      "text/markdown": [
       "\n",
       "A tibble: 6 × 25\n",
       "\n",
       "| idno &lt;dbl&gt; | ppltrst &lt;chr&gt; | polintr &lt;chr&gt; | vote &lt;chr&gt; | lrscale &lt;chr&gt; | happy &lt;chr&gt; | health &lt;chr&gt; | cgtsday &lt;dbl&gt; | cgtsmke &lt;chr&gt; | alcfreq &lt;chr&gt; | ⋯ ⋯ | edlvddk &lt;chr&gt; | marsts &lt;chr&gt; | polpartvt &lt;chr&gt; | trstprl &lt;chr&gt; | trstlgl &lt;chr&gt; | trstplc &lt;chr&gt; | trstplt &lt;chr&gt; | trstprt &lt;chr&gt; | trstep &lt;chr&gt; | trstun &lt;chr&gt; |\n",
       "|---|---|---|---|---|---|---|---|---|---|---|---|---|---|---|---|---|---|---|---|---|\n",
       "| 921018 | 6 | Hardly interested | Not eligible to vote | 4 | 9 | Very good | 10 | I smoke but not every day       | 2-3 times a month    | ⋯ | Folkeskole 6.-8. klasse                                                        | None of these (NEVER married or in legally registered civil union) | [NA] Not applicable                                    | 7          | 6 | 7 | 7 | 7 | Don't know | 5 |\n",
       "| 921026 | 8 | Quite interested  | Yes                  | 4 | 8 | Very good | NA | I have never smoked             | Several times a week | ⋯ | Mellemlang videregående uddannelse af 3-4 års varighed. Professionsbachelorer, | Widowed/civil partner died                                         | [1] Socialdemokraterne - the Danish social democrats   | 7          | 8 | 8 | 7 | 6 | 6          | 6 |\n",
       "| 921034 | 8 | Quite interested  | Yes                  | 7 | 8 | Good      | NA | I don't smoke now but I used to | Every day            | ⋯ | Kort videregående uddannelse af op til 2-3 års varighed, F.eks. Erhvervsakadem | Not applicable                                                     | [7] Venstre, Danmarks Liberale Parti - Venstre         | 9          | 9 | 9 | 7 | 7 | 5          | 6 |\n",
       "| 921181 | 9 | Quite interested  | Yes                  | 5 | 9 | Fair      | NA | I don't smoke now but I used to | Once a week          | ⋯ | Faglig uddannelse (håndværk, handel, landbrug mv.), F.eks. Faglærte, Social-   | Not applicable                                                     | [2] Det Radikale Venstre - Danish Social-Liberal Party | 8          | 7 | 9 | 6 | 6 | 5          | 6 |\n",
       "| 921204 | 9 | Hardly interested | Yes                  | 7 | 8 | Good      | NA | I don't smoke now but I used to | Once a week          | ⋯ | Kort videregående uddannelse af op til 2-3 års varighed, F.eks. Erhvervsakadem | Not applicable                                                     | [NA] Don't know                                        | Don't know | 8 | 8 | 3 | 3 | 4          | 6 |\n",
       "| 921262 | 8 | Hardly interested | Yes                  | 7 | 8 | Very good | NA | I have never smoked             | 2-3 times a month    | ⋯ | Mellemlang videregående uddannelse af 3-4 års varighed. Professionsbachelorer, | None of these (NEVER married or in legally registered civil union) | [7] Venstre, Danmarks Liberale Parti - Venstre         | 7          | 9 | 9 | 6 | 6 | Don't know | 7 |\n",
       "\n"
      ],
      "text/plain": [
       "  idno   ppltrst polintr           vote                 lrscale happy health   \n",
       "1 921018 6       Hardly interested Not eligible to vote 4       9     Very good\n",
       "2 921026 8       Quite interested  Yes                  4       8     Very good\n",
       "3 921034 8       Quite interested  Yes                  7       8     Good     \n",
       "4 921181 9       Quite interested  Yes                  5       9     Fair     \n",
       "5 921204 9       Hardly interested Yes                  7       8     Good     \n",
       "6 921262 8       Hardly interested Yes                  7       8     Very good\n",
       "  cgtsday cgtsmke                         alcfreq              <U+22EF>       \n",
       "1 10      I smoke but not every day       2-3 times a month    <U+22EF>\n",
       "2 NA      I have never smoked             Several times a week <U+22EF>\n",
       "3 NA      I don't smoke now but I used to Every day            <U+22EF>\n",
       "4 NA      I don't smoke now but I used to Once a week          <U+22EF>\n",
       "5 NA      I don't smoke now but I used to Once a week          <U+22EF>\n",
       "6 NA      I have never smoked             2-3 times a month    <U+22EF>\n",
       "  edlvddk                                                                       \n",
       "1 Folkeskole 6.-8. klasse                                                       \n",
       "2 Mellemlang videregående uddannelse af 3-4 års varighed. Professionsbachelorer,\n",
       "3 Kort videregående uddannelse af op til 2-3 års varighed, F.eks. Erhvervsakadem\n",
       "4 Faglig uddannelse (håndværk, handel, landbrug mv.), F.eks. Faglærte, Social-  \n",
       "5 Kort videregående uddannelse af op til 2-3 års varighed, F.eks. Erhvervsakadem\n",
       "6 Mellemlang videregående uddannelse af 3-4 års varighed. Professionsbachelorer,\n",
       "  marsts                                                            \n",
       "1 None of these (NEVER married or in legally registered civil union)\n",
       "2 Widowed/civil partner died                                        \n",
       "3 Not applicable                                                    \n",
       "4 Not applicable                                                    \n",
       "5 Not applicable                                                    \n",
       "6 None of these (NEVER married or in legally registered civil union)\n",
       "  polpartvt                                              trstprl    trstlgl\n",
       "1 [NA] Not applicable                                    7          6      \n",
       "2 [1] Socialdemokraterne - the Danish social democrats   7          8      \n",
       "3 [7] Venstre, Danmarks Liberale Parti - Venstre         9          9      \n",
       "4 [2] Det Radikale Venstre - Danish Social-Liberal Party 8          7      \n",
       "5 [NA] Don't know                                        Don't know 8      \n",
       "6 [7] Venstre, Danmarks Liberale Parti - Venstre         7          9      \n",
       "  trstplc trstplt trstprt trstep     trstun\n",
       "1 7       7       7       Don't know 5     \n",
       "2 8       7       6       6          6     \n",
       "3 9       7       7       5          6     \n",
       "4 9       6       6       5          6     \n",
       "5 8       3       3       4          6     \n",
       "6 9       6       6       Don't know 7     "
      ]
     },
     "metadata": {},
     "output_type": "display_data"
    }
   ],
   "source": [
    "ess2014_join <- right_join(ess2014_p1, ess2014_trst)\n",
    "\n",
    "dim(ess2014_join)\n",
    "head(ess2014_join)"
   ]
  },
  {
   "cell_type": "markdown",
   "metadata": {},
   "source": [
    "# Pivoting data (long-wide conversions)"
   ]
  },
  {
   "cell_type": "code",
   "execution_count": 12,
   "metadata": {},
   "outputs": [
    {
     "name": "stderr",
     "output_type": "stream",
     "text": [
      "\u001b[1mRows: \u001b[22m\u001b[34m12967\u001b[39m \u001b[1mColumns: \u001b[22m\u001b[34m75\u001b[39m\n",
      "\n",
      "\u001b[36m--\u001b[39m \u001b[1mColumn specification\u001b[22m \u001b[36m------------------------------------------------------------------------------------------------\u001b[39m\n",
      "\u001b[1mDelimiter:\u001b[22m \",\"\n",
      "\u001b[31mchr\u001b[39m  (2): PNR, FOED_DAG\n",
      "\u001b[32mdbl\u001b[39m (73): KOEN, br_2010_01, br_2010_02, br_2010_03, br_2010_04, br_2010_05, ...\n",
      "\n",
      "\n",
      "\u001b[36mi\u001b[39m Use \u001b[30m\u001b[47m\u001b[30m\u001b[47m`spec()`\u001b[47m\u001b[30m\u001b[49m\u001b[39m to retrieve the full column specification for this data.\n",
      "\u001b[36mi\u001b[39m Specify the column types or set \u001b[30m\u001b[47m\u001b[30m\u001b[47m`show_col_types = FALSE`\u001b[47m\u001b[30m\u001b[49m\u001b[39m to quiet this message.\n",
      "\n"
     ]
    }
   ],
   "source": [
    "library(readr)\n",
    "library(tidyr)\n",
    "\n",
    "reg_data <- read_csv(\"https://github.com/CALDISS-AAU/workshop_r-table-data/raw/master/data/bef_dream_2015.csv\")"
   ]
  },
  {
   "cell_type": "code",
   "execution_count": 13,
   "metadata": {},
   "outputs": [
    {
     "data": {
      "text/html": [
       "<table class=\"dataframe\">\n",
       "<caption>A tibble: 6 × 75</caption>\n",
       "<thead>\n",
       "\t<tr><th scope=col>PNR</th><th scope=col>KOEN</th><th scope=col>FOED_DAG</th><th scope=col>br_2010_01</th><th scope=col>br_2010_02</th><th scope=col>br_2010_03</th><th scope=col>br_2010_04</th><th scope=col>br_2010_05</th><th scope=col>br_2010_06</th><th scope=col>br_2010_07</th><th scope=col>⋯</th><th scope=col>br_2015_03</th><th scope=col>br_2015_04</th><th scope=col>br_2015_05</th><th scope=col>br_2015_06</th><th scope=col>br_2015_07</th><th scope=col>br_2015_08</th><th scope=col>br_2015_09</th><th scope=col>br_2015_10</th><th scope=col>br_2015_11</th><th scope=col>br_2015_12</th></tr>\n",
       "\t<tr><th scope=col>&lt;chr&gt;</th><th scope=col>&lt;dbl&gt;</th><th scope=col>&lt;chr&gt;</th><th scope=col>&lt;dbl&gt;</th><th scope=col>&lt;dbl&gt;</th><th scope=col>&lt;dbl&gt;</th><th scope=col>&lt;dbl&gt;</th><th scope=col>&lt;dbl&gt;</th><th scope=col>&lt;dbl&gt;</th><th scope=col>&lt;dbl&gt;</th><th scope=col>⋯</th><th scope=col>&lt;dbl&gt;</th><th scope=col>&lt;dbl&gt;</th><th scope=col>&lt;dbl&gt;</th><th scope=col>&lt;dbl&gt;</th><th scope=col>&lt;dbl&gt;</th><th scope=col>&lt;dbl&gt;</th><th scope=col>&lt;dbl&gt;</th><th scope=col>&lt;dbl&gt;</th><th scope=col>&lt;dbl&gt;</th><th scope=col>&lt;dbl&gt;</th></tr>\n",
       "</thead>\n",
       "<tbody>\n",
       "\t<tr><td>00005532</td><td>2</td><td>23may1942</td><td>    NA</td><td>    NA</td><td>    NA</td><td>    NA</td><td>    NA</td><td>    NA</td><td>    NA</td><td>⋯</td><td>    NA</td><td>    NA</td><td>    NA</td><td>    NA</td><td>    NA</td><td>    NA</td><td>    NA</td><td>    NA</td><td>    NA</td><td>    NA</td></tr>\n",
       "\t<tr><td>00005562</td><td>2</td><td>28jun1971</td><td>    NA</td><td>    NA</td><td>    NA</td><td>    NA</td><td>    NA</td><td>    NA</td><td>    NA</td><td>⋯</td><td>    NA</td><td>    NA</td><td>    NA</td><td>    NA</td><td>    NA</td><td>    NA</td><td>    NA</td><td>    NA</td><td>    NA</td><td>    NA</td></tr>\n",
       "\t<tr><td>00007589</td><td>1</td><td>21jan1955</td><td>110200</td><td>852010</td><td>851000</td><td>741010</td><td>422200</td><td>862100</td><td>889920</td><td>⋯</td><td>463500</td><td>910200</td><td>429900</td><td>581200</td><td> 62000</td><td>    NA</td><td>464100</td><td>390000</td><td>855300</td><td>771100</td></tr>\n",
       "\t<tr><td>00009287</td><td>1</td><td>29aug1968</td><td>    NA</td><td>    NA</td><td>    NA</td><td>    NA</td><td>    NA</td><td>    NA</td><td>    NA</td><td>⋯</td><td>    NA</td><td>    NA</td><td>    NA</td><td>    NA</td><td>    NA</td><td>    NA</td><td>    NA</td><td>    NA</td><td>    NA</td><td>    NA</td></tr>\n",
       "\t<tr><td>00014523</td><td>1</td><td>08nov1957</td><td>881030</td><td>    NA</td><td>853110</td><td>869020</td><td>852010</td><td>871020</td><td>873010</td><td>⋯</td><td>522300</td><td>431100</td><td>873020</td><td>856000</td><td>    NA</td><td>931100</td><td>471130</td><td>856000</td><td>881020</td><td>461710</td></tr>\n",
       "\t<tr><td>00017543</td><td>1</td><td>24jun1952</td><td>869010</td><td>105100</td><td>889140</td><td>    NA</td><td>    NA</td><td>910110</td><td>464700</td><td>⋯</td><td>881010</td><td>854200</td><td>581410</td><td>522990</td><td>471120</td><td>421300</td><td>841100</td><td>    NA</td><td>851000</td><td>855200</td></tr>\n",
       "</tbody>\n",
       "</table>\n"
      ],
      "text/latex": [
       "A tibble: 6 × 75\n",
       "\\begin{tabular}{lllllllllllllllllllll}\n",
       " PNR & KOEN & FOED\\_DAG & br\\_2010\\_01 & br\\_2010\\_02 & br\\_2010\\_03 & br\\_2010\\_04 & br\\_2010\\_05 & br\\_2010\\_06 & br\\_2010\\_07 & ⋯ & br\\_2015\\_03 & br\\_2015\\_04 & br\\_2015\\_05 & br\\_2015\\_06 & br\\_2015\\_07 & br\\_2015\\_08 & br\\_2015\\_09 & br\\_2015\\_10 & br\\_2015\\_11 & br\\_2015\\_12\\\\\n",
       " <chr> & <dbl> & <chr> & <dbl> & <dbl> & <dbl> & <dbl> & <dbl> & <dbl> & <dbl> & ⋯ & <dbl> & <dbl> & <dbl> & <dbl> & <dbl> & <dbl> & <dbl> & <dbl> & <dbl> & <dbl>\\\\\n",
       "\\hline\n",
       "\t 00005532 & 2 & 23may1942 &     NA &     NA &     NA &     NA &     NA &     NA &     NA & ⋯ &     NA &     NA &     NA &     NA &     NA &     NA &     NA &     NA &     NA &     NA\\\\\n",
       "\t 00005562 & 2 & 28jun1971 &     NA &     NA &     NA &     NA &     NA &     NA &     NA & ⋯ &     NA &     NA &     NA &     NA &     NA &     NA &     NA &     NA &     NA &     NA\\\\\n",
       "\t 00007589 & 1 & 21jan1955 & 110200 & 852010 & 851000 & 741010 & 422200 & 862100 & 889920 & ⋯ & 463500 & 910200 & 429900 & 581200 &  62000 &     NA & 464100 & 390000 & 855300 & 771100\\\\\n",
       "\t 00009287 & 1 & 29aug1968 &     NA &     NA &     NA &     NA &     NA &     NA &     NA & ⋯ &     NA &     NA &     NA &     NA &     NA &     NA &     NA &     NA &     NA &     NA\\\\\n",
       "\t 00014523 & 1 & 08nov1957 & 881030 &     NA & 853110 & 869020 & 852010 & 871020 & 873010 & ⋯ & 522300 & 431100 & 873020 & 856000 &     NA & 931100 & 471130 & 856000 & 881020 & 461710\\\\\n",
       "\t 00017543 & 1 & 24jun1952 & 869010 & 105100 & 889140 &     NA &     NA & 910110 & 464700 & ⋯ & 881010 & 854200 & 581410 & 522990 & 471120 & 421300 & 841100 &     NA & 851000 & 855200\\\\\n",
       "\\end{tabular}\n"
      ],
      "text/markdown": [
       "\n",
       "A tibble: 6 × 75\n",
       "\n",
       "| PNR &lt;chr&gt; | KOEN &lt;dbl&gt; | FOED_DAG &lt;chr&gt; | br_2010_01 &lt;dbl&gt; | br_2010_02 &lt;dbl&gt; | br_2010_03 &lt;dbl&gt; | br_2010_04 &lt;dbl&gt; | br_2010_05 &lt;dbl&gt; | br_2010_06 &lt;dbl&gt; | br_2010_07 &lt;dbl&gt; | ⋯ ⋯ | br_2015_03 &lt;dbl&gt; | br_2015_04 &lt;dbl&gt; | br_2015_05 &lt;dbl&gt; | br_2015_06 &lt;dbl&gt; | br_2015_07 &lt;dbl&gt; | br_2015_08 &lt;dbl&gt; | br_2015_09 &lt;dbl&gt; | br_2015_10 &lt;dbl&gt; | br_2015_11 &lt;dbl&gt; | br_2015_12 &lt;dbl&gt; |\n",
       "|---|---|---|---|---|---|---|---|---|---|---|---|---|---|---|---|---|---|---|---|---|\n",
       "| 00005532 | 2 | 23may1942 |     NA |     NA |     NA |     NA |     NA |     NA |     NA | ⋯ |     NA |     NA |     NA |     NA |     NA |     NA |     NA |     NA |     NA |     NA |\n",
       "| 00005562 | 2 | 28jun1971 |     NA |     NA |     NA |     NA |     NA |     NA |     NA | ⋯ |     NA |     NA |     NA |     NA |     NA |     NA |     NA |     NA |     NA |     NA |\n",
       "| 00007589 | 1 | 21jan1955 | 110200 | 852010 | 851000 | 741010 | 422200 | 862100 | 889920 | ⋯ | 463500 | 910200 | 429900 | 581200 |  62000 |     NA | 464100 | 390000 | 855300 | 771100 |\n",
       "| 00009287 | 1 | 29aug1968 |     NA |     NA |     NA |     NA |     NA |     NA |     NA | ⋯ |     NA |     NA |     NA |     NA |     NA |     NA |     NA |     NA |     NA |     NA |\n",
       "| 00014523 | 1 | 08nov1957 | 881030 |     NA | 853110 | 869020 | 852010 | 871020 | 873010 | ⋯ | 522300 | 431100 | 873020 | 856000 |     NA | 931100 | 471130 | 856000 | 881020 | 461710 |\n",
       "| 00017543 | 1 | 24jun1952 | 869010 | 105100 | 889140 |     NA |     NA | 910110 | 464700 | ⋯ | 881010 | 854200 | 581410 | 522990 | 471120 | 421300 | 841100 |     NA | 851000 | 855200 |\n",
       "\n"
      ],
      "text/plain": [
       "  PNR      KOEN FOED_DAG  br_2010_01 br_2010_02 br_2010_03 br_2010_04\n",
       "1 00005532 2    23may1942     NA         NA         NA         NA    \n",
       "2 00005562 2    28jun1971     NA         NA         NA         NA    \n",
       "3 00007589 1    21jan1955 110200     852010     851000     741010    \n",
       "4 00009287 1    29aug1968     NA         NA         NA         NA    \n",
       "5 00014523 1    08nov1957 881030         NA     853110     869020    \n",
       "6 00017543 1    24jun1952 869010     105100     889140         NA    \n",
       "  br_2010_05 br_2010_06 br_2010_07 <U+22EF>        br_2015_03 br_2015_04 br_2015_05\n",
       "1     NA         NA         NA     <U+22EF>     NA         NA         NA    \n",
       "2     NA         NA         NA     <U+22EF>     NA         NA         NA    \n",
       "3 422200     862100     889920     <U+22EF> 463500     910200     429900    \n",
       "4     NA         NA         NA     <U+22EF>     NA         NA         NA    \n",
       "5 852010     871020     873010     <U+22EF> 522300     431100     873020    \n",
       "6     NA     910110     464700     <U+22EF> 881010     854200     581410    \n",
       "  br_2015_06 br_2015_07 br_2015_08 br_2015_09 br_2015_10 br_2015_11 br_2015_12\n",
       "1     NA         NA         NA         NA         NA         NA         NA    \n",
       "2     NA         NA         NA         NA         NA         NA         NA    \n",
       "3 581200      62000         NA     464100     390000     855300     771100    \n",
       "4     NA         NA         NA         NA         NA         NA         NA    \n",
       "5 856000         NA     931100     471130     856000     881020     461710    \n",
       "6 522990     471120     421300     841100         NA     851000     855200    "
      ]
     },
     "metadata": {},
     "output_type": "display_data"
    }
   ],
   "source": [
    "head(reg_data)"
   ]
  },
  {
   "cell_type": "code",
   "execution_count": 14,
   "metadata": {},
   "outputs": [],
   "source": [
    "reg_data_long <- reg_data %>%\n",
    "    pivot_longer(cols = starts_with(\"br_\"), names_to = \"month_year\", values_to = \"branche\")"
   ]
  },
  {
   "cell_type": "code",
   "execution_count": 15,
   "metadata": {},
   "outputs": [
    {
     "data": {
      "text/html": [
       "<table class=\"dataframe\">\n",
       "<caption>A tibble: 6 × 5</caption>\n",
       "<thead>\n",
       "\t<tr><th scope=col>PNR</th><th scope=col>KOEN</th><th scope=col>FOED_DAG</th><th scope=col>month_year</th><th scope=col>branche</th></tr>\n",
       "\t<tr><th scope=col>&lt;chr&gt;</th><th scope=col>&lt;dbl&gt;</th><th scope=col>&lt;chr&gt;</th><th scope=col>&lt;chr&gt;</th><th scope=col>&lt;dbl&gt;</th></tr>\n",
       "</thead>\n",
       "<tbody>\n",
       "\t<tr><td>00007589</td><td>1</td><td>21jan1955</td><td>br_2010_01</td><td>110200</td></tr>\n",
       "\t<tr><td>00007589</td><td>1</td><td>21jan1955</td><td>br_2010_02</td><td>852010</td></tr>\n",
       "\t<tr><td>00007589</td><td>1</td><td>21jan1955</td><td>br_2010_03</td><td>851000</td></tr>\n",
       "\t<tr><td>00007589</td><td>1</td><td>21jan1955</td><td>br_2010_04</td><td>741010</td></tr>\n",
       "\t<tr><td>00007589</td><td>1</td><td>21jan1955</td><td>br_2010_05</td><td>422200</td></tr>\n",
       "\t<tr><td>00007589</td><td>1</td><td>21jan1955</td><td>br_2010_06</td><td>862100</td></tr>\n",
       "</tbody>\n",
       "</table>\n"
      ],
      "text/latex": [
       "A tibble: 6 × 5\n",
       "\\begin{tabular}{lllll}\n",
       " PNR & KOEN & FOED\\_DAG & month\\_year & branche\\\\\n",
       " <chr> & <dbl> & <chr> & <chr> & <dbl>\\\\\n",
       "\\hline\n",
       "\t 00007589 & 1 & 21jan1955 & br\\_2010\\_01 & 110200\\\\\n",
       "\t 00007589 & 1 & 21jan1955 & br\\_2010\\_02 & 852010\\\\\n",
       "\t 00007589 & 1 & 21jan1955 & br\\_2010\\_03 & 851000\\\\\n",
       "\t 00007589 & 1 & 21jan1955 & br\\_2010\\_04 & 741010\\\\\n",
       "\t 00007589 & 1 & 21jan1955 & br\\_2010\\_05 & 422200\\\\\n",
       "\t 00007589 & 1 & 21jan1955 & br\\_2010\\_06 & 862100\\\\\n",
       "\\end{tabular}\n"
      ],
      "text/markdown": [
       "\n",
       "A tibble: 6 × 5\n",
       "\n",
       "| PNR &lt;chr&gt; | KOEN &lt;dbl&gt; | FOED_DAG &lt;chr&gt; | month_year &lt;chr&gt; | branche &lt;dbl&gt; |\n",
       "|---|---|---|---|---|\n",
       "| 00007589 | 1 | 21jan1955 | br_2010_01 | 110200 |\n",
       "| 00007589 | 1 | 21jan1955 | br_2010_02 | 852010 |\n",
       "| 00007589 | 1 | 21jan1955 | br_2010_03 | 851000 |\n",
       "| 00007589 | 1 | 21jan1955 | br_2010_04 | 741010 |\n",
       "| 00007589 | 1 | 21jan1955 | br_2010_05 | 422200 |\n",
       "| 00007589 | 1 | 21jan1955 | br_2010_06 | 862100 |\n",
       "\n"
      ],
      "text/plain": [
       "  PNR      KOEN FOED_DAG  month_year branche\n",
       "1 00007589 1    21jan1955 br_2010_01 110200 \n",
       "2 00007589 1    21jan1955 br_2010_02 852010 \n",
       "3 00007589 1    21jan1955 br_2010_03 851000 \n",
       "4 00007589 1    21jan1955 br_2010_04 741010 \n",
       "5 00007589 1    21jan1955 br_2010_05 422200 \n",
       "6 00007589 1    21jan1955 br_2010_06 862100 "
      ]
     },
     "metadata": {},
     "output_type": "display_data"
    }
   ],
   "source": [
    "head(drop_na(reg_data_long))"
   ]
  }
 ],
 "metadata": {
  "kernelspec": {
   "display_name": "R",
   "language": "R",
   "name": "ir"
  },
  "language_info": {
   "codemirror_mode": "r",
   "file_extension": ".r",
   "mimetype": "text/x-r-source",
   "name": "R",
   "pygments_lexer": "r",
   "version": "4.1.1"
  }
 },
 "nbformat": 4,
 "nbformat_minor": 4
}
