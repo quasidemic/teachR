{
 "cells": [
  {
   "cell_type": "code",
   "execution_count": 1,
   "metadata": {},
   "outputs": [
    {
     "name": "stderr",
     "output_type": "stream",
     "text": [
      "-- \u001b[1mAttaching packages\u001b[22m ------------------------------------------------------------------------------- tidyverse 1.3.1 --\n",
      "\n",
      "\u001b[32mv\u001b[39m \u001b[34mggplot2\u001b[39m 3.3.5     \u001b[32mv\u001b[39m \u001b[34mpurrr  \u001b[39m 0.3.4\n",
      "\u001b[32mv\u001b[39m \u001b[34mtibble \u001b[39m 3.1.6     \u001b[32mv\u001b[39m \u001b[34mdplyr  \u001b[39m 1.0.7\n",
      "\u001b[32mv\u001b[39m \u001b[34mtidyr  \u001b[39m 1.1.4     \u001b[32mv\u001b[39m \u001b[34mstringr\u001b[39m 1.4.0\n",
      "\u001b[32mv\u001b[39m \u001b[34mreadr  \u001b[39m 2.1.0     \u001b[32mv\u001b[39m \u001b[34mforcats\u001b[39m 0.5.1\n",
      "\n",
      "Warning message:\n",
      "\"pakke 'tibble' blev bygget under R version 4.1.2\"\n",
      "Warning message:\n",
      "\"pakke 'readr' blev bygget under R version 4.1.2\"\n",
      "Warning message:\n",
      "\"pakke 'purrr' blev bygget under R version 4.1.2\"\n",
      "-- \u001b[1mConflicts\u001b[22m ---------------------------------------------------------------------------------- tidyverse_conflicts() --\n",
      "\u001b[31mx\u001b[39m \u001b[34mdplyr\u001b[39m::\u001b[32mfilter()\u001b[39m masks \u001b[34mstats\u001b[39m::filter()\n",
      "\u001b[31mx\u001b[39m \u001b[34mdplyr\u001b[39m::\u001b[32mlag()\u001b[39m    masks \u001b[34mstats\u001b[39m::lag()\n",
      "\n",
      "\u001b[1mRows: \u001b[22m\u001b[34m1285\u001b[39m \u001b[1mColumns: \u001b[22m\u001b[34m16\u001b[39m\n",
      "\n",
      "\u001b[36m--\u001b[39m \u001b[1mColumn specification\u001b[22m \u001b[36m------------------------------------------------------------------------------------------------\u001b[39m\n",
      "\u001b[1mDelimiter:\u001b[22m \",\"\n",
      "\u001b[31mchr\u001b[39m  (6): vote, prtvtddk, lvpntyr, tygrtr, gndr, edlvddk\n",
      "\u001b[32mdbl\u001b[39m (10): idno, netustm, ppltrst, yrbrn, eduyrs, wkhct, wkhtot, grspnum, frl...\n",
      "\n",
      "\n",
      "\u001b[36mi\u001b[39m Use \u001b[30m\u001b[47m\u001b[30m\u001b[47m`spec()`\u001b[47m\u001b[30m\u001b[49m\u001b[39m to retrieve the full column specification for this data.\n",
      "\u001b[36mi\u001b[39m Specify the column types or set \u001b[30m\u001b[47m\u001b[30m\u001b[47m`show_col_types = FALSE`\u001b[47m\u001b[30m\u001b[49m\u001b[39m to quiet this message.\n",
      "\n"
     ]
    }
   ],
   "source": [
    "# prep\n",
    "\n",
    "library(tidyverse)\n",
    "ess18 <- read_csv(\"https://github.com/CALDISS-AAU/workshop_R-intro/raw/master/data/ESS2018DK_subset.csv\") %>%\n",
    "    mutate(age = 2018 - yrbrn)"
   ]
  },
  {
   "cell_type": "markdown",
   "metadata": {},
   "source": [
    "## Statistical models\n",
    "\n",
    "There are a lot of packages for creating statistical and there are packages for all kinds of specific analysis.\n",
    "\n",
    "A recurring element of a lot of these packages and functions however is to specify the model as a function.\n",
    "\n",
    "Formulas are specified as:\n",
    "- `y ~ x1 (+x2 +x3 ... +xn)`"
   ]
  },
  {
   "cell_type": "markdown",
   "metadata": {},
   "source": [
    "### Linear models\n",
    "\n",
    "Linear models are specified using `lm`.\n",
    "\n",
    "The code below creates a linear model:"
   ]
  },
  {
   "cell_type": "code",
   "execution_count": 2,
   "metadata": {},
   "outputs": [
    {
     "data": {
      "text/plain": [
       "\n",
       "Call:\n",
       "lm(formula = netustm ~ age, data = ess18)\n",
       "\n",
       "Coefficients:\n",
       "(Intercept)          age  \n",
       "    450.589       -4.559  \n"
      ]
     },
     "metadata": {},
     "output_type": "display_data"
    }
   ],
   "source": [
    "#Linear model for weight and yrbrn\n",
    "lm(netustm ~ age, data = ess18)"
   ]
  },
  {
   "cell_type": "code",
   "execution_count": 3,
   "metadata": {},
   "outputs": [
    {
     "data": {
      "text/plain": [
       "\n",
       "Call:\n",
       "lm(formula = netustm ~ age + gndr, data = ess18)\n",
       "\n",
       "Coefficients:\n",
       "(Intercept)          age     gndrMale  \n",
       "    446.783       -4.560        7.399  \n"
      ]
     },
     "metadata": {},
     "output_type": "display_data"
    }
   ],
   "source": [
    "#Multiple\n",
    "lm(netustm ~ age + gndr, data = ess18)"
   ]
  },
  {
   "cell_type": "markdown",
   "metadata": {},
   "source": [
    "An advantage of R is the ability to store the model as any other object making it easy to store and recall past results."
   ]
  },
  {
   "cell_type": "code",
   "execution_count": 4,
   "metadata": {},
   "outputs": [],
   "source": [
    "#Storing model\n",
    "lm_model <- lm(netustm ~ age + gndr, data = ess18)"
   ]
  },
  {
   "cell_type": "code",
   "execution_count": 5,
   "metadata": {},
   "outputs": [
    {
     "data": {
      "text/plain": [
       "\n",
       "Call:\n",
       "lm(formula = netustm ~ age + gndr, data = ess18)\n",
       "\n",
       "Residuals:\n",
       "    Min      1Q  Median      3Q     Max \n",
       "-296.31 -117.18  -49.00   76.64  782.84 \n",
       "\n",
       "Coefficients:\n",
       "            Estimate Std. Error t value Pr(>|t|)    \n",
       "(Intercept) 446.7826    16.4553  27.151   <2e-16 ***\n",
       "age          -4.5597     0.2991 -15.244   <2e-16 ***\n",
       "gndrMale      7.3987    10.4748   0.706     0.48    \n",
       "---\n",
       "Signif. codes:  0 '***' 0.001 '**' 0.01 '*' 0.05 '.' 0.1 ' ' 1\n",
       "\n",
       "Residual standard error: 176.3 on 1131 degrees of freedom\n",
       "  (151 observations deleted due to missingness)\n",
       "Multiple R-squared:  0.1707,\tAdjusted R-squared:  0.1693 \n",
       "F-statistic: 116.4 on 2 and 1131 DF,  p-value: < 2.2e-16\n"
      ]
     },
     "metadata": {},
     "output_type": "display_data"
    }
   ],
   "source": [
    "#Summary statistics for bmi_model\n",
    "summary(lm_model)"
   ]
  },
  {
   "cell_type": "markdown",
   "metadata": {},
   "source": [
    "### Factors and statistical models\n",
    "\n",
    "When working with categoricals/factors in R, almost everything about how to treat that categorical in a model should be specified *before* creating the model.\n",
    "\n",
    "- Should the variable be treated as ordered (nominal) or unordered (ordinal)?\n",
    "- What value should be used as reference/base?\n",
    "- Is the ordinal variable to be used as an interval variable?\n",
    "\n",
    "#### Unordered factors\n",
    "R will usually coerce character variables to a factor and treat it as nominally scaled (unordered).\n",
    "\n",
    "To control the reference group, use the `relevel()` function:"
   ]
  },
  {
   "cell_type": "code",
   "execution_count": 6,
   "metadata": {},
   "outputs": [
    {
     "data": {
      "text/plain": [
       "\n",
       "Call:\n",
       "lm(formula = netustm ~ age + gndr, data = ess18)\n",
       "\n",
       "Residuals:\n",
       "    Min      1Q  Median      3Q     Max \n",
       "-296.31 -117.18  -49.00   76.64  782.84 \n",
       "\n",
       "Coefficients:\n",
       "            Estimate Std. Error t value Pr(>|t|)    \n",
       "(Intercept) 454.1813    16.3585  27.764   <2e-16 ***\n",
       "age          -4.5597     0.2991 -15.244   <2e-16 ***\n",
       "gndrFemale   -7.3987    10.4748  -0.706     0.48    \n",
       "---\n",
       "Signif. codes:  0 '***' 0.001 '**' 0.01 '*' 0.05 '.' 0.1 ' ' 1\n",
       "\n",
       "Residual standard error: 176.3 on 1131 degrees of freedom\n",
       "  (151 observations deleted due to missingness)\n",
       "Multiple R-squared:  0.1707,\tAdjusted R-squared:  0.1693 \n",
       "F-statistic: 116.4 on 2 and 1131 DF,  p-value: < 2.2e-16\n"
      ]
     },
     "metadata": {},
     "output_type": "display_data"
    }
   ],
   "source": [
    "ess18 <- ess18 %>%\n",
    "mutate(gndr = relevel(as.factor(gndr), ref = \"Male\"))\n",
    "\n",
    "lm_model <- lm(netustm ~ age + gndr, data = ess18)\n",
    "summary(lm_model)"
   ]
  },
  {
   "cell_type": "markdown",
   "metadata": {},
   "source": [
    "#### Ordered factors\n",
    "\n",
    "When specifying a model with an ordered factor as an independent variable, R will test for different trends (linear, quadratic and cubic) (see https://data.library.virginia.edu/understanding-ordered-factors-in-a-linear-model/ for more details)."
   ]
  },
  {
   "cell_type": "code",
   "execution_count": 7,
   "metadata": {},
   "outputs": [],
   "source": [
    "ess18 <- ess18 %>%\n",
    "    mutate(wkhct_cat = case_when(\n",
    "            wkhct == 37 ~ \"37 hours\",\n",
    "            wkhct < 37 ~ \"Less than 37 hours\",\n",
    "            wkhct > 37 ~ \"More than 37 hours\",\n",
    "            TRUE ~ NA_character_ # specifies the type of missing (character missing)\n",
    "        ),\n",
    "           wkhct_cat = factor(wkhct_cat, levels = c('Less than 37 hours', '37 hours', 'More than 37 hours'), \n",
    "                              ordered = TRUE))"
   ]
  },
  {
   "cell_type": "code",
   "execution_count": 8,
   "metadata": {},
   "outputs": [
    {
     "data": {
      "text/plain": [
       "\n",
       "Call:\n",
       "lm(formula = netustm ~ wkhct_cat, data = ess18)\n",
       "\n",
       "Residuals:\n",
       "    Min      1Q  Median      3Q     Max \n",
       "-227.83 -147.83  -72.03   87.31  797.97 \n",
       "\n",
       "Coefficients:\n",
       "            Estimate Std. Error t value Pr(>|t|)    \n",
       "(Intercept)  223.701      7.741  28.900   <2e-16 ***\n",
       "wkhct_cat.L  -18.801     15.572  -1.207    0.228    \n",
       "wkhct_cat.Q    2.048     10.817   0.189    0.850    \n",
       "---\n",
       "Signif. codes:  0 '***' 0.001 '**' 0.01 '*' 0.05 '.' 0.1 ' ' 1\n",
       "\n",
       "Residual standard error: 192.1 on 1071 degrees of freedom\n",
       "  (211 observations deleted due to missingness)\n",
       "Multiple R-squared:  0.001852,\tAdjusted R-squared:  -1.173e-05 \n",
       "F-statistic: 0.9937 on 2 and 1071 DF,  p-value: 0.3705\n"
      ]
     },
     "metadata": {},
     "output_type": "display_data"
    }
   ],
   "source": [
    "lm_model <- lm(netustm ~ wkhct_cat, data = ess18)\n",
    "summary(lm_model)"
   ]
  },
  {
   "cell_type": "markdown",
   "metadata": {},
   "source": [
    "## Modelling interactions and quadratic terms\n",
    "\n",
    "**Interactions**\n",
    "\n",
    "Interactions can be modelled using `*` or `:`:"
   ]
  },
  {
   "cell_type": "code",
   "execution_count": 9,
   "metadata": {},
   "outputs": [
    {
     "data": {
      "text/plain": [
       "\n",
       "Call:\n",
       "lm(formula = netustm ~ age + gndr + wkhtot + wkhtot * age, data = ess18)\n",
       "\n",
       "Residuals:\n",
       "    Min      1Q  Median      3Q     Max \n",
       "-297.65 -119.43  -47.92   78.82  756.73 \n",
       "\n",
       "Coefficients:\n",
       "             Estimate Std. Error t value Pr(>|t|)    \n",
       "(Intercept) 495.73849   40.05048  12.378  < 2e-16 ***\n",
       "age          -6.28302    0.86559  -7.259 7.33e-13 ***\n",
       "gndrFemale   -2.47787   10.82504  -0.229   0.8190    \n",
       "wkhtot       -1.19896    1.12168  -1.069   0.2853    \n",
       "age:wkhtot    0.04594    0.02329   1.972   0.0488 *  \n",
       "---\n",
       "Signif. codes:  0 '***' 0.001 '**' 0.01 '*' 0.05 '.' 0.1 ' ' 1\n",
       "\n",
       "Residual standard error: 176.5 on 1110 degrees of freedom\n",
       "  (170 observations deleted due to missingness)\n",
       "Multiple R-squared:  0.1736,\tAdjusted R-squared:  0.1707 \n",
       "F-statistic: 58.31 on 4 and 1110 DF,  p-value: < 2.2e-16\n"
      ]
     },
     "metadata": {},
     "output_type": "display_data"
    }
   ],
   "source": [
    "lm_model <- lm(netustm ~ age + gndr + wkhtot + wkhtot*age, data = ess18)\n",
    "\n",
    "summary(lm_model)"
   ]
  },
  {
   "cell_type": "markdown",
   "metadata": {},
   "source": [
    "**Quadratic terms**\n",
    "\n",
    "Unfortunately there is no shorthand for doing quadratic terms (at least not with the `lm()` function). \n",
    "\n",
    "A variable for the quadratic term has to be created before creating the model:"
   ]
  },
  {
   "cell_type": "code",
   "execution_count": 10,
   "metadata": {},
   "outputs": [
    {
     "data": {
      "text/plain": [
       "\n",
       "Call:\n",
       "lm(formula = netustm ~ age + gndr + quad_wkhtot, data = ess18)\n",
       "\n",
       "Residuals:\n",
       "    Min      1Q  Median      3Q     Max \n",
       "-299.51 -118.60  -48.33   78.61  768.94 \n",
       "\n",
       "Coefficients:\n",
       "              Estimate Std. Error t value Pr(>|t|)    \n",
       "(Intercept) 438.573990  18.410444  23.822   <2e-16 ***\n",
       "age          -4.686550   0.310239 -15.106   <2e-16 ***\n",
       "gndrFemale   -2.879974  10.855392  -0.265   0.7908    \n",
       "quad_wkhtot   0.013494   0.006805   1.983   0.0476 *  \n",
       "---\n",
       "Signif. codes:  0 '***' 0.001 '**' 0.01 '*' 0.05 '.' 0.1 ' ' 1\n",
       "\n",
       "Residual standard error: 176.7 on 1111 degrees of freedom\n",
       "  (170 observations deleted due to missingness)\n",
       "Multiple R-squared:  0.1716,\tAdjusted R-squared:  0.1693 \n",
       "F-statistic:  76.7 on 3 and 1111 DF,  p-value: < 2.2e-16\n"
      ]
     },
     "metadata": {},
     "output_type": "display_data"
    }
   ],
   "source": [
    "ess18$quad_wkhtot <- ess18$wkhtot^2\n",
    "\n",
    "lm_model <- lm(netustm ~ age + gndr + quad_wkhtot, data = ess18)\n",
    "\n",
    "summary(lm_model)"
   ]
  },
  {
   "cell_type": "markdown",
   "metadata": {},
   "source": [
    "## (Binomial) logistic regression\n",
    "\n",
    "Binomial logistic regressions are modelled using the `glm` function. The function is for modelling generalized linear models. To specify a binomial logistic model, one has to specify whether the `family` argument."
   ]
  },
  {
   "cell_type": "code",
   "execution_count": 11,
   "metadata": {},
   "outputs": [
    {
     "data": {
      "text/plain": [
       "\n",
       "Call:\n",
       "glm(formula = vote_dum ~ netustm + age + gndr, family = binomial, \n",
       "    data = ess18)\n",
       "\n",
       "Deviance Residuals: \n",
       "    Min       1Q   Median       3Q      Max  \n",
       "-3.1389   0.1642   0.2359   0.3298   0.6724  \n",
       "\n",
       "Coefficients:\n",
       "             Estimate Std. Error z value Pr(>|z|)    \n",
       "(Intercept) 0.1416315  0.5674770   0.250  0.80291    \n",
       "netustm     0.0009326  0.0008477   1.100  0.27127    \n",
       "age         0.0533665  0.0109077   4.893 9.95e-07 ***\n",
       "gndrFemale  0.8513919  0.3293590   2.585  0.00974 ** \n",
       "---\n",
       "Signif. codes:  0 '***' 0.001 '**' 0.01 '*' 0.05 '.' 0.1 ' ' 1\n",
       "\n",
       "(Dispersion parameter for binomial family taken to be 1)\n",
       "\n",
       "    Null deviance: 384.50  on 1056  degrees of freedom\n",
       "Residual deviance: 349.66  on 1053  degrees of freedom\n",
       "  (228 observations deleted due to missingness)\n",
       "AIC: 357.66\n",
       "\n",
       "Number of Fisher Scoring iterations: 6\n"
      ]
     },
     "metadata": {},
     "output_type": "display_data"
    }
   ],
   "source": [
    "ess18 <- ess18 %>%\n",
    "    mutate(vote_dum = case_when(\n",
    "        vote == \"Yes\" ~ 1,\n",
    "        vote == \"No\" ~ 0, \n",
    "        TRUE ~ as.numeric(NA)\n",
    "        )\n",
    "           )\n",
    "\n",
    "log_model <- glm(vote_dum ~ netustm + age + gndr, data = ess18, family = binomial)\n",
    "summary(log_model)"
   ]
  }
 ],
 "metadata": {
  "kernelspec": {
   "display_name": "R",
   "language": "R",
   "name": "ir"
  },
  "language_info": {
   "codemirror_mode": "r",
   "file_extension": ".r",
   "mimetype": "text/x-r-source",
   "name": "R",
   "pygments_lexer": "r",
   "version": "4.1.1"
  }
 },
 "nbformat": 4,
 "nbformat_minor": 4
}
