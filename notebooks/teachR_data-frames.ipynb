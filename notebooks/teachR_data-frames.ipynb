{
 "cells": [
  {
   "cell_type": "markdown",
   "metadata": {},
   "source": [
    "# Data frames in R"
   ]
  },
  {
   "cell_type": "markdown",
   "metadata": {
    "slideshow": {
     "slide_type": "slide"
    }
   },
   "source": [
    "## R Objects: Data Frames\n",
    "\n",
    "A \"data frame\" is the R-equivalent of a spreadsheet (a table of rows and columns). It is one of the most useful storage structures for data analysis in R."
   ]
  },
  {
   "cell_type": "markdown",
   "metadata": {
    "slideshow": {
     "slide_type": "slide"
    }
   },
   "source": [
    "## Importing data with `readr`\n",
    "\n",
    "`readr` is a package for reading various data files into R.\n",
    "\n",
    "R does have some \"base\" functions for doing this but `readr` is more efficient.\n",
    "\n",
    "`readr` is part of a collection of packages called `tidyverse`: https://www.tidyverse.org/"
   ]
  },
  {
   "cell_type": "code",
   "execution_count": 2,
   "metadata": {
    "slideshow": {
     "slide_type": "fragment"
    }
   },
   "outputs": [
    {
     "name": "stderr",
     "output_type": "stream",
     "text": [
      "\u001b[1mRows: \u001b[22m\u001b[34m1285\u001b[39m \u001b[1mColumns: \u001b[22m\u001b[34m16\u001b[39m\n",
      "\n",
      "\u001b[36m--\u001b[39m \u001b[1mColumn specification\u001b[22m \u001b[36m------------------------------------------------------------------------------------------------\u001b[39m\n",
      "\u001b[1mDelimiter:\u001b[22m \",\"\n",
      "\u001b[31mchr\u001b[39m  (6): vote, prtvtddk, lvpntyr, tygrtr, gndr, edlvddk\n",
      "\u001b[32mdbl\u001b[39m (10): idno, netustm, ppltrst, yrbrn, eduyrs, wkhct, wkhtot, grspnum, frl...\n",
      "\n",
      "\n",
      "\u001b[36mi\u001b[39m Use \u001b[30m\u001b[47m\u001b[30m\u001b[47m`spec()`\u001b[47m\u001b[30m\u001b[49m\u001b[39m to retrieve the full column specification for this data.\n",
      "\u001b[36mi\u001b[39m Specify the column types or set \u001b[30m\u001b[47m\u001b[30m\u001b[47m`show_col_types = FALSE`\u001b[47m\u001b[30m\u001b[49m\u001b[39m to quiet this message.\n",
      "\n"
     ]
    }
   ],
   "source": [
    "library(readr)\n",
    "\n",
    "ess18 <- read_csv(\"https://github.com/CALDISS-AAU/workshop_R-intro/raw/master/data/ESS2018DK_subset.csv\")"
   ]
  },
  {
   "cell_type": "markdown",
   "metadata": {},
   "source": [
    "`ess18` is now a data frame object containing a dataset. Notice that the basic syntax stays the same: `objectname <- somefunction(something)`."
   ]
  },
  {
   "cell_type": "markdown",
   "metadata": {
    "slideshow": {
     "slide_type": "slide"
    }
   },
   "source": [
    "## Data used: European Social Survey 2018\n",
    "\n",
    "We are using a subset of the Danish European Social Survey data from 2018 (https://www.europeansocialsurvey.org/)\n",
    "\n",
    "The data contains the following variables:\n",
    "\n",
    "|variable | description |\n",
    "|----|---|\n",
    "|idno|Respondent's identification number|\n",
    "|netustm |Internet use, how much time on typical day, in minutes|\n",
    "|ppltrst|Most people can be trusted or you can't be too careful|\n",
    "|vote|Voted last national election|\n",
    "|prtvtddk|Party voted for in last national election, Denmark|\n",
    "|lvpntyr|Year first left parents for living separately for 2 months or more|\n",
    "|tygrtr|Retire permanently, age too young. SPLIT BALLOT|\n",
    "|gndr|Gender|\n",
    "|yrbrn|Year of birth|\n",
    "|edlvddk|Highest level of education, Denmark|\n",
    "|eduyrs|Years of full-time education completed|\n",
    "|wkhct|Total contracted hours per week in main job overtime excluded|\n",
    "|wkhtot|Total hours normally worked per week in main job overtime included|\n",
    "|grspnum|What is your usual [weekly/monthly/annual] gross pay|\n",
    "|frlgrsp|Fair level of [weekly/monthly/annual] gross pay for you|\n",
    "|inwtm|Interview length in minutes, main questionnaire|\n"
   ]
  },
  {
   "cell_type": "markdown",
   "metadata": {
    "slideshow": {
     "slide_type": "slide"
    }
   },
   "source": [
    "## Exploring Data Frames\n",
    "To get an idea of what the data contains, we can use `head()`:"
   ]
  },
  {
   "cell_type": "code",
   "execution_count": 3,
   "metadata": {
    "slideshow": {
     "slide_type": "slide"
    }
   },
   "outputs": [
    {
     "data": {
      "text/html": [
       "<table class=\"dataframe\">\n",
       "<caption>A tibble: 6 × 16</caption>\n",
       "<thead>\n",
       "\t<tr><th scope=col>idno</th><th scope=col>netustm</th><th scope=col>ppltrst</th><th scope=col>vote</th><th scope=col>prtvtddk</th><th scope=col>lvpntyr</th><th scope=col>tygrtr</th><th scope=col>gndr</th><th scope=col>yrbrn</th><th scope=col>edlvddk</th><th scope=col>eduyrs</th><th scope=col>wkhct</th><th scope=col>wkhtot</th><th scope=col>grspnum</th><th scope=col>frlgrsp</th><th scope=col>inwtm</th></tr>\n",
       "\t<tr><th scope=col>&lt;dbl&gt;</th><th scope=col>&lt;dbl&gt;</th><th scope=col>&lt;dbl&gt;</th><th scope=col>&lt;chr&gt;</th><th scope=col>&lt;chr&gt;</th><th scope=col>&lt;chr&gt;</th><th scope=col>&lt;chr&gt;</th><th scope=col>&lt;chr&gt;</th><th scope=col>&lt;dbl&gt;</th><th scope=col>&lt;chr&gt;</th><th scope=col>&lt;dbl&gt;</th><th scope=col>&lt;dbl&gt;</th><th scope=col>&lt;dbl&gt;</th><th scope=col>&lt;dbl&gt;</th><th scope=col>&lt;dbl&gt;</th><th scope=col>&lt;dbl&gt;</th></tr>\n",
       "</thead>\n",
       "<tbody>\n",
       "\t<tr><td> 5816</td><td> 90</td><td>7</td><td>Yes</td><td>SF Socialistisk Folkeparti - Socialist People's Party</td><td>1994</td><td>60</td><td>Male  </td><td>1974</td><td>Mellemlang videregående uddannelse af 3-4 års varighed. Professionsbachelorer,</td><td>35</td><td>37</td><td>37</td><td>37000</td><td>35000</td><td>61</td></tr>\n",
       "\t<tr><td> 7251</td><td>300</td><td>5</td><td>Yes</td><td>Dansk Folkeparti - Danish People's Party             </td><td>1993</td><td>40</td><td>Female</td><td>1975</td><td>Faglig uddannelse (håndværk, handel, landbrug mv.), F.eks. Faglærte, Social-  </td><td>13</td><td>32</td><td>34</td><td>22000</td><td>30000</td><td>68</td></tr>\n",
       "\t<tr><td> 7887</td><td>360</td><td>8</td><td>Yes</td><td>Socialdemokratiet - The Social democrats             </td><td>1983</td><td>55</td><td>Male  </td><td>1958</td><td>Lang videregående uddannelse. Kandidatuddannelser af 5.-6. års varighed, F.eks</td><td>25</td><td>39</td><td>39</td><td>36000</td><td>42000</td><td>89</td></tr>\n",
       "\t<tr><td> 9607</td><td>540</td><td>9</td><td>Yes</td><td>Alternativet - The Alternative                       </td><td>1982</td><td>64</td><td>Female</td><td>1964</td><td>Mellemlang videregående uddannelse af 3-4 års varighed. Professionsbachelorer,</td><td>13</td><td>32</td><td>34</td><td>32000</td><td>   NA</td><td>50</td></tr>\n",
       "\t<tr><td>11688</td><td> NA</td><td>5</td><td>Yes</td><td>Socialdemokratiet - The Social democrats             </td><td>1968</td><td>50</td><td>Female</td><td>1952</td><td>Faglig uddannelse (håndværk, handel, landbrug mv.), F.eks. Faglærte, Social-  </td><td> 2</td><td>37</td><td>37</td><td>   NA</td><td>   NA</td><td>77</td></tr>\n",
       "\t<tr><td>12355</td><td>120</td><td>5</td><td>Yes</td><td>Socialdemokratiet - The Social democrats             </td><td>1987</td><td>60</td><td>Male  </td><td>1963</td><td>Faglig uddannelse (håndværk, handel, landbrug mv.), F.eks. Faglærte, Social-  </td><td>14</td><td>38</td><td>37</td><td>36000</td><td>38000</td><td>48</td></tr>\n",
       "</tbody>\n",
       "</table>\n"
      ],
      "text/latex": [
       "A tibble: 6 × 16\n",
       "\\begin{tabular}{llllllllllllllll}\n",
       " idno & netustm & ppltrst & vote & prtvtddk & lvpntyr & tygrtr & gndr & yrbrn & edlvddk & eduyrs & wkhct & wkhtot & grspnum & frlgrsp & inwtm\\\\\n",
       " <dbl> & <dbl> & <dbl> & <chr> & <chr> & <chr> & <chr> & <chr> & <dbl> & <chr> & <dbl> & <dbl> & <dbl> & <dbl> & <dbl> & <dbl>\\\\\n",
       "\\hline\n",
       "\t  5816 &  90 & 7 & Yes & SF Socialistisk Folkeparti - Socialist People's Party & 1994 & 60 & Male   & 1974 & Mellemlang videregående uddannelse af 3-4 års varighed. Professionsbachelorer, & 35 & 37 & 37 & 37000 & 35000 & 61\\\\\n",
       "\t  7251 & 300 & 5 & Yes & Dansk Folkeparti - Danish People's Party              & 1993 & 40 & Female & 1975 & Faglig uddannelse (håndværk, handel, landbrug mv.), F.eks. Faglærte, Social-   & 13 & 32 & 34 & 22000 & 30000 & 68\\\\\n",
       "\t  7887 & 360 & 8 & Yes & Socialdemokratiet - The Social democrats              & 1983 & 55 & Male   & 1958 & Lang videregående uddannelse. Kandidatuddannelser af 5.-6. års varighed, F.eks & 25 & 39 & 39 & 36000 & 42000 & 89\\\\\n",
       "\t  9607 & 540 & 9 & Yes & Alternativet - The Alternative                        & 1982 & 64 & Female & 1964 & Mellemlang videregående uddannelse af 3-4 års varighed. Professionsbachelorer, & 13 & 32 & 34 & 32000 &    NA & 50\\\\\n",
       "\t 11688 &  NA & 5 & Yes & Socialdemokratiet - The Social democrats              & 1968 & 50 & Female & 1952 & Faglig uddannelse (håndværk, handel, landbrug mv.), F.eks. Faglærte, Social-   &  2 & 37 & 37 &    NA &    NA & 77\\\\\n",
       "\t 12355 & 120 & 5 & Yes & Socialdemokratiet - The Social democrats              & 1987 & 60 & Male   & 1963 & Faglig uddannelse (håndværk, handel, landbrug mv.), F.eks. Faglærte, Social-   & 14 & 38 & 37 & 36000 & 38000 & 48\\\\\n",
       "\\end{tabular}\n"
      ],
      "text/markdown": [
       "\n",
       "A tibble: 6 × 16\n",
       "\n",
       "| idno &lt;dbl&gt; | netustm &lt;dbl&gt; | ppltrst &lt;dbl&gt; | vote &lt;chr&gt; | prtvtddk &lt;chr&gt; | lvpntyr &lt;chr&gt; | tygrtr &lt;chr&gt; | gndr &lt;chr&gt; | yrbrn &lt;dbl&gt; | edlvddk &lt;chr&gt; | eduyrs &lt;dbl&gt; | wkhct &lt;dbl&gt; | wkhtot &lt;dbl&gt; | grspnum &lt;dbl&gt; | frlgrsp &lt;dbl&gt; | inwtm &lt;dbl&gt; |\n",
       "|---|---|---|---|---|---|---|---|---|---|---|---|---|---|---|---|\n",
       "|  5816 |  90 | 7 | Yes | SF Socialistisk Folkeparti - Socialist People's Party | 1994 | 60 | Male   | 1974 | Mellemlang videregående uddannelse af 3-4 års varighed. Professionsbachelorer, | 35 | 37 | 37 | 37000 | 35000 | 61 |\n",
       "|  7251 | 300 | 5 | Yes | Dansk Folkeparti - Danish People's Party              | 1993 | 40 | Female | 1975 | Faglig uddannelse (håndværk, handel, landbrug mv.), F.eks. Faglærte, Social-   | 13 | 32 | 34 | 22000 | 30000 | 68 |\n",
       "|  7887 | 360 | 8 | Yes | Socialdemokratiet - The Social democrats              | 1983 | 55 | Male   | 1958 | Lang videregående uddannelse. Kandidatuddannelser af 5.-6. års varighed, F.eks | 25 | 39 | 39 | 36000 | 42000 | 89 |\n",
       "|  9607 | 540 | 9 | Yes | Alternativet - The Alternative                        | 1982 | 64 | Female | 1964 | Mellemlang videregående uddannelse af 3-4 års varighed. Professionsbachelorer, | 13 | 32 | 34 | 32000 |    NA | 50 |\n",
       "| 11688 |  NA | 5 | Yes | Socialdemokratiet - The Social democrats              | 1968 | 50 | Female | 1952 | Faglig uddannelse (håndværk, handel, landbrug mv.), F.eks. Faglærte, Social-   |  2 | 37 | 37 |    NA |    NA | 77 |\n",
       "| 12355 | 120 | 5 | Yes | Socialdemokratiet - The Social democrats              | 1987 | 60 | Male   | 1963 | Faglig uddannelse (håndværk, handel, landbrug mv.), F.eks. Faglærte, Social-   | 14 | 38 | 37 | 36000 | 38000 | 48 |\n",
       "\n"
      ],
      "text/plain": [
       "  idno  netustm ppltrst vote\n",
       "1  5816  90     7       Yes \n",
       "2  7251 300     5       Yes \n",
       "3  7887 360     8       Yes \n",
       "4  9607 540     9       Yes \n",
       "5 11688  NA     5       Yes \n",
       "6 12355 120     5       Yes \n",
       "  prtvtddk                                              lvpntyr tygrtr gndr  \n",
       "1 SF Socialistisk Folkeparti - Socialist People's Party 1994    60     Male  \n",
       "2 Dansk Folkeparti - Danish People's Party              1993    40     Female\n",
       "3 Socialdemokratiet - The Social democrats              1983    55     Male  \n",
       "4 Alternativet - The Alternative                        1982    64     Female\n",
       "5 Socialdemokratiet - The Social democrats              1968    50     Female\n",
       "6 Socialdemokratiet - The Social democrats              1987    60     Male  \n",
       "  yrbrn\n",
       "1 1974 \n",
       "2 1975 \n",
       "3 1958 \n",
       "4 1964 \n",
       "5 1952 \n",
       "6 1963 \n",
       "  edlvddk                                                                       \n",
       "1 Mellemlang videregående uddannelse af 3-4 års varighed. Professionsbachelorer,\n",
       "2 Faglig uddannelse (håndværk, handel, landbrug mv.), F.eks. Faglærte, Social-  \n",
       "3 Lang videregående uddannelse. Kandidatuddannelser af 5.-6. års varighed, F.eks\n",
       "4 Mellemlang videregående uddannelse af 3-4 års varighed. Professionsbachelorer,\n",
       "5 Faglig uddannelse (håndværk, handel, landbrug mv.), F.eks. Faglærte, Social-  \n",
       "6 Faglig uddannelse (håndværk, handel, landbrug mv.), F.eks. Faglærte, Social-  \n",
       "  eduyrs wkhct wkhtot grspnum frlgrsp inwtm\n",
       "1 35     37    37     37000   35000   61   \n",
       "2 13     32    34     22000   30000   68   \n",
       "3 25     39    39     36000   42000   89   \n",
       "4 13     32    34     32000      NA   50   \n",
       "5  2     37    37        NA      NA   77   \n",
       "6 14     38    37     36000   38000   48   "
      ]
     },
     "metadata": {},
     "output_type": "display_data"
    }
   ],
   "source": [
    "head(ess18)"
   ]
  },
  {
   "cell_type": "markdown",
   "metadata": {
    "slideshow": {
     "slide_type": "slide"
    }
   },
   "source": [
    "We can check the names of the rows and columns (the variable names) using `rownames` and `colnames`. `dim` returns number of rows and columns."
   ]
  },
  {
   "cell_type": "code",
   "execution_count": 4,
   "metadata": {
    "slideshow": {
     "slide_type": "fragment"
    }
   },
   "outputs": [
    {
     "data": {
      "text/html": [
       "<style>\n",
       ".list-inline {list-style: none; margin:0; padding: 0}\n",
       ".list-inline>li {display: inline-block}\n",
       ".list-inline>li:not(:last-child)::after {content: \"\\00b7\"; padding: 0 .5ex}\n",
       "</style>\n",
       "<ol class=list-inline><li>'1'</li><li>'2'</li><li>'3'</li><li>'4'</li><li>'5'</li><li>'6'</li></ol>\n"
      ],
      "text/latex": [
       "\\begin{enumerate*}\n",
       "\\item '1'\n",
       "\\item '2'\n",
       "\\item '3'\n",
       "\\item '4'\n",
       "\\item '5'\n",
       "\\item '6'\n",
       "\\end{enumerate*}\n"
      ],
      "text/markdown": [
       "1. '1'\n",
       "2. '2'\n",
       "3. '3'\n",
       "4. '4'\n",
       "5. '5'\n",
       "6. '6'\n",
       "\n",
       "\n"
      ],
      "text/plain": [
       "[1] \"1\" \"2\" \"3\" \"4\" \"5\" \"6\""
      ]
     },
     "metadata": {},
     "output_type": "display_data"
    }
   ],
   "source": [
    "head(rownames(ess18))"
   ]
  },
  {
   "cell_type": "code",
   "execution_count": 5,
   "metadata": {
    "slideshow": {
     "slide_type": "slide"
    }
   },
   "outputs": [
    {
     "data": {
      "text/html": [
       "<style>\n",
       ".list-inline {list-style: none; margin:0; padding: 0}\n",
       ".list-inline>li {display: inline-block}\n",
       ".list-inline>li:not(:last-child)::after {content: \"\\00b7\"; padding: 0 .5ex}\n",
       "</style>\n",
       "<ol class=list-inline><li>'idno'</li><li>'netustm'</li><li>'ppltrst'</li><li>'vote'</li><li>'prtvtddk'</li><li>'lvpntyr'</li><li>'tygrtr'</li><li>'gndr'</li><li>'yrbrn'</li><li>'edlvddk'</li><li>'eduyrs'</li><li>'wkhct'</li><li>'wkhtot'</li><li>'grspnum'</li><li>'frlgrsp'</li><li>'inwtm'</li></ol>\n"
      ],
      "text/latex": [
       "\\begin{enumerate*}\n",
       "\\item 'idno'\n",
       "\\item 'netustm'\n",
       "\\item 'ppltrst'\n",
       "\\item 'vote'\n",
       "\\item 'prtvtddk'\n",
       "\\item 'lvpntyr'\n",
       "\\item 'tygrtr'\n",
       "\\item 'gndr'\n",
       "\\item 'yrbrn'\n",
       "\\item 'edlvddk'\n",
       "\\item 'eduyrs'\n",
       "\\item 'wkhct'\n",
       "\\item 'wkhtot'\n",
       "\\item 'grspnum'\n",
       "\\item 'frlgrsp'\n",
       "\\item 'inwtm'\n",
       "\\end{enumerate*}\n"
      ],
      "text/markdown": [
       "1. 'idno'\n",
       "2. 'netustm'\n",
       "3. 'ppltrst'\n",
       "4. 'vote'\n",
       "5. 'prtvtddk'\n",
       "6. 'lvpntyr'\n",
       "7. 'tygrtr'\n",
       "8. 'gndr'\n",
       "9. 'yrbrn'\n",
       "10. 'edlvddk'\n",
       "11. 'eduyrs'\n",
       "12. 'wkhct'\n",
       "13. 'wkhtot'\n",
       "14. 'grspnum'\n",
       "15. 'frlgrsp'\n",
       "16. 'inwtm'\n",
       "\n",
       "\n"
      ],
      "text/plain": [
       " [1] \"idno\"     \"netustm\"  \"ppltrst\"  \"vote\"     \"prtvtddk\" \"lvpntyr\" \n",
       " [7] \"tygrtr\"   \"gndr\"     \"yrbrn\"    \"edlvddk\"  \"eduyrs\"   \"wkhct\"   \n",
       "[13] \"wkhtot\"   \"grspnum\"  \"frlgrsp\"  \"inwtm\"   "
      ]
     },
     "metadata": {},
     "output_type": "display_data"
    }
   ],
   "source": [
    "colnames(ess18)"
   ]
  },
  {
   "cell_type": "code",
   "execution_count": 6,
   "metadata": {
    "slideshow": {
     "slide_type": "fragment"
    }
   },
   "outputs": [
    {
     "data": {
      "text/html": [
       "<style>\n",
       ".list-inline {list-style: none; margin:0; padding: 0}\n",
       ".list-inline>li {display: inline-block}\n",
       ".list-inline>li:not(:last-child)::after {content: \"\\00b7\"; padding: 0 .5ex}\n",
       "</style>\n",
       "<ol class=list-inline><li>1285</li><li>16</li></ol>\n"
      ],
      "text/latex": [
       "\\begin{enumerate*}\n",
       "\\item 1285\n",
       "\\item 16\n",
       "\\end{enumerate*}\n"
      ],
      "text/markdown": [
       "1. 1285\n",
       "2. 16\n",
       "\n",
       "\n"
      ],
      "text/plain": [
       "[1] 1285   16"
      ]
     },
     "metadata": {},
     "output_type": "display_data"
    }
   ],
   "source": [
    "dim(ess18)"
   ]
  },
  {
   "cell_type": "markdown",
   "metadata": {
    "slideshow": {
     "slide_type": "slide"
    }
   },
   "source": [
    "See key summary statistics using `summary()`. (counts, mean, std, min, max, quartiles)."
   ]
  },
  {
   "cell_type": "code",
   "execution_count": 7,
   "metadata": {
    "slideshow": {
     "slide_type": "fragment"
    }
   },
   "outputs": [
    {
     "data": {
      "text/plain": [
       "      idno           netustm          ppltrst          vote          \n",
       " Min.   :  5816   Min.   :   0.0   Min.   : 0.00   Length:1285       \n",
       " 1st Qu.: 93707   1st Qu.:  90.0   1st Qu.: 6.00   Class :character  \n",
       " Median :112877   Median : 150.0   Median : 7.00   Mode  :character  \n",
       " Mean   :110980   Mean   : 227.4   Mean   : 7.08                     \n",
       " 3rd Qu.:131072   3rd Qu.: 300.0   3rd Qu.: 8.00                     \n",
       " Max.   :150446   Max.   :1020.0   Max.   :10.00                     \n",
       "                  NA's   :151      NA's   :3                         \n",
       "   prtvtddk           lvpntyr             tygrtr              gndr          \n",
       " Length:1285        Length:1285        Length:1285        Length:1285       \n",
       " Class :character   Class :character   Class :character   Class :character  \n",
       " Mode  :character   Mode  :character   Mode  :character   Mode  :character  \n",
       "                                                                            \n",
       "                                                                            \n",
       "                                                                            \n",
       "                                                                            \n",
       "     yrbrn        edlvddk              eduyrs       wkhct           wkhtot     \n",
       " Min.   :1929   Length:1285        Min.   : 0   Min.   : 0.00   Min.   : 0.00  \n",
       " 1st Qu.:1952   Class :character   1st Qu.:11   1st Qu.:35.00   1st Qu.:35.00  \n",
       " Median :1966   Mode  :character   Median :14   Median :37.00   Median :37.00  \n",
       " Mean   :1967                      Mean   :14   Mean   :33.81   Mean   :36.44  \n",
       " 3rd Qu.:1982                      3rd Qu.:17   3rd Qu.:37.00   3rd Qu.:41.00  \n",
       " Max.   :2003                      Max.   :40   Max.   :80.00   Max.   :90.00  \n",
       "                                   NA's   :7    NA's   :68      NA's   :27     \n",
       "    grspnum           frlgrsp           inwtm       \n",
       " Min.   :      0   Min.   :     0   Min.   : 18.00  \n",
       " 1st Qu.:  26000   1st Qu.: 28375   1st Qu.: 51.00  \n",
       " Median :  32000   Median : 35000   Median : 59.00  \n",
       " Mean   :  43686   Mean   : 37255   Mean   : 63.32  \n",
       " 3rd Qu.:  41000   3rd Qu.: 40000   3rd Qu.: 70.00  \n",
       " Max.   :3000000   Max.   :500000   Max.   :613.00  \n",
       " NA's   :570       NA's   :1033     NA's   :5       "
      ]
     },
     "metadata": {},
     "output_type": "display_data"
    }
   ],
   "source": [
    "summary(ess18)"
   ]
  },
  {
   "cell_type": "markdown",
   "metadata": {
    "slideshow": {
     "slide_type": "slide"
    }
   },
   "source": [
    "## Data frames and vectors\n",
    "\n",
    "Data frames consists of rows and columns. Typically R expects the rows of a data frame to contain observations and the columns of the data frame to contain variables (information about the observations).\n",
    "\n",
    "R treats single columns (or variables) as \"vectors\". A vector is a series of values of the same class.\n",
    "\n",
    "We can refer to a single column in a data frame with `$` (a vector)."
   ]
  },
  {
   "cell_type": "code",
   "execution_count": 8,
   "metadata": {
    "slideshow": {
     "slide_type": "fragment"
    }
   },
   "outputs": [
    {
     "data": {
      "text/html": [
       "<style>\n",
       ".list-inline {list-style: none; margin:0; padding: 0}\n",
       ".list-inline>li {display: inline-block}\n",
       ".list-inline>li:not(:last-child)::after {content: \"\\00b7\"; padding: 0 .5ex}\n",
       "</style>\n",
       "<ol class=list-inline><li>1974</li><li>1975</li><li>1958</li><li>1964</li><li>1952</li><li>1963</li></ol>\n"
      ],
      "text/latex": [
       "\\begin{enumerate*}\n",
       "\\item 1974\n",
       "\\item 1975\n",
       "\\item 1958\n",
       "\\item 1964\n",
       "\\item 1952\n",
       "\\item 1963\n",
       "\\end{enumerate*}\n"
      ],
      "text/markdown": [
       "1. 1974\n",
       "2. 1975\n",
       "3. 1958\n",
       "4. 1964\n",
       "5. 1952\n",
       "6. 1963\n",
       "\n",
       "\n"
      ],
      "text/plain": [
       "[1] 1974 1975 1958 1964 1952 1963"
      ]
     },
     "metadata": {},
     "output_type": "display_data"
    }
   ],
   "source": [
    "head(ess18$yrbrn) # First six values of yrbrn variable"
   ]
  },
  {
   "cell_type": "markdown",
   "metadata": {
    "slideshow": {
     "slide_type": "slide"
    }
   },
   "source": [
    "Each value in a vector is assigned an index refering to the position of the value in the vector (starts from 1).\n",
    "\n",
    "A vector is indexed using `[]`:"
   ]
  },
  {
   "cell_type": "code",
   "execution_count": 9,
   "metadata": {
    "slideshow": {
     "slide_type": "fragment"
    }
   },
   "outputs": [
    {
     "data": {
      "text/html": [
       "1958"
      ],
      "text/latex": [
       "1958"
      ],
      "text/markdown": [
       "1958"
      ],
      "text/plain": [
       "[1] 1958"
      ]
     },
     "metadata": {},
     "output_type": "display_data"
    }
   ],
   "source": [
    "ess18$yrbrn[10] # Returns the 10th value (row 10) of the yrbrn variable"
   ]
  },
  {
   "cell_type": "code",
   "execution_count": 10,
   "metadata": {
    "slideshow": {
     "slide_type": "fragment"
    }
   },
   "outputs": [
    {
     "data": {
      "text/html": [
       "<style>\n",
       ".list-inline {list-style: none; margin:0; padding: 0}\n",
       ".list-inline>li {display: inline-block}\n",
       ".list-inline>li:not(:last-child)::after {content: \"\\00b7\"; padding: 0 .5ex}\n",
       "</style>\n",
       "<ol class=list-inline><li>1975</li><li>1958</li><li>1964</li><li>1952</li><li>1963</li><li>1991</li><li>1984</li><li>1966</li><li>1958</li></ol>\n"
      ],
      "text/latex": [
       "\\begin{enumerate*}\n",
       "\\item 1975\n",
       "\\item 1958\n",
       "\\item 1964\n",
       "\\item 1952\n",
       "\\item 1963\n",
       "\\item 1991\n",
       "\\item 1984\n",
       "\\item 1966\n",
       "\\item 1958\n",
       "\\end{enumerate*}\n"
      ],
      "text/markdown": [
       "1. 1975\n",
       "2. 1958\n",
       "3. 1964\n",
       "4. 1952\n",
       "5. 1963\n",
       "6. 1991\n",
       "7. 1984\n",
       "8. 1966\n",
       "9. 1958\n",
       "\n",
       "\n"
      ],
      "text/plain": [
       "[1] 1975 1958 1964 1952 1963 1991 1984 1966 1958"
      ]
     },
     "metadata": {},
     "output_type": "display_data"
    }
   ],
   "source": [
    "ess18$yrbrn[2:10] # Returns value 2-10 of the yrbn variable (both inclusive)"
   ]
  },
  {
   "cell_type": "markdown",
   "metadata": {
    "slideshow": {
     "slide_type": "slide"
    }
   },
   "source": [
    "A range of useful functions exist for calculating descriptive measures for a vector; fx `mean()`, `min()`, `max()` and `length()`."
   ]
  },
  {
   "cell_type": "code",
   "execution_count": 11,
   "metadata": {
    "slideshow": {
     "slide_type": "fragment"
    }
   },
   "outputs": [
    {
     "data": {
      "text/html": [
       "1929"
      ],
      "text/latex": [
       "1929"
      ],
      "text/markdown": [
       "1929"
      ],
      "text/plain": [
       "[1] 1929"
      ]
     },
     "metadata": {},
     "output_type": "display_data"
    },
    {
     "data": {
      "text/html": [
       "2003"
      ],
      "text/latex": [
       "2003"
      ],
      "text/markdown": [
       "2003"
      ],
      "text/plain": [
       "[1] 2003"
      ]
     },
     "metadata": {},
     "output_type": "display_data"
    },
    {
     "data": {
      "text/html": [
       "1967.04747081712"
      ],
      "text/latex": [
       "1967.04747081712"
      ],
      "text/markdown": [
       "1967.04747081712"
      ],
      "text/plain": [
       "[1] 1967.047"
      ]
     },
     "metadata": {},
     "output_type": "display_data"
    },
    {
     "data": {
      "text/html": [
       "1285"
      ],
      "text/latex": [
       "1285"
      ],
      "text/markdown": [
       "1285"
      ],
      "text/plain": [
       "[1] 1285"
      ]
     },
     "metadata": {},
     "output_type": "display_data"
    }
   ],
   "source": [
    "min(ess18$yrbrn) # Returns smallest value\n",
    "max(ess18$yrbrn) # Returns largest value\n",
    "mean(ess18$yrbrn) # Returns mean value\n",
    "length(ess18$yrbrn) # Returns number of values in the vector (corresponding to the number of rows)"
   ]
  },
  {
   "cell_type": "markdown",
   "metadata": {
    "slideshow": {
     "slide_type": "slide"
    }
   },
   "source": [
    "`unique()` returns the unique values in a vector (useful for getting familiar with a variable):"
   ]
  },
  {
   "cell_type": "code",
   "execution_count": 12,
   "metadata": {
    "slideshow": {
     "slide_type": "fragment"
    }
   },
   "outputs": [
    {
     "data": {
      "text/html": [
       "<style>\n",
       ".list-inline {list-style: none; margin:0; padding: 0}\n",
       ".list-inline>li {display: inline-block}\n",
       ".list-inline>li:not(:last-child)::after {content: \"\\00b7\"; padding: 0 .5ex}\n",
       "</style>\n",
       "<ol class=list-inline><li>7</li><li>5</li><li>8</li><li>9</li><li>4</li><li>6</li><li>2</li><li>10</li><li>3</li><li>1</li><li>0</li><li>&lt;NA&gt;</li></ol>\n"
      ],
      "text/latex": [
       "\\begin{enumerate*}\n",
       "\\item 7\n",
       "\\item 5\n",
       "\\item 8\n",
       "\\item 9\n",
       "\\item 4\n",
       "\\item 6\n",
       "\\item 2\n",
       "\\item 10\n",
       "\\item 3\n",
       "\\item 1\n",
       "\\item 0\n",
       "\\item <NA>\n",
       "\\end{enumerate*}\n"
      ],
      "text/markdown": [
       "1. 7\n",
       "2. 5\n",
       "3. 8\n",
       "4. 9\n",
       "5. 4\n",
       "6. 6\n",
       "7. 2\n",
       "8. 10\n",
       "9. 3\n",
       "10. 1\n",
       "11. 0\n",
       "12. &lt;NA&gt;\n",
       "\n",
       "\n"
      ],
      "text/plain": [
       " [1]  7  5  8  9  4  6  2 10  3  1  0 NA"
      ]
     },
     "metadata": {},
     "output_type": "display_data"
    }
   ],
   "source": [
    "unique(ess18$ppltrst)"
   ]
  },
  {
   "cell_type": "markdown",
   "metadata": {
    "slideshow": {
     "slide_type": "slide"
    }
   },
   "source": [
    "### Useful operations and functions on vectors\n",
    "Below are some examples of different commands to interact with vectors.\n",
    "\n",
    "| Code   | Description |\n",
    "|:-------|:------------|\n",
    "|`my_vec[-3]` | Everything but the 3rd element |\n",
    "|`my_vec[c(1,4)]` | The 1st and 4th element |\n",
    "|`my_vec[c(2:4)]` | The elements from index 2 to 4 |\n",
    "|`length(my_vec)` | The number of elements |\n",
    "|`sort(my_vec)` | Sorts the elements in ascending order |\n",
    "|`sum(my_vec)` | The sum of the vector elements (numeric) |\n",
    "|`mean(my_vec)`| The mean of the vector elements (numeric) |\n",
    "|`min(my_vec)` | The vector element with the lowest value (numeric) |\n",
    "|`max(my_vec)` | The vector element with the highest value (numeric)"
   ]
  },
  {
   "cell_type": "markdown",
   "metadata": {
    "slideshow": {
     "slide_type": "slide"
    }
   },
   "source": [
    "## Missing values\n",
    "\n",
    "Data will often contain missing values. Missing values can denote a lot of things like a non-response, an invalid answer, an inaccessible information and so on. \n",
    "\n",
    "Missing values are used to assign a value without assigning a value. They are denotes as `NA` in R.\n",
    "\n",
    "The `summary()` function includes information about the number of missing values:"
   ]
  },
  {
   "cell_type": "code",
   "execution_count": 13,
   "metadata": {
    "slideshow": {
     "slide_type": "fragment"
    }
   },
   "outputs": [
    {
     "data": {
      "text/plain": [
       "   Min. 1st Qu.  Median    Mean 3rd Qu.    Max.    NA's \n",
       "  18.00   51.00   59.00   63.32   70.00  613.00       5 "
      ]
     },
     "metadata": {},
     "output_type": "display_data"
    }
   ],
   "source": [
    "summary(ess18$inwtm)"
   ]
  },
  {
   "cell_type": "markdown",
   "metadata": {
    "slideshow": {
     "slide_type": "slide"
    }
   },
   "source": [
    "Missing values are neither high or low in R. This means that it is not possible to perform computations on missing values:"
   ]
  },
  {
   "cell_type": "code",
   "execution_count": 15,
   "metadata": {
    "slideshow": {
     "slide_type": "fragment"
    }
   },
   "outputs": [
    {
     "data": {
      "text/html": [
       "&lt;NA&gt;"
      ],
      "text/latex": [
       "<NA>"
      ],
      "text/markdown": [
       "&lt;NA&gt;"
      ],
      "text/plain": [
       "[1] NA"
      ]
     },
     "metadata": {},
     "output_type": "display_data"
    },
    {
     "data": {
      "text/html": [
       "&lt;NA&gt;"
      ],
      "text/latex": [
       "<NA>"
      ],
      "text/markdown": [
       "&lt;NA&gt;"
      ],
      "text/plain": [
       "[1] NA"
      ]
     },
     "metadata": {},
     "output_type": "display_data"
    },
    {
     "data": {
      "text/html": [
       "&lt;NA&gt;"
      ],
      "text/latex": [
       "<NA>"
      ],
      "text/markdown": [
       "&lt;NA&gt;"
      ],
      "text/plain": [
       "[1] NA"
      ]
     },
     "metadata": {},
     "output_type": "display_data"
    }
   ],
   "source": [
    "min(ess18$inwtm) # NA is neither high or low - returns NA\n",
    "max(ess18$inwtm) # NA is neither high or low - returns NA\n",
    "mean(ess18$inwtm) # NA is neither high or low - returns NA"
   ]
  },
  {
   "cell_type": "markdown",
   "metadata": {
    "slideshow": {
     "slide_type": "fragment"
    }
   },
   "source": [
    "Usually one will have to deal with the missing values in some ways - either by replacing them or removing them.\n",
    "\n",
    "Some functions have a built-in arguement for dealing with missing values."
   ]
  },
  {
   "cell_type": "markdown",
   "metadata": {
    "slideshow": {
     "slide_type": "slide"
    }
   },
   "source": [
    "## Data handling in R\n",
    "\n",
    "When working with data, we usually need to perform some introductory data handling steps before being able to conduct our analysis.\n",
    "\n",
    "This could include:\n",
    "\n",
    "- Filtering observations and variables\n",
    "- Creating new variables\n",
    "- Recoding values\n",
    "\n",
    "R supports all these operations both from \"base\" operations but there are also packages with more intuitive functions (like the packages in tidyverse: https://www.tidyverse.org/."
   ]
  },
  {
   "cell_type": "markdown",
   "metadata": {
    "slideshow": {
     "slide_type": "slide"
    }
   },
   "source": [
    "### Filtering observations (subsetting)\n",
    "\n",
    "Like values in a vector, each value in a data frame also has an index. Each value in a data frame can be uniquely identified by the combination of its row and column index.\n",
    "\n",
    "Data frames are indexed using `[rowindex, columnindex/column name]`:"
   ]
  },
  {
   "cell_type": "code",
   "execution_count": 16,
   "metadata": {
    "slideshow": {
     "slide_type": "fragment"
    }
   },
   "outputs": [
    {
     "data": {
      "text/html": [
       "<table class=\"dataframe\">\n",
       "<caption>A tibble: 1 × 1</caption>\n",
       "<thead>\n",
       "\t<tr><th scope=col>netustm</th></tr>\n",
       "\t<tr><th scope=col>&lt;dbl&gt;</th></tr>\n",
       "</thead>\n",
       "<tbody>\n",
       "\t<tr><td>60</td></tr>\n",
       "</tbody>\n",
       "</table>\n"
      ],
      "text/latex": [
       "A tibble: 1 × 1\n",
       "\\begin{tabular}{l}\n",
       " netustm\\\\\n",
       " <dbl>\\\\\n",
       "\\hline\n",
       "\t 60\\\\\n",
       "\\end{tabular}\n"
      ],
      "text/markdown": [
       "\n",
       "A tibble: 1 × 1\n",
       "\n",
       "| netustm &lt;dbl&gt; |\n",
       "|---|\n",
       "| 60 |\n",
       "\n"
      ],
      "text/plain": [
       "  netustm\n",
       "1 60     "
      ]
     },
     "metadata": {},
     "output_type": "display_data"
    }
   ],
   "source": [
    "ess18[10, 2] # Row 10, column 2"
   ]
  },
  {
   "cell_type": "code",
   "execution_count": 17,
   "metadata": {
    "slideshow": {
     "slide_type": "fragment"
    }
   },
   "outputs": [
    {
     "data": {
      "text/html": [
       "<table class=\"dataframe\">\n",
       "<caption>A tibble: 1 × 1</caption>\n",
       "<thead>\n",
       "\t<tr><th scope=col>prtvtddk</th></tr>\n",
       "\t<tr><th scope=col>&lt;chr&gt;</th></tr>\n",
       "</thead>\n",
       "<tbody>\n",
       "\t<tr><td>Venstre, Danmarks Liberale Parti - The Liberal Party</td></tr>\n",
       "</tbody>\n",
       "</table>\n"
      ],
      "text/latex": [
       "A tibble: 1 × 1\n",
       "\\begin{tabular}{l}\n",
       " prtvtddk\\\\\n",
       " <chr>\\\\\n",
       "\\hline\n",
       "\t Venstre, Danmarks Liberale Parti - The Liberal Party\\\\\n",
       "\\end{tabular}\n"
      ],
      "text/markdown": [
       "\n",
       "A tibble: 1 × 1\n",
       "\n",
       "| prtvtddk &lt;chr&gt; |\n",
       "|---|\n",
       "| Venstre, Danmarks Liberale Parti - The Liberal Party |\n",
       "\n"
      ],
      "text/plain": [
       "  prtvtddk                                            \n",
       "1 Venstre, Danmarks Liberale Parti - The Liberal Party"
      ]
     },
     "metadata": {},
     "output_type": "display_data"
    }
   ],
   "source": [
    "ess18[10, 'prtvtddk'] # Row 10 in column prtvtddk"
   ]
  },
  {
   "cell_type": "markdown",
   "metadata": {
    "slideshow": {
     "slide_type": "fragment"
    }
   },
   "source": [
    "Notice that even though we are asking for a single value, the object returned is a 1x1 data frame!"
   ]
  },
  {
   "cell_type": "markdown",
   "metadata": {
    "slideshow": {
     "slide_type": "slide"
    }
   },
   "source": [
    "We can also ask for several rows and columns:"
   ]
  },
  {
   "cell_type": "code",
   "execution_count": 18,
   "metadata": {
    "slideshow": {
     "slide_type": "fragment"
    }
   },
   "outputs": [
    {
     "data": {
      "text/html": [
       "<table class=\"dataframe\">\n",
       "<caption>A tibble: 10 × 2</caption>\n",
       "<thead>\n",
       "\t<tr><th scope=col>prtvtddk</th><th scope=col>gndr</th></tr>\n",
       "\t<tr><th scope=col>&lt;chr&gt;</th><th scope=col>&lt;chr&gt;</th></tr>\n",
       "</thead>\n",
       "<tbody>\n",
       "\t<tr><td>SF Socialistisk Folkeparti - Socialist People's Party</td><td>Male  </td></tr>\n",
       "\t<tr><td>Dansk Folkeparti - Danish People's Party             </td><td>Female</td></tr>\n",
       "\t<tr><td>Socialdemokratiet - The Social democrats             </td><td>Male  </td></tr>\n",
       "\t<tr><td>Alternativet - The Alternative                       </td><td>Female</td></tr>\n",
       "\t<tr><td>Socialdemokratiet - The Social democrats             </td><td>Female</td></tr>\n",
       "\t<tr><td>Socialdemokratiet - The Social democrats             </td><td>Male  </td></tr>\n",
       "\t<tr><td>Dansk Folkeparti - Danish People's Party             </td><td>Male  </td></tr>\n",
       "\t<tr><td>Dansk Folkeparti - Danish People's Party             </td><td>Female</td></tr>\n",
       "\t<tr><td>Liberal Alliance - Liberal Alliance                  </td><td>Female</td></tr>\n",
       "\t<tr><td>Venstre, Danmarks Liberale Parti - The Liberal Party </td><td>Male  </td></tr>\n",
       "</tbody>\n",
       "</table>\n"
      ],
      "text/latex": [
       "A tibble: 10 × 2\n",
       "\\begin{tabular}{ll}\n",
       " prtvtddk & gndr\\\\\n",
       " <chr> & <chr>\\\\\n",
       "\\hline\n",
       "\t SF Socialistisk Folkeparti - Socialist People's Party & Male  \\\\\n",
       "\t Dansk Folkeparti - Danish People's Party              & Female\\\\\n",
       "\t Socialdemokratiet - The Social democrats              & Male  \\\\\n",
       "\t Alternativet - The Alternative                        & Female\\\\\n",
       "\t Socialdemokratiet - The Social democrats              & Female\\\\\n",
       "\t Socialdemokratiet - The Social democrats              & Male  \\\\\n",
       "\t Dansk Folkeparti - Danish People's Party              & Male  \\\\\n",
       "\t Dansk Folkeparti - Danish People's Party              & Female\\\\\n",
       "\t Liberal Alliance - Liberal Alliance                   & Female\\\\\n",
       "\t Venstre, Danmarks Liberale Parti - The Liberal Party  & Male  \\\\\n",
       "\\end{tabular}\n"
      ],
      "text/markdown": [
       "\n",
       "A tibble: 10 × 2\n",
       "\n",
       "| prtvtddk &lt;chr&gt; | gndr &lt;chr&gt; |\n",
       "|---|---|\n",
       "| SF Socialistisk Folkeparti - Socialist People's Party | Male   |\n",
       "| Dansk Folkeparti - Danish People's Party              | Female |\n",
       "| Socialdemokratiet - The Social democrats              | Male   |\n",
       "| Alternativet - The Alternative                        | Female |\n",
       "| Socialdemokratiet - The Social democrats              | Female |\n",
       "| Socialdemokratiet - The Social democrats              | Male   |\n",
       "| Dansk Folkeparti - Danish People's Party              | Male   |\n",
       "| Dansk Folkeparti - Danish People's Party              | Female |\n",
       "| Liberal Alliance - Liberal Alliance                   | Female |\n",
       "| Venstre, Danmarks Liberale Parti - The Liberal Party  | Male   |\n",
       "\n"
      ],
      "text/plain": [
       "   prtvtddk                                              gndr  \n",
       "1  SF Socialistisk Folkeparti - Socialist People's Party Male  \n",
       "2  Dansk Folkeparti - Danish People's Party              Female\n",
       "3  Socialdemokratiet - The Social democrats              Male  \n",
       "4  Alternativet - The Alternative                        Female\n",
       "5  Socialdemokratiet - The Social democrats              Female\n",
       "6  Socialdemokratiet - The Social democrats              Male  \n",
       "7  Dansk Folkeparti - Danish People's Party              Male  \n",
       "8  Dansk Folkeparti - Danish People's Party              Female\n",
       "9  Liberal Alliance - Liberal Alliance                   Female\n",
       "10 Venstre, Danmarks Liberale Parti - The Liberal Party  Male  "
      ]
     },
     "metadata": {},
     "output_type": "display_data"
    }
   ],
   "source": [
    "ess18[c(1:10), c('prtvtddk', 'gndr')] # Row 1-10, column prtvtddk and gndr (specified as vectors)"
   ]
  },
  {
   "cell_type": "markdown",
   "metadata": {
    "slideshow": {
     "slide_type": "slide"
    }
   },
   "source": [
    "### Filtering with booleans/logical values\n",
    "\n",
    "Normally we do not know the rowindex of the values we want to keep. Rather we want to filter observations based on a certain criteria. \n",
    "\n",
    "In R this is done via the use of \"booleans\" or \"logical values\". These are values that are either `TRUE` or `FALSE`.\n",
    "\n",
    "A number of operations in R always return a logical value:\n",
    "\n",
    "- `>`\n",
    "- `>=`\n",
    "- `<`\n",
    "- `<=`\n",
    "- `==`\n",
    "- `!=`"
   ]
  },
  {
   "cell_type": "code",
   "execution_count": 19,
   "metadata": {
    "slideshow": {
     "slide_type": "fragment"
    }
   },
   "outputs": [
    {
     "data": {
      "text/html": [
       "TRUE"
      ],
      "text/latex": [
       "TRUE"
      ],
      "text/markdown": [
       "TRUE"
      ],
      "text/plain": [
       "[1] TRUE"
      ]
     },
     "metadata": {},
     "output_type": "display_data"
    }
   ],
   "source": [
    "42 > 10"
   ]
  },
  {
   "cell_type": "code",
   "execution_count": 20,
   "metadata": {
    "slideshow": {
     "slide_type": "fragment"
    }
   },
   "outputs": [
    {
     "data": {
      "text/html": [
       "FALSE"
      ],
      "text/latex": [
       "FALSE"
      ],
      "text/markdown": [
       "FALSE"
      ],
      "text/plain": [
       "[1] FALSE"
      ]
     },
     "metadata": {},
     "output_type": "display_data"
    }
   ],
   "source": [
    "10 != 10"
   ]
  },
  {
   "cell_type": "markdown",
   "metadata": {
    "slideshow": {
     "slide_type": "slide"
    }
   },
   "source": [
    "Logicals can be used when filtering observations. Logicals are used to index the rows, so that only rows meeting the criteria will be returned:"
   ]
  },
  {
   "cell_type": "code",
   "execution_count": 21,
   "metadata": {
    "slideshow": {
     "slide_type": "fragment"
    }
   },
   "outputs": [
    {
     "data": {
      "text/html": [
       "<table class=\"dataframe\">\n",
       "<caption>A tibble: 6 × 2</caption>\n",
       "<thead>\n",
       "\t<tr><th scope=col>gndr</th><th scope=col>prtvtddk</th></tr>\n",
       "\t<tr><th scope=col>&lt;chr&gt;</th><th scope=col>&lt;chr&gt;</th></tr>\n",
       "</thead>\n",
       "<tbody>\n",
       "\t<tr><td>Male</td><td>SF Socialistisk Folkeparti - Socialist People's Party</td></tr>\n",
       "\t<tr><td>Male</td><td>Socialdemokratiet - The Social democrats             </td></tr>\n",
       "\t<tr><td>Male</td><td>Socialdemokratiet - The Social democrats             </td></tr>\n",
       "\t<tr><td>Male</td><td>Dansk Folkeparti - Danish People's Party             </td></tr>\n",
       "\t<tr><td>Male</td><td>Venstre, Danmarks Liberale Parti - The Liberal Party </td></tr>\n",
       "\t<tr><td>Male</td><td>Venstre, Danmarks Liberale Parti - The Liberal Party </td></tr>\n",
       "</tbody>\n",
       "</table>\n"
      ],
      "text/latex": [
       "A tibble: 6 × 2\n",
       "\\begin{tabular}{ll}\n",
       " gndr & prtvtddk\\\\\n",
       " <chr> & <chr>\\\\\n",
       "\\hline\n",
       "\t Male & SF Socialistisk Folkeparti - Socialist People's Party\\\\\n",
       "\t Male & Socialdemokratiet - The Social democrats             \\\\\n",
       "\t Male & Socialdemokratiet - The Social democrats             \\\\\n",
       "\t Male & Dansk Folkeparti - Danish People's Party             \\\\\n",
       "\t Male & Venstre, Danmarks Liberale Parti - The Liberal Party \\\\\n",
       "\t Male & Venstre, Danmarks Liberale Parti - The Liberal Party \\\\\n",
       "\\end{tabular}\n"
      ],
      "text/markdown": [
       "\n",
       "A tibble: 6 × 2\n",
       "\n",
       "| gndr &lt;chr&gt; | prtvtddk &lt;chr&gt; |\n",
       "|---|---|\n",
       "| Male | SF Socialistisk Folkeparti - Socialist People's Party |\n",
       "| Male | Socialdemokratiet - The Social democrats              |\n",
       "| Male | Socialdemokratiet - The Social democrats              |\n",
       "| Male | Dansk Folkeparti - Danish People's Party              |\n",
       "| Male | Venstre, Danmarks Liberale Parti - The Liberal Party  |\n",
       "| Male | Venstre, Danmarks Liberale Parti - The Liberal Party  |\n",
       "\n"
      ],
      "text/plain": [
       "  gndr prtvtddk                                             \n",
       "1 Male SF Socialistisk Folkeparti - Socialist People's Party\n",
       "2 Male Socialdemokratiet - The Social democrats             \n",
       "3 Male Socialdemokratiet - The Social democrats             \n",
       "4 Male Dansk Folkeparti - Danish People's Party             \n",
       "5 Male Venstre, Danmarks Liberale Parti - The Liberal Party \n",
       "6 Male Venstre, Danmarks Liberale Parti - The Liberal Party "
      ]
     },
     "metadata": {},
     "output_type": "display_data"
    }
   ],
   "source": [
    "head(ess18[ess18$gndr == 'Male', c('gndr', 'prtvtddk')])"
   ]
  },
  {
   "cell_type": "markdown",
   "metadata": {
    "slideshow": {
     "slide_type": "slide"
    }
   },
   "source": [
    "Logicals can also be used when indexing vectors, thus being able to perform calculation on a specific group:"
   ]
  },
  {
   "cell_type": "code",
   "execution_count": 22,
   "metadata": {
    "slideshow": {
     "slide_type": "fragment"
    }
   },
   "outputs": [
    {
     "data": {
      "text/html": [
       "6.97852760736196"
      ],
      "text/latex": [
       "6.97852760736196"
      ],
      "text/markdown": [
       "6.97852760736196"
      ],
      "text/plain": [
       "[1] 6.978528"
      ]
     },
     "metadata": {},
     "output_type": "display_data"
    }
   ],
   "source": [
    "mean(ess18$ppltrst[ess18$gndr == \"Male\"], na.rm = TRUE) # Mean of ppltrst for gndr = male"
   ]
  },
  {
   "cell_type": "markdown",
   "metadata": {
    "slideshow": {
     "slide_type": "slide"
    }
   },
   "source": [
    "## Recoding and creating variables\n",
    "\n",
    "Creating variables and (simple) recoding is usually done in the same way. The only difference being whether the recoding is assigned to a new variable or overwriting an existing (we are here only looking at recoding by arithmetic operations and not by replacing values)."
   ]
  },
  {
   "cell_type": "markdown",
   "metadata": {
    "slideshow": {
     "slide_type": "fragment"
    }
   },
   "source": [
    "In base R, we simply specify a variable that is not in the data and specify the contents:"
   ]
  },
  {
   "cell_type": "code",
   "execution_count": 23,
   "metadata": {
    "slideshow": {
     "slide_type": "fragment"
    }
   },
   "outputs": [
    {
     "data": {
      "text/html": [
       "<style>\n",
       ".list-inline {list-style: none; margin:0; padding: 0}\n",
       ".list-inline>li {display: inline-block}\n",
       ".list-inline>li:not(:last-child)::after {content: \"\\00b7\"; padding: 0 .5ex}\n",
       "</style>\n",
       "<ol class=list-inline><li>1.01666666666667</li><li>1.13333333333333</li><li>1.48333333333333</li><li>0.833333333333333</li><li>1.28333333333333</li><li>0.8</li></ol>\n"
      ],
      "text/latex": [
       "\\begin{enumerate*}\n",
       "\\item 1.01666666666667\n",
       "\\item 1.13333333333333\n",
       "\\item 1.48333333333333\n",
       "\\item 0.833333333333333\n",
       "\\item 1.28333333333333\n",
       "\\item 0.8\n",
       "\\end{enumerate*}\n"
      ],
      "text/markdown": [
       "1. 1.01666666666667\n",
       "2. 1.13333333333333\n",
       "3. 1.48333333333333\n",
       "4. 0.833333333333333\n",
       "5. 1.28333333333333\n",
       "6. 0.8\n",
       "\n",
       "\n"
      ],
      "text/plain": [
       "[1] 1.0166667 1.1333333 1.4833333 0.8333333 1.2833333 0.8000000"
      ]
     },
     "metadata": {},
     "output_type": "display_data"
    }
   ],
   "source": [
    "ess18$inwth <- ess18$inwtm / 60 # Creating variable for length of interview in hours\n",
    "\n",
    "head(ess18$inwth)"
   ]
  },
  {
   "cell_type": "code",
   "execution_count": 24,
   "metadata": {
    "slideshow": {
     "slide_type": "fragment"
    }
   },
   "outputs": [],
   "source": [
    "ess18$inwth <- NULL # This line removes the variable"
   ]
  },
  {
   "cell_type": "markdown",
   "metadata": {
    "slideshow": {
     "slide_type": "slide"
    }
   },
   "source": [
    "# Saving files \n",
    "\n",
    "The most important thing to save is the R script.\n",
    "\n",
    "Otherwise data can be exported - fx as a .csv file.\n",
    "\n",
    "Check your directory with `getwd`. Directory can be changed with `setwd`.\n",
    "\n",
    "We can save a .csv-file (comma-separated values) with `write.csv`:"
   ]
  },
  {
   "cell_type": "markdown",
   "metadata": {
    "slideshow": {
     "slide_type": "fragment"
    }
   },
   "source": [
    "```R\n",
    "write.csv(ess18, file = \"my_ess2018dk.csv\", col.names = TRUE, row.names = FALSE)\n",
    "```"
   ]
  },
  {
   "cell_type": "markdown",
   "metadata": {
    "slideshow": {
     "slide_type": "fragment"
    }
   },
   "source": [
    "**Code breakdown:**\n",
    "\n",
    "| Code | Description |\n",
    "|:-----|:------------|\n",
    "|`ess18` | The object we want to save |\n",
    "|`file = \"my_ess2018dk.csv\"` | The filename - .csv for comma-separated values |\n",
    "|`col.names = TRUE` | Whether to store column names (in this case yes) |\n",
    "|`row.names = FALSE` | Whether to store row names (in this case no) |"
   ]
  },
  {
   "cell_type": "markdown",
   "metadata": {
    "slideshow": {
     "slide_type": "fragment"
    }
   },
   "source": [
    "A .csv-file is a multi-platform format and can be loaded by most statistical software (Excel, Stata, etc.)."
   ]
  }
 ],
 "metadata": {
  "kernelspec": {
   "display_name": "R",
   "language": "R",
   "name": "ir"
  },
  "language_info": {
   "codemirror_mode": "r",
   "file_extension": ".r",
   "mimetype": "text/x-r-source",
   "name": "R",
   "pygments_lexer": "r",
   "version": "4.1.1"
  }
 },
 "nbformat": 4,
 "nbformat_minor": 4
}
