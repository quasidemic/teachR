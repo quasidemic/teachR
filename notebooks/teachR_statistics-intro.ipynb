{
 "cells": [
  {
   "cell_type": "code",
   "execution_count": 11,
   "id": "4d3420c2-9fd0-4a09-b792-26e38c3f10f2",
   "metadata": {},
   "outputs": [
    {
     "name": "stderr",
     "output_type": "stream",
     "text": [
      "\u001b[1mRows: \u001b[22m\u001b[34m1572\u001b[39m \u001b[1mColumns: \u001b[22m\u001b[34m16\u001b[39m\n",
      "\n",
      "\u001b[36m--\u001b[39m \u001b[1mColumn specification\u001b[22m \u001b[36m------------------------------------------------------------------------------------------------\u001b[39m\n",
      "\u001b[1mDelimiter:\u001b[22m \",\"\n",
      "\u001b[31mchr\u001b[39m  (6): vote, prtvtddk, lvpntyr, tygrtr, gndr, edlvddk\n",
      "\u001b[32mdbl\u001b[39m (10): idno, netustm, ppltrst, yrbrn, eduyrs, wkhct, wkhtot, grspnum, frl...\n",
      "\n",
      "\n",
      "\u001b[36mi\u001b[39m Use \u001b[30m\u001b[47m\u001b[30m\u001b[47m`spec()`\u001b[47m\u001b[30m\u001b[49m\u001b[39m to retrieve the full column specification for this data.\n",
      "\u001b[36mi\u001b[39m Specify the column types or set \u001b[30m\u001b[47m\u001b[30m\u001b[47m`show_col_types = FALSE`\u001b[47m\u001b[30m\u001b[49m\u001b[39m to quiet this message.\n",
      "\n"
     ]
    }
   ],
   "source": [
    "# prep\n",
    "\n",
    "library(tidyverse)\n",
    "ess18 <- read_csv(\"https://github.com/CALDISS-AAU/workshop_R-intro/raw/master/data/ESS2018DK_subset.csv\")"
   ]
  },
  {
   "cell_type": "code",
   "execution_count": 12,
   "id": "d4ee3aa9-8c86-4391-8c6f-757f35badc73",
   "metadata": {},
   "outputs": [
    {
     "data": {
      "text/html": [
       "<table class=\"dataframe\">\n",
       "<caption>A tibble: 6 × 16</caption>\n",
       "<thead>\n",
       "\t<tr><th scope=col>idno</th><th scope=col>netustm</th><th scope=col>ppltrst</th><th scope=col>vote</th><th scope=col>prtvtddk</th><th scope=col>lvpntyr</th><th scope=col>tygrtr</th><th scope=col>gndr</th><th scope=col>yrbrn</th><th scope=col>edlvddk</th><th scope=col>eduyrs</th><th scope=col>wkhct</th><th scope=col>wkhtot</th><th scope=col>grspnum</th><th scope=col>frlgrsp</th><th scope=col>inwtm</th></tr>\n",
       "\t<tr><th scope=col>&lt;dbl&gt;</th><th scope=col>&lt;dbl&gt;</th><th scope=col>&lt;dbl&gt;</th><th scope=col>&lt;chr&gt;</th><th scope=col>&lt;chr&gt;</th><th scope=col>&lt;chr&gt;</th><th scope=col>&lt;chr&gt;</th><th scope=col>&lt;chr&gt;</th><th scope=col>&lt;dbl&gt;</th><th scope=col>&lt;chr&gt;</th><th scope=col>&lt;dbl&gt;</th><th scope=col>&lt;dbl&gt;</th><th scope=col>&lt;dbl&gt;</th><th scope=col>&lt;dbl&gt;</th><th scope=col>&lt;dbl&gt;</th><th scope=col>&lt;dbl&gt;</th></tr>\n",
       "</thead>\n",
       "<tbody>\n",
       "\t<tr><td> 110</td><td>180</td><td>8</td><td>Yes                 </td><td>Socialdemokratiet - The Social democrats                 </td><td>1968                                       </td><td>Never too young</td><td>Male  </td><td>1949</td><td>Kort videregående uddannelse af op til 2-3 års varighed, F.eks. Erhvervsakadem</td><td> 9</td><td>28</td><td>28</td><td>   NA</td><td>   NA</td><td>119</td></tr>\n",
       "\t<tr><td> 705</td><td> 60</td><td>5</td><td>Yes                 </td><td>Det Konservative Folkeparti - Conservative People's Party</td><td>1976                                       </td><td>67             </td><td>Male  </td><td>1958</td><td>Kort videregående uddannelse af op til 2-3 års varighed, F.eks. Erhvervsakadem</td><td>22</td><td>37</td><td>45</td><td>   NA</td><td>   NA</td><td> 55</td></tr>\n",
       "\t<tr><td>1327</td><td>240</td><td>5</td><td>NA                  </td><td>NA                                                       </td><td>Still in parental home, never left 2 months</td><td>NA             </td><td>Male  </td><td>2000</td><td>Folkeskole 9.-10. klasse                                                      </td><td>11</td><td>37</td><td>37</td><td>   NA</td><td>   NA</td><td> 37</td></tr>\n",
       "\t<tr><td>3760</td><td>300</td><td>7</td><td>Not eligible to vote</td><td>NA                                                       </td><td>Still in parental home, never left 2 months</td><td>40             </td><td>Male  </td><td>2002</td><td>Folkeskole 9.-10. klasse                                                      </td><td> 9</td><td> 2</td><td> 2</td><td>  200</td><td>   NA</td><td> 43</td></tr>\n",
       "\t<tr><td>4658</td><td> 90</td><td>8</td><td>Yes                 </td><td>NA                                                       </td><td>1974                                       </td><td>50             </td><td>Female</td><td>1956</td><td>Kort videregående uddannelse af op til 2-3 års varighed, F.eks. Erhvervsakadem</td><td> 4</td><td>30</td><td>30</td><td>   NA</td><td>   NA</td><td> 62</td></tr>\n",
       "\t<tr><td>5816</td><td> 90</td><td>7</td><td>Yes                 </td><td>SF Socialistisk Folkeparti - Socialist People's Party    </td><td>1994                                       </td><td>60             </td><td>Male  </td><td>1974</td><td>Mellemlang videregående uddannelse af 3-4 års varighed. Professionsbachelorer,</td><td>35</td><td>37</td><td>37</td><td>37000</td><td>35000</td><td> 61</td></tr>\n",
       "</tbody>\n",
       "</table>\n"
      ],
      "text/latex": [
       "A tibble: 6 × 16\n",
       "\\begin{tabular}{llllllllllllllll}\n",
       " idno & netustm & ppltrst & vote & prtvtddk & lvpntyr & tygrtr & gndr & yrbrn & edlvddk & eduyrs & wkhct & wkhtot & grspnum & frlgrsp & inwtm\\\\\n",
       " <dbl> & <dbl> & <dbl> & <chr> & <chr> & <chr> & <chr> & <chr> & <dbl> & <chr> & <dbl> & <dbl> & <dbl> & <dbl> & <dbl> & <dbl>\\\\\n",
       "\\hline\n",
       "\t  110 & 180 & 8 & Yes                  & Socialdemokratiet - The Social democrats                  & 1968                                        & Never too young & Male   & 1949 & Kort videregående uddannelse af op til 2-3 års varighed, F.eks. Erhvervsakadem &  9 & 28 & 28 &    NA &    NA & 119\\\\\n",
       "\t  705 &  60 & 5 & Yes                  & Det Konservative Folkeparti - Conservative People's Party & 1976                                        & 67              & Male   & 1958 & Kort videregående uddannelse af op til 2-3 års varighed, F.eks. Erhvervsakadem & 22 & 37 & 45 &    NA &    NA &  55\\\\\n",
       "\t 1327 & 240 & 5 & NA                   & NA                                                        & Still in parental home, never left 2 months & NA              & Male   & 2000 & Folkeskole 9.-10. klasse                                                       & 11 & 37 & 37 &    NA &    NA &  37\\\\\n",
       "\t 3760 & 300 & 7 & Not eligible to vote & NA                                                        & Still in parental home, never left 2 months & 40              & Male   & 2002 & Folkeskole 9.-10. klasse                                                       &  9 &  2 &  2 &   200 &    NA &  43\\\\\n",
       "\t 4658 &  90 & 8 & Yes                  & NA                                                        & 1974                                        & 50              & Female & 1956 & Kort videregående uddannelse af op til 2-3 års varighed, F.eks. Erhvervsakadem &  4 & 30 & 30 &    NA &    NA &  62\\\\\n",
       "\t 5816 &  90 & 7 & Yes                  & SF Socialistisk Folkeparti - Socialist People's Party     & 1994                                        & 60              & Male   & 1974 & Mellemlang videregående uddannelse af 3-4 års varighed. Professionsbachelorer, & 35 & 37 & 37 & 37000 & 35000 &  61\\\\\n",
       "\\end{tabular}\n"
      ],
      "text/markdown": [
       "\n",
       "A tibble: 6 × 16\n",
       "\n",
       "| idno &lt;dbl&gt; | netustm &lt;dbl&gt; | ppltrst &lt;dbl&gt; | vote &lt;chr&gt; | prtvtddk &lt;chr&gt; | lvpntyr &lt;chr&gt; | tygrtr &lt;chr&gt; | gndr &lt;chr&gt; | yrbrn &lt;dbl&gt; | edlvddk &lt;chr&gt; | eduyrs &lt;dbl&gt; | wkhct &lt;dbl&gt; | wkhtot &lt;dbl&gt; | grspnum &lt;dbl&gt; | frlgrsp &lt;dbl&gt; | inwtm &lt;dbl&gt; |\n",
       "|---|---|---|---|---|---|---|---|---|---|---|---|---|---|---|---|\n",
       "|  110 | 180 | 8 | Yes                  | Socialdemokratiet - The Social democrats                  | 1968                                        | Never too young | Male   | 1949 | Kort videregående uddannelse af op til 2-3 års varighed, F.eks. Erhvervsakadem |  9 | 28 | 28 |    NA |    NA | 119 |\n",
       "|  705 |  60 | 5 | Yes                  | Det Konservative Folkeparti - Conservative People's Party | 1976                                        | 67              | Male   | 1958 | Kort videregående uddannelse af op til 2-3 års varighed, F.eks. Erhvervsakadem | 22 | 37 | 45 |    NA |    NA |  55 |\n",
       "| 1327 | 240 | 5 | NA                   | NA                                                        | Still in parental home, never left 2 months | NA              | Male   | 2000 | Folkeskole 9.-10. klasse                                                       | 11 | 37 | 37 |    NA |    NA |  37 |\n",
       "| 3760 | 300 | 7 | Not eligible to vote | NA                                                        | Still in parental home, never left 2 months | 40              | Male   | 2002 | Folkeskole 9.-10. klasse                                                       |  9 |  2 |  2 |   200 |    NA |  43 |\n",
       "| 4658 |  90 | 8 | Yes                  | NA                                                        | 1974                                        | 50              | Female | 1956 | Kort videregående uddannelse af op til 2-3 års varighed, F.eks. Erhvervsakadem |  4 | 30 | 30 |    NA |    NA |  62 |\n",
       "| 5816 |  90 | 7 | Yes                  | SF Socialistisk Folkeparti - Socialist People's Party     | 1994                                        | 60              | Male   | 1974 | Mellemlang videregående uddannelse af 3-4 års varighed. Professionsbachelorer, | 35 | 37 | 37 | 37000 | 35000 |  61 |\n",
       "\n"
      ],
      "text/plain": [
       "  idno netustm ppltrst vote                \n",
       "1  110 180     8       Yes                 \n",
       "2  705  60     5       Yes                 \n",
       "3 1327 240     5       NA                  \n",
       "4 3760 300     7       Not eligible to vote\n",
       "5 4658  90     8       Yes                 \n",
       "6 5816  90     7       Yes                 \n",
       "  prtvtddk                                                 \n",
       "1 Socialdemokratiet - The Social democrats                 \n",
       "2 Det Konservative Folkeparti - Conservative People's Party\n",
       "3 NA                                                       \n",
       "4 NA                                                       \n",
       "5 NA                                                       \n",
       "6 SF Socialistisk Folkeparti - Socialist People's Party    \n",
       "  lvpntyr                                     tygrtr          gndr   yrbrn\n",
       "1 1968                                        Never too young Male   1949 \n",
       "2 1976                                        67              Male   1958 \n",
       "3 Still in parental home, never left 2 months NA              Male   2000 \n",
       "4 Still in parental home, never left 2 months 40              Male   2002 \n",
       "5 1974                                        50              Female 1956 \n",
       "6 1994                                        60              Male   1974 \n",
       "  edlvddk                                                                       \n",
       "1 Kort videregående uddannelse af op til 2-3 års varighed, F.eks. Erhvervsakadem\n",
       "2 Kort videregående uddannelse af op til 2-3 års varighed, F.eks. Erhvervsakadem\n",
       "3 Folkeskole 9.-10. klasse                                                      \n",
       "4 Folkeskole 9.-10. klasse                                                      \n",
       "5 Kort videregående uddannelse af op til 2-3 års varighed, F.eks. Erhvervsakadem\n",
       "6 Mellemlang videregående uddannelse af 3-4 års varighed. Professionsbachelorer,\n",
       "  eduyrs wkhct wkhtot grspnum frlgrsp inwtm\n",
       "1  9     28    28        NA      NA   119  \n",
       "2 22     37    45        NA      NA    55  \n",
       "3 11     37    37        NA      NA    37  \n",
       "4  9      2     2       200      NA    43  \n",
       "5  4     30    30        NA      NA    62  \n",
       "6 35     37    37     37000   35000    61  "
      ]
     },
     "metadata": {},
     "output_type": "display_data"
    }
   ],
   "source": [
    "head(ess18)"
   ]
  },
  {
   "cell_type": "markdown",
   "id": "701fe61c-1742-4d81-b88e-2912ca64875d",
   "metadata": {},
   "source": [
    "## Base stats functions\n",
    "\n",
    "R has a wide range of statistical functions built in (part of base package `stats`)."
   ]
  },
  {
   "cell_type": "markdown",
   "id": "5e8e0da5-f820-4488-9617-1d03d78435ec",
   "metadata": {},
   "source": [
    "### Correlation coefficients\n",
    "\n",
    "Correlation coefficients between two columns can be calculated with `cor()`.\n",
    "\n",
    "`cor()` contains the arguement \"use\" specifying what observations to use. By default it will include all observations - including missing. The option \"complete.obs\" specifies to only calculate for complete observations."
   ]
  },
  {
   "cell_type": "code",
   "execution_count": 16,
   "id": "2fe9bca5-a191-4f59-9255-a4ce6277b743",
   "metadata": {},
   "outputs": [
    {
     "data": {
      "text/html": [
       "0.0566235892243657"
      ],
      "text/latex": [
       "0.0566235892243657"
      ],
      "text/markdown": [
       "0.0566235892243657"
      ],
      "text/plain": [
       "[1] 0.05662359"
      ]
     },
     "metadata": {},
     "output_type": "display_data"
    }
   ],
   "source": [
    "cor(ess18$eduyrs, ess18$netustm, use = \"complete.obs\")"
   ]
  },
  {
   "cell_type": "markdown",
   "id": "4e2246e2-6f34-4709-b17c-9c2292c13470",
   "metadata": {},
   "source": [
    "Can also be done as a correlation test with `cor.test()`:"
   ]
  },
  {
   "cell_type": "code",
   "execution_count": 31,
   "id": "c7f24bc1-01aa-41a1-a741-0e41ad4e9215",
   "metadata": {},
   "outputs": [
    {
     "data": {
      "text/plain": [
       "\n",
       "\tPearson's product-moment correlation\n",
       "\n",
       "data:  ess18$eduyrs and ess18$netustm\n",
       "t = 2.1091, df = 1383, p-value = 0.03511\n",
       "alternative hypothesis: true correlation is not equal to 0\n",
       "95 percent confidence interval:\n",
       " 0.003961935 0.108972044\n",
       "sample estimates:\n",
       "       cor \n",
       "0.05662359 \n"
      ]
     },
     "metadata": {},
     "output_type": "display_data"
    }
   ],
   "source": [
    "cor.test(ess18$eduyrs, ess18$netustm, use = \"complete.obs\")"
   ]
  },
  {
   "cell_type": "markdown",
   "id": "352c5968-a2aa-4f02-a745-c6ef9c340022",
   "metadata": {},
   "source": [
    "### (Student's) t-test\n",
    "\n",
    "`t.test()` performs both paired and unpaiared t-tests (left-tail, right-tail, two-tail). \n",
    "\n",
    "The main arguements are the two columns to be compared (x and y). If only x is specified, it will test whether the mean of the columns is different from zero.\n",
    "\n",
    "\"alternative\" specifies the alternative hypothesis. It defaults to a two-sided t-test (`\"two-sided\"`). Other options are `\"less\"` for left-tail and `\"greater\"` for right-tail.\n",
    "\n",
    "\"paired\" specifies whether it is a one sample or two sample t-test. It defaults to `FALSE` (unpaired).\n",
    "\n",
    "Below is a right-tail t-test testing whether people work more than they are contracted to work (paired):"
   ]
  },
  {
   "cell_type": "code",
   "execution_count": 37,
   "id": "6d246c2e-052b-46b8-b75f-2f96817d22cd",
   "metadata": {},
   "outputs": [
    {
     "data": {
      "text/plain": [
       "\n",
       "\tPaired t-test\n",
       "\n",
       "data:  ess18$wkhtot and ess18$wkhct\n",
       "t = 14.953, df = 1440, p-value < 2.2e-16\n",
       "alternative hypothesis: true difference in means is greater than 0\n",
       "95 percent confidence interval:\n",
       " 2.449922      Inf\n",
       "sample estimates:\n",
       "mean of the differences \n",
       "               2.752949 \n"
      ]
     },
     "metadata": {},
     "output_type": "display_data"
    }
   ],
   "source": [
    "t.test(ess18$wkhtot, ess18$wkhct, alternative = \"greater\", paired = TRUE)"
   ]
  },
  {
   "cell_type": "markdown",
   "id": "34466539-e807-4ecc-82b9-42b2ef9dbce8",
   "metadata": {},
   "source": [
    "#### T-test between two groups\n",
    "\n",
    "As an alternative to specifying two columns to compare, you can specify the hypothesis test as a formula.\n",
    "\n",
    "Specifying hypothesis via formulas is a general feature in R and is used for various statistical modelling. \n",
    "\n",
    "Formulas in `t.test()` are specified as: `left-side ~ right-side`. To test differences in means between groups, right-side should be a factor with two levels indicating the groups.\n",
    "\n",
    "In the standard `t.test()` function, the formula is specified first and then the data. The test belows tests differences in mean work hours between genders:"
   ]
  },
  {
   "cell_type": "code",
   "execution_count": 42,
   "id": "df9ee2fa-2340-4a25-9a44-d348998f93f0",
   "metadata": {},
   "outputs": [
    {
     "data": {
      "text/plain": [
       "\n",
       "\tWelch Two Sample t-test\n",
       "\n",
       "data:  wkhtot by gndr\n",
       "t = -7.2195, df = 1499.2, p-value = 8.26e-13\n",
       "alternative hypothesis: true difference in means between group Female and group Male is not equal to 0\n",
       "95 percent confidence interval:\n",
       " -6.095408 -3.490832\n",
       "sample estimates:\n",
       "mean in group Female   mean in group Male \n",
       "            33.56140             38.35452 \n"
      ]
     },
     "metadata": {},
     "output_type": "display_data"
    }
   ],
   "source": [
    "t.test(wkhtot ~ gndr, ess18)"
   ]
  },
  {
   "cell_type": "code",
   "execution_count": null,
   "id": "66c796eb-b50d-42dd-be9c-0cc384392880",
   "metadata": {},
   "outputs": [],
   "source": []
  },
  {
   "cell_type": "markdown",
   "id": "d1c29c51-40f8-4684-935e-10fc5600871e",
   "metadata": {},
   "source": [
    "https://campus.datacamp.com/courses/hypothesis-testing-in-r/\n",
    "\n",
    "- korrelation med cor()\n",
    "- calculation z-scores and p-values\n",
    "- confidence intervals\n",
    "- chisquare med chisq.test (https://www.tutorialspoint.com/r/r_chi_square_tests.htm)\n",
    "- ttest\n",
    "\n",
    "https://infer.netlify.app/reference/index.html\n",
    "\n",
    "https://rdrr.io/r/stats/prop.test.html"
   ]
  },
  {
   "cell_type": "code",
   "execution_count": null,
   "id": "11f4f4ef-59af-48d4-899a-07ac3c2cea1e",
   "metadata": {},
   "outputs": [],
   "source": [
    "late_prop_hyp <- 0.06\n",
    "\n",
    "# Calculate the standard error\n",
    "std_error <- late_shipments_boot_distn %>% \n",
    "  summarize(sd_late_prop = sd(late_prop)) %>% \n",
    "  pull(sd_late_prop)\n",
    "\n",
    "# Find z-score of late_prop_samp\n",
    "z_score <- (late_prop_samp - late_prop_hyp) / std_error\n",
    "\n",
    "# See the results\n",
    "z_score"
   ]
  },
  {
   "cell_type": "code",
   "execution_count": null,
   "id": "8112ce35-0017-44b7-a949-29d2a467cdca",
   "metadata": {},
   "outputs": [],
   "source": [
    "## Right tail\n",
    "\n",
    "# Calculate the z-score of late_prop_samp\n",
    "z_score <- (late_prop_samp - late_prop_hyp) / std_error\n",
    "\n",
    "# Calculate the p-value\n",
    "p_value <- pnorm(z_score, lower.tail = FALSE)\n",
    "                 \n",
    "# See the result\n",
    "p_value    "
   ]
  },
  {
   "cell_type": "code",
   "execution_count": null,
   "id": "430d2a58-a225-4406-b89b-e7d8f5bf674a",
   "metadata": {},
   "outputs": [],
   "source": [
    "# Calculate 95% confidence interval using quantile method\n",
    "conf_int_quantile <- late_shipments_boot_distn %>%\n",
    "  summarize(\n",
    "    lower = quantile(prop_late_shipments, 0.025),\n",
    "    upper = quantile(prop_late_shipments, 0.975)\n",
    "  )\n",
    "\n",
    "# See the result\n",
    "conf_int_quantile"
   ]
  },
  {
   "cell_type": "code",
   "execution_count": null,
   "id": "70875722-4c38-4cfe-a7ef-33e54e3f2a4b",
   "metadata": {},
   "outputs": [],
   "source": [
    "## Two sample mean test statistic by hand\n",
    "# Calculate the numerator of the test statistic\n",
    "numerator <- xbar_no - xbar_yes # means for the two groups\n",
    " \n",
    "# Calculate the denominator of the test statistic\n",
    "denominator <- sqrt(s_no ^ 2 / n_no + s_yes ^ 2 / n_yes) # s for sd n for sample size\n",
    "\n",
    "# Calculate the test statistic\n",
    "t_stat <- numerator / denominator\n",
    "\n",
    "# See the result\n",
    "t_stat\n",
    "\n",
    "# Calculate the degrees of freedom\n",
    "degrees_of_freedom <- n_no + n_yes - 2 # n - number of observations\n",
    "\n",
    "# Calculate the p-value from the test stat\n",
    "p_value <- pt(t_stat, df = degrees_of_freedom)\n",
    "\n",
    "# See the result\n",
    "p_value"
   ]
  },
  {
   "cell_type": "code",
   "execution_count": null,
   "id": "a780db35-356f-4195-9ab3-d344938973c2",
   "metadata": {},
   "outputs": [],
   "source": [
    "# Conduct a t-test on diff\n",
    "test_results <- t.test(sample_dem_data$diff, alternative = \"greater\") # greater - right tail, lesser - left tail. diff-column differences in between two measures\n",
    "\n",
    "# See the results\n",
    "test_results"
   ]
  },
  {
   "cell_type": "code",
   "execution_count": null,
   "id": "dc3a2509-e24e-454e-824e-2c8157fb64ea",
   "metadata": {},
   "outputs": [],
   "source": [
    "# Conduct a paired t-test on dem_percent_12 and dem_percent_16\n",
    "test_results <- t.test(\n",
    "  x = sample_dem_data$dem_percent_12,\n",
    "  y = sample_dem_data$dem_percent_16,\n",
    "  paired = TRUE,\n",
    "  alternative = \"greater\"\n",
    ")\n",
    "\n",
    "# See the results\n",
    "test_results"
   ]
  },
  {
   "cell_type": "code",
   "execution_count": null,
   "id": "ad7c2c07-96e5-4e1c-acf9-4e53a3fb7018",
   "metadata": {},
   "outputs": [],
   "source": [
    "# From previous step\n",
    "mdl_pack_price_vs_shipment_mode <- lm(pack_price ~ shipment_mode, data = late_shipments)\n",
    "\n",
    "# Perform ANOVA on the regression model\n",
    "anova(mdl_pack_price_vs_shipment_mode)"
   ]
  },
  {
   "cell_type": "code",
   "execution_count": null,
   "id": "b2ef2677-9ec9-40f3-a976-d05cbf7ef939",
   "metadata": {},
   "outputs": [],
   "source": [
    "# proportion tests\n",
    "\n",
    "# Hypothesize that the proportion of late shipments is 6%\n",
    "p_0 <- 0.06\n",
    "\n",
    "# Calculate the sample proportion of late shipments\n",
    "p_hat <- late_shipments %>%\n",
    "  summarize(prop_late = mean(late == \"Yes\")) %>%\n",
    "  pull(prop_late)\n",
    "\n",
    "# Calculate the sample size\n",
    "n <- nrow(late_shipments)\n",
    "\n",
    "# From previous step\n",
    "p_0 <- 0.06\n",
    "p_hat <- late_shipments %>%\n",
    "  summarize(prop_late = mean(late == \"Yes\")) %>%\n",
    "  pull(prop_late)\n",
    "n <- nrow(late_shipments)\n",
    "\n",
    "# Calculate the numerator of the test statistic\n",
    "numerator <- p_hat - p_0\n",
    "\n",
    "# Calculate the denominator of the test statistic\n",
    "denominator <- sqrt(p_0 * (1 - p_0) / n)\n",
    "\n",
    "# Calculate the test statistic\n",
    "z_score <- numerator / denominator\n",
    "\n",
    "# See the result\n",
    "z_score\n",
    "\n",
    "# From previous step\n",
    "p_0 <- 0.06\n",
    "p_hat <- late_shipments %>%\n",
    "  summarize(prop_late = mean(late == \"Yes\")) %>%\n",
    "  pull(prop_late)\n",
    "n <- nrow(late_shipments)\n",
    "numerator <- p_hat - p_0\n",
    "denominator <- sqrt(p_0 * (1 - p_0) / n)\n",
    "z_score <- numerator / denominator\n",
    "\n",
    "# Calculate the p-value from the z-score\n",
    "p_value <- pnorm(z_score, lower.tail = FALSE)\n",
    "\n",
    "# See the result\n",
    "p_value"
   ]
  },
  {
   "cell_type": "code",
   "execution_count": null,
   "id": "8ac9a610-4726-4ecd-881e-fdafa38f3964",
   "metadata": {},
   "outputs": [],
   "source": [
    "# Perform a chi-square test of independence on\n",
    "# freight_cost_group and vendor_inco_term\n",
    "test_results <- late_shipments %>% \n",
    "  chisq_test(freight_cost_group ~ vendor_inco_term)\n",
    "\n",
    "# See the results\n",
    "test_results"
   ]
  },
  {
   "cell_type": "code",
   "execution_count": null,
   "id": "8c51a57a-e921-48a5-a803-f74f60ec7cd8",
   "metadata": {},
   "outputs": [],
   "source": [
    "## simulation based hypothesis testing - proportions\n",
    "\n",
    "# From previous steps\n",
    "null_distn <- late_shipments %>% \n",
    "  specify(\n",
    "    late ~ freight_cost_group, \n",
    "    success = \"Yes\"\n",
    "  ) %>% \n",
    "  hypothesize(null = \"independence\") %>% \n",
    "  generate(reps = 2000, type = \"permute\") %>% \n",
    "  calculate(\n",
    "    stat = \"diff in props\", \n",
    "    order = c(\"expensive\", \"reasonable\")\n",
    "  )\n",
    "obs_stat <- late_shipments %>% \n",
    "  specify(\n",
    "    late ~ freight_cost_group, \n",
    "    success = \"Yes\"\n",
    "  ) %>% \n",
    "  calculate(\n",
    "    stat = \"diff in props\", \n",
    "    order = c(\"expensive\", \"reasonable\")\n",
    "  )\n",
    "\n",
    "# Visualize the null dist'n, adding a vertical line at\n",
    "# the observed statistic\n",
    "visualize(null_distn) +\n",
    "  geom_vline(aes(xintercept = stat), data = obs_stat)\n",
    "\n",
    "# Get the p-value\n",
    "p_value <- get_p_value(\n",
    "  null_distn, obs_stat, \n",
    "  direction = \"greater\"\n",
    ")\n",
    "\n",
    "# See the result\n",
    "p_value"
   ]
  },
  {
   "cell_type": "code",
   "execution_count": null,
   "id": "9d7f3de1-037d-44b3-bab4-008f10f1ba71",
   "metadata": {},
   "outputs": [],
   "source": [
    "## simulation based hypothesis testing - means\n",
    "\n",
    "# From previous steps\n",
    "null_distn <- late_shipments %>% \n",
    "  specify(weight_kilograms ~ late) %>% \n",
    "  hypothesize(null = \"independence\") %>% \n",
    "  generate(reps = 1000, type = \"permute\") %>% \n",
    "  calculate(stat = \"diff in means\", order = c(\"No\", \"Yes\"))\n",
    "obs_stat <- late_shipments %>% \n",
    "  specify(weight_kilograms ~ late) %>% \n",
    "  calculate(stat = \"diff in means\", order = c(\"No\", \"Yes\"))\n",
    "\n",
    "# Get the p-value\n",
    "p_value <- get_p_value(\n",
    "  null_distn, obs_stat,\n",
    "  direction = \"less\"\n",
    ")\n",
    "\n",
    "# See the result\n",
    "p_value"
   ]
  }
 ],
 "metadata": {
  "kernelspec": {
   "display_name": "R",
   "language": "R",
   "name": "ir"
  },
  "language_info": {
   "codemirror_mode": "r",
   "file_extension": ".r",
   "mimetype": "text/x-r-source",
   "name": "R",
   "pygments_lexer": "r",
   "version": "4.1.1"
  }
 },
 "nbformat": 4,
 "nbformat_minor": 5
}
