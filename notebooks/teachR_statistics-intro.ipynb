{
 "cells": [
  {
   "cell_type": "code",
   "execution_count": 1,
   "id": "4d3420c2-9fd0-4a09-b792-26e38c3f10f2",
   "metadata": {},
   "outputs": [
    {
     "name": "stderr",
     "output_type": "stream",
     "text": [
      "-- \u001b[1mAttaching packages\u001b[22m ------------------------------------------------------------------------------- tidyverse 1.3.1 --\n",
      "\n",
      "\u001b[32mv\u001b[39m \u001b[34mggplot2\u001b[39m 3.3.5     \u001b[32mv\u001b[39m \u001b[34mpurrr  \u001b[39m 0.3.4\n",
      "\u001b[32mv\u001b[39m \u001b[34mtibble \u001b[39m 3.1.6     \u001b[32mv\u001b[39m \u001b[34mdplyr  \u001b[39m 1.0.7\n",
      "\u001b[32mv\u001b[39m \u001b[34mtidyr  \u001b[39m 1.1.4     \u001b[32mv\u001b[39m \u001b[34mstringr\u001b[39m 1.4.0\n",
      "\u001b[32mv\u001b[39m \u001b[34mreadr  \u001b[39m 2.0.2     \u001b[32mv\u001b[39m \u001b[34mforcats\u001b[39m 0.5.1\n",
      "\n",
      "-- \u001b[1mConflicts\u001b[22m ---------------------------------------------------------------------------------- tidyverse_conflicts() --\n",
      "\u001b[31mx\u001b[39m \u001b[34mdplyr\u001b[39m::\u001b[32mfilter()\u001b[39m masks \u001b[34mstats\u001b[39m::filter()\n",
      "\u001b[31mx\u001b[39m \u001b[34mdplyr\u001b[39m::\u001b[32mlag()\u001b[39m    masks \u001b[34mstats\u001b[39m::lag()\n",
      "\n",
      "\u001b[1mRows: \u001b[22m\u001b[34m1572\u001b[39m \u001b[1mColumns: \u001b[22m\u001b[34m16\u001b[39m\n",
      "\n",
      "\u001b[36m--\u001b[39m \u001b[1mColumn specification\u001b[22m \u001b[36m------------------------------------------------------------------------------------------------\u001b[39m\n",
      "\u001b[1mDelimiter:\u001b[22m \",\"\n",
      "\u001b[31mchr\u001b[39m  (6): vote, prtvtddk, lvpntyr, tygrtr, gndr, edlvddk\n",
      "\u001b[32mdbl\u001b[39m (10): idno, netustm, ppltrst, yrbrn, eduyrs, wkhct, wkhtot, grspnum, frl...\n",
      "\n",
      "\n",
      "\u001b[36mi\u001b[39m Use \u001b[30m\u001b[47m\u001b[30m\u001b[47m`spec()`\u001b[47m\u001b[30m\u001b[49m\u001b[39m to retrieve the full column specification for this data.\n",
      "\u001b[36mi\u001b[39m Specify the column types or set \u001b[30m\u001b[47m\u001b[30m\u001b[47m`show_col_types = FALSE`\u001b[47m\u001b[30m\u001b[49m\u001b[39m to quiet this message.\n",
      "\n"
     ]
    }
   ],
   "source": [
    "# prep\n",
    "\n",
    "library(tidyverse)\n",
    "ess18 <- read_csv(\"https://github.com/CALDISS-AAU/workshop_R-intro/raw/master/data/ESS2018DK_subset.csv\")"
   ]
  },
  {
   "cell_type": "markdown",
   "id": "53b42763-dde5-4fec-bf39-f5395be366bb",
   "metadata": {},
   "source": [
    "# Simple hypothesis testing in R"
   ]
  },
  {
   "cell_type": "markdown",
   "id": "701fe61c-1742-4d81-b88e-2912ca64875d",
   "metadata": {},
   "source": [
    "## Base stats functions\n",
    "\n",
    "R has a wide range of statistical functions built in (part of base package `stats`)."
   ]
  },
  {
   "cell_type": "markdown",
   "id": "5e8e0da5-f820-4488-9617-1d03d78435ec",
   "metadata": {},
   "source": [
    "### Correlation coefficients\n",
    "\n",
    "Correlation coefficients between two columns can be calculated with `cor()`.\n",
    "\n",
    "`cor()` contains the arguement \"use\" specifying what observations to use. By default it will include all observations - including missing. The option \"complete.obs\" specifies to only calculate for complete observations."
   ]
  },
  {
   "cell_type": "code",
   "execution_count": 16,
   "id": "2fe9bca5-a191-4f59-9255-a4ce6277b743",
   "metadata": {},
   "outputs": [
    {
     "data": {
      "text/html": [
       "0.0566235892243657"
      ],
      "text/latex": [
       "0.0566235892243657"
      ],
      "text/markdown": [
       "0.0566235892243657"
      ],
      "text/plain": [
       "[1] 0.05662359"
      ]
     },
     "metadata": {},
     "output_type": "display_data"
    }
   ],
   "source": [
    "cor(ess18$eduyrs, ess18$netustm, use = \"complete.obs\")"
   ]
  },
  {
   "cell_type": "markdown",
   "id": "4e2246e2-6f34-4709-b17c-9c2292c13470",
   "metadata": {},
   "source": [
    "Can also be done as a correlation test with `cor.test()`:"
   ]
  },
  {
   "cell_type": "code",
   "execution_count": 31,
   "id": "c7f24bc1-01aa-41a1-a741-0e41ad4e9215",
   "metadata": {},
   "outputs": [
    {
     "data": {
      "text/plain": [
       "\n",
       "\tPearson's product-moment correlation\n",
       "\n",
       "data:  ess18$eduyrs and ess18$netustm\n",
       "t = 2.1091, df = 1383, p-value = 0.03511\n",
       "alternative hypothesis: true correlation is not equal to 0\n",
       "95 percent confidence interval:\n",
       " 0.003961935 0.108972044\n",
       "sample estimates:\n",
       "       cor \n",
       "0.05662359 \n"
      ]
     },
     "metadata": {},
     "output_type": "display_data"
    }
   ],
   "source": [
    "cor.test(ess18$eduyrs, ess18$netustm, use = \"complete.obs\")"
   ]
  },
  {
   "cell_type": "markdown",
   "id": "352c5968-a2aa-4f02-a745-c6ef9c340022",
   "metadata": {},
   "source": [
    "### (Student's) t-test\n",
    "\n",
    "`t.test()` performs both paired and unpaiared t-tests (left-tail, right-tail, two-tail). \n",
    "\n",
    "The main arguements are the two columns to be compared (x and y). If only x is specified, it will test whether the mean of the columns is different from zero.\n",
    "\n",
    "\"alternative\" specifies the alternative hypothesis. It defaults to a two-sided t-test (`\"two-sided\"`). Other options are `\"less\"` for left-tail and `\"greater\"` for right-tail.\n",
    "\n",
    "\"paired\" specifies whether it is a one sample or two sample t-test. It defaults to `FALSE` (unpaired).\n",
    "\n",
    "Below is a right-tail t-test testing whether people work more than they are contracted to work (paired):"
   ]
  },
  {
   "cell_type": "code",
   "execution_count": 37,
   "id": "6d246c2e-052b-46b8-b75f-2f96817d22cd",
   "metadata": {},
   "outputs": [
    {
     "data": {
      "text/plain": [
       "\n",
       "\tPaired t-test\n",
       "\n",
       "data:  ess18$wkhtot and ess18$wkhct\n",
       "t = 14.953, df = 1440, p-value < 2.2e-16\n",
       "alternative hypothesis: true difference in means is greater than 0\n",
       "95 percent confidence interval:\n",
       " 2.449922      Inf\n",
       "sample estimates:\n",
       "mean of the differences \n",
       "               2.752949 \n"
      ]
     },
     "metadata": {},
     "output_type": "display_data"
    }
   ],
   "source": [
    "t.test(ess18$wkhtot, ess18$wkhct, alternative = \"greater\", paired = TRUE)"
   ]
  },
  {
   "cell_type": "markdown",
   "id": "34466539-e807-4ecc-82b9-42b2ef9dbce8",
   "metadata": {},
   "source": [
    "#### T-test between two groups\n",
    "\n",
    "As an alternative to specifying two columns to compare, you can specify the hypothesis test as a formula.\n",
    "\n",
    "Specifying hypothesis via formulas is a general feature in R and is used for various statistical modelling. \n",
    "\n",
    "Formulas in `t.test()` are specified as: `left-side ~ right-side`. To test differences in means between groups, right-side should be a factor with two levels indicating the groups.\n",
    "\n",
    "In the standard `t.test()` function, the formula is specified first and then the data. The test belows tests differences in mean work hours between genders:"
   ]
  },
  {
   "cell_type": "code",
   "execution_count": 42,
   "id": "df9ee2fa-2340-4a25-9a44-d348998f93f0",
   "metadata": {},
   "outputs": [
    {
     "data": {
      "text/plain": [
       "\n",
       "\tWelch Two Sample t-test\n",
       "\n",
       "data:  wkhtot by gndr\n",
       "t = -7.2195, df = 1499.2, p-value = 8.26e-13\n",
       "alternative hypothesis: true difference in means between group Female and group Male is not equal to 0\n",
       "95 percent confidence interval:\n",
       " -6.095408 -3.490832\n",
       "sample estimates:\n",
       "mean in group Female   mean in group Male \n",
       "            33.56140             38.35452 \n"
      ]
     },
     "metadata": {},
     "output_type": "display_data"
    }
   ],
   "source": [
    "t.test(wkhtot ~ gndr, ess18)"
   ]
  },
  {
   "cell_type": "markdown",
   "id": "33fa05bc-8721-40da-8615-fb19a96ad60d",
   "metadata": {},
   "source": [
    "### Calculating a t-test by hand\n",
    "\n",
    "One benefit of using R (in terms of teaching) is that one can demonstrate how a t-test is calculated manually directly in R:"
   ]
  },
  {
   "cell_type": "code",
   "execution_count": 39,
   "id": "34c39240-678d-4fc5-aa54-708d1c2e174b",
   "metadata": {},
   "outputs": [
    {
     "data": {
      "text/html": [
       "14.9527980779394"
      ],
      "text/latex": [
       "14.9527980779394"
      ],
      "text/markdown": [
       "14.9527980779394"
      ],
      "text/plain": [
       "[1] 14.9528"
      ]
     },
     "metadata": {},
     "output_type": "display_data"
    }
   ],
   "source": [
    "wkh_difs <- na.omit(ess18$wkhtot - ess18$wkhct)\n",
    "wkh_meandif <- mean(wkh_difs)\n",
    "sd_wkhdif <- sd(wkh_difs)\n",
    "n_obs <- length(wkh_difs)\n",
    "\n",
    "t_stat <- wkh_meandif / (sd_wkhdif/sqrt(n_obs))\n",
    "\n",
    "t_stat"
   ]
  },
  {
   "cell_type": "code",
   "execution_count": 40,
   "id": "4bc807a2-c4b0-49a6-b4cc-94b31bc84a4b",
   "metadata": {},
   "outputs": [
    {
     "data": {
      "text/html": [
       "2.10820282446904e-47"
      ],
      "text/latex": [
       "2.10820282446904e-47"
      ],
      "text/markdown": [
       "2.10820282446904e-47"
      ],
      "text/plain": [
       "[1] 2.108203e-47"
      ]
     },
     "metadata": {},
     "output_type": "display_data"
    }
   ],
   "source": [
    "p_value <- pt(t_stat, df = (n_obs-1), lower.tail = FALSE)\n",
    "p_value"
   ]
  },
  {
   "cell_type": "markdown",
   "id": "8f056e1e-eec4-42d2-9ae0-e358a36490f5",
   "metadata": {},
   "source": [
    "### Chi-square test\n",
    "\n",
    "R also has a built-in chi-squared test of independence (`chisq.test`). This works either on table objects (using only the x argument) or by specifying the two vectors to test (specifying them as the x and y argument respectively):"
   ]
  },
  {
   "cell_type": "code",
   "execution_count": 4,
   "id": "286feecb-2227-4c1f-9d54-450b0d3a484e",
   "metadata": {},
   "outputs": [
    {
     "data": {
      "text/plain": [
       "\n",
       "\tPearson's Chi-squared test\n",
       "\n",
       "data:  gndr_vote_table\n",
       "X-squared = 4.2257, df = 2, p-value = 0.1209\n"
      ]
     },
     "metadata": {},
     "output_type": "display_data"
    }
   ],
   "source": [
    "# Chi-sqared test on table\n",
    "\n",
    "gndr_vote_table <- table(ess18$gndr, ess18$vote)\n",
    "chisq.test(gndr_vote_table)"
   ]
  },
  {
   "cell_type": "code",
   "execution_count": 5,
   "id": "dffda08e-a24d-4c37-8eb1-759c0baad493",
   "metadata": {},
   "outputs": [
    {
     "data": {
      "text/plain": [
       "\n",
       "\tPearson's Chi-squared test\n",
       "\n",
       "data:  ess18$gndr and ess18$vote\n",
       "X-squared = 4.2257, df = 2, p-value = 0.1209\n"
      ]
     },
     "metadata": {},
     "output_type": "display_data"
    }
   ],
   "source": [
    "# Chi-squared test on two vectors\n",
    "\n",
    "chisq.test(ess18$gndr, ess18$vote)"
   ]
  },
  {
   "cell_type": "markdown",
   "id": "4904149a-41a8-4564-b286-223d5f9c31b6",
   "metadata": {},
   "source": [
    "## Hypothesis testing with `infer` (from `tidymodels`)\n",
    "\n",
    "A downside of the built-in functions is that they do not have a common syntax: The way we set up the test varies depending on the test function. \n",
    "\n",
    "The \"infer\" package (part of tidymodels) offers a common syntax for hypothesis testing in R: https://infer.netlify.app/reference/index.html\n",
    "\n",
    "**Features include**\n",
    "- Common syntax for specifying hypothesis\n",
    "- Simulation-based hypothesis testing\n",
    "- Easy to use functions for confidence intervals, t-tests- chisquared-test etc.\n",
    "- Results are always returned as a data frame (tibble)\n",
    "\n",
    "In the example below, the two-sample t-test from before (comparing working hours between genders) is calculated using `infer`; here as a right-tail t-test:"
   ]
  },
  {
   "cell_type": "code",
   "execution_count": 60,
   "id": "166cd21a-b87a-427b-95ca-f37ccb66b0ac",
   "metadata": {},
   "outputs": [
    {
     "name": "stderr",
     "output_type": "stream",
     "text": [
      "Warning message:\n",
      "\"The statistic is based on a difference or ratio; by default, for difference-based statistics, the explanatory variable is subtracted in the order \"Female\" - \"Male\", or divided in the order \"Female\" / \"Male\" for ratio-based statistics. To specify this order yourself, supply `order = c(\"Female\", \"Male\")`.\"\n"
     ]
    },
    {
     "data": {
      "text/html": [
       "<table class=\"dataframe\">\n",
       "<caption>A tibble: 1 × 7</caption>\n",
       "<thead>\n",
       "\t<tr><th scope=col>statistic</th><th scope=col>t_df</th><th scope=col>p_value</th><th scope=col>alternative</th><th scope=col>estimate</th><th scope=col>lower_ci</th><th scope=col>upper_ci</th></tr>\n",
       "\t<tr><th scope=col>&lt;dbl&gt;</th><th scope=col>&lt;dbl&gt;</th><th scope=col>&lt;dbl&gt;</th><th scope=col>&lt;chr&gt;</th><th scope=col>&lt;dbl&gt;</th><th scope=col>&lt;dbl&gt;</th><th scope=col>&lt;dbl&gt;</th></tr>\n",
       "</thead>\n",
       "<tbody>\n",
       "\t<tr><td>-7.219549</td><td>1499.21</td><td>4.130186e-13</td><td>less</td><td>-4.79312</td><td>-Inf</td><td>-3.700412</td></tr>\n",
       "</tbody>\n",
       "</table>\n"
      ],
      "text/latex": [
       "A tibble: 1 × 7\n",
       "\\begin{tabular}{lllllll}\n",
       " statistic & t\\_df & p\\_value & alternative & estimate & lower\\_ci & upper\\_ci\\\\\n",
       " <dbl> & <dbl> & <dbl> & <chr> & <dbl> & <dbl> & <dbl>\\\\\n",
       "\\hline\n",
       "\t -7.219549 & 1499.21 & 4.130186e-13 & less & -4.79312 & -Inf & -3.700412\\\\\n",
       "\\end{tabular}\n"
      ],
      "text/markdown": [
       "\n",
       "A tibble: 1 × 7\n",
       "\n",
       "| statistic &lt;dbl&gt; | t_df &lt;dbl&gt; | p_value &lt;dbl&gt; | alternative &lt;chr&gt; | estimate &lt;dbl&gt; | lower_ci &lt;dbl&gt; | upper_ci &lt;dbl&gt; |\n",
       "|---|---|---|---|---|---|---|\n",
       "| -7.219549 | 1499.21 | 4.130186e-13 | less | -4.79312 | -Inf | -3.700412 |\n",
       "\n"
      ],
      "text/plain": [
       "  statistic t_df    p_value      alternative estimate lower_ci upper_ci \n",
       "1 -7.219549 1499.21 4.130186e-13 less        -4.79312 -Inf     -3.700412"
      ]
     },
     "metadata": {},
     "output_type": "display_data"
    }
   ],
   "source": [
    "library(infer)\n",
    "\n",
    "ess18 %>%\n",
    "    t_test(wkhtot ~ gndr, alternative = \"less\")"
   ]
  },
  {
   "cell_type": "markdown",
   "id": "e52c2bf8-a89f-4ab8-8259-af82f322995a",
   "metadata": {},
   "source": [
    "### Simulation-based hypothesis testing\n",
    "\n",
    "Below the test statistic is visualized alongside simulated null-hypothesis data based on the actual data:"
   ]
  },
  {
   "cell_type": "code",
   "execution_count": 63,
   "id": "5b68178b-b457-41a0-8f79-4aad0f37f093",
   "metadata": {},
   "outputs": [
    {
     "name": "stderr",
     "output_type": "stream",
     "text": [
      "Warning message:\n",
      "\"Removed 70 rows containing missing values.\"\n",
      "Warning message:\n",
      "\"The statistic is based on a difference or ratio; by default, for difference-based statistics, the explanatory variable is subtracted in the order \"Female\" - \"Male\", or divided in the order \"Female\" / \"Male\" for ratio-based statistics. To specify this order yourself, supply `order = c(\"Female\", \"Male\")` to the calculate() function.\"\n",
      "Warning message:\n",
      "\"Removed 70 rows containing missing values.\"\n",
      "Warning message:\n",
      "\"The statistic is based on a difference or ratio; by default, for difference-based statistics, the explanatory variable is subtracted in the order \"Female\" - \"Male\", or divided in the order \"Female\" / \"Male\" for ratio-based statistics. To specify this order yourself, supply `order = c(\"Female\", \"Male\")` to the calculate() function.\"\n",
      "`stat_bin()` using `bins = 30`. Pick better value with `binwidth`.\n",
      "\n"
     ]
    },
    {
     "data": {
      "image/png": "[encoded data removed]",
      "text/plain": [
       "plot without title"
      ]
     },
     "metadata": {
      "image/png": {
       "height": 420,
       "width": 420
      }
     },
     "output_type": "display_data"
    }
   ],
   "source": [
    "library(ggplot2)\n",
    "\n",
    "# simulate null distribution\n",
    "null_distn <- ess18 %>% \n",
    "  specify(wkhtot ~ gndr) %>% \n",
    "  hypothesize(null = \"independence\") %>% \n",
    "  generate(reps = 2000, type = \"permute\") %>% \n",
    "  calculate(\n",
    "    stat = \"t\"\n",
    "    )\n",
    "\n",
    "# calculate observed statistic\n",
    "obs_stat <- ess18 %>% \n",
    "  specify(wkhtot ~ gndr) %>% \n",
    "  calculate(\n",
    "    stat = \"t\"\n",
    "    ) %>%\n",
    "    pull(stat)\n",
    "\n",
    "# visualize\n",
    "ggplot(null_distn, aes(x = stat)) + \n",
    "    geom_histogram() + \n",
    "    geom_vline(xintercept = obs_stat, colour = \"red\")"
   ]
  },
  {
   "cell_type": "markdown",
   "id": "5cebe2dd-13c3-48cd-9851-36c05dfdd858",
   "metadata": {},
   "source": [
    "### Chi-squared with infer"
   ]
  },
  {
   "cell_type": "code",
   "execution_count": 65,
   "id": "4153fad5-f20b-43bd-90a9-48c30406651b",
   "metadata": {},
   "outputs": [
    {
     "data": {
      "text/html": [
       "<table class=\"dataframe\">\n",
       "<caption>A tibble: 1 × 3</caption>\n",
       "<thead>\n",
       "\t<tr><th scope=col>statistic</th><th scope=col>chisq_df</th><th scope=col>p_value</th></tr>\n",
       "\t<tr><th scope=col>&lt;dbl&gt;</th><th scope=col>&lt;int&gt;</th><th scope=col>&lt;dbl&gt;</th></tr>\n",
       "</thead>\n",
       "<tbody>\n",
       "\t<tr><td>4.225705</td><td>2</td><td>0.1208926</td></tr>\n",
       "</tbody>\n",
       "</table>\n"
      ],
      "text/latex": [
       "A tibble: 1 × 3\n",
       "\\begin{tabular}{lll}\n",
       " statistic & chisq\\_df & p\\_value\\\\\n",
       " <dbl> & <int> & <dbl>\\\\\n",
       "\\hline\n",
       "\t 4.225705 & 2 & 0.1208926\\\\\n",
       "\\end{tabular}\n"
      ],
      "text/markdown": [
       "\n",
       "A tibble: 1 × 3\n",
       "\n",
       "| statistic &lt;dbl&gt; | chisq_df &lt;int&gt; | p_value &lt;dbl&gt; |\n",
       "|---|---|---|\n",
       "| 4.225705 | 2 | 0.1208926 |\n",
       "\n"
      ],
      "text/plain": [
       "  statistic chisq_df p_value  \n",
       "1 4.225705  2        0.1208926"
      ]
     },
     "metadata": {},
     "output_type": "display_data"
    }
   ],
   "source": [
    "ess18 %>%\n",
    "    chisq_test(vote ~ gndr)"
   ]
  }
 ],
 "metadata": {
  "kernelspec": {
   "display_name": "R",
   "language": "R",
   "name": "ir"
  },
  "language_info": {
   "codemirror_mode": "r",
   "file_extension": ".r",
   "mimetype": "text/x-r-source",
   "name": "R",
   "pygments_lexer": "r",
   "version": "4.1.1"
  }
 },
 "nbformat": 4,
 "nbformat_minor": 5
}
