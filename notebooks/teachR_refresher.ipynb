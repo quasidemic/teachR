{
 "cells": [
  {
   "cell_type": "markdown",
   "metadata": {
    "slideshow": {
     "slide_type": "slide"
    }
   },
   "source": [
    "# <center>WORKING WITH TABLE DATA IN R - REFRESHER</center>\n",
    "<img src=\"../elem/caldiss_symbol_square.png\" width=\"200\">\n",
    "\n",
    "\n",
    "<i><center>Kristian Gade Kjelmann</center></i>\n",
    "<i><center>August 20th 2020</center><i>"
   ]
  },
  {
   "cell_type": "markdown",
   "metadata": {},
   "source": [
    "# How to work with the R language\n",
    "\n",
    "Working with R means to work with objects and functions. \n",
    "\n",
    "*Objects* are containers of information and can be pretty much anything.\n",
    "\n",
    "An object is always of a certain *class*, denoting the type of information the object contains (a numerical value, a string/text value, a dataset, a list of values/vector etc.).\n",
    "\n",
    "*Functions* are used to manipulate objects and produce output. Functions consist of *arguements*"
   ]
  },
  {
   "cell_type": "markdown",
   "metadata": {},
   "source": [
    "**Assign objects**\n",
    "\n",
    "Assign objects using `<-`."
   ]
  },
  {
   "cell_type": "code",
   "execution_count": 1,
   "metadata": {},
   "outputs": [],
   "source": [
    "a_number <- 42     # assign the number '42' to object 'a_number'\n",
    "a_word <- \"hello\"  # assign the word 'hello' to object 'a_word'"
   ]
  },
  {
   "cell_type": "markdown",
   "metadata": {},
   "source": [
    "**Using a function**\n",
    "\n",
    "Functions are used by writing the function name with the arguements in `()`. Additional arguements are separated by `,`. "
   ]
  },
  {
   "cell_type": "code",
   "execution_count": 4,
   "metadata": {},
   "outputs": [
    {
     "data": {
      "text/html": [
       "'HELLO'"
      ],
      "text/latex": [
       "'HELLO'"
      ],
      "text/markdown": [
       "'HELLO'"
      ],
      "text/plain": [
       "[1] \"HELLO\""
      ]
     },
     "metadata": {},
     "output_type": "display_data"
    }
   ],
   "source": [
    "toupper(a_word)"
   ]
  },
  {
   "cell_type": "markdown",
   "metadata": {},
   "source": [
    "Functions do not change an object. The output of a function has to be stored in a new or the same object to be stored:"
   ]
  },
  {
   "cell_type": "code",
   "execution_count": 5,
   "metadata": {},
   "outputs": [
    {
     "name": "stdout",
     "output_type": "stream",
     "text": [
      "[1] \"hello\"\n"
     ]
    }
   ],
   "source": [
    "print(a_word)"
   ]
  },
  {
   "cell_type": "code",
   "execution_count": 6,
   "metadata": {},
   "outputs": [
    {
     "name": "stdout",
     "output_type": "stream",
     "text": [
      "[1] \"HELLO\"\n"
     ]
    }
   ],
   "source": [
    "another_word = toupper(a_word)\n",
    "print(another_word)"
   ]
  },
  {
   "cell_type": "markdown",
   "metadata": {},
   "source": [
    "**Check class**\n",
    "\n",
    "The class of an object can be checked using the function `class()`."
   ]
  },
  {
   "cell_type": "code",
   "execution_count": 2,
   "metadata": {},
   "outputs": [
    {
     "data": {
      "text/html": [
       "'numeric'"
      ],
      "text/latex": [
       "'numeric'"
      ],
      "text/markdown": [
       "'numeric'"
      ],
      "text/plain": [
       "[1] \"numeric\""
      ]
     },
     "metadata": {},
     "output_type": "display_data"
    },
    {
     "data": {
      "text/html": [
       "'character'"
      ],
      "text/latex": [
       "'character'"
      ],
      "text/markdown": [
       "'character'"
      ],
      "text/plain": [
       "[1] \"character\""
      ]
     },
     "metadata": {},
     "output_type": "display_data"
    }
   ],
   "source": [
    "class(a_number)    # what class is a_number?\n",
    "class(a_word)      # what class is a_word?"
   ]
  },
  {
   "cell_type": "markdown",
   "metadata": {},
   "source": [
    "If an object is stored as an incorrect class (like a number stored as text) it can be changed using a function like `as.numeric()`:"
   ]
  },
  {
   "cell_type": "code",
   "execution_count": 7,
   "metadata": {},
   "outputs": [
    {
     "data": {
      "text/html": [
       "'character'"
      ],
      "text/latex": [
       "'character'"
      ],
      "text/markdown": [
       "'character'"
      ],
      "text/plain": [
       "[1] \"character\""
      ]
     },
     "metadata": {},
     "output_type": "display_data"
    },
    {
     "data": {
      "text/html": [
       "'numeric'"
      ],
      "text/latex": [
       "'numeric'"
      ],
      "text/markdown": [
       "'numeric'"
      ],
      "text/plain": [
       "[1] \"numeric\""
      ]
     },
     "metadata": {},
     "output_type": "display_data"
    }
   ],
   "source": [
    "another_number <- \"42\" \n",
    "class(another_number)   # 'another_number' is a character class (text)\n",
    "\n",
    "another_number <- as.numeric(another_number)\n",
    "class(another_number)   # 'another_number' is now a numeric class"
   ]
  },
  {
   "cell_type": "markdown",
   "metadata": {},
   "source": [
    "**Logical/boolean values**\n",
    "\n",
    "An often occuring type of object class in R is the logical class. A logical is either `TRUE` or `FALSE`."
   ]
  },
  {
   "cell_type": "markdown",
   "metadata": {},
   "source": [
    "**NA**\n",
    "\n",
    "`NA` is the R equivalent of a missing value."
   ]
  },
  {
   "cell_type": "markdown",
   "metadata": {},
   "source": [
    "# Data structures in R"
   ]
  },
  {
   "cell_type": "markdown",
   "metadata": {},
   "source": [
    "## Vectors\n",
    "\n",
    "A `vector` is an object in R for storing several values. It is comparable to a variable/column in a dataset.\n",
    "\n",
    "Vectors are created using `c()`:"
   ]
  },
  {
   "cell_type": "code",
   "execution_count": 1,
   "metadata": {},
   "outputs": [
    {
     "data": {
      "text/html": [
       "<ol class=list-inline>\n",
       "\t<li>2</li>\n",
       "\t<li>9</li>\n",
       "\t<li>14</li>\n",
       "\t<li>42</li>\n",
       "</ol>\n"
      ],
      "text/latex": [
       "\\begin{enumerate*}\n",
       "\\item 2\n",
       "\\item 9\n",
       "\\item 14\n",
       "\\item 42\n",
       "\\end{enumerate*}\n"
      ],
      "text/markdown": [
       "1. 2\n",
       "2. 9\n",
       "3. 14\n",
       "4. 42\n",
       "\n",
       "\n"
      ],
      "text/plain": [
       "[1]  2  9 14 42"
      ]
     },
     "metadata": {},
     "output_type": "display_data"
    }
   ],
   "source": [
    "my_vector <- c(2, 9, 14, 42)\n",
    "my_vector"
   ]
  },
  {
   "cell_type": "markdown",
   "metadata": {},
   "source": [
    "Like a variable in a dataset, a vector can only contain one type of values; i.e. all values in a vector must be the same class.\n",
    "\n",
    "When trying to combine values of different classes, the vector will be coerced to a class compatible with all of them (in the case below, all values will be converted to character):"
   ]
  },
  {
   "cell_type": "code",
   "execution_count": 2,
   "metadata": {},
   "outputs": [
    {
     "data": {
      "text/html": [
       "<ol class=list-inline>\n",
       "\t<li>'2'</li>\n",
       "\t<li>'hello'</li>\n",
       "\t<li>'14'</li>\n",
       "\t<li>'42'</li>\n",
       "</ol>\n"
      ],
      "text/latex": [
       "\\begin{enumerate*}\n",
       "\\item '2'\n",
       "\\item 'hello'\n",
       "\\item '14'\n",
       "\\item '42'\n",
       "\\end{enumerate*}\n"
      ],
      "text/markdown": [
       "1. '2'\n",
       "2. 'hello'\n",
       "3. '14'\n",
       "4. '42'\n",
       "\n",
       "\n"
      ],
      "text/plain": [
       "[1] \"2\"     \"hello\" \"14\"    \"42\"   "
      ]
     },
     "metadata": {},
     "output_type": "display_data"
    }
   ],
   "source": [
    "my_mix_vector <- c(2, \"hello\", 14, 42)\n",
    "my_mix_vector"
   ]
  },
  {
   "cell_type": "markdown",
   "metadata": {},
   "source": [
    "`class()` can be used on vectors as well:"
   ]
  },
  {
   "cell_type": "code",
   "execution_count": 3,
   "metadata": {},
   "outputs": [
    {
     "data": {
      "text/html": [
       "'numeric'"
      ],
      "text/latex": [
       "'numeric'"
      ],
      "text/markdown": [
       "'numeric'"
      ],
      "text/plain": [
       "[1] \"numeric\""
      ]
     },
     "metadata": {},
     "output_type": "display_data"
    },
    {
     "data": {
      "text/html": [
       "'character'"
      ],
      "text/latex": [
       "'character'"
      ],
      "text/markdown": [
       "'character'"
      ],
      "text/plain": [
       "[1] \"character\""
      ]
     },
     "metadata": {},
     "output_type": "display_data"
    }
   ],
   "source": [
    "class(my_vector)\n",
    "class(my_mix_vector)"
   ]
  },
  {
   "cell_type": "markdown",
   "metadata": {},
   "source": [
    "Each element in a vector is giving an index starting from 1. Specific values of a vector can be extracted by refering to their index inside `[]`:"
   ]
  },
  {
   "cell_type": "code",
   "execution_count": 18,
   "metadata": {},
   "outputs": [
    {
     "data": {
      "text/html": [
       "'hello'"
      ],
      "text/latex": [
       "'hello'"
      ],
      "text/markdown": [
       "'hello'"
      ],
      "text/plain": [
       "[1] \"hello\""
      ]
     },
     "metadata": {},
     "output_type": "display_data"
    },
    {
     "data": {
      "text/html": [
       "'42'"
      ],
      "text/latex": [
       "'42'"
      ],
      "text/markdown": [
       "'42'"
      ],
      "text/plain": [
       "[1] \"42\""
      ]
     },
     "metadata": {},
     "output_type": "display_data"
    }
   ],
   "source": [
    "my_mix_vector[2]  # prints element 2: \"hello\"\n",
    "my_mix_vector[4]  # prints element 4: 42"
   ]
  },
  {
   "cell_type": "markdown",
   "metadata": {},
   "source": [
    "A range of elements is specified using `:`:"
   ]
  },
  {
   "cell_type": "code",
   "execution_count": 20,
   "metadata": {},
   "outputs": [
    {
     "data": {
      "text/html": [
       "<ol class=list-inline>\n",
       "\t<li>'hello'</li>\n",
       "\t<li>'14'</li>\n",
       "</ol>\n"
      ],
      "text/latex": [
       "\\begin{enumerate*}\n",
       "\\item 'hello'\n",
       "\\item '14'\n",
       "\\end{enumerate*}\n"
      ],
      "text/markdown": [
       "1. 'hello'\n",
       "2. '14'\n",
       "\n",
       "\n"
      ],
      "text/plain": [
       "[1] \"hello\" \"14\"   "
      ]
     },
     "metadata": {},
     "output_type": "display_data"
    }
   ],
   "source": [
    "my_mix_vector[2:3]  # elements 2 to 3; both included"
   ]
  },
  {
   "cell_type": "markdown",
   "metadata": {},
   "source": [
    "Several elements can be specified by inputting a vector of indexes:"
   ]
  },
  {
   "cell_type": "code",
   "execution_count": 21,
   "metadata": {},
   "outputs": [
    {
     "data": {
      "text/html": [
       "<ol class=list-inline>\n",
       "\t<li>'2'</li>\n",
       "\t<li>'14'</li>\n",
       "</ol>\n"
      ],
      "text/latex": [
       "\\begin{enumerate*}\n",
       "\\item '2'\n",
       "\\item '14'\n",
       "\\end{enumerate*}\n"
      ],
      "text/markdown": [
       "1. '2'\n",
       "2. '14'\n",
       "\n",
       "\n"
      ],
      "text/plain": [
       "[1] \"2\"  \"14\""
      ]
     },
     "metadata": {},
     "output_type": "display_data"
    }
   ],
   "source": [
    "my_mix_vector[c(1,3)]  # elements 1 and 3: 2 and 14"
   ]
  },
  {
   "cell_type": "markdown",
   "metadata": {},
   "source": [
    "`length()` returns the number of elements:"
   ]
  },
  {
   "cell_type": "code",
   "execution_count": 22,
   "metadata": {},
   "outputs": [
    {
     "data": {
      "text/html": [
       "4"
      ],
      "text/latex": [
       "4"
      ],
      "text/markdown": [
       "4"
      ],
      "text/plain": [
       "[1] 4"
      ]
     },
     "metadata": {},
     "output_type": "display_data"
    }
   ],
   "source": [
    "length(my_mix_vector)"
   ]
  },
  {
   "cell_type": "markdown",
   "metadata": {},
   "source": [
    "## Data frames\n",
    "\n",
    "A data frame is the most common data structure in R for tabular data (rows and columns). They can be created manually by specifying a number of vectors to combine to a data frame:"
   ]
  },
  {
   "cell_type": "code",
   "execution_count": 5,
   "metadata": {},
   "outputs": [
    {
     "data": {
      "text/html": [
       "<table>\n",
       "<thead><tr><th scope=col>numbers</th><th scope=col>words</th></tr></thead>\n",
       "<tbody>\n",
       "\t<tr><td> 1       </td><td>hello    </td></tr>\n",
       "\t<tr><td> 2       </td><td>cat      </td></tr>\n",
       "\t<tr><td> 4       </td><td>banana   </td></tr>\n",
       "\t<tr><td> 6       </td><td>carpenter</td></tr>\n",
       "\t<tr><td>12       </td><td>dog      </td></tr>\n",
       "</tbody>\n",
       "</table>\n"
      ],
      "text/latex": [
       "\\begin{tabular}{r|ll}\n",
       " numbers & words\\\\\n",
       "\\hline\n",
       "\t  1        & hello    \\\\\n",
       "\t  2        & cat      \\\\\n",
       "\t  4        & banana   \\\\\n",
       "\t  6        & carpenter\\\\\n",
       "\t 12        & dog      \\\\\n",
       "\\end{tabular}\n"
      ],
      "text/markdown": [
       "\n",
       "| numbers | words |\n",
       "|---|---|\n",
       "|  1        | hello     |\n",
       "|  2        | cat       |\n",
       "|  4        | banana    |\n",
       "|  6        | carpenter |\n",
       "| 12        | dog       |\n",
       "\n"
      ],
      "text/plain": [
       "  numbers words    \n",
       "1  1      hello    \n",
       "2  2      cat      \n",
       "3  4      banana   \n",
       "4  6      carpenter\n",
       "5 12      dog      "
      ]
     },
     "metadata": {},
     "output_type": "display_data"
    }
   ],
   "source": [
    "my_dataframe <- data.frame(numbers = c(1, 2, 4, 6, 12), words = c(\"hello\", \"cat\", \"banana\", \"carpenter\", \"dog\"))\n",
    "my_dataframe"
   ]
  },
  {
   "cell_type": "markdown",
   "metadata": {},
   "source": [
    "Often data frames are created from existing data sets.\n",
    "\n",
    "When importing tabular data sets in R, they will in most cases be converted to a data frame.\n",
    "\n",
    "R also contains a range of sample data sets for exercises; like `mtcars`:"
   ]
  },
  {
   "cell_type": "code",
   "execution_count": 8,
   "metadata": {},
   "outputs": [],
   "source": [
    "data(mtcars)  # this line loads the dataset \"mtcars\" into the R environment"
   ]
  },
  {
   "cell_type": "markdown",
   "metadata": {},
   "source": [
    "`head()` prints the first six rows of the dataset (six is the default. The number of rows to print can be changed by adding the second arguement to the function)."
   ]
  },
  {
   "cell_type": "code",
   "execution_count": 9,
   "metadata": {},
   "outputs": [
    {
     "data": {
      "text/html": [
       "<table>\n",
       "<thead><tr><th></th><th scope=col>mpg</th><th scope=col>cyl</th><th scope=col>disp</th><th scope=col>hp</th><th scope=col>drat</th><th scope=col>wt</th><th scope=col>qsec</th><th scope=col>vs</th><th scope=col>am</th><th scope=col>gear</th><th scope=col>carb</th></tr></thead>\n",
       "<tbody>\n",
       "\t<tr><th scope=row>Mazda RX4</th><td>21.0 </td><td>6    </td><td>160  </td><td>110  </td><td>3.90 </td><td>2.620</td><td>16.46</td><td>0    </td><td>1    </td><td>4    </td><td>4    </td></tr>\n",
       "\t<tr><th scope=row>Mazda RX4 Wag</th><td>21.0 </td><td>6    </td><td>160  </td><td>110  </td><td>3.90 </td><td>2.875</td><td>17.02</td><td>0    </td><td>1    </td><td>4    </td><td>4    </td></tr>\n",
       "\t<tr><th scope=row>Datsun 710</th><td>22.8 </td><td>4    </td><td>108  </td><td> 93  </td><td>3.85 </td><td>2.320</td><td>18.61</td><td>1    </td><td>1    </td><td>4    </td><td>1    </td></tr>\n",
       "\t<tr><th scope=row>Hornet 4 Drive</th><td>21.4 </td><td>6    </td><td>258  </td><td>110  </td><td>3.08 </td><td>3.215</td><td>19.44</td><td>1    </td><td>0    </td><td>3    </td><td>1    </td></tr>\n",
       "\t<tr><th scope=row>Hornet Sportabout</th><td>18.7 </td><td>8    </td><td>360  </td><td>175  </td><td>3.15 </td><td>3.440</td><td>17.02</td><td>0    </td><td>0    </td><td>3    </td><td>2    </td></tr>\n",
       "\t<tr><th scope=row>Valiant</th><td>18.1 </td><td>6    </td><td>225  </td><td>105  </td><td>2.76 </td><td>3.460</td><td>20.22</td><td>1    </td><td>0    </td><td>3    </td><td>1    </td></tr>\n",
       "</tbody>\n",
       "</table>\n"
      ],
      "text/latex": [
       "\\begin{tabular}{r|lllllllllll}\n",
       "  & mpg & cyl & disp & hp & drat & wt & qsec & vs & am & gear & carb\\\\\n",
       "\\hline\n",
       "\tMazda RX4 & 21.0  & 6     & 160   & 110   & 3.90  & 2.620 & 16.46 & 0     & 1     & 4     & 4    \\\\\n",
       "\tMazda RX4 Wag & 21.0  & 6     & 160   & 110   & 3.90  & 2.875 & 17.02 & 0     & 1     & 4     & 4    \\\\\n",
       "\tDatsun 710 & 22.8  & 4     & 108   &  93   & 3.85  & 2.320 & 18.61 & 1     & 1     & 4     & 1    \\\\\n",
       "\tHornet 4 Drive & 21.4  & 6     & 258   & 110   & 3.08  & 3.215 & 19.44 & 1     & 0     & 3     & 1    \\\\\n",
       "\tHornet Sportabout & 18.7  & 8     & 360   & 175   & 3.15  & 3.440 & 17.02 & 0     & 0     & 3     & 2    \\\\\n",
       "\tValiant & 18.1  & 6     & 225   & 105   & 2.76  & 3.460 & 20.22 & 1     & 0     & 3     & 1    \\\\\n",
       "\\end{tabular}\n"
      ],
      "text/markdown": [
       "\n",
       "| <!--/--> | mpg | cyl | disp | hp | drat | wt | qsec | vs | am | gear | carb |\n",
       "|---|---|---|---|---|---|---|---|---|---|---|---|\n",
       "| Mazda RX4 | 21.0  | 6     | 160   | 110   | 3.90  | 2.620 | 16.46 | 0     | 1     | 4     | 4     |\n",
       "| Mazda RX4 Wag | 21.0  | 6     | 160   | 110   | 3.90  | 2.875 | 17.02 | 0     | 1     | 4     | 4     |\n",
       "| Datsun 710 | 22.8  | 4     | 108   |  93   | 3.85  | 2.320 | 18.61 | 1     | 1     | 4     | 1     |\n",
       "| Hornet 4 Drive | 21.4  | 6     | 258   | 110   | 3.08  | 3.215 | 19.44 | 1     | 0     | 3     | 1     |\n",
       "| Hornet Sportabout | 18.7  | 8     | 360   | 175   | 3.15  | 3.440 | 17.02 | 0     | 0     | 3     | 2     |\n",
       "| Valiant | 18.1  | 6     | 225   | 105   | 2.76  | 3.460 | 20.22 | 1     | 0     | 3     | 1     |\n",
       "\n"
      ],
      "text/plain": [
       "                  mpg  cyl disp hp  drat wt    qsec  vs am gear carb\n",
       "Mazda RX4         21.0 6   160  110 3.90 2.620 16.46 0  1  4    4   \n",
       "Mazda RX4 Wag     21.0 6   160  110 3.90 2.875 17.02 0  1  4    4   \n",
       "Datsun 710        22.8 4   108   93 3.85 2.320 18.61 1  1  4    1   \n",
       "Hornet 4 Drive    21.4 6   258  110 3.08 3.215 19.44 1  0  3    1   \n",
       "Hornet Sportabout 18.7 8   360  175 3.15 3.440 17.02 0  0  3    2   \n",
       "Valiant           18.1 6   225  105 2.76 3.460 20.22 1  0  3    1   "
      ]
     },
     "metadata": {},
     "output_type": "display_data"
    }
   ],
   "source": [
    "head(mtcars)"
   ]
  },
  {
   "cell_type": "markdown",
   "metadata": {},
   "source": [
    "`summary()` provide summary statistics for all the variables:"
   ]
  },
  {
   "cell_type": "code",
   "execution_count": 13,
   "metadata": {},
   "outputs": [
    {
     "data": {
      "text/plain": [
       "      mpg             cyl             disp             hp       \n",
       " Min.   :10.40   Min.   :4.000   Min.   : 71.1   Min.   : 52.0  \n",
       " 1st Qu.:15.43   1st Qu.:4.000   1st Qu.:120.8   1st Qu.: 96.5  \n",
       " Median :19.20   Median :6.000   Median :196.3   Median :123.0  \n",
       " Mean   :20.09   Mean   :6.188   Mean   :230.7   Mean   :146.7  \n",
       " 3rd Qu.:22.80   3rd Qu.:8.000   3rd Qu.:326.0   3rd Qu.:180.0  \n",
       " Max.   :33.90   Max.   :8.000   Max.   :472.0   Max.   :335.0  \n",
       "      drat             wt             qsec             vs        \n",
       " Min.   :2.760   Min.   :1.513   Min.   :14.50   Min.   :0.0000  \n",
       " 1st Qu.:3.080   1st Qu.:2.581   1st Qu.:16.89   1st Qu.:0.0000  \n",
       " Median :3.695   Median :3.325   Median :17.71   Median :0.0000  \n",
       " Mean   :3.597   Mean   :3.217   Mean   :17.85   Mean   :0.4375  \n",
       " 3rd Qu.:3.920   3rd Qu.:3.610   3rd Qu.:18.90   3rd Qu.:1.0000  \n",
       " Max.   :4.930   Max.   :5.424   Max.   :22.90   Max.   :1.0000  \n",
       "       am              gear            carb      \n",
       " Min.   :0.0000   Min.   :3.000   Min.   :1.000  \n",
       " 1st Qu.:0.0000   1st Qu.:3.000   1st Qu.:2.000  \n",
       " Median :0.0000   Median :4.000   Median :2.000  \n",
       " Mean   :0.4062   Mean   :3.688   Mean   :2.812  \n",
       " 3rd Qu.:1.0000   3rd Qu.:4.000   3rd Qu.:4.000  \n",
       " Max.   :1.0000   Max.   :5.000   Max.   :8.000  "
      ]
     },
     "metadata": {},
     "output_type": "display_data"
    }
   ],
   "source": [
    "summary(mtcars)"
   ]
  },
  {
   "cell_type": "markdown",
   "metadata": {},
   "source": [
    "`nrow()` and `ncol()` returns the number of rows and columns, respectively:"
   ]
  },
  {
   "cell_type": "code",
   "execution_count": 26,
   "metadata": {},
   "outputs": [
    {
     "data": {
      "text/html": [
       "32"
      ],
      "text/latex": [
       "32"
      ],
      "text/markdown": [
       "32"
      ],
      "text/plain": [
       "[1] 32"
      ]
     },
     "metadata": {},
     "output_type": "display_data"
    },
    {
     "data": {
      "text/html": [
       "11"
      ],
      "text/latex": [
       "11"
      ],
      "text/markdown": [
       "11"
      ],
      "text/plain": [
       "[1] 11"
      ]
     },
     "metadata": {},
     "output_type": "display_data"
    }
   ],
   "source": [
    "nrow(mtcars)\n",
    "ncol(mtcars)"
   ]
  },
  {
   "cell_type": "markdown",
   "metadata": {},
   "source": [
    "`colnames()` returns the column names (names of the variables):"
   ]
  },
  {
   "cell_type": "code",
   "execution_count": 28,
   "metadata": {},
   "outputs": [
    {
     "data": {
      "text/html": [
       "<ol class=list-inline>\n",
       "\t<li>'mpg'</li>\n",
       "\t<li>'cyl'</li>\n",
       "\t<li>'disp'</li>\n",
       "\t<li>'hp'</li>\n",
       "\t<li>'drat'</li>\n",
       "\t<li>'wt'</li>\n",
       "\t<li>'qsec'</li>\n",
       "\t<li>'vs'</li>\n",
       "\t<li>'am'</li>\n",
       "\t<li>'gear'</li>\n",
       "\t<li>'carb'</li>\n",
       "</ol>\n"
      ],
      "text/latex": [
       "\\begin{enumerate*}\n",
       "\\item 'mpg'\n",
       "\\item 'cyl'\n",
       "\\item 'disp'\n",
       "\\item 'hp'\n",
       "\\item 'drat'\n",
       "\\item 'wt'\n",
       "\\item 'qsec'\n",
       "\\item 'vs'\n",
       "\\item 'am'\n",
       "\\item 'gear'\n",
       "\\item 'carb'\n",
       "\\end{enumerate*}\n"
      ],
      "text/markdown": [
       "1. 'mpg'\n",
       "2. 'cyl'\n",
       "3. 'disp'\n",
       "4. 'hp'\n",
       "5. 'drat'\n",
       "6. 'wt'\n",
       "7. 'qsec'\n",
       "8. 'vs'\n",
       "9. 'am'\n",
       "10. 'gear'\n",
       "11. 'carb'\n",
       "\n",
       "\n"
      ],
      "text/plain": [
       " [1] \"mpg\"  \"cyl\"  \"disp\" \"hp\"   \"drat\" \"wt\"   \"qsec\" \"vs\"   \"am\"   \"gear\"\n",
       "[11] \"carb\""
      ]
     },
     "metadata": {},
     "output_type": "display_data"
    }
   ],
   "source": [
    "colnames(mtcars)"
   ]
  },
  {
   "cell_type": "markdown",
   "metadata": {},
   "source": [
    "Specific columns can be referenced using `$`. When refering to a column this way, they work just like a vector:"
   ]
  },
  {
   "cell_type": "code",
   "execution_count": 25,
   "metadata": {},
   "outputs": [
    {
     "data": {
      "text/html": [
       "3.215"
      ],
      "text/latex": [
       "3.215"
      ],
      "text/markdown": [
       "3.215"
      ],
      "text/plain": [
       "[1] 3.215"
      ]
     },
     "metadata": {},
     "output_type": "display_data"
    },
    {
     "data": {
      "text/html": [
       "32"
      ],
      "text/latex": [
       "32"
      ],
      "text/markdown": [
       "32"
      ],
      "text/plain": [
       "[1] 32"
      ]
     },
     "metadata": {},
     "output_type": "display_data"
    }
   ],
   "source": [
    "mtcars$wt[4]  # 4th value in the column \"am\" or 4th row\n",
    "length(mtcars$wt)  # number of elements in wt (corresponding to the number of rows)"
   ]
  },
  {
   "cell_type": "markdown",
   "metadata": {},
   "source": [
    "Like with vectors, square brackets `[]` are used for subsetting. The format is `[rows, columns]`. Columns can both be referenced by their number (colomn index) of their name:"
   ]
  },
  {
   "cell_type": "code",
   "execution_count": 27,
   "metadata": {},
   "outputs": [
    {
     "data": {
      "text/html": [
       "<table>\n",
       "<thead><tr><th></th><th scope=col>wt</th><th scope=col>gear</th></tr></thead>\n",
       "<tbody>\n",
       "\t<tr><th scope=row>Merc 280</th><td>3.44</td><td>4   </td></tr>\n",
       "\t<tr><th scope=row>Merc 280C</th><td>3.44</td><td>4   </td></tr>\n",
       "\t<tr><th scope=row>Merc 450SE</th><td>4.07</td><td>3   </td></tr>\n",
       "\t<tr><th scope=row>Merc 450SL</th><td>3.73</td><td>3   </td></tr>\n",
       "\t<tr><th scope=row>Merc 450SLC</th><td>3.78</td><td>3   </td></tr>\n",
       "\t<tr><th scope=row>Cadillac Fleetwood</th><td>5.25</td><td>3   </td></tr>\n",
       "</tbody>\n",
       "</table>\n"
      ],
      "text/latex": [
       "\\begin{tabular}{r|ll}\n",
       "  & wt & gear\\\\\n",
       "\\hline\n",
       "\tMerc 280 & 3.44 & 4   \\\\\n",
       "\tMerc 280C & 3.44 & 4   \\\\\n",
       "\tMerc 450SE & 4.07 & 3   \\\\\n",
       "\tMerc 450SL & 3.73 & 3   \\\\\n",
       "\tMerc 450SLC & 3.78 & 3   \\\\\n",
       "\tCadillac Fleetwood & 5.25 & 3   \\\\\n",
       "\\end{tabular}\n"
      ],
      "text/markdown": [
       "\n",
       "| <!--/--> | wt | gear |\n",
       "|---|---|---|\n",
       "| Merc 280 | 3.44 | 4    |\n",
       "| Merc 280C | 3.44 | 4    |\n",
       "| Merc 450SE | 4.07 | 3    |\n",
       "| Merc 450SL | 3.73 | 3    |\n",
       "| Merc 450SLC | 3.78 | 3    |\n",
       "| Cadillac Fleetwood | 5.25 | 3    |\n",
       "\n"
      ],
      "text/plain": [
       "                   wt   gear\n",
       "Merc 280           3.44 4   \n",
       "Merc 280C          3.44 4   \n",
       "Merc 450SE         4.07 3   \n",
       "Merc 450SL         3.73 3   \n",
       "Merc 450SLC        3.78 3   \n",
       "Cadillac Fleetwood 5.25 3   "
      ]
     },
     "metadata": {},
     "output_type": "display_data"
    }
   ],
   "source": [
    "mtcars[10:15, c('wt', 'gear')]  # row 10-15, column wt and gear - returns as a data frame"
   ]
  },
  {
   "cell_type": "markdown",
   "metadata": {},
   "source": [
    "# Packages\n",
    "\n",
    "- Installing \n",
    "- Loading"
   ]
  },
  {
   "cell_type": "markdown",
   "metadata": {},
   "source": [
    "R is open source and a lot of functionality are being developed by various contributors. Additional functionality can be added to R through \"packages\".\n",
    "\n",
    "Packages are installed with `install.packages([packagename])`:"
   ]
  },
  {
   "cell_type": "code",
   "execution_count": 29,
   "metadata": {},
   "outputs": [
    {
     "name": "stderr",
     "output_type": "stream",
     "text": [
      "Installing package into 'D:/ProgramData/R/packages'\n",
      "(as 'lib' is unspecified)\n"
     ]
    },
    {
     "name": "stdout",
     "output_type": "stream",
     "text": [
      "package 'readr' successfully unpacked and MD5 sums checked\n",
      "\n",
      "The downloaded binary packages are in\n",
      "\tC:\\Users\\kjelm\\AppData\\Local\\Temp\\RtmpUZUIEl\\downloaded_packages\n"
     ]
    }
   ],
   "source": [
    "install.packages('readr') # installs the package 'readr' for reading various data files"
   ]
  },
  {
   "cell_type": "markdown",
   "metadata": {},
   "source": [
    "Once installed the library can be loaded using `library([packagename])`. The package must be loaded before the functions in the package are available."
   ]
  },
  {
   "cell_type": "code",
   "execution_count": 30,
   "metadata": {},
   "outputs": [
    {
     "name": "stderr",
     "output_type": "stream",
     "text": [
      "Warning message:\n",
      "\"package 'readr' was built under R version 3.6.3\""
     ]
    }
   ],
   "source": [
    "library(readr)"
   ]
  },
  {
   "cell_type": "markdown",
   "metadata": {},
   "source": [
    "# (Re-)Introducing tidyverse\n",
    "\n",
    "[`tidyverse`](https://www.tidyverse.org/) is a collection of packages for various data handling tasks.\n",
    "\n",
    "These include:\n",
    "\n",
    "- `readr`: for reading data into R\n",
    "- `dplyr`: for data management\n",
    "- `lubridate`: for handling dates\n",
    "- `stringr`: for handling strings (text values)"
   ]
  },
  {
   "cell_type": "markdown",
   "metadata": {},
   "source": [
    "## `readr`\n",
    "\n",
    "`readr` contains various functions for reading data into R. \n",
    "\n",
    "The function `read_csv()` is used for loading a csv file into R. It works both on local files and URLs. The data loaded in must be assigned an object. Otherwise R will just print the dataset in the console."
   ]
  },
  {
   "cell_type": "code",
   "execution_count": 31,
   "metadata": {},
   "outputs": [
    {
     "name": "stderr",
     "output_type": "stream",
     "text": [
      "Parsed with column specification:\n",
      "cols(\n",
      "  idno = col_double(),\n",
      "  ppltrst = col_character(),\n",
      "  polintr = col_character(),\n",
      "  vote = col_character(),\n",
      "  lrscale = col_character(),\n",
      "  happy = col_character(),\n",
      "  health = col_character(),\n",
      "  cgtsday = col_double(),\n",
      "  cgtsmke = col_character(),\n",
      "  alcfreq = col_character(),\n",
      "  brncntr = col_character(),\n",
      "  height = col_double(),\n",
      "  weight = col_double(),\n",
      "  gndr = col_character(),\n",
      "  yrbrn = col_double(),\n",
      "  edlvddk = col_character(),\n",
      "  marsts = col_character(),\n",
      "  polpartvt = col_character()\n",
      ")\n"
     ]
    }
   ],
   "source": [
    "ess_data <- read_csv(\"https://github.com/CALDISS-AAU/workshop_r-table-data/raw/master/data/ess2014_mainsub_p1.csv\")"
   ]
  },
  {
   "cell_type": "code",
   "execution_count": 32,
   "metadata": {},
   "outputs": [
    {
     "data": {
      "text/html": [
       "<table>\n",
       "<thead><tr><th scope=col>idno</th><th scope=col>ppltrst</th><th scope=col>polintr</th><th scope=col>vote</th><th scope=col>lrscale</th><th scope=col>happy</th><th scope=col>health</th><th scope=col>cgtsday</th><th scope=col>cgtsmke</th><th scope=col>alcfreq</th><th scope=col>brncntr</th><th scope=col>height</th><th scope=col>weight</th><th scope=col>gndr</th><th scope=col>yrbrn</th><th scope=col>edlvddk</th><th scope=col>marsts</th><th scope=col>polpartvt</th></tr></thead>\n",
       "<tbody>\n",
       "\t<tr><td>921018                                                                        </td><td>6                                                                             </td><td>Hardly interested                                                             </td><td>Not eligible to vote                                                          </td><td>4                                                                             </td><td>9                                                                             </td><td>Very good                                                                     </td><td>10                                                                            </td><td>I smoke but not every day                                                     </td><td>2-3 times a month                                                             </td><td>Yes                                                                           </td><td>178                                                                           </td><td> 64                                                                           </td><td>Male                                                                          </td><td>1990                                                                          </td><td>Folkeskole 6.-8. klasse                                                       </td><td>None of these (NEVER married or in legally registered civil union)            </td><td>[NA] Not applicable                                                           </td></tr>\n",
       "\t<tr><td>921026                                                                        </td><td>8                                                                             </td><td>Quite interested                                                              </td><td>Yes                                                                           </td><td>4                                                                             </td><td>8                                                                             </td><td>Very good                                                                     </td><td>NA                                                                            </td><td>I have never smoked                                                           </td><td>Several times a week                                                          </td><td>Yes                                                                           </td><td>172                                                                           </td><td> 64                                                                           </td><td>Female                                                                        </td><td>1948                                                                          </td><td>Mellemlang videregående uddannelse af 3-4 års varighed. Professionsbachelorer,</td><td>Widowed/civil partner died                                                    </td><td>[1] Socialdemokraterne - the Danish social democrats                          </td></tr>\n",
       "\t<tr><td>921034                                                                        </td><td>8                                                                             </td><td>Quite interested                                                              </td><td>Yes                                                                           </td><td>7                                                                             </td><td>8                                                                             </td><td>Good                                                                          </td><td>NA                                                                            </td><td>I don't smoke now but I used to                                               </td><td>Every day                                                                     </td><td>Yes                                                                           </td><td>176                                                                           </td><td> 87                                                                           </td><td>Male                                                                          </td><td>1957                                                                          </td><td>Kort videregående uddannelse af op til 2-3 års varighed, F.eks. Erhvervsakadem</td><td>Not applicable                                                                </td><td>[7] Venstre, Danmarks Liberale Parti - Venstre                                </td></tr>\n",
       "\t<tr><td>921181                                                                        </td><td>9                                                                             </td><td>Quite interested                                                              </td><td>Yes                                                                           </td><td>5                                                                             </td><td>9                                                                             </td><td>Fair                                                                          </td><td>NA                                                                            </td><td>I don't smoke now but I used to                                               </td><td>Once a week                                                                   </td><td>Yes                                                                           </td><td>194                                                                           </td><td>102                                                                           </td><td>Male                                                                          </td><td>1956                                                                          </td><td>Faglig uddannelse (håndværk, handel, landbrug mv.), F.eks. Faglærte, Social-  </td><td>Not applicable                                                                </td><td>[2] Det Radikale Venstre - Danish Social-Liberal Party                        </td></tr>\n",
       "\t<tr><td>921204                                                                        </td><td>9                                                                             </td><td>Hardly interested                                                             </td><td>Yes                                                                           </td><td>7                                                                             </td><td>8                                                                             </td><td>Good                                                                          </td><td>NA                                                                            </td><td>I don't smoke now but I used to                                               </td><td>Once a week                                                                   </td><td>No                                                                            </td><td>157                                                                           </td><td> 48                                                                           </td><td>Female                                                                        </td><td>1941                                                                          </td><td>Kort videregående uddannelse af op til 2-3 års varighed, F.eks. Erhvervsakadem</td><td>Not applicable                                                                </td><td>[NA] Don't know                                                               </td></tr>\n",
       "\t<tr><td>921262                                                                        </td><td>8                                                                             </td><td>Hardly interested                                                             </td><td>Yes                                                                           </td><td>7                                                                             </td><td>8                                                                             </td><td>Very good                                                                     </td><td>NA                                                                            </td><td>I have never smoked                                                           </td><td>2-3 times a month                                                             </td><td>Yes                                                                           </td><td>180                                                                           </td><td> 93                                                                           </td><td>Male                                                                          </td><td>1987                                                                          </td><td>Mellemlang videregående uddannelse af 3-4 års varighed. Professionsbachelorer,</td><td>None of these (NEVER married or in legally registered civil union)            </td><td>[7] Venstre, Danmarks Liberale Parti - Venstre                                </td></tr>\n",
       "</tbody>\n",
       "</table>\n"
      ],
      "text/latex": [
       "\\begin{tabular}{r|llllllllllllllllll}\n",
       " idno & ppltrst & polintr & vote & lrscale & happy & health & cgtsday & cgtsmke & alcfreq & brncntr & height & weight & gndr & yrbrn & edlvddk & marsts & polpartvt\\\\\n",
       "\\hline\n",
       "\t 921018                                                                         & 6                                                                              & Hardly interested                                                              & Not eligible to vote                                                           & 4                                                                              & 9                                                                              & Very good                                                                      & 10                                                                             & I smoke but not every day                                                      & 2-3 times a month                                                              & Yes                                                                            & 178                                                                            &  64                                                                            & Male                                                                           & 1990                                                                           & Folkeskole 6.-8. klasse                                                        & None of these (NEVER married or in legally registered civil union)             & {[}NA{]} Not applicable                                                       \\\\\n",
       "\t 921026                                                                         & 8                                                                              & Quite interested                                                               & Yes                                                                            & 4                                                                              & 8                                                                              & Very good                                                                      & NA                                                                             & I have never smoked                                                            & Several times a week                                                           & Yes                                                                            & 172                                                                            &  64                                                                            & Female                                                                         & 1948                                                                           & Mellemlang videregående uddannelse af 3-4 års varighed. Professionsbachelorer, & Widowed/civil partner died                                                     & {[}1{]} Socialdemokraterne - the Danish social democrats                      \\\\\n",
       "\t 921034                                                                         & 8                                                                              & Quite interested                                                               & Yes                                                                            & 7                                                                              & 8                                                                              & Good                                                                           & NA                                                                             & I don't smoke now but I used to                                                & Every day                                                                      & Yes                                                                            & 176                                                                            &  87                                                                            & Male                                                                           & 1957                                                                           & Kort videregående uddannelse af op til 2-3 års varighed, F.eks. Erhvervsakadem & Not applicable                                                                 & {[}7{]} Venstre, Danmarks Liberale Parti - Venstre                            \\\\\n",
       "\t 921181                                                                         & 9                                                                              & Quite interested                                                               & Yes                                                                            & 5                                                                              & 9                                                                              & Fair                                                                           & NA                                                                             & I don't smoke now but I used to                                                & Once a week                                                                    & Yes                                                                            & 194                                                                            & 102                                                                            & Male                                                                           & 1956                                                                           & Faglig uddannelse (håndværk, handel, landbrug mv.), F.eks. Faglærte, Social-   & Not applicable                                                                 & {[}2{]} Det Radikale Venstre - Danish Social-Liberal Party                    \\\\\n",
       "\t 921204                                                                         & 9                                                                              & Hardly interested                                                              & Yes                                                                            & 7                                                                              & 8                                                                              & Good                                                                           & NA                                                                             & I don't smoke now but I used to                                                & Once a week                                                                    & No                                                                             & 157                                                                            &  48                                                                            & Female                                                                         & 1941                                                                           & Kort videregående uddannelse af op til 2-3 års varighed, F.eks. Erhvervsakadem & Not applicable                                                                 & {[}NA{]} Don't know                                                           \\\\\n",
       "\t 921262                                                                         & 8                                                                              & Hardly interested                                                              & Yes                                                                            & 7                                                                              & 8                                                                              & Very good                                                                      & NA                                                                             & I have never smoked                                                            & 2-3 times a month                                                              & Yes                                                                            & 180                                                                            &  93                                                                            & Male                                                                           & 1987                                                                           & Mellemlang videregående uddannelse af 3-4 års varighed. Professionsbachelorer, & None of these (NEVER married or in legally registered civil union)             & {[}7{]} Venstre, Danmarks Liberale Parti - Venstre                            \\\\\n",
       "\\end{tabular}\n"
      ],
      "text/markdown": [
       "\n",
       "| idno | ppltrst | polintr | vote | lrscale | happy | health | cgtsday | cgtsmke | alcfreq | brncntr | height | weight | gndr | yrbrn | edlvddk | marsts | polpartvt |\n",
       "|---|---|---|---|---|---|---|---|---|---|---|---|---|---|---|---|---|---|\n",
       "| 921018                                                                         | 6                                                                              | Hardly interested                                                              | Not eligible to vote                                                           | 4                                                                              | 9                                                                              | Very good                                                                      | 10                                                                             | I smoke but not every day                                                      | 2-3 times a month                                                              | Yes                                                                            | 178                                                                            |  64                                                                            | Male                                                                           | 1990                                                                           | Folkeskole 6.-8. klasse                                                        | None of these (NEVER married or in legally registered civil union)             | [NA] Not applicable                                                            |\n",
       "| 921026                                                                         | 8                                                                              | Quite interested                                                               | Yes                                                                            | 4                                                                              | 8                                                                              | Very good                                                                      | NA                                                                             | I have never smoked                                                            | Several times a week                                                           | Yes                                                                            | 172                                                                            |  64                                                                            | Female                                                                         | 1948                                                                           | Mellemlang videregående uddannelse af 3-4 års varighed. Professionsbachelorer, | Widowed/civil partner died                                                     | [1] Socialdemokraterne - the Danish social democrats                           |\n",
       "| 921034                                                                         | 8                                                                              | Quite interested                                                               | Yes                                                                            | 7                                                                              | 8                                                                              | Good                                                                           | NA                                                                             | I don't smoke now but I used to                                                | Every day                                                                      | Yes                                                                            | 176                                                                            |  87                                                                            | Male                                                                           | 1957                                                                           | Kort videregående uddannelse af op til 2-3 års varighed, F.eks. Erhvervsakadem | Not applicable                                                                 | [7] Venstre, Danmarks Liberale Parti - Venstre                                 |\n",
       "| 921181                                                                         | 9                                                                              | Quite interested                                                               | Yes                                                                            | 5                                                                              | 9                                                                              | Fair                                                                           | NA                                                                             | I don't smoke now but I used to                                                | Once a week                                                                    | Yes                                                                            | 194                                                                            | 102                                                                            | Male                                                                           | 1956                                                                           | Faglig uddannelse (håndværk, handel, landbrug mv.), F.eks. Faglærte, Social-   | Not applicable                                                                 | [2] Det Radikale Venstre - Danish Social-Liberal Party                         |\n",
       "| 921204                                                                         | 9                                                                              | Hardly interested                                                              | Yes                                                                            | 7                                                                              | 8                                                                              | Good                                                                           | NA                                                                             | I don't smoke now but I used to                                                | Once a week                                                                    | No                                                                             | 157                                                                            |  48                                                                            | Female                                                                         | 1941                                                                           | Kort videregående uddannelse af op til 2-3 års varighed, F.eks. Erhvervsakadem | Not applicable                                                                 | [NA] Don't know                                                                |\n",
       "| 921262                                                                         | 8                                                                              | Hardly interested                                                              | Yes                                                                            | 7                                                                              | 8                                                                              | Very good                                                                      | NA                                                                             | I have never smoked                                                            | 2-3 times a month                                                              | Yes                                                                            | 180                                                                            |  93                                                                            | Male                                                                           | 1987                                                                           | Mellemlang videregående uddannelse af 3-4 års varighed. Professionsbachelorer, | None of these (NEVER married or in legally registered civil union)             | [7] Venstre, Danmarks Liberale Parti - Venstre                                 |\n",
       "\n"
      ],
      "text/plain": [
       "  idno   ppltrst polintr           vote                 lrscale happy health   \n",
       "1 921018 6       Hardly interested Not eligible to vote 4       9     Very good\n",
       "2 921026 8       Quite interested  Yes                  4       8     Very good\n",
       "3 921034 8       Quite interested  Yes                  7       8     Good     \n",
       "4 921181 9       Quite interested  Yes                  5       9     Fair     \n",
       "5 921204 9       Hardly interested Yes                  7       8     Good     \n",
       "6 921262 8       Hardly interested Yes                  7       8     Very good\n",
       "  cgtsday cgtsmke                         alcfreq              brncntr height\n",
       "1 10      I smoke but not every day       2-3 times a month    Yes     178   \n",
       "2 NA      I have never smoked             Several times a week Yes     172   \n",
       "3 NA      I don't smoke now but I used to Every day            Yes     176   \n",
       "4 NA      I don't smoke now but I used to Once a week          Yes     194   \n",
       "5 NA      I don't smoke now but I used to Once a week          No      157   \n",
       "6 NA      I have never smoked             2-3 times a month    Yes     180   \n",
       "  weight gndr   yrbrn\n",
       "1  64    Male   1990 \n",
       "2  64    Female 1948 \n",
       "3  87    Male   1957 \n",
       "4 102    Male   1956 \n",
       "5  48    Female 1941 \n",
       "6  93    Male   1987 \n",
       "  edlvddk                                                                       \n",
       "1 Folkeskole 6.-8. klasse                                                       \n",
       "2 Mellemlang videregående uddannelse af 3-4 års varighed. Professionsbachelorer,\n",
       "3 Kort videregående uddannelse af op til 2-3 års varighed, F.eks. Erhvervsakadem\n",
       "4 Faglig uddannelse (håndværk, handel, landbrug mv.), F.eks. Faglærte, Social-  \n",
       "5 Kort videregående uddannelse af op til 2-3 års varighed, F.eks. Erhvervsakadem\n",
       "6 Mellemlang videregående uddannelse af 3-4 års varighed. Professionsbachelorer,\n",
       "  marsts                                                            \n",
       "1 None of these (NEVER married or in legally registered civil union)\n",
       "2 Widowed/civil partner died                                        \n",
       "3 Not applicable                                                    \n",
       "4 Not applicable                                                    \n",
       "5 Not applicable                                                    \n",
       "6 None of these (NEVER married or in legally registered civil union)\n",
       "  polpartvt                                             \n",
       "1 [NA] Not applicable                                   \n",
       "2 [1] Socialdemokraterne - the Danish social democrats  \n",
       "3 [7] Venstre, Danmarks Liberale Parti - Venstre        \n",
       "4 [2] Det Radikale Venstre - Danish Social-Liberal Party\n",
       "5 [NA] Don't know                                       \n",
       "6 [7] Venstre, Danmarks Liberale Parti - Venstre        "
      ]
     },
     "metadata": {},
     "output_type": "display_data"
    }
   ],
   "source": [
    "head(ess_data)"
   ]
  },
  {
   "cell_type": "markdown",
   "metadata": {},
   "source": [
    "# Datawrangling with `dplyr`\n",
    "\n",
    "The package `dplyr` contains various functions that eases data management tasks."
   ]
  },
  {
   "cell_type": "code",
   "execution_count": 36,
   "metadata": {},
   "outputs": [],
   "source": [
    "library(dplyr)"
   ]
  },
  {
   "cell_type": "markdown",
   "metadata": {},
   "source": [
    "`select()` is used for selecting specific variables/columns:"
   ]
  },
  {
   "cell_type": "code",
   "execution_count": 44,
   "metadata": {},
   "outputs": [
    {
     "data": {
      "text/html": [
       "<table>\n",
       "<thead><tr><th scope=col>idno</th><th scope=col>polintr</th><th scope=col>happy</th></tr></thead>\n",
       "<tbody>\n",
       "\t<tr><td>921018           </td><td>Hardly interested</td><td>9                </td></tr>\n",
       "\t<tr><td>921026           </td><td>Quite interested </td><td>8                </td></tr>\n",
       "\t<tr><td>921034           </td><td>Quite interested </td><td>8                </td></tr>\n",
       "</tbody>\n",
       "</table>\n"
      ],
      "text/latex": [
       "\\begin{tabular}{r|lll}\n",
       " idno & polintr & happy\\\\\n",
       "\\hline\n",
       "\t 921018            & Hardly interested & 9                \\\\\n",
       "\t 921026            & Quite interested  & 8                \\\\\n",
       "\t 921034            & Quite interested  & 8                \\\\\n",
       "\\end{tabular}\n"
      ],
      "text/markdown": [
       "\n",
       "| idno | polintr | happy |\n",
       "|---|---|---|\n",
       "| 921018            | Hardly interested | 9                 |\n",
       "| 921026            | Quite interested  | 8                 |\n",
       "| 921034            | Quite interested  | 8                 |\n",
       "\n"
      ],
      "text/plain": [
       "  idno   polintr           happy\n",
       "1 921018 Hardly interested 9    \n",
       "2 921026 Quite interested  8    \n",
       "3 921034 Quite interested  8    "
      ]
     },
     "metadata": {},
     "output_type": "display_data"
    }
   ],
   "source": [
    "ess_subset <- select(ess_data, idno, polintr, happy)  # selects variables idno, polintr and happy\n",
    "head(ess_subset, 3)"
   ]
  },
  {
   "cell_type": "markdown",
   "metadata": {},
   "source": [
    "Note that the dataset to subset has to be the first arguement specified, as any number of datasets can be loaded into R at the same time."
   ]
  },
  {
   "cell_type": "markdown",
   "metadata": {},
   "source": [
    "`filter()` is used to filter observations based on a certain condition:"
   ]
  },
  {
   "cell_type": "code",
   "execution_count": 45,
   "metadata": {},
   "outputs": [
    {
     "data": {
      "text/html": [
       "<table>\n",
       "<thead><tr><th scope=col>idno</th><th scope=col>ppltrst</th><th scope=col>polintr</th><th scope=col>vote</th><th scope=col>lrscale</th><th scope=col>happy</th><th scope=col>health</th><th scope=col>cgtsday</th><th scope=col>cgtsmke</th><th scope=col>alcfreq</th><th scope=col>brncntr</th><th scope=col>height</th><th scope=col>weight</th><th scope=col>gndr</th><th scope=col>yrbrn</th><th scope=col>edlvddk</th><th scope=col>marsts</th><th scope=col>polpartvt</th></tr></thead>\n",
       "<tbody>\n",
       "\t<tr><td>921018                                                                        </td><td>6                                                                             </td><td>Hardly interested                                                             </td><td>Not eligible to vote                                                          </td><td>4                                                                             </td><td>9                                                                             </td><td>Very good                                                                     </td><td>10                                                                            </td><td>I smoke but not every day                                                     </td><td>2-3 times a month                                                             </td><td>Yes                                                                           </td><td>178                                                                           </td><td>64                                                                            </td><td>Male                                                                          </td><td>1990                                                                          </td><td>Folkeskole 6.-8. klasse                                                       </td><td>None of these (NEVER married or in legally registered civil union)            </td><td>[NA] Not applicable                                                           </td></tr>\n",
       "\t<tr><td>921262                                                                        </td><td>8                                                                             </td><td>Hardly interested                                                             </td><td>Yes                                                                           </td><td>7                                                                             </td><td>8                                                                             </td><td>Very good                                                                     </td><td>NA                                                                            </td><td>I have never smoked                                                           </td><td>2-3 times a month                                                             </td><td>Yes                                                                           </td><td>180                                                                           </td><td>93                                                                            </td><td>Male                                                                          </td><td>1987                                                                          </td><td>Mellemlang videregående uddannelse af 3-4 års varighed. Professionsbachelorer,</td><td>None of these (NEVER married or in legally registered civil union)            </td><td>[7] Venstre, Danmarks Liberale Parti - Venstre                                </td></tr>\n",
       "\t<tr><td>921319                                                                        </td><td>8                                                                             </td><td>Very interested                                                               </td><td>Not eligible to vote                                                          </td><td>8                                                                             </td><td>Extremely happy                                                               </td><td>Fair                                                                          </td><td>10                                                                            </td><td>I smoke daily                                                                 </td><td>Once a week                                                                   </td><td>Yes                                                                           </td><td>185                                                                           </td><td>82                                                                            </td><td>Male                                                                          </td><td>1997                                                                          </td><td>Folkeskole 9.-10. klasse                                                      </td><td>None of these (NEVER married or in legally registered civil union)            </td><td>[NA] Not applicable                                                           </td></tr>\n",
       "</tbody>\n",
       "</table>\n"
      ],
      "text/latex": [
       "\\begin{tabular}{r|llllllllllllllllll}\n",
       " idno & ppltrst & polintr & vote & lrscale & happy & health & cgtsday & cgtsmke & alcfreq & brncntr & height & weight & gndr & yrbrn & edlvddk & marsts & polpartvt\\\\\n",
       "\\hline\n",
       "\t 921018                                                                         & 6                                                                              & Hardly interested                                                              & Not eligible to vote                                                           & 4                                                                              & 9                                                                              & Very good                                                                      & 10                                                                             & I smoke but not every day                                                      & 2-3 times a month                                                              & Yes                                                                            & 178                                                                            & 64                                                                             & Male                                                                           & 1990                                                                           & Folkeskole 6.-8. klasse                                                        & None of these (NEVER married or in legally registered civil union)             & {[}NA{]} Not applicable                                                       \\\\\n",
       "\t 921262                                                                         & 8                                                                              & Hardly interested                                                              & Yes                                                                            & 7                                                                              & 8                                                                              & Very good                                                                      & NA                                                                             & I have never smoked                                                            & 2-3 times a month                                                              & Yes                                                                            & 180                                                                            & 93                                                                             & Male                                                                           & 1987                                                                           & Mellemlang videregående uddannelse af 3-4 års varighed. Professionsbachelorer, & None of these (NEVER married or in legally registered civil union)             & {[}7{]} Venstre, Danmarks Liberale Parti - Venstre                            \\\\\n",
       "\t 921319                                                                         & 8                                                                              & Very interested                                                                & Not eligible to vote                                                           & 8                                                                              & Extremely happy                                                                & Fair                                                                           & 10                                                                             & I smoke daily                                                                  & Once a week                                                                    & Yes                                                                            & 185                                                                            & 82                                                                             & Male                                                                           & 1997                                                                           & Folkeskole 9.-10. klasse                                                       & None of these (NEVER married or in legally registered civil union)             & {[}NA{]} Not applicable                                                       \\\\\n",
       "\\end{tabular}\n"
      ],
      "text/markdown": [
       "\n",
       "| idno | ppltrst | polintr | vote | lrscale | happy | health | cgtsday | cgtsmke | alcfreq | brncntr | height | weight | gndr | yrbrn | edlvddk | marsts | polpartvt |\n",
       "|---|---|---|---|---|---|---|---|---|---|---|---|---|---|---|---|---|---|\n",
       "| 921018                                                                         | 6                                                                              | Hardly interested                                                              | Not eligible to vote                                                           | 4                                                                              | 9                                                                              | Very good                                                                      | 10                                                                             | I smoke but not every day                                                      | 2-3 times a month                                                              | Yes                                                                            | 178                                                                            | 64                                                                             | Male                                                                           | 1990                                                                           | Folkeskole 6.-8. klasse                                                        | None of these (NEVER married or in legally registered civil union)             | [NA] Not applicable                                                            |\n",
       "| 921262                                                                         | 8                                                                              | Hardly interested                                                              | Yes                                                                            | 7                                                                              | 8                                                                              | Very good                                                                      | NA                                                                             | I have never smoked                                                            | 2-3 times a month                                                              | Yes                                                                            | 180                                                                            | 93                                                                             | Male                                                                           | 1987                                                                           | Mellemlang videregående uddannelse af 3-4 års varighed. Professionsbachelorer, | None of these (NEVER married or in legally registered civil union)             | [7] Venstre, Danmarks Liberale Parti - Venstre                                 |\n",
       "| 921319                                                                         | 8                                                                              | Very interested                                                                | Not eligible to vote                                                           | 8                                                                              | Extremely happy                                                                | Fair                                                                           | 10                                                                             | I smoke daily                                                                  | Once a week                                                                    | Yes                                                                            | 185                                                                            | 82                                                                             | Male                                                                           | 1997                                                                           | Folkeskole 9.-10. klasse                                                       | None of these (NEVER married or in legally registered civil union)             | [NA] Not applicable                                                            |\n",
       "\n"
      ],
      "text/plain": [
       "  idno   ppltrst polintr           vote                 lrscale happy          \n",
       "1 921018 6       Hardly interested Not eligible to vote 4       9              \n",
       "2 921262 8       Hardly interested Yes                  7       8              \n",
       "3 921319 8       Very interested   Not eligible to vote 8       Extremely happy\n",
       "  health    cgtsday cgtsmke                   alcfreq           brncntr height\n",
       "1 Very good 10      I smoke but not every day 2-3 times a month Yes     178   \n",
       "2 Very good NA      I have never smoked       2-3 times a month Yes     180   \n",
       "3 Fair      10      I smoke daily             Once a week       Yes     185   \n",
       "  weight gndr yrbrn\n",
       "1 64     Male 1990 \n",
       "2 93     Male 1987 \n",
       "3 82     Male 1997 \n",
       "  edlvddk                                                                       \n",
       "1 Folkeskole 6.-8. klasse                                                       \n",
       "2 Mellemlang videregående uddannelse af 3-4 års varighed. Professionsbachelorer,\n",
       "3 Folkeskole 9.-10. klasse                                                      \n",
       "  marsts                                                            \n",
       "1 None of these (NEVER married or in legally registered civil union)\n",
       "2 None of these (NEVER married or in legally registered civil union)\n",
       "3 None of these (NEVER married or in legally registered civil union)\n",
       "  polpartvt                                     \n",
       "1 [NA] Not applicable                           \n",
       "2 [7] Venstre, Danmarks Liberale Parti - Venstre\n",
       "3 [NA] Not applicable                           "
      ]
     },
     "metadata": {},
     "output_type": "display_data"
    }
   ],
   "source": [
    "ess_subset <- filter(ess_data, yrbrn > 1985)  # filter observations born after 1985\n",
    "head(ess_subset, 3)"
   ]
  },
  {
   "cell_type": "markdown",
   "metadata": {},
   "source": [
    "`arrange()` is used for ordering the data based on one or several columns:"
   ]
  },
  {
   "cell_type": "code",
   "execution_count": 47,
   "metadata": {},
   "outputs": [
    {
     "data": {
      "text/html": [
       "<table>\n",
       "<thead><tr><th scope=col>idno</th><th scope=col>ppltrst</th><th scope=col>polintr</th><th scope=col>vote</th><th scope=col>lrscale</th><th scope=col>happy</th><th scope=col>health</th><th scope=col>cgtsday</th><th scope=col>cgtsmke</th><th scope=col>alcfreq</th><th scope=col>brncntr</th><th scope=col>height</th><th scope=col>weight</th><th scope=col>gndr</th><th scope=col>yrbrn</th><th scope=col>edlvddk</th><th scope=col>marsts</th><th scope=col>polpartvt</th></tr></thead>\n",
       "<tbody>\n",
       "\t<tr><td>939530                                                                        </td><td>7                                                                             </td><td>Very interested                                                               </td><td>Yes                                                                           </td><td>8                                                                             </td><td>8                                                                             </td><td>Bad                                                                           </td><td>NA                                                                            </td><td>I don't smoke now but I used to                                               </td><td>Several times a week                                                          </td><td>No                                                                            </td><td>149                                                                           </td><td>56                                                                            </td><td>Female                                                                        </td><td>1983                                                                          </td><td>Kort videregående uddannelse af op til 2-3 års varighed, F.eks. Erhvervsakadem</td><td>None of these (NEVER married or in legally registered civil union)            </td><td>[2] Det Radikale Venstre - Danish Social-Liberal Party                        </td></tr>\n",
       "\t<tr><td>926246                                                                        </td><td>5                                                                             </td><td>Hardly interested                                                             </td><td>Yes                                                                           </td><td>2                                                                             </td><td>5                                                                             </td><td>Fair                                                                          </td><td>NA                                                                            </td><td>I have never smoked                                                           </td><td>Never                                                                         </td><td>No                                                                            </td><td>150                                                                           </td><td>53                                                                            </td><td>Female                                                                        </td><td>1969                                                                          </td><td>Gymnasielle uddannelser, studentereksamen, HF, HHX, HTX                       </td><td>Legally divorced/civil union dissolved                                        </td><td>[1] Socialdemokraterne - the Danish social democrats                          </td></tr>\n",
       "\t<tr><td>931697                                                                        </td><td>8                                                                             </td><td>Very interested                                                               </td><td>Yes                                                                           </td><td>9                                                                             </td><td>9                                                                             </td><td>Very good                                                                     </td><td>NA                                                                            </td><td>I have never smoked                                                           </td><td>2-3 times a month                                                             </td><td>Yes                                                                           </td><td>150                                                                           </td><td>52                                                                            </td><td>Female                                                                        </td><td>1946                                                                          </td><td>Mellemlang videregående uddannelse af 3-4 års varighed. Professionsbachelorer,</td><td>Not applicable                                                                </td><td>[7] Venstre, Danmarks Liberale Parti - Venstre                                </td></tr>\n",
       "</tbody>\n",
       "</table>\n"
      ],
      "text/latex": [
       "\\begin{tabular}{r|llllllllllllllllll}\n",
       " idno & ppltrst & polintr & vote & lrscale & happy & health & cgtsday & cgtsmke & alcfreq & brncntr & height & weight & gndr & yrbrn & edlvddk & marsts & polpartvt\\\\\n",
       "\\hline\n",
       "\t 939530                                                                         & 7                                                                              & Very interested                                                                & Yes                                                                            & 8                                                                              & 8                                                                              & Bad                                                                            & NA                                                                             & I don't smoke now but I used to                                                & Several times a week                                                           & No                                                                             & 149                                                                            & 56                                                                             & Female                                                                         & 1983                                                                           & Kort videregående uddannelse af op til 2-3 års varighed, F.eks. Erhvervsakadem & None of these (NEVER married or in legally registered civil union)             & {[}2{]} Det Radikale Venstre - Danish Social-Liberal Party                    \\\\\n",
       "\t 926246                                                                         & 5                                                                              & Hardly interested                                                              & Yes                                                                            & 2                                                                              & 5                                                                              & Fair                                                                           & NA                                                                             & I have never smoked                                                            & Never                                                                          & No                                                                             & 150                                                                            & 53                                                                             & Female                                                                         & 1969                                                                           & Gymnasielle uddannelser, studentereksamen, HF, HHX, HTX                        & Legally divorced/civil union dissolved                                         & {[}1{]} Socialdemokraterne - the Danish social democrats                      \\\\\n",
       "\t 931697                                                                         & 8                                                                              & Very interested                                                                & Yes                                                                            & 9                                                                              & 9                                                                              & Very good                                                                      & NA                                                                             & I have never smoked                                                            & 2-3 times a month                                                              & Yes                                                                            & 150                                                                            & 52                                                                             & Female                                                                         & 1946                                                                           & Mellemlang videregående uddannelse af 3-4 års varighed. Professionsbachelorer, & Not applicable                                                                 & {[}7{]} Venstre, Danmarks Liberale Parti - Venstre                            \\\\\n",
       "\\end{tabular}\n"
      ],
      "text/markdown": [
       "\n",
       "| idno | ppltrst | polintr | vote | lrscale | happy | health | cgtsday | cgtsmke | alcfreq | brncntr | height | weight | gndr | yrbrn | edlvddk | marsts | polpartvt |\n",
       "|---|---|---|---|---|---|---|---|---|---|---|---|---|---|---|---|---|---|\n",
       "| 939530                                                                         | 7                                                                              | Very interested                                                                | Yes                                                                            | 8                                                                              | 8                                                                              | Bad                                                                            | NA                                                                             | I don't smoke now but I used to                                                | Several times a week                                                           | No                                                                             | 149                                                                            | 56                                                                             | Female                                                                         | 1983                                                                           | Kort videregående uddannelse af op til 2-3 års varighed, F.eks. Erhvervsakadem | None of these (NEVER married or in legally registered civil union)             | [2] Det Radikale Venstre - Danish Social-Liberal Party                         |\n",
       "| 926246                                                                         | 5                                                                              | Hardly interested                                                              | Yes                                                                            | 2                                                                              | 5                                                                              | Fair                                                                           | NA                                                                             | I have never smoked                                                            | Never                                                                          | No                                                                             | 150                                                                            | 53                                                                             | Female                                                                         | 1969                                                                           | Gymnasielle uddannelser, studentereksamen, HF, HHX, HTX                        | Legally divorced/civil union dissolved                                         | [1] Socialdemokraterne - the Danish social democrats                           |\n",
       "| 931697                                                                         | 8                                                                              | Very interested                                                                | Yes                                                                            | 9                                                                              | 9                                                                              | Very good                                                                      | NA                                                                             | I have never smoked                                                            | 2-3 times a month                                                              | Yes                                                                            | 150                                                                            | 52                                                                             | Female                                                                         | 1946                                                                           | Mellemlang videregående uddannelse af 3-4 års varighed. Professionsbachelorer, | Not applicable                                                                 | [7] Venstre, Danmarks Liberale Parti - Venstre                                 |\n",
       "\n"
      ],
      "text/plain": [
       "  idno   ppltrst polintr           vote lrscale happy health    cgtsday\n",
       "1 939530 7       Very interested   Yes  8       8     Bad       NA     \n",
       "2 926246 5       Hardly interested Yes  2       5     Fair      NA     \n",
       "3 931697 8       Very interested   Yes  9       9     Very good NA     \n",
       "  cgtsmke                         alcfreq              brncntr height weight\n",
       "1 I don't smoke now but I used to Several times a week No      149    56    \n",
       "2 I have never smoked             Never                No      150    53    \n",
       "3 I have never smoked             2-3 times a month    Yes     150    52    \n",
       "  gndr   yrbrn\n",
       "1 Female 1983 \n",
       "2 Female 1969 \n",
       "3 Female 1946 \n",
       "  edlvddk                                                                       \n",
       "1 Kort videregående uddannelse af op til 2-3 års varighed, F.eks. Erhvervsakadem\n",
       "2 Gymnasielle uddannelser, studentereksamen, HF, HHX, HTX                       \n",
       "3 Mellemlang videregående uddannelse af 3-4 års varighed. Professionsbachelorer,\n",
       "  marsts                                                            \n",
       "1 None of these (NEVER married or in legally registered civil union)\n",
       "2 Legally divorced/civil union dissolved                            \n",
       "3 Not applicable                                                    \n",
       "  polpartvt                                             \n",
       "1 [2] Det Radikale Venstre - Danish Social-Liberal Party\n",
       "2 [1] Socialdemokraterne - the Danish social democrats  \n",
       "3 [7] Venstre, Danmarks Liberale Parti - Venstre        "
      ]
     },
     "metadata": {},
     "output_type": "display_data"
    }
   ],
   "source": [
    "ess_ordered <- arrange(ess_data, height)  # ordered by height, lowest first\n",
    "head(ess_ordered, 3)"
   ]
  },
  {
   "cell_type": "markdown",
   "metadata": {},
   "source": [
    "`desc()` can be used in combination with `arrange()` to sort descending:"
   ]
  },
  {
   "cell_type": "code",
   "execution_count": 48,
   "metadata": {},
   "outputs": [
    {
     "data": {
      "text/html": [
       "<table>\n",
       "<thead><tr><th scope=col>idno</th><th scope=col>ppltrst</th><th scope=col>polintr</th><th scope=col>vote</th><th scope=col>lrscale</th><th scope=col>happy</th><th scope=col>health</th><th scope=col>cgtsday</th><th scope=col>cgtsmke</th><th scope=col>alcfreq</th><th scope=col>brncntr</th><th scope=col>height</th><th scope=col>weight</th><th scope=col>gndr</th><th scope=col>yrbrn</th><th scope=col>edlvddk</th><th scope=col>marsts</th><th scope=col>polpartvt</th></tr></thead>\n",
       "<tbody>\n",
       "\t<tr><td>921408                                                                        </td><td>7                                                                             </td><td>Quite interested                                                              </td><td>Yes                                                                           </td><td>8                                                                             </td><td>9                                                                             </td><td>Fair                                                                          </td><td> 1                                                                            </td><td>I smoke but not every day                                                     </td><td>Several times a week                                                          </td><td>Yes                                                                           </td><td>203                                                                           </td><td>104                                                                           </td><td>Male                                                                          </td><td>1977                                                                          </td><td>Lang videregående uddannelse. Kandidatuddannelser af 5.-6. års varighed, F.eks</td><td>Not applicable                                                                </td><td>[7] Venstre, Danmarks Liberale Parti - Venstre                                </td></tr>\n",
       "\t<tr><td>949999                                                                        </td><td>8                                                                             </td><td>Hardly interested                                                             </td><td>Not eligible to vote                                                          </td><td>4                                                                             </td><td>4                                                                             </td><td>Good                                                                          </td><td>NA                                                                            </td><td>I have only smoked a few times                                                </td><td>Several times a week                                                          </td><td>No                                                                            </td><td>200                                                                           </td><td> 88                                                                           </td><td>Male                                                                          </td><td>1994                                                                          </td><td>Gymnasielle uddannelser, studentereksamen, HF, HHX, HTX                       </td><td>None of these (NEVER married or in legally registered civil union)            </td><td>[NA] Not applicable                                                           </td></tr>\n",
       "\t<tr><td>926149                                                                        </td><td>Most people can be trusted                                                    </td><td>Quite interested                                                              </td><td>Yes                                                                           </td><td>5                                                                             </td><td>5                                                                             </td><td>Very good                                                                     </td><td>NA                                                                            </td><td>I have never smoked                                                           </td><td>Several times a week                                                          </td><td>Yes                                                                           </td><td>198                                                                           </td><td>105                                                                           </td><td>Male                                                                          </td><td>1956                                                                          </td><td>Lang videregående uddannelse. Kandidatuddannelser af 5.-6. års varighed, F.eks</td><td>Not applicable                                                                </td><td>[2] Det Radikale Venstre - Danish Social-Liberal Party                        </td></tr>\n",
       "</tbody>\n",
       "</table>\n"
      ],
      "text/latex": [
       "\\begin{tabular}{r|llllllllllllllllll}\n",
       " idno & ppltrst & polintr & vote & lrscale & happy & health & cgtsday & cgtsmke & alcfreq & brncntr & height & weight & gndr & yrbrn & edlvddk & marsts & polpartvt\\\\\n",
       "\\hline\n",
       "\t 921408                                                                         & 7                                                                              & Quite interested                                                               & Yes                                                                            & 8                                                                              & 9                                                                              & Fair                                                                           &  1                                                                             & I smoke but not every day                                                      & Several times a week                                                           & Yes                                                                            & 203                                                                            & 104                                                                            & Male                                                                           & 1977                                                                           & Lang videregående uddannelse. Kandidatuddannelser af 5.-6. års varighed, F.eks & Not applicable                                                                 & {[}7{]} Venstre, Danmarks Liberale Parti - Venstre                            \\\\\n",
       "\t 949999                                                                         & 8                                                                              & Hardly interested                                                              & Not eligible to vote                                                           & 4                                                                              & 4                                                                              & Good                                                                           & NA                                                                             & I have only smoked a few times                                                 & Several times a week                                                           & No                                                                             & 200                                                                            &  88                                                                            & Male                                                                           & 1994                                                                           & Gymnasielle uddannelser, studentereksamen, HF, HHX, HTX                        & None of these (NEVER married or in legally registered civil union)             & {[}NA{]} Not applicable                                                       \\\\\n",
       "\t 926149                                                                         & Most people can be trusted                                                     & Quite interested                                                               & Yes                                                                            & 5                                                                              & 5                                                                              & Very good                                                                      & NA                                                                             & I have never smoked                                                            & Several times a week                                                           & Yes                                                                            & 198                                                                            & 105                                                                            & Male                                                                           & 1956                                                                           & Lang videregående uddannelse. Kandidatuddannelser af 5.-6. års varighed, F.eks & Not applicable                                                                 & {[}2{]} Det Radikale Venstre - Danish Social-Liberal Party                    \\\\\n",
       "\\end{tabular}\n"
      ],
      "text/markdown": [
       "\n",
       "| idno | ppltrst | polintr | vote | lrscale | happy | health | cgtsday | cgtsmke | alcfreq | brncntr | height | weight | gndr | yrbrn | edlvddk | marsts | polpartvt |\n",
       "|---|---|---|---|---|---|---|---|---|---|---|---|---|---|---|---|---|---|\n",
       "| 921408                                                                         | 7                                                                              | Quite interested                                                               | Yes                                                                            | 8                                                                              | 9                                                                              | Fair                                                                           |  1                                                                             | I smoke but not every day                                                      | Several times a week                                                           | Yes                                                                            | 203                                                                            | 104                                                                            | Male                                                                           | 1977                                                                           | Lang videregående uddannelse. Kandidatuddannelser af 5.-6. års varighed, F.eks | Not applicable                                                                 | [7] Venstre, Danmarks Liberale Parti - Venstre                                 |\n",
       "| 949999                                                                         | 8                                                                              | Hardly interested                                                              | Not eligible to vote                                                           | 4                                                                              | 4                                                                              | Good                                                                           | NA                                                                             | I have only smoked a few times                                                 | Several times a week                                                           | No                                                                             | 200                                                                            |  88                                                                            | Male                                                                           | 1994                                                                           | Gymnasielle uddannelser, studentereksamen, HF, HHX, HTX                        | None of these (NEVER married or in legally registered civil union)             | [NA] Not applicable                                                            |\n",
       "| 926149                                                                         | Most people can be trusted                                                     | Quite interested                                                               | Yes                                                                            | 5                                                                              | 5                                                                              | Very good                                                                      | NA                                                                             | I have never smoked                                                            | Several times a week                                                           | Yes                                                                            | 198                                                                            | 105                                                                            | Male                                                                           | 1956                                                                           | Lang videregående uddannelse. Kandidatuddannelser af 5.-6. års varighed, F.eks | Not applicable                                                                 | [2] Det Radikale Venstre - Danish Social-Liberal Party                         |\n",
       "\n"
      ],
      "text/plain": [
       "  idno   ppltrst                    polintr           vote                \n",
       "1 921408 7                          Quite interested  Yes                 \n",
       "2 949999 8                          Hardly interested Not eligible to vote\n",
       "3 926149 Most people can be trusted Quite interested  Yes                 \n",
       "  lrscale happy health    cgtsday cgtsmke                       \n",
       "1 8       9     Fair       1      I smoke but not every day     \n",
       "2 4       4     Good      NA      I have only smoked a few times\n",
       "3 5       5     Very good NA      I have never smoked           \n",
       "  alcfreq              brncntr height weight gndr yrbrn\n",
       "1 Several times a week Yes     203    104    Male 1977 \n",
       "2 Several times a week No      200     88    Male 1994 \n",
       "3 Several times a week Yes     198    105    Male 1956 \n",
       "  edlvddk                                                                       \n",
       "1 Lang videregående uddannelse. Kandidatuddannelser af 5.-6. års varighed, F.eks\n",
       "2 Gymnasielle uddannelser, studentereksamen, HF, HHX, HTX                       \n",
       "3 Lang videregående uddannelse. Kandidatuddannelser af 5.-6. års varighed, F.eks\n",
       "  marsts                                                            \n",
       "1 Not applicable                                                    \n",
       "2 None of these (NEVER married or in legally registered civil union)\n",
       "3 Not applicable                                                    \n",
       "  polpartvt                                             \n",
       "1 [7] Venstre, Danmarks Liberale Parti - Venstre        \n",
       "2 [NA] Not applicable                                   \n",
       "3 [2] Det Radikale Venstre - Danish Social-Liberal Party"
      ]
     },
     "metadata": {},
     "output_type": "display_data"
    }
   ],
   "source": [
    "ess_ordered <- arrange(ess_data, desc(height))  # ordered by height, highest first\n",
    "head(ess_ordered, 3)"
   ]
  },
  {
   "cell_type": "markdown",
   "metadata": {},
   "source": [
    "## The pipe\n",
    "\n",
    "All `tidyverse` packages (like `dplyr`) support using the pipe `%>%`.\n",
    "\n",
    "The pipe allows one to chain commands together. When using the pipe, the first arguement is assumed to be the data frame specified on the previous line:"
   ]
  },
  {
   "cell_type": "code",
   "execution_count": 50,
   "metadata": {},
   "outputs": [
    {
     "data": {
      "text/html": [
       "<table>\n",
       "<thead><tr><th scope=col>idno</th><th scope=col>polintr</th><th scope=col>happy</th><th scope=col>yrbrn</th><th scope=col>height</th></tr></thead>\n",
       "<tbody>\n",
       "\t<tr><td>949999           </td><td>Hardly interested</td><td>4                </td><td>1994             </td><td>200              </td></tr>\n",
       "\t<tr><td>948715           </td><td>Very interested  </td><td>6                </td><td>1993             </td><td>198              </td></tr>\n",
       "\t<tr><td>924113           </td><td>Quite interested </td><td>8                </td><td>1997             </td><td>197              </td></tr>\n",
       "</tbody>\n",
       "</table>\n"
      ],
      "text/latex": [
       "\\begin{tabular}{r|lllll}\n",
       " idno & polintr & happy & yrbrn & height\\\\\n",
       "\\hline\n",
       "\t 949999            & Hardly interested & 4                 & 1994              & 200              \\\\\n",
       "\t 948715            & Very interested   & 6                 & 1993              & 198              \\\\\n",
       "\t 924113            & Quite interested  & 8                 & 1997              & 197              \\\\\n",
       "\\end{tabular}\n"
      ],
      "text/markdown": [
       "\n",
       "| idno | polintr | happy | yrbrn | height |\n",
       "|---|---|---|---|---|\n",
       "| 949999            | Hardly interested | 4                 | 1994              | 200               |\n",
       "| 948715            | Very interested   | 6                 | 1993              | 198               |\n",
       "| 924113            | Quite interested  | 8                 | 1997              | 197               |\n",
       "\n"
      ],
      "text/plain": [
       "  idno   polintr           happy yrbrn height\n",
       "1 949999 Hardly interested 4     1994  200   \n",
       "2 948715 Very interested   6     1993  198   \n",
       "3 924113 Quite interested  8     1997  197   "
      ]
     },
     "metadata": {},
     "output_type": "display_data"
    }
   ],
   "source": [
    "ess_subset <- ess_data %>%  # the data frame ess_subset is created as a copy of ess_data and then \"fed\" into the pipe\n",
    "    select(idno, polintr, happy, yrbrn, height) %>% # 5 variables selected. the first arguement is omitted as that is given through the pipe\n",
    "    filter(yrbrn > 1985) %>% # observations filtered\n",
    "    arrange(desc(height))  # ordered by height, descending\n",
    "\n",
    "head(ess_subset, 3)"
   ]
  },
  {
   "cell_type": "markdown",
   "metadata": {},
   "source": [
    "## Recoding and new variables\n",
    "\n",
    "`mutate()` is used both for recoding and creating new variables.\n",
    "\n",
    "Creating an age variable based on `yrbrn` (data is from 2014):"
   ]
  },
  {
   "cell_type": "code",
   "execution_count": 52,
   "metadata": {},
   "outputs": [
    {
     "data": {
      "text/html": [
       "<table>\n",
       "<thead><tr><th scope=col>idno</th><th scope=col>yrbrn</th><th scope=col>age</th></tr></thead>\n",
       "<tbody>\n",
       "\t<tr><td>921018</td><td>1990  </td><td>24    </td></tr>\n",
       "\t<tr><td>921026</td><td>1948  </td><td>66    </td></tr>\n",
       "\t<tr><td>921034</td><td>1957  </td><td>57    </td></tr>\n",
       "</tbody>\n",
       "</table>\n"
      ],
      "text/latex": [
       "\\begin{tabular}{r|lll}\n",
       " idno & yrbrn & age\\\\\n",
       "\\hline\n",
       "\t 921018 & 1990   & 24    \\\\\n",
       "\t 921026 & 1948   & 66    \\\\\n",
       "\t 921034 & 1957   & 57    \\\\\n",
       "\\end{tabular}\n"
      ],
      "text/markdown": [
       "\n",
       "| idno | yrbrn | age |\n",
       "|---|---|---|\n",
       "| 921018 | 1990   | 24     |\n",
       "| 921026 | 1948   | 66     |\n",
       "| 921034 | 1957   | 57     |\n",
       "\n"
      ],
      "text/plain": [
       "  idno   yrbrn age\n",
       "1 921018 1990  24 \n",
       "2 921026 1948  66 \n",
       "3 921034 1957  57 "
      ]
     },
     "metadata": {},
     "output_type": "display_data"
    }
   ],
   "source": [
    "ess_data %>%    # note no object assignment meaning this change is not stored\n",
    "    mutate(age = 2014 - yrbrn) %>%\n",
    "    select(idno, yrbrn, age) %>%\n",
    "    head(3)"
   ]
  },
  {
   "cell_type": "markdown",
   "metadata": {},
   "source": [
    "`recode()` is used to change single values. `.default = ` sets the value for values not specified:"
   ]
  },
  {
   "cell_type": "code",
   "execution_count": 54,
   "metadata": {},
   "outputs": [
    {
     "data": {
      "text/html": [
       "<table>\n",
       "<thead><tr><th scope=col>idno</th><th scope=col>alcfreq</th><th scope=col>new_alcfreq</th></tr></thead>\n",
       "<tbody>\n",
       "\t<tr><td>921018              </td><td>2-3 times a month   </td><td>IRRELEVANT          </td></tr>\n",
       "\t<tr><td>921026              </td><td>Several times a week</td><td>IRRELEVANT          </td></tr>\n",
       "\t<tr><td>921034              </td><td>Every day           </td><td>DAILY DRINKER       </td></tr>\n",
       "\t<tr><td>921181              </td><td>Once a week         </td><td>WEEKLY DRINKER      </td></tr>\n",
       "</tbody>\n",
       "</table>\n"
      ],
      "text/latex": [
       "\\begin{tabular}{r|lll}\n",
       " idno & alcfreq & new\\_alcfreq\\\\\n",
       "\\hline\n",
       "\t 921018               & 2-3 times a month    & IRRELEVANT          \\\\\n",
       "\t 921026               & Several times a week & IRRELEVANT          \\\\\n",
       "\t 921034               & Every day            & DAILY DRINKER       \\\\\n",
       "\t 921181               & Once a week          & WEEKLY DRINKER      \\\\\n",
       "\\end{tabular}\n"
      ],
      "text/markdown": [
       "\n",
       "| idno | alcfreq | new_alcfreq |\n",
       "|---|---|---|\n",
       "| 921018               | 2-3 times a month    | IRRELEVANT           |\n",
       "| 921026               | Several times a week | IRRELEVANT           |\n",
       "| 921034               | Every day            | DAILY DRINKER        |\n",
       "| 921181               | Once a week          | WEEKLY DRINKER       |\n",
       "\n"
      ],
      "text/plain": [
       "  idno   alcfreq              new_alcfreq   \n",
       "1 921018 2-3 times a month    IRRELEVANT    \n",
       "2 921026 Several times a week IRRELEVANT    \n",
       "3 921034 Every day            DAILY DRINKER \n",
       "4 921181 Once a week          WEEKLY DRINKER"
      ]
     },
     "metadata": {},
     "output_type": "display_data"
    }
   ],
   "source": [
    "ess_data %>% #note that this code also recodes missing\n",
    "    mutate(new_alcfreq = recode(alcfreq, \"Every day\" = \"DAILY DRINKER\", \"Once a week\" = \"WEEKLY DRINKER\", \n",
    "                            .default = \"IRRELEVANT\")) %>%\n",
    "    select(idno, alcfreq, new_alcfreq) %>%\n",
    "    head(4)"
   ]
  },
  {
   "cell_type": "markdown",
   "metadata": {},
   "source": [
    "`if_else()` is used to recode based on logicals/booleans:"
   ]
  },
  {
   "cell_type": "code",
   "execution_count": 57,
   "metadata": {},
   "outputs": [
    {
     "data": {
      "text/html": [
       "<table>\n",
       "<thead><tr><th scope=col>idno</th><th scope=col>health</th><th scope=col>new_health</th></tr></thead>\n",
       "<tbody>\n",
       "\t<tr><td>921018             </td><td>Very good          </td><td>HEALTHY PERSON     </td></tr>\n",
       "\t<tr><td>921026             </td><td>Very good          </td><td>HEALTHY PERSON     </td></tr>\n",
       "\t<tr><td>921034             </td><td>Good               </td><td>LESS HEALTHY PERSON</td></tr>\n",
       "</tbody>\n",
       "</table>\n"
      ],
      "text/latex": [
       "\\begin{tabular}{r|lll}\n",
       " idno & health & new\\_health\\\\\n",
       "\\hline\n",
       "\t 921018              & Very good           & HEALTHY PERSON     \\\\\n",
       "\t 921026              & Very good           & HEALTHY PERSON     \\\\\n",
       "\t 921034              & Good                & LESS HEALTHY PERSON\\\\\n",
       "\\end{tabular}\n"
      ],
      "text/markdown": [
       "\n",
       "| idno | health | new_health |\n",
       "|---|---|---|\n",
       "| 921018              | Very good           | HEALTHY PERSON      |\n",
       "| 921026              | Very good           | HEALTHY PERSON      |\n",
       "| 921034              | Good                | LESS HEALTHY PERSON |\n",
       "\n"
      ],
      "text/plain": [
       "  idno   health    new_health         \n",
       "1 921018 Very good HEALTHY PERSON     \n",
       "2 921026 Very good HEALTHY PERSON     \n",
       "3 921034 Good      LESS HEALTHY PERSON"
      ]
     },
     "metadata": {},
     "output_type": "display_data"
    }
   ],
   "source": [
    "ess_data %>% #note that this code also recodes missing\n",
    "    mutate(new_health = if_else(health == \"Very good\", \"HEALTHY PERSON\", \"LESS HEALTHY PERSON\")) %>%\n",
    "    select(idno, health, new_health) %>%\n",
    "    head(3)"
   ]
  },
  {
   "cell_type": "markdown",
   "metadata": {},
   "source": [
    "`case_when()` is used for specifying several logical/booleans:"
   ]
  },
  {
   "cell_type": "code",
   "execution_count": 80,
   "metadata": {},
   "outputs": [
    {
     "data": {
      "text/html": [
       "<table>\n",
       "<thead><tr><th scope=col>idno</th><th scope=col>health</th><th scope=col>new_health</th><th scope=col>yrbrn</th></tr></thead>\n",
       "<tbody>\n",
       "\t<tr><td>921319   </td><td>Fair     </td><td>healthy  </td><td>1997     </td></tr>\n",
       "\t<tr><td>921636   </td><td>Very good</td><td>healthy  </td><td>1996     </td></tr>\n",
       "\t<tr><td>922129   </td><td>Good     </td><td>healthy  </td><td>1998     </td></tr>\n",
       "\t<tr><td>922454   </td><td>Good     </td><td>healthy  </td><td>1991     </td></tr>\n",
       "\t<tr><td>922941   </td><td>Bad      </td><td>unhealthy</td><td>1991     </td></tr>\n",
       "</tbody>\n",
       "</table>\n"
      ],
      "text/latex": [
       "\\begin{tabular}{r|llll}\n",
       " idno & health & new\\_health & yrbrn\\\\\n",
       "\\hline\n",
       "\t 921319    & Fair      & healthy   & 1997     \\\\\n",
       "\t 921636    & Very good & healthy   & 1996     \\\\\n",
       "\t 922129    & Good      & healthy   & 1998     \\\\\n",
       "\t 922454    & Good      & healthy   & 1991     \\\\\n",
       "\t 922941    & Bad       & unhealthy & 1991     \\\\\n",
       "\\end{tabular}\n"
      ],
      "text/markdown": [
       "\n",
       "| idno | health | new_health | yrbrn |\n",
       "|---|---|---|---|\n",
       "| 921319    | Fair      | healthy   | 1997      |\n",
       "| 921636    | Very good | healthy   | 1996      |\n",
       "| 922129    | Good      | healthy   | 1998      |\n",
       "| 922454    | Good      | healthy   | 1991      |\n",
       "| 922941    | Bad       | unhealthy | 1991      |\n",
       "\n"
      ],
      "text/plain": [
       "  idno   health    new_health yrbrn\n",
       "1 921319 Fair      healthy    1997 \n",
       "2 921636 Very good healthy    1996 \n",
       "3 922129 Good      healthy    1998 \n",
       "4 922454 Good      healthy    1991 \n",
       "5 922941 Bad       unhealthy  1991 "
      ]
     },
     "metadata": {},
     "output_type": "display_data"
    }
   ],
   "source": [
    "ess_data %>%\n",
    "    mutate(new_health = case_when(\n",
    "        health == \"Very good\" ~ \"healthy\", \n",
    "        health == \"Good\" ~ \"healthy\",\n",
    "        health == \"Fair\" ~ \"healthy\",\n",
    "        health == \"Bad\" ~ \"unhealthy\",\n",
    "        health == \"Very bad\" ~ \"unhealthy\", \n",
    "        TRUE ~ health)) %>% #This line keeps remaining values as they are\n",
    "    select(idno, health, new_health, yrbrn) %>%\n",
    "    filter(yrbrn > 1990) %>%\n",
    "    head(5)"
   ]
  },
  {
   "cell_type": "markdown",
   "metadata": {},
   "source": [
    "# Refresher exercise\n",
    "\n",
    "This exercise will have you apply a variety of the functions taught in this refresher for reading and handling table data in R.\n",
    "\n",
    "1. Use `read_csv()` to read the dataset `ess2014_mainsub_p1.csv` from the URL: https://github.com/CALDISS-AAU/workshop_r-table-data/raw/master/data/ess2014_mainsub_p1.csv.\n",
    "    - Remember to assign the dataset to an object.\n",
    "\n",
    "\n",
    "2. Inspect the data set using `head()`. What does the data seem to contain? How many rows and columns? (`dim()`, `nrow()`, `ncol()`). \n",
    "\n",
    "\n",
    "3. Use `mutate()` to create an age variable from the variable `yrbrn` (data is from 2014).\n",
    "\n",
    "\n",
    "4. Use `mutate()` with `recode()` or `case_when()` to create a dummy variable indicating whether the respondent is a smoker or non-smoker (use either `cgtsday` or `cgtsmke`).\n",
    "    - Tip: Use `unique()` to see the unique values of a variable.\n",
    "\n",
    "\n",
    "5. Create a subset of the data set containing only smokers over the age of 40. How many observations are in the subset?"
   ]
  },
  {
   "cell_type": "code",
   "execution_count": 8,
   "metadata": {},
   "outputs": [
    {
     "name": "stderr",
     "output_type": "stream",
     "text": [
      "Parsed with column specification:\n",
      "cols(\n",
      "  idno = col_integer(),\n",
      "  ppltrst = col_character(),\n",
      "  polintr = col_character(),\n",
      "  vote = col_character(),\n",
      "  lrscale = col_character(),\n",
      "  happy = col_character(),\n",
      "  health = col_character(),\n",
      "  cgtsday = col_integer(),\n",
      "  cgtsmke = col_character(),\n",
      "  alcfreq = col_character(),\n",
      "  brncntr = col_character(),\n",
      "  height = col_integer(),\n",
      "  weight = col_double(),\n",
      "  gndr = col_character(),\n",
      "  yrbrn = col_integer(),\n",
      "  edlvddk = col_character(),\n",
      "  marsts = col_character(),\n",
      "  polpartvt = col_character()\n",
      ")\n"
     ]
    },
    {
     "data": {
      "text/html": [
       "<table>\n",
       "<thead><tr><th scope=col>idno</th><th scope=col>ppltrst</th><th scope=col>polintr</th><th scope=col>vote</th><th scope=col>lrscale</th><th scope=col>happy</th><th scope=col>health</th><th scope=col>cgtsday</th><th scope=col>cgtsmke</th><th scope=col>alcfreq</th><th scope=col>brncntr</th><th scope=col>height</th><th scope=col>weight</th><th scope=col>gndr</th><th scope=col>yrbrn</th><th scope=col>edlvddk</th><th scope=col>marsts</th><th scope=col>polpartvt</th><th scope=col>age</th><th scope=col>smoker</th></tr></thead>\n",
       "<tbody>\n",
       "\t<tr><td>921678                                                                        </td><td>4                                                                             </td><td>Not at all interested                                                         </td><td>Yes                                                                           </td><td>5                                                                             </td><td>Extremely happy                                                               </td><td>Very good                                                                     </td><td>10                                                                            </td><td>I smoke daily                                                                 </td><td>Every day                                                                     </td><td>Yes                                                                           </td><td>178                                                                           </td><td>65                                                                            </td><td>Male                                                                          </td><td>1946                                                                          </td><td>Folkeskole 6.-8. klasse                                                       </td><td>Legally divorced/civil union dissolved                                        </td><td>[1] Socialdemokraterne - the Danish social democrats                          </td><td>68                                                                            </td><td>smoker                                                                        </td></tr>\n",
       "\t<tr><td>921911                                                                        </td><td>5                                                                             </td><td>Hardly interested                                                             </td><td>Yes                                                                           </td><td>6                                                                             </td><td>1                                                                             </td><td>Bad                                                                           </td><td>20                                                                            </td><td>I smoke daily                                                                 </td><td>Every day                                                                     </td><td>Yes                                                                           </td><td>175                                                                           </td><td>98                                                                            </td><td>Male                                                                          </td><td>1969                                                                          </td><td>Folkeskole 6.-8. klasse                                                       </td><td>Legally divorced/civil union dissolved                                        </td><td>[2] Det Radikale Venstre - Danish Social-Liberal Party                        </td><td>45                                                                            </td><td>smoker                                                                        </td></tr>\n",
       "\t<tr><td>922098                                                                        </td><td>4                                                                             </td><td>Hardly interested                                                             </td><td>Yes                                                                           </td><td>8                                                                             </td><td>9                                                                             </td><td>Very good                                                                     </td><td> 3                                                                            </td><td>I smoke but not every day                                                     </td><td>Less than once a month                                                        </td><td>Yes                                                                           </td><td>186                                                                           </td><td>69                                                                            </td><td>Male                                                                          </td><td>1947                                                                          </td><td>Mellemlang videregående uddannelse af 3-4 års varighed. Professionsbachelorer,</td><td>Not applicable                                                                </td><td>[5] Dansk Folkeparti - Danish peoples party                                   </td><td>67                                                                            </td><td>smoker                                                                        </td></tr>\n",
       "\t<tr><td>922284                                                                        </td><td>7                                                                             </td><td>Quite interested                                                              </td><td>Yes                                                                           </td><td>3                                                                             </td><td>8                                                                             </td><td>Good                                                                          </td><td> 6                                                                            </td><td>I smoke but not every day                                                     </td><td>Every day                                                                     </td><td>Yes                                                                           </td><td>176                                                                           </td><td>77                                                                            </td><td>Male                                                                          </td><td>1947                                                                          </td><td>Faglig uddannelse (håndværk, handel, landbrug mv.), F.eks. Faglærte, Social-  </td><td>Not applicable                                                                </td><td>[1] Socialdemokraterne - the Danish social democrats                          </td><td>67                                                                            </td><td>smoker                                                                        </td></tr>\n",
       "\t<tr><td>922593                                                                        </td><td>Most people can be trusted                                                    </td><td>Quite interested                                                              </td><td>Yes                                                                           </td><td>7                                                                             </td><td>8                                                                             </td><td>Fair                                                                          </td><td>15                                                                            </td><td>I smoke daily                                                                 </td><td>Every day                                                                     </td><td>Yes                                                                           </td><td>163                                                                           </td><td>50                                                                            </td><td>Female                                                                        </td><td>1968                                                                          </td><td>Mellemlang videregående uddannelse af 3-4 års varighed. Professionsbachelorer,</td><td>Not applicable                                                                </td><td>[3] Det Konservative Folkeparti - Conservative                                </td><td>46                                                                            </td><td>smoker                                                                        </td></tr>\n",
       "\t<tr><td>922983                                                                        </td><td>6                                                                             </td><td>Hardly interested                                                             </td><td>Yes                                                                           </td><td>Don't know                                                                    </td><td>7                                                                             </td><td>Good                                                                          </td><td>15                                                                            </td><td>I smoke daily                                                                 </td><td>Once a week                                                                   </td><td>Yes                                                                           </td><td>160                                                                           </td><td>54                                                                            </td><td>Female                                                                        </td><td>1947                                                                          </td><td>Faglig uddannelse (håndværk, handel, landbrug mv.), F.eks. Faglærte, Social-  </td><td>Widowed/civil partner died                                                    </td><td>[NA] Refusal                                                                  </td><td>67                                                                            </td><td>smoker                                                                        </td></tr>\n",
       "</tbody>\n",
       "</table>\n"
      ],
      "text/latex": [
       "\\begin{tabular}{r|llllllllllllllllllll}\n",
       " idno & ppltrst & polintr & vote & lrscale & happy & health & cgtsday & cgtsmke & alcfreq & brncntr & height & weight & gndr & yrbrn & edlvddk & marsts & polpartvt & age & smoker\\\\\n",
       "\\hline\n",
       "\t 921678                                                                         & 4                                                                              & Not at all interested                                                          & Yes                                                                            & 5                                                                              & Extremely happy                                                                & Very good                                                                      & 10                                                                             & I smoke daily                                                                  & Every day                                                                      & Yes                                                                            & 178                                                                            & 65                                                                             & Male                                                                           & 1946                                                                           & Folkeskole 6.-8. klasse                                                        & Legally divorced/civil union dissolved                                         & {[}1{]} Socialdemokraterne - the Danish social democrats                       & 68                                                                             & smoker                                                                        \\\\\n",
       "\t 921911                                                                         & 5                                                                              & Hardly interested                                                              & Yes                                                                            & 6                                                                              & 1                                                                              & Bad                                                                            & 20                                                                             & I smoke daily                                                                  & Every day                                                                      & Yes                                                                            & 175                                                                            & 98                                                                             & Male                                                                           & 1969                                                                           & Folkeskole 6.-8. klasse                                                        & Legally divorced/civil union dissolved                                         & {[}2{]} Det Radikale Venstre - Danish Social-Liberal Party                     & 45                                                                             & smoker                                                                        \\\\\n",
       "\t 922098                                                                         & 4                                                                              & Hardly interested                                                              & Yes                                                                            & 8                                                                              & 9                                                                              & Very good                                                                      &  3                                                                             & I smoke but not every day                                                      & Less than once a month                                                         & Yes                                                                            & 186                                                                            & 69                                                                             & Male                                                                           & 1947                                                                           & Mellemlang videregående uddannelse af 3-4 års varighed. Professionsbachelorer, & Not applicable                                                                 & {[}5{]} Dansk Folkeparti - Danish peoples party                                & 67                                                                             & smoker                                                                        \\\\\n",
       "\t 922284                                                                         & 7                                                                              & Quite interested                                                               & Yes                                                                            & 3                                                                              & 8                                                                              & Good                                                                           &  6                                                                             & I smoke but not every day                                                      & Every day                                                                      & Yes                                                                            & 176                                                                            & 77                                                                             & Male                                                                           & 1947                                                                           & Faglig uddannelse (håndværk, handel, landbrug mv.), F.eks. Faglærte, Social-   & Not applicable                                                                 & {[}1{]} Socialdemokraterne - the Danish social democrats                       & 67                                                                             & smoker                                                                        \\\\\n",
       "\t 922593                                                                         & Most people can be trusted                                                     & Quite interested                                                               & Yes                                                                            & 7                                                                              & 8                                                                              & Fair                                                                           & 15                                                                             & I smoke daily                                                                  & Every day                                                                      & Yes                                                                            & 163                                                                            & 50                                                                             & Female                                                                         & 1968                                                                           & Mellemlang videregående uddannelse af 3-4 års varighed. Professionsbachelorer, & Not applicable                                                                 & {[}3{]} Det Konservative Folkeparti - Conservative                             & 46                                                                             & smoker                                                                        \\\\\n",
       "\t 922983                                                                         & 6                                                                              & Hardly interested                                                              & Yes                                                                            & Don't know                                                                     & 7                                                                              & Good                                                                           & 15                                                                             & I smoke daily                                                                  & Once a week                                                                    & Yes                                                                            & 160                                                                            & 54                                                                             & Female                                                                         & 1947                                                                           & Faglig uddannelse (håndværk, handel, landbrug mv.), F.eks. Faglærte, Social-   & Widowed/civil partner died                                                     & {[}NA{]} Refusal                                                               & 67                                                                             & smoker                                                                        \\\\\n",
       "\\end{tabular}\n"
      ],
      "text/markdown": [
       "\n",
       "idno | ppltrst | polintr | vote | lrscale | happy | health | cgtsday | cgtsmke | alcfreq | brncntr | height | weight | gndr | yrbrn | edlvddk | marsts | polpartvt | age | smoker | \n",
       "|---|---|---|---|---|---|\n",
       "| 921678                                                                         | 4                                                                              | Not at all interested                                                          | Yes                                                                            | 5                                                                              | Extremely happy                                                                | Very good                                                                      | 10                                                                             | I smoke daily                                                                  | Every day                                                                      | Yes                                                                            | 178                                                                            | 65                                                                             | Male                                                                           | 1946                                                                           | Folkeskole 6.-8. klasse                                                        | Legally divorced/civil union dissolved                                         | [1] Socialdemokraterne - the Danish social democrats                           | 68                                                                             | smoker                                                                         | \n",
       "| 921911                                                                         | 5                                                                              | Hardly interested                                                              | Yes                                                                            | 6                                                                              | 1                                                                              | Bad                                                                            | 20                                                                             | I smoke daily                                                                  | Every day                                                                      | Yes                                                                            | 175                                                                            | 98                                                                             | Male                                                                           | 1969                                                                           | Folkeskole 6.-8. klasse                                                        | Legally divorced/civil union dissolved                                         | [2] Det Radikale Venstre - Danish Social-Liberal Party                         | 45                                                                             | smoker                                                                         | \n",
       "| 922098                                                                         | 4                                                                              | Hardly interested                                                              | Yes                                                                            | 8                                                                              | 9                                                                              | Very good                                                                      |  3                                                                             | I smoke but not every day                                                      | Less than once a month                                                         | Yes                                                                            | 186                                                                            | 69                                                                             | Male                                                                           | 1947                                                                           | Mellemlang videregående uddannelse af 3-4 års varighed. Professionsbachelorer, | Not applicable                                                                 | [5] Dansk Folkeparti - Danish peoples party                                    | 67                                                                             | smoker                                                                         | \n",
       "| 922284                                                                         | 7                                                                              | Quite interested                                                               | Yes                                                                            | 3                                                                              | 8                                                                              | Good                                                                           |  6                                                                             | I smoke but not every day                                                      | Every day                                                                      | Yes                                                                            | 176                                                                            | 77                                                                             | Male                                                                           | 1947                                                                           | Faglig uddannelse (håndværk, handel, landbrug mv.), F.eks. Faglærte, Social-   | Not applicable                                                                 | [1] Socialdemokraterne - the Danish social democrats                           | 67                                                                             | smoker                                                                         | \n",
       "| 922593                                                                         | Most people can be trusted                                                     | Quite interested                                                               | Yes                                                                            | 7                                                                              | 8                                                                              | Fair                                                                           | 15                                                                             | I smoke daily                                                                  | Every day                                                                      | Yes                                                                            | 163                                                                            | 50                                                                             | Female                                                                         | 1968                                                                           | Mellemlang videregående uddannelse af 3-4 års varighed. Professionsbachelorer, | Not applicable                                                                 | [3] Det Konservative Folkeparti - Conservative                                 | 46                                                                             | smoker                                                                         | \n",
       "| 922983                                                                         | 6                                                                              | Hardly interested                                                              | Yes                                                                            | Don't know                                                                     | 7                                                                              | Good                                                                           | 15                                                                             | I smoke daily                                                                  | Once a week                                                                    | Yes                                                                            | 160                                                                            | 54                                                                             | Female                                                                         | 1947                                                                           | Faglig uddannelse (håndværk, handel, landbrug mv.), F.eks. Faglærte, Social-   | Widowed/civil partner died                                                     | [NA] Refusal                                                                   | 67                                                                             | smoker                                                                         | \n",
       "\n",
       "\n"
      ],
      "text/plain": [
       "  idno   ppltrst                    polintr               vote lrscale   \n",
       "1 921678 4                          Not at all interested Yes  5         \n",
       "2 921911 5                          Hardly interested     Yes  6         \n",
       "3 922098 4                          Hardly interested     Yes  8         \n",
       "4 922284 7                          Quite interested      Yes  3         \n",
       "5 922593 Most people can be trusted Quite interested      Yes  7         \n",
       "6 922983 6                          Hardly interested     Yes  Don't know\n",
       "  happy           health    cgtsday cgtsmke                  \n",
       "1 Extremely happy Very good 10      I smoke daily            \n",
       "2 1               Bad       20      I smoke daily            \n",
       "3 9               Very good  3      I smoke but not every day\n",
       "4 8               Good       6      I smoke but not every day\n",
       "5 8               Fair      15      I smoke daily            \n",
       "6 7               Good      15      I smoke daily            \n",
       "  alcfreq                brncntr height weight gndr   yrbrn\n",
       "1 Every day              Yes     178    65     Male   1946 \n",
       "2 Every day              Yes     175    98     Male   1969 \n",
       "3 Less than once a month Yes     186    69     Male   1947 \n",
       "4 Every day              Yes     176    77     Male   1947 \n",
       "5 Every day              Yes     163    50     Female 1968 \n",
       "6 Once a week            Yes     160    54     Female 1947 \n",
       "  edlvddk                                                                       \n",
       "1 Folkeskole 6.-8. klasse                                                       \n",
       "2 Folkeskole 6.-8. klasse                                                       \n",
       "3 Mellemlang videregående uddannelse af 3-4 års varighed. Professionsbachelorer,\n",
       "4 Faglig uddannelse (håndværk, handel, landbrug mv.), F.eks. Faglærte, Social-  \n",
       "5 Mellemlang videregående uddannelse af 3-4 års varighed. Professionsbachelorer,\n",
       "6 Faglig uddannelse (håndværk, handel, landbrug mv.), F.eks. Faglærte, Social-  \n",
       "  marsts                                \n",
       "1 Legally divorced/civil union dissolved\n",
       "2 Legally divorced/civil union dissolved\n",
       "3 Not applicable                        \n",
       "4 Not applicable                        \n",
       "5 Not applicable                        \n",
       "6 Widowed/civil partner died            \n",
       "  polpartvt                                              age smoker\n",
       "1 [1] Socialdemokraterne - the Danish social democrats   68  smoker\n",
       "2 [2] Det Radikale Venstre - Danish Social-Liberal Party 45  smoker\n",
       "3 [5] Dansk Folkeparti - Danish peoples party            67  smoker\n",
       "4 [1] Socialdemokraterne - the Danish social democrats   67  smoker\n",
       "5 [3] Det Konservative Folkeparti - Conservative         46  smoker\n",
       "6 [NA] Refusal                                           67  smoker"
      ]
     },
     "metadata": {},
     "output_type": "display_data"
    }
   ],
   "source": [
    "library(readr)\n",
    "library(dplyr)\n",
    "\n",
    "ess_data_smokers <- read_csv(\"https://github.com/CALDISS-AAU/workshop_r-table-data/raw/master/data/ess2014_mainsub_p1.csv\") %>%\n",
    "    mutate(age = 2014 - yrbrn,\n",
    "          smoker = ifelse(is.na(cgtsday), \"non-smoker\", \"smoker\")) %>%\n",
    "    filter(age > 40 & smoker == \"smoker\")\n",
    "\n",
    "head(ess_data_smokers)"
   ]
  },
  {
   "cell_type": "code",
   "execution_count": 9,
   "metadata": {},
   "outputs": [
    {
     "data": {
      "text/html": [
       "<ol class=list-inline>\n",
       "\t<li>102</li>\n",
       "\t<li>20</li>\n",
       "</ol>\n"
      ],
      "text/latex": [
       "\\begin{enumerate*}\n",
       "\\item 102\n",
       "\\item 20\n",
       "\\end{enumerate*}\n"
      ],
      "text/markdown": [
       "1. 102\n",
       "2. 20\n",
       "\n",
       "\n"
      ],
      "text/plain": [
       "[1] 102  20"
      ]
     },
     "metadata": {},
     "output_type": "display_data"
    }
   ],
   "source": [
    "dim(ess_data_smokers)"
   ]
  },
  {
   "cell_type": "code",
   "execution_count": null,
   "metadata": {},
   "outputs": [],
   "source": []
  }
 ],
 "metadata": {
  "kernelspec": {
   "display_name": "R",
   "language": "R",
   "name": "ir"
  },
  "language_info": {
   "codemirror_mode": "r",
   "file_extension": ".r",
   "mimetype": "text/x-r-source",
   "name": "R",
   "pygments_lexer": "r",
   "version": "3.6.1"
  }
 },
 "nbformat": 4,
 "nbformat_minor": 2
}
