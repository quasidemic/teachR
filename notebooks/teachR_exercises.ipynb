{
 "cells": [
  {
   "cell_type": "markdown",
   "metadata": {
    "slideshow": {
     "slide_type": "slide"
    }
   },
   "source": [
    "# EXERCISE 1: Inspecting data\n",
    "\n",
    "1. Use `read_csv()` to read the dataset `ess2014_mainsub_p1.csv` from the URL: https://github.com/CALDISS-AAU/workshop_r-table-data/raw/master/data/ess2014_mainsub_p1.csv.\n",
    "    - Remember to assign the dataset to an object.\n",
    "\n",
    "\n",
    "2. Inspect the data set using `head()`. What does the data seem to contain? \n",
    "\n",
    "\n",
    "3. How many rows and columns are in the data? (use `dim()`, `nrow()`, `ncol()`). \n",
    "\n",
    "\n",
    "4. How old is the oldest person in the dataset `yrbrn`? (use `summary()` or `min()`/`max()`)."
   ]
  },
  {
   "cell_type": "markdown",
   "metadata": {
    "slideshow": {
     "slide_type": "slide"
    }
   },
   "source": [
    "# EXERCISE 2: Visualize with `ggplot2`\n",
    "\n",
    "A ggplot is almost always made in the following format (sometimes with aesthetics `colour` and/or `fill` added):\n",
    "\n",
    "```\n",
    "ggplot(data = data, aes(x = var1, y = var2)) + \n",
    "    geom_layer() \n",
    "```\n",
    "\n",
    "1. Visualize the distribution of the year born (`yrbrn`) using a histogram (`geom_histogram()`)\n",
    "\n",
    "\n",
    "2. Visualize the distributions of the year born (`yrbrn`) across different levels of political interest (`polintr`) using a boxplot (`geom_boxplot()`)\n",
    "    - What does this visualization tell us?"
   ]
  },
  {
   "cell_type": "markdown",
   "metadata": {
    "slideshow": {
     "slide_type": "slide"
    }
   },
   "source": [
    "# EXERCISE 3: Data wrangling with `dplyr`\n",
    "\n",
    "Using the `dplyr` package and the functions `drop_na`, `filter`, `arrange`, `select`, subset the data to show the following:\n",
    "- Only complete observatinos (no missing)\n",
    "- Only people born before 1970\n",
    "- Sorted by the oldest and the ones smoking the most at the top of the dataset (`cgtsday`)\n",
    "- Only containing the following variables: `idno`, `yrbrn`, `health`, `cgtsday`"
   ]
  },
  {
   "cell_type": "markdown",
   "metadata": {
    "slideshow": {
     "slide_type": "slide"
    }
   },
   "source": [
    "# EXERCISE 4: Mutating variables\n",
    "\n",
    "1. Use `mutate()` to create an age variable from the variable `yrbrn` (data is from 2014).\n",
    "\n",
    "\n",
    "2. Use `mutate()` with `recode()` or `case_when()` to create a dummy variable indicating whether the respondent is a smoker or non-smoker (use either `cgtsday` or `cgtsmke` - for `cgtsday` we assume that missing values indicates a non-smoker).\n",
    "    - Tip: Use `unique()` to see the unique values of a variable."
   ]
  },
  {
   "cell_type": "markdown",
   "metadata": {
    "slideshow": {
     "slide_type": "slide"
    }
   },
   "source": [
    "# EXERCISE 5: Combining data\n",
    "\n",
    "In this exercise you will add additional variables from the ESS 2014 data.\n",
    "\n",
    "1. If you haven't already, read in both the data sets \"ess2014_p1\" and \"ess2014_p2\" and combine the observations using `bind_rows()`\n",
    "    - URL for \"ess2014_p1\": https://github.com/CALDISS-AAU/workshop_r-table-data/raw/master/data/ess2014_mainsub_p1.csv\n",
    "    - URL for \"ess2014_p2\": https://github.com/CALDISS-AAU/workshop_r-table-data/raw/master/data/ess2014_mainsub_p2.csv\n",
    "\n",
    "\n",
    "2. Read in the data set \"ess2014_inwsub\"\n",
    "    - URL: https://github.com/CALDISS-AAU/workshop_r-table-data/raw/master/data/ess2014_inwsub.csv\n",
    "\n",
    "\n",
    "3. Inspect the data set. How can it be combined with your existing ess2014 data?\n",
    "\n",
    "\n",
    "4. Combine the data set \"ess2014_inwsub\" with your existing ess2014 data set.\n",
    "\n",
    "\n",
    "5. How many rows and columns are in the combined data set?"
   ]
  },
  {
   "cell_type": "markdown",
   "metadata": {
    "slideshow": {
     "slide_type": "slide"
    }
   },
   "source": [
    "# EXERCISE 6: Pivoting data\n",
    "\n",
    "1. Read in the data set \"udda_sim_2010-2015\".\n",
    "    - URL: https://github.com/CALDISS-AAU/workshop_r-table-data/raw/master/data/udda_sim_2010-2015.csv\n",
    "    \n",
    "    \n",
    "2. Inspect the data set. What format is the data set in? (long or wide)\n",
    "\n",
    "\n",
    "3. Use either `pivot_longer()` or `pivot_wider()` to switch the format of the data set (depending on the original format)"
   ]
  },
  {
   "cell_type": "markdown",
   "metadata": {
    "slideshow": {
     "slide_type": "slide"
    }
   },
   "source": [
    "# EXERCISE 7: Dates with `lubridate`"
   ]
  },
  {
   "cell_type": "markdown",
   "metadata": {
    "slideshow": {
     "slide_type": "slide"
    }
   },
   "source": [
    "# EXERCISE 8: Factors"
   ]
  }
 ],
 "metadata": {
  "celltoolbar": "Slideshow",
  "kernelspec": {
   "display_name": "R",
   "language": "R",
   "name": "ir"
  },
  "language_info": {
   "codemirror_mode": "r",
   "file_extension": ".r",
   "mimetype": "text/x-r-source",
   "name": "R",
   "pygments_lexer": "r",
   "version": "3.6.1"
  }
 },
 "nbformat": 4,
 "nbformat_minor": 4
}
