{
 "cells": [
  {
   "cell_type": "markdown",
   "metadata": {
    "slideshow": {
     "slide_type": "slide"
    }
   },
   "source": [
    "# EXERCISE: Objects and Functions\n",
    "\n",
    "1. Define the following objects:\n",
    "\n",
    "    - `name1`: `\"araya\"`\n",
    "    - `name2`: `\"townsend\"`\n",
    "    - `year1`: `1961` (without quotation marks)\n",
    "    - `year2`: `\"1972\"` (with quotation marks)\n",
    "\n",
    "2. Try calculating the ages for `year1` and `year2` (current year - year-object). \n",
    "\n",
    "3. Use the function `toupper()` to convert `name1` to upper-case."
   ]
  },
  {
   "cell_type": "markdown",
   "metadata": {
    "slideshow": {
     "slide_type": "slide"
    }
   },
   "source": [
    "# EXERCISE: READING DATA\n",
    "\n",
    "Use the function `read_csv` from the package `readr` to import the ESS2018 subset from the URL: https://github.com/CALDISS-AAU/workshop_R-intro/raw/master/data/ESS2018DK_subset.csv.\n",
    "\n",
    "1. Install the package `readr` (`install.packages(\"readr\")`)\n",
    "2. Load the package (`library(readr)`) \n",
    "3. Load the data using `read_csv(\"https://github.com/CALDISS-AAU/workshop_R-intro/raw/master/data/ESS2018DK_subset.csv\")` - remember to assign the data to an object!"
   ]
  },
  {
   "cell_type": "markdown",
   "metadata": {
    "slideshow": {
     "slide_type": "slide"
    }
   },
   "source": [
    "# EXERCISE: Descriptive Measures\n",
    "\n",
    "Use some of the functions for calculating descriptive measures to calculate the following:\n",
    "\n",
    "- The mean (`mean()`) time used on the internet per day (`netustm`)\n",
    "- The highest value (`max()`) for time used on the internet per day (`netustm`)\n",
    "- The median (`median()`) for monthly gross pay (`grspnum`)\n",
    "\n",
    "NOTE! The variables may contain missing values. Consult the documentation of the functions to see how to account for that."
   ]
  },
  {
   "cell_type": "markdown",
   "metadata": {
    "slideshow": {
     "slide_type": "slide"
    }
   },
   "source": [
    "# EXERCISE: Inspecting data\n",
    "\n",
    "1. Use `read_csv()` to read the dataset `ESS2018DK_subset.csv` from the URL: https://github.com/CALDISS-AAU/workshop_R-intro/raw/master/data/ESS2018DK_subset.csv.\n",
    "    - Remember to assign the dataset to an object.\n",
    "\n",
    "\n",
    "2. Inspect the data set using `head()`. What does the data seem to contain? \n",
    "\n",
    "\n",
    "3. How many rows and columns are in the data? (use `dim()`, `nrow()`, `ncol()`). \n",
    "\n",
    "\n",
    "4. How old is the oldest person in the dataset (variable `yrbrn`)? (use `summary()` or `min()`/`max()`).\n",
    "\n",
    "5. What is the mean time used on the internet per day (`netustm`) in the dataset? (use `summary()` or `mean()`)\n",
    "\n",
    "NOTE! The variables may contain missing values. Consult the documentation of the functions to see how to account for that."
   ]
  },
  {
   "cell_type": "markdown",
   "metadata": {
    "slideshow": {
     "slide_type": "slide"
    }
   },
   "source": [
    "# EXERCISE: Filtering and selecting\n",
    "\n",
    "1. Create a subset of the data containing females born after 1980 with the variables: `idno`, `gndr`, `yrbrn`, `netustm`\n",
    "\n",
    "2. Use `head()` to check if the subset looks correct\n",
    "\n",
    "2. Calculate the mean time used on the internet per day (`netustm`) for the subset\n",
    "\n",
    "\n",
    "## Bonus exercise\n",
    "\n",
    "1. Create a subset for males born after 1980\n",
    "2. Calculate the mean time used on the internet per day for this subset - is it higher or lower than the subset for females?"
   ]
  },
  {
   "cell_type": "markdown",
   "metadata": {
    "slideshow": {
     "slide_type": "slide"
    }
   },
   "source": [
    "# EXERCISE: Creating variables\n",
    "\n",
    "1. Create an age variable (the dataset is from 2018)\n",
    "\n",
    "2. Create a variable containing the difference between hours worked per week (`wkhtot`) and hours contracted per week (`wkhct`).\n",
    "\n",
    "3. What is the highest overtime value? (use either `summary()` or `min()`\n",
    "\n",
    "4. Create a variable containing the number of years the respondent lived at home before living separately for 2 months or more (`lvpntyr`)\n",
    "    - Note that the variable `lvpntyr` might not be ready for calculations right away. \n",
    "    - Remember that `as.numeric()` converts values to numeric.\n",
    "\n",
    "\n",
    "## Bonus exercise\n",
    "\n",
    "Find out the age and gender of the person with the highest overtime value."
   ]
  },
  {
   "cell_type": "markdown",
   "metadata": {},
   "source": [
    "# EXERCISE: Summaries\n",
    "\n",
    "1. Create an age categori dividing the respondents into 3 categories: age 15-29, age 30-59, age 60-\n",
    "\n",
    "2. Create a summary that shows mean weekly work hours (`wkhtot`) for each age group"
   ]
  },
  {
   "cell_type": "markdown",
   "metadata": {},
   "source": [
    "# EXERCISE: Factors\n",
    "\n",
    "1. Create an age categori dividing the respondents into 3 categories: age 15-29, age 30-59, age 60-, if you have not already\n",
    "\n",
    "2. Convert the variable to an ordered factor. Make sure the order is correct."
   ]
  },
  {
   "cell_type": "markdown",
   "metadata": {},
   "source": [
    "# EXERCISE: Dates\n",
    "\n",
    "1. Read in the simulated DREAM data (link: https://github.com/CALDISS-AAU/workshop_r-table-data/raw/master/data/bef_dream_2015.csv)\n",
    "\n",
    "2. Convert the variable FOED_DAG to a date varaible with `lubridate`\n",
    "\n",
    "3. Use appropriate `lubridate` functions to figure out how may respondents were born before 1960"
   ]
  },
  {
   "cell_type": "markdown",
   "metadata": {},
   "source": [
    "# EXERCISE: Pivoting data\n",
    "\n",
    "1. Read in the data set \"udda_sim_2010-2015\".\n",
    "    - URL: https://github.com/CALDISS-AAU/workshop_r-table-data/raw/master/data/udda_sim_2010-2015.csv\n",
    "2. Inspect the data set. What format is the data set in? (long or wide)\n",
    "3. Use either `pivot_longer()` or `pivot_wider()` to switch the format of the data set (depending on the original format)"
   ]
  },
  {
   "cell_type": "markdown",
   "metadata": {},
   "source": [
    "# EXERCISE: Read and merge Stata data\n",
    "\n",
    "1. Read in the subset \"ESS2018DK_subset_occu-ethn.dta\", if you have not already. Link: https://github.com/CALDISS-AAU/workshop_r-table-data/raw/master/data/ESS2018DK_subset_occu-ethn.dta\n",
    "    - The data is in a Stata format. Use the appropriate `haven` function to read in the data.\n",
    "    \n",
    "2. Convert the variable `marsts` to a factor - either based on values or labels\n",
    "\n",
    "3. Merge the dataset ESS2018DK_subset_occu-ethn.dta with your existing ESS2018DK data\n",
    "\n",
    "4. Calculate the mean age of respondents who are married across gender"
   ]
  },
  {
   "cell_type": "markdown",
   "metadata": {},
   "source": [
    "# EXERCISE: Visualizing with ggplot2\n",
    "\n",
    "In this exercise, you will try out different plots from ggplot2. Refer to the cheatsheet to find the appropriate plots: https://raw.githubusercontent.com/rstudio/cheatsheets/master/data-visualization-2.1.pdf\n",
    "\n",
    "1. Create a visualization for exploring the distribution of the variable `yrbrn` (year born)\n",
    "\n",
    "2. Create a visualiation for comparing distributions for `yrbrn` across gender (`gndr`)\n",
    "\n",
    "3. Create a visualization for counting up the number of respondents in your age categori variable "
   ]
  }
 ],
 "metadata": {
  "celltoolbar": "Slideshow",
  "kernelspec": {
   "display_name": "R",
   "language": "R",
   "name": "ir"
  },
  "language_info": {
   "codemirror_mode": "r",
   "file_extension": ".r",
   "mimetype": "text/x-r-source",
   "name": "R",
   "pygments_lexer": "r",
   "version": "3.6.1"
  }
 },
 "nbformat": 4,
 "nbformat_minor": 4
}
