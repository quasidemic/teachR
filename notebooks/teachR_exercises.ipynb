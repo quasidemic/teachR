{
 "cells": [
  {
   "cell_type": "markdown",
   "metadata": {
    "slideshow": {
     "slide_type": "slide"
    }
   },
   "source": [
    "# EXERCISE: Objects and Functions\n",
    "\n",
    "1. Define the following objects:\n",
    "\n",
    "    - `name1`: `\"araya\"`\n",
    "    - `name2`: `\"townsend\"`\n",
    "    - `year1`: `1961` (without quotation marks)\n",
    "    - `year2`: `\"1972\"` (with quotation marks)\n",
    "\n",
    "2. Try calculating the ages for `year1` and `year2` (current year - year-object). \n",
    "\n",
    "3. Use the function `toupper()` to convert `name1` to upper-case."
   ]
  },
  {
   "cell_type": "markdown",
   "metadata": {
    "slideshow": {
     "slide_type": "slide"
    }
   },
   "source": [
    "# EXERCISE: READING DATA\n",
    "\n",
    "Use the function `read_csv` from the package `readr` to import the ESS2018 subset from the URL: https://github.com/CALDISS-AAU/workshop_R-intro/raw/master/data/ESS2018DK_subset.csv.\n",
    "\n",
    "1. Install the package `readr` (`install.packages(\"readr\")`)\n",
    "2. Load the package (`library(readr)`) \n",
    "3. Load the data using `read_csv(\"https://github.com/CALDISS-AAU/workshop_R-intro/raw/master/data/ESS2018DK_subset.csv\")` - remember to assign the data to an object!"
   ]
  },
  {
   "cell_type": "markdown",
   "metadata": {
    "slideshow": {
     "slide_type": "slide"
    }
   },
   "source": [
    "# EXERCISE: Descriptive Measures\n",
    "\n",
    "Use some of the functions for calculating descriptive measures to calculate the following:\n",
    "\n",
    "- The mean (`mean()`) time used on the internet per day (`netustm`)\n",
    "- The highest value (`max()`) for time used on the internet per day (`netustm`)\n",
    "- The median (`median()`) for monthly gross pay (`grspnum`)\n",
    "\n",
    "NOTE! The variables may contain missing values. Consult the documentation of the functions to see how to account for that."
   ]
  },
  {
   "cell_type": "markdown",
   "metadata": {
    "slideshow": {
     "slide_type": "slide"
    }
   },
   "source": [
    "# EXERCISE: Inspecting data\n",
    "\n",
    "1. Use `read_csv()` to read the dataset `ESS2018DK_subset.csv` from the URL: https://github.com/CALDISS-AAU/workshop_R-intro/raw/master/data/ESS2018DK_subset.csv.\n",
    "    - Remember to assign the dataset to an object.\n",
    "\n",
    "\n",
    "2. Inspect the data set using `head()`. What does the data seem to contain? \n",
    "\n",
    "\n",
    "3. How many rows and columns are in the data? (use `dim()`, `nrow()`, `ncol()`). \n",
    "\n",
    "\n",
    "4. How old is the oldest person in the dataset (variable `yrbrn`)? (use `summary()` or `min()`/`max()`).\n",
    "\n",
    "5. What is the mean time used on the internet per day (`netustm`) in the dataset? (use `summary()` or `mean()`)\n",
    "\n",
    "NOTE! The variables may contain missing values. Consult the documentation of the functions to see how to account for that."
   ]
  },
  {
   "cell_type": "markdown",
   "metadata": {
    "slideshow": {
     "slide_type": "slide"
    }
   },
   "source": [
    "# EXERCISE: Filtering and selecting\n",
    "\n",
    "1. Create a subset of the data containing females born after 1980 with the variables: `idno`, `gndr`, `yrbrn`, `netustm`\n",
    "\n",
    "2. Use `head()` to check if the subset looks correct\n",
    "\n",
    "2. Calculate the mean time used on the internet per day (`netustm`) for the subset\n",
    "\n",
    "\n",
    "## Bonus exercise\n",
    "\n",
    "1. Create a subset for males born after 1980\n",
    "2. Calculate the mean time used on the internet per day for this subset - is it higher or lower than the subset for females?"
   ]
  },
  {
   "cell_type": "markdown",
   "metadata": {
    "slideshow": {
     "slide_type": "slide"
    }
   },
   "source": [
    "# EXERCISE: Creating variables\n",
    "\n",
    "1. Create an age variable (the dataset is from 2018)\n",
    "\n",
    "2. Create a variable containing the difference between hours worked per week (`wkhtot`) and hours contracted per week (`wkhct`).\n",
    "\n",
    "3. What is the highest overtime value? (use either `summary()` or `min()`\n",
    "\n",
    "4. Create a variable containing the number of years the respondent lived at home before living separately for 2 months or more (`lvpntyr`)\n",
    "    - Note that the variable `lvpntyr` might not be ready for calculations right away. \n",
    "    - Remember that `as.numeric()` converts values to numeric.\n",
    "\n",
    "\n",
    "## Bonus exercise\n",
    "\n",
    "Find out the age and gender of the person with the highest overtime value."
   ]
  },
  {
   "cell_type": "markdown",
   "metadata": {},
   "source": [
    "# EXERCISE: Summaries\n",
    "\n",
    "1. Create an age categori dividing the respondents into 3 categories: age 15-29, age 30-59, age 60-\n",
    "\n",
    "2. Create a summary that shows mean weekly work hours (`wkhtot`) for each age group"
   ]
  }
 ],
 "metadata": {
  "celltoolbar": "Slideshow",
  "kernelspec": {
   "display_name": "R",
   "language": "R",
   "name": "ir"
  },
  "language_info": {
   "codemirror_mode": "r",
   "file_extension": ".r",
   "mimetype": "text/x-r-source",
   "name": "R",
   "pygments_lexer": "r",
   "version": "3.6.3"
  }
 },
 "nbformat": 4,
 "nbformat_minor": 4
}
