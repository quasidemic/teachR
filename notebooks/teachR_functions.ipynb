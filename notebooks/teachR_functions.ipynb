{
 "cells": [
  {
   "cell_type": "markdown",
   "metadata": {},
   "source": [
    "# Functions in R\n",
    "\n",
    "Functions are commands used to transform an object in some way and return an output.\n",
    "\n",
    "The input to a function is an \"argument\". The number of arguments vary between functions.\n",
    "\n",
    "Functions have the basic syntax: `function(arg1, arg2, arg3)`."
   ]
  },
  {
   "cell_type": "markdown",
   "metadata": {},
   "source": [
    "## Functions and their arguments\n",
    "\n",
    "Arguments can both be required or optional. Required arguments are arguments the function needs in order to return an output.\n",
    "\n",
    "**Required arguments**\n",
    "\n",
    "In the base function `mean()`, `x` (the object to calculate the mean of) is an required argument. If we try to run the function without, it will return an error:"
   ]
  },
  {
   "cell_type": "code",
   "execution_count": 7,
   "metadata": {},
   "outputs": [
    {
     "ename": "ERROR",
     "evalue": "Error in mean.default(): argument \"x\" is missing, with no default\n",
     "output_type": "error",
     "traceback": [
      "Error in mean.default(): argument \"x\" is missing, with no default\nTraceback:\n",
      "1. mean()",
      "2. mean.default()"
     ]
    }
   ],
   "source": [
    "mean()"
   ]
  },
  {
   "cell_type": "markdown",
   "metadata": {},
   "source": [
    "The function needs `x` to work:"
   ]
  },
  {
   "cell_type": "code",
   "execution_count": 11,
   "metadata": {},
   "outputs": [
    {
     "data": {
      "text/html": [
       "8.5"
      ],
      "text/latex": [
       "8.5"
      ],
      "text/markdown": [
       "8.5"
      ],
      "text/plain": [
       "[1] 8.5"
      ]
     },
     "metadata": {},
     "output_type": "display_data"
    }
   ],
   "source": [
    "numbers <- c(2, 9, 10, 13)\n",
    "mean(numbers)"
   ]
  },
  {
   "cell_type": "markdown",
   "metadata": {},
   "source": [
    "**Optional arguments**\n",
    "\n",
    "Optional arguments are additional arguments that can be given to a function. Often times these arguments can be seen as \"settings\" for the function, changing a certain way the function behaves. Optional arguments always have a default value. The default values of the optional arguments can be seen in the documentation of the function.\n",
    "\n",
    "The base function `mean()`, the argument `na.rm` is an optional argument. The default value can be inspected either by looking up the documentation (`?mean`) or by inspecting the source code itself.\n",
    "\n",
    "The source code of a function can be inspected by simply inputting the function name in the console (in Rstudio, it is also possible to inspect the source code by placing the cursor inside the function and pressing F2). \n",
    "\n",
    "(NOTE: `mean()` automatically calls `mean.default()`, which contain the actual source code)."
   ]
  },
  {
   "cell_type": "code",
   "execution_count": 10,
   "metadata": {},
   "outputs": [
    {
     "data": {
      "text/html": [
       "<pre class=language-r><code>function (x, trim = 0, na.rm = FALSE, ...) \n",
       "{\n",
       "<span style=white-space:pre-wrap>    if (!is.numeric(x) &amp;&amp; !is.complex(x) &amp;&amp; !is.logical(x)) {</span>\n",
       "<span style=white-space:pre-wrap>        warning(\"argument is not numeric or logical: returning NA\")</span>\n",
       "<span style=white-space:pre-wrap>        return(NA_real_)</span>\n",
       "<span style=white-space:pre-wrap>    }</span>\n",
       "<span style=white-space:pre-wrap>    if (na.rm) </span>\n",
       "<span style=white-space:pre-wrap>        x &lt;- x[!is.na(x)]</span>\n",
       "<span style=white-space:pre-wrap>    if (!is.numeric(trim) || length(trim) != 1L) </span>\n",
       "<span style=white-space:pre-wrap>        stop(\"'trim' must be numeric of length one\")</span>\n",
       "<span style=white-space:pre-wrap>    n &lt;- length(x)</span>\n",
       "<span style=white-space:pre-wrap>    if (trim &gt; 0 &amp;&amp; n) {</span>\n",
       "<span style=white-space:pre-wrap>        if (is.complex(x)) </span>\n",
       "<span style=white-space:pre-wrap>            stop(\"trimmed means are not defined for complex data\")</span>\n",
       "<span style=white-space:pre-wrap>        if (anyNA(x)) </span>\n",
       "<span style=white-space:pre-wrap>            return(NA_real_)</span>\n",
       "<span style=white-space:pre-wrap>        if (trim &gt;= 0.5) </span>\n",
       "<span style=white-space:pre-wrap>            return(stats::median(x, na.rm = FALSE))</span>\n",
       "<span style=white-space:pre-wrap>        lo &lt;- floor(n * trim) + 1</span>\n",
       "<span style=white-space:pre-wrap>        hi &lt;- n + 1 - lo</span>\n",
       "<span style=white-space:pre-wrap>        x &lt;- sort.int(x, partial = unique(c(lo, hi)))[lo:hi]</span>\n",
       "<span style=white-space:pre-wrap>    }</span>\n",
       "<span style=white-space:pre-wrap>    .Internal(mean(x))</span>\n",
       "}</code></pre>"
      ],
      "text/latex": [
       "\\begin{minted}{r}\n",
       "function (x, trim = 0, na.rm = FALSE, ...) \n",
       "\\{\n",
       "    if (!is.numeric(x) \\&\\& !is.complex(x) \\&\\& !is.logical(x)) \\{\n",
       "        warning(\"argument is not numeric or logical: returning NA\")\n",
       "        return(NA\\_real\\_)\n",
       "    \\}\n",
       "    if (na.rm) \n",
       "        x <- x{[}!is.na(x){]}\n",
       "    if (!is.numeric(trim) \\textbar{}\\textbar{} length(trim) != 1L) \n",
       "        stop(\"'trim' must be numeric of length one\")\n",
       "    n <- length(x)\n",
       "    if (trim > 0 \\&\\& n) \\{\n",
       "        if (is.complex(x)) \n",
       "            stop(\"trimmed means are not defined for complex data\")\n",
       "        if (anyNA(x)) \n",
       "            return(NA\\_real\\_)\n",
       "        if (trim >= 0.5) \n",
       "            return(stats::median(x, na.rm = FALSE))\n",
       "        lo <- floor(n * trim) + 1\n",
       "        hi <- n + 1 - lo\n",
       "        x <- sort.int(x, partial = unique(c(lo, hi))){[}lo:hi{]}\n",
       "    \\}\n",
       "    .Internal(mean(x))\n",
       "\\}\n",
       "\\end{minted}"
      ],
      "text/markdown": [
       "```r\n",
       "function (x, trim = 0, na.rm = FALSE, ...) \n",
       "{\n",
       "    if (!is.numeric(x) && !is.complex(x) && !is.logical(x)) {\n",
       "        warning(\"argument is not numeric or logical: returning NA\")\n",
       "        return(NA_real_)\n",
       "    }\n",
       "    if (na.rm) \n",
       "        x <- x[!is.na(x)]\n",
       "    if (!is.numeric(trim) || length(trim) != 1L) \n",
       "        stop(\"'trim' must be numeric of length one\")\n",
       "    n <- length(x)\n",
       "    if (trim > 0 && n) {\n",
       "        if (is.complex(x)) \n",
       "            stop(\"trimmed means are not defined for complex data\")\n",
       "        if (anyNA(x)) \n",
       "            return(NA_real_)\n",
       "        if (trim >= 0.5) \n",
       "            return(stats::median(x, na.rm = FALSE))\n",
       "        lo <- floor(n * trim) + 1\n",
       "        hi <- n + 1 - lo\n",
       "        x <- sort.int(x, partial = unique(c(lo, hi)))[lo:hi]\n",
       "    }\n",
       "    .Internal(mean(x))\n",
       "}\n",
       "```"
      ],
      "text/plain": [
       "function (x, trim = 0, na.rm = FALSE, ...) \n",
       "{\n",
       "    if (!is.numeric(x) && !is.complex(x) && !is.logical(x)) {\n",
       "        warning(\"argument is not numeric or logical: returning NA\")\n",
       "        return(NA_real_)\n",
       "    }\n",
       "    if (na.rm) \n",
       "        x <- x[!is.na(x)]\n",
       "    if (!is.numeric(trim) || length(trim) != 1L) \n",
       "        stop(\"'trim' must be numeric of length one\")\n",
       "    n <- length(x)\n",
       "    if (trim > 0 && n) {\n",
       "        if (is.complex(x)) \n",
       "            stop(\"trimmed means are not defined for complex data\")\n",
       "        if (anyNA(x)) \n",
       "            return(NA_real_)\n",
       "        if (trim >= 0.5) \n",
       "            return(stats::median(x, na.rm = FALSE))\n",
       "        lo <- floor(n * trim) + 1\n",
       "        hi <- n + 1 - lo\n",
       "        x <- sort.int(x, partial = unique(c(lo, hi)))[lo:hi]\n",
       "    }\n",
       "    .Internal(mean(x))\n",
       "}\n",
       "<bytecode: 0x0000000006895738>\n",
       "<environment: namespace:base>"
      ]
     },
     "metadata": {},
     "output_type": "display_data"
    }
   ],
   "source": [
    "mean.default"
   ]
  },
  {
   "cell_type": "markdown",
   "metadata": {},
   "source": [
    "As can be seen in the source code, the argument `na.rm` is set to `FALSE`. The documentation describes what the argument does (\"a logical value indicating whether NA values should be stripped before the computation proceeds\").\n",
    "\n",
    "The default value can be changed simply by passing the argument when calling the function, as long as the input given is valid for the argument. The documentation describes what inputs are valid for the argument. In the case of `na.rm`, a boolean value is a valid input (`TRUE` or `FALSE`)."
   ]
  },
  {
   "cell_type": "code",
   "execution_count": 12,
   "metadata": {},
   "outputs": [
    {
     "data": {
      "text/html": [
       "&lt;NA&gt;"
      ],
      "text/latex": [
       "<NA>"
      ],
      "text/markdown": [
       "&lt;NA&gt;"
      ],
      "text/plain": [
       "[1] NA"
      ]
     },
     "metadata": {},
     "output_type": "display_data"
    },
    {
     "data": {
      "text/html": [
       "8.5"
      ],
      "text/latex": [
       "8.5"
      ],
      "text/markdown": [
       "8.5"
      ],
      "text/plain": [
       "[1] 8.5"
      ]
     },
     "metadata": {},
     "output_type": "display_data"
    }
   ],
   "source": [
    "numbers <- c(2, 9, 10, 13, NA)\n",
    "mean(numbers) # With default\n",
    "\n",
    "mean(numbers, na.rm = TRUE) # Default changed"
   ]
  },
  {
   "cell_type": "markdown",
   "metadata": {},
   "source": [
    "### Specifying arguments\n",
    "\n",
    "Notice that it is often not necessary to specify the name of the argument. As long as the arguments are specified in the right order (the one given in the documentation), simply the input values can be given. This is why it is not necessary to specify `x` when using `mean()`:"
   ]
  },
  {
   "cell_type": "code",
   "execution_count": 14,
   "metadata": {},
   "outputs": [
    {
     "data": {
      "text/html": [
       "8.5"
      ],
      "text/latex": [
       "8.5"
      ],
      "text/markdown": [
       "8.5"
      ],
      "text/plain": [
       "[1] 8.5"
      ]
     },
     "metadata": {},
     "output_type": "display_data"
    },
    {
     "data": {
      "text/html": [
       "8.5"
      ],
      "text/latex": [
       "8.5"
      ],
      "text/markdown": [
       "8.5"
      ],
      "text/plain": [
       "[1] 8.5"
      ]
     },
     "metadata": {},
     "output_type": "display_data"
    }
   ],
   "source": [
    "numbers <- c(2, 9, 10, 13)\n",
    "mean(numbers) # Works\n",
    "\n",
    "mean(x = numbers) # Also works"
   ]
  },
  {
   "cell_type": "markdown",
   "metadata": {},
   "source": [
    "When arguments are not named, R assumes that the arguments are specified in order. If one names the arguments, it can be put in any order:"
   ]
  },
  {
   "cell_type": "code",
   "execution_count": 16,
   "metadata": {},
   "outputs": [
    {
     "ename": "ERROR",
     "evalue": "Error in mean.default(TRUE, numbers): 'trim' must be numeric of length one\n",
     "output_type": "error",
     "traceback": [
      "Error in mean.default(TRUE, numbers): 'trim' must be numeric of length one\nTraceback:\n",
      "1. mean(TRUE, numbers)",
      "2. mean.default(TRUE, numbers)",
      "3. stop(\"'trim' must be numeric of length one\")"
     ]
    }
   ],
   "source": [
    "numbers <- c(2, 9, 10, 13, NA)\n",
    "mean(TRUE, numbers) # Does not work"
   ]
  },
  {
   "cell_type": "code",
   "execution_count": 17,
   "metadata": {},
   "outputs": [
    {
     "data": {
      "text/html": [
       "8.5"
      ],
      "text/latex": [
       "8.5"
      ],
      "text/markdown": [
       "8.5"
      ],
      "text/plain": [
       "[1] 8.5"
      ]
     },
     "metadata": {},
     "output_type": "display_data"
    }
   ],
   "source": [
    "mean(na.rm = TRUE, x = numbers) # Does work"
   ]
  },
  {
   "cell_type": "markdown",
   "metadata": {},
   "source": [
    "## EXERCISE: FUNCTIONS AND THEIR ARGUMENTS\n",
    "\n",
    "- Inspect the documentation for `str_detect`. What arguments does the function require and what are optional?\n",
    "\n",
    "- The function `head()` is used to return the first 6 rows of a dataframe. Is there a way to make the function return more than 6 rows?"
   ]
  },
  {
   "cell_type": "markdown",
   "metadata": {},
   "source": [
    "## Creating functions in R\n",
    "\n",
    "Functions can be created like any other object in R. A function consists of arguments, some code to be executed and a return statement indicating what the function should return.\n",
    "\n",
    "The code below creates a function for adding 5 to a number:"
   ]
  },
  {
   "cell_type": "code",
   "execution_count": 18,
   "metadata": {},
   "outputs": [],
   "source": [
    "add5 <- function(x){\n",
    "    result = x + 5\n",
    "    return(result)\n",
    "    }"
   ]
  },
  {
   "cell_type": "markdown",
   "metadata": {},
   "source": [
    "Running the code does not return any output but makes the function available in the environment:"
   ]
  },
  {
   "cell_type": "code",
   "execution_count": 19,
   "metadata": {},
   "outputs": [
    {
     "data": {
      "text/html": [
       "15"
      ],
      "text/latex": [
       "15"
      ],
      "text/markdown": [
       "15"
      ],
      "text/plain": [
       "[1] 15"
      ]
     },
     "metadata": {},
     "output_type": "display_data"
    }
   ],
   "source": [
    "add5(10)"
   ]
  },
  {
   "cell_type": "markdown",
   "metadata": {},
   "source": [
    "**Several arguments**\n",
    "\n",
    "Just like existing functions, any number of arguments can be added to a function. Below the function is changed to simply add two input numbers:"
   ]
  },
  {
   "cell_type": "code",
   "execution_count": 21,
   "metadata": {},
   "outputs": [
    {
     "data": {
      "text/html": [
       "16"
      ],
      "text/latex": [
       "16"
      ],
      "text/markdown": [
       "16"
      ],
      "text/plain": [
       "[1] 16"
      ]
     },
     "metadata": {},
     "output_type": "display_data"
    }
   ],
   "source": [
    "add2num <- function(x, y){\n",
    "    result = x + y\n",
    "    return(result)\n",
    "    }\n",
    "\n",
    "add2num(7, 9)"
   ]
  },
  {
   "cell_type": "markdown",
   "metadata": {},
   "source": [
    "**Optional arguments in own functions**\n",
    "\n",
    "Optional arguments can be created simply by specifying a default value for the function. Below the function is changed to have the second number be 10 by default but it can still be changed when using the function:"
   ]
  },
  {
   "cell_type": "code",
   "execution_count": 24,
   "metadata": {},
   "outputs": [
    {
     "data": {
      "text/html": [
       "17"
      ],
      "text/latex": [
       "17"
      ],
      "text/markdown": [
       "17"
      ],
      "text/plain": [
       "[1] 17"
      ]
     },
     "metadata": {},
     "output_type": "display_data"
    },
    {
     "data": {
      "text/html": [
       "15"
      ],
      "text/latex": [
       "15"
      ],
      "text/markdown": [
       "15"
      ],
      "text/plain": [
       "[1] 15"
      ]
     },
     "metadata": {},
     "output_type": "display_data"
    }
   ],
   "source": [
    "add2num <- function(x, y = 10){\n",
    "    result = x + y\n",
    "    return(result)\n",
    "    }\n",
    "\n",
    "add2num(7) # Using the default value\n",
    "\n",
    "add2num(7, 8) # Changing the default value"
   ]
  },
  {
   "cell_type": "markdown",
   "metadata": {},
   "source": [
    "**The return statement**\n",
    "\n",
    "The return statement indicates what the function should return. Without a return statement, the function returns no ouput:"
   ]
  },
  {
   "cell_type": "code",
   "execution_count": 25,
   "metadata": {},
   "outputs": [],
   "source": [
    "add2num <- function(x, y = 10){\n",
    "    result = x + y\n",
    "    }\n",
    "\n",
    "add2num(7) # No return statement - no output"
   ]
  },
  {
   "cell_type": "markdown",
   "metadata": {},
   "source": [
    "The return statement also marks the end of the function; meaning that the function will stop execution when reaching a return statement (i.e. code following a return statement is ignored):"
   ]
  },
  {
   "cell_type": "code",
   "execution_count": 26,
   "metadata": {},
   "outputs": [
    {
     "name": "stdout",
     "output_type": "stream",
     "text": [
      "[1] \"This is included in the function\"\n"
     ]
    },
    {
     "data": {
      "text/html": [
       "17"
      ],
      "text/latex": [
       "17"
      ],
      "text/markdown": [
       "17"
      ],
      "text/plain": [
       "[1] 17"
      ]
     },
     "metadata": {},
     "output_type": "display_data"
    }
   ],
   "source": [
    "add2num <- function(x, y = 10){\n",
    "    result = x + y\n",
    "    print(\"This is included in the function\")\n",
    "    \n",
    "    return(result)\n",
    "    \n",
    "    print(\"This is not included in the function\")\n",
    "    \n",
    "    }\n",
    "\n",
    "add2num(7) # No return statement - no output"
   ]
  },
  {
   "cell_type": "markdown",
   "metadata": {},
   "source": [
    "**Objects inside functions**\n",
    "\n",
    "Objects created inside a function only exists while the function is run; i.e. the objects are not created outside of the function and does not become part of the accessible environment:"
   ]
  },
  {
   "cell_type": "code",
   "execution_count": 32,
   "metadata": {},
   "outputs": [
    {
     "ename": "ERROR",
     "evalue": "Error in eval(expr, envir, enclos): objekt 'result' blev ikke fundet\n",
     "output_type": "error",
     "traceback": [
      "Error in eval(expr, envir, enclos): objekt 'result' blev ikke fundet\nTraceback:\n"
     ]
    }
   ],
   "source": [
    "result # Does not exist - only created inside the function"
   ]
  },
  {
   "cell_type": "markdown",
   "metadata": {},
   "source": [
    "### Functions and control structures\n",
    "\n",
    "Control structures like if-else statements can easily be incorporated in a function. In a previous example an if-else statement was used to check wheter a number is larger than 10. This could be written as a function instead:"
   ]
  },
  {
   "cell_type": "code",
   "execution_count": 28,
   "metadata": {},
   "outputs": [
    {
     "name": "stdout",
     "output_type": "stream",
     "text": [
      "[1] \"The number is larger than 10!\"\n"
     ]
    }
   ],
   "source": [
    "isabove10 <- function(x){\n",
    "    if (x > 10){\n",
    "        print(\"The number is larger than 10!\")\n",
    "    } else {\n",
    "        print(\"The number is not larger than 10!\")\n",
    "    }\n",
    "    } \n",
    "\n",
    "isabove10(12)"
   ]
  },
  {
   "cell_type": "markdown",
   "metadata": {},
   "source": [
    "Note that this function does not contain a return statement because it simply prints text telling whether or not the number is larger than 10."
   ]
  },
  {
   "cell_type": "markdown",
   "metadata": {},
   "source": [
    "### Functions in functions\n",
    "\n",
    "When writing functions, it is possible to incorporate other functions. This allows one to fx create so-called \"wrapper functions\": functions that use existing functions but with different settings. (`read_csv` from the package `readr` is fx a wrapper function of `read_delim`).\n",
    "\n",
    "Here is a simple wrapper function for the `head()` function with a different default:"
   ]
  },
  {
   "cell_type": "code",
   "execution_count": 29,
   "metadata": {},
   "outputs": [],
   "source": [
    "head10 <- function(x, n = 10){\n",
    "    head(x, n)\n",
    "    }"
   ]
  },
  {
   "cell_type": "code",
   "execution_count": 30,
   "metadata": {},
   "outputs": [
    {
     "name": "stderr",
     "output_type": "stream",
     "text": [
      "Parsed with column specification:\n",
      "cols(\n",
      "  idno = col_double(),\n",
      "  netustm = col_double(),\n",
      "  ppltrst = col_double(),\n",
      "  vote = col_character(),\n",
      "  prtvtddk = col_character(),\n",
      "  lvpntyr = col_character(),\n",
      "  tygrtr = col_character(),\n",
      "  gndr = col_character(),\n",
      "  yrbrn = col_double(),\n",
      "  edlvddk = col_character(),\n",
      "  eduyrs = col_double(),\n",
      "  wkhct = col_double(),\n",
      "  wkhtot = col_double(),\n",
      "  grspnum = col_double(),\n",
      "  frlgrsp = col_double(),\n",
      "  inwtm = col_double()\n",
      ")\n"
     ]
    },
    {
     "data": {
      "text/html": [
       "<table>\n",
       "<thead><tr><th scope=col>idno</th><th scope=col>netustm</th><th scope=col>ppltrst</th><th scope=col>vote</th><th scope=col>prtvtddk</th><th scope=col>lvpntyr</th><th scope=col>tygrtr</th><th scope=col>gndr</th><th scope=col>yrbrn</th><th scope=col>edlvddk</th><th scope=col>eduyrs</th><th scope=col>wkhct</th><th scope=col>wkhtot</th><th scope=col>grspnum</th><th scope=col>frlgrsp</th><th scope=col>inwtm</th></tr></thead>\n",
       "<tbody>\n",
       "\t<tr><td>  110                                                                         </td><td>180                                                                           </td><td>8                                                                             </td><td>Yes                                                                           </td><td>Socialdemokratiet - The Social democrats                                      </td><td>1968                                                                          </td><td>Never too young                                                               </td><td>Male                                                                          </td><td>1949                                                                          </td><td>Kort videregående uddannelse af op til 2-3 års varighed, F.eks. Erhvervsakadem</td><td> 9                                                                            </td><td>28                                                                            </td><td>28                                                                            </td><td>   NA                                                                         </td><td>   NA                                                                         </td><td>119                                                                           </td></tr>\n",
       "\t<tr><td>  705                                                                         </td><td> 60                                                                           </td><td>5                                                                             </td><td>Yes                                                                           </td><td>Det Konservative Folkeparti - Conservative People's Party                     </td><td>1976                                                                          </td><td>67                                                                            </td><td>Male                                                                          </td><td>1958                                                                          </td><td>Kort videregående uddannelse af op til 2-3 års varighed, F.eks. Erhvervsakadem</td><td>22                                                                            </td><td>37                                                                            </td><td>45                                                                            </td><td>   NA                                                                         </td><td>   NA                                                                         </td><td> 55                                                                           </td></tr>\n",
       "\t<tr><td> 1327                                                                         </td><td>240                                                                           </td><td>5                                                                             </td><td>NA                                                                            </td><td>NA                                                                            </td><td>Still in parental home, never left 2 months                                   </td><td>NA                                                                            </td><td>Male                                                                          </td><td>2000                                                                          </td><td>Folkeskole 9.-10. klasse                                                      </td><td>11                                                                            </td><td>37                                                                            </td><td>37                                                                            </td><td>   NA                                                                         </td><td>   NA                                                                         </td><td> 37                                                                           </td></tr>\n",
       "\t<tr><td> 3760                                                                         </td><td>300                                                                           </td><td>7                                                                             </td><td>Not eligible to vote                                                          </td><td>NA                                                                            </td><td>Still in parental home, never left 2 months                                   </td><td>40                                                                            </td><td>Male                                                                          </td><td>2002                                                                          </td><td>Folkeskole 9.-10. klasse                                                      </td><td> 9                                                                            </td><td> 2                                                                            </td><td> 2                                                                            </td><td>  200                                                                         </td><td>   NA                                                                         </td><td> 43                                                                           </td></tr>\n",
       "\t<tr><td> 4658                                                                         </td><td> 90                                                                           </td><td>8                                                                             </td><td>Yes                                                                           </td><td>NA                                                                            </td><td>1974                                                                          </td><td>50                                                                            </td><td>Female                                                                        </td><td>1956                                                                          </td><td>Kort videregående uddannelse af op til 2-3 års varighed, F.eks. Erhvervsakadem</td><td> 4                                                                            </td><td>30                                                                            </td><td>30                                                                            </td><td>   NA                                                                         </td><td>   NA                                                                         </td><td> 62                                                                           </td></tr>\n",
       "\t<tr><td> 5816                                                                         </td><td> 90                                                                           </td><td>7                                                                             </td><td>Yes                                                                           </td><td>SF Socialistisk Folkeparti - Socialist People's Party                         </td><td>1994                                                                          </td><td>60                                                                            </td><td>Male                                                                          </td><td>1974                                                                          </td><td>Mellemlang videregående uddannelse af 3-4 års varighed. Professionsbachelorer,</td><td>35                                                                            </td><td>37                                                                            </td><td>37                                                                            </td><td>37000                                                                         </td><td>35000                                                                         </td><td> 61                                                                           </td></tr>\n",
       "\t<tr><td> 7251                                                                         </td><td>300                                                                           </td><td>5                                                                             </td><td>Yes                                                                           </td><td>Dansk Folkeparti - Danish People's Party                                      </td><td>1993                                                                          </td><td>40                                                                            </td><td>Female                                                                        </td><td>1975                                                                          </td><td>Faglig uddannelse (håndværk, handel, landbrug mv.), F.eks. Faglærte, Social-  </td><td>13                                                                            </td><td>32                                                                            </td><td>34                                                                            </td><td>22000                                                                         </td><td>30000                                                                         </td><td> 68                                                                           </td></tr>\n",
       "\t<tr><td> 7887                                                                         </td><td>360                                                                           </td><td>8                                                                             </td><td>Yes                                                                           </td><td>Socialdemokratiet - The Social democrats                                      </td><td>1983                                                                          </td><td>55                                                                            </td><td>Male                                                                          </td><td>1958                                                                          </td><td>Lang videregående uddannelse. Kandidatuddannelser af 5.-6. års varighed, F.eks</td><td>25                                                                            </td><td>39                                                                            </td><td>39                                                                            </td><td>36000                                                                         </td><td>42000                                                                         </td><td> 89                                                                           </td></tr>\n",
       "\t<tr><td> 9607                                                                         </td><td>540                                                                           </td><td>9                                                                             </td><td>Yes                                                                           </td><td>Alternativet - The Alternative                                                </td><td>1982                                                                          </td><td>64                                                                            </td><td>Female                                                                        </td><td>1964                                                                          </td><td>Mellemlang videregående uddannelse af 3-4 års varighed. Professionsbachelorer,</td><td>13                                                                            </td><td>32                                                                            </td><td>34                                                                            </td><td>32000                                                                         </td><td>   NA                                                                         </td><td> 50                                                                           </td></tr>\n",
       "\t<tr><td>11123                                                                         </td><td>150                                                                           </td><td>7                                                                             </td><td>Yes                                                                           </td><td>Socialdemokratiet - The Social democrats                                      </td><td>1994                                                                          </td><td>45                                                                            </td><td>Male                                                                          </td><td>1974                                                                          </td><td>Faglig uddannelse (håndværk, handel, landbrug mv.), F.eks. Faglærte, Social-  </td><td>16                                                                            </td><td>37                                                                            </td><td>37                                                                            </td><td> 9000                                                                         </td><td>   NA                                                                         </td><td> 62                                                                           </td></tr>\n",
       "</tbody>\n",
       "</table>\n"
      ],
      "text/latex": [
       "\\begin{tabular}{r|llllllllllllllll}\n",
       " idno & netustm & ppltrst & vote & prtvtddk & lvpntyr & tygrtr & gndr & yrbrn & edlvddk & eduyrs & wkhct & wkhtot & grspnum & frlgrsp & inwtm\\\\\n",
       "\\hline\n",
       "\t   110                                                                          & 180                                                                            & 8                                                                              & Yes                                                                            & Socialdemokratiet - The Social democrats                                       & 1968                                                                           & Never too young                                                                & Male                                                                           & 1949                                                                           & Kort videregående uddannelse af op til 2-3 års varighed, F.eks. Erhvervsakadem &  9                                                                             & 28                                                                             & 28                                                                             &    NA                                                                          &    NA                                                                          & 119                                                                           \\\\\n",
       "\t   705                                                                          &  60                                                                            & 5                                                                              & Yes                                                                            & Det Konservative Folkeparti - Conservative People's Party                      & 1976                                                                           & 67                                                                             & Male                                                                           & 1958                                                                           & Kort videregående uddannelse af op til 2-3 års varighed, F.eks. Erhvervsakadem & 22                                                                             & 37                                                                             & 45                                                                             &    NA                                                                          &    NA                                                                          &  55                                                                           \\\\\n",
       "\t  1327                                                                          & 240                                                                            & 5                                                                              & NA                                                                             & NA                                                                             & Still in parental home, never left 2 months                                    & NA                                                                             & Male                                                                           & 2000                                                                           & Folkeskole 9.-10. klasse                                                       & 11                                                                             & 37                                                                             & 37                                                                             &    NA                                                                          &    NA                                                                          &  37                                                                           \\\\\n",
       "\t  3760                                                                          & 300                                                                            & 7                                                                              & Not eligible to vote                                                           & NA                                                                             & Still in parental home, never left 2 months                                    & 40                                                                             & Male                                                                           & 2002                                                                           & Folkeskole 9.-10. klasse                                                       &  9                                                                             &  2                                                                             &  2                                                                             &   200                                                                          &    NA                                                                          &  43                                                                           \\\\\n",
       "\t  4658                                                                          &  90                                                                            & 8                                                                              & Yes                                                                            & NA                                                                             & 1974                                                                           & 50                                                                             & Female                                                                         & 1956                                                                           & Kort videregående uddannelse af op til 2-3 års varighed, F.eks. Erhvervsakadem &  4                                                                             & 30                                                                             & 30                                                                             &    NA                                                                          &    NA                                                                          &  62                                                                           \\\\\n",
       "\t  5816                                                                          &  90                                                                            & 7                                                                              & Yes                                                                            & SF Socialistisk Folkeparti - Socialist People's Party                          & 1994                                                                           & 60                                                                             & Male                                                                           & 1974                                                                           & Mellemlang videregående uddannelse af 3-4 års varighed. Professionsbachelorer, & 35                                                                             & 37                                                                             & 37                                                                             & 37000                                                                          & 35000                                                                          &  61                                                                           \\\\\n",
       "\t  7251                                                                          & 300                                                                            & 5                                                                              & Yes                                                                            & Dansk Folkeparti - Danish People's Party                                       & 1993                                                                           & 40                                                                             & Female                                                                         & 1975                                                                           & Faglig uddannelse (håndværk, handel, landbrug mv.), F.eks. Faglærte, Social-   & 13                                                                             & 32                                                                             & 34                                                                             & 22000                                                                          & 30000                                                                          &  68                                                                           \\\\\n",
       "\t  7887                                                                          & 360                                                                            & 8                                                                              & Yes                                                                            & Socialdemokratiet - The Social democrats                                       & 1983                                                                           & 55                                                                             & Male                                                                           & 1958                                                                           & Lang videregående uddannelse. Kandidatuddannelser af 5.-6. års varighed, F.eks & 25                                                                             & 39                                                                             & 39                                                                             & 36000                                                                          & 42000                                                                          &  89                                                                           \\\\\n",
       "\t  9607                                                                          & 540                                                                            & 9                                                                              & Yes                                                                            & Alternativet - The Alternative                                                 & 1982                                                                           & 64                                                                             & Female                                                                         & 1964                                                                           & Mellemlang videregående uddannelse af 3-4 års varighed. Professionsbachelorer, & 13                                                                             & 32                                                                             & 34                                                                             & 32000                                                                          &    NA                                                                          &  50                                                                           \\\\\n",
       "\t 11123                                                                          & 150                                                                            & 7                                                                              & Yes                                                                            & Socialdemokratiet - The Social democrats                                       & 1994                                                                           & 45                                                                             & Male                                                                           & 1974                                                                           & Faglig uddannelse (håndværk, handel, landbrug mv.), F.eks. Faglærte, Social-   & 16                                                                             & 37                                                                             & 37                                                                             &  9000                                                                          &    NA                                                                          &  62                                                                           \\\\\n",
       "\\end{tabular}\n"
      ],
      "text/markdown": [
       "\n",
       "| idno | netustm | ppltrst | vote | prtvtddk | lvpntyr | tygrtr | gndr | yrbrn | edlvddk | eduyrs | wkhct | wkhtot | grspnum | frlgrsp | inwtm |\n",
       "|---|---|---|---|---|---|---|---|---|---|---|---|---|---|---|---|\n",
       "|   110                                                                          | 180                                                                            | 8                                                                              | Yes                                                                            | Socialdemokratiet - The Social democrats                                       | 1968                                                                           | Never too young                                                                | Male                                                                           | 1949                                                                           | Kort videregående uddannelse af op til 2-3 års varighed, F.eks. Erhvervsakadem |  9                                                                             | 28                                                                             | 28                                                                             |    NA                                                                          |    NA                                                                          | 119                                                                            |\n",
       "|   705                                                                          |  60                                                                            | 5                                                                              | Yes                                                                            | Det Konservative Folkeparti - Conservative People's Party                      | 1976                                                                           | 67                                                                             | Male                                                                           | 1958                                                                           | Kort videregående uddannelse af op til 2-3 års varighed, F.eks. Erhvervsakadem | 22                                                                             | 37                                                                             | 45                                                                             |    NA                                                                          |    NA                                                                          |  55                                                                            |\n",
       "|  1327                                                                          | 240                                                                            | 5                                                                              | NA                                                                             | NA                                                                             | Still in parental home, never left 2 months                                    | NA                                                                             | Male                                                                           | 2000                                                                           | Folkeskole 9.-10. klasse                                                       | 11                                                                             | 37                                                                             | 37                                                                             |    NA                                                                          |    NA                                                                          |  37                                                                            |\n",
       "|  3760                                                                          | 300                                                                            | 7                                                                              | Not eligible to vote                                                           | NA                                                                             | Still in parental home, never left 2 months                                    | 40                                                                             | Male                                                                           | 2002                                                                           | Folkeskole 9.-10. klasse                                                       |  9                                                                             |  2                                                                             |  2                                                                             |   200                                                                          |    NA                                                                          |  43                                                                            |\n",
       "|  4658                                                                          |  90                                                                            | 8                                                                              | Yes                                                                            | NA                                                                             | 1974                                                                           | 50                                                                             | Female                                                                         | 1956                                                                           | Kort videregående uddannelse af op til 2-3 års varighed, F.eks. Erhvervsakadem |  4                                                                             | 30                                                                             | 30                                                                             |    NA                                                                          |    NA                                                                          |  62                                                                            |\n",
       "|  5816                                                                          |  90                                                                            | 7                                                                              | Yes                                                                            | SF Socialistisk Folkeparti - Socialist People's Party                          | 1994                                                                           | 60                                                                             | Male                                                                           | 1974                                                                           | Mellemlang videregående uddannelse af 3-4 års varighed. Professionsbachelorer, | 35                                                                             | 37                                                                             | 37                                                                             | 37000                                                                          | 35000                                                                          |  61                                                                            |\n",
       "|  7251                                                                          | 300                                                                            | 5                                                                              | Yes                                                                            | Dansk Folkeparti - Danish People's Party                                       | 1993                                                                           | 40                                                                             | Female                                                                         | 1975                                                                           | Faglig uddannelse (håndværk, handel, landbrug mv.), F.eks. Faglærte, Social-   | 13                                                                             | 32                                                                             | 34                                                                             | 22000                                                                          | 30000                                                                          |  68                                                                            |\n",
       "|  7887                                                                          | 360                                                                            | 8                                                                              | Yes                                                                            | Socialdemokratiet - The Social democrats                                       | 1983                                                                           | 55                                                                             | Male                                                                           | 1958                                                                           | Lang videregående uddannelse. Kandidatuddannelser af 5.-6. års varighed, F.eks | 25                                                                             | 39                                                                             | 39                                                                             | 36000                                                                          | 42000                                                                          |  89                                                                            |\n",
       "|  9607                                                                          | 540                                                                            | 9                                                                              | Yes                                                                            | Alternativet - The Alternative                                                 | 1982                                                                           | 64                                                                             | Female                                                                         | 1964                                                                           | Mellemlang videregående uddannelse af 3-4 års varighed. Professionsbachelorer, | 13                                                                             | 32                                                                             | 34                                                                             | 32000                                                                          |    NA                                                                          |  50                                                                            |\n",
       "| 11123                                                                          | 150                                                                            | 7                                                                              | Yes                                                                            | Socialdemokratiet - The Social democrats                                       | 1994                                                                           | 45                                                                             | Male                                                                           | 1974                                                                           | Faglig uddannelse (håndværk, handel, landbrug mv.), F.eks. Faglærte, Social-   | 16                                                                             | 37                                                                             | 37                                                                             |  9000                                                                          |    NA                                                                          |  62                                                                            |\n",
       "\n"
      ],
      "text/plain": [
       "   idno  netustm ppltrst vote                \n",
       "1    110 180     8       Yes                 \n",
       "2    705  60     5       Yes                 \n",
       "3   1327 240     5       NA                  \n",
       "4   3760 300     7       Not eligible to vote\n",
       "5   4658  90     8       Yes                 \n",
       "6   5816  90     7       Yes                 \n",
       "7   7251 300     5       Yes                 \n",
       "8   7887 360     8       Yes                 \n",
       "9   9607 540     9       Yes                 \n",
       "10 11123 150     7       Yes                 \n",
       "   prtvtddk                                                 \n",
       "1  Socialdemokratiet - The Social democrats                 \n",
       "2  Det Konservative Folkeparti - Conservative People's Party\n",
       "3  NA                                                       \n",
       "4  NA                                                       \n",
       "5  NA                                                       \n",
       "6  SF Socialistisk Folkeparti - Socialist People's Party    \n",
       "7  Dansk Folkeparti - Danish People's Party                 \n",
       "8  Socialdemokratiet - The Social democrats                 \n",
       "9  Alternativet - The Alternative                           \n",
       "10 Socialdemokratiet - The Social democrats                 \n",
       "   lvpntyr                                     tygrtr          gndr   yrbrn\n",
       "1  1968                                        Never too young Male   1949 \n",
       "2  1976                                        67              Male   1958 \n",
       "3  Still in parental home, never left 2 months NA              Male   2000 \n",
       "4  Still in parental home, never left 2 months 40              Male   2002 \n",
       "5  1974                                        50              Female 1956 \n",
       "6  1994                                        60              Male   1974 \n",
       "7  1993                                        40              Female 1975 \n",
       "8  1983                                        55              Male   1958 \n",
       "9  1982                                        64              Female 1964 \n",
       "10 1994                                        45              Male   1974 \n",
       "   edlvddk                                                                       \n",
       "1  Kort videregående uddannelse af op til 2-3 års varighed, F.eks. Erhvervsakadem\n",
       "2  Kort videregående uddannelse af op til 2-3 års varighed, F.eks. Erhvervsakadem\n",
       "3  Folkeskole 9.-10. klasse                                                      \n",
       "4  Folkeskole 9.-10. klasse                                                      \n",
       "5  Kort videregående uddannelse af op til 2-3 års varighed, F.eks. Erhvervsakadem\n",
       "6  Mellemlang videregående uddannelse af 3-4 års varighed. Professionsbachelorer,\n",
       "7  Faglig uddannelse (håndværk, handel, landbrug mv.), F.eks. Faglærte, Social-  \n",
       "8  Lang videregående uddannelse. Kandidatuddannelser af 5.-6. års varighed, F.eks\n",
       "9  Mellemlang videregående uddannelse af 3-4 års varighed. Professionsbachelorer,\n",
       "10 Faglig uddannelse (håndværk, handel, landbrug mv.), F.eks. Faglærte, Social-  \n",
       "   eduyrs wkhct wkhtot grspnum frlgrsp inwtm\n",
       "1   9     28    28        NA      NA   119  \n",
       "2  22     37    45        NA      NA    55  \n",
       "3  11     37    37        NA      NA    37  \n",
       "4   9      2     2       200      NA    43  \n",
       "5   4     30    30        NA      NA    62  \n",
       "6  35     37    37     37000   35000    61  \n",
       "7  13     32    34     22000   30000    68  \n",
       "8  25     39    39     36000   42000    89  \n",
       "9  13     32    34     32000      NA    50  \n",
       "10 16     37    37      9000      NA    62  "
      ]
     },
     "metadata": {},
     "output_type": "display_data"
    }
   ],
   "source": [
    "library(readr)\n",
    "\n",
    "data <- read_csv(\"https://github.com/CALDISS-AAU/workshop_R-intro/raw/master/data/ESS2018DK_subset.csv\")\n",
    "\n",
    "head10(data)"
   ]
  },
  {
   "cell_type": "markdown",
   "metadata": {},
   "source": [
    "## EXERCISE: CREATING FUNCTIONS\n",
    "\n",
    "- Create a wrapper function for the `mean()` function where missing values are removed by default.\n",
    "\n",
    "- Use the function on a valid variable in the ESS dataset."
   ]
  },
  {
   "cell_type": "markdown",
   "metadata": {},
   "source": [
    "### Use cases for creating own functions\n",
    "\n",
    "Creating your own functions is often not necessary at all when using R but it can come in handy. Here are some examples of possible use cases:\n",
    "\n",
    "- Creating wrapper functions\n",
    "- Convert repeated parts of a script to a function\n",
    "- Creating functions for specific datasets (fx a single function containing various datamanagement tasks for varialbes in ESS data that are used in several rounds. That way the same function can be used for ESS 2010, 2012, 2014 and so on)."
   ]
  }
 ],
 "metadata": {
  "kernelspec": {
   "display_name": "R",
   "language": "R",
   "name": "ir"
  },
  "language_info": {
   "codemirror_mode": "r",
   "file_extension": ".r",
   "mimetype": "text/x-r-source",
   "name": "R",
   "pygments_lexer": "r",
   "version": "3.6.1"
  }
 },
 "nbformat": 4,
 "nbformat_minor": 4
}
