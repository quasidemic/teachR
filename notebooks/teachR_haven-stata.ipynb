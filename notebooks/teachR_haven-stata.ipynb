{
 "cells": [
  {
   "cell_type": "code",
   "execution_count": 1,
   "metadata": {},
   "outputs": [
    {
     "name": "stderr",
     "output_type": "stream",
     "text": [
      "Registered S3 methods overwritten by 'ggplot2':\n",
      "  method         from \n",
      "  [.quosures     rlang\n",
      "  c.quosures     rlang\n",
      "  print.quosures rlang\n",
      "Registered S3 method overwritten by 'rvest':\n",
      "  method            from\n",
      "  read_xml.response xml2\n",
      "-- Attaching packages --------------------------------------- tidyverse 1.2.1 --\n",
      "v ggplot2 3.1.1       v purrr   0.3.2  \n",
      "v tibble  2.1.1       v dplyr   0.8.0.1\n",
      "v tidyr   0.8.3       v stringr 1.4.0  \n",
      "v readr   1.3.1       v forcats 0.4.0  \n",
      "-- Conflicts ------------------------------------------ tidyverse_conflicts() --\n",
      "x dplyr::filter() masks stats::filter()\n",
      "x dplyr::lag()    masks stats::lag()\n",
      "Parsed with column specification:\n",
      "cols(\n",
      "  idno = col_double(),\n",
      "  netustm = col_double(),\n",
      "  ppltrst = col_double(),\n",
      "  vote = col_character(),\n",
      "  prtvtddk = col_character(),\n",
      "  lvpntyr = col_character(),\n",
      "  tygrtr = col_character(),\n",
      "  gndr = col_character(),\n",
      "  yrbrn = col_double(),\n",
      "  edlvddk = col_character(),\n",
      "  eduyrs = col_double(),\n",
      "  wkhct = col_double(),\n",
      "  wkhtot = col_double(),\n",
      "  grspnum = col_double(),\n",
      "  frlgrsp = col_double(),\n",
      "  inwtm = col_double()\n",
      ")\n"
     ]
    }
   ],
   "source": [
    "# Setup\n",
    "\n",
    "library(tidyverse)\n",
    "data <- read_csv(\"https://github.com/CALDISS-AAU/workshop_R-intro/raw/master/data/ESS2018DK_subset.csv\")"
   ]
  },
  {
   "cell_type": "markdown",
   "metadata": {},
   "source": [
    "# Reading data from other analysis software with `haven`\n",
    "\n",
    "[`haven`](https://haven.tidyverse.org/) is a tidyverse package for reading and writing data from other analyis software tools like SAS, Stata and SPSS.\n",
    "\n",
    "The functions in `haven` are simple but because of the functional differences between R and the program the data was created in, one should be advised when importing data with `haven`."
   ]
  },
  {
   "cell_type": "markdown",
   "metadata": {},
   "source": [
    "## Reading Stata data with `haven` \n",
    "\n",
    "Stata data (.dta) can be read into R using `read_dta()`:"
   ]
  },
  {
   "cell_type": "code",
   "execution_count": 6,
   "metadata": {},
   "outputs": [],
   "source": [
    "library(haven)\n",
    "\n",
    "ess18_occu <- read_dta(\"https://github.com/CALDISS-AAU/workshop_r-table-data/raw/master/data/ESS2018DK_subset_occu-ethn.dta\")"
   ]
  },
  {
   "cell_type": "code",
   "execution_count": 7,
   "metadata": {},
   "outputs": [
    {
     "data": {
      "text/html": [
       "<table>\n",
       "<thead><tr><th scope=col>idno</th><th scope=col>health</th><th scope=col>brncntr</th><th scope=col>facntr</th><th scope=col>mocntr</th><th scope=col>marsts</th><th scope=col>isco08</th></tr></thead>\n",
       "<tbody>\n",
       "\t<tr><td> 110</td><td>3   </td><td>1   </td><td>1   </td><td>1   </td><td> 1  </td><td>9334</td></tr>\n",
       "\t<tr><td> 705</td><td>2   </td><td>1   </td><td>1   </td><td>1   </td><td>NA  </td><td> 210</td></tr>\n",
       "\t<tr><td>1327</td><td>2   </td><td>1   </td><td>1   </td><td>1   </td><td> 6  </td><td>7231</td></tr>\n",
       "\t<tr><td>3760</td><td>1   </td><td>1   </td><td>1   </td><td>1   </td><td> 6  </td><td>9111</td></tr>\n",
       "\t<tr><td>4658</td><td>1   </td><td>1   </td><td>2   </td><td>1   </td><td>NA  </td><td>3251</td></tr>\n",
       "\t<tr><td>5816</td><td>2   </td><td>1   </td><td>1   </td><td>1   </td><td>NA  </td><td>2352</td></tr>\n",
       "</tbody>\n",
       "</table>\n"
      ],
      "text/latex": [
       "\\begin{tabular}{r|lllllll}\n",
       " idno & health & brncntr & facntr & mocntr & marsts & isco08\\\\\n",
       "\\hline\n",
       "\t  110 & 3    & 1    & 1    & 1    &  1   & 9334\\\\\n",
       "\t  705 & 2    & 1    & 1    & 1    & NA   &  210\\\\\n",
       "\t 1327 & 2    & 1    & 1    & 1    &  6   & 7231\\\\\n",
       "\t 3760 & 1    & 1    & 1    & 1    &  6   & 9111\\\\\n",
       "\t 4658 & 1    & 1    & 2    & 1    & NA   & 3251\\\\\n",
       "\t 5816 & 2    & 1    & 1    & 1    & NA   & 2352\\\\\n",
       "\\end{tabular}\n"
      ],
      "text/markdown": [
       "\n",
       "| idno | health | brncntr | facntr | mocntr | marsts | isco08 |\n",
       "|---|---|---|---|---|---|---|\n",
       "|  110 | 3    | 1    | 1    | 1    |  1   | 9334 |\n",
       "|  705 | 2    | 1    | 1    | 1    | NA   |  210 |\n",
       "| 1327 | 2    | 1    | 1    | 1    |  6   | 7231 |\n",
       "| 3760 | 1    | 1    | 1    | 1    |  6   | 9111 |\n",
       "| 4658 | 1    | 1    | 2    | 1    | NA   | 3251 |\n",
       "| 5816 | 2    | 1    | 1    | 1    | NA   | 2352 |\n",
       "\n"
      ],
      "text/plain": [
       "  idno health brncntr facntr mocntr marsts isco08\n",
       "1  110 3      1       1      1       1     9334  \n",
       "2  705 2      1       1      1      NA      210  \n",
       "3 1327 2      1       1      1       6     7231  \n",
       "4 3760 1      1       1      1       6     9111  \n",
       "5 4658 1      1       2      1      NA     3251  \n",
       "6 5816 2      1       1      1      NA     2352  "
      ]
     },
     "metadata": {},
     "output_type": "display_data"
    }
   ],
   "source": [
    "head(ess18_occu)"
   ]
  },
  {
   "cell_type": "markdown",
   "metadata": {},
   "source": [
    "A core feature of Stata is using descriptive labels for both variables and values. This feature is not supported by R and data is therefore simply read its \"raw\" form. \n",
    "\n",
    "`haven` does however store the variable and value labels as attributes:"
   ]
  },
  {
   "cell_type": "code",
   "execution_count": 34,
   "metadata": {},
   "outputs": [
    {
     "data": {
      "text/html": [
       "'Subjective general health'"
      ],
      "text/latex": [
       "'Subjective general health'"
      ],
      "text/markdown": [
       "'Subjective general health'"
      ],
      "text/plain": [
       "[1] \"Subjective general health\""
      ]
     },
     "metadata": {},
     "output_type": "display_data"
    }
   ],
   "source": [
    "attr(ess18_occu$health, \"label\")"
   ]
  },
  {
   "cell_type": "code",
   "execution_count": 33,
   "metadata": {},
   "outputs": [
    {
     "data": {
      "text/html": [
       "<dl class=dl-horizontal>\n",
       "\t<dt>Very good</dt>\n",
       "\t\t<dd>1</dd>\n",
       "\t<dt>Good</dt>\n",
       "\t\t<dd>2</dd>\n",
       "\t<dt>Fair</dt>\n",
       "\t\t<dd>3</dd>\n",
       "\t<dt>Bad</dt>\n",
       "\t\t<dd>4</dd>\n",
       "\t<dt>Very bad</dt>\n",
       "\t\t<dd>5</dd>\n",
       "\t<dt>Refusal</dt>\n",
       "\t\t<dd>&lt;NA&gt;</dd>\n",
       "\t<dt>Don't know</dt>\n",
       "\t\t<dd>&lt;NA&gt;</dd>\n",
       "\t<dt>No answer</dt>\n",
       "\t\t<dd>&lt;NA&gt;</dd>\n",
       "</dl>\n"
      ],
      "text/latex": [
       "\\begin{description*}\n",
       "\\item[Very good] 1\n",
       "\\item[Good] 2\n",
       "\\item[Fair] 3\n",
       "\\item[Bad] 4\n",
       "\\item[Very bad] 5\n",
       "\\item[Refusal] <NA>\n",
       "\\item[Don't know] <NA>\n",
       "\\item[No answer] <NA>\n",
       "\\end{description*}\n"
      ],
      "text/markdown": [
       "Very good\n",
       ":   1Good\n",
       ":   2Fair\n",
       ":   3Bad\n",
       ":   4Very bad\n",
       ":   5Refusal\n",
       ":   &lt;NA&gt;Don't know\n",
       ":   &lt;NA&gt;No answer\n",
       ":   &lt;NA&gt;\n",
       "\n"
      ],
      "text/plain": [
       " Very good       Good       Fair        Bad   Very bad    Refusal Don't know \n",
       "         1          2          3          4          5         NA         NA \n",
       " No answer \n",
       "        NA "
      ]
     },
     "metadata": {},
     "output_type": "display_data"
    }
   ],
   "source": [
    "attr(ess18_occu$health, \"labels\")"
   ]
  },
  {
   "cell_type": "code",
   "execution_count": 72,
   "metadata": {},
   "outputs": [
    {
     "name": "stdout",
     "output_type": "stream",
     "text": [
      "idno \t Respondent's identification number \n",
      "health \t Subjective general health \n",
      "brncntr \t Born in country \n",
      "facntr \t Father born in country \n",
      "mocntr \t Mother born in country \n",
      "marsts \t Legal marital status \n",
      "isco08 \t Occupation, ISCO08 \n"
     ]
    }
   ],
   "source": [
    "for (i in seq_along(ess18_occu)){\n",
    "    cat(names(ess18_occu)[i], \"\\t\", attr(ess18_occu[[i]], \"label\"), \"\\n\")\n",
    "    }"
   ]
  },
  {
   "cell_type": "markdown",
   "metadata": {},
   "source": [
    "## Dealing with `haven_labelled`\n",
    "\n",
    "To ensure no information in the data is lost, `haven` stores the value labels by treating the variables as the class `haven_labelled`:"
   ]
  },
  {
   "cell_type": "code",
   "execution_count": 73,
   "metadata": {},
   "outputs": [
    {
     "data": {
      "text/html": [
       "'haven_labelled'"
      ],
      "text/latex": [
       "'haven\\_labelled'"
      ],
      "text/markdown": [
       "'haven_labelled'"
      ],
      "text/plain": [
       "[1] \"haven_labelled\""
      ]
     },
     "metadata": {},
     "output_type": "display_data"
    }
   ],
   "source": [
    "class(ess18_occu$health)"
   ]
  },
  {
   "cell_type": "markdown",
   "metadata": {},
   "source": [
    "This class has limited functionality and one shoud *always* convert `haven_labelled` to an appropriate R class (numeric, character, factor, logical)."
   ]
  },
  {
   "cell_type": "markdown",
   "metadata": {},
   "source": [
    "### Converting to numeric\n",
    "\n",
    "Convert to numeric (not categorical!) simply by using `as.numeric`:"
   ]
  },
  {
   "cell_type": "code",
   "execution_count": 106,
   "metadata": {},
   "outputs": [
    {
     "data": {
      "text/html": [
       "<table>\n",
       "<thead><tr><th scope=col>idno</th><th scope=col>health</th><th scope=col>brncntr</th><th scope=col>facntr</th><th scope=col>mocntr</th><th scope=col>marsts</th><th scope=col>isco08</th></tr></thead>\n",
       "<tbody>\n",
       "\t<tr><td> 110</td><td>3   </td><td>1   </td><td>1   </td><td>1   </td><td> 1  </td><td>9334</td></tr>\n",
       "\t<tr><td> 705</td><td>2   </td><td>1   </td><td>1   </td><td>1   </td><td>NA  </td><td> 210</td></tr>\n",
       "\t<tr><td>1327</td><td>2   </td><td>1   </td><td>1   </td><td>1   </td><td> 6  </td><td>7231</td></tr>\n",
       "\t<tr><td>3760</td><td>1   </td><td>1   </td><td>1   </td><td>1   </td><td> 6  </td><td>9111</td></tr>\n",
       "\t<tr><td>4658</td><td>1   </td><td>1   </td><td>2   </td><td>1   </td><td>NA  </td><td>3251</td></tr>\n",
       "\t<tr><td>5816</td><td>2   </td><td>1   </td><td>1   </td><td>1   </td><td>NA  </td><td>2352</td></tr>\n",
       "</tbody>\n",
       "</table>\n"
      ],
      "text/latex": [
       "\\begin{tabular}{r|lllllll}\n",
       " idno & health & brncntr & facntr & mocntr & marsts & isco08\\\\\n",
       "\\hline\n",
       "\t  110 & 3    & 1    & 1    & 1    &  1   & 9334\\\\\n",
       "\t  705 & 2    & 1    & 1    & 1    & NA   &  210\\\\\n",
       "\t 1327 & 2    & 1    & 1    & 1    &  6   & 7231\\\\\n",
       "\t 3760 & 1    & 1    & 1    & 1    &  6   & 9111\\\\\n",
       "\t 4658 & 1    & 1    & 2    & 1    & NA   & 3251\\\\\n",
       "\t 5816 & 2    & 1    & 1    & 1    & NA   & 2352\\\\\n",
       "\\end{tabular}\n"
      ],
      "text/markdown": [
       "\n",
       "| idno | health | brncntr | facntr | mocntr | marsts | isco08 |\n",
       "|---|---|---|---|---|---|---|\n",
       "|  110 | 3    | 1    | 1    | 1    |  1   | 9334 |\n",
       "|  705 | 2    | 1    | 1    | 1    | NA   |  210 |\n",
       "| 1327 | 2    | 1    | 1    | 1    |  6   | 7231 |\n",
       "| 3760 | 1    | 1    | 1    | 1    |  6   | 9111 |\n",
       "| 4658 | 1    | 1    | 2    | 1    | NA   | 3251 |\n",
       "| 5816 | 2    | 1    | 1    | 1    | NA   | 2352 |\n",
       "\n"
      ],
      "text/plain": [
       "  idno health brncntr facntr mocntr marsts isco08\n",
       "1  110 3      1       1      1       1     9334  \n",
       "2  705 2      1       1      1      NA      210  \n",
       "3 1327 2      1       1      1       6     7231  \n",
       "4 3760 1      1       1      1       6     9111  \n",
       "5 4658 1      1       2      1      NA     3251  \n",
       "6 5816 2      1       1      1      NA     2352  "
      ]
     },
     "metadata": {},
     "output_type": "display_data"
    }
   ],
   "source": [
    "ess18_occu %>%\n",
    "    mutate(health = as.numeric(health)) %>%\n",
    "    head()"
   ]
  },
  {
   "cell_type": "markdown",
   "metadata": {},
   "source": [
    "### Converting to factor\n",
    "\n",
    "Use `as_factor()` to convert a `haven_labelled` to a factor. The argument `levels` lets you specify whether to use the values (`levels = \"values\"`) or the labels (`levels = \"labels\"`) as the factor levels:"
   ]
  },
  {
   "cell_type": "code",
   "execution_count": 107,
   "metadata": {},
   "outputs": [
    {
     "data": {
      "text/html": [
       "<table>\n",
       "<thead><tr><th scope=col>idno</th><th scope=col>health</th><th scope=col>brncntr</th><th scope=col>facntr</th><th scope=col>mocntr</th><th scope=col>marsts</th><th scope=col>isco08</th></tr></thead>\n",
       "<tbody>\n",
       "\t<tr><td> 110</td><td>3   </td><td>1   </td><td>1   </td><td>1   </td><td> 1  </td><td>9334</td></tr>\n",
       "\t<tr><td> 705</td><td>2   </td><td>1   </td><td>1   </td><td>1   </td><td>NA  </td><td> 210</td></tr>\n",
       "\t<tr><td>1327</td><td>2   </td><td>1   </td><td>1   </td><td>1   </td><td> 6  </td><td>7231</td></tr>\n",
       "\t<tr><td>3760</td><td>1   </td><td>1   </td><td>1   </td><td>1   </td><td> 6  </td><td>9111</td></tr>\n",
       "\t<tr><td>4658</td><td>1   </td><td>1   </td><td>2   </td><td>1   </td><td>NA  </td><td>3251</td></tr>\n",
       "\t<tr><td>5816</td><td>2   </td><td>1   </td><td>1   </td><td>1   </td><td>NA  </td><td>2352</td></tr>\n",
       "</tbody>\n",
       "</table>\n"
      ],
      "text/latex": [
       "\\begin{tabular}{r|lllllll}\n",
       " idno & health & brncntr & facntr & mocntr & marsts & isco08\\\\\n",
       "\\hline\n",
       "\t  110 & 3    & 1    & 1    & 1    &  1   & 9334\\\\\n",
       "\t  705 & 2    & 1    & 1    & 1    & NA   &  210\\\\\n",
       "\t 1327 & 2    & 1    & 1    & 1    &  6   & 7231\\\\\n",
       "\t 3760 & 1    & 1    & 1    & 1    &  6   & 9111\\\\\n",
       "\t 4658 & 1    & 1    & 2    & 1    & NA   & 3251\\\\\n",
       "\t 5816 & 2    & 1    & 1    & 1    & NA   & 2352\\\\\n",
       "\\end{tabular}\n"
      ],
      "text/markdown": [
       "\n",
       "| idno | health | brncntr | facntr | mocntr | marsts | isco08 |\n",
       "|---|---|---|---|---|---|---|\n",
       "|  110 | 3    | 1    | 1    | 1    |  1   | 9334 |\n",
       "|  705 | 2    | 1    | 1    | 1    | NA   |  210 |\n",
       "| 1327 | 2    | 1    | 1    | 1    |  6   | 7231 |\n",
       "| 3760 | 1    | 1    | 1    | 1    |  6   | 9111 |\n",
       "| 4658 | 1    | 1    | 2    | 1    | NA   | 3251 |\n",
       "| 5816 | 2    | 1    | 1    | 1    | NA   | 2352 |\n",
       "\n"
      ],
      "text/plain": [
       "  idno health brncntr facntr mocntr marsts isco08\n",
       "1  110 3      1       1      1       1     9334  \n",
       "2  705 2      1       1      1      NA      210  \n",
       "3 1327 2      1       1      1       6     7231  \n",
       "4 3760 1      1       1      1       6     9111  \n",
       "5 4658 1      1       2      1      NA     3251  \n",
       "6 5816 2      1       1      1      NA     2352  "
      ]
     },
     "metadata": {},
     "output_type": "display_data"
    }
   ],
   "source": [
    "# Using values\n",
    "ess18_occu %>%\n",
    "    mutate(health = as_factor(health, levels = 'values', ordered = TRUE)) %>%\n",
    "    head(10)"
   ]
  },
  {
   "cell_type": "code",
   "execution_count": 108,
   "metadata": {},
   "outputs": [
    {
     "data": {
      "text/html": [
       "<table>\n",
       "<thead><tr><th scope=col>idno</th><th scope=col>health</th><th scope=col>brncntr</th><th scope=col>facntr</th><th scope=col>mocntr</th><th scope=col>marsts</th><th scope=col>isco08</th></tr></thead>\n",
       "<tbody>\n",
       "\t<tr><td> 110     </td><td>Fair     </td><td>1        </td><td>1        </td><td>1        </td><td> 1       </td><td>9334     </td></tr>\n",
       "\t<tr><td> 705     </td><td>Good     </td><td>1        </td><td>1        </td><td>1        </td><td>NA       </td><td> 210     </td></tr>\n",
       "\t<tr><td>1327     </td><td>Good     </td><td>1        </td><td>1        </td><td>1        </td><td> 6       </td><td>7231     </td></tr>\n",
       "\t<tr><td>3760     </td><td>Very good</td><td>1        </td><td>1        </td><td>1        </td><td> 6       </td><td>9111     </td></tr>\n",
       "\t<tr><td>4658     </td><td>Very good</td><td>1        </td><td>2        </td><td>1        </td><td>NA       </td><td>3251     </td></tr>\n",
       "\t<tr><td>5816     </td><td>Good     </td><td>1        </td><td>1        </td><td>1        </td><td>NA       </td><td>2352     </td></tr>\n",
       "</tbody>\n",
       "</table>\n"
      ],
      "text/latex": [
       "\\begin{tabular}{r|lllllll}\n",
       " idno & health & brncntr & facntr & mocntr & marsts & isco08\\\\\n",
       "\\hline\n",
       "\t  110      & Fair      & 1         & 1         & 1         &  1        & 9334     \\\\\n",
       "\t  705      & Good      & 1         & 1         & 1         & NA        &  210     \\\\\n",
       "\t 1327      & Good      & 1         & 1         & 1         &  6        & 7231     \\\\\n",
       "\t 3760      & Very good & 1         & 1         & 1         &  6        & 9111     \\\\\n",
       "\t 4658      & Very good & 1         & 2         & 1         & NA        & 3251     \\\\\n",
       "\t 5816      & Good      & 1         & 1         & 1         & NA        & 2352     \\\\\n",
       "\\end{tabular}\n"
      ],
      "text/markdown": [
       "\n",
       "| idno | health | brncntr | facntr | mocntr | marsts | isco08 |\n",
       "|---|---|---|---|---|---|---|\n",
       "|  110      | Fair      | 1         | 1         | 1         |  1        | 9334      |\n",
       "|  705      | Good      | 1         | 1         | 1         | NA        |  210      |\n",
       "| 1327      | Good      | 1         | 1         | 1         |  6        | 7231      |\n",
       "| 3760      | Very good | 1         | 1         | 1         |  6        | 9111      |\n",
       "| 4658      | Very good | 1         | 2         | 1         | NA        | 3251      |\n",
       "| 5816      | Good      | 1         | 1         | 1         | NA        | 2352      |\n",
       "\n"
      ],
      "text/plain": [
       "  idno health    brncntr facntr mocntr marsts isco08\n",
       "1  110 Fair      1       1      1       1     9334  \n",
       "2  705 Good      1       1      1      NA      210  \n",
       "3 1327 Good      1       1      1       6     7231  \n",
       "4 3760 Very good 1       1      1       6     9111  \n",
       "5 4658 Very good 1       2      1      NA     3251  \n",
       "6 5816 Good      1       1      1      NA     2352  "
      ]
     },
     "metadata": {},
     "output_type": "display_data"
    }
   ],
   "source": [
    "# Using labels\n",
    "ess18_occu %>%\n",
    "    mutate(health = as_factor(health, levels = 'labels', ordered = TRUE)) %>%\n",
    "    head()\n"
   ]
  },
  {
   "cell_type": "code",
   "execution_count": 109,
   "metadata": {},
   "outputs": [
    {
     "data": {
      "text/html": [
       "<table>\n",
       "<thead><tr><th scope=col>idno</th><th scope=col>health</th><th scope=col>brncntr</th><th scope=col>facntr</th><th scope=col>mocntr</th><th scope=col>marsts</th><th scope=col>isco08</th></tr></thead>\n",
       "<tbody>\n",
       "\t<tr><td> 110         </td><td>[3] Fair     </td><td>1            </td><td>1            </td><td>1            </td><td> 1           </td><td>9334         </td></tr>\n",
       "\t<tr><td> 705         </td><td>[2] Good     </td><td>1            </td><td>1            </td><td>1            </td><td>NA           </td><td> 210         </td></tr>\n",
       "\t<tr><td>1327         </td><td>[2] Good     </td><td>1            </td><td>1            </td><td>1            </td><td> 6           </td><td>7231         </td></tr>\n",
       "\t<tr><td>3760         </td><td>[1] Very good</td><td>1            </td><td>1            </td><td>1            </td><td> 6           </td><td>9111         </td></tr>\n",
       "\t<tr><td>4658         </td><td>[1] Very good</td><td>1            </td><td>2            </td><td>1            </td><td>NA           </td><td>3251         </td></tr>\n",
       "\t<tr><td>5816         </td><td>[2] Good     </td><td>1            </td><td>1            </td><td>1            </td><td>NA           </td><td>2352         </td></tr>\n",
       "</tbody>\n",
       "</table>\n"
      ],
      "text/latex": [
       "\\begin{tabular}{r|lllllll}\n",
       " idno & health & brncntr & facntr & mocntr & marsts & isco08\\\\\n",
       "\\hline\n",
       "\t  110              & {[}3{]} Fair      & 1                 & 1                 & 1                 &  1                & 9334             \\\\\n",
       "\t  705              & {[}2{]} Good      & 1                 & 1                 & 1                 & NA                &  210             \\\\\n",
       "\t 1327              & {[}2{]} Good      & 1                 & 1                 & 1                 &  6                & 7231             \\\\\n",
       "\t 3760              & {[}1{]} Very good & 1                 & 1                 & 1                 &  6                & 9111             \\\\\n",
       "\t 4658              & {[}1{]} Very good & 1                 & 2                 & 1                 & NA                & 3251             \\\\\n",
       "\t 5816              & {[}2{]} Good      & 1                 & 1                 & 1                 & NA                & 2352             \\\\\n",
       "\\end{tabular}\n"
      ],
      "text/markdown": [
       "\n",
       "| idno | health | brncntr | facntr | mocntr | marsts | isco08 |\n",
       "|---|---|---|---|---|---|---|\n",
       "|  110          | [3] Fair      | 1             | 1             | 1             |  1            | 9334          |\n",
       "|  705          | [2] Good      | 1             | 1             | 1             | NA            |  210          |\n",
       "| 1327          | [2] Good      | 1             | 1             | 1             |  6            | 7231          |\n",
       "| 3760          | [1] Very good | 1             | 1             | 1             |  6            | 9111          |\n",
       "| 4658          | [1] Very good | 1             | 2             | 1             | NA            | 3251          |\n",
       "| 5816          | [2] Good      | 1             | 1             | 1             | NA            | 2352          |\n",
       "\n"
      ],
      "text/plain": [
       "  idno health        brncntr facntr mocntr marsts isco08\n",
       "1  110 [3] Fair      1       1      1       1     9334  \n",
       "2  705 [2] Good      1       1      1      NA      210  \n",
       "3 1327 [2] Good      1       1      1       6     7231  \n",
       "4 3760 [1] Very good 1       1      1       6     9111  \n",
       "5 4658 [1] Very good 1       2      1      NA     3251  \n",
       "6 5816 [2] Good      1       1      1      NA     2352  "
      ]
     },
     "metadata": {},
     "output_type": "display_data"
    }
   ],
   "source": [
    "# Using both\n",
    "ess18_occu %>%\n",
    "    mutate(health = as_factor(health, levels = 'both', ordered = TRUE)) %>%\n",
    "    head()"
   ]
  },
  {
   "cell_type": "markdown",
   "metadata": {},
   "source": [
    "#### Important note on ordering! \n",
    "\n",
    "When using `as_factor` to create an ordered factor, R will use the label order. *Just remember that R expects levels to be specified from worst to best!*\n",
    "\n",
    "In the case of the `health` variable in the ESS data, the values are ranked from best to worst in terms of health. This can easily cause confusion if the labels are used as levels:"
   ]
  },
  {
   "cell_type": "code",
   "execution_count": 110,
   "metadata": {},
   "outputs": [
    {
     "data": {
      "text/html": [
       "<table>\n",
       "<thead><tr><th scope=col>idno</th><th scope=col>health</th><th scope=col>brncntr</th><th scope=col>facntr</th><th scope=col>mocntr</th><th scope=col>marsts</th><th scope=col>isco08</th></tr></thead>\n",
       "<tbody>\n",
       "\t<tr><td>11688   </td><td>Very bad</td><td>1       </td><td>1       </td><td>1       </td><td>NA      </td><td>5320    </td></tr>\n",
       "\t<tr><td>28202   </td><td>Bad     </td><td>1       </td><td>1       </td><td>1       </td><td>NA      </td><td>5120    </td></tr>\n",
       "\t<tr><td>76553   </td><td>Bad     </td><td>1       </td><td>1       </td><td>1       </td><td>NA      </td><td>2413    </td></tr>\n",
       "\t<tr><td>78061   </td><td>Bad     </td><td>1       </td><td>1       </td><td>1       </td><td> 4      </td><td>7212    </td></tr>\n",
       "\t<tr><td>78613   </td><td>Bad     </td><td>1       </td><td>1       </td><td>1       </td><td>NA      </td><td>8189    </td></tr>\n",
       "\t<tr><td>78728   </td><td>Very bad</td><td>1       </td><td>1       </td><td>1       </td><td>NA      </td><td>1344    </td></tr>\n",
       "\t<tr><td>80016   </td><td>Bad     </td><td>1       </td><td>1       </td><td>1       </td><td> 4      </td><td>9334    </td></tr>\n",
       "\t<tr><td>80397   </td><td>Bad     </td><td>1       </td><td>1       </td><td>1       </td><td>NA      </td><td>7233    </td></tr>\n",
       "\t<tr><td>82127   </td><td>Bad     </td><td>1       </td><td>1       </td><td>1       </td><td> 6      </td><td>  NA    </td></tr>\n",
       "\t<tr><td>82855   </td><td>Bad     </td><td>1       </td><td>1       </td><td>1       </td><td> 6      </td><td>7114    </td></tr>\n",
       "</tbody>\n",
       "</table>\n"
      ],
      "text/latex": [
       "\\begin{tabular}{r|lllllll}\n",
       " idno & health & brncntr & facntr & mocntr & marsts & isco08\\\\\n",
       "\\hline\n",
       "\t 11688    & Very bad & 1        & 1        & 1        & NA       & 5320    \\\\\n",
       "\t 28202    & Bad      & 1        & 1        & 1        & NA       & 5120    \\\\\n",
       "\t 76553    & Bad      & 1        & 1        & 1        & NA       & 2413    \\\\\n",
       "\t 78061    & Bad      & 1        & 1        & 1        &  4       & 7212    \\\\\n",
       "\t 78613    & Bad      & 1        & 1        & 1        & NA       & 8189    \\\\\n",
       "\t 78728    & Very bad & 1        & 1        & 1        & NA       & 1344    \\\\\n",
       "\t 80016    & Bad      & 1        & 1        & 1        &  4       & 9334    \\\\\n",
       "\t 80397    & Bad      & 1        & 1        & 1        & NA       & 7233    \\\\\n",
       "\t 82127    & Bad      & 1        & 1        & 1        &  6       &   NA    \\\\\n",
       "\t 82855    & Bad      & 1        & 1        & 1        &  6       & 7114    \\\\\n",
       "\\end{tabular}\n"
      ],
      "text/markdown": [
       "\n",
       "| idno | health | brncntr | facntr | mocntr | marsts | isco08 |\n",
       "|---|---|---|---|---|---|---|\n",
       "| 11688    | Very bad | 1        | 1        | 1        | NA       | 5320     |\n",
       "| 28202    | Bad      | 1        | 1        | 1        | NA       | 5120     |\n",
       "| 76553    | Bad      | 1        | 1        | 1        | NA       | 2413     |\n",
       "| 78061    | Bad      | 1        | 1        | 1        |  4       | 7212     |\n",
       "| 78613    | Bad      | 1        | 1        | 1        | NA       | 8189     |\n",
       "| 78728    | Very bad | 1        | 1        | 1        | NA       | 1344     |\n",
       "| 80016    | Bad      | 1        | 1        | 1        |  4       | 9334     |\n",
       "| 80397    | Bad      | 1        | 1        | 1        | NA       | 7233     |\n",
       "| 82127    | Bad      | 1        | 1        | 1        |  6       |   NA     |\n",
       "| 82855    | Bad      | 1        | 1        | 1        |  6       | 7114     |\n",
       "\n"
      ],
      "text/plain": [
       "   idno  health   brncntr facntr mocntr marsts isco08\n",
       "1  11688 Very bad 1       1      1      NA     5320  \n",
       "2  28202 Bad      1       1      1      NA     5120  \n",
       "3  76553 Bad      1       1      1      NA     2413  \n",
       "4  78061 Bad      1       1      1       4     7212  \n",
       "5  78613 Bad      1       1      1      NA     8189  \n",
       "6  78728 Very bad 1       1      1      NA     1344  \n",
       "7  80016 Bad      1       1      1       4     9334  \n",
       "8  80397 Bad      1       1      1      NA     7233  \n",
       "9  82127 Bad      1       1      1       6       NA  \n",
       "10 82855 Bad      1       1      1       6     7114  "
      ]
     },
     "metadata": {},
     "output_type": "display_data"
    }
   ],
   "source": [
    "ess18_occu %>%\n",
    "    mutate(health = as_factor(health, levels = 'labels', ordered = TRUE)) %>%\n",
    "    filter(health > \"Fair\") %>%\n",
    "    head(10)"
   ]
  },
  {
   "cell_type": "markdown",
   "metadata": {},
   "source": [
    "This can easily be resolved by using the function `fct_rev()` from `forcats`, which will reverse the order of the levels:"
   ]
  },
  {
   "cell_type": "code",
   "execution_count": 111,
   "metadata": {},
   "outputs": [
    {
     "data": {
      "text/html": [
       "<table>\n",
       "<thead><tr><th scope=col>idno</th><th scope=col>health</th><th scope=col>brncntr</th><th scope=col>facntr</th><th scope=col>mocntr</th><th scope=col>marsts</th><th scope=col>isco08</th></tr></thead>\n",
       "<tbody>\n",
       "\t<tr><td>  705    </td><td>Good     </td><td>1        </td><td>1        </td><td>1        </td><td>NA       </td><td> 210     </td></tr>\n",
       "\t<tr><td> 1327    </td><td>Good     </td><td>1        </td><td>1        </td><td>1        </td><td> 6       </td><td>7231     </td></tr>\n",
       "\t<tr><td> 3760    </td><td>Very good</td><td>1        </td><td>1        </td><td>1        </td><td> 6       </td><td>9111     </td></tr>\n",
       "\t<tr><td> 4658    </td><td>Very good</td><td>1        </td><td>2        </td><td>1        </td><td>NA       </td><td>3251     </td></tr>\n",
       "\t<tr><td> 5816    </td><td>Good     </td><td>1        </td><td>1        </td><td>1        </td><td>NA       </td><td>2352     </td></tr>\n",
       "\t<tr><td> 9607    </td><td>Good     </td><td>1        </td><td>1        </td><td>1        </td><td>NA       </td><td>4110     </td></tr>\n",
       "\t<tr><td>16357    </td><td>Very good</td><td>1        </td><td>1        </td><td>1        </td><td> 6       </td><td>8113     </td></tr>\n",
       "\t<tr><td>17504    </td><td>Good     </td><td>1        </td><td>1        </td><td>1        </td><td> 6       </td><td>5311     </td></tr>\n",
       "\t<tr><td>19970    </td><td>Very good</td><td>2        </td><td>2        </td><td>1        </td><td> 4       </td><td>1120     </td></tr>\n",
       "\t<tr><td>20724    </td><td>Good     </td><td>1        </td><td>1        </td><td>1        </td><td>NA       </td><td>7125     </td></tr>\n",
       "</tbody>\n",
       "</table>\n"
      ],
      "text/latex": [
       "\\begin{tabular}{r|lllllll}\n",
       " idno & health & brncntr & facntr & mocntr & marsts & isco08\\\\\n",
       "\\hline\n",
       "\t   705     & Good      & 1         & 1         & 1         & NA        &  210     \\\\\n",
       "\t  1327     & Good      & 1         & 1         & 1         &  6        & 7231     \\\\\n",
       "\t  3760     & Very good & 1         & 1         & 1         &  6        & 9111     \\\\\n",
       "\t  4658     & Very good & 1         & 2         & 1         & NA        & 3251     \\\\\n",
       "\t  5816     & Good      & 1         & 1         & 1         & NA        & 2352     \\\\\n",
       "\t  9607     & Good      & 1         & 1         & 1         & NA        & 4110     \\\\\n",
       "\t 16357     & Very good & 1         & 1         & 1         &  6        & 8113     \\\\\n",
       "\t 17504     & Good      & 1         & 1         & 1         &  6        & 5311     \\\\\n",
       "\t 19970     & Very good & 2         & 2         & 1         &  4        & 1120     \\\\\n",
       "\t 20724     & Good      & 1         & 1         & 1         & NA        & 7125     \\\\\n",
       "\\end{tabular}\n"
      ],
      "text/markdown": [
       "\n",
       "| idno | health | brncntr | facntr | mocntr | marsts | isco08 |\n",
       "|---|---|---|---|---|---|---|\n",
       "|   705     | Good      | 1         | 1         | 1         | NA        |  210      |\n",
       "|  1327     | Good      | 1         | 1         | 1         |  6        | 7231      |\n",
       "|  3760     | Very good | 1         | 1         | 1         |  6        | 9111      |\n",
       "|  4658     | Very good | 1         | 2         | 1         | NA        | 3251      |\n",
       "|  5816     | Good      | 1         | 1         | 1         | NA        | 2352      |\n",
       "|  9607     | Good      | 1         | 1         | 1         | NA        | 4110      |\n",
       "| 16357     | Very good | 1         | 1         | 1         |  6        | 8113      |\n",
       "| 17504     | Good      | 1         | 1         | 1         |  6        | 5311      |\n",
       "| 19970     | Very good | 2         | 2         | 1         |  4        | 1120      |\n",
       "| 20724     | Good      | 1         | 1         | 1         | NA        | 7125      |\n",
       "\n"
      ],
      "text/plain": [
       "   idno  health    brncntr facntr mocntr marsts isco08\n",
       "1    705 Good      1       1      1      NA      210  \n",
       "2   1327 Good      1       1      1       6     7231  \n",
       "3   3760 Very good 1       1      1       6     9111  \n",
       "4   4658 Very good 1       2      1      NA     3251  \n",
       "5   5816 Good      1       1      1      NA     2352  \n",
       "6   9607 Good      1       1      1      NA     4110  \n",
       "7  16357 Very good 1       1      1       6     8113  \n",
       "8  17504 Good      1       1      1       6     5311  \n",
       "9  19970 Very good 2       2      1       4     1120  \n",
       "10 20724 Good      1       1      1      NA     7125  "
      ]
     },
     "metadata": {},
     "output_type": "display_data"
    }
   ],
   "source": [
    "ess18_occu %>%\n",
    "    mutate(health = as_factor(health, levels = 'labels', ordered = TRUE)) %>%\n",
    "    mutate(health = fct_rev(health)) %>%\n",
    "    filter(health > \"Fair\") %>%\n",
    "    head(10)"
   ]
  }
 ],
 "metadata": {
  "kernelspec": {
   "display_name": "R",
   "language": "R",
   "name": "ir"
  },
  "language_info": {
   "codemirror_mode": "r",
   "file_extension": ".r",
   "mimetype": "text/x-r-source",
   "name": "R",
   "pygments_lexer": "r",
   "version": "3.6.1"
  }
 },
 "nbformat": 4,
 "nbformat_minor": 4
}
