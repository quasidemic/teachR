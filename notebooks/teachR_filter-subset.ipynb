{
 "cells": [
  {
   "cell_type": "code",
   "execution_count": 13,
   "metadata": {},
   "outputs": [
    {
     "name": "stderr",
     "output_type": "stream",
     "text": [
      "Parsed with column specification:\n",
      "cols(\n",
      "  idno = col_double(),\n",
      "  netustm = col_double(),\n",
      "  ppltrst = col_double(),\n",
      "  vote = col_character(),\n",
      "  prtvtddk = col_character(),\n",
      "  lvpntyr = col_character(),\n",
      "  tygrtr = col_character(),\n",
      "  gndr = col_character(),\n",
      "  yrbrn = col_double(),\n",
      "  edlvddk = col_character(),\n",
      "  eduyrs = col_double(),\n",
      "  wkhct = col_double(),\n",
      "  wkhtot = col_double(),\n",
      "  grspnum = col_double(),\n",
      "  frlgrsp = col_double(),\n",
      "  inwtm = col_double()\n",
      ")\n"
     ]
    }
   ],
   "source": [
    "# Setup\n",
    "\n",
    "library(readr)\n",
    "data <- read_csv(\"https://github.com/CALDISS-AAU/workshop_R-intro/raw/master/data/ESS2018DK_subset.csv\")"
   ]
  },
  {
   "cell_type": "markdown",
   "metadata": {
    "slideshow": {
     "slide_type": "slide"
    },
    "tags": []
   },
   "source": [
    "# Filtering and subsetting\n",
    "\n",
    "R supports filtering and subsetting from \"base\" operations but there are packages with more intuitive functions (like the packages in tidyverse: https://www.tidyverse.org/)."
   ]
  },
  {
   "cell_type": "markdown",
   "metadata": {},
   "source": [
    "## Compare and contrast\n",
    "\n",
    "These two commands achieve the same result. Which is more intuitive?"
   ]
  },
  {
   "cell_type": "code",
   "execution_count": 14,
   "metadata": {},
   "outputs": [
    {
     "data": {
      "text/html": [
       "<table>\n",
       "<thead><tr><th scope=col>gndr</th><th scope=col>prtvtddk</th></tr></thead>\n",
       "<tbody>\n",
       "\t<tr><td>Male                                                     </td><td>Socialdemokratiet - The Social democrats                 </td></tr>\n",
       "\t<tr><td>Male                                                     </td><td>Det Konservative Folkeparti - Conservative People's Party</td></tr>\n",
       "\t<tr><td>Male                                                     </td><td>NA                                                       </td></tr>\n",
       "\t<tr><td>Male                                                     </td><td>NA                                                       </td></tr>\n",
       "\t<tr><td>Male                                                     </td><td>SF Socialistisk Folkeparti - Socialist People's Party    </td></tr>\n",
       "\t<tr><td>Male                                                     </td><td>Socialdemokratiet - The Social democrats                 </td></tr>\n",
       "</tbody>\n",
       "</table>\n"
      ],
      "text/latex": [
       "\\begin{tabular}{r|ll}\n",
       " gndr & prtvtddk\\\\\n",
       "\\hline\n",
       "\t Male                                                      & Socialdemokratiet - The Social democrats                 \\\\\n",
       "\t Male                                                      & Det Konservative Folkeparti - Conservative People's Party\\\\\n",
       "\t Male                                                      & NA                                                       \\\\\n",
       "\t Male                                                      & NA                                                       \\\\\n",
       "\t Male                                                      & SF Socialistisk Folkeparti - Socialist People's Party    \\\\\n",
       "\t Male                                                      & Socialdemokratiet - The Social democrats                 \\\\\n",
       "\\end{tabular}\n"
      ],
      "text/markdown": [
       "\n",
       "| gndr | prtvtddk |\n",
       "|---|---|\n",
       "| Male                                                      | Socialdemokratiet - The Social democrats                  |\n",
       "| Male                                                      | Det Konservative Folkeparti - Conservative People's Party |\n",
       "| Male                                                      | NA                                                        |\n",
       "| Male                                                      | NA                                                        |\n",
       "| Male                                                      | SF Socialistisk Folkeparti - Socialist People's Party     |\n",
       "| Male                                                      | Socialdemokratiet - The Social democrats                  |\n",
       "\n"
      ],
      "text/plain": [
       "  gndr prtvtddk                                                 \n",
       "1 Male Socialdemokratiet - The Social democrats                 \n",
       "2 Male Det Konservative Folkeparti - Conservative People's Party\n",
       "3 Male NA                                                       \n",
       "4 Male NA                                                       \n",
       "5 Male SF Socialistisk Folkeparti - Socialist People's Party    \n",
       "6 Male Socialdemokratiet - The Social democrats                 "
      ]
     },
     "metadata": {},
     "output_type": "display_data"
    }
   ],
   "source": [
    "subset <- data[data$gndr == 'Male', c('gndr', 'prtvtddk')]\n",
    "head(subset)"
   ]
  },
  {
   "cell_type": "code",
   "execution_count": 15,
   "metadata": {},
   "outputs": [
    {
     "data": {
      "text/html": [
       "<table>\n",
       "<thead><tr><th scope=col>gndr</th><th scope=col>prtvtddk</th></tr></thead>\n",
       "<tbody>\n",
       "\t<tr><td>Male                                                     </td><td>Socialdemokratiet - The Social democrats                 </td></tr>\n",
       "\t<tr><td>Male                                                     </td><td>Det Konservative Folkeparti - Conservative People's Party</td></tr>\n",
       "\t<tr><td>Male                                                     </td><td>NA                                                       </td></tr>\n",
       "\t<tr><td>Male                                                     </td><td>NA                                                       </td></tr>\n",
       "\t<tr><td>Male                                                     </td><td>SF Socialistisk Folkeparti - Socialist People's Party    </td></tr>\n",
       "\t<tr><td>Male                                                     </td><td>Socialdemokratiet - The Social democrats                 </td></tr>\n",
       "</tbody>\n",
       "</table>\n"
      ],
      "text/latex": [
       "\\begin{tabular}{r|ll}\n",
       " gndr & prtvtddk\\\\\n",
       "\\hline\n",
       "\t Male                                                      & Socialdemokratiet - The Social democrats                 \\\\\n",
       "\t Male                                                      & Det Konservative Folkeparti - Conservative People's Party\\\\\n",
       "\t Male                                                      & NA                                                       \\\\\n",
       "\t Male                                                      & NA                                                       \\\\\n",
       "\t Male                                                      & SF Socialistisk Folkeparti - Socialist People's Party    \\\\\n",
       "\t Male                                                      & Socialdemokratiet - The Social democrats                 \\\\\n",
       "\\end{tabular}\n"
      ],
      "text/markdown": [
       "\n",
       "| gndr | prtvtddk |\n",
       "|---|---|\n",
       "| Male                                                      | Socialdemokratiet - The Social democrats                  |\n",
       "| Male                                                      | Det Konservative Folkeparti - Conservative People's Party |\n",
       "| Male                                                      | NA                                                        |\n",
       "| Male                                                      | NA                                                        |\n",
       "| Male                                                      | SF Socialistisk Folkeparti - Socialist People's Party     |\n",
       "| Male                                                      | Socialdemokratiet - The Social democrats                  |\n",
       "\n"
      ],
      "text/plain": [
       "  gndr prtvtddk                                                 \n",
       "1 Male Socialdemokratiet - The Social democrats                 \n",
       "2 Male Det Konservative Folkeparti - Conservative People's Party\n",
       "3 Male NA                                                       \n",
       "4 Male NA                                                       \n",
       "5 Male SF Socialistisk Folkeparti - Socialist People's Party    \n",
       "6 Male Socialdemokratiet - The Social democrats                 "
      ]
     },
     "metadata": {},
     "output_type": "display_data"
    }
   ],
   "source": [
    "library(dplyr)\n",
    "subset <- data %>%\n",
    "    filter(gndr == 'Male') %>%\n",
    "    select('gndr', 'prtvtddk')\n",
    "head(subset)"
   ]
  },
  {
   "cell_type": "markdown",
   "metadata": {
    "slideshow": {
     "slide_type": "slide"
    }
   },
   "source": [
    "## Filtering observations (subsetting)\n",
    "\n",
    "Like values in a vector, each value in a data frame has an index. Each value in a data frame can be uniquely identified by the combination of its row and column index.\n",
    "\n",
    "Data frames are indexed using `[rowindex, columnindex/column name]`:"
   ]
  },
  {
   "cell_type": "code",
   "execution_count": 16,
   "metadata": {
    "slideshow": {
     "slide_type": "fragment"
    }
   },
   "outputs": [
    {
     "data": {
      "text/html": [
       "<table>\n",
       "<thead><tr><th scope=col>netustm</th></tr></thead>\n",
       "<tbody>\n",
       "\t<tr><td>150</td></tr>\n",
       "</tbody>\n",
       "</table>\n"
      ],
      "text/latex": [
       "\\begin{tabular}{r|l}\n",
       " netustm\\\\\n",
       "\\hline\n",
       "\t 150\\\\\n",
       "\\end{tabular}\n"
      ],
      "text/markdown": [
       "\n",
       "| netustm |\n",
       "|---|\n",
       "| 150 |\n",
       "\n"
      ],
      "text/plain": [
       "  netustm\n",
       "1 150    "
      ]
     },
     "metadata": {},
     "output_type": "display_data"
    }
   ],
   "source": [
    "data[10, 2] # Row 10, column 2"
   ]
  },
  {
   "cell_type": "code",
   "execution_count": 17,
   "metadata": {
    "slideshow": {
     "slide_type": "fragment"
    }
   },
   "outputs": [
    {
     "data": {
      "text/html": [
       "<table>\n",
       "<thead><tr><th scope=col>prtvtddk</th></tr></thead>\n",
       "<tbody>\n",
       "\t<tr><td>Socialdemokratiet - The Social democrats</td></tr>\n",
       "</tbody>\n",
       "</table>\n"
      ],
      "text/latex": [
       "\\begin{tabular}{r|l}\n",
       " prtvtddk\\\\\n",
       "\\hline\n",
       "\t Socialdemokratiet - The Social democrats\\\\\n",
       "\\end{tabular}\n"
      ],
      "text/markdown": [
       "\n",
       "| prtvtddk |\n",
       "|---|\n",
       "| Socialdemokratiet - The Social democrats |\n",
       "\n"
      ],
      "text/plain": [
       "  prtvtddk                                \n",
       "1 Socialdemokratiet - The Social democrats"
      ]
     },
     "metadata": {},
     "output_type": "display_data"
    }
   ],
   "source": [
    "data[10, 'prtvtddk'] # Row 10 in column prtvtddk"
   ]
  },
  {
   "cell_type": "markdown",
   "metadata": {
    "slideshow": {
     "slide_type": "fragment"
    }
   },
   "source": [
    "Notice that even though we are asking for a single value, the object returned is a 1x1 data frame! When indexing via the column, the actual value is returned:"
   ]
  },
  {
   "cell_type": "code",
   "execution_count": 18,
   "metadata": {},
   "outputs": [
    {
     "data": {
      "text/html": [
       "'Socialdemokratiet - The Social democrats'"
      ],
      "text/latex": [
       "'Socialdemokratiet - The Social democrats'"
      ],
      "text/markdown": [
       "'Socialdemokratiet - The Social democrats'"
      ],
      "text/plain": [
       "[1] \"Socialdemokratiet - The Social democrats\""
      ]
     },
     "metadata": {},
     "output_type": "display_data"
    }
   ],
   "source": [
    "data$prtvtddk[10]"
   ]
  },
  {
   "cell_type": "markdown",
   "metadata": {
    "slideshow": {
     "slide_type": "slide"
    }
   },
   "source": [
    "We can also ask for several rows and columns:"
   ]
  },
  {
   "cell_type": "code",
   "execution_count": 19,
   "metadata": {
    "slideshow": {
     "slide_type": "fragment"
    }
   },
   "outputs": [
    {
     "data": {
      "text/html": [
       "<table>\n",
       "<thead><tr><th scope=col>prtvtddk</th><th scope=col>gndr</th></tr></thead>\n",
       "<tbody>\n",
       "\t<tr><td>Socialdemokratiet - The Social democrats                 </td><td>Male                                                     </td></tr>\n",
       "\t<tr><td>Det Konservative Folkeparti - Conservative People's Party</td><td>Male                                                     </td></tr>\n",
       "\t<tr><td>NA                                                       </td><td>Male                                                     </td></tr>\n",
       "\t<tr><td>NA                                                       </td><td>Male                                                     </td></tr>\n",
       "\t<tr><td>NA                                                       </td><td>Female                                                   </td></tr>\n",
       "\t<tr><td>SF Socialistisk Folkeparti - Socialist People's Party    </td><td>Male                                                     </td></tr>\n",
       "\t<tr><td>Dansk Folkeparti - Danish People's Party                 </td><td>Female                                                   </td></tr>\n",
       "\t<tr><td>Socialdemokratiet - The Social democrats                 </td><td>Male                                                     </td></tr>\n",
       "\t<tr><td>Alternativet - The Alternative                           </td><td>Female                                                   </td></tr>\n",
       "\t<tr><td>Socialdemokratiet - The Social democrats                 </td><td>Male                                                     </td></tr>\n",
       "</tbody>\n",
       "</table>\n"
      ],
      "text/latex": [
       "\\begin{tabular}{r|ll}\n",
       " prtvtddk & gndr\\\\\n",
       "\\hline\n",
       "\t Socialdemokratiet - The Social democrats                  & Male                                                     \\\\\n",
       "\t Det Konservative Folkeparti - Conservative People's Party & Male                                                     \\\\\n",
       "\t NA                                                        & Male                                                     \\\\\n",
       "\t NA                                                        & Male                                                     \\\\\n",
       "\t NA                                                        & Female                                                   \\\\\n",
       "\t SF Socialistisk Folkeparti - Socialist People's Party     & Male                                                     \\\\\n",
       "\t Dansk Folkeparti - Danish People's Party                  & Female                                                   \\\\\n",
       "\t Socialdemokratiet - The Social democrats                  & Male                                                     \\\\\n",
       "\t Alternativet - The Alternative                            & Female                                                   \\\\\n",
       "\t Socialdemokratiet - The Social democrats                  & Male                                                     \\\\\n",
       "\\end{tabular}\n"
      ],
      "text/markdown": [
       "\n",
       "| prtvtddk | gndr |\n",
       "|---|---|\n",
       "| Socialdemokratiet - The Social democrats                  | Male                                                      |\n",
       "| Det Konservative Folkeparti - Conservative People's Party | Male                                                      |\n",
       "| NA                                                        | Male                                                      |\n",
       "| NA                                                        | Male                                                      |\n",
       "| NA                                                        | Female                                                    |\n",
       "| SF Socialistisk Folkeparti - Socialist People's Party     | Male                                                      |\n",
       "| Dansk Folkeparti - Danish People's Party                  | Female                                                    |\n",
       "| Socialdemokratiet - The Social democrats                  | Male                                                      |\n",
       "| Alternativet - The Alternative                            | Female                                                    |\n",
       "| Socialdemokratiet - The Social democrats                  | Male                                                      |\n",
       "\n"
      ],
      "text/plain": [
       "   prtvtddk                                                  gndr  \n",
       "1  Socialdemokratiet - The Social democrats                  Male  \n",
       "2  Det Konservative Folkeparti - Conservative People's Party Male  \n",
       "3  NA                                                        Male  \n",
       "4  NA                                                        Male  \n",
       "5  NA                                                        Female\n",
       "6  SF Socialistisk Folkeparti - Socialist People's Party     Male  \n",
       "7  Dansk Folkeparti - Danish People's Party                  Female\n",
       "8  Socialdemokratiet - The Social democrats                  Male  \n",
       "9  Alternativet - The Alternative                            Female\n",
       "10 Socialdemokratiet - The Social democrats                  Male  "
      ]
     },
     "metadata": {},
     "output_type": "display_data"
    }
   ],
   "source": [
    "data[c(1:10), c('prtvtddk', 'gndr')] # Row 1-10, column prtvtddk and gndr (specified as vectors)"
   ]
  },
  {
   "cell_type": "markdown",
   "metadata": {
    "slideshow": {
     "slide_type": "slide"
    }
   },
   "source": [
    "### Filtering with booleans/logical values\n",
    "\n",
    "Normally we do not know the rowindex of the values we want to keep. Rather we want to filter observations based on a certain criteria. \n",
    "\n",
    "In R this is done via the use of \"booleans\" or \"logical values\". These are values that are either `TRUE` or `FALSE`.\n",
    "\n",
    "A number of operations in R always return a logical value:\n",
    "\n",
    "- `>`\n",
    "- `>=`\n",
    "- `<`\n",
    "- `<=`\n",
    "- `==`\n",
    "- `!=`"
   ]
  },
  {
   "cell_type": "code",
   "execution_count": 20,
   "metadata": {
    "slideshow": {
     "slide_type": "fragment"
    }
   },
   "outputs": [
    {
     "data": {
      "text/html": [
       "TRUE"
      ],
      "text/latex": [
       "TRUE"
      ],
      "text/markdown": [
       "TRUE"
      ],
      "text/plain": [
       "[1] TRUE"
      ]
     },
     "metadata": {},
     "output_type": "display_data"
    }
   ],
   "source": [
    "42 > 10"
   ]
  },
  {
   "cell_type": "code",
   "execution_count": 21,
   "metadata": {
    "slideshow": {
     "slide_type": "fragment"
    }
   },
   "outputs": [
    {
     "data": {
      "text/html": [
       "FALSE"
      ],
      "text/latex": [
       "FALSE"
      ],
      "text/markdown": [
       "FALSE"
      ],
      "text/plain": [
       "[1] FALSE"
      ]
     },
     "metadata": {},
     "output_type": "display_data"
    }
   ],
   "source": [
    "10 != 10"
   ]
  },
  {
   "cell_type": "markdown",
   "metadata": {
    "slideshow": {
     "slide_type": "slide"
    }
   },
   "source": [
    "Logicals can be used when filtering observations. Logicals are used to index the rows, so that only rows meeting the criteria will be returned:"
   ]
  },
  {
   "cell_type": "code",
   "execution_count": 22,
   "metadata": {
    "slideshow": {
     "slide_type": "fragment"
    }
   },
   "outputs": [
    {
     "data": {
      "text/html": [
       "<table>\n",
       "<thead><tr><th scope=col>gndr</th><th scope=col>prtvtddk</th></tr></thead>\n",
       "<tbody>\n",
       "\t<tr><td>Male                                                     </td><td>Socialdemokratiet - The Social democrats                 </td></tr>\n",
       "\t<tr><td>Male                                                     </td><td>Det Konservative Folkeparti - Conservative People's Party</td></tr>\n",
       "\t<tr><td>Male                                                     </td><td>NA                                                       </td></tr>\n",
       "\t<tr><td>Male                                                     </td><td>NA                                                       </td></tr>\n",
       "\t<tr><td>Male                                                     </td><td>SF Socialistisk Folkeparti - Socialist People's Party    </td></tr>\n",
       "\t<tr><td>Male                                                     </td><td>Socialdemokratiet - The Social democrats                 </td></tr>\n",
       "</tbody>\n",
       "</table>\n"
      ],
      "text/latex": [
       "\\begin{tabular}{r|ll}\n",
       " gndr & prtvtddk\\\\\n",
       "\\hline\n",
       "\t Male                                                      & Socialdemokratiet - The Social democrats                 \\\\\n",
       "\t Male                                                      & Det Konservative Folkeparti - Conservative People's Party\\\\\n",
       "\t Male                                                      & NA                                                       \\\\\n",
       "\t Male                                                      & NA                                                       \\\\\n",
       "\t Male                                                      & SF Socialistisk Folkeparti - Socialist People's Party    \\\\\n",
       "\t Male                                                      & Socialdemokratiet - The Social democrats                 \\\\\n",
       "\\end{tabular}\n"
      ],
      "text/markdown": [
       "\n",
       "| gndr | prtvtddk |\n",
       "|---|---|\n",
       "| Male                                                      | Socialdemokratiet - The Social democrats                  |\n",
       "| Male                                                      | Det Konservative Folkeparti - Conservative People's Party |\n",
       "| Male                                                      | NA                                                        |\n",
       "| Male                                                      | NA                                                        |\n",
       "| Male                                                      | SF Socialistisk Folkeparti - Socialist People's Party     |\n",
       "| Male                                                      | Socialdemokratiet - The Social democrats                  |\n",
       "\n"
      ],
      "text/plain": [
       "  gndr prtvtddk                                                 \n",
       "1 Male Socialdemokratiet - The Social democrats                 \n",
       "2 Male Det Konservative Folkeparti - Conservative People's Party\n",
       "3 Male NA                                                       \n",
       "4 Male NA                                                       \n",
       "5 Male SF Socialistisk Folkeparti - Socialist People's Party    \n",
       "6 Male Socialdemokratiet - The Social democrats                 "
      ]
     },
     "metadata": {},
     "output_type": "display_data"
    }
   ],
   "source": [
    "head(data[data$gndr == 'Male', c('gndr', 'prtvtddk')])"
   ]
  },
  {
   "cell_type": "markdown",
   "metadata": {
    "slideshow": {
     "slide_type": "slide"
    }
   },
   "source": [
    "Logicals can also be used when indexing vectors, thus being able to perform calculation on a specific group:"
   ]
  },
  {
   "cell_type": "code",
   "execution_count": 23,
   "metadata": {
    "slideshow": {
     "slide_type": "fragment"
    }
   },
   "outputs": [
    {
     "data": {
      "text/html": [
       "6.99643705463183"
      ],
      "text/latex": [
       "6.99643705463183"
      ],
      "text/markdown": [
       "6.99643705463183"
      ],
      "text/plain": [
       "[1] 6.996437"
      ]
     },
     "metadata": {},
     "output_type": "display_data"
    }
   ],
   "source": [
    "mean(data$ppltrst[data$gndr == \"Male\"], na.rm = TRUE) # Mean of ppltrst for gndr = male"
   ]
  },
  {
   "cell_type": "markdown",
   "metadata": {
    "slideshow": {
     "slide_type": "slide"
    }
   },
   "source": [
    "## Subsetting data with `dplyr` \n",
    "\n",
    "One major drawback of base R subsetting is that you quickly end up having to write the dataset over and over. Base R commands can also be a bit counter-intuitive to read.\n",
    "\n",
    "The package `dplyr` contains various commands for filtering and subsetting data. The functions `filter` and `select` can be used to subset data instead of base R commands.\n",
    "\n",
    "`filter()` takes a dataset and a logical statement using a variable in the data. It returns a dataset with the observations that meet the criteria.\n",
    "\n",
    "`select()` takes a dataset and a list of variable names. It returns the dataset and the specified variables.\n",
    "\n",
    "NOTE: There is also a base R function called `filter()`. This function is overwritten when importing `dplyr`."
   ]
  },
  {
   "cell_type": "code",
   "execution_count": 24,
   "metadata": {
    "slideshow": {
     "slide_type": "slide"
    }
   },
   "outputs": [
    {
     "data": {
      "text/html": [
       "<table>\n",
       "<thead><tr><th scope=col>idno</th><th scope=col>netustm</th><th scope=col>ppltrst</th><th scope=col>vote</th><th scope=col>prtvtddk</th><th scope=col>lvpntyr</th><th scope=col>tygrtr</th><th scope=col>gndr</th><th scope=col>yrbrn</th><th scope=col>edlvddk</th><th scope=col>eduyrs</th><th scope=col>wkhct</th><th scope=col>wkhtot</th><th scope=col>grspnum</th><th scope=col>frlgrsp</th><th scope=col>inwtm</th></tr></thead>\n",
       "<tbody>\n",
       "\t<tr><td> 110                                                                          </td><td>180                                                                           </td><td>8                                                                             </td><td>Yes                                                                           </td><td>Socialdemokratiet - The Social democrats                                      </td><td>1968                                                                          </td><td>Never too young                                                               </td><td>Male                                                                          </td><td>1949                                                                          </td><td>Kort videregående uddannelse af op til 2-3 års varighed, F.eks. Erhvervsakadem</td><td> 9                                                                            </td><td>28                                                                            </td><td>28                                                                            </td><td>   NA                                                                         </td><td>   NA                                                                         </td><td>119                                                                           </td></tr>\n",
       "\t<tr><td> 705                                                                          </td><td> 60                                                                           </td><td>5                                                                             </td><td>Yes                                                                           </td><td>Det Konservative Folkeparti - Conservative People's Party                     </td><td>1976                                                                          </td><td>67                                                                            </td><td>Male                                                                          </td><td>1958                                                                          </td><td>Kort videregående uddannelse af op til 2-3 års varighed, F.eks. Erhvervsakadem</td><td>22                                                                            </td><td>37                                                                            </td><td>45                                                                            </td><td>   NA                                                                         </td><td>   NA                                                                         </td><td> 55                                                                           </td></tr>\n",
       "\t<tr><td>1327                                                                          </td><td>240                                                                           </td><td>5                                                                             </td><td>NA                                                                            </td><td>NA                                                                            </td><td>Still in parental home, never left 2 months                                   </td><td>NA                                                                            </td><td>Male                                                                          </td><td>2000                                                                          </td><td>Folkeskole 9.-10. klasse                                                      </td><td>11                                                                            </td><td>37                                                                            </td><td>37                                                                            </td><td>   NA                                                                         </td><td>   NA                                                                         </td><td> 37                                                                           </td></tr>\n",
       "\t<tr><td>3760                                                                          </td><td>300                                                                           </td><td>7                                                                             </td><td>Not eligible to vote                                                          </td><td>NA                                                                            </td><td>Still in parental home, never left 2 months                                   </td><td>40                                                                            </td><td>Male                                                                          </td><td>2002                                                                          </td><td>Folkeskole 9.-10. klasse                                                      </td><td> 9                                                                            </td><td> 2                                                                            </td><td> 2                                                                            </td><td>  200                                                                         </td><td>   NA                                                                         </td><td> 43                                                                           </td></tr>\n",
       "\t<tr><td>5816                                                                          </td><td> 90                                                                           </td><td>7                                                                             </td><td>Yes                                                                           </td><td>SF Socialistisk Folkeparti - Socialist People's Party                         </td><td>1994                                                                          </td><td>60                                                                            </td><td>Male                                                                          </td><td>1974                                                                          </td><td>Mellemlang videregående uddannelse af 3-4 års varighed. Professionsbachelorer,</td><td>35                                                                            </td><td>37                                                                            </td><td>37                                                                            </td><td>37000                                                                         </td><td>35000                                                                         </td><td> 61                                                                           </td></tr>\n",
       "\t<tr><td>7887                                                                          </td><td>360                                                                           </td><td>8                                                                             </td><td>Yes                                                                           </td><td>Socialdemokratiet - The Social democrats                                      </td><td>1983                                                                          </td><td>55                                                                            </td><td>Male                                                                          </td><td>1958                                                                          </td><td>Lang videregående uddannelse. Kandidatuddannelser af 5.-6. års varighed, F.eks</td><td>25                                                                            </td><td>39                                                                            </td><td>39                                                                            </td><td>36000                                                                         </td><td>42000                                                                         </td><td> 89                                                                           </td></tr>\n",
       "</tbody>\n",
       "</table>\n"
      ],
      "text/latex": [
       "\\begin{tabular}{r|llllllllllllllll}\n",
       " idno & netustm & ppltrst & vote & prtvtddk & lvpntyr & tygrtr & gndr & yrbrn & edlvddk & eduyrs & wkhct & wkhtot & grspnum & frlgrsp & inwtm\\\\\n",
       "\\hline\n",
       "\t  110                                                                           & 180                                                                            & 8                                                                              & Yes                                                                            & Socialdemokratiet - The Social democrats                                       & 1968                                                                           & Never too young                                                                & Male                                                                           & 1949                                                                           & Kort videregående uddannelse af op til 2-3 års varighed, F.eks. Erhvervsakadem &  9                                                                             & 28                                                                             & 28                                                                             &    NA                                                                          &    NA                                                                          & 119                                                                           \\\\\n",
       "\t  705                                                                           &  60                                                                            & 5                                                                              & Yes                                                                            & Det Konservative Folkeparti - Conservative People's Party                      & 1976                                                                           & 67                                                                             & Male                                                                           & 1958                                                                           & Kort videregående uddannelse af op til 2-3 års varighed, F.eks. Erhvervsakadem & 22                                                                             & 37                                                                             & 45                                                                             &    NA                                                                          &    NA                                                                          &  55                                                                           \\\\\n",
       "\t 1327                                                                           & 240                                                                            & 5                                                                              & NA                                                                             & NA                                                                             & Still in parental home, never left 2 months                                    & NA                                                                             & Male                                                                           & 2000                                                                           & Folkeskole 9.-10. klasse                                                       & 11                                                                             & 37                                                                             & 37                                                                             &    NA                                                                          &    NA                                                                          &  37                                                                           \\\\\n",
       "\t 3760                                                                           & 300                                                                            & 7                                                                              & Not eligible to vote                                                           & NA                                                                             & Still in parental home, never left 2 months                                    & 40                                                                             & Male                                                                           & 2002                                                                           & Folkeskole 9.-10. klasse                                                       &  9                                                                             &  2                                                                             &  2                                                                             &   200                                                                          &    NA                                                                          &  43                                                                           \\\\\n",
       "\t 5816                                                                           &  90                                                                            & 7                                                                              & Yes                                                                            & SF Socialistisk Folkeparti - Socialist People's Party                          & 1994                                                                           & 60                                                                             & Male                                                                           & 1974                                                                           & Mellemlang videregående uddannelse af 3-4 års varighed. Professionsbachelorer, & 35                                                                             & 37                                                                             & 37                                                                             & 37000                                                                          & 35000                                                                          &  61                                                                           \\\\\n",
       "\t 7887                                                                           & 360                                                                            & 8                                                                              & Yes                                                                            & Socialdemokratiet - The Social democrats                                       & 1983                                                                           & 55                                                                             & Male                                                                           & 1958                                                                           & Lang videregående uddannelse. Kandidatuddannelser af 5.-6. års varighed, F.eks & 25                                                                             & 39                                                                             & 39                                                                             & 36000                                                                          & 42000                                                                          &  89                                                                           \\\\\n",
       "\\end{tabular}\n"
      ],
      "text/markdown": [
       "\n",
       "| idno | netustm | ppltrst | vote | prtvtddk | lvpntyr | tygrtr | gndr | yrbrn | edlvddk | eduyrs | wkhct | wkhtot | grspnum | frlgrsp | inwtm |\n",
       "|---|---|---|---|---|---|---|---|---|---|---|---|---|---|---|---|\n",
       "|  110                                                                           | 180                                                                            | 8                                                                              | Yes                                                                            | Socialdemokratiet - The Social democrats                                       | 1968                                                                           | Never too young                                                                | Male                                                                           | 1949                                                                           | Kort videregående uddannelse af op til 2-3 års varighed, F.eks. Erhvervsakadem |  9                                                                             | 28                                                                             | 28                                                                             |    NA                                                                          |    NA                                                                          | 119                                                                            |\n",
       "|  705                                                                           |  60                                                                            | 5                                                                              | Yes                                                                            | Det Konservative Folkeparti - Conservative People's Party                      | 1976                                                                           | 67                                                                             | Male                                                                           | 1958                                                                           | Kort videregående uddannelse af op til 2-3 års varighed, F.eks. Erhvervsakadem | 22                                                                             | 37                                                                             | 45                                                                             |    NA                                                                          |    NA                                                                          |  55                                                                            |\n",
       "| 1327                                                                           | 240                                                                            | 5                                                                              | NA                                                                             | NA                                                                             | Still in parental home, never left 2 months                                    | NA                                                                             | Male                                                                           | 2000                                                                           | Folkeskole 9.-10. klasse                                                       | 11                                                                             | 37                                                                             | 37                                                                             |    NA                                                                          |    NA                                                                          |  37                                                                            |\n",
       "| 3760                                                                           | 300                                                                            | 7                                                                              | Not eligible to vote                                                           | NA                                                                             | Still in parental home, never left 2 months                                    | 40                                                                             | Male                                                                           | 2002                                                                           | Folkeskole 9.-10. klasse                                                       |  9                                                                             |  2                                                                             |  2                                                                             |   200                                                                          |    NA                                                                          |  43                                                                            |\n",
       "| 5816                                                                           |  90                                                                            | 7                                                                              | Yes                                                                            | SF Socialistisk Folkeparti - Socialist People's Party                          | 1994                                                                           | 60                                                                             | Male                                                                           | 1974                                                                           | Mellemlang videregående uddannelse af 3-4 års varighed. Professionsbachelorer, | 35                                                                             | 37                                                                             | 37                                                                             | 37000                                                                          | 35000                                                                          |  61                                                                            |\n",
       "| 7887                                                                           | 360                                                                            | 8                                                                              | Yes                                                                            | Socialdemokratiet - The Social democrats                                       | 1983                                                                           | 55                                                                             | Male                                                                           | 1958                                                                           | Lang videregående uddannelse. Kandidatuddannelser af 5.-6. års varighed, F.eks | 25                                                                             | 39                                                                             | 39                                                                             | 36000                                                                          | 42000                                                                          |  89                                                                            |\n",
       "\n"
      ],
      "text/plain": [
       "  idno netustm ppltrst vote                \n",
       "1  110 180     8       Yes                 \n",
       "2  705  60     5       Yes                 \n",
       "3 1327 240     5       NA                  \n",
       "4 3760 300     7       Not eligible to vote\n",
       "5 5816  90     7       Yes                 \n",
       "6 7887 360     8       Yes                 \n",
       "  prtvtddk                                                 \n",
       "1 Socialdemokratiet - The Social democrats                 \n",
       "2 Det Konservative Folkeparti - Conservative People's Party\n",
       "3 NA                                                       \n",
       "4 NA                                                       \n",
       "5 SF Socialistisk Folkeparti - Socialist People's Party    \n",
       "6 Socialdemokratiet - The Social democrats                 \n",
       "  lvpntyr                                     tygrtr          gndr yrbrn\n",
       "1 1968                                        Never too young Male 1949 \n",
       "2 1976                                        67              Male 1958 \n",
       "3 Still in parental home, never left 2 months NA              Male 2000 \n",
       "4 Still in parental home, never left 2 months 40              Male 2002 \n",
       "5 1994                                        60              Male 1974 \n",
       "6 1983                                        55              Male 1958 \n",
       "  edlvddk                                                                       \n",
       "1 Kort videregående uddannelse af op til 2-3 års varighed, F.eks. Erhvervsakadem\n",
       "2 Kort videregående uddannelse af op til 2-3 års varighed, F.eks. Erhvervsakadem\n",
       "3 Folkeskole 9.-10. klasse                                                      \n",
       "4 Folkeskole 9.-10. klasse                                                      \n",
       "5 Mellemlang videregående uddannelse af 3-4 års varighed. Professionsbachelorer,\n",
       "6 Lang videregående uddannelse. Kandidatuddannelser af 5.-6. års varighed, F.eks\n",
       "  eduyrs wkhct wkhtot grspnum frlgrsp inwtm\n",
       "1  9     28    28        NA      NA   119  \n",
       "2 22     37    45        NA      NA    55  \n",
       "3 11     37    37        NA      NA    37  \n",
       "4  9      2     2       200      NA    43  \n",
       "5 35     37    37     37000   35000    61  \n",
       "6 25     39    39     36000   42000    89  "
      ]
     },
     "metadata": {},
     "output_type": "display_data"
    }
   ],
   "source": [
    "library(dplyr)\n",
    "\n",
    "data_male <- filter(data, gndr == 'Male') # Subset with only males\n",
    "\n",
    "head(data_male)"
   ]
  },
  {
   "cell_type": "code",
   "execution_count": 25,
   "metadata": {
    "slideshow": {
     "slide_type": "slide"
    }
   },
   "outputs": [
    {
     "data": {
      "text/html": [
       "<table>\n",
       "<thead><tr><th scope=col>idno</th><th scope=col>gndr</th><th scope=col>yrbrn</th><th scope=col>edlvddk</th></tr></thead>\n",
       "<tbody>\n",
       "\t<tr><td> 110                                                                          </td><td>Male                                                                          </td><td>1949                                                                          </td><td>Kort videregående uddannelse af op til 2-3 års varighed, F.eks. Erhvervsakadem</td></tr>\n",
       "\t<tr><td> 705                                                                          </td><td>Male                                                                          </td><td>1958                                                                          </td><td>Kort videregående uddannelse af op til 2-3 års varighed, F.eks. Erhvervsakadem</td></tr>\n",
       "\t<tr><td>1327                                                                          </td><td>Male                                                                          </td><td>2000                                                                          </td><td>Folkeskole 9.-10. klasse                                                      </td></tr>\n",
       "\t<tr><td>3760                                                                          </td><td>Male                                                                          </td><td>2002                                                                          </td><td>Folkeskole 9.-10. klasse                                                      </td></tr>\n",
       "\t<tr><td>5816                                                                          </td><td>Male                                                                          </td><td>1974                                                                          </td><td>Mellemlang videregående uddannelse af 3-4 års varighed. Professionsbachelorer,</td></tr>\n",
       "\t<tr><td>7887                                                                          </td><td>Male                                                                          </td><td>1958                                                                          </td><td>Lang videregående uddannelse. Kandidatuddannelser af 5.-6. års varighed, F.eks</td></tr>\n",
       "</tbody>\n",
       "</table>\n"
      ],
      "text/latex": [
       "\\begin{tabular}{r|llll}\n",
       " idno & gndr & yrbrn & edlvddk\\\\\n",
       "\\hline\n",
       "\t  110                                                                           & Male                                                                           & 1949                                                                           & Kort videregående uddannelse af op til 2-3 års varighed, F.eks. Erhvervsakadem\\\\\n",
       "\t  705                                                                           & Male                                                                           & 1958                                                                           & Kort videregående uddannelse af op til 2-3 års varighed, F.eks. Erhvervsakadem\\\\\n",
       "\t 1327                                                                           & Male                                                                           & 2000                                                                           & Folkeskole 9.-10. klasse                                                      \\\\\n",
       "\t 3760                                                                           & Male                                                                           & 2002                                                                           & Folkeskole 9.-10. klasse                                                      \\\\\n",
       "\t 5816                                                                           & Male                                                                           & 1974                                                                           & Mellemlang videregående uddannelse af 3-4 års varighed. Professionsbachelorer,\\\\\n",
       "\t 7887                                                                           & Male                                                                           & 1958                                                                           & Lang videregående uddannelse. Kandidatuddannelser af 5.-6. års varighed, F.eks\\\\\n",
       "\\end{tabular}\n"
      ],
      "text/markdown": [
       "\n",
       "| idno | gndr | yrbrn | edlvddk |\n",
       "|---|---|---|---|\n",
       "|  110                                                                           | Male                                                                           | 1949                                                                           | Kort videregående uddannelse af op til 2-3 års varighed, F.eks. Erhvervsakadem |\n",
       "|  705                                                                           | Male                                                                           | 1958                                                                           | Kort videregående uddannelse af op til 2-3 års varighed, F.eks. Erhvervsakadem |\n",
       "| 1327                                                                           | Male                                                                           | 2000                                                                           | Folkeskole 9.-10. klasse                                                       |\n",
       "| 3760                                                                           | Male                                                                           | 2002                                                                           | Folkeskole 9.-10. klasse                                                       |\n",
       "| 5816                                                                           | Male                                                                           | 1974                                                                           | Mellemlang videregående uddannelse af 3-4 års varighed. Professionsbachelorer, |\n",
       "| 7887                                                                           | Male                                                                           | 1958                                                                           | Lang videregående uddannelse. Kandidatuddannelser af 5.-6. års varighed, F.eks |\n",
       "\n"
      ],
      "text/plain": [
       "  idno gndr yrbrn\n",
       "1  110 Male 1949 \n",
       "2  705 Male 1958 \n",
       "3 1327 Male 2000 \n",
       "4 3760 Male 2002 \n",
       "5 5816 Male 1974 \n",
       "6 7887 Male 1958 \n",
       "  edlvddk                                                                       \n",
       "1 Kort videregående uddannelse af op til 2-3 års varighed, F.eks. Erhvervsakadem\n",
       "2 Kort videregående uddannelse af op til 2-3 års varighed, F.eks. Erhvervsakadem\n",
       "3 Folkeskole 9.-10. klasse                                                      \n",
       "4 Folkeskole 9.-10. klasse                                                      \n",
       "5 Mellemlang videregående uddannelse af 3-4 års varighed. Professionsbachelorer,\n",
       "6 Lang videregående uddannelse. Kandidatuddannelser af 5.-6. års varighed, F.eks"
      ]
     },
     "metadata": {},
     "output_type": "display_data"
    }
   ],
   "source": [
    "data_male_subset <- select(data_male, idno, gndr, yrbrn, edlvddk) # Selecting specific variables\n",
    "\n",
    "head(data_male_subset)"
   ]
  },
  {
   "cell_type": "markdown",
   "metadata": {},
   "source": [
    "`select()` can also be used to drop single variables simply by prefacing the variable names with `-`:"
   ]
  },
  {
   "cell_type": "code",
   "execution_count": 37,
   "metadata": {},
   "outputs": [
    {
     "data": {
      "text/html": [
       "<table>\n",
       "<thead><tr><th scope=col>idno</th><th scope=col>netustm</th><th scope=col>ppltrst</th><th scope=col>vote</th><th scope=col>prtvtddk</th><th scope=col>lvpntyr</th><th scope=col>tygrtr</th><th scope=col>yrbrn</th><th scope=col>edlvddk</th><th scope=col>eduyrs</th><th scope=col>wkhct</th><th scope=col>wkhtot</th><th scope=col>grspnum</th><th scope=col>frlgrsp</th><th scope=col>inwtm</th></tr></thead>\n",
       "<tbody>\n",
       "\t<tr><td> 110                                                                          </td><td>180                                                                           </td><td>8                                                                             </td><td>Yes                                                                           </td><td>Socialdemokratiet - The Social democrats                                      </td><td>1968                                                                          </td><td>Never too young                                                               </td><td>1949                                                                          </td><td>Kort videregående uddannelse af op til 2-3 års varighed, F.eks. Erhvervsakadem</td><td> 9                                                                            </td><td>28                                                                            </td><td>28                                                                            </td><td>   NA                                                                         </td><td>   NA                                                                         </td><td>119                                                                           </td></tr>\n",
       "\t<tr><td> 705                                                                          </td><td> 60                                                                           </td><td>5                                                                             </td><td>Yes                                                                           </td><td>Det Konservative Folkeparti - Conservative People's Party                     </td><td>1976                                                                          </td><td>67                                                                            </td><td>1958                                                                          </td><td>Kort videregående uddannelse af op til 2-3 års varighed, F.eks. Erhvervsakadem</td><td>22                                                                            </td><td>37                                                                            </td><td>45                                                                            </td><td>   NA                                                                         </td><td>   NA                                                                         </td><td> 55                                                                           </td></tr>\n",
       "\t<tr><td>1327                                                                          </td><td>240                                                                           </td><td>5                                                                             </td><td>NA                                                                            </td><td>NA                                                                            </td><td>Still in parental home, never left 2 months                                   </td><td>NA                                                                            </td><td>2000                                                                          </td><td>Folkeskole 9.-10. klasse                                                      </td><td>11                                                                            </td><td>37                                                                            </td><td>37                                                                            </td><td>   NA                                                                         </td><td>   NA                                                                         </td><td> 37                                                                           </td></tr>\n",
       "\t<tr><td>3760                                                                          </td><td>300                                                                           </td><td>7                                                                             </td><td>Not eligible to vote                                                          </td><td>NA                                                                            </td><td>Still in parental home, never left 2 months                                   </td><td>40                                                                            </td><td>2002                                                                          </td><td>Folkeskole 9.-10. klasse                                                      </td><td> 9                                                                            </td><td> 2                                                                            </td><td> 2                                                                            </td><td>  200                                                                         </td><td>   NA                                                                         </td><td> 43                                                                           </td></tr>\n",
       "\t<tr><td>4658                                                                          </td><td> 90                                                                           </td><td>8                                                                             </td><td>Yes                                                                           </td><td>NA                                                                            </td><td>1974                                                                          </td><td>50                                                                            </td><td>1956                                                                          </td><td>Kort videregående uddannelse af op til 2-3 års varighed, F.eks. Erhvervsakadem</td><td> 4                                                                            </td><td>30                                                                            </td><td>30                                                                            </td><td>   NA                                                                         </td><td>   NA                                                                         </td><td> 62                                                                           </td></tr>\n",
       "\t<tr><td>5816                                                                          </td><td> 90                                                                           </td><td>7                                                                             </td><td>Yes                                                                           </td><td>SF Socialistisk Folkeparti - Socialist People's Party                         </td><td>1994                                                                          </td><td>60                                                                            </td><td>1974                                                                          </td><td>Mellemlang videregående uddannelse af 3-4 års varighed. Professionsbachelorer,</td><td>35                                                                            </td><td>37                                                                            </td><td>37                                                                            </td><td>37000                                                                         </td><td>35000                                                                         </td><td> 61                                                                           </td></tr>\n",
       "</tbody>\n",
       "</table>\n"
      ],
      "text/latex": [
       "\\begin{tabular}{r|lllllllllllllll}\n",
       " idno & netustm & ppltrst & vote & prtvtddk & lvpntyr & tygrtr & yrbrn & edlvddk & eduyrs & wkhct & wkhtot & grspnum & frlgrsp & inwtm\\\\\n",
       "\\hline\n",
       "\t  110                                                                           & 180                                                                            & 8                                                                              & Yes                                                                            & Socialdemokratiet - The Social democrats                                       & 1968                                                                           & Never too young                                                                & 1949                                                                           & Kort videregående uddannelse af op til 2-3 års varighed, F.eks. Erhvervsakadem &  9                                                                             & 28                                                                             & 28                                                                             &    NA                                                                          &    NA                                                                          & 119                                                                           \\\\\n",
       "\t  705                                                                           &  60                                                                            & 5                                                                              & Yes                                                                            & Det Konservative Folkeparti - Conservative People's Party                      & 1976                                                                           & 67                                                                             & 1958                                                                           & Kort videregående uddannelse af op til 2-3 års varighed, F.eks. Erhvervsakadem & 22                                                                             & 37                                                                             & 45                                                                             &    NA                                                                          &    NA                                                                          &  55                                                                           \\\\\n",
       "\t 1327                                                                           & 240                                                                            & 5                                                                              & NA                                                                             & NA                                                                             & Still in parental home, never left 2 months                                    & NA                                                                             & 2000                                                                           & Folkeskole 9.-10. klasse                                                       & 11                                                                             & 37                                                                             & 37                                                                             &    NA                                                                          &    NA                                                                          &  37                                                                           \\\\\n",
       "\t 3760                                                                           & 300                                                                            & 7                                                                              & Not eligible to vote                                                           & NA                                                                             & Still in parental home, never left 2 months                                    & 40                                                                             & 2002                                                                           & Folkeskole 9.-10. klasse                                                       &  9                                                                             &  2                                                                             &  2                                                                             &   200                                                                          &    NA                                                                          &  43                                                                           \\\\\n",
       "\t 4658                                                                           &  90                                                                            & 8                                                                              & Yes                                                                            & NA                                                                             & 1974                                                                           & 50                                                                             & 1956                                                                           & Kort videregående uddannelse af op til 2-3 års varighed, F.eks. Erhvervsakadem &  4                                                                             & 30                                                                             & 30                                                                             &    NA                                                                          &    NA                                                                          &  62                                                                           \\\\\n",
       "\t 5816                                                                           &  90                                                                            & 7                                                                              & Yes                                                                            & SF Socialistisk Folkeparti - Socialist People's Party                          & 1994                                                                           & 60                                                                             & 1974                                                                           & Mellemlang videregående uddannelse af 3-4 års varighed. Professionsbachelorer, & 35                                                                             & 37                                                                             & 37                                                                             & 37000                                                                          & 35000                                                                          &  61                                                                           \\\\\n",
       "\\end{tabular}\n"
      ],
      "text/markdown": [
       "\n",
       "| idno | netustm | ppltrst | vote | prtvtddk | lvpntyr | tygrtr | yrbrn | edlvddk | eduyrs | wkhct | wkhtot | grspnum | frlgrsp | inwtm |\n",
       "|---|---|---|---|---|---|---|---|---|---|---|---|---|---|---|\n",
       "|  110                                                                           | 180                                                                            | 8                                                                              | Yes                                                                            | Socialdemokratiet - The Social democrats                                       | 1968                                                                           | Never too young                                                                | 1949                                                                           | Kort videregående uddannelse af op til 2-3 års varighed, F.eks. Erhvervsakadem |  9                                                                             | 28                                                                             | 28                                                                             |    NA                                                                          |    NA                                                                          | 119                                                                            |\n",
       "|  705                                                                           |  60                                                                            | 5                                                                              | Yes                                                                            | Det Konservative Folkeparti - Conservative People's Party                      | 1976                                                                           | 67                                                                             | 1958                                                                           | Kort videregående uddannelse af op til 2-3 års varighed, F.eks. Erhvervsakadem | 22                                                                             | 37                                                                             | 45                                                                             |    NA                                                                          |    NA                                                                          |  55                                                                            |\n",
       "| 1327                                                                           | 240                                                                            | 5                                                                              | NA                                                                             | NA                                                                             | Still in parental home, never left 2 months                                    | NA                                                                             | 2000                                                                           | Folkeskole 9.-10. klasse                                                       | 11                                                                             | 37                                                                             | 37                                                                             |    NA                                                                          |    NA                                                                          |  37                                                                            |\n",
       "| 3760                                                                           | 300                                                                            | 7                                                                              | Not eligible to vote                                                           | NA                                                                             | Still in parental home, never left 2 months                                    | 40                                                                             | 2002                                                                           | Folkeskole 9.-10. klasse                                                       |  9                                                                             |  2                                                                             |  2                                                                             |   200                                                                          |    NA                                                                          |  43                                                                            |\n",
       "| 4658                                                                           |  90                                                                            | 8                                                                              | Yes                                                                            | NA                                                                             | 1974                                                                           | 50                                                                             | 1956                                                                           | Kort videregående uddannelse af op til 2-3 års varighed, F.eks. Erhvervsakadem |  4                                                                             | 30                                                                             | 30                                                                             |    NA                                                                          |    NA                                                                          |  62                                                                            |\n",
       "| 5816                                                                           |  90                                                                            | 7                                                                              | Yes                                                                            | SF Socialistisk Folkeparti - Socialist People's Party                          | 1994                                                                           | 60                                                                             | 1974                                                                           | Mellemlang videregående uddannelse af 3-4 års varighed. Professionsbachelorer, | 35                                                                             | 37                                                                             | 37                                                                             | 37000                                                                          | 35000                                                                          |  61                                                                            |\n",
       "\n"
      ],
      "text/plain": [
       "  idno netustm ppltrst vote                \n",
       "1  110 180     8       Yes                 \n",
       "2  705  60     5       Yes                 \n",
       "3 1327 240     5       NA                  \n",
       "4 3760 300     7       Not eligible to vote\n",
       "5 4658  90     8       Yes                 \n",
       "6 5816  90     7       Yes                 \n",
       "  prtvtddk                                                 \n",
       "1 Socialdemokratiet - The Social democrats                 \n",
       "2 Det Konservative Folkeparti - Conservative People's Party\n",
       "3 NA                                                       \n",
       "4 NA                                                       \n",
       "5 NA                                                       \n",
       "6 SF Socialistisk Folkeparti - Socialist People's Party    \n",
       "  lvpntyr                                     tygrtr          yrbrn\n",
       "1 1968                                        Never too young 1949 \n",
       "2 1976                                        67              1958 \n",
       "3 Still in parental home, never left 2 months NA              2000 \n",
       "4 Still in parental home, never left 2 months 40              2002 \n",
       "5 1974                                        50              1956 \n",
       "6 1994                                        60              1974 \n",
       "  edlvddk                                                                       \n",
       "1 Kort videregående uddannelse af op til 2-3 års varighed, F.eks. Erhvervsakadem\n",
       "2 Kort videregående uddannelse af op til 2-3 års varighed, F.eks. Erhvervsakadem\n",
       "3 Folkeskole 9.-10. klasse                                                      \n",
       "4 Folkeskole 9.-10. klasse                                                      \n",
       "5 Kort videregående uddannelse af op til 2-3 års varighed, F.eks. Erhvervsakadem\n",
       "6 Mellemlang videregående uddannelse af 3-4 års varighed. Professionsbachelorer,\n",
       "  eduyrs wkhct wkhtot grspnum frlgrsp inwtm\n",
       "1  9     28    28        NA      NA   119  \n",
       "2 22     37    45        NA      NA    55  \n",
       "3 11     37    37        NA      NA    37  \n",
       "4  9      2     2       200      NA    43  \n",
       "5  4     30    30        NA      NA    62  \n",
       "6 35     37    37     37000   35000    61  "
      ]
     },
     "metadata": {},
     "output_type": "display_data"
    }
   ],
   "source": [
    "data_nogndr <- select(data, -gndr)\n",
    "head(data_nogndr)"
   ]
  },
  {
   "cell_type": "markdown",
   "metadata": {
    "slideshow": {
     "slide_type": "slide"
    }
   },
   "source": [
    "### Chaining commands with the pipe `%>%`\n",
    "\n",
    "Part of the `tidyverse` is the pipe-operator (`%>%`). It is part of the `magrittr` package: https://magrittr.tidyverse.org/ (usually imported along with `dplyr`).\n",
    "\n",
    "The pipe allows one to chain together commands without having to refer to the name of the dataset (the input data is assumed to be the data output from the previous line):"
   ]
  },
  {
   "cell_type": "code",
   "execution_count": 26,
   "metadata": {
    "slideshow": {
     "slide_type": "fragment"
    }
   },
   "outputs": [
    {
     "data": {
      "text/html": [
       "<table>\n",
       "<thead><tr><th scope=col>idno</th><th scope=col>gndr</th><th scope=col>yrbrn</th><th scope=col>edlvddk</th></tr></thead>\n",
       "<tbody>\n",
       "\t<tr><td> 110                                                                          </td><td>Male                                                                          </td><td>1949                                                                          </td><td>Kort videregående uddannelse af op til 2-3 års varighed, F.eks. Erhvervsakadem</td></tr>\n",
       "\t<tr><td> 705                                                                          </td><td>Male                                                                          </td><td>1958                                                                          </td><td>Kort videregående uddannelse af op til 2-3 års varighed, F.eks. Erhvervsakadem</td></tr>\n",
       "\t<tr><td>1327                                                                          </td><td>Male                                                                          </td><td>2000                                                                          </td><td>Folkeskole 9.-10. klasse                                                      </td></tr>\n",
       "\t<tr><td>3760                                                                          </td><td>Male                                                                          </td><td>2002                                                                          </td><td>Folkeskole 9.-10. klasse                                                      </td></tr>\n",
       "\t<tr><td>5816                                                                          </td><td>Male                                                                          </td><td>1974                                                                          </td><td>Mellemlang videregående uddannelse af 3-4 års varighed. Professionsbachelorer,</td></tr>\n",
       "\t<tr><td>7887                                                                          </td><td>Male                                                                          </td><td>1958                                                                          </td><td>Lang videregående uddannelse. Kandidatuddannelser af 5.-6. års varighed, F.eks</td></tr>\n",
       "</tbody>\n",
       "</table>\n"
      ],
      "text/latex": [
       "\\begin{tabular}{r|llll}\n",
       " idno & gndr & yrbrn & edlvddk\\\\\n",
       "\\hline\n",
       "\t  110                                                                           & Male                                                                           & 1949                                                                           & Kort videregående uddannelse af op til 2-3 års varighed, F.eks. Erhvervsakadem\\\\\n",
       "\t  705                                                                           & Male                                                                           & 1958                                                                           & Kort videregående uddannelse af op til 2-3 års varighed, F.eks. Erhvervsakadem\\\\\n",
       "\t 1327                                                                           & Male                                                                           & 2000                                                                           & Folkeskole 9.-10. klasse                                                      \\\\\n",
       "\t 3760                                                                           & Male                                                                           & 2002                                                                           & Folkeskole 9.-10. klasse                                                      \\\\\n",
       "\t 5816                                                                           & Male                                                                           & 1974                                                                           & Mellemlang videregående uddannelse af 3-4 års varighed. Professionsbachelorer,\\\\\n",
       "\t 7887                                                                           & Male                                                                           & 1958                                                                           & Lang videregående uddannelse. Kandidatuddannelser af 5.-6. års varighed, F.eks\\\\\n",
       "\\end{tabular}\n"
      ],
      "text/markdown": [
       "\n",
       "| idno | gndr | yrbrn | edlvddk |\n",
       "|---|---|---|---|\n",
       "|  110                                                                           | Male                                                                           | 1949                                                                           | Kort videregående uddannelse af op til 2-3 års varighed, F.eks. Erhvervsakadem |\n",
       "|  705                                                                           | Male                                                                           | 1958                                                                           | Kort videregående uddannelse af op til 2-3 års varighed, F.eks. Erhvervsakadem |\n",
       "| 1327                                                                           | Male                                                                           | 2000                                                                           | Folkeskole 9.-10. klasse                                                       |\n",
       "| 3760                                                                           | Male                                                                           | 2002                                                                           | Folkeskole 9.-10. klasse                                                       |\n",
       "| 5816                                                                           | Male                                                                           | 1974                                                                           | Mellemlang videregående uddannelse af 3-4 års varighed. Professionsbachelorer, |\n",
       "| 7887                                                                           | Male                                                                           | 1958                                                                           | Lang videregående uddannelse. Kandidatuddannelser af 5.-6. års varighed, F.eks |\n",
       "\n"
      ],
      "text/plain": [
       "  idno gndr yrbrn\n",
       "1  110 Male 1949 \n",
       "2  705 Male 1958 \n",
       "3 1327 Male 2000 \n",
       "4 3760 Male 2002 \n",
       "5 5816 Male 1974 \n",
       "6 7887 Male 1958 \n",
       "  edlvddk                                                                       \n",
       "1 Kort videregående uddannelse af op til 2-3 års varighed, F.eks. Erhvervsakadem\n",
       "2 Kort videregående uddannelse af op til 2-3 års varighed, F.eks. Erhvervsakadem\n",
       "3 Folkeskole 9.-10. klasse                                                      \n",
       "4 Folkeskole 9.-10. klasse                                                      \n",
       "5 Mellemlang videregående uddannelse af 3-4 års varighed. Professionsbachelorer,\n",
       "6 Lang videregående uddannelse. Kandidatuddannelser af 5.-6. års varighed, F.eks"
      ]
     },
     "metadata": {},
     "output_type": "display_data"
    }
   ],
   "source": [
    "data_male_subset <- data %>% # Creating the same subset as before but with shorter code\n",
    "    filter(gndr == 'Male') %>%\n",
    "    select(idno, gndr, yrbrn, edlvddk)\n",
    "\n",
    "head(data_male_subset)"
   ]
  },
  {
   "cell_type": "markdown",
   "metadata": {},
   "source": [
    "## Arrange and reorder data\n",
    "\n",
    "Data can be arranged and reordered using `arrange()` and `select()` from `dplyr`.\n",
    "\n",
    "- `arrange()` is used for sorting rows based on one or several variables\n",
    "- `select()` is used for changing the order of the variables"
   ]
  },
  {
   "cell_type": "markdown",
   "metadata": {},
   "source": [
    "### Arrange\n",
    "\n",
    "In the subset created (`data_male_subset`), rows are currently ordered by their original order in the dataset. \n",
    "\n",
    "`arrange()` can be used to change the order based on one or several variables:"
   ]
  },
  {
   "cell_type": "code",
   "execution_count": 28,
   "metadata": {},
   "outputs": [
    {
     "data": {
      "text/html": [
       "<table>\n",
       "<thead><tr><th scope=col>idno</th><th scope=col>gndr</th><th scope=col>yrbrn</th><th scope=col>edlvddk</th></tr></thead>\n",
       "<tbody>\n",
       "\t<tr><td> 77284                                                                        </td><td>Male                                                                          </td><td>1929                                                                          </td><td>Folkeskole 6.-8. klasse                                                       </td></tr>\n",
       "\t<tr><td>105339                                                                        </td><td>Male                                                                          </td><td>1929                                                                          </td><td>Faglig uddannelse (håndværk, handel, landbrug mv.), F.eks. Faglærte, Social-  </td></tr>\n",
       "\t<tr><td>116473                                                                        </td><td>Male                                                                          </td><td>1929                                                                          </td><td>Kort videregående uddannelse af op til 2-3 års varighed, F.eks. Erhvervsakadem</td></tr>\n",
       "\t<tr><td>134875                                                                        </td><td>Male                                                                          </td><td>1929                                                                          </td><td>Mellemlang videregående uddannelse af 3-4 års varighed. Professionsbachelorer,</td></tr>\n",
       "\t<tr><td>137116                                                                        </td><td>Male                                                                          </td><td>1929                                                                          </td><td>Folkeskole 6.-8. klasse                                                       </td></tr>\n",
       "\t<tr><td>145351                                                                        </td><td>Male                                                                          </td><td>1929                                                                          </td><td>Faglig uddannelse (håndværk, handel, landbrug mv.), F.eks. Faglærte, Social-  </td></tr>\n",
       "</tbody>\n",
       "</table>\n"
      ],
      "text/latex": [
       "\\begin{tabular}{r|llll}\n",
       " idno & gndr & yrbrn & edlvddk\\\\\n",
       "\\hline\n",
       "\t  77284                                                                         & Male                                                                           & 1929                                                                           & Folkeskole 6.-8. klasse                                                       \\\\\n",
       "\t 105339                                                                         & Male                                                                           & 1929                                                                           & Faglig uddannelse (håndværk, handel, landbrug mv.), F.eks. Faglærte, Social-  \\\\\n",
       "\t 116473                                                                         & Male                                                                           & 1929                                                                           & Kort videregående uddannelse af op til 2-3 års varighed, F.eks. Erhvervsakadem\\\\\n",
       "\t 134875                                                                         & Male                                                                           & 1929                                                                           & Mellemlang videregående uddannelse af 3-4 års varighed. Professionsbachelorer,\\\\\n",
       "\t 137116                                                                         & Male                                                                           & 1929                                                                           & Folkeskole 6.-8. klasse                                                       \\\\\n",
       "\t 145351                                                                         & Male                                                                           & 1929                                                                           & Faglig uddannelse (håndværk, handel, landbrug mv.), F.eks. Faglærte, Social-  \\\\\n",
       "\\end{tabular}\n"
      ],
      "text/markdown": [
       "\n",
       "| idno | gndr | yrbrn | edlvddk |\n",
       "|---|---|---|---|\n",
       "|  77284                                                                         | Male                                                                           | 1929                                                                           | Folkeskole 6.-8. klasse                                                        |\n",
       "| 105339                                                                         | Male                                                                           | 1929                                                                           | Faglig uddannelse (håndværk, handel, landbrug mv.), F.eks. Faglærte, Social-   |\n",
       "| 116473                                                                         | Male                                                                           | 1929                                                                           | Kort videregående uddannelse af op til 2-3 års varighed, F.eks. Erhvervsakadem |\n",
       "| 134875                                                                         | Male                                                                           | 1929                                                                           | Mellemlang videregående uddannelse af 3-4 års varighed. Professionsbachelorer, |\n",
       "| 137116                                                                         | Male                                                                           | 1929                                                                           | Folkeskole 6.-8. klasse                                                        |\n",
       "| 145351                                                                         | Male                                                                           | 1929                                                                           | Faglig uddannelse (håndværk, handel, landbrug mv.), F.eks. Faglærte, Social-   |\n",
       "\n"
      ],
      "text/plain": [
       "  idno   gndr yrbrn\n",
       "1  77284 Male 1929 \n",
       "2 105339 Male 1929 \n",
       "3 116473 Male 1929 \n",
       "4 134875 Male 1929 \n",
       "5 137116 Male 1929 \n",
       "6 145351 Male 1929 \n",
       "  edlvddk                                                                       \n",
       "1 Folkeskole 6.-8. klasse                                                       \n",
       "2 Faglig uddannelse (håndværk, handel, landbrug mv.), F.eks. Faglærte, Social-  \n",
       "3 Kort videregående uddannelse af op til 2-3 års varighed, F.eks. Erhvervsakadem\n",
       "4 Mellemlang videregående uddannelse af 3-4 års varighed. Professionsbachelorer,\n",
       "5 Folkeskole 6.-8. klasse                                                       \n",
       "6 Faglig uddannelse (håndværk, handel, landbrug mv.), F.eks. Faglærte, Social-  "
      ]
     },
     "metadata": {},
     "output_type": "display_data"
    }
   ],
   "source": [
    "head(arrange(data_male_subset, yrbrn))"
   ]
  },
  {
   "cell_type": "markdown",
   "metadata": {},
   "source": [
    "`arrange()` sorts by ascending by default. This can be changed by using `desc()` on the variable:"
   ]
  },
  {
   "cell_type": "code",
   "execution_count": 29,
   "metadata": {},
   "outputs": [
    {
     "data": {
      "text/html": [
       "<table>\n",
       "<thead><tr><th scope=col>idno</th><th scope=col>gndr</th><th scope=col>yrbrn</th><th scope=col>edlvddk</th></tr></thead>\n",
       "<tbody>\n",
       "\t<tr><td> 93939                  </td><td>Male                    </td><td>2003                    </td><td>Folkeskole 6.-8. klasse </td></tr>\n",
       "\t<tr><td> 98385                  </td><td>Male                    </td><td>2003                    </td><td>Folkeskole 6.-8. klasse </td></tr>\n",
       "\t<tr><td>107396                  </td><td>Male                    </td><td>2003                    </td><td>Folkeskole 9.-10. klasse</td></tr>\n",
       "\t<tr><td>112183                  </td><td>Male                    </td><td>2003                    </td><td>NA                      </td></tr>\n",
       "\t<tr><td>117251                  </td><td>Male                    </td><td>2003                    </td><td>Folkeskole 6.-8. klasse </td></tr>\n",
       "\t<tr><td>123968                  </td><td>Male                    </td><td>2003                    </td><td>Folkeskole 6.-8. klasse </td></tr>\n",
       "</tbody>\n",
       "</table>\n"
      ],
      "text/latex": [
       "\\begin{tabular}{r|llll}\n",
       " idno & gndr & yrbrn & edlvddk\\\\\n",
       "\\hline\n",
       "\t  93939                   & Male                     & 2003                     & Folkeskole 6.-8. klasse \\\\\n",
       "\t  98385                   & Male                     & 2003                     & Folkeskole 6.-8. klasse \\\\\n",
       "\t 107396                   & Male                     & 2003                     & Folkeskole 9.-10. klasse\\\\\n",
       "\t 112183                   & Male                     & 2003                     & NA                      \\\\\n",
       "\t 117251                   & Male                     & 2003                     & Folkeskole 6.-8. klasse \\\\\n",
       "\t 123968                   & Male                     & 2003                     & Folkeskole 6.-8. klasse \\\\\n",
       "\\end{tabular}\n"
      ],
      "text/markdown": [
       "\n",
       "| idno | gndr | yrbrn | edlvddk |\n",
       "|---|---|---|---|\n",
       "|  93939                   | Male                     | 2003                     | Folkeskole 6.-8. klasse  |\n",
       "|  98385                   | Male                     | 2003                     | Folkeskole 6.-8. klasse  |\n",
       "| 107396                   | Male                     | 2003                     | Folkeskole 9.-10. klasse |\n",
       "| 112183                   | Male                     | 2003                     | NA                       |\n",
       "| 117251                   | Male                     | 2003                     | Folkeskole 6.-8. klasse  |\n",
       "| 123968                   | Male                     | 2003                     | Folkeskole 6.-8. klasse  |\n",
       "\n"
      ],
      "text/plain": [
       "  idno   gndr yrbrn edlvddk                 \n",
       "1  93939 Male 2003  Folkeskole 6.-8. klasse \n",
       "2  98385 Male 2003  Folkeskole 6.-8. klasse \n",
       "3 107396 Male 2003  Folkeskole 9.-10. klasse\n",
       "4 112183 Male 2003  NA                      \n",
       "5 117251 Male 2003  Folkeskole 6.-8. klasse \n",
       "6 123968 Male 2003  Folkeskole 6.-8. klasse "
      ]
     },
     "metadata": {},
     "output_type": "display_data"
    }
   ],
   "source": [
    "head(arrange(data_male_subset, desc(yrbrn)))"
   ]
  },
  {
   "cell_type": "markdown",
   "metadata": {},
   "source": [
    "`arrange()` accepts several variables:"
   ]
  },
  {
   "cell_type": "code",
   "execution_count": 33,
   "metadata": {},
   "outputs": [
    {
     "data": {
      "text/html": [
       "<table>\n",
       "<thead><tr><th scope=col>idno</th><th scope=col>gndr</th><th scope=col>yrbrn</th><th scope=col>edlvddk</th></tr></thead>\n",
       "<tbody>\n",
       "\t<tr><td> 76225                                                                      </td><td>Male                                                                        </td><td>2001                                                                        </td><td>Faglig uddannelse (håndværk, handel, landbrug mv.), F.eks. Faglærte, Social-</td></tr>\n",
       "\t<tr><td>114759                                                                      </td><td>Male                                                                        </td><td>1997                                                                        </td><td>Faglig uddannelse (håndværk, handel, landbrug mv.), F.eks. Faglærte, Social-</td></tr>\n",
       "\t<tr><td>131603                                                                      </td><td>Male                                                                        </td><td>1997                                                                        </td><td>Faglig uddannelse (håndværk, handel, landbrug mv.), F.eks. Faglærte, Social-</td></tr>\n",
       "\t<tr><td>134970                                                                      </td><td>Male                                                                        </td><td>1997                                                                        </td><td>Faglig uddannelse (håndværk, handel, landbrug mv.), F.eks. Faglærte, Social-</td></tr>\n",
       "\t<tr><td> 96513                                                                      </td><td>Male                                                                        </td><td>1996                                                                        </td><td>Faglig uddannelse (håndværk, handel, landbrug mv.), F.eks. Faglærte, Social-</td></tr>\n",
       "\t<tr><td>122274                                                                      </td><td>Male                                                                        </td><td>1995                                                                        </td><td>Faglig uddannelse (håndværk, handel, landbrug mv.), F.eks. Faglærte, Social-</td></tr>\n",
       "</tbody>\n",
       "</table>\n"
      ],
      "text/latex": [
       "\\begin{tabular}{r|llll}\n",
       " idno & gndr & yrbrn & edlvddk\\\\\n",
       "\\hline\n",
       "\t  76225                                                                       & Male                                                                         & 2001                                                                         & Faglig uddannelse (håndværk, handel, landbrug mv.), F.eks. Faglærte, Social-\\\\\n",
       "\t 114759                                                                       & Male                                                                         & 1997                                                                         & Faglig uddannelse (håndværk, handel, landbrug mv.), F.eks. Faglærte, Social-\\\\\n",
       "\t 131603                                                                       & Male                                                                         & 1997                                                                         & Faglig uddannelse (håndværk, handel, landbrug mv.), F.eks. Faglærte, Social-\\\\\n",
       "\t 134970                                                                       & Male                                                                         & 1997                                                                         & Faglig uddannelse (håndværk, handel, landbrug mv.), F.eks. Faglærte, Social-\\\\\n",
       "\t  96513                                                                       & Male                                                                         & 1996                                                                         & Faglig uddannelse (håndværk, handel, landbrug mv.), F.eks. Faglærte, Social-\\\\\n",
       "\t 122274                                                                       & Male                                                                         & 1995                                                                         & Faglig uddannelse (håndværk, handel, landbrug mv.), F.eks. Faglærte, Social-\\\\\n",
       "\\end{tabular}\n"
      ],
      "text/markdown": [
       "\n",
       "| idno | gndr | yrbrn | edlvddk |\n",
       "|---|---|---|---|\n",
       "|  76225                                                                       | Male                                                                         | 2001                                                                         | Faglig uddannelse (håndværk, handel, landbrug mv.), F.eks. Faglærte, Social- |\n",
       "| 114759                                                                       | Male                                                                         | 1997                                                                         | Faglig uddannelse (håndværk, handel, landbrug mv.), F.eks. Faglærte, Social- |\n",
       "| 131603                                                                       | Male                                                                         | 1997                                                                         | Faglig uddannelse (håndværk, handel, landbrug mv.), F.eks. Faglærte, Social- |\n",
       "| 134970                                                                       | Male                                                                         | 1997                                                                         | Faglig uddannelse (håndværk, handel, landbrug mv.), F.eks. Faglærte, Social- |\n",
       "|  96513                                                                       | Male                                                                         | 1996                                                                         | Faglig uddannelse (håndværk, handel, landbrug mv.), F.eks. Faglærte, Social- |\n",
       "| 122274                                                                       | Male                                                                         | 1995                                                                         | Faglig uddannelse (håndværk, handel, landbrug mv.), F.eks. Faglærte, Social- |\n",
       "\n"
      ],
      "text/plain": [
       "  idno   gndr yrbrn\n",
       "1  76225 Male 2001 \n",
       "2 114759 Male 1997 \n",
       "3 131603 Male 1997 \n",
       "4 134970 Male 1997 \n",
       "5  96513 Male 1996 \n",
       "6 122274 Male 1995 \n",
       "  edlvddk                                                                     \n",
       "1 Faglig uddannelse (håndværk, handel, landbrug mv.), F.eks. Faglærte, Social-\n",
       "2 Faglig uddannelse (håndværk, handel, landbrug mv.), F.eks. Faglærte, Social-\n",
       "3 Faglig uddannelse (håndværk, handel, landbrug mv.), F.eks. Faglærte, Social-\n",
       "4 Faglig uddannelse (håndværk, handel, landbrug mv.), F.eks. Faglærte, Social-\n",
       "5 Faglig uddannelse (håndværk, handel, landbrug mv.), F.eks. Faglærte, Social-\n",
       "6 Faglig uddannelse (håndværk, handel, landbrug mv.), F.eks. Faglærte, Social-"
      ]
     },
     "metadata": {},
     "output_type": "display_data"
    }
   ],
   "source": [
    "head(arrange(data_male_subset, edlvddk, desc(yrbrn)))"
   ]
  },
  {
   "cell_type": "markdown",
   "metadata": {},
   "source": [
    "### Select\n",
    "\n",
    "`select()` is used for selecting specific columns but notice that the columns are ordered in the order provided:"
   ]
  },
  {
   "cell_type": "code",
   "execution_count": 35,
   "metadata": {},
   "outputs": [
    {
     "data": {
      "text/html": [
       "<table>\n",
       "<thead><tr><th scope=col>idno</th><th scope=col>gndr</th><th scope=col>yrbrn</th><th scope=col>edlvddk</th></tr></thead>\n",
       "<tbody>\n",
       "\t<tr><td> 110                                                                          </td><td>Male                                                                          </td><td>1949                                                                          </td><td>Kort videregående uddannelse af op til 2-3 års varighed, F.eks. Erhvervsakadem</td></tr>\n",
       "\t<tr><td> 705                                                                          </td><td>Male                                                                          </td><td>1958                                                                          </td><td>Kort videregående uddannelse af op til 2-3 års varighed, F.eks. Erhvervsakadem</td></tr>\n",
       "\t<tr><td>1327                                                                          </td><td>Male                                                                          </td><td>2000                                                                          </td><td>Folkeskole 9.-10. klasse                                                      </td></tr>\n",
       "\t<tr><td>3760                                                                          </td><td>Male                                                                          </td><td>2002                                                                          </td><td>Folkeskole 9.-10. klasse                                                      </td></tr>\n",
       "\t<tr><td>5816                                                                          </td><td>Male                                                                          </td><td>1974                                                                          </td><td>Mellemlang videregående uddannelse af 3-4 års varighed. Professionsbachelorer,</td></tr>\n",
       "\t<tr><td>7887                                                                          </td><td>Male                                                                          </td><td>1958                                                                          </td><td>Lang videregående uddannelse. Kandidatuddannelser af 5.-6. års varighed, F.eks</td></tr>\n",
       "</tbody>\n",
       "</table>\n"
      ],
      "text/latex": [
       "\\begin{tabular}{r|llll}\n",
       " idno & gndr & yrbrn & edlvddk\\\\\n",
       "\\hline\n",
       "\t  110                                                                           & Male                                                                           & 1949                                                                           & Kort videregående uddannelse af op til 2-3 års varighed, F.eks. Erhvervsakadem\\\\\n",
       "\t  705                                                                           & Male                                                                           & 1958                                                                           & Kort videregående uddannelse af op til 2-3 års varighed, F.eks. Erhvervsakadem\\\\\n",
       "\t 1327                                                                           & Male                                                                           & 2000                                                                           & Folkeskole 9.-10. klasse                                                      \\\\\n",
       "\t 3760                                                                           & Male                                                                           & 2002                                                                           & Folkeskole 9.-10. klasse                                                      \\\\\n",
       "\t 5816                                                                           & Male                                                                           & 1974                                                                           & Mellemlang videregående uddannelse af 3-4 års varighed. Professionsbachelorer,\\\\\n",
       "\t 7887                                                                           & Male                                                                           & 1958                                                                           & Lang videregående uddannelse. Kandidatuddannelser af 5.-6. års varighed, F.eks\\\\\n",
       "\\end{tabular}\n"
      ],
      "text/markdown": [
       "\n",
       "| idno | gndr | yrbrn | edlvddk |\n",
       "|---|---|---|---|\n",
       "|  110                                                                           | Male                                                                           | 1949                                                                           | Kort videregående uddannelse af op til 2-3 års varighed, F.eks. Erhvervsakadem |\n",
       "|  705                                                                           | Male                                                                           | 1958                                                                           | Kort videregående uddannelse af op til 2-3 års varighed, F.eks. Erhvervsakadem |\n",
       "| 1327                                                                           | Male                                                                           | 2000                                                                           | Folkeskole 9.-10. klasse                                                       |\n",
       "| 3760                                                                           | Male                                                                           | 2002                                                                           | Folkeskole 9.-10. klasse                                                       |\n",
       "| 5816                                                                           | Male                                                                           | 1974                                                                           | Mellemlang videregående uddannelse af 3-4 års varighed. Professionsbachelorer, |\n",
       "| 7887                                                                           | Male                                                                           | 1958                                                                           | Lang videregående uddannelse. Kandidatuddannelser af 5.-6. års varighed, F.eks |\n",
       "\n"
      ],
      "text/plain": [
       "  idno gndr yrbrn\n",
       "1  110 Male 1949 \n",
       "2  705 Male 1958 \n",
       "3 1327 Male 2000 \n",
       "4 3760 Male 2002 \n",
       "5 5816 Male 1974 \n",
       "6 7887 Male 1958 \n",
       "  edlvddk                                                                       \n",
       "1 Kort videregående uddannelse af op til 2-3 års varighed, F.eks. Erhvervsakadem\n",
       "2 Kort videregående uddannelse af op til 2-3 års varighed, F.eks. Erhvervsakadem\n",
       "3 Folkeskole 9.-10. klasse                                                      \n",
       "4 Folkeskole 9.-10. klasse                                                      \n",
       "5 Mellemlang videregående uddannelse af 3-4 års varighed. Professionsbachelorer,\n",
       "6 Lang videregående uddannelse. Kandidatuddannelser af 5.-6. års varighed, F.eks"
      ]
     },
     "metadata": {},
     "output_type": "display_data"
    }
   ],
   "source": [
    "data_male_subset <- data %>%\n",
    "    filter(gndr == 'Male') %>%\n",
    "    select(idno, gndr, yrbrn, edlvddk)\n",
    "\n",
    "head(data_male_subset)"
   ]
  },
  {
   "cell_type": "markdown",
   "metadata": {},
   "source": [
    "`everything()` can be used with `select()` to select all columns. `everything()` automatically excludes columns already specified and can therefore be used to reorder the columns:"
   ]
  },
  {
   "cell_type": "code",
   "execution_count": 39,
   "metadata": {},
   "outputs": [
    {
     "data": {
      "text/html": [
       "<table>\n",
       "<thead><tr><th scope=col>idno</th><th scope=col>gndr</th><th scope=col>yrbrn</th><th scope=col>edlvddk</th><th scope=col>netustm</th><th scope=col>ppltrst</th><th scope=col>vote</th><th scope=col>prtvtddk</th><th scope=col>lvpntyr</th><th scope=col>tygrtr</th><th scope=col>eduyrs</th><th scope=col>wkhct</th><th scope=col>wkhtot</th><th scope=col>grspnum</th><th scope=col>frlgrsp</th><th scope=col>inwtm</th></tr></thead>\n",
       "<tbody>\n",
       "\t<tr><td> 110                                                                          </td><td>Male                                                                          </td><td>1949                                                                          </td><td>Kort videregående uddannelse af op til 2-3 års varighed, F.eks. Erhvervsakadem</td><td>180                                                                           </td><td>8                                                                             </td><td>Yes                                                                           </td><td>Socialdemokratiet - The Social democrats                                      </td><td>1968                                                                          </td><td>Never too young                                                               </td><td> 9                                                                            </td><td>28                                                                            </td><td>28                                                                            </td><td>   NA                                                                         </td><td>   NA                                                                         </td><td>119                                                                           </td></tr>\n",
       "\t<tr><td> 705                                                                          </td><td>Male                                                                          </td><td>1958                                                                          </td><td>Kort videregående uddannelse af op til 2-3 års varighed, F.eks. Erhvervsakadem</td><td> 60                                                                           </td><td>5                                                                             </td><td>Yes                                                                           </td><td>Det Konservative Folkeparti - Conservative People's Party                     </td><td>1976                                                                          </td><td>67                                                                            </td><td>22                                                                            </td><td>37                                                                            </td><td>45                                                                            </td><td>   NA                                                                         </td><td>   NA                                                                         </td><td> 55                                                                           </td></tr>\n",
       "\t<tr><td>1327                                                                          </td><td>Male                                                                          </td><td>2000                                                                          </td><td>Folkeskole 9.-10. klasse                                                      </td><td>240                                                                           </td><td>5                                                                             </td><td>NA                                                                            </td><td>NA                                                                            </td><td>Still in parental home, never left 2 months                                   </td><td>NA                                                                            </td><td>11                                                                            </td><td>37                                                                            </td><td>37                                                                            </td><td>   NA                                                                         </td><td>   NA                                                                         </td><td> 37                                                                           </td></tr>\n",
       "\t<tr><td>3760                                                                          </td><td>Male                                                                          </td><td>2002                                                                          </td><td>Folkeskole 9.-10. klasse                                                      </td><td>300                                                                           </td><td>7                                                                             </td><td>Not eligible to vote                                                          </td><td>NA                                                                            </td><td>Still in parental home, never left 2 months                                   </td><td>40                                                                            </td><td> 9                                                                            </td><td> 2                                                                            </td><td> 2                                                                            </td><td>  200                                                                         </td><td>   NA                                                                         </td><td> 43                                                                           </td></tr>\n",
       "\t<tr><td>4658                                                                          </td><td>Female                                                                        </td><td>1956                                                                          </td><td>Kort videregående uddannelse af op til 2-3 års varighed, F.eks. Erhvervsakadem</td><td> 90                                                                           </td><td>8                                                                             </td><td>Yes                                                                           </td><td>NA                                                                            </td><td>1974                                                                          </td><td>50                                                                            </td><td> 4                                                                            </td><td>30                                                                            </td><td>30                                                                            </td><td>   NA                                                                         </td><td>   NA                                                                         </td><td> 62                                                                           </td></tr>\n",
       "\t<tr><td>5816                                                                          </td><td>Male                                                                          </td><td>1974                                                                          </td><td>Mellemlang videregående uddannelse af 3-4 års varighed. Professionsbachelorer,</td><td> 90                                                                           </td><td>7                                                                             </td><td>Yes                                                                           </td><td>SF Socialistisk Folkeparti - Socialist People's Party                         </td><td>1994                                                                          </td><td>60                                                                            </td><td>35                                                                            </td><td>37                                                                            </td><td>37                                                                            </td><td>37000                                                                         </td><td>35000                                                                         </td><td> 61                                                                           </td></tr>\n",
       "</tbody>\n",
       "</table>\n"
      ],
      "text/latex": [
       "\\begin{tabular}{r|llllllllllllllll}\n",
       " idno & gndr & yrbrn & edlvddk & netustm & ppltrst & vote & prtvtddk & lvpntyr & tygrtr & eduyrs & wkhct & wkhtot & grspnum & frlgrsp & inwtm\\\\\n",
       "\\hline\n",
       "\t  110                                                                           & Male                                                                           & 1949                                                                           & Kort videregående uddannelse af op til 2-3 års varighed, F.eks. Erhvervsakadem & 180                                                                            & 8                                                                              & Yes                                                                            & Socialdemokratiet - The Social democrats                                       & 1968                                                                           & Never too young                                                                &  9                                                                             & 28                                                                             & 28                                                                             &    NA                                                                          &    NA                                                                          & 119                                                                           \\\\\n",
       "\t  705                                                                           & Male                                                                           & 1958                                                                           & Kort videregående uddannelse af op til 2-3 års varighed, F.eks. Erhvervsakadem &  60                                                                            & 5                                                                              & Yes                                                                            & Det Konservative Folkeparti - Conservative People's Party                      & 1976                                                                           & 67                                                                             & 22                                                                             & 37                                                                             & 45                                                                             &    NA                                                                          &    NA                                                                          &  55                                                                           \\\\\n",
       "\t 1327                                                                           & Male                                                                           & 2000                                                                           & Folkeskole 9.-10. klasse                                                       & 240                                                                            & 5                                                                              & NA                                                                             & NA                                                                             & Still in parental home, never left 2 months                                    & NA                                                                             & 11                                                                             & 37                                                                             & 37                                                                             &    NA                                                                          &    NA                                                                          &  37                                                                           \\\\\n",
       "\t 3760                                                                           & Male                                                                           & 2002                                                                           & Folkeskole 9.-10. klasse                                                       & 300                                                                            & 7                                                                              & Not eligible to vote                                                           & NA                                                                             & Still in parental home, never left 2 months                                    & 40                                                                             &  9                                                                             &  2                                                                             &  2                                                                             &   200                                                                          &    NA                                                                          &  43                                                                           \\\\\n",
       "\t 4658                                                                           & Female                                                                         & 1956                                                                           & Kort videregående uddannelse af op til 2-3 års varighed, F.eks. Erhvervsakadem &  90                                                                            & 8                                                                              & Yes                                                                            & NA                                                                             & 1974                                                                           & 50                                                                             &  4                                                                             & 30                                                                             & 30                                                                             &    NA                                                                          &    NA                                                                          &  62                                                                           \\\\\n",
       "\t 5816                                                                           & Male                                                                           & 1974                                                                           & Mellemlang videregående uddannelse af 3-4 års varighed. Professionsbachelorer, &  90                                                                            & 7                                                                              & Yes                                                                            & SF Socialistisk Folkeparti - Socialist People's Party                          & 1994                                                                           & 60                                                                             & 35                                                                             & 37                                                                             & 37                                                                             & 37000                                                                          & 35000                                                                          &  61                                                                           \\\\\n",
       "\\end{tabular}\n"
      ],
      "text/markdown": [
       "\n",
       "| idno | gndr | yrbrn | edlvddk | netustm | ppltrst | vote | prtvtddk | lvpntyr | tygrtr | eduyrs | wkhct | wkhtot | grspnum | frlgrsp | inwtm |\n",
       "|---|---|---|---|---|---|---|---|---|---|---|---|---|---|---|---|\n",
       "|  110                                                                           | Male                                                                           | 1949                                                                           | Kort videregående uddannelse af op til 2-3 års varighed, F.eks. Erhvervsakadem | 180                                                                            | 8                                                                              | Yes                                                                            | Socialdemokratiet - The Social democrats                                       | 1968                                                                           | Never too young                                                                |  9                                                                             | 28                                                                             | 28                                                                             |    NA                                                                          |    NA                                                                          | 119                                                                            |\n",
       "|  705                                                                           | Male                                                                           | 1958                                                                           | Kort videregående uddannelse af op til 2-3 års varighed, F.eks. Erhvervsakadem |  60                                                                            | 5                                                                              | Yes                                                                            | Det Konservative Folkeparti - Conservative People's Party                      | 1976                                                                           | 67                                                                             | 22                                                                             | 37                                                                             | 45                                                                             |    NA                                                                          |    NA                                                                          |  55                                                                            |\n",
       "| 1327                                                                           | Male                                                                           | 2000                                                                           | Folkeskole 9.-10. klasse                                                       | 240                                                                            | 5                                                                              | NA                                                                             | NA                                                                             | Still in parental home, never left 2 months                                    | NA                                                                             | 11                                                                             | 37                                                                             | 37                                                                             |    NA                                                                          |    NA                                                                          |  37                                                                            |\n",
       "| 3760                                                                           | Male                                                                           | 2002                                                                           | Folkeskole 9.-10. klasse                                                       | 300                                                                            | 7                                                                              | Not eligible to vote                                                           | NA                                                                             | Still in parental home, never left 2 months                                    | 40                                                                             |  9                                                                             |  2                                                                             |  2                                                                             |   200                                                                          |    NA                                                                          |  43                                                                            |\n",
       "| 4658                                                                           | Female                                                                         | 1956                                                                           | Kort videregående uddannelse af op til 2-3 års varighed, F.eks. Erhvervsakadem |  90                                                                            | 8                                                                              | Yes                                                                            | NA                                                                             | 1974                                                                           | 50                                                                             |  4                                                                             | 30                                                                             | 30                                                                             |    NA                                                                          |    NA                                                                          |  62                                                                            |\n",
       "| 5816                                                                           | Male                                                                           | 1974                                                                           | Mellemlang videregående uddannelse af 3-4 års varighed. Professionsbachelorer, |  90                                                                            | 7                                                                              | Yes                                                                            | SF Socialistisk Folkeparti - Socialist People's Party                          | 1994                                                                           | 60                                                                             | 35                                                                             | 37                                                                             | 37                                                                             | 37000                                                                          | 35000                                                                          |  61                                                                            |\n",
       "\n"
      ],
      "text/plain": [
       "  idno gndr   yrbrn\n",
       "1  110 Male   1949 \n",
       "2  705 Male   1958 \n",
       "3 1327 Male   2000 \n",
       "4 3760 Male   2002 \n",
       "5 4658 Female 1956 \n",
       "6 5816 Male   1974 \n",
       "  edlvddk                                                                       \n",
       "1 Kort videregående uddannelse af op til 2-3 års varighed, F.eks. Erhvervsakadem\n",
       "2 Kort videregående uddannelse af op til 2-3 års varighed, F.eks. Erhvervsakadem\n",
       "3 Folkeskole 9.-10. klasse                                                      \n",
       "4 Folkeskole 9.-10. klasse                                                      \n",
       "5 Kort videregående uddannelse af op til 2-3 års varighed, F.eks. Erhvervsakadem\n",
       "6 Mellemlang videregående uddannelse af 3-4 års varighed. Professionsbachelorer,\n",
       "  netustm ppltrst vote                \n",
       "1 180     8       Yes                 \n",
       "2  60     5       Yes                 \n",
       "3 240     5       NA                  \n",
       "4 300     7       Not eligible to vote\n",
       "5  90     8       Yes                 \n",
       "6  90     7       Yes                 \n",
       "  prtvtddk                                                 \n",
       "1 Socialdemokratiet - The Social democrats                 \n",
       "2 Det Konservative Folkeparti - Conservative People's Party\n",
       "3 NA                                                       \n",
       "4 NA                                                       \n",
       "5 NA                                                       \n",
       "6 SF Socialistisk Folkeparti - Socialist People's Party    \n",
       "  lvpntyr                                     tygrtr          eduyrs wkhct\n",
       "1 1968                                        Never too young  9     28   \n",
       "2 1976                                        67              22     37   \n",
       "3 Still in parental home, never left 2 months NA              11     37   \n",
       "4 Still in parental home, never left 2 months 40               9      2   \n",
       "5 1974                                        50               4     30   \n",
       "6 1994                                        60              35     37   \n",
       "  wkhtot grspnum frlgrsp inwtm\n",
       "1 28        NA      NA   119  \n",
       "2 45        NA      NA    55  \n",
       "3 37        NA      NA    37  \n",
       "4  2       200      NA    43  \n",
       "5 30        NA      NA    62  \n",
       "6 37     37000   35000    61  "
      ]
     },
     "metadata": {},
     "output_type": "display_data"
    }
   ],
   "source": [
    "data_reordered <- select(data, idno, gndr, yrbrn, edlvddk, everything())\n",
    "head(data_reordered)"
   ]
  }
 ],
 "metadata": {
  "kernelspec": {
   "display_name": "R",
   "language": "R",
   "name": "ir"
  },
  "language_info": {
   "codemirror_mode": "r",
   "file_extension": ".r",
   "mimetype": "text/x-r-source",
   "name": "R",
   "pygments_lexer": "r",
   "version": "3.6.3"
  }
 },
 "nbformat": 4,
 "nbformat_minor": 4
}
