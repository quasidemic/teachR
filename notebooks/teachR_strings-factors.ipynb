{
 "cells": [
  {
   "cell_type": "markdown",
   "metadata": {},
   "source": [
    "# Strings\n",
    "\n",
    "A \"string\" is a programming term for a value containing text. A value of the class \"character\" is a string."
   ]
  },
  {
   "cell_type": "code",
   "execution_count": 17,
   "metadata": {},
   "outputs": [
    {
     "data": {
      "text/html": [
       "'character'"
      ],
      "text/latex": [
       "'character'"
      ],
      "text/markdown": [
       "'character'"
      ],
      "text/plain": [
       "[1] \"character\""
      ]
     },
     "metadata": {},
     "output_type": "display_data"
    }
   ],
   "source": [
    "my_text <- \"The ancient Greeks had several different theories with regard to the origin of the world, but the generally accepted notion was that before this world came into existence, there was in its place a confused mass of shapeless elements called Chaos. \"\n",
    "class(my_text)"
   ]
  },
  {
   "cell_type": "markdown",
   "metadata": {
    "slideshow": {
     "slide_type": "slide"
    }
   },
   "source": [
    "## Texts as vectors\n",
    "Texts can be thought of as vectors in a number of ways:\n",
    "1. A collection of texts\n",
    "2. A collection of words in a text\n",
    "3. A collection of sentences in a text\n",
    "\n",
    "Depending on what we are trying to figure out with text, R can be used in a number of ways."
   ]
  },
  {
   "cell_type": "markdown",
   "metadata": {
    "slideshow": {
     "slide_type": "slide"
    }
   },
   "source": [
    "Let's start by thinking of a text as a series of single words:"
   ]
  },
  {
   "cell_type": "code",
   "execution_count": 24,
   "metadata": {
    "slideshow": {
     "slide_type": "fragment"
    }
   },
   "outputs": [
    {
     "data": {
      "text/html": [
       "<ol class=list-inline>\n",
       "\t<li>'The'</li>\n",
       "\t<li>'ancient'</li>\n",
       "\t<li>'Greeks'</li>\n",
       "\t<li>'had'</li>\n",
       "\t<li>'several'</li>\n",
       "\t<li>'different'</li>\n",
       "\t<li>'theories'</li>\n",
       "\t<li>'with'</li>\n",
       "\t<li>'regard'</li>\n",
       "\t<li>'to'</li>\n",
       "\t<li>'the'</li>\n",
       "\t<li>'origin'</li>\n",
       "\t<li>'of'</li>\n",
       "\t<li>'the'</li>\n",
       "\t<li>'world,'</li>\n",
       "\t<li>'but'</li>\n",
       "\t<li>'the'</li>\n",
       "\t<li>'generally'</li>\n",
       "\t<li>'accepted'</li>\n",
       "\t<li>'notion'</li>\n",
       "\t<li>'was'</li>\n",
       "\t<li>'that'</li>\n",
       "\t<li>'before'</li>\n",
       "\t<li>'this'</li>\n",
       "\t<li>'world'</li>\n",
       "\t<li>'came'</li>\n",
       "\t<li>'into'</li>\n",
       "\t<li>'existence,'</li>\n",
       "\t<li>'there'</li>\n",
       "\t<li>'was'</li>\n",
       "\t<li>'in'</li>\n",
       "\t<li>'its'</li>\n",
       "\t<li>'place'</li>\n",
       "\t<li>'a'</li>\n",
       "\t<li>'confused'</li>\n",
       "\t<li>'mass'</li>\n",
       "\t<li>'of'</li>\n",
       "\t<li>'shapeless'</li>\n",
       "\t<li>'elements'</li>\n",
       "\t<li>'called'</li>\n",
       "\t<li>'Chaos.'</li>\n",
       "</ol>\n"
      ],
      "text/latex": [
       "\\begin{enumerate*}\n",
       "\\item 'The'\n",
       "\\item 'ancient'\n",
       "\\item 'Greeks'\n",
       "\\item 'had'\n",
       "\\item 'several'\n",
       "\\item 'different'\n",
       "\\item 'theories'\n",
       "\\item 'with'\n",
       "\\item 'regard'\n",
       "\\item 'to'\n",
       "\\item 'the'\n",
       "\\item 'origin'\n",
       "\\item 'of'\n",
       "\\item 'the'\n",
       "\\item 'world,'\n",
       "\\item 'but'\n",
       "\\item 'the'\n",
       "\\item 'generally'\n",
       "\\item 'accepted'\n",
       "\\item 'notion'\n",
       "\\item 'was'\n",
       "\\item 'that'\n",
       "\\item 'before'\n",
       "\\item 'this'\n",
       "\\item 'world'\n",
       "\\item 'came'\n",
       "\\item 'into'\n",
       "\\item 'existence,'\n",
       "\\item 'there'\n",
       "\\item 'was'\n",
       "\\item 'in'\n",
       "\\item 'its'\n",
       "\\item 'place'\n",
       "\\item 'a'\n",
       "\\item 'confused'\n",
       "\\item 'mass'\n",
       "\\item 'of'\n",
       "\\item 'shapeless'\n",
       "\\item 'elements'\n",
       "\\item 'called'\n",
       "\\item 'Chaos.'\n",
       "\\end{enumerate*}\n"
      ],
      "text/markdown": [
       "1. 'The'\n",
       "2. 'ancient'\n",
       "3. 'Greeks'\n",
       "4. 'had'\n",
       "5. 'several'\n",
       "6. 'different'\n",
       "7. 'theories'\n",
       "8. 'with'\n",
       "9. 'regard'\n",
       "10. 'to'\n",
       "11. 'the'\n",
       "12. 'origin'\n",
       "13. 'of'\n",
       "14. 'the'\n",
       "15. 'world,'\n",
       "16. 'but'\n",
       "17. 'the'\n",
       "18. 'generally'\n",
       "19. 'accepted'\n",
       "20. 'notion'\n",
       "21. 'was'\n",
       "22. 'that'\n",
       "23. 'before'\n",
       "24. 'this'\n",
       "25. 'world'\n",
       "26. 'came'\n",
       "27. 'into'\n",
       "28. 'existence,'\n",
       "29. 'there'\n",
       "30. 'was'\n",
       "31. 'in'\n",
       "32. 'its'\n",
       "33. 'place'\n",
       "34. 'a'\n",
       "35. 'confused'\n",
       "36. 'mass'\n",
       "37. 'of'\n",
       "38. 'shapeless'\n",
       "39. 'elements'\n",
       "40. 'called'\n",
       "41. 'Chaos.'\n",
       "\n",
       "\n"
      ],
      "text/plain": [
       " [1] \"The\"        \"ancient\"    \"Greeks\"     \"had\"        \"several\"   \n",
       " [6] \"different\"  \"theories\"   \"with\"       \"regard\"     \"to\"        \n",
       "[11] \"the\"        \"origin\"     \"of\"         \"the\"        \"world,\"    \n",
       "[16] \"but\"        \"the\"        \"generally\"  \"accepted\"   \"notion\"    \n",
       "[21] \"was\"        \"that\"       \"before\"     \"this\"       \"world\"     \n",
       "[26] \"came\"       \"into\"       \"existence,\" \"there\"      \"was\"       \n",
       "[31] \"in\"         \"its\"        \"place\"      \"a\"          \"confused\"  \n",
       "[36] \"mass\"       \"of\"         \"shapeless\"  \"elements\"   \"called\"    \n",
       "[41] \"Chaos.\"    "
      ]
     },
     "metadata": {},
     "output_type": "display_data"
    }
   ],
   "source": [
    "text_words <- unlist(strsplit(text, split = \"\\\\s\"))  #split at every whitespace - \\\\s is an escape character\n",
    "text_words"
   ]
  },
  {
   "cell_type": "markdown",
   "metadata": {
    "slideshow": {
     "slide_type": "fragment"
    }
   },
   "source": [
    "The text is now a vector, each word with its own index (subset using `[]`):"
   ]
  },
  {
   "cell_type": "code",
   "execution_count": 25,
   "metadata": {
    "slideshow": {
     "slide_type": "fragment"
    }
   },
   "outputs": [
    {
     "data": {
      "text/html": [
       "'several'"
      ],
      "text/latex": [
       "'several'"
      ],
      "text/markdown": [
       "'several'"
      ],
      "text/plain": [
       "[1] \"several\""
      ]
     },
     "metadata": {},
     "output_type": "display_data"
    },
    {
     "data": {
      "text/html": [
       "'that'"
      ],
      "text/latex": [
       "'that'"
      ],
      "text/markdown": [
       "'that'"
      ],
      "text/plain": [
       "[1] \"that\""
      ]
     },
     "metadata": {},
     "output_type": "display_data"
    }
   ],
   "source": [
    "text_words[5]\n",
    "text_words[22]"
   ]
  },
  {
   "cell_type": "markdown",
   "metadata": {
    "slideshow": {
     "slide_type": "fragment"
    }
   },
   "source": [
    "This allows us to perform counts and other summaries."
   ]
  },
  {
   "cell_type": "markdown",
   "metadata": {
    "slideshow": {
     "slide_type": "slide"
    }
   },
   "source": [
    "## Working with strings: The `stringr` package\n",
    "\n",
    "The package `stringr` is a tidyverse package for working with strings."
   ]
  },
  {
   "cell_type": "code",
   "execution_count": 18,
   "metadata": {},
   "outputs": [],
   "source": [
    "library(stringr)"
   ]
  },
  {
   "cell_type": "markdown",
   "metadata": {
    "slideshow": {
     "slide_type": "slide"
    }
   },
   "source": [
    "`stringr` can be used in a variety of different ways."
   ]
  },
  {
   "cell_type": "code",
   "execution_count": 27,
   "metadata": {
    "slideshow": {
     "slide_type": "fragment"
    }
   },
   "outputs": [
    {
     "data": {
      "text/html": [
       "'the ancient greeks had several different theories with regard to the origin of the world, but the generally accepted notion was that before this world came into existence, there was in its place a confused mass of shapeless elements called chaos. '"
      ],
      "text/latex": [
       "'the ancient greeks had several different theories with regard to the origin of the world, but the generally accepted notion was that before this world came into existence, there was in its place a confused mass of shapeless elements called chaos. '"
      ],
      "text/markdown": [
       "'the ancient greeks had several different theories with regard to the origin of the world, but the generally accepted notion was that before this world came into existence, there was in its place a confused mass of shapeless elements called chaos. '"
      ],
      "text/plain": [
       "[1] \"the ancient greeks had several different theories with regard to the origin of the world, but the generally accepted notion was that before this world came into existence, there was in its place a confused mass of shapeless elements called chaos. \""
      ]
     },
     "metadata": {},
     "output_type": "display_data"
    }
   ],
   "source": [
    "# Changing case (here to lowercase)\n",
    "str_to_lower(text)"
   ]
  },
  {
   "cell_type": "code",
   "execution_count": 28,
   "metadata": {
    "slideshow": {
     "slide_type": "fragment"
    }
   },
   "outputs": [
    {
     "data": {
      "text/html": [
       "TRUE"
      ],
      "text/latex": [
       "TRUE"
      ],
      "text/markdown": [
       "TRUE"
      ],
      "text/plain": [
       "[1] TRUE"
      ]
     },
     "metadata": {},
     "output_type": "display_data"
    }
   ],
   "source": [
    "# Looking up words\n",
    "str_detect(text, \"world\")"
   ]
  },
  {
   "cell_type": "code",
   "execution_count": 29,
   "metadata": {
    "slideshow": {
     "slide_type": "fragment"
    }
   },
   "outputs": [
    {
     "data": {
      "text/html": [
       "2"
      ],
      "text/latex": [
       "2"
      ],
      "text/markdown": [
       "2"
      ],
      "text/plain": [
       "[1] 2"
      ]
     },
     "metadata": {},
     "output_type": "display_data"
    }
   ],
   "source": [
    "# Counting matches\n",
    "str_count(text, \"world\")"
   ]
  },
  {
   "cell_type": "markdown",
   "metadata": {
    "slideshow": {
     "slide_type": "slide"
    }
   },
   "source": [
    "The functions of `stringr` also work on a grouping on elements (like a vector). We can see this when we split the text into sentences and then use the same functions"
   ]
  },
  {
   "cell_type": "code",
   "execution_count": 30,
   "metadata": {
    "slideshow": {
     "slide_type": "fragment"
    }
   },
   "outputs": [],
   "source": [
    "# Splitting text into elements; here separating at commas\n",
    "# unlist is used to coerce to a vector; otherwise it is returned as a list\n",
    "text_sent <- str_split(text, pattern = \",\") %>% \n",
    "unlist()"
   ]
  },
  {
   "cell_type": "code",
   "execution_count": 31,
   "metadata": {
    "slideshow": {
     "slide_type": "fragment"
    }
   },
   "outputs": [
    {
     "data": {
      "text/html": [
       "<ol class=list-inline>\n",
       "\t<li>TRUE</li>\n",
       "\t<li>TRUE</li>\n",
       "\t<li>FALSE</li>\n",
       "</ol>\n"
      ],
      "text/latex": [
       "\\begin{enumerate*}\n",
       "\\item TRUE\n",
       "\\item TRUE\n",
       "\\item FALSE\n",
       "\\end{enumerate*}\n"
      ],
      "text/markdown": [
       "1. TRUE\n",
       "2. TRUE\n",
       "3. FALSE\n",
       "\n",
       "\n"
      ],
      "text/plain": [
       "[1]  TRUE  TRUE FALSE"
      ]
     },
     "metadata": {},
     "output_type": "display_data"
    }
   ],
   "source": [
    "# Looking up word in each sentence\n",
    "str_detect(text_sent, \"world\")"
   ]
  },
  {
   "cell_type": "code",
   "execution_count": 32,
   "metadata": {
    "slideshow": {
     "slide_type": "fragment"
    }
   },
   "outputs": [
    {
     "data": {
      "text/html": [
       "<ol class=list-inline>\n",
       "\t<li>1</li>\n",
       "\t<li>1</li>\n",
       "\t<li>0</li>\n",
       "</ol>\n"
      ],
      "text/latex": [
       "\\begin{enumerate*}\n",
       "\\item 1\n",
       "\\item 1\n",
       "\\item 0\n",
       "\\end{enumerate*}\n"
      ],
      "text/markdown": [
       "1. 1\n",
       "2. 1\n",
       "3. 0\n",
       "\n",
       "\n"
      ],
      "text/plain": [
       "[1] 1 1 0"
      ]
     },
     "metadata": {},
     "output_type": "display_data"
    }
   ],
   "source": [
    "# Counting word in each sentence\n",
    "str_count(text_sent, \"world\")"
   ]
  },
  {
   "cell_type": "markdown",
   "metadata": {
    "slideshow": {
     "slide_type": "subslide"
    }
   },
   "source": [
    "### A note on indexing and booleans\n",
    "When inputting boolean valules as an index, R will only return the `TRUE` values.\n",
    "\n",
    "This means that we can use commands like `str_detect` to only return text elements containing specific words."
   ]
  },
  {
   "cell_type": "code",
   "execution_count": 33,
   "metadata": {
    "slideshow": {
     "slide_type": "fragment"
    }
   },
   "outputs": [
    {
     "data": {
      "text/html": [
       "<ol class=list-inline>\n",
       "\t<li>'The ancient Greeks had several different theories with regard to the origin of the world'</li>\n",
       "\t<li>' but the generally accepted notion was that before this world came into existence'</li>\n",
       "</ol>\n"
      ],
      "text/latex": [
       "\\begin{enumerate*}\n",
       "\\item 'The ancient Greeks had several different theories with regard to the origin of the world'\n",
       "\\item ' but the generally accepted notion was that before this world came into existence'\n",
       "\\end{enumerate*}\n"
      ],
      "text/markdown": [
       "1. 'The ancient Greeks had several different theories with regard to the origin of the world'\n",
       "2. ' but the generally accepted notion was that before this world came into existence'\n",
       "\n",
       "\n"
      ],
      "text/plain": [
       "[1] \"The ancient Greeks had several different theories with regard to the origin of the world\"\n",
       "[2] \" but the generally accepted notion was that before this world came into existence\"       "
      ]
     },
     "metadata": {},
     "output_type": "display_data"
    }
   ],
   "source": [
    "text_sent[str_detect(text_sent, \"world\")]"
   ]
  },
  {
   "cell_type": "markdown",
   "metadata": {},
   "source": [
    "`str_subset` has combined this functionality in one function:"
   ]
  },
  {
   "cell_type": "code",
   "execution_count": 34,
   "metadata": {},
   "outputs": [
    {
     "data": {
      "text/html": [
       "<ol class=list-inline>\n",
       "\t<li>'The ancient Greeks had several different theories with regard to the origin of the world'</li>\n",
       "\t<li>' but the generally accepted notion was that before this world came into existence'</li>\n",
       "</ol>\n"
      ],
      "text/latex": [
       "\\begin{enumerate*}\n",
       "\\item 'The ancient Greeks had several different theories with regard to the origin of the world'\n",
       "\\item ' but the generally accepted notion was that before this world came into existence'\n",
       "\\end{enumerate*}\n"
      ],
      "text/markdown": [
       "1. 'The ancient Greeks had several different theories with regard to the origin of the world'\n",
       "2. ' but the generally accepted notion was that before this world came into existence'\n",
       "\n",
       "\n"
      ],
      "text/plain": [
       "[1] \"The ancient Greeks had several different theories with regard to the origin of the world\"\n",
       "[2] \" but the generally accepted notion was that before this world came into existence\"       "
      ]
     },
     "metadata": {},
     "output_type": "display_data"
    }
   ],
   "source": [
    "str_subset(text_sent, \"world\")"
   ]
  },
  {
   "cell_type": "markdown",
   "metadata": {
    "slideshow": {
     "slide_type": "slide"
    }
   },
   "source": [
    "## EXERCISE: WORKING WITH A TEXT AS A VECTOR\n",
    "\n",
    "In the following, you will create a vector containing the sentences of the texts and then looking up certain words.\n",
    "\n",
    "Make sure you have the package `stringr` installed and loaded.\n",
    "\n",
    "1. Assign the following text snippet to an object:\n",
    "\n",
    "    \"Themis, who has already been alluded to as the wife of Zeus, was the daughter of Cronus and Rhea, and personified those divine laws of justice and order by means of which the well-being and morality of communities are regulated. She presided over the assemblies of the people and the laws of hospitality.\"\n",
    "    \n",
    "\n",
    "2. Convert the text snippet to a vector of senteces.\n",
    "    \n",
    "    a. Split the texts into sentences using `str_split(texts, pattern = \",\")`. Assign to an object.\n",
    "    \n",
    "    c. Unlist the object to convert to a vector using `unlist()`. Assign to the same or a new object.\n",
    "    \n",
    "    \n",
    "2. Use `str_subset()` to see extract sentences that contain the name \"Zeus\". "
   ]
  },
  {
   "cell_type": "markdown",
   "metadata": {
    "slideshow": {
     "slide_type": "slide"
    }
   },
   "source": [
    "## Regular expressions\n",
    "Often when working with text, we have more \"fuzzy\" patterns we want to search for. \n",
    "\n",
    "Regular expression is a common language for processing text patterns.\n",
    "\n",
    "`stringr` supports regular expression arguements.\n",
    "\n",
    "Possible uses:\n",
    "- Finding words of a certain length\n",
    "- Finding sentences containing a certain word or pattern\n",
    "- Finding words following a certain pattern\n",
    "- and so on.\n",
    "\n",
    "Regular expression (or \"regex\") can be used in most function in `stringr`. "
   ]
  },
  {
   "cell_type": "markdown",
   "metadata": {
    "slideshow": {
     "slide_type": "slide"
    }
   },
   "source": [
    "The function `str_subset()` creates a subset of elements with the strings containing the pattern."
   ]
  },
  {
   "cell_type": "code",
   "execution_count": 36,
   "metadata": {
    "slideshow": {
     "slide_type": "skip"
    }
   },
   "outputs": [
    {
     "data": {
      "text/html": [
       "<ol class=list-inline>\n",
       "\t<li>'The ancient Greeks had several different theories with regard to the origin of the world'</li>\n",
       "\t<li>' but the generally accepted notion was that before this world came into existence'</li>\n",
       "\t<li>' there was in its place a confused mass of shapeless elements called Chaos. '</li>\n",
       "</ol>\n"
      ],
      "text/latex": [
       "\\begin{enumerate*}\n",
       "\\item 'The ancient Greeks had several different theories with regard to the origin of the world'\n",
       "\\item ' but the generally accepted notion was that before this world came into existence'\n",
       "\\item ' there was in its place a confused mass of shapeless elements called Chaos. '\n",
       "\\end{enumerate*}\n"
      ],
      "text/markdown": [
       "1. 'The ancient Greeks had several different theories with regard to the origin of the world'\n",
       "2. ' but the generally accepted notion was that before this world came into existence'\n",
       "3. ' there was in its place a confused mass of shapeless elements called Chaos. '\n",
       "\n",
       "\n"
      ],
      "text/plain": [
       "[1] \"The ancient Greeks had several different theories with regard to the origin of the world\"\n",
       "[2] \" but the generally accepted notion was that before this world came into existence\"       \n",
       "[3] \" there was in its place a confused mass of shapeless elements called Chaos. \"            "
      ]
     },
     "metadata": {},
     "output_type": "display_data"
    }
   ],
   "source": [
    "text_sent"
   ]
  },
  {
   "cell_type": "code",
   "execution_count": 79,
   "metadata": {
    "slideshow": {
     "slide_type": "fragment"
    }
   },
   "outputs": [
    {
     "data": {
      "text/html": [
       "<ol class=list-inline>\n",
       "\t<li>'The ancient Greeks had several different theories with regard to the origin of the world'</li>\n",
       "\t<li>' but the generally accepted notion was that before this world came into existence'</li>\n",
       "</ol>\n"
      ],
      "text/latex": [
       "\\begin{enumerate*}\n",
       "\\item 'The ancient Greeks had several different theories with regard to the origin of the world'\n",
       "\\item ' but the generally accepted notion was that before this world came into existence'\n",
       "\\end{enumerate*}\n"
      ],
      "text/markdown": [
       "1. 'The ancient Greeks had several different theories with regard to the origin of the world'\n",
       "2. ' but the generally accepted notion was that before this world came into existence'\n",
       "\n",
       "\n"
      ],
      "text/plain": [
       "[1] \"The ancient Greeks had several different theories with regard to the origin of the world\"\n",
       "[2] \" but the generally accepted notion was that before this world came into existence\"       "
      ]
     },
     "metadata": {},
     "output_type": "display_data"
    }
   ],
   "source": [
    "# Return sentences containing either \"origin\" or \"before\"\n",
    "str_subset(text_sent, \"origin|before\")"
   ]
  },
  {
   "cell_type": "code",
   "execution_count": 38,
   "metadata": {
    "slideshow": {
     "slide_type": "fragment"
    }
   },
   "outputs": [
    {
     "data": {
      "text/html": [
       "<ol class=list-inline>\n",
       "\t<li>'The ancient Greeks had several different theories with regard to the origin of the world'</li>\n",
       "\t<li>' there was in its place a confused mass of shapeless elements called Chaos. '</li>\n",
       "</ol>\n"
      ],
      "text/latex": [
       "\\begin{enumerate*}\n",
       "\\item 'The ancient Greeks had several different theories with regard to the origin of the world'\n",
       "\\item ' there was in its place a confused mass of shapeless elements called Chaos. '\n",
       "\\end{enumerate*}\n"
      ],
      "text/markdown": [
       "1. 'The ancient Greeks had several different theories with regard to the origin of the world'\n",
       "2. ' there was in its place a confused mass of shapeless elements called Chaos. '\n",
       "\n",
       "\n"
      ],
      "text/plain": [
       "[1] \"The ancient Greeks had several different theories with regard to the origin of the world\"\n",
       "[2] \" there was in its place a confused mass of shapeless elements called Chaos. \"            "
      ]
     },
     "metadata": {},
     "output_type": "display_data"
    }
   ],
   "source": [
    "# Return sentences containing an uppercase.\n",
    "str_subset(text_sent, \"[A-Z]\")"
   ]
  },
  {
   "cell_type": "markdown",
   "metadata": {
    "slideshow": {
     "slide_type": "slide"
    }
   },
   "source": [
    "## EXERCISE 4: SIMPLE REGEX\n",
    "\n",
    "Use your vector of sentences from the previous exercise.\n",
    "\n",
    "1. Use `str_subset()` to extract sentences containing either the word \"justice\" or \"people\"."
   ]
  },
  {
   "cell_type": "markdown",
   "metadata": {},
   "source": [
    "# Categorical variables (factors)\n",
    "\n",
    "Categorical variables in R are typically stored as \"factors\".\n",
    "\n",
    "Unlike other statistical software solutions, R does not assign categorical variables an underlying numerical value. Values in a factor can therefore only be refered to by their category name!\n",
    "\n",
    "Factors can sometimes cause issues, as a standard setting for a lot of import functions in R is to import text variables as factors. This causes issues as you have little control over how they are converted to categorical variables.\n",
    "It often makes more sense to recode the variables as factors yourself.\n",
    "\n",
    "Factors are necessary in a lot of functions for creating graphs or statistical models."
   ]
  },
  {
   "cell_type": "code",
   "execution_count": 1,
   "metadata": {},
   "outputs": [
    {
     "name": "stderr",
     "output_type": "stream",
     "text": [
      "Warning message:\n",
      "\"package 'readr' was built under R version 3.6.3\"Warning message:\n",
      "\"package 'dplyr' was built under R version 3.6.2\"\n",
      "Attaching package: 'dplyr'\n",
      "\n",
      "The following objects are masked from 'package:stats':\n",
      "\n",
      "    filter, lag\n",
      "\n",
      "The following objects are masked from 'package:base':\n",
      "\n",
      "    intersect, setdiff, setequal, union\n",
      "\n",
      "Parsed with column specification:\n",
      "cols(\n",
      "  idno = col_double(),\n",
      "  ppltrst = col_character(),\n",
      "  polintr = col_character(),\n",
      "  vote = col_character(),\n",
      "  lrscale = col_character(),\n",
      "  happy = col_character(),\n",
      "  health = col_character(),\n",
      "  cgtsday = col_double(),\n",
      "  cgtsmke = col_character(),\n",
      "  alcfreq = col_character(),\n",
      "  brncntr = col_character(),\n",
      "  height = col_double(),\n",
      "  weight = col_double(),\n",
      "  gndr = col_character(),\n",
      "  yrbrn = col_double(),\n",
      "  edlvddk = col_character(),\n",
      "  marsts = col_character(),\n",
      "  polpartvt = col_character()\n",
      ")\n"
     ]
    }
   ],
   "source": [
    "library(readr)\n",
    "library(dplyr)\n",
    "\n",
    "ess_data <- read_csv(\"https://github.com/CALDISS-AAU/workshop_r-table-data/raw/master/data/ess2014_mainsub_p1.csv\")"
   ]
  },
  {
   "cell_type": "code",
   "execution_count": 2,
   "metadata": {},
   "outputs": [
    {
     "data": {
      "text/html": [
       "<table>\n",
       "<thead><tr><th scope=col>idno</th><th scope=col>ppltrst</th><th scope=col>polintr</th><th scope=col>vote</th><th scope=col>lrscale</th><th scope=col>happy</th><th scope=col>health</th><th scope=col>cgtsday</th><th scope=col>cgtsmke</th><th scope=col>alcfreq</th><th scope=col>brncntr</th><th scope=col>height</th><th scope=col>weight</th><th scope=col>gndr</th><th scope=col>yrbrn</th><th scope=col>edlvddk</th><th scope=col>marsts</th><th scope=col>polpartvt</th></tr></thead>\n",
       "<tbody>\n",
       "\t<tr><td>921018                                                                        </td><td>6                                                                             </td><td>Hardly interested                                                             </td><td>Not eligible to vote                                                          </td><td>4                                                                             </td><td>9                                                                             </td><td>Very good                                                                     </td><td>10                                                                            </td><td>I smoke but not every day                                                     </td><td>2-3 times a month                                                             </td><td>Yes                                                                           </td><td>178                                                                           </td><td> 64                                                                           </td><td>Male                                                                          </td><td>1990                                                                          </td><td>Folkeskole 6.-8. klasse                                                       </td><td>None of these (NEVER married or in legally registered civil union)            </td><td>[NA] Not applicable                                                           </td></tr>\n",
       "\t<tr><td>921026                                                                        </td><td>8                                                                             </td><td>Quite interested                                                              </td><td>Yes                                                                           </td><td>4                                                                             </td><td>8                                                                             </td><td>Very good                                                                     </td><td>NA                                                                            </td><td>I have never smoked                                                           </td><td>Several times a week                                                          </td><td>Yes                                                                           </td><td>172                                                                           </td><td> 64                                                                           </td><td>Female                                                                        </td><td>1948                                                                          </td><td>Mellemlang videregående uddannelse af 3-4 års varighed. Professionsbachelorer,</td><td>Widowed/civil partner died                                                    </td><td>[1] Socialdemokraterne - the Danish social democrats                          </td></tr>\n",
       "\t<tr><td>921034                                                                        </td><td>8                                                                             </td><td>Quite interested                                                              </td><td>Yes                                                                           </td><td>7                                                                             </td><td>8                                                                             </td><td>Good                                                                          </td><td>NA                                                                            </td><td>I don't smoke now but I used to                                               </td><td>Every day                                                                     </td><td>Yes                                                                           </td><td>176                                                                           </td><td> 87                                                                           </td><td>Male                                                                          </td><td>1957                                                                          </td><td>Kort videregående uddannelse af op til 2-3 års varighed, F.eks. Erhvervsakadem</td><td>Not applicable                                                                </td><td>[7] Venstre, Danmarks Liberale Parti - Venstre                                </td></tr>\n",
       "\t<tr><td>921181                                                                        </td><td>9                                                                             </td><td>Quite interested                                                              </td><td>Yes                                                                           </td><td>5                                                                             </td><td>9                                                                             </td><td>Fair                                                                          </td><td>NA                                                                            </td><td>I don't smoke now but I used to                                               </td><td>Once a week                                                                   </td><td>Yes                                                                           </td><td>194                                                                           </td><td>102                                                                           </td><td>Male                                                                          </td><td>1956                                                                          </td><td>Faglig uddannelse (håndværk, handel, landbrug mv.), F.eks. Faglærte, Social-  </td><td>Not applicable                                                                </td><td>[2] Det Radikale Venstre - Danish Social-Liberal Party                        </td></tr>\n",
       "\t<tr><td>921204                                                                        </td><td>9                                                                             </td><td>Hardly interested                                                             </td><td>Yes                                                                           </td><td>7                                                                             </td><td>8                                                                             </td><td>Good                                                                          </td><td>NA                                                                            </td><td>I don't smoke now but I used to                                               </td><td>Once a week                                                                   </td><td>No                                                                            </td><td>157                                                                           </td><td> 48                                                                           </td><td>Female                                                                        </td><td>1941                                                                          </td><td>Kort videregående uddannelse af op til 2-3 års varighed, F.eks. Erhvervsakadem</td><td>Not applicable                                                                </td><td>[NA] Don't know                                                               </td></tr>\n",
       "\t<tr><td>921262                                                                        </td><td>8                                                                             </td><td>Hardly interested                                                             </td><td>Yes                                                                           </td><td>7                                                                             </td><td>8                                                                             </td><td>Very good                                                                     </td><td>NA                                                                            </td><td>I have never smoked                                                           </td><td>2-3 times a month                                                             </td><td>Yes                                                                           </td><td>180                                                                           </td><td> 93                                                                           </td><td>Male                                                                          </td><td>1987                                                                          </td><td>Mellemlang videregående uddannelse af 3-4 års varighed. Professionsbachelorer,</td><td>None of these (NEVER married or in legally registered civil union)            </td><td>[7] Venstre, Danmarks Liberale Parti - Venstre                                </td></tr>\n",
       "\t<tr><td>921319                                                                        </td><td>8                                                                             </td><td>Very interested                                                               </td><td>Not eligible to vote                                                          </td><td>8                                                                             </td><td>Extremely happy                                                               </td><td>Fair                                                                          </td><td>10                                                                            </td><td>I smoke daily                                                                 </td><td>Once a week                                                                   </td><td>Yes                                                                           </td><td>185                                                                           </td><td> 82                                                                           </td><td>Male                                                                          </td><td>1997                                                                          </td><td>Folkeskole 9.-10. klasse                                                      </td><td>None of these (NEVER married or in legally registered civil union)            </td><td>[NA] Not applicable                                                           </td></tr>\n",
       "\t<tr><td>921327                                                                        </td><td>9                                                                             </td><td>Quite interested                                                              </td><td>Yes                                                                           </td><td>2                                                                             </td><td>9                                                                             </td><td>Good                                                                          </td><td>NA                                                                            </td><td>I don't smoke now but I used to                                               </td><td>Once a week                                                                   </td><td>Yes                                                                           </td><td>182                                                                           </td><td> 97                                                                           </td><td>Male                                                                          </td><td>1940                                                                          </td><td>Faglig uddannelse (håndværk, handel, landbrug mv.), F.eks. Faglærte, Social-  </td><td>Not applicable                                                                </td><td>[9] Enhedslisten - Unity List - The Red-Green Alliance                        </td></tr>\n",
       "\t<tr><td>921335                                                                        </td><td>8                                                                             </td><td>Hardly interested                                                             </td><td>Yes                                                                           </td><td>9                                                                             </td><td>9                                                                             </td><td>Good                                                                          </td><td>NA                                                                            </td><td>I have never smoked                                                           </td><td>Several times a week                                                          </td><td>Yes                                                                           </td><td>178                                                                           </td><td> 84                                                                           </td><td>Male                                                                          </td><td>1945                                                                          </td><td>Faglig uddannelse (håndværk, handel, landbrug mv.), F.eks. Faglærte, Social-  </td><td>Not applicable                                                                </td><td>[10] Andet - other                                                            </td></tr>\n",
       "\t<tr><td>921408                                                                        </td><td>7                                                                             </td><td>Quite interested                                                              </td><td>Yes                                                                           </td><td>8                                                                             </td><td>9                                                                             </td><td>Fair                                                                          </td><td> 1                                                                            </td><td>I smoke but not every day                                                     </td><td>Several times a week                                                          </td><td>Yes                                                                           </td><td>203                                                                           </td><td>104                                                                           </td><td>Male                                                                          </td><td>1977                                                                          </td><td>Lang videregående uddannelse. Kandidatuddannelser af 5.-6. års varighed, F.eks</td><td>Not applicable                                                                </td><td>[7] Venstre, Danmarks Liberale Parti - Venstre                                </td></tr>\n",
       "\t<tr><td>921432                                                                        </td><td>6                                                                             </td><td>Quite interested                                                              </td><td>Yes                                                                           </td><td>7                                                                             </td><td>Extremely happy                                                               </td><td>Very good                                                                     </td><td> 6                                                                            </td><td>I smoke daily                                                                 </td><td>Once a week                                                                   </td><td>Yes                                                                           </td><td>180                                                                           </td><td> 90                                                                           </td><td>Male                                                                          </td><td>1989                                                                          </td><td>Mellemlang videregående uddannelse af 3-4 års varighed. Professionsbachelorer,</td><td>None of these (NEVER married or in legally registered civil union)            </td><td>[1] Socialdemokraterne - the Danish social democrats                          </td></tr>\n",
       "\t<tr><td>921440                                                                        </td><td>9                                                                             </td><td>Hardly interested                                                             </td><td>Yes                                                                           </td><td>3                                                                             </td><td>9                                                                             </td><td>Good                                                                          </td><td>NA                                                                            </td><td>I have only smoked a few times                                                </td><td>Once a week                                                                   </td><td>Yes                                                                           </td><td>178                                                                           </td><td> 76                                                                           </td><td>Male                                                                          </td><td>1975                                                                          </td><td>Universitetsbachelor. 1. del af kandidatuddannelse                            </td><td>None of these (NEVER married or in legally registered civil union)            </td><td>[NA] Don't know                                                               </td></tr>\n",
       "\t<tr><td>921490                                                                        </td><td>4                                                                             </td><td>Quite interested                                                              </td><td>Yes                                                                           </td><td>3                                                                             </td><td>Extremely happy                                                               </td><td>Very good                                                                     </td><td>NA                                                                            </td><td>I don't smoke now but I used to                                               </td><td>Never                                                                         </td><td>No                                                                            </td><td>167                                                                           </td><td> 62                                                                           </td><td>Female                                                                        </td><td>1965                                                                          </td><td>Mellemlang videregående uddannelse af 3-4 års varighed. Professionsbachelorer,</td><td>Not applicable                                                                </td><td>[4] SF Socialistisk Folkeparti - Socialist People's Party                     </td></tr>\n",
       "\t<tr><td>921539                                                                        </td><td>7                                                                             </td><td>Quite interested                                                              </td><td>Yes                                                                           </td><td>3                                                                             </td><td>9                                                                             </td><td>Very good                                                                     </td><td> 5                                                                            </td><td>I smoke but not every day                                                     </td><td>Less than once a month                                                        </td><td>Yes                                                                           </td><td>170                                                                           </td><td> 78                                                                           </td><td>Female                                                                        </td><td>1982                                                                          </td><td>Mellemlang videregående uddannelse af 3-4 års varighed. Professionsbachelorer,</td><td>None of these (NEVER married or in legally registered civil union)            </td><td>[2] Det Radikale Venstre - Danish Social-Liberal Party                        </td></tr>\n",
       "\t<tr><td>921571                                                                        </td><td>8                                                                             </td><td>Very interested                                                               </td><td>Yes                                                                           </td><td>3                                                                             </td><td>9                                                                             </td><td>Fair                                                                          </td><td> 5                                                                            </td><td>I smoke daily                                                                 </td><td>Less than once a month                                                        </td><td>Yes                                                                           </td><td>163                                                                           </td><td> 92                                                                           </td><td>Female                                                                        </td><td>1978                                                                          </td><td>Kort videregående uddannelse af op til 2-3 års varighed, F.eks. Erhvervsakadem</td><td>Not applicable                                                                </td><td>[5] Dansk Folkeparti - Danish peoples party                                   </td></tr>\n",
       "\t<tr><td>921610                                                                        </td><td>6                                                                             </td><td>Very interested                                                               </td><td>Yes                                                                           </td><td>5                                                                             </td><td>9                                                                             </td><td>Good                                                                          </td><td>NA                                                                            </td><td>I have never smoked                                                           </td><td>Less than once a month                                                        </td><td>Yes                                                                           </td><td>170                                                                           </td><td> 60                                                                           </td><td>Female                                                                        </td><td>1978                                                                          </td><td>Mellemlang videregående uddannelse af 3-4 års varighed. Professionsbachelorer,</td><td>Not applicable                                                                </td><td>[7] Venstre, Danmarks Liberale Parti - Venstre                                </td></tr>\n",
       "\t<tr><td>921636                                                                        </td><td>9                                                                             </td><td>Hardly interested                                                             </td><td>Not eligible to vote                                                          </td><td>3                                                                             </td><td>8                                                                             </td><td>Very good                                                                     </td><td>NA                                                                            </td><td>I have only smoked a few times                                                </td><td>2-3 times a month                                                             </td><td>Yes                                                                           </td><td>185                                                                           </td><td> 68                                                                           </td><td>Male                                                                          </td><td>1996                                                                          </td><td>Folkeskole 9.-10. klasse                                                      </td><td>None of these (NEVER married or in legally registered civil union)            </td><td>[NA] Not applicable                                                           </td></tr>\n",
       "\t<tr><td>921660                                                                        </td><td>8                                                                             </td><td>Very interested                                                               </td><td>Yes                                                                           </td><td>Left                                                                          </td><td>6                                                                             </td><td>Very good                                                                     </td><td>NA                                                                            </td><td>I don't smoke now but I used to                                               </td><td>2-3 times a month                                                             </td><td>Yes                                                                           </td><td>173                                                                           </td><td> 76                                                                           </td><td>Male                                                                          </td><td>1941                                                                          </td><td>Lang videregående uddannelse. Kandidatuddannelser af 5.-6. års varighed, F.eks</td><td>Not applicable                                                                </td><td>[9] Enhedslisten - Unity List - The Red-Green Alliance                        </td></tr>\n",
       "\t<tr><td>921678                                                                        </td><td>4                                                                             </td><td>Not at all interested                                                         </td><td>Yes                                                                           </td><td>5                                                                             </td><td>Extremely happy                                                               </td><td>Very good                                                                     </td><td>10                                                                            </td><td>I smoke daily                                                                 </td><td>Every day                                                                     </td><td>Yes                                                                           </td><td>178                                                                           </td><td> 65                                                                           </td><td>Male                                                                          </td><td>1946                                                                          </td><td>Folkeskole 6.-8. klasse                                                       </td><td>Legally divorced/civil union dissolved                                        </td><td>[1] Socialdemokraterne - the Danish social democrats                          </td></tr>\n",
       "\t<tr><td>921733                                                                        </td><td>5                                                                             </td><td>Quite interested                                                              </td><td>Yes                                                                           </td><td>6                                                                             </td><td>3                                                                             </td><td>Fair                                                                          </td><td>NA                                                                            </td><td>I have never smoked                                                           </td><td>Several times a week                                                          </td><td>Yes                                                                           </td><td>182                                                                           </td><td> 95                                                                           </td><td>Male                                                                          </td><td>1960                                                                          </td><td>Mellemlang videregående uddannelse af 3-4 års varighed. Professionsbachelorer,</td><td>None of these (NEVER married or in legally registered civil union)            </td><td>[NA] Refusal                                                                  </td></tr>\n",
       "\t<tr><td>921814                                                                        </td><td>9                                                                             </td><td>Very interested                                                               </td><td>Yes                                                                           </td><td>7                                                                             </td><td>Extremely happy                                                               </td><td>Very good                                                                     </td><td>NA                                                                            </td><td>I have never smoked                                                           </td><td>Never                                                                         </td><td>Yes                                                                           </td><td>196                                                                           </td><td> 90                                                                           </td><td>Male                                                                          </td><td>1972                                                                          </td><td>Mellemlang videregående uddannelse af 3-4 års varighed. Professionsbachelorer,</td><td>Not applicable                                                                </td><td>[2] Det Radikale Venstre - Danish Social-Liberal Party                        </td></tr>\n",
       "\t<tr><td>921880                                                                        </td><td>7                                                                             </td><td>Hardly interested                                                             </td><td>Yes                                                                           </td><td>5                                                                             </td><td>9                                                                             </td><td>Good                                                                          </td><td>NA                                                                            </td><td>I have never smoked                                                           </td><td>Once a week                                                                   </td><td>Yes                                                                           </td><td>180                                                                           </td><td> 80                                                                           </td><td>Female                                                                        </td><td>1963                                                                          </td><td>Kort videregående uddannelse af op til 2-3 års varighed, F.eks. Erhvervsakadem</td><td>Not applicable                                                                </td><td>[1] Socialdemokraterne - the Danish social democrats                          </td></tr>\n",
       "\t<tr><td>921911                                                                        </td><td>5                                                                             </td><td>Hardly interested                                                             </td><td>Yes                                                                           </td><td>6                                                                             </td><td>1                                                                             </td><td>Bad                                                                           </td><td>20                                                                            </td><td>I smoke daily                                                                 </td><td>Every day                                                                     </td><td>Yes                                                                           </td><td>175                                                                           </td><td> 98                                                                           </td><td>Male                                                                          </td><td>1969                                                                          </td><td>Folkeskole 6.-8. klasse                                                       </td><td>Legally divorced/civil union dissolved                                        </td><td>[2] Det Radikale Venstre - Danish Social-Liberal Party                        </td></tr>\n",
       "\t<tr><td>921987                                                                        </td><td>7                                                                             </td><td>Very interested                                                               </td><td>No                                                                            </td><td>8                                                                             </td><td>7                                                                             </td><td>Very good                                                                     </td><td>NA                                                                            </td><td>I have never smoked                                                           </td><td>Once a week                                                                   </td><td>Yes                                                                           </td><td>179                                                                           </td><td> 74                                                                           </td><td>Male                                                                          </td><td>1964                                                                          </td><td>Mellemlang videregående uddannelse af 3-4 års varighed. Professionsbachelorer,</td><td>Not applicable                                                                </td><td>[NA] Not applicable                                                           </td></tr>\n",
       "\t<tr><td>922056                                                                        </td><td>6                                                                             </td><td>Hardly interested                                                             </td><td>Yes                                                                           </td><td>4                                                                             </td><td>8                                                                             </td><td>Good                                                                          </td><td>NA                                                                            </td><td>I have only smoked a few times                                                </td><td>Every day                                                                     </td><td>No                                                                            </td><td>153                                                                           </td><td> 58                                                                           </td><td>Female                                                                        </td><td>1973                                                                          </td><td>Faglig uddannelse (håndværk, handel, landbrug mv.), F.eks. Faglærte, Social-  </td><td>None of these (NEVER married or in legally registered civil union)            </td><td>[NA] Don't know                                                               </td></tr>\n",
       "\t<tr><td>922072                                                                        </td><td>7                                                                             </td><td>Quite interested                                                              </td><td>Yes                                                                           </td><td>4                                                                             </td><td>9                                                                             </td><td>Very good                                                                     </td><td>NA                                                                            </td><td>I have never smoked                                                           </td><td>Once a month                                                                  </td><td>Yes                                                                           </td><td>162                                                                           </td><td> 69                                                                           </td><td>Female                                                                        </td><td>1988                                                                          </td><td>Gymnasielle uddannelser, studentereksamen, HF, HHX, HTX                       </td><td>None of these (NEVER married or in legally registered civil union)            </td><td>[NA] Refusal                                                                  </td></tr>\n",
       "\t<tr><td>922098                                                                        </td><td>4                                                                             </td><td>Hardly interested                                                             </td><td>Yes                                                                           </td><td>8                                                                             </td><td>9                                                                             </td><td>Very good                                                                     </td><td> 3                                                                            </td><td>I smoke but not every day                                                     </td><td>Less than once a month                                                        </td><td>Yes                                                                           </td><td>186                                                                           </td><td> 69                                                                           </td><td>Male                                                                          </td><td>1947                                                                          </td><td>Mellemlang videregående uddannelse af 3-4 års varighed. Professionsbachelorer,</td><td>Not applicable                                                                </td><td>[5] Dansk Folkeparti - Danish peoples party                                   </td></tr>\n",
       "\t<tr><td>922111                                                                        </td><td>8                                                                             </td><td>Quite interested                                                              </td><td>Yes                                                                           </td><td>7                                                                             </td><td>9                                                                             </td><td>Very good                                                                     </td><td>NA                                                                            </td><td>I have never smoked                                                           </td><td>Every day                                                                     </td><td>Yes                                                                           </td><td>169                                                                           </td><td> 60                                                                           </td><td>Female                                                                        </td><td>1944                                                                          </td><td>Faglig uddannelse (håndværk, handel, landbrug mv.), F.eks. Faglærte, Social-  </td><td>Not applicable                                                                </td><td>[5] Dansk Folkeparti - Danish peoples party                                   </td></tr>\n",
       "\t<tr><td>922129                                                                        </td><td>4                                                                             </td><td>Very interested                                                               </td><td>Not eligible to vote                                                          </td><td>4                                                                             </td><td>8                                                                             </td><td>Good                                                                          </td><td>NA                                                                            </td><td>I have never smoked                                                           </td><td>Several times a week                                                          </td><td>Yes                                                                           </td><td>185                                                                           </td><td> 70                                                                           </td><td>Male                                                                          </td><td>1998                                                                          </td><td>Folkeskole 9.-10. klasse                                                      </td><td>None of these (NEVER married or in legally registered civil union)            </td><td>[NA] Not applicable                                                           </td></tr>\n",
       "\t<tr><td>922226                                                                        </td><td>5                                                                             </td><td>Quite interested                                                              </td><td>Yes                                                                           </td><td>8                                                                             </td><td>8                                                                             </td><td>Good                                                                          </td><td>NA                                                                            </td><td>I have never smoked                                                           </td><td>Several times a week                                                          </td><td>Yes                                                                           </td><td>173                                                                           </td><td> 80                                                                           </td><td>Male                                                                          </td><td>1941                                                                          </td><td>Faglig uddannelse (håndværk, handel, landbrug mv.), F.eks. Faglærte, Social-  </td><td>Not applicable                                                                </td><td>[7] Venstre, Danmarks Liberale Parti - Venstre                                </td></tr>\n",
       "\t<tr><td>...</td><td>...</td><td>...</td><td>...</td><td>...</td><td>...</td><td>...</td><td>...</td><td>...</td><td>...</td><td>...</td><td>...</td><td>...</td><td>...</td><td>...</td><td>...</td><td>...</td><td>...</td></tr>\n",
       "\t<tr><td>949321                                                                        </td><td>8                                                                             </td><td>Quite interested                                                              </td><td>Yes                                                                           </td><td>2                                                                             </td><td>Extremely happy                                                               </td><td>Very good                                                                     </td><td> 1                                                                            </td><td>I smoke but not every day                                                     </td><td>2-3 times a month                                                             </td><td>Yes                                                                           </td><td>176                                                                           </td><td> 77                                                                           </td><td>Female                                                                        </td><td>1972                                                                          </td><td>Lang videregående uddannelse. Kandidatuddannelser af 5.-6. års varighed, F.eks</td><td>Not applicable                                                                </td><td>[2] Det Radikale Venstre - Danish Social-Liberal Party                        </td></tr>\n",
       "\t<tr><td>949363                                                                        </td><td>8                                                                             </td><td>Quite interested                                                              </td><td>Yes                                                                           </td><td>6                                                                             </td><td>9                                                                             </td><td>Very good                                                                     </td><td> 5                                                                            </td><td>I smoke but not every day                                                     </td><td>Once a week                                                                   </td><td>Yes                                                                           </td><td>165                                                                           </td><td> 63                                                                           </td><td>Female                                                                        </td><td>1952                                                                          </td><td>Mellemlang videregående uddannelse af 3-4 års varighed. Professionsbachelorer,</td><td>Not applicable                                                                </td><td>[2] Det Radikale Venstre - Danish Social-Liberal Party                        </td></tr>\n",
       "\t<tr><td>949486                                                                        </td><td>8                                                                             </td><td>Hardly interested                                                             </td><td>Yes                                                                           </td><td>5                                                                             </td><td>8                                                                             </td><td>Good                                                                          </td><td>NA                                                                            </td><td>I have only smoked a few times                                                </td><td>Once a week                                                                   </td><td>Yes                                                                           </td><td>164                                                                           </td><td> 75                                                                           </td><td>Female                                                                        </td><td>1962                                                                          </td><td>Folkeskole 9.-10. klasse                                                      </td><td>Not applicable                                                                </td><td>[9] Enhedslisten - Unity List - The Red-Green Alliance                        </td></tr>\n",
       "\t<tr><td>949509                                                                        </td><td>9                                                                             </td><td>Very interested                                                               </td><td>Yes                                                                           </td><td>3                                                                             </td><td>9                                                                             </td><td>Good                                                                          </td><td>NA                                                                            </td><td>I don't smoke now but I used to                                               </td><td>Several times a week                                                          </td><td>Yes                                                                           </td><td>192                                                                           </td><td> 76                                                                           </td><td>Male                                                                          </td><td>1989                                                                          </td><td>Mellemlang videregående uddannelse af 3-4 års varighed. Professionsbachelorer,</td><td>None of these (NEVER married or in legally registered civil union)            </td><td>[9] Enhedslisten - Unity List - The Red-Green Alliance                        </td></tr>\n",
       "\t<tr><td>949541                                                                        </td><td>8                                                                             </td><td>Quite interested                                                              </td><td>Yes                                                                           </td><td>3                                                                             </td><td>8                                                                             </td><td>Fair                                                                          </td><td>NA                                                                            </td><td>I don't smoke now but I used to                                               </td><td>Less than once a month                                                        </td><td>Yes                                                                           </td><td>172                                                                           </td><td>110                                                                           </td><td>Female                                                                        </td><td>1958                                                                          </td><td>Mellemlang videregående uddannelse af 3-4 års varighed. Professionsbachelorer,</td><td>Not applicable                                                                </td><td>[9] Enhedslisten - Unity List - The Red-Green Alliance                        </td></tr>\n",
       "\t<tr><td>949591                                                                        </td><td>9                                                                             </td><td>Very interested                                                               </td><td>Yes                                                                           </td><td>7                                                                             </td><td>9                                                                             </td><td>Very good                                                                     </td><td>NA                                                                            </td><td>I don't smoke now but I used to                                               </td><td>Once a week                                                                   </td><td>Yes                                                                           </td><td>180                                                                           </td><td> 94                                                                           </td><td>Male                                                                          </td><td>1971                                                                          </td><td>Gymnasielle uddannelser, studentereksamen, HF, HHX, HTX                       </td><td>Not applicable                                                                </td><td>[2] Det Radikale Venstre - Danish Social-Liberal Party                        </td></tr>\n",
       "\t<tr><td>949606                                                                        </td><td>4                                                                             </td><td>Not at all interested                                                         </td><td>Yes                                                                           </td><td>5                                                                             </td><td>Extremely happy                                                               </td><td>Very good                                                                     </td><td>NA                                                                            </td><td>I don't smoke now but I used to                                               </td><td>Less than once a month                                                        </td><td>Yes                                                                           </td><td>170                                                                           </td><td>130                                                                           </td><td>Female                                                                        </td><td>1993                                                                          </td><td>Folkeskole 9.-10. klasse                                                      </td><td>None of these (NEVER married or in legally registered civil union)            </td><td>[NA] Don't know                                                               </td></tr>\n",
       "\t<tr><td>949614                                                                        </td><td>8                                                                             </td><td>Very interested                                                               </td><td>Yes                                                                           </td><td>5                                                                             </td><td>8                                                                             </td><td>Very good                                                                     </td><td>NA                                                                            </td><td>I have never smoked                                                           </td><td>Several times a week                                                          </td><td>No                                                                            </td><td>186                                                                           </td><td> 90                                                                           </td><td>Male                                                                          </td><td>1934                                                                          </td><td>Lang videregående uddannelse. Kandidatuddannelser af 5.-6. års varighed, F.eks</td><td>Legally married                                                               </td><td>[5] Dansk Folkeparti - Danish peoples party                                   </td></tr>\n",
       "\t<tr><td>949622                                                                        </td><td>8                                                                             </td><td>Very interested                                                               </td><td>Yes                                                                           </td><td>2                                                                             </td><td>9                                                                             </td><td>Very good                                                                     </td><td>NA                                                                            </td><td>I don't smoke now but I used to                                               </td><td>2-3 times a month                                                             </td><td>Yes                                                                           </td><td>167                                                                           </td><td> 95                                                                           </td><td>Female                                                                        </td><td>1955                                                                          </td><td>Universitetsbachelor. 1. del af kandidatuddannelse                            </td><td>Not applicable                                                                </td><td>[1] Socialdemokraterne - the Danish social democrats                          </td></tr>\n",
       "\t<tr><td>949630                                                                        </td><td>7                                                                             </td><td>Hardly interested                                                             </td><td>Not eligible to vote                                                          </td><td>Don't know                                                                    </td><td>8                                                                             </td><td>Very good                                                                     </td><td>10                                                                            </td><td>I smoke daily                                                                 </td><td>Several times a week                                                          </td><td>Yes                                                                           </td><td>168                                                                           </td><td> 55                                                                           </td><td>Female                                                                        </td><td>1995                                                                          </td><td>Gymnasielle uddannelser, studentereksamen, HF, HHX, HTX                       </td><td>None of these (NEVER married or in legally registered civil union)            </td><td>[NA] Not applicable                                                           </td></tr>\n",
       "\t<tr><td>949648                                                                        </td><td>6                                                                             </td><td>Hardly interested                                                             </td><td>Yes                                                                           </td><td>Right                                                                         </td><td>9                                                                             </td><td>Bad                                                                           </td><td>NA                                                                            </td><td>I have only smoked a few times                                                </td><td>Several times a week                                                          </td><td>Yes                                                                           </td><td>195                                                                           </td><td>110                                                                           </td><td>Male                                                                          </td><td>1980                                                                          </td><td>Faglig uddannelse (håndværk, handel, landbrug mv.), F.eks. Faglærte, Social-  </td><td>Not applicable                                                                </td><td>[5] Dansk Folkeparti - Danish peoples party                                   </td></tr>\n",
       "\t<tr><td>949680                                                                        </td><td>8                                                                             </td><td>Quite interested                                                              </td><td>Yes                                                                           </td><td>3                                                                             </td><td>9                                                                             </td><td>Fair                                                                          </td><td>NA                                                                            </td><td>I don't smoke now but I used to                                               </td><td>Every day                                                                     </td><td>Yes                                                                           </td><td>174                                                                           </td><td> 81                                                                           </td><td>Male                                                                          </td><td>1936                                                                          </td><td>Faglig uddannelse (håndværk, handel, landbrug mv.), F.eks. Faglærte, Social-  </td><td>Widowed/civil partner died                                                    </td><td>[1] Socialdemokraterne - the Danish social democrats                          </td></tr>\n",
       "\t<tr><td>949711                                                                        </td><td>5                                                                             </td><td>Quite interested                                                              </td><td>Yes                                                                           </td><td>8                                                                             </td><td>8                                                                             </td><td>Good                                                                          </td><td>NA                                                                            </td><td>I have never smoked                                                           </td><td>Once a month                                                                  </td><td>Yes                                                                           </td><td>165                                                                           </td><td> 88                                                                           </td><td>Male                                                                          </td><td>1927                                                                          </td><td>Faglig uddannelse (håndværk, handel, landbrug mv.), F.eks. Faglærte, Social-  </td><td>Not applicable                                                                </td><td>[5] Dansk Folkeparti - Danish peoples party                                   </td></tr>\n",
       "\t<tr><td>949787                                                                        </td><td>9                                                                             </td><td>Very interested                                                               </td><td>Yes                                                                           </td><td>7                                                                             </td><td>8                                                                             </td><td>Very good                                                                     </td><td>20                                                                            </td><td>I smoke daily                                                                 </td><td>Once a week                                                                   </td><td>Yes                                                                           </td><td>176                                                                           </td><td> 58                                                                           </td><td>Female                                                                        </td><td>1967                                                                          </td><td>Faglig uddannelse (håndværk, handel, landbrug mv.), F.eks. Faglærte, Social-  </td><td>Legally divorced/civil union dissolved                                        </td><td>[3] Det Konservative Folkeparti - Conservative                                </td></tr>\n",
       "\t<tr><td>949800                                                                        </td><td>8                                                                             </td><td>Quite interested                                                              </td><td>Yes                                                                           </td><td>3                                                                             </td><td>9                                                                             </td><td>Good                                                                          </td><td> 5                                                                            </td><td>I smoke daily                                                                 </td><td>Once a week                                                                   </td><td>Yes                                                                           </td><td>173                                                                           </td><td> 78                                                                           </td><td>Female                                                                        </td><td>1958                                                                          </td><td>Universitetsbachelor. 1. del af kandidatuddannelse                            </td><td>Legally divorced/civil union dissolved                                        </td><td>[2] Det Radikale Venstre - Danish Social-Liberal Party                        </td></tr>\n",
       "\t<tr><td>949892                                                                        </td><td>6                                                                             </td><td>Not at all interested                                                         </td><td>No                                                                            </td><td>2                                                                             </td><td>3                                                                             </td><td>Fair                                                                          </td><td>20                                                                            </td><td>I smoke daily                                                                 </td><td>Every day                                                                     </td><td>Yes                                                                           </td><td>174                                                                           </td><td> 92                                                                           </td><td>Male                                                                          </td><td>1964                                                                          </td><td>Folkeskole 6.-8. klasse                                                       </td><td>Legally divorced/civil union dissolved                                        </td><td>[NA] Not applicable                                                           </td></tr>\n",
       "\t<tr><td>949907                                                                        </td><td>7                                                                             </td><td>Very interested                                                               </td><td>Yes                                                                           </td><td>8                                                                             </td><td>8                                                                             </td><td>Very good                                                                     </td><td>NA                                                                            </td><td>I don't smoke now but I used to                                               </td><td>Several times a week                                                          </td><td>Yes                                                                           </td><td>180                                                                           </td><td> 80                                                                           </td><td>Male                                                                          </td><td>1942                                                                          </td><td>Kort videregående uddannelse af op til 2-3 års varighed, F.eks. Erhvervsakadem</td><td>Not applicable                                                                </td><td>[7] Venstre, Danmarks Liberale Parti - Venstre                                </td></tr>\n",
       "\t<tr><td>949931                                                                        </td><td>7                                                                             </td><td>Quite interested                                                              </td><td>Yes                                                                           </td><td>7                                                                             </td><td>Extremely happy                                                               </td><td>Fair                                                                          </td><td>NA                                                                            </td><td>I have never smoked                                                           </td><td>Once a week                                                                   </td><td>Yes                                                                           </td><td>160                                                                           </td><td> 72                                                                           </td><td>Female                                                                        </td><td>1924                                                                          </td><td>Folkeskole 6.-8. klasse                                                       </td><td>Widowed/civil partner died                                                    </td><td>[7] Venstre, Danmarks Liberale Parti - Venstre                                </td></tr>\n",
       "\t<tr><td>949999                                                                        </td><td>8                                                                             </td><td>Hardly interested                                                             </td><td>Not eligible to vote                                                          </td><td>4                                                                             </td><td>4                                                                             </td><td>Good                                                                          </td><td>NA                                                                            </td><td>I have only smoked a few times                                                </td><td>Several times a week                                                          </td><td>No                                                                            </td><td>200                                                                           </td><td> 88                                                                           </td><td>Male                                                                          </td><td>1994                                                                          </td><td>Gymnasielle uddannelser, studentereksamen, HF, HHX, HTX                       </td><td>None of these (NEVER married or in legally registered civil union)            </td><td>[NA] Not applicable                                                           </td></tr>\n",
       "\t<tr><td>950079                                                                        </td><td>6                                                                             </td><td>Very interested                                                               </td><td>Yes                                                                           </td><td>8                                                                             </td><td>9                                                                             </td><td>Very good                                                                     </td><td>NA                                                                            </td><td>I have never smoked                                                           </td><td>Never                                                                         </td><td>Yes                                                                           </td><td>172                                                                           </td><td> 76                                                                           </td><td>Male                                                                          </td><td>1973                                                                          </td><td>Folkeskole 9.-10. klasse                                                      </td><td>In a legally registered civil union                                           </td><td>[5] Dansk Folkeparti - Danish peoples party                                   </td></tr>\n",
       "\t<tr><td>950134                                                                        </td><td>9                                                                             </td><td>Quite interested                                                              </td><td>Yes                                                                           </td><td>5                                                                             </td><td>9                                                                             </td><td>Very good                                                                     </td><td>NA                                                                            </td><td>I have never smoked                                                           </td><td>Less than once a month                                                        </td><td>No                                                                            </td><td>170                                                                           </td><td> 52                                                                           </td><td>Female                                                                        </td><td>1960                                                                          </td><td>Forskeruddannelse. Ph.d., doktor                                              </td><td>Not applicable                                                                </td><td>[1] Socialdemokraterne - the Danish social democrats                          </td></tr>\n",
       "\t<tr><td>950150                                                                        </td><td>6                                                                             </td><td>Quite interested                                                              </td><td>Yes                                                                           </td><td>7                                                                             </td><td>8                                                                             </td><td>Good                                                                          </td><td>NA                                                                            </td><td>I don't smoke now but I used to                                               </td><td>Several times a week                                                          </td><td>Yes                                                                           </td><td>186                                                                           </td><td> 80                                                                           </td><td>Male                                                                          </td><td>1956                                                                          </td><td>Faglig uddannelse (håndværk, handel, landbrug mv.), F.eks. Faglærte, Social-  </td><td>Not applicable                                                                </td><td>[3] Det Konservative Folkeparti - Conservative                                </td></tr>\n",
       "\t<tr><td>950184                                                                        </td><td>8                                                                             </td><td>Very interested                                                               </td><td>Yes                                                                           </td><td>Left                                                                          </td><td>8                                                                             </td><td>Fair                                                                          </td><td>20                                                                            </td><td>I smoke daily                                                                 </td><td>2-3 times a month                                                             </td><td>Yes                                                                           </td><td>167                                                                           </td><td>109                                                                           </td><td>Female                                                                        </td><td>1960                                                                          </td><td>Kort videregående uddannelse af op til 2-3 års varighed, F.eks. Erhvervsakadem</td><td>Not applicable                                                                </td><td>[9] Enhedslisten - Unity List - The Red-Green Alliance                        </td></tr>\n",
       "\t<tr><td>950320                                                                        </td><td>7                                                                             </td><td>Very interested                                                               </td><td>Yes                                                                           </td><td>5                                                                             </td><td>Extremely happy                                                               </td><td>Good                                                                          </td><td>NA                                                                            </td><td>I have never smoked                                                           </td><td>Once a week                                                                   </td><td>Yes                                                                           </td><td>185                                                                           </td><td> 96                                                                           </td><td>Male                                                                          </td><td>1960                                                                          </td><td>Universitetsbachelor. 1. del af kandidatuddannelse                            </td><td>Not applicable                                                                </td><td>[2] Det Radikale Venstre - Danish Social-Liberal Party                        </td></tr>\n",
       "\t<tr><td>950362                                                                        </td><td>4                                                                             </td><td>Hardly interested                                                             </td><td>Yes                                                                           </td><td>2                                                                             </td><td>9                                                                             </td><td>Good                                                                          </td><td>NA                                                                            </td><td>I don't smoke now but I used to                                               </td><td>Once a month                                                                  </td><td>Yes                                                                           </td><td>176                                                                           </td><td> 68                                                                           </td><td>Male                                                                          </td><td>1979                                                                          </td><td>Faglig uddannelse (håndværk, handel, landbrug mv.), F.eks. Faglærte, Social-  </td><td>Not applicable                                                                </td><td>[7] Venstre, Danmarks Liberale Parti - Venstre                                </td></tr>\n",
       "\t<tr><td>950469                                                                        </td><td>7                                                                             </td><td>Very interested                                                               </td><td>Yes                                                                           </td><td>5                                                                             </td><td>8                                                                             </td><td>Good                                                                          </td><td>NA                                                                            </td><td>I don't smoke now but I used to                                               </td><td>Several times a week                                                          </td><td>Yes                                                                           </td><td>164                                                                           </td><td> 84                                                                           </td><td>Female                                                                        </td><td>1945                                                                          </td><td>Faglig uddannelse (håndværk, handel, landbrug mv.), F.eks. Faglærte, Social-  </td><td>Not applicable                                                                </td><td>[1] Socialdemokraterne - the Danish social democrats                          </td></tr>\n",
       "\t<tr><td>950477                                                                        </td><td>8                                                                             </td><td>Very interested                                                               </td><td>Yes                                                                           </td><td>9                                                                             </td><td>8                                                                             </td><td>Good                                                                          </td><td>NA                                                                            </td><td>I don't smoke now but I used to                                               </td><td>2-3 times a month                                                             </td><td>Yes                                                                           </td><td>180                                                                           </td><td> 90                                                                           </td><td>Male                                                                          </td><td>1942                                                                          </td><td>Faglig uddannelse (håndværk, handel, landbrug mv.), F.eks. Faglærte, Social-  </td><td>Not applicable                                                                </td><td>[7] Venstre, Danmarks Liberale Parti - Venstre                                </td></tr>\n",
       "\t<tr><td>950493                                                                        </td><td>5                                                                             </td><td>Very interested                                                               </td><td>Yes                                                                           </td><td>5                                                                             </td><td>9                                                                             </td><td>Good                                                                          </td><td>NA                                                                            </td><td>I don't smoke now but I used to                                               </td><td>Once a week                                                                   </td><td>Yes                                                                           </td><td>183                                                                           </td><td> 86                                                                           </td><td>Male                                                                          </td><td>1955                                                                          </td><td>Folkeskole 9.-10. klasse                                                      </td><td>Not applicable                                                                </td><td>[1] Socialdemokraterne - the Danish social democrats                          </td></tr>\n",
       "\t<tr><td>950508                                                                        </td><td>7                                                                             </td><td>Quite interested                                                              </td><td>Yes                                                                           </td><td>8                                                                             </td><td>8                                                                             </td><td>Very good                                                                     </td><td>NA                                                                            </td><td>I have never smoked                                                           </td><td>Once a week                                                                   </td><td>Yes                                                                           </td><td>173                                                                           </td><td> 75                                                                           </td><td>Male                                                                          </td><td>1966                                                                          </td><td>Mellemlang videregående uddannelse af 3-4 års varighed. Professionsbachelorer,</td><td>Not applicable                                                                </td><td>[7] Venstre, Danmarks Liberale Parti - Venstre                                </td></tr>\n",
       "\t<tr><td>950516                                                                        </td><td>3                                                                             </td><td>Quite interested                                                              </td><td>Yes                                                                           </td><td>7                                                                             </td><td>Extremely happy                                                               </td><td>Very good                                                                     </td><td>NA                                                                            </td><td>I have never smoked                                                           </td><td>2-3 times a month                                                             </td><td>Yes                                                                           </td><td>168                                                                           </td><td> 75                                                                           </td><td>Female                                                                        </td><td>1942                                                                          </td><td>Folkeskole 6.-8. klasse                                                       </td><td>Legally divorced/civil union dissolved                                        </td><td>[7] Venstre, Danmarks Liberale Parti - Venstre                                </td></tr>\n",
       "</tbody>\n",
       "</table>\n"
      ],
      "text/latex": [
       "\\begin{tabular}{r|llllllllllllllllll}\n",
       " idno & ppltrst & polintr & vote & lrscale & happy & health & cgtsday & cgtsmke & alcfreq & brncntr & height & weight & gndr & yrbrn & edlvddk & marsts & polpartvt\\\\\n",
       "\\hline\n",
       "\t 921018                                                                         & 6                                                                              & Hardly interested                                                              & Not eligible to vote                                                           & 4                                                                              & 9                                                                              & Very good                                                                      & 10                                                                             & I smoke but not every day                                                      & 2-3 times a month                                                              & Yes                                                                            & 178                                                                            &  64                                                                            & Male                                                                           & 1990                                                                           & Folkeskole 6.-8. klasse                                                        & None of these (NEVER married or in legally registered civil union)             & {[}NA{]} Not applicable                                                       \\\\\n",
       "\t 921026                                                                         & 8                                                                              & Quite interested                                                               & Yes                                                                            & 4                                                                              & 8                                                                              & Very good                                                                      & NA                                                                             & I have never smoked                                                            & Several times a week                                                           & Yes                                                                            & 172                                                                            &  64                                                                            & Female                                                                         & 1948                                                                           & Mellemlang videregående uddannelse af 3-4 års varighed. Professionsbachelorer, & Widowed/civil partner died                                                     & {[}1{]} Socialdemokraterne - the Danish social democrats                      \\\\\n",
       "\t 921034                                                                         & 8                                                                              & Quite interested                                                               & Yes                                                                            & 7                                                                              & 8                                                                              & Good                                                                           & NA                                                                             & I don't smoke now but I used to                                                & Every day                                                                      & Yes                                                                            & 176                                                                            &  87                                                                            & Male                                                                           & 1957                                                                           & Kort videregående uddannelse af op til 2-3 års varighed, F.eks. Erhvervsakadem & Not applicable                                                                 & {[}7{]} Venstre, Danmarks Liberale Parti - Venstre                            \\\\\n",
       "\t 921181                                                                         & 9                                                                              & Quite interested                                                               & Yes                                                                            & 5                                                                              & 9                                                                              & Fair                                                                           & NA                                                                             & I don't smoke now but I used to                                                & Once a week                                                                    & Yes                                                                            & 194                                                                            & 102                                                                            & Male                                                                           & 1956                                                                           & Faglig uddannelse (håndværk, handel, landbrug mv.), F.eks. Faglærte, Social-   & Not applicable                                                                 & {[}2{]} Det Radikale Venstre - Danish Social-Liberal Party                    \\\\\n",
       "\t 921204                                                                         & 9                                                                              & Hardly interested                                                              & Yes                                                                            & 7                                                                              & 8                                                                              & Good                                                                           & NA                                                                             & I don't smoke now but I used to                                                & Once a week                                                                    & No                                                                             & 157                                                                            &  48                                                                            & Female                                                                         & 1941                                                                           & Kort videregående uddannelse af op til 2-3 års varighed, F.eks. Erhvervsakadem & Not applicable                                                                 & {[}NA{]} Don't know                                                           \\\\\n",
       "\t 921262                                                                         & 8                                                                              & Hardly interested                                                              & Yes                                                                            & 7                                                                              & 8                                                                              & Very good                                                                      & NA                                                                             & I have never smoked                                                            & 2-3 times a month                                                              & Yes                                                                            & 180                                                                            &  93                                                                            & Male                                                                           & 1987                                                                           & Mellemlang videregående uddannelse af 3-4 års varighed. Professionsbachelorer, & None of these (NEVER married or in legally registered civil union)             & {[}7{]} Venstre, Danmarks Liberale Parti - Venstre                            \\\\\n",
       "\t 921319                                                                         & 8                                                                              & Very interested                                                                & Not eligible to vote                                                           & 8                                                                              & Extremely happy                                                                & Fair                                                                           & 10                                                                             & I smoke daily                                                                  & Once a week                                                                    & Yes                                                                            & 185                                                                            &  82                                                                            & Male                                                                           & 1997                                                                           & Folkeskole 9.-10. klasse                                                       & None of these (NEVER married or in legally registered civil union)             & {[}NA{]} Not applicable                                                       \\\\\n",
       "\t 921327                                                                         & 9                                                                              & Quite interested                                                               & Yes                                                                            & 2                                                                              & 9                                                                              & Good                                                                           & NA                                                                             & I don't smoke now but I used to                                                & Once a week                                                                    & Yes                                                                            & 182                                                                            &  97                                                                            & Male                                                                           & 1940                                                                           & Faglig uddannelse (håndværk, handel, landbrug mv.), F.eks. Faglærte, Social-   & Not applicable                                                                 & {[}9{]} Enhedslisten - Unity List - The Red-Green Alliance                    \\\\\n",
       "\t 921335                                                                         & 8                                                                              & Hardly interested                                                              & Yes                                                                            & 9                                                                              & 9                                                                              & Good                                                                           & NA                                                                             & I have never smoked                                                            & Several times a week                                                           & Yes                                                                            & 178                                                                            &  84                                                                            & Male                                                                           & 1945                                                                           & Faglig uddannelse (håndværk, handel, landbrug mv.), F.eks. Faglærte, Social-   & Not applicable                                                                 & {[}10{]} Andet - other                                                        \\\\\n",
       "\t 921408                                                                         & 7                                                                              & Quite interested                                                               & Yes                                                                            & 8                                                                              & 9                                                                              & Fair                                                                           &  1                                                                             & I smoke but not every day                                                      & Several times a week                                                           & Yes                                                                            & 203                                                                            & 104                                                                            & Male                                                                           & 1977                                                                           & Lang videregående uddannelse. Kandidatuddannelser af 5.-6. års varighed, F.eks & Not applicable                                                                 & {[}7{]} Venstre, Danmarks Liberale Parti - Venstre                            \\\\\n",
       "\t 921432                                                                         & 6                                                                              & Quite interested                                                               & Yes                                                                            & 7                                                                              & Extremely happy                                                                & Very good                                                                      &  6                                                                             & I smoke daily                                                                  & Once a week                                                                    & Yes                                                                            & 180                                                                            &  90                                                                            & Male                                                                           & 1989                                                                           & Mellemlang videregående uddannelse af 3-4 års varighed. Professionsbachelorer, & None of these (NEVER married or in legally registered civil union)             & {[}1{]} Socialdemokraterne - the Danish social democrats                      \\\\\n",
       "\t 921440                                                                         & 9                                                                              & Hardly interested                                                              & Yes                                                                            & 3                                                                              & 9                                                                              & Good                                                                           & NA                                                                             & I have only smoked a few times                                                 & Once a week                                                                    & Yes                                                                            & 178                                                                            &  76                                                                            & Male                                                                           & 1975                                                                           & Universitetsbachelor. 1. del af kandidatuddannelse                             & None of these (NEVER married or in legally registered civil union)             & {[}NA{]} Don't know                                                           \\\\\n",
       "\t 921490                                                                         & 4                                                                              & Quite interested                                                               & Yes                                                                            & 3                                                                              & Extremely happy                                                                & Very good                                                                      & NA                                                                             & I don't smoke now but I used to                                                & Never                                                                          & No                                                                             & 167                                                                            &  62                                                                            & Female                                                                         & 1965                                                                           & Mellemlang videregående uddannelse af 3-4 års varighed. Professionsbachelorer, & Not applicable                                                                 & {[}4{]} SF Socialistisk Folkeparti - Socialist People's Party                 \\\\\n",
       "\t 921539                                                                         & 7                                                                              & Quite interested                                                               & Yes                                                                            & 3                                                                              & 9                                                                              & Very good                                                                      &  5                                                                             & I smoke but not every day                                                      & Less than once a month                                                         & Yes                                                                            & 170                                                                            &  78                                                                            & Female                                                                         & 1982                                                                           & Mellemlang videregående uddannelse af 3-4 års varighed. Professionsbachelorer, & None of these (NEVER married or in legally registered civil union)             & {[}2{]} Det Radikale Venstre - Danish Social-Liberal Party                    \\\\\n",
       "\t 921571                                                                         & 8                                                                              & Very interested                                                                & Yes                                                                            & 3                                                                              & 9                                                                              & Fair                                                                           &  5                                                                             & I smoke daily                                                                  & Less than once a month                                                         & Yes                                                                            & 163                                                                            &  92                                                                            & Female                                                                         & 1978                                                                           & Kort videregående uddannelse af op til 2-3 års varighed, F.eks. Erhvervsakadem & Not applicable                                                                 & {[}5{]} Dansk Folkeparti - Danish peoples party                               \\\\\n",
       "\t 921610                                                                         & 6                                                                              & Very interested                                                                & Yes                                                                            & 5                                                                              & 9                                                                              & Good                                                                           & NA                                                                             & I have never smoked                                                            & Less than once a month                                                         & Yes                                                                            & 170                                                                            &  60                                                                            & Female                                                                         & 1978                                                                           & Mellemlang videregående uddannelse af 3-4 års varighed. Professionsbachelorer, & Not applicable                                                                 & {[}7{]} Venstre, Danmarks Liberale Parti - Venstre                            \\\\\n",
       "\t 921636                                                                         & 9                                                                              & Hardly interested                                                              & Not eligible to vote                                                           & 3                                                                              & 8                                                                              & Very good                                                                      & NA                                                                             & I have only smoked a few times                                                 & 2-3 times a month                                                              & Yes                                                                            & 185                                                                            &  68                                                                            & Male                                                                           & 1996                                                                           & Folkeskole 9.-10. klasse                                                       & None of these (NEVER married or in legally registered civil union)             & {[}NA{]} Not applicable                                                       \\\\\n",
       "\t 921660                                                                         & 8                                                                              & Very interested                                                                & Yes                                                                            & Left                                                                           & 6                                                                              & Very good                                                                      & NA                                                                             & I don't smoke now but I used to                                                & 2-3 times a month                                                              & Yes                                                                            & 173                                                                            &  76                                                                            & Male                                                                           & 1941                                                                           & Lang videregående uddannelse. Kandidatuddannelser af 5.-6. års varighed, F.eks & Not applicable                                                                 & {[}9{]} Enhedslisten - Unity List - The Red-Green Alliance                    \\\\\n",
       "\t 921678                                                                         & 4                                                                              & Not at all interested                                                          & Yes                                                                            & 5                                                                              & Extremely happy                                                                & Very good                                                                      & 10                                                                             & I smoke daily                                                                  & Every day                                                                      & Yes                                                                            & 178                                                                            &  65                                                                            & Male                                                                           & 1946                                                                           & Folkeskole 6.-8. klasse                                                        & Legally divorced/civil union dissolved                                         & {[}1{]} Socialdemokraterne - the Danish social democrats                      \\\\\n",
       "\t 921733                                                                         & 5                                                                              & Quite interested                                                               & Yes                                                                            & 6                                                                              & 3                                                                              & Fair                                                                           & NA                                                                             & I have never smoked                                                            & Several times a week                                                           & Yes                                                                            & 182                                                                            &  95                                                                            & Male                                                                           & 1960                                                                           & Mellemlang videregående uddannelse af 3-4 års varighed. Professionsbachelorer, & None of these (NEVER married or in legally registered civil union)             & {[}NA{]} Refusal                                                              \\\\\n",
       "\t 921814                                                                         & 9                                                                              & Very interested                                                                & Yes                                                                            & 7                                                                              & Extremely happy                                                                & Very good                                                                      & NA                                                                             & I have never smoked                                                            & Never                                                                          & Yes                                                                            & 196                                                                            &  90                                                                            & Male                                                                           & 1972                                                                           & Mellemlang videregående uddannelse af 3-4 års varighed. Professionsbachelorer, & Not applicable                                                                 & {[}2{]} Det Radikale Venstre - Danish Social-Liberal Party                    \\\\\n",
       "\t 921880                                                                         & 7                                                                              & Hardly interested                                                              & Yes                                                                            & 5                                                                              & 9                                                                              & Good                                                                           & NA                                                                             & I have never smoked                                                            & Once a week                                                                    & Yes                                                                            & 180                                                                            &  80                                                                            & Female                                                                         & 1963                                                                           & Kort videregående uddannelse af op til 2-3 års varighed, F.eks. Erhvervsakadem & Not applicable                                                                 & {[}1{]} Socialdemokraterne - the Danish social democrats                      \\\\\n",
       "\t 921911                                                                         & 5                                                                              & Hardly interested                                                              & Yes                                                                            & 6                                                                              & 1                                                                              & Bad                                                                            & 20                                                                             & I smoke daily                                                                  & Every day                                                                      & Yes                                                                            & 175                                                                            &  98                                                                            & Male                                                                           & 1969                                                                           & Folkeskole 6.-8. klasse                                                        & Legally divorced/civil union dissolved                                         & {[}2{]} Det Radikale Venstre - Danish Social-Liberal Party                    \\\\\n",
       "\t 921987                                                                         & 7                                                                              & Very interested                                                                & No                                                                             & 8                                                                              & 7                                                                              & Very good                                                                      & NA                                                                             & I have never smoked                                                            & Once a week                                                                    & Yes                                                                            & 179                                                                            &  74                                                                            & Male                                                                           & 1964                                                                           & Mellemlang videregående uddannelse af 3-4 års varighed. Professionsbachelorer, & Not applicable                                                                 & {[}NA{]} Not applicable                                                       \\\\\n",
       "\t 922056                                                                         & 6                                                                              & Hardly interested                                                              & Yes                                                                            & 4                                                                              & 8                                                                              & Good                                                                           & NA                                                                             & I have only smoked a few times                                                 & Every day                                                                      & No                                                                             & 153                                                                            &  58                                                                            & Female                                                                         & 1973                                                                           & Faglig uddannelse (håndværk, handel, landbrug mv.), F.eks. Faglærte, Social-   & None of these (NEVER married or in legally registered civil union)             & {[}NA{]} Don't know                                                           \\\\\n",
       "\t 922072                                                                         & 7                                                                              & Quite interested                                                               & Yes                                                                            & 4                                                                              & 9                                                                              & Very good                                                                      & NA                                                                             & I have never smoked                                                            & Once a month                                                                   & Yes                                                                            & 162                                                                            &  69                                                                            & Female                                                                         & 1988                                                                           & Gymnasielle uddannelser, studentereksamen, HF, HHX, HTX                        & None of these (NEVER married or in legally registered civil union)             & {[}NA{]} Refusal                                                              \\\\\n",
       "\t 922098                                                                         & 4                                                                              & Hardly interested                                                              & Yes                                                                            & 8                                                                              & 9                                                                              & Very good                                                                      &  3                                                                             & I smoke but not every day                                                      & Less than once a month                                                         & Yes                                                                            & 186                                                                            &  69                                                                            & Male                                                                           & 1947                                                                           & Mellemlang videregående uddannelse af 3-4 års varighed. Professionsbachelorer, & Not applicable                                                                 & {[}5{]} Dansk Folkeparti - Danish peoples party                               \\\\\n",
       "\t 922111                                                                         & 8                                                                              & Quite interested                                                               & Yes                                                                            & 7                                                                              & 9                                                                              & Very good                                                                      & NA                                                                             & I have never smoked                                                            & Every day                                                                      & Yes                                                                            & 169                                                                            &  60                                                                            & Female                                                                         & 1944                                                                           & Faglig uddannelse (håndværk, handel, landbrug mv.), F.eks. Faglærte, Social-   & Not applicable                                                                 & {[}5{]} Dansk Folkeparti - Danish peoples party                               \\\\\n",
       "\t 922129                                                                         & 4                                                                              & Very interested                                                                & Not eligible to vote                                                           & 4                                                                              & 8                                                                              & Good                                                                           & NA                                                                             & I have never smoked                                                            & Several times a week                                                           & Yes                                                                            & 185                                                                            &  70                                                                            & Male                                                                           & 1998                                                                           & Folkeskole 9.-10. klasse                                                       & None of these (NEVER married or in legally registered civil union)             & {[}NA{]} Not applicable                                                       \\\\\n",
       "\t 922226                                                                         & 5                                                                              & Quite interested                                                               & Yes                                                                            & 8                                                                              & 8                                                                              & Good                                                                           & NA                                                                             & I have never smoked                                                            & Several times a week                                                           & Yes                                                                            & 173                                                                            &  80                                                                            & Male                                                                           & 1941                                                                           & Faglig uddannelse (håndværk, handel, landbrug mv.), F.eks. Faglærte, Social-   & Not applicable                                                                 & {[}7{]} Venstre, Danmarks Liberale Parti - Venstre                            \\\\\n",
       "\t ... & ... & ... & ... & ... & ... & ... & ... & ... & ... & ... & ... & ... & ... & ... & ... & ... & ...\\\\\n",
       "\t 949321                                                                         & 8                                                                              & Quite interested                                                               & Yes                                                                            & 2                                                                              & Extremely happy                                                                & Very good                                                                      &  1                                                                             & I smoke but not every day                                                      & 2-3 times a month                                                              & Yes                                                                            & 176                                                                            &  77                                                                            & Female                                                                         & 1972                                                                           & Lang videregående uddannelse. Kandidatuddannelser af 5.-6. års varighed, F.eks & Not applicable                                                                 & {[}2{]} Det Radikale Venstre - Danish Social-Liberal Party                    \\\\\n",
       "\t 949363                                                                         & 8                                                                              & Quite interested                                                               & Yes                                                                            & 6                                                                              & 9                                                                              & Very good                                                                      &  5                                                                             & I smoke but not every day                                                      & Once a week                                                                    & Yes                                                                            & 165                                                                            &  63                                                                            & Female                                                                         & 1952                                                                           & Mellemlang videregående uddannelse af 3-4 års varighed. Professionsbachelorer, & Not applicable                                                                 & {[}2{]} Det Radikale Venstre - Danish Social-Liberal Party                    \\\\\n",
       "\t 949486                                                                         & 8                                                                              & Hardly interested                                                              & Yes                                                                            & 5                                                                              & 8                                                                              & Good                                                                           & NA                                                                             & I have only smoked a few times                                                 & Once a week                                                                    & Yes                                                                            & 164                                                                            &  75                                                                            & Female                                                                         & 1962                                                                           & Folkeskole 9.-10. klasse                                                       & Not applicable                                                                 & {[}9{]} Enhedslisten - Unity List - The Red-Green Alliance                    \\\\\n",
       "\t 949509                                                                         & 9                                                                              & Very interested                                                                & Yes                                                                            & 3                                                                              & 9                                                                              & Good                                                                           & NA                                                                             & I don't smoke now but I used to                                                & Several times a week                                                           & Yes                                                                            & 192                                                                            &  76                                                                            & Male                                                                           & 1989                                                                           & Mellemlang videregående uddannelse af 3-4 års varighed. Professionsbachelorer, & None of these (NEVER married or in legally registered civil union)             & {[}9{]} Enhedslisten - Unity List - The Red-Green Alliance                    \\\\\n",
       "\t 949541                                                                         & 8                                                                              & Quite interested                                                               & Yes                                                                            & 3                                                                              & 8                                                                              & Fair                                                                           & NA                                                                             & I don't smoke now but I used to                                                & Less than once a month                                                         & Yes                                                                            & 172                                                                            & 110                                                                            & Female                                                                         & 1958                                                                           & Mellemlang videregående uddannelse af 3-4 års varighed. Professionsbachelorer, & Not applicable                                                                 & {[}9{]} Enhedslisten - Unity List - The Red-Green Alliance                    \\\\\n",
       "\t 949591                                                                         & 9                                                                              & Very interested                                                                & Yes                                                                            & 7                                                                              & 9                                                                              & Very good                                                                      & NA                                                                             & I don't smoke now but I used to                                                & Once a week                                                                    & Yes                                                                            & 180                                                                            &  94                                                                            & Male                                                                           & 1971                                                                           & Gymnasielle uddannelser, studentereksamen, HF, HHX, HTX                        & Not applicable                                                                 & {[}2{]} Det Radikale Venstre - Danish Social-Liberal Party                    \\\\\n",
       "\t 949606                                                                         & 4                                                                              & Not at all interested                                                          & Yes                                                                            & 5                                                                              & Extremely happy                                                                & Very good                                                                      & NA                                                                             & I don't smoke now but I used to                                                & Less than once a month                                                         & Yes                                                                            & 170                                                                            & 130                                                                            & Female                                                                         & 1993                                                                           & Folkeskole 9.-10. klasse                                                       & None of these (NEVER married or in legally registered civil union)             & {[}NA{]} Don't know                                                           \\\\\n",
       "\t 949614                                                                         & 8                                                                              & Very interested                                                                & Yes                                                                            & 5                                                                              & 8                                                                              & Very good                                                                      & NA                                                                             & I have never smoked                                                            & Several times a week                                                           & No                                                                             & 186                                                                            &  90                                                                            & Male                                                                           & 1934                                                                           & Lang videregående uddannelse. Kandidatuddannelser af 5.-6. års varighed, F.eks & Legally married                                                                & {[}5{]} Dansk Folkeparti - Danish peoples party                               \\\\\n",
       "\t 949622                                                                         & 8                                                                              & Very interested                                                                & Yes                                                                            & 2                                                                              & 9                                                                              & Very good                                                                      & NA                                                                             & I don't smoke now but I used to                                                & 2-3 times a month                                                              & Yes                                                                            & 167                                                                            &  95                                                                            & Female                                                                         & 1955                                                                           & Universitetsbachelor. 1. del af kandidatuddannelse                             & Not applicable                                                                 & {[}1{]} Socialdemokraterne - the Danish social democrats                      \\\\\n",
       "\t 949630                                                                         & 7                                                                              & Hardly interested                                                              & Not eligible to vote                                                           & Don't know                                                                     & 8                                                                              & Very good                                                                      & 10                                                                             & I smoke daily                                                                  & Several times a week                                                           & Yes                                                                            & 168                                                                            &  55                                                                            & Female                                                                         & 1995                                                                           & Gymnasielle uddannelser, studentereksamen, HF, HHX, HTX                        & None of these (NEVER married or in legally registered civil union)             & {[}NA{]} Not applicable                                                       \\\\\n",
       "\t 949648                                                                         & 6                                                                              & Hardly interested                                                              & Yes                                                                            & Right                                                                          & 9                                                                              & Bad                                                                            & NA                                                                             & I have only smoked a few times                                                 & Several times a week                                                           & Yes                                                                            & 195                                                                            & 110                                                                            & Male                                                                           & 1980                                                                           & Faglig uddannelse (håndværk, handel, landbrug mv.), F.eks. Faglærte, Social-   & Not applicable                                                                 & {[}5{]} Dansk Folkeparti - Danish peoples party                               \\\\\n",
       "\t 949680                                                                         & 8                                                                              & Quite interested                                                               & Yes                                                                            & 3                                                                              & 9                                                                              & Fair                                                                           & NA                                                                             & I don't smoke now but I used to                                                & Every day                                                                      & Yes                                                                            & 174                                                                            &  81                                                                            & Male                                                                           & 1936                                                                           & Faglig uddannelse (håndværk, handel, landbrug mv.), F.eks. Faglærte, Social-   & Widowed/civil partner died                                                     & {[}1{]} Socialdemokraterne - the Danish social democrats                      \\\\\n",
       "\t 949711                                                                         & 5                                                                              & Quite interested                                                               & Yes                                                                            & 8                                                                              & 8                                                                              & Good                                                                           & NA                                                                             & I have never smoked                                                            & Once a month                                                                   & Yes                                                                            & 165                                                                            &  88                                                                            & Male                                                                           & 1927                                                                           & Faglig uddannelse (håndværk, handel, landbrug mv.), F.eks. Faglærte, Social-   & Not applicable                                                                 & {[}5{]} Dansk Folkeparti - Danish peoples party                               \\\\\n",
       "\t 949787                                                                         & 9                                                                              & Very interested                                                                & Yes                                                                            & 7                                                                              & 8                                                                              & Very good                                                                      & 20                                                                             & I smoke daily                                                                  & Once a week                                                                    & Yes                                                                            & 176                                                                            &  58                                                                            & Female                                                                         & 1967                                                                           & Faglig uddannelse (håndværk, handel, landbrug mv.), F.eks. Faglærte, Social-   & Legally divorced/civil union dissolved                                         & {[}3{]} Det Konservative Folkeparti - Conservative                            \\\\\n",
       "\t 949800                                                                         & 8                                                                              & Quite interested                                                               & Yes                                                                            & 3                                                                              & 9                                                                              & Good                                                                           &  5                                                                             & I smoke daily                                                                  & Once a week                                                                    & Yes                                                                            & 173                                                                            &  78                                                                            & Female                                                                         & 1958                                                                           & Universitetsbachelor. 1. del af kandidatuddannelse                             & Legally divorced/civil union dissolved                                         & {[}2{]} Det Radikale Venstre - Danish Social-Liberal Party                    \\\\\n",
       "\t 949892                                                                         & 6                                                                              & Not at all interested                                                          & No                                                                             & 2                                                                              & 3                                                                              & Fair                                                                           & 20                                                                             & I smoke daily                                                                  & Every day                                                                      & Yes                                                                            & 174                                                                            &  92                                                                            & Male                                                                           & 1964                                                                           & Folkeskole 6.-8. klasse                                                        & Legally divorced/civil union dissolved                                         & {[}NA{]} Not applicable                                                       \\\\\n",
       "\t 949907                                                                         & 7                                                                              & Very interested                                                                & Yes                                                                            & 8                                                                              & 8                                                                              & Very good                                                                      & NA                                                                             & I don't smoke now but I used to                                                & Several times a week                                                           & Yes                                                                            & 180                                                                            &  80                                                                            & Male                                                                           & 1942                                                                           & Kort videregående uddannelse af op til 2-3 års varighed, F.eks. Erhvervsakadem & Not applicable                                                                 & {[}7{]} Venstre, Danmarks Liberale Parti - Venstre                            \\\\\n",
       "\t 949931                                                                         & 7                                                                              & Quite interested                                                               & Yes                                                                            & 7                                                                              & Extremely happy                                                                & Fair                                                                           & NA                                                                             & I have never smoked                                                            & Once a week                                                                    & Yes                                                                            & 160                                                                            &  72                                                                            & Female                                                                         & 1924                                                                           & Folkeskole 6.-8. klasse                                                        & Widowed/civil partner died                                                     & {[}7{]} Venstre, Danmarks Liberale Parti - Venstre                            \\\\\n",
       "\t 949999                                                                         & 8                                                                              & Hardly interested                                                              & Not eligible to vote                                                           & 4                                                                              & 4                                                                              & Good                                                                           & NA                                                                             & I have only smoked a few times                                                 & Several times a week                                                           & No                                                                             & 200                                                                            &  88                                                                            & Male                                                                           & 1994                                                                           & Gymnasielle uddannelser, studentereksamen, HF, HHX, HTX                        & None of these (NEVER married or in legally registered civil union)             & {[}NA{]} Not applicable                                                       \\\\\n",
       "\t 950079                                                                         & 6                                                                              & Very interested                                                                & Yes                                                                            & 8                                                                              & 9                                                                              & Very good                                                                      & NA                                                                             & I have never smoked                                                            & Never                                                                          & Yes                                                                            & 172                                                                            &  76                                                                            & Male                                                                           & 1973                                                                           & Folkeskole 9.-10. klasse                                                       & In a legally registered civil union                                            & {[}5{]} Dansk Folkeparti - Danish peoples party                               \\\\\n",
       "\t 950134                                                                         & 9                                                                              & Quite interested                                                               & Yes                                                                            & 5                                                                              & 9                                                                              & Very good                                                                      & NA                                                                             & I have never smoked                                                            & Less than once a month                                                         & No                                                                             & 170                                                                            &  52                                                                            & Female                                                                         & 1960                                                                           & Forskeruddannelse. Ph.d., doktor                                               & Not applicable                                                                 & {[}1{]} Socialdemokraterne - the Danish social democrats                      \\\\\n",
       "\t 950150                                                                         & 6                                                                              & Quite interested                                                               & Yes                                                                            & 7                                                                              & 8                                                                              & Good                                                                           & NA                                                                             & I don't smoke now but I used to                                                & Several times a week                                                           & Yes                                                                            & 186                                                                            &  80                                                                            & Male                                                                           & 1956                                                                           & Faglig uddannelse (håndværk, handel, landbrug mv.), F.eks. Faglærte, Social-   & Not applicable                                                                 & {[}3{]} Det Konservative Folkeparti - Conservative                            \\\\\n",
       "\t 950184                                                                         & 8                                                                              & Very interested                                                                & Yes                                                                            & Left                                                                           & 8                                                                              & Fair                                                                           & 20                                                                             & I smoke daily                                                                  & 2-3 times a month                                                              & Yes                                                                            & 167                                                                            & 109                                                                            & Female                                                                         & 1960                                                                           & Kort videregående uddannelse af op til 2-3 års varighed, F.eks. Erhvervsakadem & Not applicable                                                                 & {[}9{]} Enhedslisten - Unity List - The Red-Green Alliance                    \\\\\n",
       "\t 950320                                                                         & 7                                                                              & Very interested                                                                & Yes                                                                            & 5                                                                              & Extremely happy                                                                & Good                                                                           & NA                                                                             & I have never smoked                                                            & Once a week                                                                    & Yes                                                                            & 185                                                                            &  96                                                                            & Male                                                                           & 1960                                                                           & Universitetsbachelor. 1. del af kandidatuddannelse                             & Not applicable                                                                 & {[}2{]} Det Radikale Venstre - Danish Social-Liberal Party                    \\\\\n",
       "\t 950362                                                                         & 4                                                                              & Hardly interested                                                              & Yes                                                                            & 2                                                                              & 9                                                                              & Good                                                                           & NA                                                                             & I don't smoke now but I used to                                                & Once a month                                                                   & Yes                                                                            & 176                                                                            &  68                                                                            & Male                                                                           & 1979                                                                           & Faglig uddannelse (håndværk, handel, landbrug mv.), F.eks. Faglærte, Social-   & Not applicable                                                                 & {[}7{]} Venstre, Danmarks Liberale Parti - Venstre                            \\\\\n",
       "\t 950469                                                                         & 7                                                                              & Very interested                                                                & Yes                                                                            & 5                                                                              & 8                                                                              & Good                                                                           & NA                                                                             & I don't smoke now but I used to                                                & Several times a week                                                           & Yes                                                                            & 164                                                                            &  84                                                                            & Female                                                                         & 1945                                                                           & Faglig uddannelse (håndværk, handel, landbrug mv.), F.eks. Faglærte, Social-   & Not applicable                                                                 & {[}1{]} Socialdemokraterne - the Danish social democrats                      \\\\\n",
       "\t 950477                                                                         & 8                                                                              & Very interested                                                                & Yes                                                                            & 9                                                                              & 8                                                                              & Good                                                                           & NA                                                                             & I don't smoke now but I used to                                                & 2-3 times a month                                                              & Yes                                                                            & 180                                                                            &  90                                                                            & Male                                                                           & 1942                                                                           & Faglig uddannelse (håndværk, handel, landbrug mv.), F.eks. Faglærte, Social-   & Not applicable                                                                 & {[}7{]} Venstre, Danmarks Liberale Parti - Venstre                            \\\\\n",
       "\t 950493                                                                         & 5                                                                              & Very interested                                                                & Yes                                                                            & 5                                                                              & 9                                                                              & Good                                                                           & NA                                                                             & I don't smoke now but I used to                                                & Once a week                                                                    & Yes                                                                            & 183                                                                            &  86                                                                            & Male                                                                           & 1955                                                                           & Folkeskole 9.-10. klasse                                                       & Not applicable                                                                 & {[}1{]} Socialdemokraterne - the Danish social democrats                      \\\\\n",
       "\t 950508                                                                         & 7                                                                              & Quite interested                                                               & Yes                                                                            & 8                                                                              & 8                                                                              & Very good                                                                      & NA                                                                             & I have never smoked                                                            & Once a week                                                                    & Yes                                                                            & 173                                                                            &  75                                                                            & Male                                                                           & 1966                                                                           & Mellemlang videregående uddannelse af 3-4 års varighed. Professionsbachelorer, & Not applicable                                                                 & {[}7{]} Venstre, Danmarks Liberale Parti - Venstre                            \\\\\n",
       "\t 950516                                                                         & 3                                                                              & Quite interested                                                               & Yes                                                                            & 7                                                                              & Extremely happy                                                                & Very good                                                                      & NA                                                                             & I have never smoked                                                            & 2-3 times a month                                                              & Yes                                                                            & 168                                                                            &  75                                                                            & Female                                                                         & 1942                                                                           & Folkeskole 6.-8. klasse                                                        & Legally divorced/civil union dissolved                                         & {[}7{]} Venstre, Danmarks Liberale Parti - Venstre                            \\\\\n",
       "\\end{tabular}\n"
      ],
      "text/markdown": [
       "\n",
       "| idno | ppltrst | polintr | vote | lrscale | happy | health | cgtsday | cgtsmke | alcfreq | brncntr | height | weight | gndr | yrbrn | edlvddk | marsts | polpartvt |\n",
       "|---|---|---|---|---|---|---|---|---|---|---|---|---|---|---|---|---|---|\n",
       "| 921018                                                                         | 6                                                                              | Hardly interested                                                              | Not eligible to vote                                                           | 4                                                                              | 9                                                                              | Very good                                                                      | 10                                                                             | I smoke but not every day                                                      | 2-3 times a month                                                              | Yes                                                                            | 178                                                                            |  64                                                                            | Male                                                                           | 1990                                                                           | Folkeskole 6.-8. klasse                                                        | None of these (NEVER married or in legally registered civil union)             | [NA] Not applicable                                                            |\n",
       "| 921026                                                                         | 8                                                                              | Quite interested                                                               | Yes                                                                            | 4                                                                              | 8                                                                              | Very good                                                                      | NA                                                                             | I have never smoked                                                            | Several times a week                                                           | Yes                                                                            | 172                                                                            |  64                                                                            | Female                                                                         | 1948                                                                           | Mellemlang videregående uddannelse af 3-4 års varighed. Professionsbachelorer, | Widowed/civil partner died                                                     | [1] Socialdemokraterne - the Danish social democrats                           |\n",
       "| 921034                                                                         | 8                                                                              | Quite interested                                                               | Yes                                                                            | 7                                                                              | 8                                                                              | Good                                                                           | NA                                                                             | I don't smoke now but I used to                                                | Every day                                                                      | Yes                                                                            | 176                                                                            |  87                                                                            | Male                                                                           | 1957                                                                           | Kort videregående uddannelse af op til 2-3 års varighed, F.eks. Erhvervsakadem | Not applicable                                                                 | [7] Venstre, Danmarks Liberale Parti - Venstre                                 |\n",
       "| 921181                                                                         | 9                                                                              | Quite interested                                                               | Yes                                                                            | 5                                                                              | 9                                                                              | Fair                                                                           | NA                                                                             | I don't smoke now but I used to                                                | Once a week                                                                    | Yes                                                                            | 194                                                                            | 102                                                                            | Male                                                                           | 1956                                                                           | Faglig uddannelse (håndværk, handel, landbrug mv.), F.eks. Faglærte, Social-   | Not applicable                                                                 | [2] Det Radikale Venstre - Danish Social-Liberal Party                         |\n",
       "| 921204                                                                         | 9                                                                              | Hardly interested                                                              | Yes                                                                            | 7                                                                              | 8                                                                              | Good                                                                           | NA                                                                             | I don't smoke now but I used to                                                | Once a week                                                                    | No                                                                             | 157                                                                            |  48                                                                            | Female                                                                         | 1941                                                                           | Kort videregående uddannelse af op til 2-3 års varighed, F.eks. Erhvervsakadem | Not applicable                                                                 | [NA] Don't know                                                                |\n",
       "| 921262                                                                         | 8                                                                              | Hardly interested                                                              | Yes                                                                            | 7                                                                              | 8                                                                              | Very good                                                                      | NA                                                                             | I have never smoked                                                            | 2-3 times a month                                                              | Yes                                                                            | 180                                                                            |  93                                                                            | Male                                                                           | 1987                                                                           | Mellemlang videregående uddannelse af 3-4 års varighed. Professionsbachelorer, | None of these (NEVER married or in legally registered civil union)             | [7] Venstre, Danmarks Liberale Parti - Venstre                                 |\n",
       "| 921319                                                                         | 8                                                                              | Very interested                                                                | Not eligible to vote                                                           | 8                                                                              | Extremely happy                                                                | Fair                                                                           | 10                                                                             | I smoke daily                                                                  | Once a week                                                                    | Yes                                                                            | 185                                                                            |  82                                                                            | Male                                                                           | 1997                                                                           | Folkeskole 9.-10. klasse                                                       | None of these (NEVER married or in legally registered civil union)             | [NA] Not applicable                                                            |\n",
       "| 921327                                                                         | 9                                                                              | Quite interested                                                               | Yes                                                                            | 2                                                                              | 9                                                                              | Good                                                                           | NA                                                                             | I don't smoke now but I used to                                                | Once a week                                                                    | Yes                                                                            | 182                                                                            |  97                                                                            | Male                                                                           | 1940                                                                           | Faglig uddannelse (håndværk, handel, landbrug mv.), F.eks. Faglærte, Social-   | Not applicable                                                                 | [9] Enhedslisten - Unity List - The Red-Green Alliance                         |\n",
       "| 921335                                                                         | 8                                                                              | Hardly interested                                                              | Yes                                                                            | 9                                                                              | 9                                                                              | Good                                                                           | NA                                                                             | I have never smoked                                                            | Several times a week                                                           | Yes                                                                            | 178                                                                            |  84                                                                            | Male                                                                           | 1945                                                                           | Faglig uddannelse (håndværk, handel, landbrug mv.), F.eks. Faglærte, Social-   | Not applicable                                                                 | [10] Andet - other                                                             |\n",
       "| 921408                                                                         | 7                                                                              | Quite interested                                                               | Yes                                                                            | 8                                                                              | 9                                                                              | Fair                                                                           |  1                                                                             | I smoke but not every day                                                      | Several times a week                                                           | Yes                                                                            | 203                                                                            | 104                                                                            | Male                                                                           | 1977                                                                           | Lang videregående uddannelse. Kandidatuddannelser af 5.-6. års varighed, F.eks | Not applicable                                                                 | [7] Venstre, Danmarks Liberale Parti - Venstre                                 |\n",
       "| 921432                                                                         | 6                                                                              | Quite interested                                                               | Yes                                                                            | 7                                                                              | Extremely happy                                                                | Very good                                                                      |  6                                                                             | I smoke daily                                                                  | Once a week                                                                    | Yes                                                                            | 180                                                                            |  90                                                                            | Male                                                                           | 1989                                                                           | Mellemlang videregående uddannelse af 3-4 års varighed. Professionsbachelorer, | None of these (NEVER married or in legally registered civil union)             | [1] Socialdemokraterne - the Danish social democrats                           |\n",
       "| 921440                                                                         | 9                                                                              | Hardly interested                                                              | Yes                                                                            | 3                                                                              | 9                                                                              | Good                                                                           | NA                                                                             | I have only smoked a few times                                                 | Once a week                                                                    | Yes                                                                            | 178                                                                            |  76                                                                            | Male                                                                           | 1975                                                                           | Universitetsbachelor. 1. del af kandidatuddannelse                             | None of these (NEVER married or in legally registered civil union)             | [NA] Don't know                                                                |\n",
       "| 921490                                                                         | 4                                                                              | Quite interested                                                               | Yes                                                                            | 3                                                                              | Extremely happy                                                                | Very good                                                                      | NA                                                                             | I don't smoke now but I used to                                                | Never                                                                          | No                                                                             | 167                                                                            |  62                                                                            | Female                                                                         | 1965                                                                           | Mellemlang videregående uddannelse af 3-4 års varighed. Professionsbachelorer, | Not applicable                                                                 | [4] SF Socialistisk Folkeparti - Socialist People's Party                      |\n",
       "| 921539                                                                         | 7                                                                              | Quite interested                                                               | Yes                                                                            | 3                                                                              | 9                                                                              | Very good                                                                      |  5                                                                             | I smoke but not every day                                                      | Less than once a month                                                         | Yes                                                                            | 170                                                                            |  78                                                                            | Female                                                                         | 1982                                                                           | Mellemlang videregående uddannelse af 3-4 års varighed. Professionsbachelorer, | None of these (NEVER married or in legally registered civil union)             | [2] Det Radikale Venstre - Danish Social-Liberal Party                         |\n",
       "| 921571                                                                         | 8                                                                              | Very interested                                                                | Yes                                                                            | 3                                                                              | 9                                                                              | Fair                                                                           |  5                                                                             | I smoke daily                                                                  | Less than once a month                                                         | Yes                                                                            | 163                                                                            |  92                                                                            | Female                                                                         | 1978                                                                           | Kort videregående uddannelse af op til 2-3 års varighed, F.eks. Erhvervsakadem | Not applicable                                                                 | [5] Dansk Folkeparti - Danish peoples party                                    |\n",
       "| 921610                                                                         | 6                                                                              | Very interested                                                                | Yes                                                                            | 5                                                                              | 9                                                                              | Good                                                                           | NA                                                                             | I have never smoked                                                            | Less than once a month                                                         | Yes                                                                            | 170                                                                            |  60                                                                            | Female                                                                         | 1978                                                                           | Mellemlang videregående uddannelse af 3-4 års varighed. Professionsbachelorer, | Not applicable                                                                 | [7] Venstre, Danmarks Liberale Parti - Venstre                                 |\n",
       "| 921636                                                                         | 9                                                                              | Hardly interested                                                              | Not eligible to vote                                                           | 3                                                                              | 8                                                                              | Very good                                                                      | NA                                                                             | I have only smoked a few times                                                 | 2-3 times a month                                                              | Yes                                                                            | 185                                                                            |  68                                                                            | Male                                                                           | 1996                                                                           | Folkeskole 9.-10. klasse                                                       | None of these (NEVER married or in legally registered civil union)             | [NA] Not applicable                                                            |\n",
       "| 921660                                                                         | 8                                                                              | Very interested                                                                | Yes                                                                            | Left                                                                           | 6                                                                              | Very good                                                                      | NA                                                                             | I don't smoke now but I used to                                                | 2-3 times a month                                                              | Yes                                                                            | 173                                                                            |  76                                                                            | Male                                                                           | 1941                                                                           | Lang videregående uddannelse. Kandidatuddannelser af 5.-6. års varighed, F.eks | Not applicable                                                                 | [9] Enhedslisten - Unity List - The Red-Green Alliance                         |\n",
       "| 921678                                                                         | 4                                                                              | Not at all interested                                                          | Yes                                                                            | 5                                                                              | Extremely happy                                                                | Very good                                                                      | 10                                                                             | I smoke daily                                                                  | Every day                                                                      | Yes                                                                            | 178                                                                            |  65                                                                            | Male                                                                           | 1946                                                                           | Folkeskole 6.-8. klasse                                                        | Legally divorced/civil union dissolved                                         | [1] Socialdemokraterne - the Danish social democrats                           |\n",
       "| 921733                                                                         | 5                                                                              | Quite interested                                                               | Yes                                                                            | 6                                                                              | 3                                                                              | Fair                                                                           | NA                                                                             | I have never smoked                                                            | Several times a week                                                           | Yes                                                                            | 182                                                                            |  95                                                                            | Male                                                                           | 1960                                                                           | Mellemlang videregående uddannelse af 3-4 års varighed. Professionsbachelorer, | None of these (NEVER married or in legally registered civil union)             | [NA] Refusal                                                                   |\n",
       "| 921814                                                                         | 9                                                                              | Very interested                                                                | Yes                                                                            | 7                                                                              | Extremely happy                                                                | Very good                                                                      | NA                                                                             | I have never smoked                                                            | Never                                                                          | Yes                                                                            | 196                                                                            |  90                                                                            | Male                                                                           | 1972                                                                           | Mellemlang videregående uddannelse af 3-4 års varighed. Professionsbachelorer, | Not applicable                                                                 | [2] Det Radikale Venstre - Danish Social-Liberal Party                         |\n",
       "| 921880                                                                         | 7                                                                              | Hardly interested                                                              | Yes                                                                            | 5                                                                              | 9                                                                              | Good                                                                           | NA                                                                             | I have never smoked                                                            | Once a week                                                                    | Yes                                                                            | 180                                                                            |  80                                                                            | Female                                                                         | 1963                                                                           | Kort videregående uddannelse af op til 2-3 års varighed, F.eks. Erhvervsakadem | Not applicable                                                                 | [1] Socialdemokraterne - the Danish social democrats                           |\n",
       "| 921911                                                                         | 5                                                                              | Hardly interested                                                              | Yes                                                                            | 6                                                                              | 1                                                                              | Bad                                                                            | 20                                                                             | I smoke daily                                                                  | Every day                                                                      | Yes                                                                            | 175                                                                            |  98                                                                            | Male                                                                           | 1969                                                                           | Folkeskole 6.-8. klasse                                                        | Legally divorced/civil union dissolved                                         | [2] Det Radikale Venstre - Danish Social-Liberal Party                         |\n",
       "| 921987                                                                         | 7                                                                              | Very interested                                                                | No                                                                             | 8                                                                              | 7                                                                              | Very good                                                                      | NA                                                                             | I have never smoked                                                            | Once a week                                                                    | Yes                                                                            | 179                                                                            |  74                                                                            | Male                                                                           | 1964                                                                           | Mellemlang videregående uddannelse af 3-4 års varighed. Professionsbachelorer, | Not applicable                                                                 | [NA] Not applicable                                                            |\n",
       "| 922056                                                                         | 6                                                                              | Hardly interested                                                              | Yes                                                                            | 4                                                                              | 8                                                                              | Good                                                                           | NA                                                                             | I have only smoked a few times                                                 | Every day                                                                      | No                                                                             | 153                                                                            |  58                                                                            | Female                                                                         | 1973                                                                           | Faglig uddannelse (håndværk, handel, landbrug mv.), F.eks. Faglærte, Social-   | None of these (NEVER married or in legally registered civil union)             | [NA] Don't know                                                                |\n",
       "| 922072                                                                         | 7                                                                              | Quite interested                                                               | Yes                                                                            | 4                                                                              | 9                                                                              | Very good                                                                      | NA                                                                             | I have never smoked                                                            | Once a month                                                                   | Yes                                                                            | 162                                                                            |  69                                                                            | Female                                                                         | 1988                                                                           | Gymnasielle uddannelser, studentereksamen, HF, HHX, HTX                        | None of these (NEVER married or in legally registered civil union)             | [NA] Refusal                                                                   |\n",
       "| 922098                                                                         | 4                                                                              | Hardly interested                                                              | Yes                                                                            | 8                                                                              | 9                                                                              | Very good                                                                      |  3                                                                             | I smoke but not every day                                                      | Less than once a month                                                         | Yes                                                                            | 186                                                                            |  69                                                                            | Male                                                                           | 1947                                                                           | Mellemlang videregående uddannelse af 3-4 års varighed. Professionsbachelorer, | Not applicable                                                                 | [5] Dansk Folkeparti - Danish peoples party                                    |\n",
       "| 922111                                                                         | 8                                                                              | Quite interested                                                               | Yes                                                                            | 7                                                                              | 9                                                                              | Very good                                                                      | NA                                                                             | I have never smoked                                                            | Every day                                                                      | Yes                                                                            | 169                                                                            |  60                                                                            | Female                                                                         | 1944                                                                           | Faglig uddannelse (håndværk, handel, landbrug mv.), F.eks. Faglærte, Social-   | Not applicable                                                                 | [5] Dansk Folkeparti - Danish peoples party                                    |\n",
       "| 922129                                                                         | 4                                                                              | Very interested                                                                | Not eligible to vote                                                           | 4                                                                              | 8                                                                              | Good                                                                           | NA                                                                             | I have never smoked                                                            | Several times a week                                                           | Yes                                                                            | 185                                                                            |  70                                                                            | Male                                                                           | 1998                                                                           | Folkeskole 9.-10. klasse                                                       | None of these (NEVER married or in legally registered civil union)             | [NA] Not applicable                                                            |\n",
       "| 922226                                                                         | 5                                                                              | Quite interested                                                               | Yes                                                                            | 8                                                                              | 8                                                                              | Good                                                                           | NA                                                                             | I have never smoked                                                            | Several times a week                                                           | Yes                                                                            | 173                                                                            |  80                                                                            | Male                                                                           | 1941                                                                           | Faglig uddannelse (håndværk, handel, landbrug mv.), F.eks. Faglærte, Social-   | Not applicable                                                                 | [7] Venstre, Danmarks Liberale Parti - Venstre                                 |\n",
       "| ... | ... | ... | ... | ... | ... | ... | ... | ... | ... | ... | ... | ... | ... | ... | ... | ... | ... |\n",
       "| 949321                                                                         | 8                                                                              | Quite interested                                                               | Yes                                                                            | 2                                                                              | Extremely happy                                                                | Very good                                                                      |  1                                                                             | I smoke but not every day                                                      | 2-3 times a month                                                              | Yes                                                                            | 176                                                                            |  77                                                                            | Female                                                                         | 1972                                                                           | Lang videregående uddannelse. Kandidatuddannelser af 5.-6. års varighed, F.eks | Not applicable                                                                 | [2] Det Radikale Venstre - Danish Social-Liberal Party                         |\n",
       "| 949363                                                                         | 8                                                                              | Quite interested                                                               | Yes                                                                            | 6                                                                              | 9                                                                              | Very good                                                                      |  5                                                                             | I smoke but not every day                                                      | Once a week                                                                    | Yes                                                                            | 165                                                                            |  63                                                                            | Female                                                                         | 1952                                                                           | Mellemlang videregående uddannelse af 3-4 års varighed. Professionsbachelorer, | Not applicable                                                                 | [2] Det Radikale Venstre - Danish Social-Liberal Party                         |\n",
       "| 949486                                                                         | 8                                                                              | Hardly interested                                                              | Yes                                                                            | 5                                                                              | 8                                                                              | Good                                                                           | NA                                                                             | I have only smoked a few times                                                 | Once a week                                                                    | Yes                                                                            | 164                                                                            |  75                                                                            | Female                                                                         | 1962                                                                           | Folkeskole 9.-10. klasse                                                       | Not applicable                                                                 | [9] Enhedslisten - Unity List - The Red-Green Alliance                         |\n",
       "| 949509                                                                         | 9                                                                              | Very interested                                                                | Yes                                                                            | 3                                                                              | 9                                                                              | Good                                                                           | NA                                                                             | I don't smoke now but I used to                                                | Several times a week                                                           | Yes                                                                            | 192                                                                            |  76                                                                            | Male                                                                           | 1989                                                                           | Mellemlang videregående uddannelse af 3-4 års varighed. Professionsbachelorer, | None of these (NEVER married or in legally registered civil union)             | [9] Enhedslisten - Unity List - The Red-Green Alliance                         |\n",
       "| 949541                                                                         | 8                                                                              | Quite interested                                                               | Yes                                                                            | 3                                                                              | 8                                                                              | Fair                                                                           | NA                                                                             | I don't smoke now but I used to                                                | Less than once a month                                                         | Yes                                                                            | 172                                                                            | 110                                                                            | Female                                                                         | 1958                                                                           | Mellemlang videregående uddannelse af 3-4 års varighed. Professionsbachelorer, | Not applicable                                                                 | [9] Enhedslisten - Unity List - The Red-Green Alliance                         |\n",
       "| 949591                                                                         | 9                                                                              | Very interested                                                                | Yes                                                                            | 7                                                                              | 9                                                                              | Very good                                                                      | NA                                                                             | I don't smoke now but I used to                                                | Once a week                                                                    | Yes                                                                            | 180                                                                            |  94                                                                            | Male                                                                           | 1971                                                                           | Gymnasielle uddannelser, studentereksamen, HF, HHX, HTX                        | Not applicable                                                                 | [2] Det Radikale Venstre - Danish Social-Liberal Party                         |\n",
       "| 949606                                                                         | 4                                                                              | Not at all interested                                                          | Yes                                                                            | 5                                                                              | Extremely happy                                                                | Very good                                                                      | NA                                                                             | I don't smoke now but I used to                                                | Less than once a month                                                         | Yes                                                                            | 170                                                                            | 130                                                                            | Female                                                                         | 1993                                                                           | Folkeskole 9.-10. klasse                                                       | None of these (NEVER married or in legally registered civil union)             | [NA] Don't know                                                                |\n",
       "| 949614                                                                         | 8                                                                              | Very interested                                                                | Yes                                                                            | 5                                                                              | 8                                                                              | Very good                                                                      | NA                                                                             | I have never smoked                                                            | Several times a week                                                           | No                                                                             | 186                                                                            |  90                                                                            | Male                                                                           | 1934                                                                           | Lang videregående uddannelse. Kandidatuddannelser af 5.-6. års varighed, F.eks | Legally married                                                                | [5] Dansk Folkeparti - Danish peoples party                                    |\n",
       "| 949622                                                                         | 8                                                                              | Very interested                                                                | Yes                                                                            | 2                                                                              | 9                                                                              | Very good                                                                      | NA                                                                             | I don't smoke now but I used to                                                | 2-3 times a month                                                              | Yes                                                                            | 167                                                                            |  95                                                                            | Female                                                                         | 1955                                                                           | Universitetsbachelor. 1. del af kandidatuddannelse                             | Not applicable                                                                 | [1] Socialdemokraterne - the Danish social democrats                           |\n",
       "| 949630                                                                         | 7                                                                              | Hardly interested                                                              | Not eligible to vote                                                           | Don't know                                                                     | 8                                                                              | Very good                                                                      | 10                                                                             | I smoke daily                                                                  | Several times a week                                                           | Yes                                                                            | 168                                                                            |  55                                                                            | Female                                                                         | 1995                                                                           | Gymnasielle uddannelser, studentereksamen, HF, HHX, HTX                        | None of these (NEVER married or in legally registered civil union)             | [NA] Not applicable                                                            |\n",
       "| 949648                                                                         | 6                                                                              | Hardly interested                                                              | Yes                                                                            | Right                                                                          | 9                                                                              | Bad                                                                            | NA                                                                             | I have only smoked a few times                                                 | Several times a week                                                           | Yes                                                                            | 195                                                                            | 110                                                                            | Male                                                                           | 1980                                                                           | Faglig uddannelse (håndværk, handel, landbrug mv.), F.eks. Faglærte, Social-   | Not applicable                                                                 | [5] Dansk Folkeparti - Danish peoples party                                    |\n",
       "| 949680                                                                         | 8                                                                              | Quite interested                                                               | Yes                                                                            | 3                                                                              | 9                                                                              | Fair                                                                           | NA                                                                             | I don't smoke now but I used to                                                | Every day                                                                      | Yes                                                                            | 174                                                                            |  81                                                                            | Male                                                                           | 1936                                                                           | Faglig uddannelse (håndværk, handel, landbrug mv.), F.eks. Faglærte, Social-   | Widowed/civil partner died                                                     | [1] Socialdemokraterne - the Danish social democrats                           |\n",
       "| 949711                                                                         | 5                                                                              | Quite interested                                                               | Yes                                                                            | 8                                                                              | 8                                                                              | Good                                                                           | NA                                                                             | I have never smoked                                                            | Once a month                                                                   | Yes                                                                            | 165                                                                            |  88                                                                            | Male                                                                           | 1927                                                                           | Faglig uddannelse (håndværk, handel, landbrug mv.), F.eks. Faglærte, Social-   | Not applicable                                                                 | [5] Dansk Folkeparti - Danish peoples party                                    |\n",
       "| 949787                                                                         | 9                                                                              | Very interested                                                                | Yes                                                                            | 7                                                                              | 8                                                                              | Very good                                                                      | 20                                                                             | I smoke daily                                                                  | Once a week                                                                    | Yes                                                                            | 176                                                                            |  58                                                                            | Female                                                                         | 1967                                                                           | Faglig uddannelse (håndværk, handel, landbrug mv.), F.eks. Faglærte, Social-   | Legally divorced/civil union dissolved                                         | [3] Det Konservative Folkeparti - Conservative                                 |\n",
       "| 949800                                                                         | 8                                                                              | Quite interested                                                               | Yes                                                                            | 3                                                                              | 9                                                                              | Good                                                                           |  5                                                                             | I smoke daily                                                                  | Once a week                                                                    | Yes                                                                            | 173                                                                            |  78                                                                            | Female                                                                         | 1958                                                                           | Universitetsbachelor. 1. del af kandidatuddannelse                             | Legally divorced/civil union dissolved                                         | [2] Det Radikale Venstre - Danish Social-Liberal Party                         |\n",
       "| 949892                                                                         | 6                                                                              | Not at all interested                                                          | No                                                                             | 2                                                                              | 3                                                                              | Fair                                                                           | 20                                                                             | I smoke daily                                                                  | Every day                                                                      | Yes                                                                            | 174                                                                            |  92                                                                            | Male                                                                           | 1964                                                                           | Folkeskole 6.-8. klasse                                                        | Legally divorced/civil union dissolved                                         | [NA] Not applicable                                                            |\n",
       "| 949907                                                                         | 7                                                                              | Very interested                                                                | Yes                                                                            | 8                                                                              | 8                                                                              | Very good                                                                      | NA                                                                             | I don't smoke now but I used to                                                | Several times a week                                                           | Yes                                                                            | 180                                                                            |  80                                                                            | Male                                                                           | 1942                                                                           | Kort videregående uddannelse af op til 2-3 års varighed, F.eks. Erhvervsakadem | Not applicable                                                                 | [7] Venstre, Danmarks Liberale Parti - Venstre                                 |\n",
       "| 949931                                                                         | 7                                                                              | Quite interested                                                               | Yes                                                                            | 7                                                                              | Extremely happy                                                                | Fair                                                                           | NA                                                                             | I have never smoked                                                            | Once a week                                                                    | Yes                                                                            | 160                                                                            |  72                                                                            | Female                                                                         | 1924                                                                           | Folkeskole 6.-8. klasse                                                        | Widowed/civil partner died                                                     | [7] Venstre, Danmarks Liberale Parti - Venstre                                 |\n",
       "| 949999                                                                         | 8                                                                              | Hardly interested                                                              | Not eligible to vote                                                           | 4                                                                              | 4                                                                              | Good                                                                           | NA                                                                             | I have only smoked a few times                                                 | Several times a week                                                           | No                                                                             | 200                                                                            |  88                                                                            | Male                                                                           | 1994                                                                           | Gymnasielle uddannelser, studentereksamen, HF, HHX, HTX                        | None of these (NEVER married or in legally registered civil union)             | [NA] Not applicable                                                            |\n",
       "| 950079                                                                         | 6                                                                              | Very interested                                                                | Yes                                                                            | 8                                                                              | 9                                                                              | Very good                                                                      | NA                                                                             | I have never smoked                                                            | Never                                                                          | Yes                                                                            | 172                                                                            |  76                                                                            | Male                                                                           | 1973                                                                           | Folkeskole 9.-10. klasse                                                       | In a legally registered civil union                                            | [5] Dansk Folkeparti - Danish peoples party                                    |\n",
       "| 950134                                                                         | 9                                                                              | Quite interested                                                               | Yes                                                                            | 5                                                                              | 9                                                                              | Very good                                                                      | NA                                                                             | I have never smoked                                                            | Less than once a month                                                         | No                                                                             | 170                                                                            |  52                                                                            | Female                                                                         | 1960                                                                           | Forskeruddannelse. Ph.d., doktor                                               | Not applicable                                                                 | [1] Socialdemokraterne - the Danish social democrats                           |\n",
       "| 950150                                                                         | 6                                                                              | Quite interested                                                               | Yes                                                                            | 7                                                                              | 8                                                                              | Good                                                                           | NA                                                                             | I don't smoke now but I used to                                                | Several times a week                                                           | Yes                                                                            | 186                                                                            |  80                                                                            | Male                                                                           | 1956                                                                           | Faglig uddannelse (håndværk, handel, landbrug mv.), F.eks. Faglærte, Social-   | Not applicable                                                                 | [3] Det Konservative Folkeparti - Conservative                                 |\n",
       "| 950184                                                                         | 8                                                                              | Very interested                                                                | Yes                                                                            | Left                                                                           | 8                                                                              | Fair                                                                           | 20                                                                             | I smoke daily                                                                  | 2-3 times a month                                                              | Yes                                                                            | 167                                                                            | 109                                                                            | Female                                                                         | 1960                                                                           | Kort videregående uddannelse af op til 2-3 års varighed, F.eks. Erhvervsakadem | Not applicable                                                                 | [9] Enhedslisten - Unity List - The Red-Green Alliance                         |\n",
       "| 950320                                                                         | 7                                                                              | Very interested                                                                | Yes                                                                            | 5                                                                              | Extremely happy                                                                | Good                                                                           | NA                                                                             | I have never smoked                                                            | Once a week                                                                    | Yes                                                                            | 185                                                                            |  96                                                                            | Male                                                                           | 1960                                                                           | Universitetsbachelor. 1. del af kandidatuddannelse                             | Not applicable                                                                 | [2] Det Radikale Venstre - Danish Social-Liberal Party                         |\n",
       "| 950362                                                                         | 4                                                                              | Hardly interested                                                              | Yes                                                                            | 2                                                                              | 9                                                                              | Good                                                                           | NA                                                                             | I don't smoke now but I used to                                                | Once a month                                                                   | Yes                                                                            | 176                                                                            |  68                                                                            | Male                                                                           | 1979                                                                           | Faglig uddannelse (håndværk, handel, landbrug mv.), F.eks. Faglærte, Social-   | Not applicable                                                                 | [7] Venstre, Danmarks Liberale Parti - Venstre                                 |\n",
       "| 950469                                                                         | 7                                                                              | Very interested                                                                | Yes                                                                            | 5                                                                              | 8                                                                              | Good                                                                           | NA                                                                             | I don't smoke now but I used to                                                | Several times a week                                                           | Yes                                                                            | 164                                                                            |  84                                                                            | Female                                                                         | 1945                                                                           | Faglig uddannelse (håndværk, handel, landbrug mv.), F.eks. Faglærte, Social-   | Not applicable                                                                 | [1] Socialdemokraterne - the Danish social democrats                           |\n",
       "| 950477                                                                         | 8                                                                              | Very interested                                                                | Yes                                                                            | 9                                                                              | 8                                                                              | Good                                                                           | NA                                                                             | I don't smoke now but I used to                                                | 2-3 times a month                                                              | Yes                                                                            | 180                                                                            |  90                                                                            | Male                                                                           | 1942                                                                           | Faglig uddannelse (håndværk, handel, landbrug mv.), F.eks. Faglærte, Social-   | Not applicable                                                                 | [7] Venstre, Danmarks Liberale Parti - Venstre                                 |\n",
       "| 950493                                                                         | 5                                                                              | Very interested                                                                | Yes                                                                            | 5                                                                              | 9                                                                              | Good                                                                           | NA                                                                             | I don't smoke now but I used to                                                | Once a week                                                                    | Yes                                                                            | 183                                                                            |  86                                                                            | Male                                                                           | 1955                                                                           | Folkeskole 9.-10. klasse                                                       | Not applicable                                                                 | [1] Socialdemokraterne - the Danish social democrats                           |\n",
       "| 950508                                                                         | 7                                                                              | Quite interested                                                               | Yes                                                                            | 8                                                                              | 8                                                                              | Very good                                                                      | NA                                                                             | I have never smoked                                                            | Once a week                                                                    | Yes                                                                            | 173                                                                            |  75                                                                            | Male                                                                           | 1966                                                                           | Mellemlang videregående uddannelse af 3-4 års varighed. Professionsbachelorer, | Not applicable                                                                 | [7] Venstre, Danmarks Liberale Parti - Venstre                                 |\n",
       "| 950516                                                                         | 3                                                                              | Quite interested                                                               | Yes                                                                            | 7                                                                              | Extremely happy                                                                | Very good                                                                      | NA                                                                             | I have never smoked                                                            | 2-3 times a month                                                              | Yes                                                                            | 168                                                                            |  75                                                                            | Female                                                                         | 1942                                                                           | Folkeskole 6.-8. klasse                                                        | Legally divorced/civil union dissolved                                         | [7] Venstre, Danmarks Liberale Parti - Venstre                                 |\n",
       "\n"
      ],
      "text/plain": [
       "    idno   ppltrst polintr               vote                 lrscale   \n",
       "1   921018 6       Hardly interested     Not eligible to vote 4         \n",
       "2   921026 8       Quite interested      Yes                  4         \n",
       "3   921034 8       Quite interested      Yes                  7         \n",
       "4   921181 9       Quite interested      Yes                  5         \n",
       "5   921204 9       Hardly interested     Yes                  7         \n",
       "6   921262 8       Hardly interested     Yes                  7         \n",
       "7   921319 8       Very interested       Not eligible to vote 8         \n",
       "8   921327 9       Quite interested      Yes                  2         \n",
       "9   921335 8       Hardly interested     Yes                  9         \n",
       "10  921408 7       Quite interested      Yes                  8         \n",
       "11  921432 6       Quite interested      Yes                  7         \n",
       "12  921440 9       Hardly interested     Yes                  3         \n",
       "13  921490 4       Quite interested      Yes                  3         \n",
       "14  921539 7       Quite interested      Yes                  3         \n",
       "15  921571 8       Very interested       Yes                  3         \n",
       "16  921610 6       Very interested       Yes                  5         \n",
       "17  921636 9       Hardly interested     Not eligible to vote 3         \n",
       "18  921660 8       Very interested       Yes                  Left      \n",
       "19  921678 4       Not at all interested Yes                  5         \n",
       "20  921733 5       Quite interested      Yes                  6         \n",
       "21  921814 9       Very interested       Yes                  7         \n",
       "22  921880 7       Hardly interested     Yes                  5         \n",
       "23  921911 5       Hardly interested     Yes                  6         \n",
       "24  921987 7       Very interested       No                   8         \n",
       "25  922056 6       Hardly interested     Yes                  4         \n",
       "26  922072 7       Quite interested      Yes                  4         \n",
       "27  922098 4       Hardly interested     Yes                  8         \n",
       "28  922111 8       Quite interested      Yes                  7         \n",
       "29  922129 4       Very interested       Not eligible to vote 4         \n",
       "30  922226 5       Quite interested      Yes                  8         \n",
       "... ...    ...     ...                   ...                  ...       \n",
       "722 949321 8       Quite interested      Yes                  2         \n",
       "723 949363 8       Quite interested      Yes                  6         \n",
       "724 949486 8       Hardly interested     Yes                  5         \n",
       "725 949509 9       Very interested       Yes                  3         \n",
       "726 949541 8       Quite interested      Yes                  3         \n",
       "727 949591 9       Very interested       Yes                  7         \n",
       "728 949606 4       Not at all interested Yes                  5         \n",
       "729 949614 8       Very interested       Yes                  5         \n",
       "730 949622 8       Very interested       Yes                  2         \n",
       "731 949630 7       Hardly interested     Not eligible to vote Don't know\n",
       "732 949648 6       Hardly interested     Yes                  Right     \n",
       "733 949680 8       Quite interested      Yes                  3         \n",
       "734 949711 5       Quite interested      Yes                  8         \n",
       "735 949787 9       Very interested       Yes                  7         \n",
       "736 949800 8       Quite interested      Yes                  3         \n",
       "737 949892 6       Not at all interested No                   2         \n",
       "738 949907 7       Very interested       Yes                  8         \n",
       "739 949931 7       Quite interested      Yes                  7         \n",
       "740 949999 8       Hardly interested     Not eligible to vote 4         \n",
       "741 950079 6       Very interested       Yes                  8         \n",
       "742 950134 9       Quite interested      Yes                  5         \n",
       "743 950150 6       Quite interested      Yes                  7         \n",
       "744 950184 8       Very interested       Yes                  Left      \n",
       "745 950320 7       Very interested       Yes                  5         \n",
       "746 950362 4       Hardly interested     Yes                  2         \n",
       "747 950469 7       Very interested       Yes                  5         \n",
       "748 950477 8       Very interested       Yes                  9         \n",
       "749 950493 5       Very interested       Yes                  5         \n",
       "750 950508 7       Quite interested      Yes                  8         \n",
       "751 950516 3       Quite interested      Yes                  7         \n",
       "    happy           health    cgtsday cgtsmke                        \n",
       "1   9               Very good 10      I smoke but not every day      \n",
       "2   8               Very good NA      I have never smoked            \n",
       "3   8               Good      NA      I don't smoke now but I used to\n",
       "4   9               Fair      NA      I don't smoke now but I used to\n",
       "5   8               Good      NA      I don't smoke now but I used to\n",
       "6   8               Very good NA      I have never smoked            \n",
       "7   Extremely happy Fair      10      I smoke daily                  \n",
       "8   9               Good      NA      I don't smoke now but I used to\n",
       "9   9               Good      NA      I have never smoked            \n",
       "10  9               Fair       1      I smoke but not every day      \n",
       "11  Extremely happy Very good  6      I smoke daily                  \n",
       "12  9               Good      NA      I have only smoked a few times \n",
       "13  Extremely happy Very good NA      I don't smoke now but I used to\n",
       "14  9               Very good  5      I smoke but not every day      \n",
       "15  9               Fair       5      I smoke daily                  \n",
       "16  9               Good      NA      I have never smoked            \n",
       "17  8               Very good NA      I have only smoked a few times \n",
       "18  6               Very good NA      I don't smoke now but I used to\n",
       "19  Extremely happy Very good 10      I smoke daily                  \n",
       "20  3               Fair      NA      I have never smoked            \n",
       "21  Extremely happy Very good NA      I have never smoked            \n",
       "22  9               Good      NA      I have never smoked            \n",
       "23  1               Bad       20      I smoke daily                  \n",
       "24  7               Very good NA      I have never smoked            \n",
       "25  8               Good      NA      I have only smoked a few times \n",
       "26  9               Very good NA      I have never smoked            \n",
       "27  9               Very good  3      I smoke but not every day      \n",
       "28  9               Very good NA      I have never smoked            \n",
       "29  8               Good      NA      I have never smoked            \n",
       "30  8               Good      NA      I have never smoked            \n",
       "... ...             ...       ...     ...                            \n",
       "722 Extremely happy Very good  1      I smoke but not every day      \n",
       "723 9               Very good  5      I smoke but not every day      \n",
       "724 8               Good      NA      I have only smoked a few times \n",
       "725 9               Good      NA      I don't smoke now but I used to\n",
       "726 8               Fair      NA      I don't smoke now but I used to\n",
       "727 9               Very good NA      I don't smoke now but I used to\n",
       "728 Extremely happy Very good NA      I don't smoke now but I used to\n",
       "729 8               Very good NA      I have never smoked            \n",
       "730 9               Very good NA      I don't smoke now but I used to\n",
       "731 8               Very good 10      I smoke daily                  \n",
       "732 9               Bad       NA      I have only smoked a few times \n",
       "733 9               Fair      NA      I don't smoke now but I used to\n",
       "734 8               Good      NA      I have never smoked            \n",
       "735 8               Very good 20      I smoke daily                  \n",
       "736 9               Good       5      I smoke daily                  \n",
       "737 3               Fair      20      I smoke daily                  \n",
       "738 8               Very good NA      I don't smoke now but I used to\n",
       "739 Extremely happy Fair      NA      I have never smoked            \n",
       "740 4               Good      NA      I have only smoked a few times \n",
       "741 9               Very good NA      I have never smoked            \n",
       "742 9               Very good NA      I have never smoked            \n",
       "743 8               Good      NA      I don't smoke now but I used to\n",
       "744 8               Fair      20      I smoke daily                  \n",
       "745 Extremely happy Good      NA      I have never smoked            \n",
       "746 9               Good      NA      I don't smoke now but I used to\n",
       "747 8               Good      NA      I don't smoke now but I used to\n",
       "748 8               Good      NA      I don't smoke now but I used to\n",
       "749 9               Good      NA      I don't smoke now but I used to\n",
       "750 8               Very good NA      I have never smoked            \n",
       "751 Extremely happy Very good NA      I have never smoked            \n",
       "    alcfreq                brncntr height weight gndr   yrbrn\n",
       "1   2-3 times a month      Yes     178     64    Male   1990 \n",
       "2   Several times a week   Yes     172     64    Female 1948 \n",
       "3   Every day              Yes     176     87    Male   1957 \n",
       "4   Once a week            Yes     194    102    Male   1956 \n",
       "5   Once a week            No      157     48    Female 1941 \n",
       "6   2-3 times a month      Yes     180     93    Male   1987 \n",
       "7   Once a week            Yes     185     82    Male   1997 \n",
       "8   Once a week            Yes     182     97    Male   1940 \n",
       "9   Several times a week   Yes     178     84    Male   1945 \n",
       "10  Several times a week   Yes     203    104    Male   1977 \n",
       "11  Once a week            Yes     180     90    Male   1989 \n",
       "12  Once a week            Yes     178     76    Male   1975 \n",
       "13  Never                  No      167     62    Female 1965 \n",
       "14  Less than once a month Yes     170     78    Female 1982 \n",
       "15  Less than once a month Yes     163     92    Female 1978 \n",
       "16  Less than once a month Yes     170     60    Female 1978 \n",
       "17  2-3 times a month      Yes     185     68    Male   1996 \n",
       "18  2-3 times a month      Yes     173     76    Male   1941 \n",
       "19  Every day              Yes     178     65    Male   1946 \n",
       "20  Several times a week   Yes     182     95    Male   1960 \n",
       "21  Never                  Yes     196     90    Male   1972 \n",
       "22  Once a week            Yes     180     80    Female 1963 \n",
       "23  Every day              Yes     175     98    Male   1969 \n",
       "24  Once a week            Yes     179     74    Male   1964 \n",
       "25  Every day              No      153     58    Female 1973 \n",
       "26  Once a month           Yes     162     69    Female 1988 \n",
       "27  Less than once a month Yes     186     69    Male   1947 \n",
       "28  Every day              Yes     169     60    Female 1944 \n",
       "29  Several times a week   Yes     185     70    Male   1998 \n",
       "30  Several times a week   Yes     173     80    Male   1941 \n",
       "... ...                    ...     ...    ...    ...    ...  \n",
       "722 2-3 times a month      Yes     176     77    Female 1972 \n",
       "723 Once a week            Yes     165     63    Female 1952 \n",
       "724 Once a week            Yes     164     75    Female 1962 \n",
       "725 Several times a week   Yes     192     76    Male   1989 \n",
       "726 Less than once a month Yes     172    110    Female 1958 \n",
       "727 Once a week            Yes     180     94    Male   1971 \n",
       "728 Less than once a month Yes     170    130    Female 1993 \n",
       "729 Several times a week   No      186     90    Male   1934 \n",
       "730 2-3 times a month      Yes     167     95    Female 1955 \n",
       "731 Several times a week   Yes     168     55    Female 1995 \n",
       "732 Several times a week   Yes     195    110    Male   1980 \n",
       "733 Every day              Yes     174     81    Male   1936 \n",
       "734 Once a month           Yes     165     88    Male   1927 \n",
       "735 Once a week            Yes     176     58    Female 1967 \n",
       "736 Once a week            Yes     173     78    Female 1958 \n",
       "737 Every day              Yes     174     92    Male   1964 \n",
       "738 Several times a week   Yes     180     80    Male   1942 \n",
       "739 Once a week            Yes     160     72    Female 1924 \n",
       "740 Several times a week   No      200     88    Male   1994 \n",
       "741 Never                  Yes     172     76    Male   1973 \n",
       "742 Less than once a month No      170     52    Female 1960 \n",
       "743 Several times a week   Yes     186     80    Male   1956 \n",
       "744 2-3 times a month      Yes     167    109    Female 1960 \n",
       "745 Once a week            Yes     185     96    Male   1960 \n",
       "746 Once a month           Yes     176     68    Male   1979 \n",
       "747 Several times a week   Yes     164     84    Female 1945 \n",
       "748 2-3 times a month      Yes     180     90    Male   1942 \n",
       "749 Once a week            Yes     183     86    Male   1955 \n",
       "750 Once a week            Yes     173     75    Male   1966 \n",
       "751 2-3 times a month      Yes     168     75    Female 1942 \n",
       "    edlvddk                                                                       \n",
       "1   Folkeskole 6.-8. klasse                                                       \n",
       "2   Mellemlang videregående uddannelse af 3-4 års varighed. Professionsbachelorer,\n",
       "3   Kort videregående uddannelse af op til 2-3 års varighed, F.eks. Erhvervsakadem\n",
       "4   Faglig uddannelse (håndværk, handel, landbrug mv.), F.eks. Faglærte, Social-  \n",
       "5   Kort videregående uddannelse af op til 2-3 års varighed, F.eks. Erhvervsakadem\n",
       "6   Mellemlang videregående uddannelse af 3-4 års varighed. Professionsbachelorer,\n",
       "7   Folkeskole 9.-10. klasse                                                      \n",
       "8   Faglig uddannelse (håndværk, handel, landbrug mv.), F.eks. Faglærte, Social-  \n",
       "9   Faglig uddannelse (håndværk, handel, landbrug mv.), F.eks. Faglærte, Social-  \n",
       "10  Lang videregående uddannelse. Kandidatuddannelser af 5.-6. års varighed, F.eks\n",
       "11  Mellemlang videregående uddannelse af 3-4 års varighed. Professionsbachelorer,\n",
       "12  Universitetsbachelor. 1. del af kandidatuddannelse                            \n",
       "13  Mellemlang videregående uddannelse af 3-4 års varighed. Professionsbachelorer,\n",
       "14  Mellemlang videregående uddannelse af 3-4 års varighed. Professionsbachelorer,\n",
       "15  Kort videregående uddannelse af op til 2-3 års varighed, F.eks. Erhvervsakadem\n",
       "16  Mellemlang videregående uddannelse af 3-4 års varighed. Professionsbachelorer,\n",
       "17  Folkeskole 9.-10. klasse                                                      \n",
       "18  Lang videregående uddannelse. Kandidatuddannelser af 5.-6. års varighed, F.eks\n",
       "19  Folkeskole 6.-8. klasse                                                       \n",
       "20  Mellemlang videregående uddannelse af 3-4 års varighed. Professionsbachelorer,\n",
       "21  Mellemlang videregående uddannelse af 3-4 års varighed. Professionsbachelorer,\n",
       "22  Kort videregående uddannelse af op til 2-3 års varighed, F.eks. Erhvervsakadem\n",
       "23  Folkeskole 6.-8. klasse                                                       \n",
       "24  Mellemlang videregående uddannelse af 3-4 års varighed. Professionsbachelorer,\n",
       "25  Faglig uddannelse (håndværk, handel, landbrug mv.), F.eks. Faglærte, Social-  \n",
       "26  Gymnasielle uddannelser, studentereksamen, HF, HHX, HTX                       \n",
       "27  Mellemlang videregående uddannelse af 3-4 års varighed. Professionsbachelorer,\n",
       "28  Faglig uddannelse (håndværk, handel, landbrug mv.), F.eks. Faglærte, Social-  \n",
       "29  Folkeskole 9.-10. klasse                                                      \n",
       "30  Faglig uddannelse (håndværk, handel, landbrug mv.), F.eks. Faglærte, Social-  \n",
       "... ...                                                                           \n",
       "722 Lang videregående uddannelse. Kandidatuddannelser af 5.-6. års varighed, F.eks\n",
       "723 Mellemlang videregående uddannelse af 3-4 års varighed. Professionsbachelorer,\n",
       "724 Folkeskole 9.-10. klasse                                                      \n",
       "725 Mellemlang videregående uddannelse af 3-4 års varighed. Professionsbachelorer,\n",
       "726 Mellemlang videregående uddannelse af 3-4 års varighed. Professionsbachelorer,\n",
       "727 Gymnasielle uddannelser, studentereksamen, HF, HHX, HTX                       \n",
       "728 Folkeskole 9.-10. klasse                                                      \n",
       "729 Lang videregående uddannelse. Kandidatuddannelser af 5.-6. års varighed, F.eks\n",
       "730 Universitetsbachelor. 1. del af kandidatuddannelse                            \n",
       "731 Gymnasielle uddannelser, studentereksamen, HF, HHX, HTX                       \n",
       "732 Faglig uddannelse (håndværk, handel, landbrug mv.), F.eks. Faglærte, Social-  \n",
       "733 Faglig uddannelse (håndværk, handel, landbrug mv.), F.eks. Faglærte, Social-  \n",
       "734 Faglig uddannelse (håndværk, handel, landbrug mv.), F.eks. Faglærte, Social-  \n",
       "735 Faglig uddannelse (håndværk, handel, landbrug mv.), F.eks. Faglærte, Social-  \n",
       "736 Universitetsbachelor. 1. del af kandidatuddannelse                            \n",
       "737 Folkeskole 6.-8. klasse                                                       \n",
       "738 Kort videregående uddannelse af op til 2-3 års varighed, F.eks. Erhvervsakadem\n",
       "739 Folkeskole 6.-8. klasse                                                       \n",
       "740 Gymnasielle uddannelser, studentereksamen, HF, HHX, HTX                       \n",
       "741 Folkeskole 9.-10. klasse                                                      \n",
       "742 Forskeruddannelse. Ph.d., doktor                                              \n",
       "743 Faglig uddannelse (håndværk, handel, landbrug mv.), F.eks. Faglærte, Social-  \n",
       "744 Kort videregående uddannelse af op til 2-3 års varighed, F.eks. Erhvervsakadem\n",
       "745 Universitetsbachelor. 1. del af kandidatuddannelse                            \n",
       "746 Faglig uddannelse (håndværk, handel, landbrug mv.), F.eks. Faglærte, Social-  \n",
       "747 Faglig uddannelse (håndværk, handel, landbrug mv.), F.eks. Faglærte, Social-  \n",
       "748 Faglig uddannelse (håndværk, handel, landbrug mv.), F.eks. Faglærte, Social-  \n",
       "749 Folkeskole 9.-10. klasse                                                      \n",
       "750 Mellemlang videregående uddannelse af 3-4 års varighed. Professionsbachelorer,\n",
       "751 Folkeskole 6.-8. klasse                                                       \n",
       "    marsts                                                            \n",
       "1   None of these (NEVER married or in legally registered civil union)\n",
       "2   Widowed/civil partner died                                        \n",
       "3   Not applicable                                                    \n",
       "4   Not applicable                                                    \n",
       "5   Not applicable                                                    \n",
       "6   None of these (NEVER married or in legally registered civil union)\n",
       "7   None of these (NEVER married or in legally registered civil union)\n",
       "8   Not applicable                                                    \n",
       "9   Not applicable                                                    \n",
       "10  Not applicable                                                    \n",
       "11  None of these (NEVER married or in legally registered civil union)\n",
       "12  None of these (NEVER married or in legally registered civil union)\n",
       "13  Not applicable                                                    \n",
       "14  None of these (NEVER married or in legally registered civil union)\n",
       "15  Not applicable                                                    \n",
       "16  Not applicable                                                    \n",
       "17  None of these (NEVER married or in legally registered civil union)\n",
       "18  Not applicable                                                    \n",
       "19  Legally divorced/civil union dissolved                            \n",
       "20  None of these (NEVER married or in legally registered civil union)\n",
       "21  Not applicable                                                    \n",
       "22  Not applicable                                                    \n",
       "23  Legally divorced/civil union dissolved                            \n",
       "24  Not applicable                                                    \n",
       "25  None of these (NEVER married or in legally registered civil union)\n",
       "26  None of these (NEVER married or in legally registered civil union)\n",
       "27  Not applicable                                                    \n",
       "28  Not applicable                                                    \n",
       "29  None of these (NEVER married or in legally registered civil union)\n",
       "30  Not applicable                                                    \n",
       "... ...                                                               \n",
       "722 Not applicable                                                    \n",
       "723 Not applicable                                                    \n",
       "724 Not applicable                                                    \n",
       "725 None of these (NEVER married or in legally registered civil union)\n",
       "726 Not applicable                                                    \n",
       "727 Not applicable                                                    \n",
       "728 None of these (NEVER married or in legally registered civil union)\n",
       "729 Legally married                                                   \n",
       "730 Not applicable                                                    \n",
       "731 None of these (NEVER married or in legally registered civil union)\n",
       "732 Not applicable                                                    \n",
       "733 Widowed/civil partner died                                        \n",
       "734 Not applicable                                                    \n",
       "735 Legally divorced/civil union dissolved                            \n",
       "736 Legally divorced/civil union dissolved                            \n",
       "737 Legally divorced/civil union dissolved                            \n",
       "738 Not applicable                                                    \n",
       "739 Widowed/civil partner died                                        \n",
       "740 None of these (NEVER married or in legally registered civil union)\n",
       "741 In a legally registered civil union                               \n",
       "742 Not applicable                                                    \n",
       "743 Not applicable                                                    \n",
       "744 Not applicable                                                    \n",
       "745 Not applicable                                                    \n",
       "746 Not applicable                                                    \n",
       "747 Not applicable                                                    \n",
       "748 Not applicable                                                    \n",
       "749 Not applicable                                                    \n",
       "750 Not applicable                                                    \n",
       "751 Legally divorced/civil union dissolved                            \n",
       "    polpartvt                                                \n",
       "1   [NA] Not applicable                                      \n",
       "2   [1] Socialdemokraterne - the Danish social democrats     \n",
       "3   [7] Venstre, Danmarks Liberale Parti - Venstre           \n",
       "4   [2] Det Radikale Venstre - Danish Social-Liberal Party   \n",
       "5   [NA] Don't know                                          \n",
       "6   [7] Venstre, Danmarks Liberale Parti - Venstre           \n",
       "7   [NA] Not applicable                                      \n",
       "8   [9] Enhedslisten - Unity List - The Red-Green Alliance   \n",
       "9   [10] Andet - other                                       \n",
       "10  [7] Venstre, Danmarks Liberale Parti - Venstre           \n",
       "11  [1] Socialdemokraterne - the Danish social democrats     \n",
       "12  [NA] Don't know                                          \n",
       "13  [4] SF Socialistisk Folkeparti - Socialist People's Party\n",
       "14  [2] Det Radikale Venstre - Danish Social-Liberal Party   \n",
       "15  [5] Dansk Folkeparti - Danish peoples party              \n",
       "16  [7] Venstre, Danmarks Liberale Parti - Venstre           \n",
       "17  [NA] Not applicable                                      \n",
       "18  [9] Enhedslisten - Unity List - The Red-Green Alliance   \n",
       "19  [1] Socialdemokraterne - the Danish social democrats     \n",
       "20  [NA] Refusal                                             \n",
       "21  [2] Det Radikale Venstre - Danish Social-Liberal Party   \n",
       "22  [1] Socialdemokraterne - the Danish social democrats     \n",
       "23  [2] Det Radikale Venstre - Danish Social-Liberal Party   \n",
       "24  [NA] Not applicable                                      \n",
       "25  [NA] Don't know                                          \n",
       "26  [NA] Refusal                                             \n",
       "27  [5] Dansk Folkeparti - Danish peoples party              \n",
       "28  [5] Dansk Folkeparti - Danish peoples party              \n",
       "29  [NA] Not applicable                                      \n",
       "30  [7] Venstre, Danmarks Liberale Parti - Venstre           \n",
       "... ...                                                      \n",
       "722 [2] Det Radikale Venstre - Danish Social-Liberal Party   \n",
       "723 [2] Det Radikale Venstre - Danish Social-Liberal Party   \n",
       "724 [9] Enhedslisten - Unity List - The Red-Green Alliance   \n",
       "725 [9] Enhedslisten - Unity List - The Red-Green Alliance   \n",
       "726 [9] Enhedslisten - Unity List - The Red-Green Alliance   \n",
       "727 [2] Det Radikale Venstre - Danish Social-Liberal Party   \n",
       "728 [NA] Don't know                                          \n",
       "729 [5] Dansk Folkeparti - Danish peoples party              \n",
       "730 [1] Socialdemokraterne - the Danish social democrats     \n",
       "731 [NA] Not applicable                                      \n",
       "732 [5] Dansk Folkeparti - Danish peoples party              \n",
       "733 [1] Socialdemokraterne - the Danish social democrats     \n",
       "734 [5] Dansk Folkeparti - Danish peoples party              \n",
       "735 [3] Det Konservative Folkeparti - Conservative           \n",
       "736 [2] Det Radikale Venstre - Danish Social-Liberal Party   \n",
       "737 [NA] Not applicable                                      \n",
       "738 [7] Venstre, Danmarks Liberale Parti - Venstre           \n",
       "739 [7] Venstre, Danmarks Liberale Parti - Venstre           \n",
       "740 [NA] Not applicable                                      \n",
       "741 [5] Dansk Folkeparti - Danish peoples party              \n",
       "742 [1] Socialdemokraterne - the Danish social democrats     \n",
       "743 [3] Det Konservative Folkeparti - Conservative           \n",
       "744 [9] Enhedslisten - Unity List - The Red-Green Alliance   \n",
       "745 [2] Det Radikale Venstre - Danish Social-Liberal Party   \n",
       "746 [7] Venstre, Danmarks Liberale Parti - Venstre           \n",
       "747 [1] Socialdemokraterne - the Danish social democrats     \n",
       "748 [7] Venstre, Danmarks Liberale Parti - Venstre           \n",
       "749 [1] Socialdemokraterne - the Danish social democrats     \n",
       "750 [7] Venstre, Danmarks Liberale Parti - Venstre           \n",
       "751 [7] Venstre, Danmarks Liberale Parti - Venstre           "
      ]
     },
     "metadata": {},
     "output_type": "display_data"
    }
   ],
   "source": [
    "# Coerce as factor\n",
    "ess_data %>%\n",
    "    mutate(gndr = as.factor(gndr)) "
   ]
  },
  {
   "cell_type": "code",
   "execution_count": 3,
   "metadata": {},
   "outputs": [],
   "source": [
    "# Isolating a factor\n",
    "gend_cat <- as.factor(ess_data$gndr)"
   ]
  },
  {
   "cell_type": "code",
   "execution_count": 4,
   "metadata": {},
   "outputs": [
    {
     "data": {
      "text/html": [
       "<ol class=list-inline>\n",
       "\t<li>Male</li>\n",
       "\t<li>Female</li>\n",
       "</ol>\n",
       "\n",
       "<details>\n",
       "\t<summary style=display:list-item;cursor:pointer>\n",
       "\t\t<strong>Levels</strong>:\n",
       "\t</summary>\n",
       "\t<ol class=list-inline>\n",
       "\t\t<li>'Female'</li>\n",
       "\t\t<li>'Male'</li>\n",
       "\t</ol>\n",
       "</details>"
      ],
      "text/latex": [
       "\\begin{enumerate*}\n",
       "\\item Male\n",
       "\\item Female\n",
       "\\end{enumerate*}\n",
       "\n",
       "\\emph{Levels}: \\begin{enumerate*}\n",
       "\\item 'Female'\n",
       "\\item 'Male'\n",
       "\\end{enumerate*}\n"
      ],
      "text/markdown": [
       "1. Male\n",
       "2. Female\n",
       "\n",
       "\n",
       "\n",
       "**Levels**: 1. 'Female'\n",
       "2. 'Male'\n",
       "\n",
       "\n"
      ],
      "text/plain": [
       "[1] Male   Female\n",
       "Levels: Female Male"
      ]
     },
     "metadata": {},
     "output_type": "display_data"
    }
   ],
   "source": [
    "# Inspecting values and levels\n",
    "unique(gend_cat)"
   ]
  },
  {
   "cell_type": "code",
   "execution_count": 8,
   "metadata": {},
   "outputs": [],
   "source": [
    "# Create factor as ordered/ordinal (but what order?)\n",
    "ess_data <- ess_data %>%\n",
    "    mutate(gend_factor = factor(gndr, ordered = TRUE))"
   ]
  },
  {
   "cell_type": "code",
   "execution_count": 9,
   "metadata": {},
   "outputs": [
    {
     "data": {
      "text/html": [
       "<ol class=list-inline>\n",
       "\t<li>Male</li>\n",
       "\t<li>Female</li>\n",
       "</ol>\n",
       "\n",
       "<details>\n",
       "\t<summary style=display:list-item;cursor:pointer>\n",
       "\t\t<strong>Levels</strong>:\n",
       "\t</summary>\n",
       "\t<ol class=list-inline>\n",
       "\t\t<li>'Female'</li>\n",
       "\t\t<li>'Male'</li>\n",
       "\t</ol>\n",
       "</details>"
      ],
      "text/latex": [
       "\\begin{enumerate*}\n",
       "\\item Male\n",
       "\\item Female\n",
       "\\end{enumerate*}\n",
       "\n",
       "\\emph{Levels}: \\begin{enumerate*}\n",
       "\\item 'Female'\n",
       "\\item 'Male'\n",
       "\\end{enumerate*}\n"
      ],
      "text/markdown": [
       "1. Male\n",
       "2. Female\n",
       "\n",
       "\n",
       "\n",
       "**Levels**: 1. 'Female'\n",
       "2. 'Male'\n",
       "\n",
       "\n"
      ],
      "text/plain": [
       "[1] Male   Female\n",
       "Levels: Female < Male"
      ]
     },
     "metadata": {},
     "output_type": "display_data"
    }
   ],
   "source": [
    "# Inspecting values and levels\n",
    "unique(ess_data$gend_factor)"
   ]
  },
  {
   "cell_type": "code",
   "execution_count": 10,
   "metadata": {},
   "outputs": [
    {
     "data": {
      "text/html": [
       "<ol class=list-inline>\n",
       "\t<li>Hardly interested</li>\n",
       "\t<li>Quite interested</li>\n",
       "\t<li>Very interested</li>\n",
       "\t<li>Not at all interested</li>\n",
       "\t<li>&lt;NA&gt;</li>\n",
       "</ol>\n",
       "\n",
       "<details>\n",
       "\t<summary style=display:list-item;cursor:pointer>\n",
       "\t\t<strong>Levels</strong>:\n",
       "\t</summary>\n",
       "\t<ol class=list-inline>\n",
       "\t\t<li>'Not at all interested'</li>\n",
       "\t\t<li>'Hardly interested'</li>\n",
       "\t\t<li>'Quite interested'</li>\n",
       "\t\t<li>'Very interested'</li>\n",
       "\t</ol>\n",
       "</details>"
      ],
      "text/latex": [
       "\\begin{enumerate*}\n",
       "\\item Hardly interested\n",
       "\\item Quite interested\n",
       "\\item Very interested\n",
       "\\item Not at all interested\n",
       "\\item <NA>\n",
       "\\end{enumerate*}\n",
       "\n",
       "\\emph{Levels}: \\begin{enumerate*}\n",
       "\\item 'Not at all interested'\n",
       "\\item 'Hardly interested'\n",
       "\\item 'Quite interested'\n",
       "\\item 'Very interested'\n",
       "\\end{enumerate*}\n"
      ],
      "text/markdown": [
       "1. Hardly interested\n",
       "2. Quite interested\n",
       "3. Very interested\n",
       "4. Not at all interested\n",
       "5. &lt;NA&gt;\n",
       "\n",
       "\n",
       "\n",
       "**Levels**: 1. 'Not at all interested'\n",
       "2. 'Hardly interested'\n",
       "3. 'Quite interested'\n",
       "4. 'Very interested'\n",
       "\n",
       "\n"
      ],
      "text/plain": [
       "[1] Hardly interested     Quite interested      Very interested      \n",
       "[4] Not at all interested <NA>                 \n",
       "4 Levels: Not at all interested < Hardly interested < ... < Very interested"
      ]
     },
     "metadata": {},
     "output_type": "display_data"
    }
   ],
   "source": [
    "# Creating ordered factor but setting custom order\n",
    "ess_data <- ess_data %>%\n",
    "    mutate(polintr_fact = factor(polintr, levels = c('Not at all interested', 'Hardly interested',\n",
    "                                                    'Quite interested', 'Very interested'), ordered = TRUE))\n",
    "\n",
    "unique(ess_data$polintr_fact)"
   ]
  },
  {
   "cell_type": "code",
   "execution_count": 12,
   "metadata": {},
   "outputs": [
    {
     "data": {
      "text/html": [
       "<table>\n",
       "<thead><tr><th scope=col>idno</th><th scope=col>polintr</th><th scope=col>polintr_dum</th></tr></thead>\n",
       "<tbody>\n",
       "\t<tr><td>921018           </td><td>Hardly interested</td><td>Not interested   </td></tr>\n",
       "\t<tr><td>921026           </td><td>Quite interested </td><td>Interested       </td></tr>\n",
       "\t<tr><td>921034           </td><td>Quite interested </td><td>Interested       </td></tr>\n",
       "\t<tr><td>921181           </td><td>Quite interested </td><td>Interested       </td></tr>\n",
       "</tbody>\n",
       "</table>\n"
      ],
      "text/latex": [
       "\\begin{tabular}{r|lll}\n",
       " idno & polintr & polintr\\_dum\\\\\n",
       "\\hline\n",
       "\t 921018            & Hardly interested & Not interested   \\\\\n",
       "\t 921026            & Quite interested  & Interested       \\\\\n",
       "\t 921034            & Quite interested  & Interested       \\\\\n",
       "\t 921181            & Quite interested  & Interested       \\\\\n",
       "\\end{tabular}\n"
      ],
      "text/markdown": [
       "\n",
       "| idno | polintr | polintr_dum |\n",
       "|---|---|---|\n",
       "| 921018            | Hardly interested | Not interested    |\n",
       "| 921026            | Quite interested  | Interested        |\n",
       "| 921034            | Quite interested  | Interested        |\n",
       "| 921181            | Quite interested  | Interested        |\n",
       "\n"
      ],
      "text/plain": [
       "  idno   polintr           polintr_dum   \n",
       "1 921018 Hardly interested Not interested\n",
       "2 921026 Quite interested  Interested    \n",
       "3 921034 Quite interested  Interested    \n",
       "4 921181 Quite interested  Interested    "
      ]
     },
     "metadata": {},
     "output_type": "display_data"
    }
   ],
   "source": [
    "# Recode using ordered factor (ordinal)\n",
    "ess_data %>%\n",
    "    mutate(polintr_dum = ifelse(polintr_fact > \"Hardly interested\", \"Interested\", \"Not interested\")) %>%\n",
    "    select(idno, polintr, polintr_dum) %>%\n",
    "    head(4)"
   ]
  },
  {
   "cell_type": "markdown",
   "metadata": {},
   "source": [
    "## `forcats` \n",
    "\n",
    "`forcats` is a package specifically for working with factors in R. It provides a range of function for modifying level labels and order of labels for a factor.\n",
    "\n",
    "See [the cheatsheet](https://raw.githubusercontent.com/rstudio/cheatsheets/master/factors.pdf).\n",
    "\n",
    "A lof of the functionality may seem unnecessary but they are very useful in combination with `ggplot2`, as these functions allow to easily change how data is plotted without changing the data."
   ]
  }
 ],
 "metadata": {
  "kernelspec": {
   "display_name": "R",
   "language": "R",
   "name": "ir"
  },
  "language_info": {
   "codemirror_mode": "r",
   "file_extension": ".r",
   "mimetype": "text/x-r-source",
   "name": "R",
   "pygments_lexer": "r",
   "version": "3.6.1"
  }
 },
 "nbformat": 4,
 "nbformat_minor": 2
}
