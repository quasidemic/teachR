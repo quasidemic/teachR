{
 "cells": [
  {
   "cell_type": "markdown",
   "metadata": {
    "slideshow": {
     "slide_type": "slide"
    }
   },
   "source": [
    "# Introduction to R"
   ]
  },
  {
   "cell_type": "markdown",
   "metadata": {},
   "source": [
    "## What is R and why use it?\n",
    "\n",
    "R is a free software environment with its own programming language. \n",
    "\n",
    "It is especailly suited for statistical analysis and graphical outputs.\n",
    "\n",
    "R's popularity as a data science tool as well as it being open source has made its applications vast.\n",
    "\n",
    "R can work with a large variety of data formats and is (with a few add-ons) compatible with data from other software solutions (Excel, SPSS, SAS, Stata)."
   ]
  },
  {
   "cell_type": "markdown",
   "metadata": {},
   "source": [
    "## R compared to other analysis software\n",
    "\n",
    "Compared to analysis software like Stata and SPSS, the R language is much closer to a programming language. \n",
    "\n",
    "R itself has a very limited GUI (graphical user interface). RStudio provides more options but the GUI does not assist in the data analysis tasks (i.e. there is no point-and-click options for using R as such).\n",
    "\n",
    "A lot of R's versatility comes from the fact that R treats everything as different objects (more on this later). Compared to most other analysis software, this means that you are often working with several data sets simultaneously."
   ]
  },
  {
   "cell_type": "markdown",
   "metadata": {
    "slideshow": {
     "slide_type": "slide"
    }
   },
   "source": [
    "## The RStudio environment\n",
    "\n",
    "RStudio is an IDE for R (Integrated Development Environment). It makes for a nicer workspace providing a better overview and a GUI for the different project elements (scripts, plots, packages, environment and so on).\n",
    "\n",
    "RStudio is free to use and can be downloaded here: https://www.rstudio.com/products/rstudio/download/"
   ]
  },
  {
   "cell_type": "markdown",
   "metadata": {},
   "source": [
    "## Working directories\n",
    "\n",
    "R reads and writes data by specifying *paths*. These can either be specified as *absolute* paths (like `C:/my_data/data.csv`) or *relative* paths.\n",
    "\n",
    "Relative paths are specified relative to the current working directory. By default, R will set the working directory to the user documents folder. One can check the current working directory with the command `getwd()`. \n",
    "\n",
    "The working directory can be changed with the command `setwd()` (or in RStudio via `Session -> Set Working Directory -> Choose Directory...`). \n",
    "\n",
    "When using relative paths from the working directory, one can use `.` to specify current directory (assumed either way) and `..` to go up one level. If data fx is in the working directory, one only has to specify the filename of the dataset (`data.csv`). If it is located inside a data folder in the working directory, it is specified as `./data/data.csv`."
   ]
  },
  {
   "cell_type": "markdown",
   "metadata": {},
   "source": [
    "## R Projects\n",
    "\n",
    "R Projects are used to simplify different working directories across projects. When creating an R project, R will set the working directory to the directory where the R project file is stored.\n",
    "\n",
    "Furthermore, R stores the workspace data (the \"workspace image\") to an `.RData` file with the project. This allows to store different workspaces across different projects."
   ]
  }
 ],
 "metadata": {
  "kernelspec": {
   "display_name": "R",
   "language": "R",
   "name": "ir"
  },
  "language_info": {
   "codemirror_mode": "r",
   "file_extension": ".r",
   "mimetype": "text/x-r-source",
   "name": "R",
   "pygments_lexer": "r",
   "version": "4.1.1"
  }
 },
 "nbformat": 4,
 "nbformat_minor": 4
}
