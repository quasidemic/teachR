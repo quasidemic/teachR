{
 "cells": [
  {
   "cell_type": "code",
   "execution_count": 89,
   "metadata": {},
   "outputs": [
    {
     "name": "stderr",
     "output_type": "stream",
     "text": [
      "Parsed with column specification:\n",
      "cols(\n",
      "  idno = col_double(),\n",
      "  netustm = col_double(),\n",
      "  ppltrst = col_double(),\n",
      "  vote = col_character(),\n",
      "  prtvtddk = col_character(),\n",
      "  lvpntyr = col_character(),\n",
      "  tygrtr = col_character(),\n",
      "  gndr = col_character(),\n",
      "  yrbrn = col_double(),\n",
      "  edlvddk = col_character(),\n",
      "  eduyrs = col_double(),\n",
      "  wkhct = col_double(),\n",
      "  wkhtot = col_double(),\n",
      "  grspnum = col_double(),\n",
      "  frlgrsp = col_double(),\n",
      "  inwtm = col_double()\n",
      ")\n"
     ]
    }
   ],
   "source": [
    "# Setup\n",
    "\n",
    "library(tidyverse)\n",
    "data <- read_csv(\"https://github.com/CALDISS-AAU/workshop_R-intro/raw/master/data/ESS2018DK_subset.csv\")"
   ]
  },
  {
   "cell_type": "markdown",
   "metadata": {
    "tags": []
   },
   "source": [
    "# Categorical variables (factors)\n",
    "\n",
    "Categorical variables in R are typically stored as \"factors\".\n",
    "\n",
    "Unlike other statistical software solutions, R does not assign categorical variables an underlying numerical value. Values in a factor can therefore only be refered to by their category name!\n",
    "\n",
    "Factors can sometimes cause issues, as a standard setting for some import functions in R is to import text variables as factors. This causes issues as you have little control over how they are converted to categorical variables (this was especially an issue in older versions of R).\n",
    "It often makes more sense to recode the variables as factors yourself.\n",
    "\n",
    "Factors are both used in statistical models to tell R, how a categorical variable should be treated (unordered/ordered) and used in graphs for various ordering of categories."
   ]
  },
  {
   "cell_type": "markdown",
   "metadata": {},
   "source": [
    "## Creating factors\n",
    "\n",
    "Strings are immediately coercible to factors with the command `as.factor()`:"
   ]
  },
  {
   "cell_type": "code",
   "execution_count": 90,
   "metadata": {},
   "outputs": [
    {
     "data": {
      "text/html": [
       "<table>\n",
       "<thead><tr><th scope=col>idno</th><th scope=col>netustm</th><th scope=col>ppltrst</th><th scope=col>vote</th><th scope=col>prtvtddk</th><th scope=col>lvpntyr</th><th scope=col>tygrtr</th><th scope=col>gndr</th><th scope=col>yrbrn</th><th scope=col>edlvddk</th><th scope=col>eduyrs</th><th scope=col>wkhct</th><th scope=col>wkhtot</th><th scope=col>grspnum</th><th scope=col>frlgrsp</th><th scope=col>inwtm</th></tr></thead>\n",
       "<tbody>\n",
       "\t<tr><td> 110                                                                          </td><td>180                                                                           </td><td>8                                                                             </td><td>Yes                                                                           </td><td>Socialdemokratiet - The Social democrats                                      </td><td>1968                                                                          </td><td>Never too young                                                               </td><td>Male                                                                          </td><td>1949                                                                          </td><td>Kort videregående uddannelse af op til 2-3 års varighed, F.eks. Erhvervsakadem</td><td> 9                                                                            </td><td>28                                                                            </td><td>28                                                                            </td><td>   NA                                                                         </td><td>   NA                                                                         </td><td>119                                                                           </td></tr>\n",
       "\t<tr><td> 705                                                                          </td><td> 60                                                                           </td><td>5                                                                             </td><td>Yes                                                                           </td><td>Det Konservative Folkeparti - Conservative People's Party                     </td><td>1976                                                                          </td><td>67                                                                            </td><td>Male                                                                          </td><td>1958                                                                          </td><td>Kort videregående uddannelse af op til 2-3 års varighed, F.eks. Erhvervsakadem</td><td>22                                                                            </td><td>37                                                                            </td><td>45                                                                            </td><td>   NA                                                                         </td><td>   NA                                                                         </td><td> 55                                                                           </td></tr>\n",
       "\t<tr><td>1327                                                                          </td><td>240                                                                           </td><td>5                                                                             </td><td>NA                                                                            </td><td>NA                                                                            </td><td>Still in parental home, never left 2 months                                   </td><td>NA                                                                            </td><td>Male                                                                          </td><td>2000                                                                          </td><td>Folkeskole 9.-10. klasse                                                      </td><td>11                                                                            </td><td>37                                                                            </td><td>37                                                                            </td><td>   NA                                                                         </td><td>   NA                                                                         </td><td> 37                                                                           </td></tr>\n",
       "\t<tr><td>3760                                                                          </td><td>300                                                                           </td><td>7                                                                             </td><td>Not eligible to vote                                                          </td><td>NA                                                                            </td><td>Still in parental home, never left 2 months                                   </td><td>40                                                                            </td><td>Male                                                                          </td><td>2002                                                                          </td><td>Folkeskole 9.-10. klasse                                                      </td><td> 9                                                                            </td><td> 2                                                                            </td><td> 2                                                                            </td><td>  200                                                                         </td><td>   NA                                                                         </td><td> 43                                                                           </td></tr>\n",
       "\t<tr><td>4658                                                                          </td><td> 90                                                                           </td><td>8                                                                             </td><td>Yes                                                                           </td><td>NA                                                                            </td><td>1974                                                                          </td><td>50                                                                            </td><td>Female                                                                        </td><td>1956                                                                          </td><td>Kort videregående uddannelse af op til 2-3 års varighed, F.eks. Erhvervsakadem</td><td> 4                                                                            </td><td>30                                                                            </td><td>30                                                                            </td><td>   NA                                                                         </td><td>   NA                                                                         </td><td> 62                                                                           </td></tr>\n",
       "\t<tr><td>5816                                                                          </td><td> 90                                                                           </td><td>7                                                                             </td><td>Yes                                                                           </td><td>SF Socialistisk Folkeparti - Socialist People's Party                         </td><td>1994                                                                          </td><td>60                                                                            </td><td>Male                                                                          </td><td>1974                                                                          </td><td>Mellemlang videregående uddannelse af 3-4 års varighed. Professionsbachelorer,</td><td>35                                                                            </td><td>37                                                                            </td><td>37                                                                            </td><td>37000                                                                         </td><td>35000                                                                         </td><td> 61                                                                           </td></tr>\n",
       "</tbody>\n",
       "</table>\n"
      ],
      "text/latex": [
       "\\begin{tabular}{r|llllllllllllllll}\n",
       " idno & netustm & ppltrst & vote & prtvtddk & lvpntyr & tygrtr & gndr & yrbrn & edlvddk & eduyrs & wkhct & wkhtot & grspnum & frlgrsp & inwtm\\\\\n",
       "\\hline\n",
       "\t  110                                                                           & 180                                                                            & 8                                                                              & Yes                                                                            & Socialdemokratiet - The Social democrats                                       & 1968                                                                           & Never too young                                                                & Male                                                                           & 1949                                                                           & Kort videregående uddannelse af op til 2-3 års varighed, F.eks. Erhvervsakadem &  9                                                                             & 28                                                                             & 28                                                                             &    NA                                                                          &    NA                                                                          & 119                                                                           \\\\\n",
       "\t  705                                                                           &  60                                                                            & 5                                                                              & Yes                                                                            & Det Konservative Folkeparti - Conservative People's Party                      & 1976                                                                           & 67                                                                             & Male                                                                           & 1958                                                                           & Kort videregående uddannelse af op til 2-3 års varighed, F.eks. Erhvervsakadem & 22                                                                             & 37                                                                             & 45                                                                             &    NA                                                                          &    NA                                                                          &  55                                                                           \\\\\n",
       "\t 1327                                                                           & 240                                                                            & 5                                                                              & NA                                                                             & NA                                                                             & Still in parental home, never left 2 months                                    & NA                                                                             & Male                                                                           & 2000                                                                           & Folkeskole 9.-10. klasse                                                       & 11                                                                             & 37                                                                             & 37                                                                             &    NA                                                                          &    NA                                                                          &  37                                                                           \\\\\n",
       "\t 3760                                                                           & 300                                                                            & 7                                                                              & Not eligible to vote                                                           & NA                                                                             & Still in parental home, never left 2 months                                    & 40                                                                             & Male                                                                           & 2002                                                                           & Folkeskole 9.-10. klasse                                                       &  9                                                                             &  2                                                                             &  2                                                                             &   200                                                                          &    NA                                                                          &  43                                                                           \\\\\n",
       "\t 4658                                                                           &  90                                                                            & 8                                                                              & Yes                                                                            & NA                                                                             & 1974                                                                           & 50                                                                             & Female                                                                         & 1956                                                                           & Kort videregående uddannelse af op til 2-3 års varighed, F.eks. Erhvervsakadem &  4                                                                             & 30                                                                             & 30                                                                             &    NA                                                                          &    NA                                                                          &  62                                                                           \\\\\n",
       "\t 5816                                                                           &  90                                                                            & 7                                                                              & Yes                                                                            & SF Socialistisk Folkeparti - Socialist People's Party                          & 1994                                                                           & 60                                                                             & Male                                                                           & 1974                                                                           & Mellemlang videregående uddannelse af 3-4 års varighed. Professionsbachelorer, & 35                                                                             & 37                                                                             & 37                                                                             & 37000                                                                          & 35000                                                                          &  61                                                                           \\\\\n",
       "\\end{tabular}\n"
      ],
      "text/markdown": [
       "\n",
       "| idno | netustm | ppltrst | vote | prtvtddk | lvpntyr | tygrtr | gndr | yrbrn | edlvddk | eduyrs | wkhct | wkhtot | grspnum | frlgrsp | inwtm |\n",
       "|---|---|---|---|---|---|---|---|---|---|---|---|---|---|---|---|\n",
       "|  110                                                                           | 180                                                                            | 8                                                                              | Yes                                                                            | Socialdemokratiet - The Social democrats                                       | 1968                                                                           | Never too young                                                                | Male                                                                           | 1949                                                                           | Kort videregående uddannelse af op til 2-3 års varighed, F.eks. Erhvervsakadem |  9                                                                             | 28                                                                             | 28                                                                             |    NA                                                                          |    NA                                                                          | 119                                                                            |\n",
       "|  705                                                                           |  60                                                                            | 5                                                                              | Yes                                                                            | Det Konservative Folkeparti - Conservative People's Party                      | 1976                                                                           | 67                                                                             | Male                                                                           | 1958                                                                           | Kort videregående uddannelse af op til 2-3 års varighed, F.eks. Erhvervsakadem | 22                                                                             | 37                                                                             | 45                                                                             |    NA                                                                          |    NA                                                                          |  55                                                                            |\n",
       "| 1327                                                                           | 240                                                                            | 5                                                                              | NA                                                                             | NA                                                                             | Still in parental home, never left 2 months                                    | NA                                                                             | Male                                                                           | 2000                                                                           | Folkeskole 9.-10. klasse                                                       | 11                                                                             | 37                                                                             | 37                                                                             |    NA                                                                          |    NA                                                                          |  37                                                                            |\n",
       "| 3760                                                                           | 300                                                                            | 7                                                                              | Not eligible to vote                                                           | NA                                                                             | Still in parental home, never left 2 months                                    | 40                                                                             | Male                                                                           | 2002                                                                           | Folkeskole 9.-10. klasse                                                       |  9                                                                             |  2                                                                             |  2                                                                             |   200                                                                          |    NA                                                                          |  43                                                                            |\n",
       "| 4658                                                                           |  90                                                                            | 8                                                                              | Yes                                                                            | NA                                                                             | 1974                                                                           | 50                                                                             | Female                                                                         | 1956                                                                           | Kort videregående uddannelse af op til 2-3 års varighed, F.eks. Erhvervsakadem |  4                                                                             | 30                                                                             | 30                                                                             |    NA                                                                          |    NA                                                                          |  62                                                                            |\n",
       "| 5816                                                                           |  90                                                                            | 7                                                                              | Yes                                                                            | SF Socialistisk Folkeparti - Socialist People's Party                          | 1994                                                                           | 60                                                                             | Male                                                                           | 1974                                                                           | Mellemlang videregående uddannelse af 3-4 års varighed. Professionsbachelorer, | 35                                                                             | 37                                                                             | 37                                                                             | 37000                                                                          | 35000                                                                          |  61                                                                            |\n",
       "\n"
      ],
      "text/plain": [
       "  idno netustm ppltrst vote                \n",
       "1  110 180     8       Yes                 \n",
       "2  705  60     5       Yes                 \n",
       "3 1327 240     5       NA                  \n",
       "4 3760 300     7       Not eligible to vote\n",
       "5 4658  90     8       Yes                 \n",
       "6 5816  90     7       Yes                 \n",
       "  prtvtddk                                                 \n",
       "1 Socialdemokratiet - The Social democrats                 \n",
       "2 Det Konservative Folkeparti - Conservative People's Party\n",
       "3 NA                                                       \n",
       "4 NA                                                       \n",
       "5 NA                                                       \n",
       "6 SF Socialistisk Folkeparti - Socialist People's Party    \n",
       "  lvpntyr                                     tygrtr          gndr   yrbrn\n",
       "1 1968                                        Never too young Male   1949 \n",
       "2 1976                                        67              Male   1958 \n",
       "3 Still in parental home, never left 2 months NA              Male   2000 \n",
       "4 Still in parental home, never left 2 months 40              Male   2002 \n",
       "5 1974                                        50              Female 1956 \n",
       "6 1994                                        60              Male   1974 \n",
       "  edlvddk                                                                       \n",
       "1 Kort videregående uddannelse af op til 2-3 års varighed, F.eks. Erhvervsakadem\n",
       "2 Kort videregående uddannelse af op til 2-3 års varighed, F.eks. Erhvervsakadem\n",
       "3 Folkeskole 9.-10. klasse                                                      \n",
       "4 Folkeskole 9.-10. klasse                                                      \n",
       "5 Kort videregående uddannelse af op til 2-3 års varighed, F.eks. Erhvervsakadem\n",
       "6 Mellemlang videregående uddannelse af 3-4 års varighed. Professionsbachelorer,\n",
       "  eduyrs wkhct wkhtot grspnum frlgrsp inwtm\n",
       "1  9     28    28        NA      NA   119  \n",
       "2 22     37    45        NA      NA    55  \n",
       "3 11     37    37        NA      NA    37  \n",
       "4  9      2     2       200      NA    43  \n",
       "5  4     30    30        NA      NA    62  \n",
       "6 35     37    37     37000   35000    61  "
      ]
     },
     "metadata": {},
     "output_type": "display_data"
    }
   ],
   "source": [
    "# Coerce as factor\n",
    "data <- data %>%\n",
    "    mutate(gndr = as.factor(gndr))\n",
    "\n",
    "head(data)"
   ]
  },
  {
   "cell_type": "markdown",
   "metadata": {},
   "source": [
    "Just inspecting the data shows no difference between the string version of the factor version of the variable but isolating it reveals how it is now structured:"
   ]
  },
  {
   "cell_type": "code",
   "execution_count": 91,
   "metadata": {},
   "outputs": [
    {
     "data": {
      "text/html": [
       "<ol class=list-inline>\n",
       "\t<li>Male</li>\n",
       "\t<li>Female</li>\n",
       "</ol>\n",
       "\n",
       "<details>\n",
       "\t<summary style=display:list-item;cursor:pointer>\n",
       "\t\t<strong>Levels</strong>:\n",
       "\t</summary>\n",
       "\t<ol class=list-inline>\n",
       "\t\t<li>'Female'</li>\n",
       "\t\t<li>'Male'</li>\n",
       "\t</ol>\n",
       "</details>"
      ],
      "text/latex": [
       "\\begin{enumerate*}\n",
       "\\item Male\n",
       "\\item Female\n",
       "\\end{enumerate*}\n",
       "\n",
       "\\emph{Levels}: \\begin{enumerate*}\n",
       "\\item 'Female'\n",
       "\\item 'Male'\n",
       "\\end{enumerate*}\n"
      ],
      "text/markdown": [
       "1. Male\n",
       "2. Female\n",
       "\n",
       "\n",
       "\n",
       "**Levels**: 1. 'Female'\n",
       "2. 'Male'\n",
       "\n",
       "\n"
      ],
      "text/plain": [
       "[1] Male   Female\n",
       "Levels: Female Male"
      ]
     },
     "metadata": {},
     "output_type": "display_data"
    }
   ],
   "source": [
    "# Inspecting values and levels\n",
    "unique(data$gndr)"
   ]
  },
  {
   "cell_type": "markdown",
   "metadata": {},
   "source": [
    "Compared to strings, factors both contains the values *and* the possible values of the factor (the levels)."
   ]
  },
  {
   "cell_type": "code",
   "execution_count": 92,
   "metadata": {},
   "outputs": [
    {
     "data": {
      "text/html": [
       "<ol class=list-inline>\n",
       "\t<li>'Female'</li>\n",
       "\t<li>'Male'</li>\n",
       "</ol>\n"
      ],
      "text/latex": [
       "\\begin{enumerate*}\n",
       "\\item 'Female'\n",
       "\\item 'Male'\n",
       "\\end{enumerate*}\n"
      ],
      "text/markdown": [
       "1. 'Female'\n",
       "2. 'Male'\n",
       "\n",
       "\n"
      ],
      "text/plain": [
       "[1] \"Female\" \"Male\"  "
      ]
     },
     "metadata": {},
     "output_type": "display_data"
    }
   ],
   "source": [
    "levels(data$gndr)"
   ]
  },
  {
   "cell_type": "markdown",
   "metadata": {},
   "source": [
    "### Ordered/unordered\n",
    "\n",
    "A factor will by default be set as unordered (nominally scaled). This can be changed by using the `factor()` function and the `ordered = ` argument. Where `as.factor()` simply converts the string values to unordered categories, `factor()` both allows for specifying the possible categories and whether or not they are ordered:"
   ]
  },
  {
   "cell_type": "code",
   "execution_count": 93,
   "metadata": {},
   "outputs": [
    {
     "data": {
      "text/html": [
       "<table>\n",
       "<thead><tr><th scope=col>wkhct_cat</th><th scope=col>count</th></tr></thead>\n",
       "<tbody>\n",
       "\t<tr><td>NA                </td><td>124               </td></tr>\n",
       "\t<tr><td>37 hours          </td><td>848               </td></tr>\n",
       "\t<tr><td>Less than 37 hours</td><td>426               </td></tr>\n",
       "\t<tr><td>More than 37 hours</td><td>174               </td></tr>\n",
       "</tbody>\n",
       "</table>\n"
      ],
      "text/latex": [
       "\\begin{tabular}{r|ll}\n",
       " wkhct\\_cat & count\\\\\n",
       "\\hline\n",
       "\t NA                 & 124               \\\\\n",
       "\t 37 hours           & 848               \\\\\n",
       "\t Less than 37 hours & 426               \\\\\n",
       "\t More than 37 hours & 174               \\\\\n",
       "\\end{tabular}\n"
      ],
      "text/markdown": [
       "\n",
       "| wkhct_cat | count |\n",
       "|---|---|\n",
       "| NA                 | 124                |\n",
       "| 37 hours           | 848                |\n",
       "| Less than 37 hours | 426                |\n",
       "| More than 37 hours | 174                |\n",
       "\n"
      ],
      "text/plain": [
       "  wkhct_cat          count\n",
       "1 NA                 124  \n",
       "2 37 hours           848  \n",
       "3 Less than 37 hours 426  \n",
       "4 More than 37 hours 174  "
      ]
     },
     "metadata": {},
     "output_type": "display_data"
    }
   ],
   "source": [
    "# Create categorical variable for contracted hours:\n",
    "\n",
    "data <- data %>%\n",
    "    mutate(wkhct_cat = case_when(\n",
    "        wkhct == 37 ~ \"37 hours\",\n",
    "        wkhct < 37 ~ \"Less than 37 hours\",\n",
    "        wkhct > 37 ~ \"More than 37 hours\",\n",
    "        TRUE ~ NA_character_ # specifies the type of missing (character missing)\n",
    "        ))\n",
    "\n",
    "data %>%\n",
    "    group_by(wkhct_cat) %>%\n",
    "    summarize(count = n())"
   ]
  },
  {
   "cell_type": "code",
   "execution_count": 94,
   "metadata": {},
   "outputs": [],
   "source": [
    "# Create factor as ordered/ordinal (but what order?)\n",
    "data <- data %>%\n",
    "    mutate(wkhct_cat = factor(wkhct_cat, ordered = TRUE))"
   ]
  },
  {
   "cell_type": "code",
   "execution_count": 95,
   "metadata": {},
   "outputs": [
    {
     "data": {
      "text/html": [
       "<ol class=list-inline>\n",
       "\t<li>Less than 37 hours</li>\n",
       "\t<li>37 hours</li>\n",
       "\t<li>More than 37 hours</li>\n",
       "\t<li>&lt;NA&gt;</li>\n",
       "</ol>\n",
       "\n",
       "<details>\n",
       "\t<summary style=display:list-item;cursor:pointer>\n",
       "\t\t<strong>Levels</strong>:\n",
       "\t</summary>\n",
       "\t<ol class=list-inline>\n",
       "\t\t<li>'37 hours'</li>\n",
       "\t\t<li>'Less than 37 hours'</li>\n",
       "\t\t<li>'More than 37 hours'</li>\n",
       "\t</ol>\n",
       "</details>"
      ],
      "text/latex": [
       "\\begin{enumerate*}\n",
       "\\item Less than 37 hours\n",
       "\\item 37 hours\n",
       "\\item More than 37 hours\n",
       "\\item <NA>\n",
       "\\end{enumerate*}\n",
       "\n",
       "\\emph{Levels}: \\begin{enumerate*}\n",
       "\\item '37 hours'\n",
       "\\item 'Less than 37 hours'\n",
       "\\item 'More than 37 hours'\n",
       "\\end{enumerate*}\n"
      ],
      "text/markdown": [
       "1. Less than 37 hours\n",
       "2. 37 hours\n",
       "3. More than 37 hours\n",
       "4. &lt;NA&gt;\n",
       "\n",
       "\n",
       "\n",
       "**Levels**: 1. '37 hours'\n",
       "2. 'Less than 37 hours'\n",
       "3. 'More than 37 hours'\n",
       "\n",
       "\n"
      ],
      "text/plain": [
       "[1] Less than 37 hours 37 hours           More than 37 hours <NA>              \n",
       "Levels: 37 hours < Less than 37 hours < More than 37 hours"
      ]
     },
     "metadata": {},
     "output_type": "display_data"
    }
   ],
   "source": [
    "# Inspecting values and levels\n",
    "unique(data$wkhct_cat)"
   ]
  },
  {
   "cell_type": "markdown",
   "metadata": {},
   "source": [
    "Because the order was not explicitly specified, R will just order the categories alphabetically:"
   ]
  },
  {
   "cell_type": "code",
   "execution_count": 96,
   "metadata": {},
   "outputs": [
    {
     "data": {
      "text/html": [
       "<table>\n",
       "<thead><tr><th scope=col>idno</th><th scope=col>netustm</th><th scope=col>ppltrst</th><th scope=col>vote</th><th scope=col>prtvtddk</th><th scope=col>lvpntyr</th><th scope=col>tygrtr</th><th scope=col>gndr</th><th scope=col>yrbrn</th><th scope=col>edlvddk</th><th scope=col>eduyrs</th><th scope=col>wkhct</th><th scope=col>wkhtot</th><th scope=col>grspnum</th><th scope=col>frlgrsp</th><th scope=col>inwtm</th><th scope=col>wkhct_cat</th></tr></thead>\n",
       "<tbody>\n",
       "\t<tr><td>110                                                                           </td><td>180                                                                           </td><td>8                                                                             </td><td>Yes                                                                           </td><td>Socialdemokratiet - The Social democrats                                      </td><td>1968                                                                          </td><td>Never too young                                                               </td><td>Male                                                                          </td><td>1949                                                                          </td><td>Kort videregående uddannelse af op til 2-3 års varighed, F.eks. Erhvervsakadem</td><td> 9                                                                            </td><td>28                                                                            </td><td>28                                                                            </td><td>NA                                                                            </td><td>NA                                                                            </td><td>119                                                                           </td><td>Less than 37 hours                                                            </td></tr>\n",
       "\t<tr><td>705                                                                           </td><td> 60                                                                           </td><td>5                                                                             </td><td>Yes                                                                           </td><td>Det Konservative Folkeparti - Conservative People's Party                     </td><td>1976                                                                          </td><td>67                                                                            </td><td>Male                                                                          </td><td>1958                                                                          </td><td>Kort videregående uddannelse af op til 2-3 års varighed, F.eks. Erhvervsakadem</td><td>22                                                                            </td><td>37                                                                            </td><td>45                                                                            </td><td>NA                                                                            </td><td>NA                                                                            </td><td> 55                                                                           </td><td>37 hours                                                                      </td></tr>\n",
       "</tbody>\n",
       "</table>\n"
      ],
      "text/latex": [
       "\\begin{tabular}{r|lllllllllllllllll}\n",
       " idno & netustm & ppltrst & vote & prtvtddk & lvpntyr & tygrtr & gndr & yrbrn & edlvddk & eduyrs & wkhct & wkhtot & grspnum & frlgrsp & inwtm & wkhct\\_cat\\\\\n",
       "\\hline\n",
       "\t 110                                                                            & 180                                                                            & 8                                                                              & Yes                                                                            & Socialdemokratiet - The Social democrats                                       & 1968                                                                           & Never too young                                                                & Male                                                                           & 1949                                                                           & Kort videregående uddannelse af op til 2-3 års varighed, F.eks. Erhvervsakadem &  9                                                                             & 28                                                                             & 28                                                                             & NA                                                                             & NA                                                                             & 119                                                                            & Less than 37 hours                                                            \\\\\n",
       "\t 705                                                                            &  60                                                                            & 5                                                                              & Yes                                                                            & Det Konservative Folkeparti - Conservative People's Party                      & 1976                                                                           & 67                                                                             & Male                                                                           & 1958                                                                           & Kort videregående uddannelse af op til 2-3 års varighed, F.eks. Erhvervsakadem & 22                                                                             & 37                                                                             & 45                                                                             & NA                                                                             & NA                                                                             &  55                                                                            & 37 hours                                                                      \\\\\n",
       "\\end{tabular}\n"
      ],
      "text/markdown": [
       "\n",
       "| idno | netustm | ppltrst | vote | prtvtddk | lvpntyr | tygrtr | gndr | yrbrn | edlvddk | eduyrs | wkhct | wkhtot | grspnum | frlgrsp | inwtm | wkhct_cat |\n",
       "|---|---|---|---|---|---|---|---|---|---|---|---|---|---|---|---|---|\n",
       "| 110                                                                            | 180                                                                            | 8                                                                              | Yes                                                                            | Socialdemokratiet - The Social democrats                                       | 1968                                                                           | Never too young                                                                | Male                                                                           | 1949                                                                           | Kort videregående uddannelse af op til 2-3 års varighed, F.eks. Erhvervsakadem |  9                                                                             | 28                                                                             | 28                                                                             | NA                                                                             | NA                                                                             | 119                                                                            | Less than 37 hours                                                             |\n",
       "| 705                                                                            |  60                                                                            | 5                                                                              | Yes                                                                            | Det Konservative Folkeparti - Conservative People's Party                      | 1976                                                                           | 67                                                                             | Male                                                                           | 1958                                                                           | Kort videregående uddannelse af op til 2-3 års varighed, F.eks. Erhvervsakadem | 22                                                                             | 37                                                                             | 45                                                                             | NA                                                                             | NA                                                                             |  55                                                                            | 37 hours                                                                       |\n",
       "\n"
      ],
      "text/plain": [
       "  idno netustm ppltrst vote\n",
       "1 110  180     8       Yes \n",
       "2 705   60     5       Yes \n",
       "  prtvtddk                                                  lvpntyr\n",
       "1 Socialdemokratiet - The Social democrats                  1968   \n",
       "2 Det Konservative Folkeparti - Conservative People's Party 1976   \n",
       "  tygrtr          gndr yrbrn\n",
       "1 Never too young Male 1949 \n",
       "2 67              Male 1958 \n",
       "  edlvddk                                                                       \n",
       "1 Kort videregående uddannelse af op til 2-3 års varighed, F.eks. Erhvervsakadem\n",
       "2 Kort videregående uddannelse af op til 2-3 års varighed, F.eks. Erhvervsakadem\n",
       "  eduyrs wkhct wkhtot grspnum frlgrsp inwtm wkhct_cat         \n",
       "1  9     28    28     NA      NA      119   Less than 37 hours\n",
       "2 22     37    45     NA      NA       55   37 hours          "
      ]
     },
     "metadata": {},
     "output_type": "display_data"
    },
    {
     "data": {
      "text/html": [
       "TRUE"
      ],
      "text/latex": [
       "TRUE"
      ],
      "text/markdown": [
       "TRUE"
      ],
      "text/plain": [
       "[1] TRUE"
      ]
     },
     "metadata": {},
     "output_type": "display_data"
    }
   ],
   "source": [
    "head(data, 2)\n",
    "\n",
    "data$wkhct_cat[1] > data$wkhct_cat[2]"
   ]
  },
  {
   "cell_type": "markdown",
   "metadata": {},
   "source": [
    "The order has to be explicitly specified:"
   ]
  },
  {
   "cell_type": "code",
   "execution_count": 97,
   "metadata": {},
   "outputs": [
    {
     "data": {
      "text/html": [
       "<ol class=list-inline>\n",
       "\t<li>Less than 37 hours</li>\n",
       "\t<li>37 hours</li>\n",
       "\t<li>More than 37 hours</li>\n",
       "\t<li>&lt;NA&gt;</li>\n",
       "</ol>\n",
       "\n",
       "<details>\n",
       "\t<summary style=display:list-item;cursor:pointer>\n",
       "\t\t<strong>Levels</strong>:\n",
       "\t</summary>\n",
       "\t<ol class=list-inline>\n",
       "\t\t<li>'Less than 37 hours'</li>\n",
       "\t\t<li>'37 hours'</li>\n",
       "\t\t<li>'More than 37 hours'</li>\n",
       "\t</ol>\n",
       "</details>"
      ],
      "text/latex": [
       "\\begin{enumerate*}\n",
       "\\item Less than 37 hours\n",
       "\\item 37 hours\n",
       "\\item More than 37 hours\n",
       "\\item <NA>\n",
       "\\end{enumerate*}\n",
       "\n",
       "\\emph{Levels}: \\begin{enumerate*}\n",
       "\\item 'Less than 37 hours'\n",
       "\\item '37 hours'\n",
       "\\item 'More than 37 hours'\n",
       "\\end{enumerate*}\n"
      ],
      "text/markdown": [
       "1. Less than 37 hours\n",
       "2. 37 hours\n",
       "3. More than 37 hours\n",
       "4. &lt;NA&gt;\n",
       "\n",
       "\n",
       "\n",
       "**Levels**: 1. 'Less than 37 hours'\n",
       "2. '37 hours'\n",
       "3. 'More than 37 hours'\n",
       "\n",
       "\n"
      ],
      "text/plain": [
       "[1] Less than 37 hours 37 hours           More than 37 hours <NA>              \n",
       "Levels: Less than 37 hours < 37 hours < More than 37 hours"
      ]
     },
     "metadata": {},
     "output_type": "display_data"
    }
   ],
   "source": [
    "# Creating ordered factor but setting custom order\n",
    "data <- data %>%\n",
    "    mutate(wkhct_cat = factor(wkhct_cat, levels = c('Less than 37 hours', '37 hours', 'More than 37 hours'), \n",
    "                              ordered = TRUE))\n",
    "\n",
    "unique(data$wkhct_cat)"
   ]
  },
  {
   "cell_type": "code",
   "execution_count": 99,
   "metadata": {},
   "outputs": [
    {
     "data": {
      "text/html": [
       "<table>\n",
       "<thead><tr><th scope=col>idno</th><th scope=col>netustm</th><th scope=col>ppltrst</th><th scope=col>vote</th><th scope=col>prtvtddk</th><th scope=col>lvpntyr</th><th scope=col>tygrtr</th><th scope=col>gndr</th><th scope=col>yrbrn</th><th scope=col>edlvddk</th><th scope=col>eduyrs</th><th scope=col>wkhct</th><th scope=col>wkhtot</th><th scope=col>grspnum</th><th scope=col>frlgrsp</th><th scope=col>inwtm</th><th scope=col>wkhct_cat</th></tr></thead>\n",
       "<tbody>\n",
       "\t<tr><td>110                                                                           </td><td>180                                                                           </td><td>8                                                                             </td><td>Yes                                                                           </td><td>Socialdemokratiet - The Social democrats                                      </td><td>1968                                                                          </td><td>Never too young                                                               </td><td>Male                                                                          </td><td>1949                                                                          </td><td>Kort videregående uddannelse af op til 2-3 års varighed, F.eks. Erhvervsakadem</td><td> 9                                                                            </td><td>28                                                                            </td><td>28                                                                            </td><td>NA                                                                            </td><td>NA                                                                            </td><td>119                                                                           </td><td>Less than 37 hours                                                            </td></tr>\n",
       "\t<tr><td>705                                                                           </td><td> 60                                                                           </td><td>5                                                                             </td><td>Yes                                                                           </td><td>Det Konservative Folkeparti - Conservative People's Party                     </td><td>1976                                                                          </td><td>67                                                                            </td><td>Male                                                                          </td><td>1958                                                                          </td><td>Kort videregående uddannelse af op til 2-3 års varighed, F.eks. Erhvervsakadem</td><td>22                                                                            </td><td>37                                                                            </td><td>45                                                                            </td><td>NA                                                                            </td><td>NA                                                                            </td><td> 55                                                                           </td><td>37 hours                                                                      </td></tr>\n",
       "</tbody>\n",
       "</table>\n"
      ],
      "text/latex": [
       "\\begin{tabular}{r|lllllllllllllllll}\n",
       " idno & netustm & ppltrst & vote & prtvtddk & lvpntyr & tygrtr & gndr & yrbrn & edlvddk & eduyrs & wkhct & wkhtot & grspnum & frlgrsp & inwtm & wkhct\\_cat\\\\\n",
       "\\hline\n",
       "\t 110                                                                            & 180                                                                            & 8                                                                              & Yes                                                                            & Socialdemokratiet - The Social democrats                                       & 1968                                                                           & Never too young                                                                & Male                                                                           & 1949                                                                           & Kort videregående uddannelse af op til 2-3 års varighed, F.eks. Erhvervsakadem &  9                                                                             & 28                                                                             & 28                                                                             & NA                                                                             & NA                                                                             & 119                                                                            & Less than 37 hours                                                            \\\\\n",
       "\t 705                                                                            &  60                                                                            & 5                                                                              & Yes                                                                            & Det Konservative Folkeparti - Conservative People's Party                      & 1976                                                                           & 67                                                                             & Male                                                                           & 1958                                                                           & Kort videregående uddannelse af op til 2-3 års varighed, F.eks. Erhvervsakadem & 22                                                                             & 37                                                                             & 45                                                                             & NA                                                                             & NA                                                                             &  55                                                                            & 37 hours                                                                      \\\\\n",
       "\\end{tabular}\n"
      ],
      "text/markdown": [
       "\n",
       "| idno | netustm | ppltrst | vote | prtvtddk | lvpntyr | tygrtr | gndr | yrbrn | edlvddk | eduyrs | wkhct | wkhtot | grspnum | frlgrsp | inwtm | wkhct_cat |\n",
       "|---|---|---|---|---|---|---|---|---|---|---|---|---|---|---|---|---|\n",
       "| 110                                                                            | 180                                                                            | 8                                                                              | Yes                                                                            | Socialdemokratiet - The Social democrats                                       | 1968                                                                           | Never too young                                                                | Male                                                                           | 1949                                                                           | Kort videregående uddannelse af op til 2-3 års varighed, F.eks. Erhvervsakadem |  9                                                                             | 28                                                                             | 28                                                                             | NA                                                                             | NA                                                                             | 119                                                                            | Less than 37 hours                                                             |\n",
       "| 705                                                                            |  60                                                                            | 5                                                                              | Yes                                                                            | Det Konservative Folkeparti - Conservative People's Party                      | 1976                                                                           | 67                                                                             | Male                                                                           | 1958                                                                           | Kort videregående uddannelse af op til 2-3 års varighed, F.eks. Erhvervsakadem | 22                                                                             | 37                                                                             | 45                                                                             | NA                                                                             | NA                                                                             |  55                                                                            | 37 hours                                                                       |\n",
       "\n"
      ],
      "text/plain": [
       "  idno netustm ppltrst vote\n",
       "1 110  180     8       Yes \n",
       "2 705   60     5       Yes \n",
       "  prtvtddk                                                  lvpntyr\n",
       "1 Socialdemokratiet - The Social democrats                  1968   \n",
       "2 Det Konservative Folkeparti - Conservative People's Party 1976   \n",
       "  tygrtr          gndr yrbrn\n",
       "1 Never too young Male 1949 \n",
       "2 67              Male 1958 \n",
       "  edlvddk                                                                       \n",
       "1 Kort videregående uddannelse af op til 2-3 års varighed, F.eks. Erhvervsakadem\n",
       "2 Kort videregående uddannelse af op til 2-3 års varighed, F.eks. Erhvervsakadem\n",
       "  eduyrs wkhct wkhtot grspnum frlgrsp inwtm wkhct_cat         \n",
       "1  9     28    28     NA      NA      119   Less than 37 hours\n",
       "2 22     37    45     NA      NA       55   37 hours          "
      ]
     },
     "metadata": {},
     "output_type": "display_data"
    },
    {
     "data": {
      "text/html": [
       "FALSE"
      ],
      "text/latex": [
       "FALSE"
      ],
      "text/markdown": [
       "FALSE"
      ],
      "text/plain": [
       "[1] FALSE"
      ]
     },
     "metadata": {},
     "output_type": "display_data"
    }
   ],
   "source": [
    "head(data, 2)\n",
    "\n",
    "data$wkhct_cat[1] > data$wkhct_cat[2]"
   ]
  },
  {
   "cell_type": "markdown",
   "metadata": {},
   "source": [
    "## Strings vs. factors\n",
    "\n",
    "The main benefit of factors is being able to control the behaviour of the categories. Factors allows one to work with categories that may not be present in a specific variable (this can be useful in the case of likert scales where not all possible levels of the scale are present)."
   ]
  },
  {
   "cell_type": "code",
   "execution_count": 138,
   "metadata": {},
   "outputs": [],
   "source": [
    "data <- data %>%\n",
    "    mutate(gndr_3 = factor(gndr, levels = c(\"Female\", \"Male\", \"Other\")))"
   ]
  },
  {
   "cell_type": "code",
   "execution_count": 139,
   "metadata": {},
   "outputs": [
    {
     "data": {
      "text/plain": [
       "\n",
       "Female   Male  Other \n",
       "   726    846      0 "
      ]
     },
     "metadata": {},
     "output_type": "display_data"
    }
   ],
   "source": [
    "table(data$gndr_3)"
   ]
  },
  {
   "cell_type": "markdown",
   "metadata": {},
   "source": [
    "**Note of caution**\n",
    "Using `factor()` will automatically recode categories not present in the data to missing:"
   ]
  },
  {
   "cell_type": "code",
   "execution_count": 140,
   "metadata": {},
   "outputs": [],
   "source": [
    "data <- data %>%\n",
    "    mutate(gndr_3 = factor(gndr, levels = c(\"Male\", \"Other\")))"
   ]
  },
  {
   "cell_type": "code",
   "execution_count": 141,
   "metadata": {},
   "outputs": [
    {
     "data": {
      "text/plain": [
       "\n",
       " Male Other \n",
       "  846     0 "
      ]
     },
     "metadata": {},
     "output_type": "display_data"
    }
   ],
   "source": [
    "table(data$gndr_3)"
   ]
  },
  {
   "cell_type": "markdown",
   "metadata": {},
   "source": [
    "As an extra caution, use `parse_factor()` instead as this will give a warning if this occurs (`parse_factor()` expects input variable to be character):"
   ]
  },
  {
   "cell_type": "code",
   "execution_count": 137,
   "metadata": {},
   "outputs": [
    {
     "name": "stderr",
     "output_type": "stream",
     "text": [
      "Warning message:\n",
      "\"726 parsing failures.\n",
      "row col           expected actual\n",
      "  5  -- value in level set Female\n",
      "  7  -- value in level set Female\n",
      "  9  -- value in level set Female\n",
      " 11  -- value in level set Female\n",
      " 14  -- value in level set Female\n",
      "... ... .................. ......\n",
      "See problems(...) for more details.\n",
      "\""
     ]
    },
    {
     "data": {
      "text/plain": [
       "\n",
       " Male Other \n",
       "  846     0 "
      ]
     },
     "metadata": {},
     "output_type": "display_data"
    }
   ],
   "source": [
    "data <- data %>%\n",
    "    mutate(gndr_3 = parse_factor(as.character(gndr), levels = c(\"Male\", \"Other\")))\n",
    "\n",
    "table(data$gndr_3)"
   ]
  },
  {
   "cell_type": "markdown",
   "metadata": {},
   "source": [
    "## `forcats` \n",
    "\n",
    "`forcats` is a package specifically for working with factors in R. It provides a range of function for modifying level labels and order of labels for a factor.\n",
    "\n",
    "See [the cheatsheet](https://raw.githubusercontent.com/rstudio/cheatsheets/master/factors.pdf).\n",
    "\n",
    "Some useful functions include:\n",
    "- `fct_recode()`: Alterntive to `recode()` that maintains the factor levels\n",
    "- `fct_collapse()`: Combine categories in a factor\n",
    "- `fct_lump()`: Combine small categories to a common category (like \"Other\")"
   ]
  }
 ],
 "metadata": {
  "kernelspec": {
   "display_name": "R",
   "language": "R",
   "name": "ir"
  },
  "language_info": {
   "codemirror_mode": "r",
   "file_extension": ".r",
   "mimetype": "text/x-r-source",
   "name": "R",
   "pygments_lexer": "r",
   "version": "4.1.1"
  }
 },
 "nbformat": 4,
 "nbformat_minor": 4
}
