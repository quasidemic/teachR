{
 "cells": [
  {
   "cell_type": "markdown",
   "metadata": {},
   "source": [
    "# Dates\n",
    "\n",
    "R usually treats dates as strings unless otherwise specified."
   ]
  },
  {
   "cell_type": "code",
   "execution_count": 1,
   "metadata": {},
   "outputs": [
    {
     "name": "stderr",
     "output_type": "stream",
     "text": [
      "Registered S3 methods overwritten by 'ggplot2':\n",
      "  method         from \n",
      "  [.quosures     rlang\n",
      "  c.quosures     rlang\n",
      "  print.quosures rlang\n",
      "Registered S3 method overwritten by 'rvest':\n",
      "  method            from\n",
      "  read_xml.response xml2\n",
      "-- Attaching packages --------------------------------------- tidyverse 1.2.1 --\n",
      "v ggplot2 3.1.1       v purrr   0.3.2  \n",
      "v tibble  2.1.1       v dplyr   0.8.0.1\n",
      "v tidyr   0.8.3       v stringr 1.4.0  \n",
      "v readr   1.3.1       v forcats 0.4.0  \n",
      "-- Conflicts ------------------------------------------ tidyverse_conflicts() --\n",
      "x dplyr::filter() masks stats::filter()\n",
      "x dplyr::lag()    masks stats::lag()\n",
      "\n",
      "Attaching package: 'lubridate'\n",
      "\n",
      "The following object is masked from 'package:base':\n",
      "\n",
      "    date\n",
      "\n",
      "Parsed with column specification:\n",
      "cols(\n",
      "  .default = col_double(),\n",
      "  PNR = col_character(),\n",
      "  FOED_DAG = col_character()\n",
      ")\n",
      "See spec(...) for full column specifications.\n"
     ]
    }
   ],
   "source": [
    "library(tidyverse)\n",
    "library(lubridate)\n",
    "\n",
    "reg_data <- read_csv(\"https://github.com/CALDISS-AAU/workshop_r-table-data/raw/master/data/bef_dream_2015.csv\")"
   ]
  },
  {
   "cell_type": "code",
   "execution_count": 3,
   "metadata": {},
   "outputs": [
    {
     "data": {
      "text/html": [
       "<table>\n",
       "<thead><tr><th scope=col>PNR</th><th scope=col>KOEN</th><th scope=col>FOED_DAG</th><th scope=col>br_2010_01</th><th scope=col>br_2010_02</th><th scope=col>br_2010_03</th><th scope=col>br_2010_04</th><th scope=col>br_2010_05</th><th scope=col>br_2010_06</th><th scope=col>br_2010_07</th><th scope=col>...</th><th scope=col>br_2015_03</th><th scope=col>br_2015_04</th><th scope=col>br_2015_05</th><th scope=col>br_2015_06</th><th scope=col>br_2015_07</th><th scope=col>br_2015_08</th><th scope=col>br_2015_09</th><th scope=col>br_2015_10</th><th scope=col>br_2015_11</th><th scope=col>br_2015_12</th></tr></thead>\n",
       "<tbody>\n",
       "\t<tr><td>00005532 </td><td>2        </td><td>23may1942</td><td>    NA   </td><td>    NA   </td><td>    NA   </td><td>    NA   </td><td>    NA   </td><td>    NA   </td><td>    NA   </td><td>...      </td><td>    NA   </td><td>    NA   </td><td>    NA   </td><td>    NA   </td><td>    NA   </td><td>    NA   </td><td>    NA   </td><td>    NA   </td><td>    NA   </td><td>    NA   </td></tr>\n",
       "\t<tr><td>00005562 </td><td>2        </td><td>28jun1971</td><td>    NA   </td><td>    NA   </td><td>    NA   </td><td>    NA   </td><td>    NA   </td><td>    NA   </td><td>    NA   </td><td>...      </td><td>    NA   </td><td>    NA   </td><td>    NA   </td><td>    NA   </td><td>    NA   </td><td>    NA   </td><td>    NA   </td><td>    NA   </td><td>    NA   </td><td>    NA   </td></tr>\n",
       "\t<tr><td>00007589 </td><td>1        </td><td>21jan1955</td><td>110200   </td><td>852010   </td><td>851000   </td><td>741010   </td><td>422200   </td><td>862100   </td><td>889920   </td><td>...      </td><td>463500   </td><td>910200   </td><td>429900   </td><td>581200   </td><td> 62000   </td><td>    NA   </td><td>464100   </td><td>390000   </td><td>855300   </td><td>771100   </td></tr>\n",
       "\t<tr><td>00009287 </td><td>1        </td><td>29aug1968</td><td>    NA   </td><td>    NA   </td><td>    NA   </td><td>    NA   </td><td>    NA   </td><td>    NA   </td><td>    NA   </td><td>...      </td><td>    NA   </td><td>    NA   </td><td>    NA   </td><td>    NA   </td><td>    NA   </td><td>    NA   </td><td>    NA   </td><td>    NA   </td><td>    NA   </td><td>    NA   </td></tr>\n",
       "\t<tr><td>00014523 </td><td>1        </td><td>08nov1957</td><td>881030   </td><td>    NA   </td><td>853110   </td><td>869020   </td><td>852010   </td><td>871020   </td><td>873010   </td><td>...      </td><td>522300   </td><td>431100   </td><td>873020   </td><td>856000   </td><td>    NA   </td><td>931100   </td><td>471130   </td><td>856000   </td><td>881020   </td><td>461710   </td></tr>\n",
       "\t<tr><td>00017543 </td><td>1        </td><td>24jun1952</td><td>869010   </td><td>105100   </td><td>889140   </td><td>    NA   </td><td>    NA   </td><td>910110   </td><td>464700   </td><td>...      </td><td>881010   </td><td>854200   </td><td>581410   </td><td>522990   </td><td>471120   </td><td>421300   </td><td>841100   </td><td>    NA   </td><td>851000   </td><td>855200   </td></tr>\n",
       "</tbody>\n",
       "</table>\n"
      ],
      "text/latex": [
       "\\begin{tabular}{r|lllllllllllllllllllllllllllllllllllllllllllllllllllllllllllllllllllllllllll}\n",
       " PNR & KOEN & FOED\\_DAG & br\\_2010\\_01 & br\\_2010\\_02 & br\\_2010\\_03 & br\\_2010\\_04 & br\\_2010\\_05 & br\\_2010\\_06 & br\\_2010\\_07 & ... & br\\_2015\\_03 & br\\_2015\\_04 & br\\_2015\\_05 & br\\_2015\\_06 & br\\_2015\\_07 & br\\_2015\\_08 & br\\_2015\\_09 & br\\_2015\\_10 & br\\_2015\\_11 & br\\_2015\\_12\\\\\n",
       "\\hline\n",
       "\t 00005532  & 2         & 23may1942 &     NA    &     NA    &     NA    &     NA    &     NA    &     NA    &     NA    & ...       &     NA    &     NA    &     NA    &     NA    &     NA    &     NA    &     NA    &     NA    &     NA    &     NA   \\\\\n",
       "\t 00005562  & 2         & 28jun1971 &     NA    &     NA    &     NA    &     NA    &     NA    &     NA    &     NA    & ...       &     NA    &     NA    &     NA    &     NA    &     NA    &     NA    &     NA    &     NA    &     NA    &     NA   \\\\\n",
       "\t 00007589  & 1         & 21jan1955 & 110200    & 852010    & 851000    & 741010    & 422200    & 862100    & 889920    & ...       & 463500    & 910200    & 429900    & 581200    &  62000    &     NA    & 464100    & 390000    & 855300    & 771100   \\\\\n",
       "\t 00009287  & 1         & 29aug1968 &     NA    &     NA    &     NA    &     NA    &     NA    &     NA    &     NA    & ...       &     NA    &     NA    &     NA    &     NA    &     NA    &     NA    &     NA    &     NA    &     NA    &     NA   \\\\\n",
       "\t 00014523  & 1         & 08nov1957 & 881030    &     NA    & 853110    & 869020    & 852010    & 871020    & 873010    & ...       & 522300    & 431100    & 873020    & 856000    &     NA    & 931100    & 471130    & 856000    & 881020    & 461710   \\\\\n",
       "\t 00017543  & 1         & 24jun1952 & 869010    & 105100    & 889140    &     NA    &     NA    & 910110    & 464700    & ...       & 881010    & 854200    & 581410    & 522990    & 471120    & 421300    & 841100    &     NA    & 851000    & 855200   \\\\\n",
       "\\end{tabular}\n"
      ],
      "text/markdown": [
       "\n",
       "| PNR | KOEN | FOED_DAG | br_2010_01 | br_2010_02 | br_2010_03 | br_2010_04 | br_2010_05 | br_2010_06 | br_2010_07 | ... | br_2015_03 | br_2015_04 | br_2015_05 | br_2015_06 | br_2015_07 | br_2015_08 | br_2015_09 | br_2015_10 | br_2015_11 | br_2015_12 |\n",
       "|---|---|---|---|---|---|---|---|---|---|---|---|---|---|---|---|---|---|---|---|---|\n",
       "| 00005532  | 2         | 23may1942 |     NA    |     NA    |     NA    |     NA    |     NA    |     NA    |     NA    | ...       |     NA    |     NA    |     NA    |     NA    |     NA    |     NA    |     NA    |     NA    |     NA    |     NA    |\n",
       "| 00005562  | 2         | 28jun1971 |     NA    |     NA    |     NA    |     NA    |     NA    |     NA    |     NA    | ...       |     NA    |     NA    |     NA    |     NA    |     NA    |     NA    |     NA    |     NA    |     NA    |     NA    |\n",
       "| 00007589  | 1         | 21jan1955 | 110200    | 852010    | 851000    | 741010    | 422200    | 862100    | 889920    | ...       | 463500    | 910200    | 429900    | 581200    |  62000    |     NA    | 464100    | 390000    | 855300    | 771100    |\n",
       "| 00009287  | 1         | 29aug1968 |     NA    |     NA    |     NA    |     NA    |     NA    |     NA    |     NA    | ...       |     NA    |     NA    |     NA    |     NA    |     NA    |     NA    |     NA    |     NA    |     NA    |     NA    |\n",
       "| 00014523  | 1         | 08nov1957 | 881030    |     NA    | 853110    | 869020    | 852010    | 871020    | 873010    | ...       | 522300    | 431100    | 873020    | 856000    |     NA    | 931100    | 471130    | 856000    | 881020    | 461710    |\n",
       "| 00017543  | 1         | 24jun1952 | 869010    | 105100    | 889140    |     NA    |     NA    | 910110    | 464700    | ...       | 881010    | 854200    | 581410    | 522990    | 471120    | 421300    | 841100    |     NA    | 851000    | 855200    |\n",
       "\n"
      ],
      "text/plain": [
       "  PNR      KOEN FOED_DAG  br_2010_01 br_2010_02 br_2010_03 br_2010_04\n",
       "1 00005532 2    23may1942     NA         NA         NA         NA    \n",
       "2 00005562 2    28jun1971     NA         NA         NA         NA    \n",
       "3 00007589 1    21jan1955 110200     852010     851000     741010    \n",
       "4 00009287 1    29aug1968     NA         NA         NA         NA    \n",
       "5 00014523 1    08nov1957 881030         NA     853110     869020    \n",
       "6 00017543 1    24jun1952 869010     105100     889140         NA    \n",
       "  br_2010_05 br_2010_06 br_2010_07 ... br_2015_03 br_2015_04 br_2015_05\n",
       "1     NA         NA         NA     ...     NA         NA         NA    \n",
       "2     NA         NA         NA     ...     NA         NA         NA    \n",
       "3 422200     862100     889920     ... 463500     910200     429900    \n",
       "4     NA         NA         NA     ...     NA         NA         NA    \n",
       "5 852010     871020     873010     ... 522300     431100     873020    \n",
       "6     NA     910110     464700     ... 881010     854200     581410    \n",
       "  br_2015_06 br_2015_07 br_2015_08 br_2015_09 br_2015_10 br_2015_11 br_2015_12\n",
       "1     NA         NA         NA         NA         NA         NA         NA    \n",
       "2     NA         NA         NA         NA         NA         NA         NA    \n",
       "3 581200      62000         NA     464100     390000     855300     771100    \n",
       "4     NA         NA         NA         NA         NA         NA         NA    \n",
       "5 856000         NA     931100     471130     856000     881020     461710    \n",
       "6 522990     471120     421300     841100         NA     851000     855200    "
      ]
     },
     "metadata": {},
     "output_type": "display_data"
    }
   ],
   "source": [
    "head(reg_data)"
   ]
  },
  {
   "cell_type": "markdown",
   "metadata": {},
   "source": [
    "The data above is simulated [DREAM data](https://www.dst.dk/da/TilSalg/Forskningsservice/Data/Andre_Styrelser.aspx) about an individual's employment status.\n",
    "\n",
    "The variable \"FOED_DAG\" contains the date of birth but R currently treats it as a string/character:"
   ]
  },
  {
   "cell_type": "code",
   "execution_count": 5,
   "metadata": {},
   "outputs": [
    {
     "data": {
      "text/html": [
       "'character'"
      ],
      "text/latex": [
       "'character'"
      ],
      "text/markdown": [
       "'character'"
      ],
      "text/plain": [
       "[1] \"character\""
      ]
     },
     "metadata": {},
     "output_type": "display_data"
    }
   ],
   "source": [
    "class(reg_data$FOED_DAG)"
   ]
  },
  {
   "cell_type": "code",
   "execution_count": 7,
   "metadata": {},
   "outputs": [
    {
     "data": {
      "text/html": [
       "FALSE"
      ],
      "text/latex": [
       "FALSE"
      ],
      "text/markdown": [
       "FALSE"
      ],
      "text/plain": [
       "[1] FALSE"
      ]
     },
     "metadata": {},
     "output_type": "display_data"
    }
   ],
   "source": [
    "reg_data$FOED_DAG[1] > reg_data$FOED_DAG[2]"
   ]
  },
  {
   "cell_type": "markdown",
   "metadata": {},
   "source": [
    "## Handling datetime with `lubridate`\n",
    "\n",
    "There are base functions for handling datetime in R but the package [`lubridate`](https://lubridate.tidyverse.org/) from the tidyverse makes dealing with dates a lot simpler.\n",
    "\n",
    "The main functions for converting are `ymd` (short for \"year-month-date\") and `ymd_hms` (short for \"year-month-date_hours-minutes-seconds\"). `lubridate` contains functions for a wide variety of datetime combinations, so one simply has to specify the order in which the datetime information is given with the function name itself:"
   ]
  },
  {
   "cell_type": "code",
   "execution_count": 11,
   "metadata": {},
   "outputs": [
    {
     "name": "stdout",
     "output_type": "stream",
     "text": [
      "[1] \"1942-08-12\"\n",
      "[1] \"character\"\n"
     ]
    }
   ],
   "source": [
    "test_date <- \"1942-08-12\"\n",
    "\n",
    "print(test_date)\n",
    "print(class(test_date))"
   ]
  },
  {
   "cell_type": "code",
   "execution_count": 12,
   "metadata": {},
   "outputs": [
    {
     "name": "stdout",
     "output_type": "stream",
     "text": [
      "[1] \"1942-08-12\"\n",
      "[1] \"Date\"\n"
     ]
    }
   ],
   "source": [
    "test_date <- ymd(test_date)\n",
    "\n",
    "print(test_date)\n",
    "print(class(test_date))"
   ]
  },
  {
   "cell_type": "markdown",
   "metadata": {},
   "source": [
    "Notice that regarless of the original order, `lubridate` will change the display of the date to the format \"YYYY-MM-DD\"."
   ]
  },
  {
   "cell_type": "code",
   "execution_count": 13,
   "metadata": {},
   "outputs": [
    {
     "name": "stdout",
     "output_type": "stream",
     "text": [
      "[1] \"1965-07-31\"\n",
      "[1] \"Date\"\n"
     ]
    }
   ],
   "source": [
    "test_date2 <- \"31-07-1965\"\n",
    "test_date2 <- dmy(test_date2)\n",
    "\n",
    "print(test_date2)\n",
    "print(class(test_date2))"
   ]
  },
  {
   "cell_type": "markdown",
   "metadata": {},
   "source": [
    "### Working with datetime\n",
    "\n",
    "`lubridate` functions work on variables as well. To convert the date information, simply apply the appropriate functino matching the date format:"
   ]
  },
  {
   "cell_type": "code",
   "execution_count": 15,
   "metadata": {},
   "outputs": [
    {
     "data": {
      "text/html": [
       "<table>\n",
       "<thead><tr><th scope=col>PNR</th><th scope=col>FOED_DAG</th><th scope=col>date_of_birth</th><th scope=col>KOEN</th><th scope=col>br_2010_01</th><th scope=col>br_2010_02</th><th scope=col>br_2010_03</th><th scope=col>br_2010_04</th><th scope=col>br_2010_05</th><th scope=col>br_2010_06</th><th scope=col>...</th><th scope=col>br_2015_03</th><th scope=col>br_2015_04</th><th scope=col>br_2015_05</th><th scope=col>br_2015_06</th><th scope=col>br_2015_07</th><th scope=col>br_2015_08</th><th scope=col>br_2015_09</th><th scope=col>br_2015_10</th><th scope=col>br_2015_11</th><th scope=col>br_2015_12</th></tr></thead>\n",
       "<tbody>\n",
       "\t<tr><td>00005532  </td><td>23may1942 </td><td>1942-05-23</td><td>2         </td><td>    NA    </td><td>    NA    </td><td>    NA    </td><td>    NA    </td><td>    NA    </td><td>    NA    </td><td>...       </td><td>    NA    </td><td>    NA    </td><td>    NA    </td><td>    NA    </td><td>    NA    </td><td>    NA    </td><td>    NA    </td><td>    NA    </td><td>    NA    </td><td>    NA    </td></tr>\n",
       "\t<tr><td>00005562  </td><td>28jun1971 </td><td>1971-06-28</td><td>2         </td><td>    NA    </td><td>    NA    </td><td>    NA    </td><td>    NA    </td><td>    NA    </td><td>    NA    </td><td>...       </td><td>    NA    </td><td>    NA    </td><td>    NA    </td><td>    NA    </td><td>    NA    </td><td>    NA    </td><td>    NA    </td><td>    NA    </td><td>    NA    </td><td>    NA    </td></tr>\n",
       "\t<tr><td>00007589  </td><td>21jan1955 </td><td>1955-01-21</td><td>1         </td><td>110200    </td><td>852010    </td><td>851000    </td><td>741010    </td><td>422200    </td><td>862100    </td><td>...       </td><td>463500    </td><td>910200    </td><td>429900    </td><td>581200    </td><td> 62000    </td><td>    NA    </td><td>464100    </td><td>390000    </td><td>855300    </td><td>771100    </td></tr>\n",
       "\t<tr><td>00009287  </td><td>29aug1968 </td><td>1968-08-29</td><td>1         </td><td>    NA    </td><td>    NA    </td><td>    NA    </td><td>    NA    </td><td>    NA    </td><td>    NA    </td><td>...       </td><td>    NA    </td><td>    NA    </td><td>    NA    </td><td>    NA    </td><td>    NA    </td><td>    NA    </td><td>    NA    </td><td>    NA    </td><td>    NA    </td><td>    NA    </td></tr>\n",
       "\t<tr><td>00014523  </td><td>08nov1957 </td><td>1957-11-08</td><td>1         </td><td>881030    </td><td>    NA    </td><td>853110    </td><td>869020    </td><td>852010    </td><td>871020    </td><td>...       </td><td>522300    </td><td>431100    </td><td>873020    </td><td>856000    </td><td>    NA    </td><td>931100    </td><td>471130    </td><td>856000    </td><td>881020    </td><td>461710    </td></tr>\n",
       "\t<tr><td>00017543  </td><td>24jun1952 </td><td>1952-06-24</td><td>1         </td><td>869010    </td><td>105100    </td><td>889140    </td><td>    NA    </td><td>    NA    </td><td>910110    </td><td>...       </td><td>881010    </td><td>854200    </td><td>581410    </td><td>522990    </td><td>471120    </td><td>421300    </td><td>841100    </td><td>    NA    </td><td>851000    </td><td>855200    </td></tr>\n",
       "</tbody>\n",
       "</table>\n"
      ],
      "text/latex": [
       "\\begin{tabular}{r|llllllllllllllllllllllllllllllllllllllllllllllllllllllllllllllllllllllllllll}\n",
       " PNR & FOED\\_DAG & date\\_of\\_birth & KOEN & br\\_2010\\_01 & br\\_2010\\_02 & br\\_2010\\_03 & br\\_2010\\_04 & br\\_2010\\_05 & br\\_2010\\_06 & ... & br\\_2015\\_03 & br\\_2015\\_04 & br\\_2015\\_05 & br\\_2015\\_06 & br\\_2015\\_07 & br\\_2015\\_08 & br\\_2015\\_09 & br\\_2015\\_10 & br\\_2015\\_11 & br\\_2015\\_12\\\\\n",
       "\\hline\n",
       "\t 00005532   & 23may1942  & 1942-05-23 & 2          &     NA     &     NA     &     NA     &     NA     &     NA     &     NA     & ...        &     NA     &     NA     &     NA     &     NA     &     NA     &     NA     &     NA     &     NA     &     NA     &     NA    \\\\\n",
       "\t 00005562   & 28jun1971  & 1971-06-28 & 2          &     NA     &     NA     &     NA     &     NA     &     NA     &     NA     & ...        &     NA     &     NA     &     NA     &     NA     &     NA     &     NA     &     NA     &     NA     &     NA     &     NA    \\\\\n",
       "\t 00007589   & 21jan1955  & 1955-01-21 & 1          & 110200     & 852010     & 851000     & 741010     & 422200     & 862100     & ...        & 463500     & 910200     & 429900     & 581200     &  62000     &     NA     & 464100     & 390000     & 855300     & 771100    \\\\\n",
       "\t 00009287   & 29aug1968  & 1968-08-29 & 1          &     NA     &     NA     &     NA     &     NA     &     NA     &     NA     & ...        &     NA     &     NA     &     NA     &     NA     &     NA     &     NA     &     NA     &     NA     &     NA     &     NA    \\\\\n",
       "\t 00014523   & 08nov1957  & 1957-11-08 & 1          & 881030     &     NA     & 853110     & 869020     & 852010     & 871020     & ...        & 522300     & 431100     & 873020     & 856000     &     NA     & 931100     & 471130     & 856000     & 881020     & 461710    \\\\\n",
       "\t 00017543   & 24jun1952  & 1952-06-24 & 1          & 869010     & 105100     & 889140     &     NA     &     NA     & 910110     & ...        & 881010     & 854200     & 581410     & 522990     & 471120     & 421300     & 841100     &     NA     & 851000     & 855200    \\\\\n",
       "\\end{tabular}\n"
      ],
      "text/markdown": [
       "\n",
       "| PNR | FOED_DAG | date_of_birth | KOEN | br_2010_01 | br_2010_02 | br_2010_03 | br_2010_04 | br_2010_05 | br_2010_06 | ... | br_2015_03 | br_2015_04 | br_2015_05 | br_2015_06 | br_2015_07 | br_2015_08 | br_2015_09 | br_2015_10 | br_2015_11 | br_2015_12 |\n",
       "|---|---|---|---|---|---|---|---|---|---|---|---|---|---|---|---|---|---|---|---|---|\n",
       "| 00005532   | 23may1942  | 1942-05-23 | 2          |     NA     |     NA     |     NA     |     NA     |     NA     |     NA     | ...        |     NA     |     NA     |     NA     |     NA     |     NA     |     NA     |     NA     |     NA     |     NA     |     NA     |\n",
       "| 00005562   | 28jun1971  | 1971-06-28 | 2          |     NA     |     NA     |     NA     |     NA     |     NA     |     NA     | ...        |     NA     |     NA     |     NA     |     NA     |     NA     |     NA     |     NA     |     NA     |     NA     |     NA     |\n",
       "| 00007589   | 21jan1955  | 1955-01-21 | 1          | 110200     | 852010     | 851000     | 741010     | 422200     | 862100     | ...        | 463500     | 910200     | 429900     | 581200     |  62000     |     NA     | 464100     | 390000     | 855300     | 771100     |\n",
       "| 00009287   | 29aug1968  | 1968-08-29 | 1          |     NA     |     NA     |     NA     |     NA     |     NA     |     NA     | ...        |     NA     |     NA     |     NA     |     NA     |     NA     |     NA     |     NA     |     NA     |     NA     |     NA     |\n",
       "| 00014523   | 08nov1957  | 1957-11-08 | 1          | 881030     |     NA     | 853110     | 869020     | 852010     | 871020     | ...        | 522300     | 431100     | 873020     | 856000     |     NA     | 931100     | 471130     | 856000     | 881020     | 461710     |\n",
       "| 00017543   | 24jun1952  | 1952-06-24 | 1          | 869010     | 105100     | 889140     |     NA     |     NA     | 910110     | ...        | 881010     | 854200     | 581410     | 522990     | 471120     | 421300     | 841100     |     NA     | 851000     | 855200     |\n",
       "\n"
      ],
      "text/plain": [
       "  PNR      FOED_DAG  date_of_birth KOEN br_2010_01 br_2010_02 br_2010_03\n",
       "1 00005532 23may1942 1942-05-23    2        NA         NA         NA    \n",
       "2 00005562 28jun1971 1971-06-28    2        NA         NA         NA    \n",
       "3 00007589 21jan1955 1955-01-21    1    110200     852010     851000    \n",
       "4 00009287 29aug1968 1968-08-29    1        NA         NA         NA    \n",
       "5 00014523 08nov1957 1957-11-08    1    881030         NA     853110    \n",
       "6 00017543 24jun1952 1952-06-24    1    869010     105100     889140    \n",
       "  br_2010_04 br_2010_05 br_2010_06 ... br_2015_03 br_2015_04 br_2015_05\n",
       "1     NA         NA         NA     ...     NA         NA         NA    \n",
       "2     NA         NA         NA     ...     NA         NA         NA    \n",
       "3 741010     422200     862100     ... 463500     910200     429900    \n",
       "4     NA         NA         NA     ...     NA         NA         NA    \n",
       "5 869020     852010     871020     ... 522300     431100     873020    \n",
       "6     NA         NA     910110     ... 881010     854200     581410    \n",
       "  br_2015_06 br_2015_07 br_2015_08 br_2015_09 br_2015_10 br_2015_11 br_2015_12\n",
       "1     NA         NA         NA         NA         NA         NA         NA    \n",
       "2     NA         NA         NA         NA         NA         NA         NA    \n",
       "3 581200      62000         NA     464100     390000     855300     771100    \n",
       "4     NA         NA         NA         NA         NA         NA         NA    \n",
       "5 856000         NA     931100     471130     856000     881020     461710    \n",
       "6 522990     471120     421300     841100         NA     851000     855200    "
      ]
     },
     "metadata": {},
     "output_type": "display_data"
    }
   ],
   "source": [
    "reg_data <- reg_data %>%\n",
    "    mutate(date_of_birth = dmy(FOED_DAG)) %>%\n",
    "    select(PNR, FOED_DAG, date_of_birth, KOEN)\n",
    "\n",
    "head(reg_data)"
   ]
  },
  {
   "cell_type": "markdown",
   "metadata": {},
   "source": [
    "When converted to dates, one can easily extract date information from the variable:"
   ]
  },
  {
   "cell_type": "code",
   "execution_count": 16,
   "metadata": {},
   "outputs": [
    {
     "name": "stdout",
     "output_type": "stream",
     "text": [
      "[1] \"1942-05-23\"\n",
      "[1] 1942\n",
      "[1] 5\n",
      "[1] 23\n"
     ]
    }
   ],
   "source": [
    "print(reg_data$date_of_birth[1])\n",
    "print(year(reg_data$date_of_birth[1]))\n",
    "print(month(reg_data$date_of_birth[1]))\n",
    "print(mday(reg_data$date_of_birth[1]))"
   ]
  }
 ],
 "metadata": {
  "kernelspec": {
   "display_name": "R",
   "language": "R",
   "name": "ir"
  },
  "language_info": {
   "codemirror_mode": "r",
   "file_extension": ".r",
   "mimetype": "text/x-r-source",
   "name": "R",
   "pygments_lexer": "r",
   "version": "3.6.1"
  }
 },
 "nbformat": 4,
 "nbformat_minor": 4
}
