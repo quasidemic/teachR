{
 "cells": [
  {
   "cell_type": "markdown",
   "metadata": {},
   "source": [
    "# Strings\n",
    "\n",
    "A \"string\" is a programming term for a value containing text. A value of the class \"character\" is a string.\n",
    "\n",
    "Below the first paragraph from chapter 15 of \"The Picture of Dorian Gray\" by Oscar Wilde is stored as a string (copied from: https://www.gutenberg.org/files/174/174-h/174-h.htm#chap15)"
   ]
  },
  {
   "cell_type": "code",
   "execution_count": 3,
   "metadata": {},
   "outputs": [
    {
     "data": {
      "text/html": [
       "'character'"
      ],
      "text/latex": [
       "'character'"
      ],
      "text/markdown": [
       "'character'"
      ],
      "text/plain": [
       "[1] \"character\""
      ]
     },
     "metadata": {},
     "output_type": "display_data"
    }
   ],
   "source": [
    "my_text <- \"That evening, at eight-thirty, exquisitely dressed and wearing a large button-hole of Parma violets, Dorian Gray was ushered into Lady Narborough’s drawing-room by bowing servants. His forehead was throbbing with maddened nerves, and he felt wildly excited, but his manner as he bent over his hostess’s hand was as easy and graceful as ever. Perhaps one never seems so much at one’s ease as when one has to play a part. Certainly no one looking at Dorian Gray that night could have believed that he had passed through a tragedy as horrible as any tragedy of our age. Those finely shaped fingers could never have clutched a knife for sin, nor those smiling lips have cried out on God and goodness. He himself could not help wondering at the calm of his demeanour, and for a moment felt keenly the terrible pleasure of a double life. \"\n",
    "class(my_text)"
   ]
  },
  {
   "cell_type": "markdown",
   "metadata": {
    "slideshow": {
     "slide_type": "slide"
    }
   },
   "source": [
    "## Texts as vectors\n",
    "Texts can be thought of as vectors in a number of ways:\n",
    "1. A collection of texts\n",
    "2. A collection of words in a text\n",
    "3. A collection of sentences in a text\n",
    "\n",
    "Depending on what we are trying to figure out with text, R can be used in a number of ways."
   ]
  },
  {
   "cell_type": "markdown",
   "metadata": {
    "slideshow": {
     "slide_type": "slide"
    }
   },
   "source": [
    "Let's start by thinking of a text as a series of single words:"
   ]
  },
  {
   "cell_type": "code",
   "execution_count": 4,
   "metadata": {
    "slideshow": {
     "slide_type": "fragment"
    }
   },
   "outputs": [
    {
     "data": {
      "text/html": [
       "<ol class=list-inline>\n",
       "\t<li>'That'</li>\n",
       "\t<li>'evening,'</li>\n",
       "\t<li>'at'</li>\n",
       "\t<li>'eight-thirty,'</li>\n",
       "\t<li>'exquisitely'</li>\n",
       "\t<li>'dressed'</li>\n",
       "</ol>\n"
      ],
      "text/latex": [
       "\\begin{enumerate*}\n",
       "\\item 'That'\n",
       "\\item 'evening,'\n",
       "\\item 'at'\n",
       "\\item 'eight-thirty,'\n",
       "\\item 'exquisitely'\n",
       "\\item 'dressed'\n",
       "\\end{enumerate*}\n"
      ],
      "text/markdown": [
       "1. 'That'\n",
       "2. 'evening,'\n",
       "3. 'at'\n",
       "4. 'eight-thirty,'\n",
       "5. 'exquisitely'\n",
       "6. 'dressed'\n",
       "\n",
       "\n"
      ],
      "text/plain": [
       "[1] \"That\"          \"evening,\"      \"at\"            \"eight-thirty,\"\n",
       "[5] \"exquisitely\"   \"dressed\"      "
      ]
     },
     "metadata": {},
     "output_type": "display_data"
    }
   ],
   "source": [
    "text_words <- unlist(strsplit(my_text, split = \"\\\\s\"))  #split at every whitespace - \\\\s is an escape character\n",
    "head(text_words)"
   ]
  },
  {
   "cell_type": "markdown",
   "metadata": {
    "slideshow": {
     "slide_type": "fragment"
    }
   },
   "source": [
    "The text is now a vector, each word with its own index (subset using `[]`):"
   ]
  },
  {
   "cell_type": "code",
   "execution_count": 5,
   "metadata": {
    "slideshow": {
     "slide_type": "fragment"
    }
   },
   "outputs": [
    {
     "data": {
      "text/html": [
       "'exquisitely'"
      ],
      "text/latex": [
       "'exquisitely'"
      ],
      "text/markdown": [
       "'exquisitely'"
      ],
      "text/plain": [
       "[1] \"exquisitely\""
      ]
     },
     "metadata": {},
     "output_type": "display_data"
    },
    {
     "data": {
      "text/html": [
       "'drawing-room'"
      ],
      "text/latex": [
       "'drawing-room'"
      ],
      "text/markdown": [
       "'drawing-room'"
      ],
      "text/plain": [
       "[1] \"drawing-room\""
      ]
     },
     "metadata": {},
     "output_type": "display_data"
    }
   ],
   "source": [
    "text_words[5]\n",
    "text_words[22]"
   ]
  },
  {
   "cell_type": "markdown",
   "metadata": {
    "slideshow": {
     "slide_type": "fragment"
    }
   },
   "source": [
    "This allows us to perform counts and other summaries."
   ]
  },
  {
   "cell_type": "markdown",
   "metadata": {
    "slideshow": {
     "slide_type": "slide"
    }
   },
   "source": [
    "## Working with strings: The `stringr` package\n",
    "\n",
    "The package `stringr` is a tidyverse package for working with strings."
   ]
  },
  {
   "cell_type": "code",
   "execution_count": 6,
   "metadata": {},
   "outputs": [],
   "source": [
    "library(stringr)"
   ]
  },
  {
   "cell_type": "markdown",
   "metadata": {
    "slideshow": {
     "slide_type": "slide"
    }
   },
   "source": [
    "`stringr` can be used in a variety of different ways."
   ]
  },
  {
   "cell_type": "code",
   "execution_count": 7,
   "metadata": {
    "slideshow": {
     "slide_type": "fragment"
    }
   },
   "outputs": [
    {
     "data": {
      "text/html": [
       "'that evening, at eight-thirty, exquisitely dressed and wearing a large button-hole of parma violets, dorian gray was ushered into lady narborough’s drawing-room by bowing servants. his forehead was throbbing with maddened nerves, and he felt wildly excited, but his manner as he bent over his hostess’s hand was as easy and graceful as ever. perhaps one never seems so much at one’s ease as when one has to play a part. certainly no one looking at dorian gray that night could have believed that he had passed through a tragedy as horrible as any tragedy of our age. those finely shaped fingers could never have clutched a knife for sin, nor those smiling lips have cried out on god and goodness. he himself could not help wondering at the calm of his demeanour, and for a moment felt keenly the terrible pleasure of a double life. '"
      ],
      "text/latex": [
       "'that evening, at eight-thirty, exquisitely dressed and wearing a large button-hole of parma violets, dorian gray was ushered into lady narborough’s drawing-room by bowing servants. his forehead was throbbing with maddened nerves, and he felt wildly excited, but his manner as he bent over his hostess’s hand was as easy and graceful as ever. perhaps one never seems so much at one’s ease as when one has to play a part. certainly no one looking at dorian gray that night could have believed that he had passed through a tragedy as horrible as any tragedy of our age. those finely shaped fingers could never have clutched a knife for sin, nor those smiling lips have cried out on god and goodness. he himself could not help wondering at the calm of his demeanour, and for a moment felt keenly the terrible pleasure of a double life. '"
      ],
      "text/markdown": [
       "'that evening, at eight-thirty, exquisitely dressed and wearing a large button-hole of parma violets, dorian gray was ushered into lady narborough’s drawing-room by bowing servants. his forehead was throbbing with maddened nerves, and he felt wildly excited, but his manner as he bent over his hostess’s hand was as easy and graceful as ever. perhaps one never seems so much at one’s ease as when one has to play a part. certainly no one looking at dorian gray that night could have believed that he had passed through a tragedy as horrible as any tragedy of our age. those finely shaped fingers could never have clutched a knife for sin, nor those smiling lips have cried out on god and goodness. he himself could not help wondering at the calm of his demeanour, and for a moment felt keenly the terrible pleasure of a double life. '"
      ],
      "text/plain": [
       "[1] \"that evening, at eight-thirty, exquisitely dressed and wearing a large button-hole of parma violets, dorian gray was ushered into lady narborough’s drawing-room by bowing servants. his forehead was throbbing with maddened nerves, and he felt wildly excited, but his manner as he bent over his hostess’s hand was as easy and graceful as ever. perhaps one never seems so much at one’s ease as when one has to play a part. certainly no one looking at dorian gray that night could have believed that he had passed through a tragedy as horrible as any tragedy of our age. those finely shaped fingers could never have clutched a knife for sin, nor those smiling lips have cried out on god and goodness. he himself could not help wondering at the calm of his demeanour, and for a moment felt keenly the terrible pleasure of a double life. \""
      ]
     },
     "metadata": {},
     "output_type": "display_data"
    }
   ],
   "source": [
    "# Changing case (here to lowercase)\n",
    "str_to_lower(my_text)"
   ]
  },
  {
   "cell_type": "code",
   "execution_count": 9,
   "metadata": {
    "slideshow": {
     "slide_type": "fragment"
    }
   },
   "outputs": [
    {
     "data": {
      "text/html": [
       "TRUE"
      ],
      "text/latex": [
       "TRUE"
      ],
      "text/markdown": [
       "TRUE"
      ],
      "text/plain": [
       "[1] TRUE"
      ]
     },
     "metadata": {},
     "output_type": "display_data"
    }
   ],
   "source": [
    "# Looking up words\n",
    "str_detect(my_text, \"tragedy\")"
   ]
  },
  {
   "cell_type": "code",
   "execution_count": 11,
   "metadata": {
    "slideshow": {
     "slide_type": "fragment"
    }
   },
   "outputs": [
    {
     "data": {
      "text/html": [
       "2"
      ],
      "text/latex": [
       "2"
      ],
      "text/markdown": [
       "2"
      ],
      "text/plain": [
       "[1] 2"
      ]
     },
     "metadata": {},
     "output_type": "display_data"
    }
   ],
   "source": [
    "# Counting matches\n",
    "str_count(my_text, \"tragedy\")"
   ]
  },
  {
   "cell_type": "markdown",
   "metadata": {
    "slideshow": {
     "slide_type": "slide"
    }
   },
   "source": [
    "The functions of `stringr` also work on a grouping of elements (like a vector). We can see this when we split the text into sentences and then use the same functions"
   ]
  },
  {
   "cell_type": "code",
   "execution_count": 20,
   "metadata": {
    "slideshow": {
     "slide_type": "fragment"
    }
   },
   "outputs": [],
   "source": [
    "# Splitting text into elements; here separating at commas\n",
    "# unlist is used to coerce to a vector; otherwise it is returned as a list\n",
    "text_sent <- str_split(my_text, pattern = \"\\\\.\") %>% \n",
    "unlist()"
   ]
  },
  {
   "cell_type": "code",
   "execution_count": 21,
   "metadata": {
    "slideshow": {
     "slide_type": "fragment"
    }
   },
   "outputs": [
    {
     "data": {
      "text/html": [
       "<ol class=list-inline>\n",
       "\t<li>FALSE</li>\n",
       "\t<li>FALSE</li>\n",
       "\t<li>FALSE</li>\n",
       "\t<li>TRUE</li>\n",
       "\t<li>FALSE</li>\n",
       "\t<li>FALSE</li>\n",
       "\t<li>FALSE</li>\n",
       "</ol>\n"
      ],
      "text/latex": [
       "\\begin{enumerate*}\n",
       "\\item FALSE\n",
       "\\item FALSE\n",
       "\\item FALSE\n",
       "\\item TRUE\n",
       "\\item FALSE\n",
       "\\item FALSE\n",
       "\\item FALSE\n",
       "\\end{enumerate*}\n"
      ],
      "text/markdown": [
       "1. FALSE\n",
       "2. FALSE\n",
       "3. FALSE\n",
       "4. TRUE\n",
       "5. FALSE\n",
       "6. FALSE\n",
       "7. FALSE\n",
       "\n",
       "\n"
      ],
      "text/plain": [
       "[1] FALSE FALSE FALSE  TRUE FALSE FALSE FALSE"
      ]
     },
     "metadata": {},
     "output_type": "display_data"
    }
   ],
   "source": [
    "# Looking up word in each sentence\n",
    "str_detect(text_sent, \"tragedy\")"
   ]
  },
  {
   "cell_type": "code",
   "execution_count": 22,
   "metadata": {
    "slideshow": {
     "slide_type": "fragment"
    }
   },
   "outputs": [
    {
     "data": {
      "text/html": [
       "<ol class=list-inline>\n",
       "\t<li>0</li>\n",
       "\t<li>0</li>\n",
       "\t<li>0</li>\n",
       "\t<li>2</li>\n",
       "\t<li>0</li>\n",
       "\t<li>0</li>\n",
       "\t<li>0</li>\n",
       "</ol>\n"
      ],
      "text/latex": [
       "\\begin{enumerate*}\n",
       "\\item 0\n",
       "\\item 0\n",
       "\\item 0\n",
       "\\item 2\n",
       "\\item 0\n",
       "\\item 0\n",
       "\\item 0\n",
       "\\end{enumerate*}\n"
      ],
      "text/markdown": [
       "1. 0\n",
       "2. 0\n",
       "3. 0\n",
       "4. 2\n",
       "5. 0\n",
       "6. 0\n",
       "7. 0\n",
       "\n",
       "\n"
      ],
      "text/plain": [
       "[1] 0 0 0 2 0 0 0"
      ]
     },
     "metadata": {},
     "output_type": "display_data"
    }
   ],
   "source": [
    "# Counting word in each sentence\n",
    "str_count(text_sent, \"tragedy\")"
   ]
  },
  {
   "cell_type": "markdown",
   "metadata": {
    "slideshow": {
     "slide_type": "subslide"
    }
   },
   "source": [
    "### A note on indexing and booleans\n",
    "When inputting boolean valules as an index, R will only return the `TRUE` values.\n",
    "\n",
    "This means that we can use commands like `str_detect` to only return text elements containing specific words."
   ]
  },
  {
   "cell_type": "code",
   "execution_count": 23,
   "metadata": {
    "slideshow": {
     "slide_type": "fragment"
    }
   },
   "outputs": [
    {
     "data": {
      "text/html": [
       "' Certainly no one looking at Dorian Gray that night could have believed that he had passed through a tragedy as horrible as any tragedy of our age'"
      ],
      "text/latex": [
       "' Certainly no one looking at Dorian Gray that night could have believed that he had passed through a tragedy as horrible as any tragedy of our age'"
      ],
      "text/markdown": [
       "' Certainly no one looking at Dorian Gray that night could have believed that he had passed through a tragedy as horrible as any tragedy of our age'"
      ],
      "text/plain": [
       "[1] \" Certainly no one looking at Dorian Gray that night could have believed that he had passed through a tragedy as horrible as any tragedy of our age\""
      ]
     },
     "metadata": {},
     "output_type": "display_data"
    }
   ],
   "source": [
    "text_sent[str_detect(text_sent, \"tragedy\")]"
   ]
  },
  {
   "cell_type": "markdown",
   "metadata": {},
   "source": [
    "`str_subset` has combined this functionality in one function:"
   ]
  },
  {
   "cell_type": "code",
   "execution_count": 25,
   "metadata": {},
   "outputs": [
    {
     "data": {
      "text/html": [
       "' Certainly no one looking at Dorian Gray that night could have believed that he had passed through a tragedy as horrible as any tragedy of our age'"
      ],
      "text/latex": [
       "' Certainly no one looking at Dorian Gray that night could have believed that he had passed through a tragedy as horrible as any tragedy of our age'"
      ],
      "text/markdown": [
       "' Certainly no one looking at Dorian Gray that night could have believed that he had passed through a tragedy as horrible as any tragedy of our age'"
      ],
      "text/plain": [
       "[1] \" Certainly no one looking at Dorian Gray that night could have believed that he had passed through a tragedy as horrible as any tragedy of our age\""
      ]
     },
     "metadata": {},
     "output_type": "display_data"
    }
   ],
   "source": [
    "str_subset(text_sent, \"tragedy\")"
   ]
  },
  {
   "cell_type": "markdown",
   "metadata": {
    "slideshow": {
     "slide_type": "slide"
    }
   },
   "source": [
    "## EXERCISE: WORKING WITH A TEXT AS A VECTOR\n",
    "\n",
    "In the following, you will create a vector containing the sentences of the texts and then looking up certain words.\n",
    "\n",
    "Make sure you have the package `stringr` installed and loaded.\n",
    "\n",
    "1. Assign the following text snippet to an object:\n",
    "\n",
    "    \"Themis, who has already been alluded to as the wife of Zeus, was the daughter of Cronus and Rhea, and personified those divine laws of justice and order by means of which the well-being and morality of communities are regulated. She presided over the assemblies of the people and the laws of hospitality.\"\n",
    "    \n",
    "\n",
    "2. Convert the text snippet to a vector of senteces.\n",
    "    \n",
    "    a. Split the texts into sentences using `str_split(texts, pattern = \",\")`. Assign to an object (splitting at commas instead of periods).\n",
    "    \n",
    "    c. Unlist the object to convert to a vector using `unlist()`. Assign to the same or a new object.\n",
    "    \n",
    "    \n",
    "2. Use `str_subset()` to see extract sentences that contain the name \"Zeus\". "
   ]
  },
  {
   "cell_type": "markdown",
   "metadata": {
    "slideshow": {
     "slide_type": "slide"
    }
   },
   "source": [
    "## Regular expressions\n",
    "Often when working with text, we have more \"fuzzy\" patterns we want to search for. \n",
    "\n",
    "Regular expression is a common \"language\" for processing text patterns.\n",
    "\n",
    "`stringr` supports regular expression arguements.\n",
    "\n",
    "Possible uses:\n",
    "- Finding words of a certain length\n",
    "- Finding sentences containing a certain word or pattern\n",
    "- Finding words following a certain pattern\n",
    "- and so on.\n",
    "\n",
    "Regular expression (or \"regex\") can be used in most function in `stringr`. "
   ]
  },
  {
   "cell_type": "markdown",
   "metadata": {
    "slideshow": {
     "slide_type": "slide"
    }
   },
   "source": [
    "The function `str_subset()` creates a subset of elements with the strings containing the pattern."
   ]
  },
  {
   "cell_type": "code",
   "execution_count": 26,
   "metadata": {
    "slideshow": {
     "slide_type": "skip"
    }
   },
   "outputs": [
    {
     "data": {
      "text/html": [
       "<ol class=list-inline>\n",
       "\t<li>'That evening, at eight-thirty, exquisitely dressed and wearing a large button-hole of Parma violets, Dorian Gray was ushered into Lady Narborough’s drawing-room by bowing servants'</li>\n",
       "\t<li>' His forehead was throbbing with maddened nerves, and he felt wildly excited, but his manner as he bent over his hostess’s hand was as easy and graceful as ever'</li>\n",
       "\t<li>' Perhaps one never seems so much at one’s ease as when one has to play a part'</li>\n",
       "\t<li>' Certainly no one looking at Dorian Gray that night could have believed that he had passed through a tragedy as horrible as any tragedy of our age'</li>\n",
       "\t<li>' Those finely shaped fingers could never have clutched a knife for sin, nor those smiling lips have cried out on God and goodness'</li>\n",
       "\t<li>' He himself could not help wondering at the calm of his demeanour, and for a moment felt keenly the terrible pleasure of a double life'</li>\n",
       "\t<li>' '</li>\n",
       "</ol>\n"
      ],
      "text/latex": [
       "\\begin{enumerate*}\n",
       "\\item 'That evening, at eight-thirty, exquisitely dressed and wearing a large button-hole of Parma violets, Dorian Gray was ushered into Lady Narborough’s drawing-room by bowing servants'\n",
       "\\item ' His forehead was throbbing with maddened nerves, and he felt wildly excited, but his manner as he bent over his hostess’s hand was as easy and graceful as ever'\n",
       "\\item ' Perhaps one never seems so much at one’s ease as when one has to play a part'\n",
       "\\item ' Certainly no one looking at Dorian Gray that night could have believed that he had passed through a tragedy as horrible as any tragedy of our age'\n",
       "\\item ' Those finely shaped fingers could never have clutched a knife for sin, nor those smiling lips have cried out on God and goodness'\n",
       "\\item ' He himself could not help wondering at the calm of his demeanour, and for a moment felt keenly the terrible pleasure of a double life'\n",
       "\\item ' '\n",
       "\\end{enumerate*}\n"
      ],
      "text/markdown": [
       "1. 'That evening, at eight-thirty, exquisitely dressed and wearing a large button-hole of Parma violets, Dorian Gray was ushered into Lady Narborough’s drawing-room by bowing servants'\n",
       "2. ' His forehead was throbbing with maddened nerves, and he felt wildly excited, but his manner as he bent over his hostess’s hand was as easy and graceful as ever'\n",
       "3. ' Perhaps one never seems so much at one’s ease as when one has to play a part'\n",
       "4. ' Certainly no one looking at Dorian Gray that night could have believed that he had passed through a tragedy as horrible as any tragedy of our age'\n",
       "5. ' Those finely shaped fingers could never have clutched a knife for sin, nor those smiling lips have cried out on God and goodness'\n",
       "6. ' He himself could not help wondering at the calm of his demeanour, and for a moment felt keenly the terrible pleasure of a double life'\n",
       "7. ' '\n",
       "\n",
       "\n"
      ],
      "text/plain": [
       "[1] \"That evening, at eight-thirty, exquisitely dressed and wearing a large button-hole of Parma violets, Dorian Gray was ushered into Lady Narborough’s drawing-room by bowing servants\"\n",
       "[2] \" His forehead was throbbing with maddened nerves, and he felt wildly excited, but his manner as he bent over his hostess’s hand was as easy and graceful as ever\"                   \n",
       "[3] \" Perhaps one never seems so much at one’s ease as when one has to play a part\"                                                                                                      \n",
       "[4] \" Certainly no one looking at Dorian Gray that night could have believed that he had passed through a tragedy as horrible as any tragedy of our age\"                                 \n",
       "[5] \" Those finely shaped fingers could never have clutched a knife for sin, nor those smiling lips have cried out on God and goodness\"                                                  \n",
       "[6] \" He himself could not help wondering at the calm of his demeanour, and for a moment felt keenly the terrible pleasure of a double life\"                                             \n",
       "[7] \" \"                                                                                                                                                                                  "
      ]
     },
     "metadata": {},
     "output_type": "display_data"
    }
   ],
   "source": [
    "text_sent"
   ]
  },
  {
   "cell_type": "code",
   "execution_count": 27,
   "metadata": {
    "slideshow": {
     "slide_type": "fragment"
    }
   },
   "outputs": [
    {
     "data": {
      "text/html": [
       "<ol class=list-inline>\n",
       "\t<li>' His forehead was throbbing with maddened nerves, and he felt wildly excited, but his manner as he bent over his hostess’s hand was as easy and graceful as ever'</li>\n",
       "\t<li>' He himself could not help wondering at the calm of his demeanour, and for a moment felt keenly the terrible pleasure of a double life'</li>\n",
       "</ol>\n"
      ],
      "text/latex": [
       "\\begin{enumerate*}\n",
       "\\item ' His forehead was throbbing with maddened nerves, and he felt wildly excited, but his manner as he bent over his hostess’s hand was as easy and graceful as ever'\n",
       "\\item ' He himself could not help wondering at the calm of his demeanour, and for a moment felt keenly the terrible pleasure of a double life'\n",
       "\\end{enumerate*}\n"
      ],
      "text/markdown": [
       "1. ' His forehead was throbbing with maddened nerves, and he felt wildly excited, but his manner as he bent over his hostess’s hand was as easy and graceful as ever'\n",
       "2. ' He himself could not help wondering at the calm of his demeanour, and for a moment felt keenly the terrible pleasure of a double life'\n",
       "\n",
       "\n"
      ],
      "text/plain": [
       "[1] \" His forehead was throbbing with maddened nerves, and he felt wildly excited, but his manner as he bent over his hostess’s hand was as easy and graceful as ever\"\n",
       "[2] \" He himself could not help wondering at the calm of his demeanour, and for a moment felt keenly the terrible pleasure of a double life\"                          "
      ]
     },
     "metadata": {},
     "output_type": "display_data"
    }
   ],
   "source": [
    "# Return sentences containing either \"origin\" or \"before\"\n",
    "str_subset(text_sent, \"excited|wonder\")"
   ]
  },
  {
   "cell_type": "code",
   "execution_count": 33,
   "metadata": {
    "slideshow": {
     "slide_type": "fragment"
    }
   },
   "outputs": [
    {
     "data": {
      "text/html": [
       "<ol class=list-inline>\n",
       "\t<li>'That evening, at eight-thirty, exquisitely dressed and wearing a large button-hole of Parma violets, Dorian Gray was ushered into Lady Narborough’s drawing-room by bowing servants'</li>\n",
       "\t<li>' Certainly no one looking at Dorian Gray that night could have believed that he had passed through a tragedy as horrible as any tragedy of our age'</li>\n",
       "\t<li>' Those finely shaped fingers could never have clutched a knife for sin, nor those smiling lips have cried out on God and goodness'</li>\n",
       "</ol>\n"
      ],
      "text/latex": [
       "\\begin{enumerate*}\n",
       "\\item 'That evening, at eight-thirty, exquisitely dressed and wearing a large button-hole of Parma violets, Dorian Gray was ushered into Lady Narborough’s drawing-room by bowing servants'\n",
       "\\item ' Certainly no one looking at Dorian Gray that night could have believed that he had passed through a tragedy as horrible as any tragedy of our age'\n",
       "\\item ' Those finely shaped fingers could never have clutched a knife for sin, nor those smiling lips have cried out on God and goodness'\n",
       "\\end{enumerate*}\n"
      ],
      "text/markdown": [
       "1. 'That evening, at eight-thirty, exquisitely dressed and wearing a large button-hole of Parma violets, Dorian Gray was ushered into Lady Narborough’s drawing-room by bowing servants'\n",
       "2. ' Certainly no one looking at Dorian Gray that night could have believed that he had passed through a tragedy as horrible as any tragedy of our age'\n",
       "3. ' Those finely shaped fingers could never have clutched a knife for sin, nor those smiling lips have cried out on God and goodness'\n",
       "\n",
       "\n"
      ],
      "text/plain": [
       "[1] \"That evening, at eight-thirty, exquisitely dressed and wearing a large button-hole of Parma violets, Dorian Gray was ushered into Lady Narborough’s drawing-room by bowing servants\"\n",
       "[2] \" Certainly no one looking at Dorian Gray that night could have believed that he had passed through a tragedy as horrible as any tragedy of our age\"                                 \n",
       "[3] \" Those finely shaped fingers could never have clutched a knife for sin, nor those smiling lips have cried out on God and goodness\"                                                  "
      ]
     },
     "metadata": {},
     "output_type": "display_data"
    }
   ],
   "source": [
    "# Return sentences containing words with uppercase (not including the first word of the sentence).\n",
    "str_subset(text_sent, \"\\\\w.*[A-Z]\")"
   ]
  }
 ],
 "metadata": {
  "kernelspec": {
   "display_name": "R",
   "language": "R",
   "name": "ir"
  },
  "language_info": {
   "codemirror_mode": "r",
   "file_extension": ".r",
   "mimetype": "text/x-r-source",
   "name": "R",
   "pygments_lexer": "r",
   "version": "3.6.1"
  }
 },
 "nbformat": 4,
 "nbformat_minor": 4
}
