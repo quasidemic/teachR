{
 "cells": [
  {
   "cell_type": "markdown",
   "metadata": {
    "slideshow": {
     "slide_type": "slide"
    }
   },
   "source": [
    "## EXERCISE 1: Access the web in R\n",
    "\n",
    "- Use the `GET()` function from `httr` to send a request to \"https://www.imdb.com\" and store the request as an object.\n",
    "\n",
    "- Check the status code: Was the request successful?"
   ]
  },
  {
   "cell_type": "markdown",
   "metadata": {
    "slideshow": {
     "slide_type": "slide"
    }
   },
   "source": [
    "## EXERCISE 2: Identify HTML\n",
    "\n",
    "Go to the \"Coming Soon\" section on IMDb: https://www.imdb.com/movies-coming-soon/?ref_=nv_mv_cs\n",
    "\n",
    "- Inspect the HTML\n",
    "- Determine the tag used for the titles of the upcoming films. Are they within other tags? What attributes can help navigate to the titles?"
   ]
  },
  {
   "cell_type": "markdown",
   "metadata": {
    "slideshow": {
     "slide_type": "slide"
    }
   },
   "source": [
    "## EXERCISE 3: Extract HTML (specific node/tag)\n",
    "\n",
    "Return to the \"Coming Soon\" section on IMDb: https://www.imdb.com/movies-coming-soon/?ref_=nv_mv_cs\n",
    "\n",
    "- Using `html_nodes`, extract the titles of the upcoming movies."
   ]
  },
  {
   "cell_type": "markdown",
   "metadata": {
    "slideshow": {
     "slide_type": "slide"
    }
   },
   "source": [
    "## EXERCISE 4: 10 minute CSS training\n",
    "\n",
    "Writing CSS selectors is a skill in of itself. Let's exercise that a bit.\n",
    "\n",
    "The game \"CSS Diner\" is excellent for understanding the basics. See how far you can get in 10 minutes!\n",
    "\n",
    "- CSS Diner: https://flukeout.github.io/"
   ]
  },
  {
   "cell_type": "markdown",
   "metadata": {
    "slideshow": {
     "slide_type": "slide"
    }
   },
   "source": [
    "## EXERCISE 5 (together): Extracting specific HTML content I\n",
    "\n",
    "How can we extract the cast member currently on top of the cast list for \"Breach\"?"
   ]
  },
  {
   "cell_type": "markdown",
   "metadata": {
    "slideshow": {
     "slide_type": "slide"
    }
   },
   "source": [
    "## EXERCISE 6: Extracting specific HTML content II\n",
    "\n",
    "Return to the \"Coming Soon\" section on IMDb: https://www.imdb.com/movies-coming-soon/?ref_=nv_mv_cs\n",
    "\n",
    "Figure out a way to extract the following:\n",
    "\n",
    "- The titles of the upcoming movies\n",
    "- The directors of the upcoming movies\n",
    "- The stars of the upcoming movies"
   ]
  }
 ],
 "metadata": {
  "celltoolbar": "Slideshow",
  "kernelspec": {
   "display_name": "R",
   "language": "R",
   "name": "ir"
  },
  "language_info": {
   "codemirror_mode": "r",
   "file_extension": ".r",
   "mimetype": "text/x-r-source",
   "name": "R",
   "pygments_lexer": "r",
   "version": "3.6.1"
  }
 },
 "nbformat": 4,
 "nbformat_minor": 4
}
