{
 "cells": [
  {
   "cell_type": "code",
   "execution_count": 1,
   "metadata": {},
   "outputs": [
    {
     "name": "stderr",
     "output_type": "stream",
     "text": [
      "-- \u001b[1mAttaching packages\u001b[22m ------------------------------------------------------------------------------- tidyverse 1.3.1 --\n",
      "\n",
      "\u001b[32mv\u001b[39m \u001b[34mggplot2\u001b[39m 3.3.5     \u001b[32mv\u001b[39m \u001b[34mpurrr  \u001b[39m 0.3.4\n",
      "\u001b[32mv\u001b[39m \u001b[34mtibble \u001b[39m 3.1.6     \u001b[32mv\u001b[39m \u001b[34mdplyr  \u001b[39m 1.0.7\n",
      "\u001b[32mv\u001b[39m \u001b[34mtidyr  \u001b[39m 1.1.4     \u001b[32mv\u001b[39m \u001b[34mstringr\u001b[39m 1.4.0\n",
      "\u001b[32mv\u001b[39m \u001b[34mreadr  \u001b[39m 2.1.0     \u001b[32mv\u001b[39m \u001b[34mforcats\u001b[39m 0.5.1\n",
      "\n",
      "Warning message:\n",
      "\"pakke 'tibble' blev bygget under R version 4.1.2\"\n",
      "Warning message:\n",
      "\"pakke 'readr' blev bygget under R version 4.1.2\"\n",
      "Warning message:\n",
      "\"pakke 'purrr' blev bygget under R version 4.1.2\"\n",
      "-- \u001b[1mConflicts\u001b[22m ---------------------------------------------------------------------------------- tidyverse_conflicts() --\n",
      "\u001b[31mx\u001b[39m \u001b[34mdplyr\u001b[39m::\u001b[32mfilter()\u001b[39m masks \u001b[34mstats\u001b[39m::filter()\n",
      "\u001b[31mx\u001b[39m \u001b[34mdplyr\u001b[39m::\u001b[32mlag()\u001b[39m    masks \u001b[34mstats\u001b[39m::lag()\n",
      "\n",
      "\u001b[1mRows: \u001b[22m\u001b[34m1285\u001b[39m \u001b[1mColumns: \u001b[22m\u001b[34m16\u001b[39m\n",
      "\n",
      "\u001b[36m--\u001b[39m \u001b[1mColumn specification\u001b[22m \u001b[36m------------------------------------------------------------------------------------------------\u001b[39m\n",
      "\u001b[1mDelimiter:\u001b[22m \",\"\n",
      "\u001b[31mchr\u001b[39m  (6): vote, prtvtddk, lvpntyr, tygrtr, gndr, edlvddk\n",
      "\u001b[32mdbl\u001b[39m (10): idno, netustm, ppltrst, yrbrn, eduyrs, wkhct, wkhtot, grspnum, frl...\n",
      "\n",
      "\n",
      "\u001b[36mi\u001b[39m Use \u001b[30m\u001b[47m\u001b[30m\u001b[47m`spec()`\u001b[47m\u001b[30m\u001b[49m\u001b[39m to retrieve the full column specification for this data.\n",
      "\u001b[36mi\u001b[39m Specify the column types or set \u001b[30m\u001b[47m\u001b[30m\u001b[47m`show_col_types = FALSE`\u001b[47m\u001b[30m\u001b[49m\u001b[39m to quiet this message.\n",
      "\n"
     ]
    }
   ],
   "source": [
    "# prep\n",
    "\n",
    "library(tidyverse)\n",
    "ess18 <- read_csv(\"https://github.com/CALDISS-AAU/workshop_R-intro/raw/master/data/ESS2018DK_subset.csv\") %>%\n",
    "    mutate(age = 2018 - yrbrn) %>%\n",
    "    mutate(wkhct_cat = case_when(\n",
    "            wkhct == 37 ~ \"37 hours\",\n",
    "            wkhct < 37 ~ \"Less than 37 hours\",\n",
    "            wkhct > 37 ~ \"More than 37 hours\",\n",
    "            TRUE ~ NA_character_ # specifies the type of missing (character missing)\n",
    "        ),\n",
    "           wkhct_cat = factor(wkhct_cat, levels = c('Less than 37 hours', '37 hours', 'More than 37 hours'), \n",
    "                              ordered = TRUE))"
   ]
  },
  {
   "cell_type": "markdown",
   "metadata": {},
   "source": [
    "# Output results"
   ]
  },
  {
   "cell_type": "markdown",
   "metadata": {},
   "source": [
    "## Output tables with `kable` and `kableExtra`\n",
    "\n",
    "The function `kable` from `knitr` can be used to convert data frames to HTML. `kableExtra` includes a range of functions for customizing the data frame.\n",
    "\n",
    "See more at https://cran.r-project.org/web/packages/kableExtra/vignettes/awesome_table_in_html.html"
   ]
  },
  {
   "cell_type": "code",
   "execution_count": 13,
   "metadata": {},
   "outputs": [],
   "source": [
    "library(knitr)\n",
    "library(kableExtra)\n",
    "library(scales)\n",
    "library(readr)"
   ]
  },
  {
   "cell_type": "code",
   "execution_count": 14,
   "metadata": {},
   "outputs": [
    {
     "name": "stderr",
     "output_type": "stream",
     "text": [
      "`summarise()` has grouped output by 'vote'. You can override using the `.groups` argument.\n",
      "\n"
     ]
    },
    {
     "data": {
      "text/html": [
       "<table class=\"dataframe\">\n",
       "<caption>A grouped_df: 6 × 4</caption>\n",
       "<thead>\n",
       "\t<tr><th scope=col>vote</th><th scope=col>gndr</th><th scope=col>count</th><th scope=col>pct</th></tr>\n",
       "\t<tr><th scope=col>&lt;chr&gt;</th><th scope=col>&lt;chr&gt;</th><th scope=col>&lt;int&gt;</th><th scope=col>&lt;chr&gt;</th></tr>\n",
       "</thead>\n",
       "<tbody>\n",
       "\t<tr><td>No                  </td><td>Female</td><td> 21</td><td>34%   </td></tr>\n",
       "\t<tr><td>No                  </td><td>Male  </td><td> 40</td><td>66%   </td></tr>\n",
       "\t<tr><td>Not eligible to vote</td><td>Female</td><td> 37</td><td>49.3% </td></tr>\n",
       "\t<tr><td>Not eligible to vote</td><td>Male  </td><td> 38</td><td>50.7% </td></tr>\n",
       "\t<tr><td>Yes                 </td><td>Female</td><td>571</td><td>49.78%</td></tr>\n",
       "\t<tr><td>Yes                 </td><td>Male  </td><td>576</td><td>50.22%</td></tr>\n",
       "</tbody>\n",
       "</table>\n"
      ],
      "text/latex": [
       "A grouped\\_df: 6 × 4\n",
       "\\begin{tabular}{llll}\n",
       " vote & gndr & count & pct\\\\\n",
       " <chr> & <chr> & <int> & <chr>\\\\\n",
       "\\hline\n",
       "\t No                   & Female &  21 & 34\\%   \\\\\n",
       "\t No                   & Male   &  40 & 66\\%   \\\\\n",
       "\t Not eligible to vote & Female &  37 & 49.3\\% \\\\\n",
       "\t Not eligible to vote & Male   &  38 & 50.7\\% \\\\\n",
       "\t Yes                  & Female & 571 & 49.78\\%\\\\\n",
       "\t Yes                  & Male   & 576 & 50.22\\%\\\\\n",
       "\\end{tabular}\n"
      ],
      "text/markdown": [
       "\n",
       "A grouped_df: 6 × 4\n",
       "\n",
       "| vote &lt;chr&gt; | gndr &lt;chr&gt; | count &lt;int&gt; | pct &lt;chr&gt; |\n",
       "|---|---|---|---|\n",
       "| No                   | Female |  21 | 34%    |\n",
       "| No                   | Male   |  40 | 66%    |\n",
       "| Not eligible to vote | Female |  37 | 49.3%  |\n",
       "| Not eligible to vote | Male   |  38 | 50.7%  |\n",
       "| Yes                  | Female | 571 | 49.78% |\n",
       "| Yes                  | Male   | 576 | 50.22% |\n",
       "\n"
      ],
      "text/plain": [
       "  vote                 gndr   count pct   \n",
       "1 No                   Female  21   34%   \n",
       "2 No                   Male    40   66%   \n",
       "3 Not eligible to vote Female  37   49.3% \n",
       "4 Not eligible to vote Male    38   50.7% \n",
       "5 Yes                  Female 571   49.78%\n",
       "6 Yes                  Male   576   50.22%"
      ]
     },
     "metadata": {},
     "output_type": "display_data"
    }
   ],
   "source": [
    "summary_table <- ess18 %>%\n",
    "    filter(!is.na(vote)) %>%\n",
    "    group_by(vote, gndr) %>%\n",
    "    summarize(count = n()) %>%\n",
    "    mutate(pct = percent(count/sum(count)))\n",
    "\n",
    "summary_table"
   ]
  },
  {
   "cell_type": "markdown",
   "metadata": {},
   "source": [
    "The table above can be output as an html table using code like the one below:"
   ]
  },
  {
   "cell_type": "markdown",
   "metadata": {},
   "source": [
    "```R\n",
    "kbl(summary_table, caption = \"Voting across gender\") %>%\n",
    "    kable_classic_2(full_width = F, html_font = \"Trebuchet\") %>%\n",
    "      save_kable(file = \"kable_out.html\")\n",
    "```"
   ]
  },
  {
   "cell_type": "markdown",
   "metadata": {},
   "source": [
    "## Output models using stargazer\n",
    "\n",
    "The function `stargazer` can output models (and many other output) in various formats (text, html, latex) "
   ]
  },
  {
   "cell_type": "markdown",
   "metadata": {},
   "source": [
    "```R\n",
    "library(stargazer)\n",
    "\n",
    "lm_model <- lm(netustm ~ age + gndr, data = ess18)\n",
    "\n",
    "stargazer(lm_model, type = \"html\",\n",
    "          title = \"Gender and age effects on time spent on the internet\",\n",
    "          covariate.labels = c(\"Age\", \"Sex = Male\"),\n",
    "          dep.var.caption = \"Time spent on the internet\", \n",
    "          out = \"netust_lm.html\")\n",
    "```"
   ]
  }
 ],
 "metadata": {
  "kernelspec": {
   "display_name": "R",
   "language": "R",
   "name": "ir"
  },
  "language_info": {
   "codemirror_mode": "r",
   "file_extension": ".r",
   "mimetype": "text/x-r-source",
   "name": "R",
   "pygments_lexer": "r",
   "version": "4.1.1"
  }
 },
 "nbformat": 4,
 "nbformat_minor": 4
}
