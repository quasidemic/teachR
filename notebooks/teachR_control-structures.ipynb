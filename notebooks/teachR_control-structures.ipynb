{
 "cells": [
  {
   "cell_type": "markdown",
   "metadata": {},
   "source": [
    "# Control structures in R\n",
    "\n",
    "R contains several control structures that can be implemented. \"Loops\" can for example be used to repeat commands over a range of values (a \"for loop\") or while a certain condition is met (a \"while loop\").\n",
    "\n",
    "Furthermore, if-else statements can be used to specify conditions that has to be met before certain commands are run."
   ]
  },
  {
   "cell_type": "markdown",
   "metadata": {},
   "source": [
    "## For loops\n",
    "\n",
    "A for loop is used to repeat one or more commands over a range of values.\n",
    "\n",
    "Below a vector is created with some values. A for loop is then used to evaluate whether or not the value is above 5."
   ]
  },
  {
   "cell_type": "code",
   "execution_count": 7,
   "metadata": {},
   "outputs": [
    {
     "name": "stdout",
     "output_type": "stream",
     "text": [
      "[1] TRUE\n",
      "[1] TRUE\n",
      "[1] FALSE\n",
      "[1] TRUE\n",
      "[1] TRUE\n"
     ]
    }
   ],
   "source": [
    "values <- c(9, 10, 4, 91, 27)\n",
    "\n",
    "for (value in values){\n",
    "    print(value > 5)\n",
    "    }"
   ]
  },
  {
   "cell_type": "markdown",
   "metadata": {},
   "source": [
    "Notice that the original vector is not affected by this particular for loop. \n",
    "\n",
    "When writing a for loop like the one above, the content of `value` changes with each iteration of the for loop (first 9, then 10, then 4 and so on).\n",
    "\n",
    "Note that the object `value` is actually written each time, meaning that `value` exists in the environment after the for loop has run."
   ]
  },
  {
   "cell_type": "code",
   "execution_count": 8,
   "metadata": {},
   "outputs": [
    {
     "name": "stdout",
     "output_type": "stream",
     "text": [
      "[1] 27\n"
     ]
    }
   ],
   "source": [
    "print(value)"
   ]
  },
  {
   "cell_type": "markdown",
   "metadata": {},
   "source": [
    "Because `value` is created as a separate object, a for loop like the one above *cannot* be used to change the contents of the vector:"
   ]
  },
  {
   "cell_type": "code",
   "execution_count": 13,
   "metadata": {},
   "outputs": [
    {
     "name": "stdout",
     "output_type": "stream",
     "text": [
      "[1]  9 10  4 91 27\n"
     ]
    }
   ],
   "source": [
    "values <- c(9, 10, 4, 91, 27)\n",
    "\n",
    "# Try to replace each value with itself added 5\n",
    "for (value in values){\n",
    "    value <- value + 5\n",
    "    }\n",
    "\n",
    "print(values) # No change"
   ]
  },
  {
   "cell_type": "markdown",
   "metadata": {},
   "source": [
    "If one wanted to change the actual content of a vector with a for loop, this can be done by iterating over the *index* of the vector instead:"
   ]
  },
  {
   "cell_type": "code",
   "execution_count": 14,
   "metadata": {},
   "outputs": [
    {
     "name": "stdout",
     "output_type": "stream",
     "text": [
      "[1] 14 15  9 96 32\n"
     ]
    }
   ],
   "source": [
    "values <- c(9, 10, 4, 91, 27)\n",
    "\n",
    "# Try to replace each value with itself added 5\n",
    "for (i in 1:length(values)){\n",
    "    values[i] <- values[i] + 5\n",
    "    }\n",
    "\n",
    "print(values)"
   ]
  },
  {
   "cell_type": "markdown",
   "metadata": {},
   "source": [
    "## While loops"
   ]
  },
  {
   "cell_type": "markdown",
   "metadata": {},
   "source": [
    "Where for loops are limited by the input values for which to iterate over, while loops will keep running as long as a condition is met.\n",
    "\n",
    "*This means that it is possible to create infinite loops! Be careful if you want to use while loops.*"
   ]
  },
  {
   "cell_type": "code",
   "execution_count": 25,
   "metadata": {},
   "outputs": [
    {
     "name": "stdout",
     "output_type": "stream",
     "text": [
      "[1] \"x is 1 and the loop keeps going\"\n",
      "[1] \"x is 2 and the loop keeps going\"\n",
      "[1] \"x is 3 and the loop keeps going\"\n",
      "[1] \"x is 4 and the loop keeps going\"\n"
     ]
    }
   ],
   "source": [
    "x <- 1\n",
    "\n",
    "while (x < 5){\n",
    "    print(paste0(\"x is \", x, \" and the loop keeps going\"))\n",
    "    x <- x + 1\n",
    "    }"
   ]
  },
  {
   "cell_type": "code",
   "execution_count": 20,
   "metadata": {},
   "outputs": [
    {
     "name": "stdout",
     "output_type": "stream",
     "text": [
      "[1] \"the word is banana\"\n",
      "[1] \"the word is bananana\"\n",
      "[1] \"the word is banananana\"\n",
      "[1] \"the word is bananananana\"\n",
      "[1] \"the word is banananananana\"\n",
      "[1] \"the word is bananananananana\"\n",
      "[1] \"the word is banananananananana\"\n",
      "[1] \"the word is bananananananananana\"\n",
      "[1] \"the word is banananananananananana\"\n"
     ]
    }
   ],
   "source": [
    "fruit <- \"banana\"\n",
    "\n",
    "while (nchar(fruit) <= 22){\n",
    "    print(paste0(\"the word is \", fruit))\n",
    "    fruit <- paste0(fruit, \"na\")\n",
    "    }"
   ]
  },
  {
   "cell_type": "markdown",
   "metadata": {},
   "source": [
    "## If-else statements\n",
    "\n",
    "If-else statements allows one to set conditions that has to be met before code is run. \n",
    "\n",
    "The most basic structure contains an \"if\" block\" and an \"else\" block. The \"if\" block contains the code to be run if the condition set is met, while the \"else\" block is run in any other instance."
   ]
  },
  {
   "cell_type": "code",
   "execution_count": 28,
   "metadata": {},
   "outputs": [
    {
     "name": "stdout",
     "output_type": "stream",
     "text": [
      "[1] \"The number is larger than 10!\"\n"
     ]
    }
   ],
   "source": [
    "x <- 12\n",
    "\n",
    "if (x > 10){\n",
    "    print(\"The number is larger than 10!\")\n",
    "    } else {\n",
    "    print(\"The number is not larger than 10!\")\n",
    "    }"
   ]
  },
  {
   "cell_type": "markdown",
   "metadata": {},
   "source": [
    "It is possibly to specify several conditions using `else if`. The code is evaluated in order, meaning that as soon as the condition is met, it will run that block of code. "
   ]
  },
  {
   "cell_type": "code",
   "execution_count": 32,
   "metadata": {},
   "outputs": [
    {
     "name": "stdout",
     "output_type": "stream",
     "text": [
      "[1] \"The number is larger than 5!\"\n"
     ]
    }
   ],
   "source": [
    "x <- 7\n",
    "\n",
    "if (x > 10){\n",
    "    print(\"The number is larger than 10!\")\n",
    "    } else if (x > 5) {\n",
    "    print(\"The number is larger than 5!\")\n",
    "    } else {\n",
    "    print(\"The number is not larger than 5!\")\n",
    "    }"
   ]
  },
  {
   "cell_type": "markdown",
   "metadata": {},
   "source": [
    "Because the code is run the first time a condition is met, other blocks are disregarded even though they also meet the condition."
   ]
  },
  {
   "cell_type": "code",
   "execution_count": 31,
   "metadata": {},
   "outputs": [
    {
     "name": "stdout",
     "output_type": "stream",
     "text": [
      "[1] \"The number is larger than 10!\"\n"
     ]
    }
   ],
   "source": [
    "x <- 11\n",
    "\n",
    "if (x > 10){ # This condition is met - run the code below\n",
    "    print(\"The number is larger than 10!\")\n",
    "    } else if (x > 5) {\n",
    "    print(\"The number is larger than 5!\") # This condition is also met but the code is not run\n",
    "    } else {\n",
    "    print(\"The number is not larger than 5!\")\n",
    "    }"
   ]
  },
  {
   "cell_type": "markdown",
   "metadata": {},
   "source": [
    "## If-statements and for loops\n",
    "\n",
    "If statements are useful when combined with other control structures. By combining for loops and if-statements, one can write code where the commands executed in the for loop differs based on a condition:"
   ]
  },
  {
   "cell_type": "code",
   "execution_count": 41,
   "metadata": {},
   "outputs": [
    {
     "name": "stdout",
     "output_type": "stream",
     "text": [
      "[1] \"1 is not an equal value!\"\n",
      "[1] \"2 is an equal value!\"\n",
      "[1] \"3 is not an equal value!\"\n",
      "[1] \"4 is an equal value!\"\n",
      "[1] \"5 is not an equal value!\"\n",
      "[1] \"6 is an equal value!\"\n",
      "[1] \"7 is not an equal value!\"\n",
      "[1] \"8 is an equal value!\"\n",
      "[1] \"9 is not an equal value!\"\n",
      "[1] \"10 is an equal value!\"\n"
     ]
    }
   ],
   "source": [
    "values <- c(1:10)\n",
    "\n",
    "for (value in values){\n",
    "    if (value %% 2 == 0){\n",
    "        print(paste0(value, \" is an equal value!\"))\n",
    "        } else {\n",
    "        print(paste0(value, \" is not an equal value!\"))\n",
    "        }\n",
    "    }"
   ]
  },
  {
   "cell_type": "markdown",
   "metadata": {},
   "source": [
    "# EXERCISE: CONTROL STRUCTURES\n",
    "\n",
    "- Create a vector of words: `words <- c(\"potato\", \"cat\", \"dog\", \"monitor\", \"carpenter\", \"mouse\", \"refrigerator\")`\n",
    "\n",
    "- Write a for loop that only prints the words with more than 5 characters (the function `nchar` returns the number of characters in a word)."
   ]
  },
  {
   "cell_type": "code",
   "execution_count": 43,
   "metadata": {},
   "outputs": [
    {
     "name": "stdout",
     "output_type": "stream",
     "text": [
      "[1] \"potato\"\n",
      "[1] \"monitor\"\n",
      "[1] \"carpenter\"\n",
      "[1] \"refrigerator\"\n"
     ]
    }
   ],
   "source": [
    "words <- c(\"potato\", \"cat\", \"dog\", \"monitor\", \"carpenter\", \"mouse\", \"refrigerator\")\n",
    "\n",
    "for (word in words){\n",
    "    if (nchar(word) > 5) {\n",
    "        print(word)\n",
    "        } else {\n",
    "        }\n",
    "    }"
   ]
  }
 ],
 "metadata": {
  "kernelspec": {
   "display_name": "R",
   "language": "R",
   "name": "ir"
  },
  "language_info": {
   "codemirror_mode": "r",
   "file_extension": ".r",
   "mimetype": "text/x-r-source",
   "name": "R",
   "pygments_lexer": "r",
   "version": "3.6.1"
  }
 },
 "nbformat": 4,
 "nbformat_minor": 4
}
