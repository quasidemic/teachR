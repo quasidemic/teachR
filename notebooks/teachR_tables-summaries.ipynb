{
 "cells": [
  {
   "cell_type": "code",
   "execution_count": 1,
   "metadata": {},
   "outputs": [
    {
     "name": "stderr",
     "output_type": "stream",
     "text": [
      "Registered S3 methods overwritten by 'ggplot2':\n",
      "  method         from \n",
      "  [.quosures     rlang\n",
      "  c.quosures     rlang\n",
      "  print.quosures rlang\n",
      "Registered S3 method overwritten by 'rvest':\n",
      "  method            from\n",
      "  read_xml.response xml2\n",
      "-- Attaching packages --------------------------------------- tidyverse 1.2.1 --\n",
      "v ggplot2 3.1.1       v purrr   0.3.2  \n",
      "v tibble  2.1.1       v dplyr   0.8.0.1\n",
      "v tidyr   0.8.3       v stringr 1.4.0  \n",
      "v readr   1.3.1       v forcats 0.4.0  \n",
      "-- Conflicts ------------------------------------------ tidyverse_conflicts() --\n",
      "x dplyr::filter() masks stats::filter()\n",
      "x dplyr::lag()    masks stats::lag()\n",
      "Parsed with column specification:\n",
      "cols(\n",
      "  idno = col_double(),\n",
      "  netustm = col_double(),\n",
      "  ppltrst = col_double(),\n",
      "  vote = col_character(),\n",
      "  prtvtddk = col_character(),\n",
      "  lvpntyr = col_character(),\n",
      "  tygrtr = col_character(),\n",
      "  gndr = col_character(),\n",
      "  yrbrn = col_double(),\n",
      "  edlvddk = col_character(),\n",
      "  eduyrs = col_double(),\n",
      "  wkhct = col_double(),\n",
      "  wkhtot = col_double(),\n",
      "  grspnum = col_double(),\n",
      "  frlgrsp = col_double(),\n",
      "  inwtm = col_double()\n",
      ")\n"
     ]
    }
   ],
   "source": [
    "# Setup\n",
    "\n",
    "library(tidyverse)\n",
    "data <- read_csv(\"https://github.com/CALDISS-AAU/workshop_R-intro/raw/master/data/ESS2018DK_subset.csv\")"
   ]
  },
  {
   "cell_type": "markdown",
   "metadata": {},
   "source": [
    "# Summarizing data\n",
    "\n",
    "Summarizing data can be achieved by using base table commands. Alternatively, one could use `group_by()` and `summarise()` for creating summaries at group level."
   ]
  },
  {
   "cell_type": "markdown",
   "metadata": {},
   "source": [
    "## Tables"
   ]
  },
  {
   "cell_type": "markdown",
   "metadata": {},
   "source": [
    "Frequency and contingency tables can be done in a number of different ways in R dependent on the kind of tables you want to make.\n",
    "\n",
    "R has a few built-in functions based around the `table()` function. The `table()` function is used for creating a table object that can then be manipulated.\n",
    "\n",
    "Specifying a single variable creates a one-dimensional frequency table:"
   ]
  },
  {
   "cell_type": "code",
   "execution_count": 2,
   "metadata": {},
   "outputs": [
    {
     "data": {
      "text/plain": [
       "\n",
       "Female   Male \n",
       "   726    846 "
      ]
     },
     "metadata": {},
     "output_type": "display_data"
    }
   ],
   "source": [
    "table(data$gndr)"
   ]
  },
  {
   "cell_type": "markdown",
   "metadata": {},
   "source": [
    "Specifying two variables creates a crosstable of counts of every combination:"
   ]
  },
  {
   "cell_type": "code",
   "execution_count": 3,
   "metadata": {},
   "outputs": [
    {
     "data": {
      "text/plain": [
       "        \n",
       "          No Not eligible to vote Yes\n",
       "  Female  34                   63 626\n",
       "  Male    60                   77 706"
      ]
     },
     "metadata": {},
     "output_type": "display_data"
    }
   ],
   "source": [
    "table(data$gndr, data$vote)"
   ]
  },
  {
   "cell_type": "markdown",
   "metadata": {},
   "source": [
    "The functions `margin.table()` and `prop.table()` are used for frequencies and calculating percentages respectively. They both accept a table object as input."
   ]
  },
  {
   "cell_type": "code",
   "execution_count": 4,
   "metadata": {},
   "outputs": [
    {
     "data": {
      "text/plain": [
       "\n",
       "Female   Male \n",
       "   723    843 "
      ]
     },
     "metadata": {},
     "output_type": "display_data"
    }
   ],
   "source": [
    "ess_table <- table(data$gndr, data$vote) # creating table object (gndr as rows, brncntr as columns)\n",
    "\n",
    "margin.table(ess_table, 1) # gndr frequencies (row frequencies)"
   ]
  },
  {
   "cell_type": "code",
   "execution_count": 5,
   "metadata": {},
   "outputs": [
    {
     "data": {
      "text/plain": [
       "\n",
       "                  No Not eligible to vote                  Yes \n",
       "                  94                  140                 1332 "
      ]
     },
     "metadata": {},
     "output_type": "display_data"
    }
   ],
   "source": [
    "margin.table(ess_table, 2) # brncntr frequencies (column frequencies)"
   ]
  },
  {
   "cell_type": "code",
   "execution_count": 6,
   "metadata": {},
   "outputs": [
    {
     "data": {
      "text/plain": [
       "        \n",
       "                 No Not eligible to vote        Yes\n",
       "  Female 0.04702628           0.08713693 0.86583679\n",
       "  Male   0.07117438           0.09134045 0.83748517"
      ]
     },
     "metadata": {},
     "output_type": "display_data"
    }
   ],
   "source": [
    "prop.table(ess_table, 1) # gndr percentages (rows)"
   ]
  },
  {
   "cell_type": "code",
   "execution_count": 7,
   "metadata": {},
   "outputs": [
    {
     "data": {
      "text/plain": [
       "        \n",
       "                No Not eligible to vote       Yes\n",
       "  Female 0.3617021            0.4500000 0.4699700\n",
       "  Male   0.6382979            0.5500000 0.5300300"
      ]
     },
     "metadata": {},
     "output_type": "display_data"
    }
   ],
   "source": [
    "prop.table(ess_table, 2) # brncntr percentages (columns)"
   ]
  },
  {
   "cell_type": "markdown",
   "metadata": {
    "tags": []
   },
   "source": [
    "### The `CrossTable()` function (part of `gmodels`)\n",
    "\n",
    "The package `gmodels` contains the function `CrossTable()`.\n",
    "\n",
    "`CrossTable` combines the various table functionalities in base R for an easier way to create crosstables. It also makes it easier to include various tests of independence.\n",
    "\n",
    "The line below creates a crosstable for `vote` and `gndr`, displaying percentages column-wise and calculating the chi-squared."
   ]
  },
  {
   "cell_type": "code",
   "execution_count": 8,
   "metadata": {},
   "outputs": [
    {
     "name": "stdout",
     "output_type": "stream",
     "text": [
      "\n",
      " \n",
      "   Cell Contents\n",
      "|-------------------------|\n",
      "|                       N |\n",
      "|           N / Col Total |\n",
      "|-------------------------|\n",
      "\n",
      " \n",
      "Total Observations in Table:  1566 \n",
      "\n",
      " \n",
      "                     | data$gndr \n",
      "           data$vote |    Female |      Male | Row Total | \n",
      "---------------------|-----------|-----------|-----------|\n",
      "                  No |        34 |        60 |        94 | \n",
      "                     |     0.047 |     0.071 |           | \n",
      "---------------------|-----------|-----------|-----------|\n",
      "Not eligible to vote |        63 |        77 |       140 | \n",
      "                     |     0.087 |     0.091 |           | \n",
      "---------------------|-----------|-----------|-----------|\n",
      "                 Yes |       626 |       706 |      1332 | \n",
      "                     |     0.866 |     0.837 |           | \n",
      "---------------------|-----------|-----------|-----------|\n",
      "        Column Total |       723 |       843 |      1566 | \n",
      "                     |     0.462 |     0.538 |           | \n",
      "---------------------|-----------|-----------|-----------|\n",
      "\n",
      " \n",
      "Statistics for All Table Factors\n",
      "\n",
      "\n",
      "Pearson's Chi-squared test \n",
      "------------------------------------------------------------\n",
      "Chi^2 =  4.225705     d.f. =  2     p =  0.1208926 \n",
      "\n",
      "\n",
      " \n"
     ]
    }
   ],
   "source": [
    "library(gmodels)\n",
    "\n",
    "CrossTable(data$vote, data$gndr, prop.r = FALSE, prop.c = TRUE, prop.t = FALSE, prop.chisq = FALSE, chisq = TRUE)"
   ]
  },
  {
   "cell_type": "markdown",
   "metadata": {},
   "source": [
    "## Grouped summaries"
   ]
  },
  {
   "cell_type": "markdown",
   "metadata": {},
   "source": [
    "`group_by()` is part of the `dplyr` package. `group_by()` is used together with `summarise()` for creating summary statistics.\n",
    "\n",
    "Below the mean time spent on the internet per day per gender is calculated and displayed:"
   ]
  },
  {
   "cell_type": "code",
   "execution_count": 9,
   "metadata": {},
   "outputs": [
    {
     "data": {
      "text/html": [
       "<table>\n",
       "<thead><tr><th scope=col>gndr</th><th scope=col>mean_internettime</th></tr></thead>\n",
       "<tbody>\n",
       "\t<tr><td>Female  </td><td>227.5647</td></tr>\n",
       "\t<tr><td>Male    </td><td>236.0696</td></tr>\n",
       "</tbody>\n",
       "</table>\n"
      ],
      "text/latex": [
       "\\begin{tabular}{r|ll}\n",
       " gndr & mean\\_internettime\\\\\n",
       "\\hline\n",
       "\t Female   & 227.5647\\\\\n",
       "\t Male     & 236.0696\\\\\n",
       "\\end{tabular}\n"
      ],
      "text/markdown": [
       "\n",
       "| gndr | mean_internettime |\n",
       "|---|---|\n",
       "| Female   | 227.5647 |\n",
       "| Male     | 236.0696 |\n",
       "\n"
      ],
      "text/plain": [
       "  gndr   mean_internettime\n",
       "1 Female 227.5647         \n",
       "2 Male   236.0696         "
      ]
     },
     "metadata": {},
     "output_type": "display_data"
    }
   ],
   "source": [
    "data %>%\n",
    "    group_by(gndr) %>%\n",
    "    summarise(mean_internettime = mean(netustm, na.rm = TRUE))"
   ]
  },
  {
   "cell_type": "markdown",
   "metadata": {},
   "source": [
    "Several summary statistics can be created for the same grouping:"
   ]
  },
  {
   "cell_type": "code",
   "execution_count": 10,
   "metadata": {},
   "outputs": [
    {
     "data": {
      "text/html": [
       "<table>\n",
       "<thead><tr><th scope=col>gndr</th><th scope=col>mean_age</th><th scope=col>mean_internettime</th><th scope=col>count</th></tr></thead>\n",
       "<tbody>\n",
       "\t<tr><td>Female  </td><td>50.16529</td><td>227.5647</td><td>726     </td></tr>\n",
       "\t<tr><td>Male    </td><td>49.40189</td><td>236.0696</td><td>846     </td></tr>\n",
       "</tbody>\n",
       "</table>\n"
      ],
      "text/latex": [
       "\\begin{tabular}{r|llll}\n",
       " gndr & mean\\_age & mean\\_internettime & count\\\\\n",
       "\\hline\n",
       "\t Female   & 50.16529 & 227.5647 & 726     \\\\\n",
       "\t Male     & 49.40189 & 236.0696 & 846     \\\\\n",
       "\\end{tabular}\n"
      ],
      "text/markdown": [
       "\n",
       "| gndr | mean_age | mean_internettime | count |\n",
       "|---|---|---|---|\n",
       "| Female   | 50.16529 | 227.5647 | 726      |\n",
       "| Male     | 49.40189 | 236.0696 | 846      |\n",
       "\n"
      ],
      "text/plain": [
       "  gndr   mean_age mean_internettime count\n",
       "1 Female 50.16529 227.5647          726  \n",
       "2 Male   49.40189 236.0696          846  "
      ]
     },
     "metadata": {},
     "output_type": "display_data"
    }
   ],
   "source": [
    "data %>%\n",
    "    group_by(gndr) %>%\n",
    "    mutate(age = 2018 - yrbrn) %>%\n",
    "    summarise(mean_age = mean(age),\n",
    "             mean_internettime = mean(netustm, na.rm = TRUE),\n",
    "             count = n())"
   ]
  },
  {
   "cell_type": "markdown",
   "metadata": {},
   "source": [
    "Observations can be grouped based on several variables"
   ]
  },
  {
   "cell_type": "code",
   "execution_count": 11,
   "metadata": {},
   "outputs": [
    {
     "data": {
      "text/html": [
       "<table>\n",
       "<thead><tr><th scope=col>gndr</th><th scope=col>vote</th><th scope=col>mean_age</th><th scope=col>mean_internettime</th><th scope=col>count</th></tr></thead>\n",
       "<tbody>\n",
       "\t<tr><td>Female              </td><td>NA                  </td><td>56.00000            </td><td>240.0000            </td><td>  3                 </td></tr>\n",
       "\t<tr><td>Female              </td><td>No                  </td><td>45.32353            </td><td>280.0417            </td><td> 34                 </td></tr>\n",
       "\t<tr><td>Female              </td><td>Not eligible to vote</td><td>26.34921            </td><td>299.4839            </td><td> 63                 </td></tr>\n",
       "\t<tr><td>Female              </td><td>Yes                 </td><td>52.79712            </td><td>217.0458            </td><td>626                 </td></tr>\n",
       "\t<tr><td>Male                </td><td>NA                  </td><td>39.66667            </td><td>272.6667            </td><td>  3                 </td></tr>\n",
       "\t<tr><td>Male                </td><td>No                  </td><td>41.70000            </td><td>295.4118            </td><td> 60                 </td></tr>\n",
       "\t<tr><td>Male                </td><td>Not eligible to vote</td><td>23.57143            </td><td>324.3421            </td><td> 77                 </td></tr>\n",
       "\t<tr><td>Male                </td><td>Yes                 </td><td>52.91501            </td><td>220.4675            </td><td>706                 </td></tr>\n",
       "</tbody>\n",
       "</table>\n"
      ],
      "text/latex": [
       "\\begin{tabular}{r|lllll}\n",
       " gndr & vote & mean\\_age & mean\\_internettime & count\\\\\n",
       "\\hline\n",
       "\t Female               & NA                   & 56.00000             & 240.0000             &   3                 \\\\\n",
       "\t Female               & No                   & 45.32353             & 280.0417             &  34                 \\\\\n",
       "\t Female               & Not eligible to vote & 26.34921             & 299.4839             &  63                 \\\\\n",
       "\t Female               & Yes                  & 52.79712             & 217.0458             & 626                 \\\\\n",
       "\t Male                 & NA                   & 39.66667             & 272.6667             &   3                 \\\\\n",
       "\t Male                 & No                   & 41.70000             & 295.4118             &  60                 \\\\\n",
       "\t Male                 & Not eligible to vote & 23.57143             & 324.3421             &  77                 \\\\\n",
       "\t Male                 & Yes                  & 52.91501             & 220.4675             & 706                 \\\\\n",
       "\\end{tabular}\n"
      ],
      "text/markdown": [
       "\n",
       "| gndr | vote | mean_age | mean_internettime | count |\n",
       "|---|---|---|---|---|\n",
       "| Female               | NA                   | 56.00000             | 240.0000             |   3                  |\n",
       "| Female               | No                   | 45.32353             | 280.0417             |  34                  |\n",
       "| Female               | Not eligible to vote | 26.34921             | 299.4839             |  63                  |\n",
       "| Female               | Yes                  | 52.79712             | 217.0458             | 626                  |\n",
       "| Male                 | NA                   | 39.66667             | 272.6667             |   3                  |\n",
       "| Male                 | No                   | 41.70000             | 295.4118             |  60                  |\n",
       "| Male                 | Not eligible to vote | 23.57143             | 324.3421             |  77                  |\n",
       "| Male                 | Yes                  | 52.91501             | 220.4675             | 706                  |\n",
       "\n"
      ],
      "text/plain": [
       "  gndr   vote                 mean_age mean_internettime count\n",
       "1 Female NA                   56.00000 240.0000            3  \n",
       "2 Female No                   45.32353 280.0417           34  \n",
       "3 Female Not eligible to vote 26.34921 299.4839           63  \n",
       "4 Female Yes                  52.79712 217.0458          626  \n",
       "5 Male   NA                   39.66667 272.6667            3  \n",
       "6 Male   No                   41.70000 295.4118           60  \n",
       "7 Male   Not eligible to vote 23.57143 324.3421           77  \n",
       "8 Male   Yes                  52.91501 220.4675          706  "
      ]
     },
     "metadata": {},
     "output_type": "display_data"
    }
   ],
   "source": [
    "data %>%\n",
    "    group_by(gndr, vote) %>%\n",
    "    mutate(age = 2018 - yrbrn) %>%\n",
    "    summarise(mean_age = mean(age),\n",
    "             mean_internettime = mean(netustm, na.rm = TRUE),\n",
    "             count = n())"
   ]
  },
  {
   "cell_type": "markdown",
   "metadata": {},
   "source": [
    "### Tabulating with `tidyverse`\n",
    "\n",
    "There are various ways of creating tables and cross-tables using functions from the tidyverse.\n",
    "\n",
    "`count()` (part of `dplyr`) can be used for frequency tables:"
   ]
  },
  {
   "cell_type": "code",
   "execution_count": 12,
   "metadata": {},
   "outputs": [
    {
     "data": {
      "text/html": [
       "<table>\n",
       "<thead><tr><th scope=col>gndr</th><th scope=col>n</th></tr></thead>\n",
       "<tbody>\n",
       "\t<tr><td>Female</td><td>726   </td></tr>\n",
       "\t<tr><td>Male  </td><td>846   </td></tr>\n",
       "</tbody>\n",
       "</table>\n"
      ],
      "text/latex": [
       "\\begin{tabular}{r|ll}\n",
       " gndr & n\\\\\n",
       "\\hline\n",
       "\t Female & 726   \\\\\n",
       "\t Male   & 846   \\\\\n",
       "\\end{tabular}\n"
      ],
      "text/markdown": [
       "\n",
       "| gndr | n |\n",
       "|---|---|\n",
       "| Female | 726    |\n",
       "| Male   | 846    |\n",
       "\n"
      ],
      "text/plain": [
       "  gndr   n  \n",
       "1 Female 726\n",
       "2 Male   846"
      ]
     },
     "metadata": {},
     "output_type": "display_data"
    }
   ],
   "source": [
    "library(dplyr)\n",
    "\n",
    "data %>%\n",
    "    count(gndr)"
   ]
  },
  {
   "cell_type": "markdown",
   "metadata": {},
   "source": [
    "Crosstables can be achieved by combining `group_by()` summaries with `pivot_wider()`:"
   ]
  },
  {
   "cell_type": "code",
   "execution_count": 13,
   "metadata": {},
   "outputs": [
    {
     "data": {
      "text/html": [
       "<table>\n",
       "<thead><tr><th scope=col>vote</th><th scope=col>Female</th><th scope=col>Male</th></tr></thead>\n",
       "<tbody>\n",
       "\t<tr><td>No                  </td><td> 34                 </td><td> 60                 </td></tr>\n",
       "\t<tr><td>Not eligible to vote</td><td> 63                 </td><td> 77                 </td></tr>\n",
       "\t<tr><td>Yes                 </td><td>626                 </td><td>706                 </td></tr>\n",
       "\t<tr><td>NA                  </td><td>  3                 </td><td>  3                 </td></tr>\n",
       "</tbody>\n",
       "</table>\n"
      ],
      "text/latex": [
       "\\begin{tabular}{r|lll}\n",
       " vote & Female & Male\\\\\n",
       "\\hline\n",
       "\t No                   &  34                  &  60                 \\\\\n",
       "\t Not eligible to vote &  63                  &  77                 \\\\\n",
       "\t Yes                  & 626                  & 706                 \\\\\n",
       "\t NA                   &   3                  &   3                 \\\\\n",
       "\\end{tabular}\n"
      ],
      "text/markdown": [
       "\n",
       "| vote | Female | Male |\n",
       "|---|---|---|\n",
       "| No                   |  34                  |  60                  |\n",
       "| Not eligible to vote |  63                  |  77                  |\n",
       "| Yes                  | 626                  | 706                  |\n",
       "| NA                   |   3                  |   3                  |\n",
       "\n"
      ],
      "text/plain": [
       "  vote                 Female Male\n",
       "1 No                    34     60 \n",
       "2 Not eligible to vote  63     77 \n",
       "3 Yes                  626    706 \n",
       "4 NA                     3      3 "
      ]
     },
     "metadata": {},
     "output_type": "display_data"
    }
   ],
   "source": [
    "library(tidyr)\n",
    "\n",
    "data %>%\n",
    "  group_by(gndr, vote)%>%\n",
    "  summarise(n=n())%>%\n",
    "  pivot_wider(names_from = gndr, values_from = n)"
   ]
  }
 ],
 "metadata": {
  "kernelspec": {
   "display_name": "R",
   "language": "R",
   "name": "ir"
  },
  "language_info": {
   "codemirror_mode": "r",
   "file_extension": ".r",
   "mimetype": "text/x-r-source",
   "name": "R",
   "pygments_lexer": "r",
   "version": "3.6.3"
  }
 },
 "nbformat": 4,
 "nbformat_minor": 4
}
