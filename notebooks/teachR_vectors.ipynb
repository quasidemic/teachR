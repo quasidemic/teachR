{
 "cells": [
  {
   "cell_type": "code",
   "execution_count": 1,
   "metadata": {},
   "outputs": [
    {
     "name": "stderr",
     "output_type": "stream",
     "text": [
      "Parsed with column specification:\n",
      "cols(\n",
      "  idno = col_double(),\n",
      "  netustm = col_double(),\n",
      "  ppltrst = col_double(),\n",
      "  vote = col_character(),\n",
      "  prtvtddk = col_character(),\n",
      "  lvpntyr = col_character(),\n",
      "  tygrtr = col_character(),\n",
      "  gndr = col_character(),\n",
      "  yrbrn = col_double(),\n",
      "  edlvddk = col_character(),\n",
      "  eduyrs = col_double(),\n",
      "  wkhct = col_double(),\n",
      "  wkhtot = col_double(),\n",
      "  grspnum = col_double(),\n",
      "  frlgrsp = col_double(),\n",
      "  inwtm = col_double()\n",
      ")\n"
     ]
    }
   ],
   "source": [
    "# Setup\n",
    "\n",
    "library(readr)\n",
    "data <- read_csv(\"https://github.com/CALDISS-AAU/workshop_R-intro/raw/master/data/ESS2018DK_subset.csv\")"
   ]
  },
  {
   "cell_type": "markdown",
   "metadata": {},
   "source": [
    "# Vectors\n",
    "\n",
    "A \"vector\" is a basic data structure in R."
   ]
  },
  {
   "cell_type": "markdown",
   "metadata": {
    "slideshow": {
     "slide_type": "slide"
    }
   },
   "source": [
    "## Constructing vectors\n",
    "\n",
    "Vectors can be created using `c()`:"
   ]
  },
  {
   "cell_type": "code",
   "execution_count": 2,
   "metadata": {
    "slideshow": {
     "slide_type": "fragment"
    }
   },
   "outputs": [],
   "source": [
    "names  <- c('araya', 'keenan', 'townsend')\n",
    "years <- c(1961, 1964, 1972)"
   ]
  },
  {
   "cell_type": "code",
   "execution_count": 3,
   "metadata": {
    "slideshow": {
     "slide_type": "fragment"
    }
   },
   "outputs": [
    {
     "name": "stdout",
     "output_type": "stream",
     "text": [
      "[1] \"araya\"    \"keenan\"   \"townsend\"\n",
      "[1] 1961 1964 1972\n"
     ]
    }
   ],
   "source": [
    "print(names)\n",
    "print(years)"
   ]
  },
  {
   "cell_type": "code",
   "execution_count": 4,
   "metadata": {
    "slideshow": {
     "slide_type": "fragment"
    }
   },
   "outputs": [
    {
     "data": {
      "text/html": [
       "1965.66666666667"
      ],
      "text/latex": [
       "1965.66666666667"
      ],
      "text/markdown": [
       "1965.66666666667"
      ],
      "text/plain": [
       "[1] 1965.667"
      ]
     },
     "metadata": {},
     "output_type": "display_data"
    }
   ],
   "source": [
    "mean(years)"
   ]
  },
  {
   "cell_type": "markdown",
   "metadata": {
    "slideshow": {
     "slide_type": "slide"
    }
   },
   "source": [
    "Notice that vectors can only store values of the same type/class.\n",
    "\n",
    "When trying to combine different types in a vector, R will coerce all values to a type compatible with all values (if possible)"
   ]
  },
  {
   "cell_type": "code",
   "execution_count": 5,
   "metadata": {
    "slideshow": {
     "slide_type": "fragment"
    }
   },
   "outputs": [],
   "source": [
    "names_years <- c('araya', 1961, 'keenan', 1964)"
   ]
  },
  {
   "cell_type": "code",
   "execution_count": 6,
   "metadata": {
    "slideshow": {
     "slide_type": "fragment"
    }
   },
   "outputs": [
    {
     "data": {
      "text/html": [
       "<ol class=list-inline>\n",
       "\t<li>'araya'</li>\n",
       "\t<li>'1961'</li>\n",
       "\t<li>'keenan'</li>\n",
       "\t<li>'1964'</li>\n",
       "</ol>\n"
      ],
      "text/latex": [
       "\\begin{enumerate*}\n",
       "\\item 'araya'\n",
       "\\item '1961'\n",
       "\\item 'keenan'\n",
       "\\item '1964'\n",
       "\\end{enumerate*}\n"
      ],
      "text/markdown": [
       "1. 'araya'\n",
       "2. '1961'\n",
       "3. 'keenan'\n",
       "4. '1964'\n",
       "\n",
       "\n"
      ],
      "text/plain": [
       "[1] \"araya\"  \"1961\"   \"keenan\" \"1964\"  "
      ]
     },
     "metadata": {},
     "output_type": "display_data"
    }
   ],
   "source": [
    "names_years # Notice the numbers are now converted to text"
   ]
  },
  {
   "cell_type": "markdown",
   "metadata": {},
   "source": [
    "## Types of vectors\n",
    "\n",
    "There are six types of vectors: logical, integer, double, character, complex, and raw.\n",
    "\n",
    "The types primarily used for data analysis are: logical, integer, double, character.\n",
    "\n",
    "\"integer\" and \"double\" are both referred to as *numeric vectors* (whole number and decimal point, respectively).\n",
    "\n",
    "The type of vector can be examined with either `typeof` or `class`:"
   ]
  },
  {
   "cell_type": "code",
   "execution_count": 7,
   "metadata": {},
   "outputs": [
    {
     "name": "stdout",
     "output_type": "stream",
     "text": [
      "[1] \"character\"\n",
      "[1] \"numeric\"\n"
     ]
    }
   ],
   "source": [
    "print(class(names))\n",
    "print(class(years))"
   ]
  },
  {
   "cell_type": "code",
   "execution_count": 8,
   "metadata": {},
   "outputs": [
    {
     "name": "stdout",
     "output_type": "stream",
     "text": [
      "[1] \"double\"\n"
     ]
    }
   ],
   "source": [
    "print(typeof(years))"
   ]
  },
  {
   "cell_type": "markdown",
   "metadata": {
    "slideshow": {
     "slide_type": "slide"
    }
   },
   "source": [
    "# Data frames and vectors\n",
    "\n",
    "Data frames are essentially a collection of same length vectors.\n",
    "\n",
    "R treats single columns (or variables) as \"vectors\". \n",
    "\n",
    "One refers to a single column in a data frame with `$` (a vector)."
   ]
  },
  {
   "cell_type": "code",
   "execution_count": 9,
   "metadata": {
    "slideshow": {
     "slide_type": "fragment"
    }
   },
   "outputs": [
    {
     "data": {
      "text/html": [
       "<ol class=list-inline>\n",
       "\t<li>1949</li>\n",
       "\t<li>1958</li>\n",
       "\t<li>2000</li>\n",
       "\t<li>2002</li>\n",
       "\t<li>1956</li>\n",
       "\t<li>1974</li>\n",
       "</ol>\n"
      ],
      "text/latex": [
       "\\begin{enumerate*}\n",
       "\\item 1949\n",
       "\\item 1958\n",
       "\\item 2000\n",
       "\\item 2002\n",
       "\\item 1956\n",
       "\\item 1974\n",
       "\\end{enumerate*}\n"
      ],
      "text/markdown": [
       "1. 1949\n",
       "2. 1958\n",
       "3. 2000\n",
       "4. 2002\n",
       "5. 1956\n",
       "6. 1974\n",
       "\n",
       "\n"
      ],
      "text/plain": [
       "[1] 1949 1958 2000 2002 1956 1974"
      ]
     },
     "metadata": {},
     "output_type": "display_data"
    }
   ],
   "source": [
    "head(data$yrbrn) # First six values of yrbrn variable"
   ]
  },
  {
   "cell_type": "markdown",
   "metadata": {
    "slideshow": {
     "slide_type": "slide"
    }
   },
   "source": [
    "Each value in a vector is assigned an index refering to the position of the value in the vector (starts from 1).\n",
    "\n",
    "A vector is indexed using `[]`:"
   ]
  },
  {
   "cell_type": "code",
   "execution_count": 10,
   "metadata": {
    "slideshow": {
     "slide_type": "fragment"
    }
   },
   "outputs": [
    {
     "data": {
      "text/html": [
       "1974"
      ],
      "text/latex": [
       "1974"
      ],
      "text/markdown": [
       "1974"
      ],
      "text/plain": [
       "[1] 1974"
      ]
     },
     "metadata": {},
     "output_type": "display_data"
    }
   ],
   "source": [
    "data$yrbrn[10] # Returns the 10th value (row 10) of the yrbrn variable"
   ]
  },
  {
   "cell_type": "code",
   "execution_count": 11,
   "metadata": {
    "slideshow": {
     "slide_type": "fragment"
    }
   },
   "outputs": [
    {
     "data": {
      "text/html": [
       "<ol class=list-inline>\n",
       "\t<li>1958</li>\n",
       "\t<li>2000</li>\n",
       "\t<li>2002</li>\n",
       "\t<li>1956</li>\n",
       "\t<li>1974</li>\n",
       "\t<li>1975</li>\n",
       "\t<li>1958</li>\n",
       "\t<li>1964</li>\n",
       "\t<li>1974</li>\n",
       "</ol>\n"
      ],
      "text/latex": [
       "\\begin{enumerate*}\n",
       "\\item 1958\n",
       "\\item 2000\n",
       "\\item 2002\n",
       "\\item 1956\n",
       "\\item 1974\n",
       "\\item 1975\n",
       "\\item 1958\n",
       "\\item 1964\n",
       "\\item 1974\n",
       "\\end{enumerate*}\n"
      ],
      "text/markdown": [
       "1. 1958\n",
       "2. 2000\n",
       "3. 2002\n",
       "4. 1956\n",
       "5. 1974\n",
       "6. 1975\n",
       "7. 1958\n",
       "8. 1964\n",
       "9. 1974\n",
       "\n",
       "\n"
      ],
      "text/plain": [
       "[1] 1958 2000 2002 1956 1974 1975 1958 1964 1974"
      ]
     },
     "metadata": {},
     "output_type": "display_data"
    }
   ],
   "source": [
    "data$yrbrn[2:10] # Returns value 2-10 of the yrbn variable (both inclusive)"
   ]
  },
  {
   "cell_type": "markdown",
   "metadata": {
    "slideshow": {
     "slide_type": "slide"
    }
   },
   "source": [
    "A range of useful functions exist for calculating descriptive measures for a vector; fx `mean()`, `min()`, `max()` and `length()`."
   ]
  },
  {
   "cell_type": "code",
   "execution_count": 12,
   "metadata": {
    "slideshow": {
     "slide_type": "fragment"
    }
   },
   "outputs": [
    {
     "data": {
      "text/html": [
       "1929"
      ],
      "text/latex": [
       "1929"
      ],
      "text/markdown": [
       "1929"
      ],
      "text/plain": [
       "[1] 1929"
      ]
     },
     "metadata": {},
     "output_type": "display_data"
    },
    {
     "data": {
      "text/html": [
       "2003"
      ],
      "text/latex": [
       "2003"
      ],
      "text/markdown": [
       "2003"
      ],
      "text/plain": [
       "[1] 2003"
      ]
     },
     "metadata": {},
     "output_type": "display_data"
    },
    {
     "data": {
      "text/html": [
       "1968.24554707379"
      ],
      "text/latex": [
       "1968.24554707379"
      ],
      "text/markdown": [
       "1968.24554707379"
      ],
      "text/plain": [
       "[1] 1968.246"
      ]
     },
     "metadata": {},
     "output_type": "display_data"
    },
    {
     "data": {
      "text/html": [
       "1572"
      ],
      "text/latex": [
       "1572"
      ],
      "text/markdown": [
       "1572"
      ],
      "text/plain": [
       "[1] 1572"
      ]
     },
     "metadata": {},
     "output_type": "display_data"
    }
   ],
   "source": [
    "min(data$yrbrn) # Returns smallest value\n",
    "max(data$yrbrn) # Returns largest value\n",
    "mean(data$yrbrn) # Returns mean value\n",
    "length(data$yrbrn) # Returns number of values in the vector (corresponding to the number of rows)"
   ]
  },
  {
   "cell_type": "markdown",
   "metadata": {
    "slideshow": {
     "slide_type": "slide"
    }
   },
   "source": [
    "`unique()` returns the unique values in a vector (useful for getting familiar with a variable):"
   ]
  },
  {
   "cell_type": "code",
   "execution_count": 13,
   "metadata": {
    "slideshow": {
     "slide_type": "fragment"
    }
   },
   "outputs": [
    {
     "data": {
      "text/html": [
       "<ol class=list-inline>\n",
       "\t<li>8</li>\n",
       "\t<li>5</li>\n",
       "\t<li>7</li>\n",
       "\t<li>9</li>\n",
       "\t<li>4</li>\n",
       "\t<li>6</li>\n",
       "\t<li>2</li>\n",
       "\t<li>10</li>\n",
       "\t<li>3</li>\n",
       "\t<li>1</li>\n",
       "\t<li>0</li>\n",
       "\t<li>&lt;NA&gt;</li>\n",
       "</ol>\n"
      ],
      "text/latex": [
       "\\begin{enumerate*}\n",
       "\\item 8\n",
       "\\item 5\n",
       "\\item 7\n",
       "\\item 9\n",
       "\\item 4\n",
       "\\item 6\n",
       "\\item 2\n",
       "\\item 10\n",
       "\\item 3\n",
       "\\item 1\n",
       "\\item 0\n",
       "\\item <NA>\n",
       "\\end{enumerate*}\n"
      ],
      "text/markdown": [
       "1. 8\n",
       "2. 5\n",
       "3. 7\n",
       "4. 9\n",
       "5. 4\n",
       "6. 6\n",
       "7. 2\n",
       "8. 10\n",
       "9. 3\n",
       "10. 1\n",
       "11. 0\n",
       "12. &lt;NA&gt;\n",
       "\n",
       "\n"
      ],
      "text/plain": [
       " [1]  8  5  7  9  4  6  2 10  3  1  0 NA"
      ]
     },
     "metadata": {},
     "output_type": "display_data"
    }
   ],
   "source": [
    "unique(data$ppltrst)"
   ]
  },
  {
   "cell_type": "markdown",
   "metadata": {
    "slideshow": {
     "slide_type": "slide"
    }
   },
   "source": [
    "## Useful operations and functions on vectors\n",
    "Below are some examples of different commands to interact with vectors.\n",
    "\n",
    "| Code   | Description |\n",
    "|:-------|:------------|\n",
    "|`my_vec[-3]` | Everything but the 3rd element |\n",
    "|`my_vec[c(1,4)]` | The 1st and 4th element |\n",
    "|`my_vec[c(2:4)]` | The elements from index 2 to 4 |\n",
    "|`length(my_vec)` | The number of elements |\n",
    "|`sort(my_vec)` | Sorts the elements in ascending order |\n",
    "|`sum(my_vec)` | The sum of the vector elements (numeric) |\n",
    "|`mean(my_vec)`| The mean of the vector elements (numeric) |\n",
    "|`min(my_vec)` | The vector element with the lowest value (numeric) |\n",
    "|`max(my_vec)` | The vector element with the highest value (numeric)"
   ]
  },
  {
   "cell_type": "markdown",
   "metadata": {
    "slideshow": {
     "slide_type": "slide"
    }
   },
   "source": [
    "## Missing values\n",
    "\n",
    "Data will often contain missing values. Missing values can denote a lot of things like a non-response, an invalid answer, an inaccessible information and so on. \n",
    "\n",
    "Missing values are used to assign a value without assigning a value. They are denotes as `NA` in R.\n",
    "\n",
    "The `summary()` function includes information about the number of missing values:"
   ]
  },
  {
   "cell_type": "code",
   "execution_count": 14,
   "metadata": {
    "slideshow": {
     "slide_type": "fragment"
    }
   },
   "outputs": [
    {
     "data": {
      "text/plain": [
       "   Min. 1st Qu.  Median    Mean 3rd Qu.    Max.    NA's \n",
       "  17.00   50.00   59.00   62.68   70.00  613.00       6 "
      ]
     },
     "metadata": {},
     "output_type": "display_data"
    }
   ],
   "source": [
    "summary(data$inwtm)"
   ]
  },
  {
   "cell_type": "markdown",
   "metadata": {
    "slideshow": {
     "slide_type": "slide"
    }
   },
   "source": [
    "Missing values are neither high or low in R. This means that it is not possible to perform computations on missing values:"
   ]
  },
  {
   "cell_type": "code",
   "execution_count": 15,
   "metadata": {
    "slideshow": {
     "slide_type": "fragment"
    }
   },
   "outputs": [
    {
     "data": {
      "text/html": [
       "&lt;NA&gt;"
      ],
      "text/latex": [
       "<NA>"
      ],
      "text/markdown": [
       "&lt;NA&gt;"
      ],
      "text/plain": [
       "[1] NA"
      ]
     },
     "metadata": {},
     "output_type": "display_data"
    },
    {
     "data": {
      "text/html": [
       "&lt;NA&gt;"
      ],
      "text/latex": [
       "<NA>"
      ],
      "text/markdown": [
       "&lt;NA&gt;"
      ],
      "text/plain": [
       "[1] NA"
      ]
     },
     "metadata": {},
     "output_type": "display_data"
    },
    {
     "data": {
      "text/html": [
       "&lt;NA&gt;"
      ],
      "text/latex": [
       "<NA>"
      ],
      "text/markdown": [
       "&lt;NA&gt;"
      ],
      "text/plain": [
       "[1] NA"
      ]
     },
     "metadata": {},
     "output_type": "display_data"
    }
   ],
   "source": [
    "min(data$inwtm) # NA is neither high or low - returns NA\n",
    "max(data$inwtm) # NA is neither high or low - returns NA\n",
    "mean(data$inwtm) # NA is neither high or low - returns NA"
   ]
  },
  {
   "cell_type": "markdown",
   "metadata": {
    "slideshow": {
     "slide_type": "fragment"
    }
   },
   "source": [
    "Usually one will have to deal with the missing values in some ways - either by replacing them or removing them.\n",
    "\n",
    "Some functions have a built-in arguement for dealing with missing values.\n",
    "\n",
    "Looking at the help file for `max()` (`?max`), we can see an arguement called `na.rm`. We can see that this arguement is used for removing missing values when performing the calculation.\n",
    "\n",
    "Notice that in the help file, the arguement is set `na.rm = FALSE`. This is the default setting of the function, meaning that unless otherwise specified, the function will run with the arguement set to `FALSE` (missing values will be kep)\n",
    "\n",
    "Changing the arguement when calling the function, the missing values are removed:"
   ]
  },
  {
   "cell_type": "code",
   "execution_count": 16,
   "metadata": {},
   "outputs": [
    {
     "data": {
      "text/html": [
       "613"
      ],
      "text/latex": [
       "613"
      ],
      "text/markdown": [
       "613"
      ],
      "text/plain": [
       "[1] 613"
      ]
     },
     "metadata": {},
     "output_type": "display_data"
    }
   ],
   "source": [
    "max(data$inwtm, na.rm = TRUE)"
   ]
  }
 ],
 "metadata": {
  "kernelspec": {
   "display_name": "R",
   "language": "R",
   "name": "ir"
  },
  "language_info": {
   "codemirror_mode": "r",
   "file_extension": ".r",
   "mimetype": "text/x-r-source",
   "name": "R",
   "pygments_lexer": "r",
   "version": "3.6.3"
  }
 },
 "nbformat": 4,
 "nbformat_minor": 4
}
